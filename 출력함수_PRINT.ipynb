{
  "nbformat": 4,
  "nbformat_minor": 0,
  "metadata": {
    "colab": {
      "provenance": [],
      "authorship_tag": "ABX9TyOnoOOhrJwe7NMP8zD/T5bi",
      "include_colab_link": true
    },
    "kernelspec": {
      "name": "python3",
      "display_name": "Python 3"
    },
    "language_info": {
      "name": "python"
    }
  },
  "cells": [
    {
      "cell_type": "markdown",
      "metadata": {
        "id": "view-in-github",
        "colab_type": "text"
      },
      "source": [
        "<a href=\"https://colab.research.google.com/github/SungjaeS/orm/blob/main/%EC%B6%9C%EB%A0%A5%ED%95%A8%EC%88%98_PRINT.ipynb\" target=\"_parent\"><img src=\"https://colab.research.google.com/assets/colab-badge.svg\" alt=\"Open In Colab\"/></a>"
      ]
    },
    {
      "cell_type": "markdown",
      "source": [
        "# 출력함수 Print"
      ],
      "metadata": {
        "id": "kLMqS3RcPkxp"
      }
    },
    {
      "cell_type": "code",
      "source": [
        "# 2. 여러값 출력\n",
        "\n",
        "print(\"hello\", \"world\", \"!\")"
      ],
      "metadata": {
        "id": "xxzeOLWjPrkm"
      },
      "execution_count": null,
      "outputs": []
    },
    {
      "cell_type": "code",
      "source": [
        "# 3. sep 구분자\n",
        "\n",
        "Print(\"hello\", \"world\", \"!\" sep = \"-\")"
      ],
      "metadata": {
        "colab": {
          "base_uri": "https://localhost:8080/",
          "height": 147
        },
        "id": "L1yIsKPMP4nA",
        "outputId": "5389287d-074d-4917-8100-951fb714fbd2"
      },
      "execution_count": 2,
      "outputs": [
        {
          "output_type": "error",
          "ename": "SyntaxError",
          "evalue": "ignored",
          "traceback": [
            "\u001b[0;36m  File \u001b[0;32m\"<ipython-input-2-fe2920c9c09d>\"\u001b[0;36m, line \u001b[0;32m3\u001b[0m\n\u001b[0;31m    Print(\"hello\", \"world\", \"!\" sep = \"-\")\u001b[0m\n\u001b[0m                            ^\u001b[0m\n\u001b[0;31mSyntaxError\u001b[0m\u001b[0;31m:\u001b[0m invalid syntax. Perhaps you forgot a comma?\n"
          ]
        }
      ]
    },
    {
      "cell_type": "code",
      "source": [
        "# 1. 여러줄 출력\n",
        "\n",
        "'출력합니다.'\n",
        "'출력합니다.'"
      ],
      "metadata": {
        "colab": {
          "base_uri": "https://localhost:8080/",
          "height": 35
        },
        "id": "-qgtIv7RQGIt",
        "outputId": "a1b1488b-d615-45f7-ee17-9292c8147d3f"
      },
      "execution_count": 1,
      "outputs": [
        {
          "output_type": "execute_result",
          "data": {
            "text/plain": [
              "'출력합니다.'"
            ],
            "application/vnd.google.colaboratory.intrinsic+json": {
              "type": "string"
            }
          },
          "metadata": {},
          "execution_count": 1
        }
      ]
    },
    {
      "cell_type": "code",
      "source": [],
      "metadata": {
        "id": "5_GQekVZQbDH"
      },
      "execution_count": null,
      "outputs": []
    }
  ]
}