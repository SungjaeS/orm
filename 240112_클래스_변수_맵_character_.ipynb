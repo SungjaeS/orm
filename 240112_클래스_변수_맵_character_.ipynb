{
  "nbformat": 4,
  "nbformat_minor": 0,
  "metadata": {
    "colab": {
      "provenance": [],
      "authorship_tag": "ABX9TyNoj27Z4dRNtv/CfLBQ0qwJ",
      "include_colab_link": true
    },
    "kernelspec": {
      "name": "python3",
      "display_name": "Python 3"
    },
    "language_info": {
      "name": "python"
    }
  },
  "cells": [
    {
      "cell_type": "markdown",
      "metadata": {
        "id": "view-in-github",
        "colab_type": "text"
      },
      "source": [
        "<a href=\"https://colab.research.google.com/github/SungjaeS/orm/blob/main/240112_%ED%81%B4%EB%9E%98%EC%8A%A4_%EB%B3%80%EC%88%98_%EB%A7%B5_character_.ipynb\" target=\"_parent\"><img src=\"https://colab.research.google.com/assets/colab-badge.svg\" alt=\"Open In Colab\"/></a>"
      ]
    },
    {
      "cell_type": "code",
      "execution_count": null,
      "metadata": {
        "id": "uxS4CEhPbw3H"
      },
      "outputs": [],
      "source": [
        "l = [lambda x, y: x + y, lambda x, y: x - y, lambda x, y: x / y, lambda x, y: x * y]\n",
        "l[0](10, 20)"
      ]
    },
    {
      "cell_type": "code",
      "source": [
        "list(map(int, ['1', '11', 100, '77']))"
      ],
      "metadata": {
        "colab": {
          "base_uri": "https://localhost:8080/"
        },
        "id": "sT40zq-IeKba",
        "outputId": "41f92739-cd20-419d-fe7d-e31156e2cb64"
      },
      "execution_count": null,
      "outputs": [
        {
          "output_type": "execute_result",
          "data": {
            "text/plain": [
              "[1, 11, 100, 77]"
            ]
          },
          "metadata": {},
          "execution_count": 1
        }
      ]
    },
    {
      "cell_type": "code",
      "source": [
        "list(map(str, ['1', '11', 100, '77']))"
      ],
      "metadata": {
        "colab": {
          "base_uri": "https://localhost:8080/"
        },
        "id": "zWxLKd1DeZT0",
        "outputId": "db013579-814a-4ceb-ee99-38c0ee201c29"
      },
      "execution_count": null,
      "outputs": [
        {
          "output_type": "execute_result",
          "data": {
            "text/plain": [
              "['1', '11', '100', '77']"
            ]
          },
          "metadata": {},
          "execution_count": 2
        }
      ]
    },
    {
      "cell_type": "code",
      "source": [
        "list(map(str. isdigit, 'he1llo w2orl3d'))"
      ],
      "metadata": {
        "colab": {
          "base_uri": "https://localhost:8080/"
        },
        "id": "a-ffMpxUemAx",
        "outputId": "bf35201a-09ac-44db-8c91-70467b9c4992"
      },
      "execution_count": null,
      "outputs": [
        {
          "output_type": "execute_result",
          "data": {
            "text/plain": [
              "[False,\n",
              " False,\n",
              " True,\n",
              " False,\n",
              " False,\n",
              " False,\n",
              " False,\n",
              " False,\n",
              " True,\n",
              " False,\n",
              " False,\n",
              " False,\n",
              " True,\n",
              " False]"
            ]
          },
          "metadata": {},
          "execution_count": 4
        }
      ]
    },
    {
      "cell_type": "code",
      "source": [
        "list(filter(str. isdigit, 'he1llo w2orl3d'))"
      ],
      "metadata": {
        "colab": {
          "base_uri": "https://localhost:8080/"
        },
        "id": "a7yUD3a9e1Ec",
        "outputId": "e06f0aac-5ae6-4f5d-aad2-fdfd75d44919"
      },
      "execution_count": null,
      "outputs": [
        {
          "output_type": "execute_result",
          "data": {
            "text/plain": [
              "['1', '2', '3']"
            ]
          },
          "metadata": {},
          "execution_count": 3
        }
      ]
    },
    {
      "cell_type": "code",
      "source": [
        "# 복습X ((중요도는 좀 있어서, 복습 시간에 가능하면 한 번 복습해보시길 권해드립니다.)\n",
        "# 난이도가 있는 것, 지금 몰라도 되나 개발자가 되려면 알아야한다.\n",
        "\n",
        "요일 = {\n",
        "    0: '일요일',\n",
        "    1: '월요일',\n",
        "    2: '화요일',\n",
        "    3: '수요일',\n",
        "    4: '목요일',\n",
        "    5: '금요일',\n",
        "    6: '토요일',\n",
        "    }\n",
        "\n",
        "def 함수(x)\n",
        "#    return 요일[x] # 요래쓰면 리젝당함.\n",
        "    return 요일. get(x, '요일없음')\n",
        "\n",
        "list(map(함수, [1, 5, 6, 3, 4]))"
      ],
      "metadata": {
        "id": "n4mEw4qle7bV"
      },
      "execution_count": null,
      "outputs": []
    },
    {
      "cell_type": "code",
      "source": [
        "* class 클래스이름 => 인스턴스\n",
        "* class Post => 게시물1, 게시물2, 게시물3...\n",
        "* class Dot => 점1, 점2, 점3...\n",
        "* class Character => Licat(주인공), Lion(빌런), Mob1(몬스터)\n",
        "* class Matrix => 행렬1, 행렬2, 행렬3...\n",
        "* class User => 유저1, 유저2, 유저3...\n",
        "* class Cart(장바구니) => Cart1, Cart2, Cart3...\n",
        "* class Commnet(댓글) => 댓글1, 댓글2, 댓글3...\n",
        "* class Product => 상품1, 상품2, 상품3...\n",
        "* class Class_ => 강의1, 강의2, 강의3...\n",
        "* class Teacher => 강사1, 강사2, 강사3..."
      ],
      "metadata": {
        "id": "sNjCTsKFgbvu"
      },
      "execution_count": null,
      "outputs": []
    },
    {
      "cell_type": "code",
      "source": [
        "class Character:\n",
        "\n",
        "    character_count = 0\n",
        "\n",
        "    def __init__(self, name, skill, hp, mp, power, x):\n",
        "        self.name = name\n",
        "        self.skill = skill\n",
        "        self.hp = hp\n",
        "        self.mp = mp\n",
        "        self.power = power\n",
        "        self.x = x\n",
        "\n",
        "    @classmethod\n",
        "    def character_count_increase(cls):\n",
        "        '''\n",
        "        캐릭터가 100개 이상 생성되면 경고 메시지 출력\n",
        "        cls는 class입니다. self는 instance입니다.\n",
        "        2개가 다릅니다!\n",
        "        '''\n",
        "        cls.character_count += 1\n",
        "\n",
        "    def move(self):\n",
        "        self.x += 100\n",
        "\n",
        "    def attact(self, next):\n",
        "        next.hp -= self.power\n",
        "\n",
        "\n",
        "주인공1 = Character('licat', '질풍검', 100, 100, 10, 10)\n",
        "Character.character_count_increase() # 예를 들어 한 화면에 몹이 100개 이상 나오지 못한다.\n",
        "\n",
        "몹1 = Character('licat', '질풍검', 100, 100, 10, 10)\n",
        "Character.character_count_increase()\n",
        "\n",
        "주인공1.attact(몹1)\n",
        "몹1.hp\n",
        "\n",
        "몹1.character_count"
      ],
      "metadata": {
        "id": "a5FTDQvWiTuu"
      },
      "execution_count": null,
      "outputs": []
    },
    {
      "cell_type": "code",
      "source": [
        "class Character:\n",
        "    def __init__(self, name, skill, hp, mp, power, defence):\n",
        "        self.name = name\n",
        "        self.skill = skill\n",
        "        self.hp = hp\n",
        "        self.mp = mp\n",
        "        self.power = power\n",
        "        self.defence = defence\n",
        "\n",
        "    def attack(self, next):\n",
        "        next.hp -= self.power\n",
        "\n",
        "class Item:\n",
        "    엑스칼리버 = {'name': '엑스칼리버', 'power': 1000}\n",
        "    가죽갑옷 = {'name': '가죽갑옷', 'defence': 10}\n",
        "    철갑옷 = {'name': '철갑옷', 'defence': 100}\n",
        "    HP물약 = {'name': 'HP물약', 'hp': 10}\n",
        "    MP물약 = {'name': 'MP물약', 'mp': 10}\n",
        "\n",
        "    def repair(self):\n",
        "        print('수리합니다!')\n",
        "\n",
        "class Hero(Character, Item):\n",
        "    def __init__(self, name, skill, hp, mp, power, defence, level=1):\n",
        "        # self.name = name # 이렇게 일일이 하지 않고, 아래와 같이 하면 됩니다.\n",
        "        super().__init__(name, skill, hp, mp, power, defence)\n",
        "        self.level = level\n",
        "        self.item = []\n",
        "\n",
        "    def add_item(self, item):\n",
        "        self.item.append(item)\n",
        "        self.power += item.get('power', 0)\n",
        "        self.defence += item.get('defence', 0)\n",
        "        self.hp += item.get('hp', 0)\n",
        "        self.mp += item.get('mp', 0)\n",
        "\n",
        "    def show_item(self):\n",
        "        print(self.item)\n",
        "\n",
        "class Mob(character):\n",
        "    pass\n",
        "\n",
        "# 주인공은 아이템이 있는데!?, 몹은 아이템이 없어요.\n",
        "# 주인공은 Lv이 있는데!?, 몹은 Lv이 없어요.\n",
        "# 몹은 Drop하는 아이템이 있는데!?, 주인공은 없어요.\n",
        "주인공1 = Hero('licat', '질풍검', 100, 100, 10, 0, 1)\n",
        "몹1 = Character('licat', '질풍검', 100, 100, 10, 0)\n",
        "\n",
        "주인공1.attack(몹1)\n",
        "몹1.hp\n",
        "\n",
        "주인공1.add_item(Item.엑스칼리버)\n",
        "주인공1.repair()\n",
        "주인공1.show_item()"
      ],
      "metadata": {
        "id": "TI1qjzjKGoFO"
      },
      "execution_count": null,
      "outputs": []
    },
    {
      "cell_type": "code",
      "source": [
        "#매트릭스는 행렬이다.\n",
        "\n",
        "class Matrix:\n",
        "    def __init__(self, value):\n",
        "        self.value = value\n",
        "\n",
        "    def __add__(self, next):\n",
        "        result = []\n",
        "        for i in range(len(self.value)): #이렇게 쓰면 지적당함 예시 리소스 너무 많이 사용 아래꺼가 정답.\n",
        "            result.append(self.value[i] + next.value[i])\n",
        "        return result\n",
        "\n",
        "a = Matrix([1, 2, 3])\n",
        "a = Matrix([1, 2, 3])\n",
        "\n",
        "a + b"
      ],
      "metadata": {
        "colab": {
          "base_uri": "https://localhost:8080/"
        },
        "id": "8tGGTupWiWG1",
        "outputId": "f77d46d2-fa80-4b17-9420-d20e9a0917d9"
      },
      "execution_count": null,
      "outputs": [
        {
          "output_type": "execute_result",
          "data": {
            "text/plain": [
              "[2, 4, 6]"
            ]
          },
          "metadata": {},
          "execution_count": 10
        }
      ]
    },
    {
      "cell_type": "code",
      "source": [
        "class Matrix:\n",
        "    def __init__(self, value):\n",
        "        self.value = value\n",
        "\n",
        "    def __add__(self, next):\n",
        "        result = []\n",
        "        for i, _ in enumerate(self.value):\n",
        "            result.append(self.value[i] + next.value[i])\n",
        "        return result\n",
        "\n",
        "a = Matrix([1, 2, 3])\n",
        "b = Matrix([1, 2, 3])\n",
        "\n",
        "a + b\n",
        "\n",
        "# 파이썬에서 사용하지 않는 변수는 _로 할당합니다."
      ],
      "metadata": {
        "colab": {
          "base_uri": "https://localhost:8080/"
        },
        "id": "tZ5KPo5XmEOj",
        "outputId": "92e8d3e9-7163-462e-aa8b-5a922e69fb65"
      },
      "execution_count": null,
      "outputs": [
        {
          "output_type": "execute_result",
          "data": {
            "text/plain": [
              "[2, 4, 6]"
            ]
          },
          "metadata": {},
          "execution_count": 8
        }
      ]
    },
    {
      "cell_type": "code",
      "source": [
        "#매트릭스는 행렬이다.\n",
        "\n",
        "class Matrix:\n",
        "    def __init__(self, value):\n",
        "        self.value = value\n",
        "\n",
        "    def __add__(self, next):\n",
        "        result = []\n",
        "        for i, _ in enumerate(self.value):  # 파이썬에서 사용하지 않는 변수는 _로 할당합니다.\n",
        "            result.append(self.value[i] + next.value[i])\n",
        "        return result\n",
        "\n",
        "a = Matrix([1, 2, 3])\n",
        "a = Matrix([1, 2, 3])\n",
        "\n",
        "a + b\n",
        "\n",
        "# 파이썬에서 사용하지 않는 변수는 _로 할당합니다."
      ],
      "metadata": {
        "colab": {
          "base_uri": "https://localhost:8080/"
        },
        "id": "ZDOJTW_PkVc8",
        "outputId": "23c54333-bc20-490c-d6b8-44e977dd9201"
      },
      "execution_count": null,
      "outputs": [
        {
          "output_type": "execute_result",
          "data": {
            "text/plain": [
              "[2, 4, 6]"
            ]
          },
          "metadata": {},
          "execution_count": 9
        }
      ]
    },
    {
      "cell_type": "code",
      "source": [
        "# [[1, 2, 3],           +[[1, 2, 3],\n",
        "#  [1, 2, 3],             [1, 2, 3],\n",
        "#  [1, 2, 3]]            [1, 2, 3]]\n",
        "\n",
        "# [1, 2, 3] + [1, 2, 3] = [2, 4, 6] # 우리가 원하는 형태\n",
        "# [1, 2, 3] + [1, 2, 3] = [1, 2, 3, 1, 2, 3]"
      ],
      "metadata": {
        "id": "rvvGuzw0ic5X"
      },
      "execution_count": null,
      "outputs": []
    },
    {
      "cell_type": "code",
      "source": [
        "# [1, 2, 3] * 3 == [1, 2, 3, 1, 2, 3, 1, 2, 3]\n",
        "# [1, 2, 3] * 3 == [3, 6, 9] # 우리가 원하는 형태"
      ],
      "metadata": {
        "id": "ej6hgICok0Yy"
      },
      "execution_count": null,
      "outputs": []
    },
    {
      "cell_type": "code",
      "source": [
        "class Matrix:\n",
        "    def __init__(self, value):\n",
        "        self.value = value\n",
        "\n",
        "    def __add__(self, next):\n",
        "        result = []\n",
        "        for i, _ in enumerate(self.value):\n",
        "            result.append(self.value[i] + next.value[i])\n",
        "        return result\n",
        "\n",
        "    def __mul__(self, next):\n",
        "        for i, _ in enumerate(self.value):\n",
        "            self.value[i] *= next\n",
        "        return self.value\n",
        "\n",
        "    def __str__(self):\n",
        "        return str(self.value)\n",
        "\n",
        "    def __repr__(self):\n",
        "        return str(self.value)\n",
        "\n",
        "\n",
        "a = Matrix([1, 2, 3])\n",
        "b = Matrix([1, 2, 3])\n",
        "\n",
        "a * 3\n",
        "print(a)\n",
        "\n",
        "# 파이썬에서 사용하지 않는 변수는 _로 할당합니다."
      ],
      "metadata": {
        "id": "VeS93zy-pibj"
      },
      "execution_count": null,
      "outputs": []
    },
    {
      "cell_type": "markdown",
      "source": [
        "## 이터레이터"
      ],
      "metadata": {
        "id": "6DMYJwCip_du"
      }
    },
    {
      "cell_type": "code",
      "source": [
        "class MyIterator:\n",
        "    def __init__(self, stop):\n",
        "        self.current_value = 0  # 현재 값\n",
        "        self.stop = stop  # 순회를 멈출 값\n",
        "\n",
        "    def __iter__(self):\n",
        "        return self\n",
        "\n",
        "    def __next__(self):\n",
        "        if self.current_value >= self.stop:\n",
        "            raise StopIteration\n",
        "        result = self.current_value\n",
        "        self.current_value += 1\n",
        "        return result\n",
        "\n",
        "my_iterator = MyIterator(5)\n",
        "\n",
        "for i in my_iterator:\n",
        "    print(i)"
      ],
      "metadata": {
        "colab": {
          "base_uri": "https://localhost:8080/"
        },
        "id": "pq_EfBY_p93b",
        "outputId": "121ea999-21f3-4e4c-b23f-23baf048c706"
      },
      "execution_count": null,
      "outputs": [
        {
          "output_type": "stream",
          "name": "stdout",
          "text": [
            "0\n",
            "1\n",
            "2\n",
            "3\n",
            "4\n"
          ]
        }
      ]
    },
    {
      "cell_type": "code",
      "source": [
        "# 한 번 더 호출!?\n",
        "# 왜 0, 1, 2, 3, 4가 2번 출력되지 않았는가?\n",
        "class MyIterator:\n",
        "    def __init__(self, stop):\n",
        "        self.current_value = 0  # 현재 값\n",
        "        self.stop = stop  # 순회를 멈출 값\n",
        "\n",
        "    def __iter__(self):\n",
        "        return self\n",
        "\n",
        "    def __next__(self):\n",
        "        if self.current_value >= self.stop:\n",
        "            raise StopIteration\n",
        "        result = self.current_value\n",
        "        self.current_value += 1\n",
        "        return result\n",
        "\n",
        "my_iterator = MyIterator(5)\n",
        "\n",
        "for i in my_iterator:\n",
        "    print(i)\n",
        "\n",
        "for i in my_iterator:\n",
        "    print(i)"
      ],
      "metadata": {
        "id": "o3mjuRuorxcC"
      },
      "execution_count": null,
      "outputs": []
    },
    {
      "cell_type": "code",
      "source": [
        "# 이러한 이터러블한 객체를 지금 당장 만들 수 있기를 기대하지는 않습니다.\n",
        "# 알고리즘 수업 시간에 할겁니다.\n",
        "# 그 이후로는 조금은 하실 수 있어야 합니다.\n",
        "\n",
        "class Matrix:\n",
        "    def __init__(self, value):\n",
        "        self.index = 0\n",
        "        self.value = value\n",
        "\n",
        "    def __add__(self, next):\n",
        "        result = []\n",
        "        for i, _ in enumerate(self.value):\n",
        "            result.append(self.value[i] + next.value[i])\n",
        "        return result\n",
        "\n",
        "    def __mul__(self, next):\n",
        "        for i, _ in enumerate(self.value):\n",
        "            self.value[i] *= next\n",
        "        return self.value\n",
        "\n",
        "    def __str__(self):\n",
        "        return str(self.value)\n",
        "\n",
        "    def __repr__(self):\n",
        "        return str(self.value)\n",
        "\n",
        "    def __iter__(self):\n",
        "        return self\n",
        "\n",
        "    def __next__(self):\n",
        "        if self.index >= len(self.value):\n",
        "            raise StopIteration\n",
        "        idx = self.index\n",
        "        self.index += 1\n",
        "        return self.value[idx]\n",
        "\n",
        "a = Matrix([1, 2, 3])\n",
        "\n",
        "for i in a:\n",
        "    print(i)"
      ],
      "metadata": {
        "id": "k8ZaQKAAvRaU"
      },
      "execution_count": null,
      "outputs": []
    },
    {
      "cell_type": "code",
      "source": [
        "# 한 번 더 호출!?\n",
        "# 왜 0, 1, 2, 3, 4가 2번 출력되지 않았는가?\n",
        "# 2번 실행할 수 있는 이터레이터\n",
        "class MyIterator:\n",
        "    def __init__(self, stop):\n",
        "        self.currentValue = 0\n",
        "        self.stop = stop\n",
        "\n",
        "    def __iter__(self):\n",
        "        self.currentValue = 0\n",
        "        return self\n",
        "\n",
        "    def __next__(self):\n",
        "        if self.currentValue >= self.stop:\n",
        "            raise StopIteration\n",
        "        result = self.currentValue\n",
        "        self.currentValue += 1\n",
        "        return result\n",
        "\n",
        "my_iterator = MyIterator(5)\n",
        "\n",
        "for i in my_iterator:\n",
        "    print(i)\n",
        "\n",
        "for i in my_iterator:\n",
        "    print(i)"
      ],
      "metadata": {
        "id": "lUhxcWRgvoFO"
      },
      "execution_count": null,
      "outputs": []
    },
    {
      "cell_type": "code",
      "source": [
        "# 이거 한 번만 출력됩니다!!\n",
        "# 위와 같은 원리입니다.\n",
        "# for 돌 때마다 초기화를 해주지 않습니다.\n",
        "a = map(lambda x:x**2, [1, 2, 3, 4])\n",
        "\n",
        "for i in a:\n",
        "    print(i)\n",
        "\n",
        "for i in a:\n",
        "    print(i)"
      ],
      "metadata": {
        "id": "CT-lpRl1vjrf"
      },
      "execution_count": null,
      "outputs": []
    },
    {
      "cell_type": "code",
      "source": [
        "# https://pythontutor.com/visualize.html"
      ],
      "metadata": {
        "id": "qkrbytdBvg6T"
      },
      "execution_count": null,
      "outputs": []
    },
    {
      "cell_type": "code",
      "source": [
        "a, b, c = range(3)\n",
        "a"
      ],
      "metadata": {
        "id": "a1DrjkSbviCI"
      },
      "execution_count": null,
      "outputs": []
    },
    {
      "cell_type": "code",
      "source": [
        "a = [1, 2, 3]\n",
        "b = ['a', 'b', 'c']\n",
        "\n",
        "z = zip(a, b)\n",
        "print(list(z)) # [(1, 'a'), (2, 'b'), (3, 'c')]\n",
        "\n",
        "# zip 객체는 한 번 사용되었으므로 빈 리스트가 반환됩니다.\n",
        "print(list(z)) # []"
      ],
      "metadata": {
        "colab": {
          "base_uri": "https://localhost:8080/"
        },
        "id": "HW6E7QYSv5Ap",
        "outputId": "c41471cc-8199-4fdb-bc9e-7dc8116d11ab"
      },
      "execution_count": null,
      "outputs": [
        {
          "output_type": "stream",
          "name": "stdout",
          "text": [
            "[(1, 'a'), (2, 'b'), (3, 'c')]\n",
            "[]\n"
          ]
        }
      ]
    },
    {
      "cell_type": "code",
      "source": [
        "li = [1, 2, 3]\n",
        "st = ['a', 'b', 'c']\n",
        "z = zip(li, st)\n",
        "\n",
        "for i in z:\n",
        "    print(i)\n",
        "\n",
        "for i in z:\n",
        "    print(i)"
      ],
      "metadata": {
        "colab": {
          "base_uri": "https://localhost:8080/"
        },
        "id": "Ht-_Rxc5wCcU",
        "outputId": "8a144b99-d95f-4dcf-80ff-eb0c4b93cd36"
      },
      "execution_count": null,
      "outputs": [
        {
          "output_type": "stream",
          "name": "stdout",
          "text": [
            "(1, 'a')\n",
            "(2, 'b')\n",
            "(3, 'c')\n"
          ]
        }
      ]
    },
    {
      "cell_type": "code",
      "source": [
        "li = [1, 2, 3]\n",
        "st = ['a', 'b', 'c']\n",
        "i = iter(zip(li, st)) # __iter__ 호출하는것\n",
        "next(i) #__next__ 호출하는것\n",
        "next(i)\n",
        "next(i)\n",
        "next(i) # StopIteration\n",
        "\n",
        "# 대표적으로 xip map reversed"
      ],
      "metadata": {
        "id": "do6ZbFbHwKjY"
      },
      "execution_count": null,
      "outputs": []
    },
    {
      "cell_type": "markdown",
      "source": [
        "class 이론\n"
      ],
      "metadata": {
        "id": "oJrwdW42HiNq"
      }
    },
    {
      "cell_type": "code",
      "source": [
        "class Car(object):\n",
        "    maxSpeed = 300\n",
        "    maxPeople = 5\n",
        "\n",
        "    def move(self):\n",
        "        print('출발하였습니다.')\n",
        "\n",
        "    def stop(self):\n",
        "        print('멈췄습니다.')\n",
        "\n",
        "class HybridCar(Car):#하이브리드카가 위에 카 안에 있는것을 상속받음.\n",
        "    battery = 1000\n",
        "    batteryKM = 300\n",
        "\n",
        "class ElectricCar(HybridCar):# 전기차가 위에 하이브리드 카의 속성을 상속받음.\n",
        "    battery = 2000\n",
        "    batteryKM = 600\n",
        "\n",
        "\n",
        "modelx = HybridCar()\n",
        "electricCarModely = ElectricCar()\n",
        "print(modelx.maxSpeed)\n",
        "print(electricCarModely.maxSpeed)\n",
        "print(electricCarModely.battery)\n",
        "electricCarModely.move()"
      ],
      "metadata": {
        "colab": {
          "base_uri": "https://localhost:8080/"
        },
        "id": "rtyMZYJ_HdYa",
        "outputId": "0211003e-dd6a-457b-beba-e96484362209"
      },
      "execution_count": null,
      "outputs": [
        {
          "output_type": "stream",
          "name": "stdout",
          "text": [
            "300\n",
            "300\n",
            "2000\n",
            "출발하였습니다.\n"
          ]
        }
      ]
    },
    {
      "cell_type": "code",
      "source": [
        "class A:\n",
        "    def method(self):\n",
        "        print(\"A method\")\n",
        "\n",
        "class B(A):\n",
        "    def method(self):\n",
        "        print(\"B method\")\n",
        "\n",
        "class C(A):\n",
        "    def method(self):\n",
        "        print(\"C method\")\n",
        "\n",
        "class D(B, C):\n",
        "    pass\n",
        "\n",
        "obj = D()\n",
        "print(D.mro()) # 출력: [<class '__main__.D'>, <class '__main__.B'>, <class '__main__.C'>, <class '__main__.A'>, <class 'object'>]\n",
        "obj.method()  # 출력: B method"
      ],
      "metadata": {
        "id": "RJNDdT4_IhBW"
      },
      "execution_count": null,
      "outputs": []
    },
    {
      "cell_type": "code",
      "source": [
        "# 부모의 메서드를 재구현 : 상위에 있는 메소드를 받는걸 메서드 오버라이딩 이라고 한다.\n",
        "\n",
        "class A:\n",
        "    def hello(self):\n",
        "        print('hello world A')\n",
        "#클래스 사이는 2칸씩 띄운다.\n",
        "#클래스 사이는 2칸씩 띄운다.\n",
        "class B(A):\n",
        "    def hello(self):\n",
        "        print('hello world B')\n",
        "\n",
        "\n",
        "class C(A):\n",
        "    pass\n",
        "\n",
        "\n",
        "a = A()\n",
        "b = B()\n",
        "c = C()\n",
        "\n",
        "a.hello()\n",
        "b.hello()\n",
        "c.hello()\n"
      ],
      "metadata": {
        "colab": {
          "base_uri": "https://localhost:8080/"
        },
        "id": "rrTYdN0qIi9d",
        "outputId": "123f7b60-ffe3-4c24-f53a-54b80641327f"
      },
      "execution_count": null,
      "outputs": [
        {
          "output_type": "stream",
          "name": "stdout",
          "text": [
            "hello world A\n",
            "hello world B\n",
            "hello world A\n"
          ]
        }
      ]
    },
    {
      "cell_type": "code",
      "source": [
        "# 파이썬은 오버로딩이 없습니다!! 그럼에도 오버로딩이 무엇인지 설명은 해드리겠습니다.\n",
        "# 자주나오는 용어이니 설명해드리는 것이지 이해하실 필요는 없습니다.\n",
        "\n",
        "class A:\n",
        "    def hello(self, a):\n",
        "        return a ** 2\n",
        "\n",
        "    def hello(self, a, b):\n",
        "        return a + b\n",
        "\n",
        "\n",
        "a = A()\n",
        "print(a.hello(10))\n",
        "print(a.hello(10, 20))"
      ],
      "metadata": {
        "id": "OzIA09TzJFjH"
      },
      "execution_count": null,
      "outputs": []
    },
    {
      "cell_type": "code",
      "source": [
        "# 파이썬은 오버로딩이 없습니다!! 그럼에도 오버로딩이 무엇인지 설명은 해드리겠습니다.\n",
        "# 자주나오는 용어이니 설명해드리는 것이지 이해하실 필요는 없습니다.\n",
        "\n",
        "class A:\n",
        "    def hello(self, a):\n",
        "        return a ** 2\n",
        "\n",
        "    def hello(self, a, b):\n",
        "        return a + b\n",
        "\n",
        "\n",
        "a = A()\n",
        "print(a.hello(10)) # error!, JAVA는 이렇게 아규먼트의 갯수에 따라 호출되는 함수를 다르게 할 수 있습니다.\n",
        "print(a.hello(10, 20))"
      ],
      "metadata": {
        "id": "Jb1YpLCOJ0lJ"
      },
      "execution_count": null,
      "outputs": []
    },
    {
      "cell_type": "code",
      "source": [
        "# 클래스 대안 자료 형태\n",
        "# 딕셔너리\n",
        "hero = {\n",
        "    'name': 'Jun',\n",
        "    'hp': 100,\n",
        "    'mp': 100,\n",
        "    'power': 30,\n",
        "    'drop_rate': 0,\n",
        "    'attack': lambda: f'{hero[\"power\"]}에 파워로 공격하였습니다.',\n",
        "}\n",
        "\n",
        "print(hero['hp'])\n",
        "print(hero['attack']())  # 출력: 30에 파워로 공격하였습니다."
      ],
      "metadata": {
        "id": "5IbPDZJMLA9N"
      },
      "execution_count": null,
      "outputs": []
    },
    {
      "cell_type": "code",
      "source": [
        "# 클래스 대안 자료 형태\n",
        "# 클로저\n",
        "# 클로저는 보통 Javascript에서 간혹 사용합니다.\n",
        "# Python에서는 거의 사용하지 않아요!\n",
        "\n",
        "def create_chracter(name, hp, mp, power):\n",
        "    data = {\n",
        "        'name': name,\n",
        "        'hp': hp,\n",
        "        'mp': mp,\n",
        "        'power': power,\n",
        "    }\n",
        "\n",
        "    def get_data(key):\n",
        "        return data[key]\n",
        "\n",
        "    def attack():\n",
        "        return f'{get_data(\"power\")}에 파워로 공격하였습니다.'\n",
        "\n",
        "    return {'attack': attack}\n",
        "\n",
        "hero = create_chracter('Jun', 100, 100, 30)\n",
        "print(hero['attack']())  # 출력: 30에 파워로 공격하였습니다."
      ],
      "metadata": {
        "colab": {
          "base_uri": "https://localhost:8080/"
        },
        "id": "Y3Nf7hY4K1KM",
        "outputId": "3def2b56-7a2f-4c41-8570-d59bbca46651"
      },
      "execution_count": null,
      "outputs": [
        {
          "output_type": "stream",
          "name": "stdout",
          "text": [
            "30에 파워로 공격하였습니다.\n"
          ]
        }
      ]
    },
    {
      "cell_type": "markdown",
      "source": [
        "## 메직메서드\n",
        "### 2.1. **생성자와 소멸자**\n",
        "\n",
        "- `__init__(self, ...)`: 객체가 생성될 때 호출되는 생성자 메서드.\n",
        "\n",
        "### 2.2. **문자열 표현**\n",
        "\n",
        "- `__str__(self)`: `str()` 함수 출력 결과와 같습니다. 이는 print로 출력되는 결과와도 동일합니다. 이 출력은 \"공식적이지 않은\" 또는 \"좋게 보이는\" 문자열 표현을 반환합니다. 객체의 공식적인 표현은 repr입니다.\n",
        "- `__repr__(self)`: `repr()` 함수에 출력 결과와 같습니다. 객체의 \"공식적인\" 문자열 표현을 반환합니다.\n",
        "\n",
        "### 2.3. **산술 연산**\n",
        "\n",
        "- `__add__(self, other)`: 덧셈 연산\n",
        "- `__mul__(self, other)`: 곱셈 연산\n",
        "\n",
        "### 2.4. **비교 연산**\n",
        "\n",
        "- `__eq__(self, other)`: 동등 연산 (==)\n",
        "- `__ne__(self, other)`: 부등 연산 (!=)\n",
        "- `__lt__(self, other)`: \"작다\" 연산 (<)\n",
        "- `__le__(self, other)`: \"작거나 같다\" 연산 (<=)\n",
        "- `__gt__(self, other)`: \"크다\" 연산 (>)\n",
        "- `__ge__(self, other)`: \"크거나 같다\" 연산 (>=)\n",
        "\n",
        "### 2.5. **컨테이너 타입 연산**\n",
        "\n",
        "- `__len__(self)`: `len()` 함수의 출력 결과와 같습니다.\n",
        "- `__getitem__(self, key)`: 인덱싱 연산 (obj[key])의 출력 결과와 같습니다.\n",
        "\n",
        "### 2.6. **호출 가능 객체**\n",
        "\n",
        "- `__call__(self, ...)`: 객체를 함수처럼 호출할 때 사용됩니다."
      ],
      "metadata": {
        "id": "5VKIysiQM4Uh"
      }
    },
    {
      "cell_type": "code",
      "source": [
        "class Counter:\n",
        "    def __init__(self):\n",
        "        self.count = 0\n",
        "\n",
        "    def __call__(self):\n",
        "        self.count += 10\n",
        "        print(f'현재 count 값: {self.count}')\n",
        "\n",
        "    def __getitem__(self, key):\n",
        "        return key*10\n",
        "\n",
        "# 객체 생성\n",
        "counter = Counter()\n",
        "\n",
        "# 객체를 직접 호출합니다. 이때 __call__ 메서드가 실행됩니다.\n",
        "counter()  # 출력: 현재 count 값: 10\n",
        "counter()  # 출력: 현재 count 값: 20\n",
        "counter()  # 출력: 현재 count 값: 30\n",
        "\n",
        "counter[5] # 출력: 4"
      ],
      "metadata": {
        "colab": {
          "base_uri": "https://localhost:8080/"
        },
        "id": "opcIAbzSM532",
        "outputId": "4fdda46e-9a26-4864-a5cd-48aeaad71327"
      },
      "execution_count": null,
      "outputs": [
        {
          "output_type": "stream",
          "name": "stdout",
          "text": [
            "현재 count 값: 10\n",
            "현재 count 값: 20\n",
            "현재 count 값: 30\n"
          ]
        },
        {
          "output_type": "execute_result",
          "data": {
            "text/plain": [
              "50"
            ]
          },
          "metadata": {},
          "execution_count": 19
        }
      ]
    },
    {
      "cell_type": "markdown",
      "source": [
        "## 분위기 환기 (크롤링 후 클래스에 저장하는 미션)"
      ],
      "metadata": {
        "id": "nYEk8a1fQ3EZ"
      }
    },
    {
      "cell_type": "code",
      "source": [
        "import requests # 통신을 해서 서버에서 제공해주는 값을 가져올 수 있습니다.\n",
        "from bs4 import BeautifulSoup # 가져온 값을 '파싱'해주는 모듈입니다.\n",
        "\n",
        "response = requests.get('https://paullab.co.kr/bookservice/')\n",
        "soup = BeautifulSoup(response.text, 'html.parser')"
      ],
      "metadata": {
        "id": "io59RzQFQ1z7"
      },
      "execution_count": null,
      "outputs": []
    },
    {
      "cell_type": "code",
      "source": [
        "book_name = soup.select('.book_name')\n",
        "book_info = soup.select('.book_info')"
      ],
      "metadata": {
        "id": "Wmi74WdNUgTU"
      },
      "execution_count": null,
      "outputs": []
    },
    {
      "cell_type": "code",
      "source": [
        "print(book_name[0].text)\n",
        "print(book_info[0].text)\n",
        "print(book_info[1].text)\n",
        "print(book_info[2].text)"
      ],
      "metadata": {
        "colab": {
          "base_uri": "https://localhost:8080/"
        },
        "id": "l6s_zR9zWJkT",
        "outputId": "f4bdce5f-5817-4ec2-8902-c4dd1f461b13"
      },
      "execution_count": null,
      "outputs": [
        {
          "output_type": "stream",
          "name": "stdout",
          "text": [
            "메모혁신 Notion(노션) 활용 가이드\n",
            "가격: 7,000원\n",
            "저자: 이호준, 이준호, 김혜원, 김유진, 차경림, 김진, 현지연, 정승한\n",
            "Notion의 기본 사용 방법부터 Notion을 활용한 홈페이지 제작 방법까지 다양하게 다루고 있으며 특히 개발자가 원하는 Notion의 활용 방법을 다루고 있습니다.\n"
          ]
        }
      ]
    },
    {
      "cell_type": "code",
      "source": [
        "print(book_name[1].text)\n",
        "print(book_info[3].text)\n",
        "print(book_info[4].text)\n",
        "print(book_info[5].text)"
      ],
      "metadata": {
        "id": "TB49ILrvYTdi",
        "colab": {
          "base_uri": "https://localhost:8080/"
        },
        "outputId": "c1989383-1ba4-42f2-8590-59a7f3196ed1"
      },
      "execution_count": null,
      "outputs": [
        {
          "output_type": "stream",
          "name": "stdout",
          "text": [
            "이력서 작성 가이드\n",
            "가격: 10,000원\n",
            "저자: 강혜진, 김유진, 김혜원, 김진, 이범재, 이호준, 원유선, 박누리, 차경림, 최원범, 한재현\n",
            "개발자 역량을 갖추는 것뿐만 아니라 회사에 뽑힐 확률을 높이는 전략과 방법도 필요합니다. 개발자 이력서는 그 첫걸음입니다.\n"
          ]
        }
      ]
    },
    {
      "cell_type": "code",
      "source": [
        "books = []\n",
        "for i, _ in enumerate(book_name):\n",
        "    books.append({\n",
        "        '제목': book_name[i].text,\n",
        "        '가격': book_info[(i*3)].text,\n",
        "        '저자': book_info[(i*3)+1].text,\n",
        "        '설명': book_info[(i*3)+2].text,\n",
        "    })\n",
        "\n",
        "books\n",
        "\n",
        "# 마음에 안드는 포인트들\n",
        "# 1. 가격이 int형이 아니다!\n",
        "# 2. 가격, 저자가 한 번 더 들어있다!\n",
        "# 3. 공백도 들어가 있다!"
      ],
      "metadata": {
        "colab": {
          "base_uri": "https://localhost:8080/"
        },
        "id": "wluBbhaRWpHE",
        "outputId": "989caac5-b8bb-47eb-8a5e-cba9b3507e15"
      },
      "execution_count": null,
      "outputs": [
        {
          "output_type": "execute_result",
          "data": {
            "text/plain": [
              "[{'제목': '메모혁신 Notion(노션) 활용 가이드',\n",
              "  '가격': '가격: 7,000원',\n",
              "  '저자': '저자: 이호준, 이준호, 김혜원, 김유진, 차경림, 김진, 현지연, 정승한',\n",
              "  '설명': 'Notion의 기본 사용 방법부터 Notion을 활용한 홈페이지 제작 방법까지 다양하게 다루고 있으며 특히 개발자가 원하는 Notion의 활용 방법을 다루고 있습니다.'},\n",
              " {'제목': '이력서 작성 가이드',\n",
              "  '가격': '가격: 10,000원',\n",
              "  '저자': '저자: 강혜진, 김유진, 김혜원, 김진, 이범재, 이호준, 원유선, 박누리, 차경림, 최원범, 한재현',\n",
              "  '설명': '개발자 역량을 갖추는 것뿐만 아니라 회사에 뽑힐 확률을 높이는 전략과 방법도 필요합니다. 개발자 이력서는 그 첫걸음입니다.'},\n",
              " {'제목': '제주코딩베이스캠프 Code Festival: Python 100제 1부',\n",
              "  '가격': '가격: 무료',\n",
              "  '저자': '저자: 이호준, 강민정, 김유진, 정윤하, 최원범',\n",
              "  '설명': '파이썬으로 풀 수 있는 100문제를 만들었습니다. 50문제씩 1부(초급, 중급)와 2부(중급, 고급)로 나누어져있습니다.'},\n",
              " {'제목': '튜토리얼로 배우는 HTML&CSS',\n",
              "  '가격': '가격: 4,900원',\n",
              "  '저자': '저자: 이호준, 박민균, 양지혜, 정민준, 박소영, 전유빈',\n",
              "  '설명': '튜토리얼을 통해 일단 만들어 봅시다! 무엇이든 일단 만들어 보면 길이 보이기 시작합니다. 그 다음 웹 동작방법, 태그의 동작 방식, 브라우저 렌더링 엔진 등에 대하여 부담이 되지 않을 만큼씩 배워가세요.'},\n",
              " {'제목': '코딩도장 튜토리얼로 배우는 Python 1편 object',\n",
              "  '가격': '가격: 3,000원',\n",
              "  '저자': '저자: 이호준, 정민준, 배희성, 김덕주, 한승협',\n",
              "  '설명': '파이썬은 이해하기 쉽고 간결한 문법으로 생산성이 높아 교육을 포함한 다양한 분야 에서 활용되고 있는 언어입니다. 빅데이터 분석, 머신러닝, 웹 개발 등 다양하게 쓰이는 Python을 예제를 통해 배워보세요. 이 책은 여러 미션을 스토리텔링 형식으로 제공하며 튜토리얼 별로 코드를 제공하여 쉽고 재미있게 코딩 개념을 익힐 수 있도록 도와줄 것입니다.\\n                    '},\n",
              " {'제목': '코딩도장 튜토리얼로 배우는 python 2편 제어문',\n",
              "  '가격': '가격: 4,900원',\n",
              "  '저자': '저자: 이호준, 우지훈, 박소영, 허재영',\n",
              "  '설명': '파이썬 튜토리얼 시리즈는 1편 Object 2편 제어문 3편 문제풀이로 구성되어 있습니다.'},\n",
              " {'제목': '코딩도장 튜토리얼로 배우는 Python 문제풀이',\n",
              "  '가격': '가격: 무료',\n",
              "  '저자': '저자: 이호준, 전유빈, 김태범, 한승협, 김혜원, 강민정',\n",
              "  '설명': '\\n                          이 책은 Python 문법을 이제 막 끝낸 분에게 추천해 드립니다. \\n                          코딩도장 사이트에 문제를 풀어보며 Python에 보다 깊게 다가가 보세요.\\n                          다양한 문제들이 여러분의 실력을 향상시켜 줄 것입니다.'},\n",
              " {'제목': '타노스의 건틀릿 알고리즘 With Python',\n",
              "  '가격': '가격: 무료',\n",
              "  '저자': '저자: 이호준, 한승협, 강민정, 신민욱',\n",
              "  '설명': '이 책은 Python 문법을 이제 막 끝낸 분에게 추천해 드립니다. \\n                          타노스의 핑거스냅 문제를 다양한 시각으로 풀어보며 Python에 보다 깊게 다가가 보세요. \\n                          다양한 시각이 여러분의 실력을 향상시켜줄 것입니다.'},\n",
              " {'제목': 'xlsxwriter 튜토리얼로 배우는 Python 엑셀 프로그래밍',\n",
              "  '가격': '가격: 무료',\n",
              "  '저자': '저자: 이호준, 강상권, 오재원, 전진환, 문형철, 이현창',\n",
              "  '설명': '이 책은 빅데이터를 가공하여 엑셀로 가시화 시키기 원하는 업무 담당자와 단순 업무를 Python을 이용하여 자동화 시키려 하는 업무 담당자에게 추천해드립니다. \\n                          또한 부서의 업무 고도화, 효율화를 위해 적절한 자동화 프로그램을 찾지 못한 기업과 학문적 호기심을 가진 개인에게도 추천해 드립니다. \\n                          세계에서 유행중인 Python은 타 언어에 비해 다루기 쉬우며 풍성한 라이브러리로 원하는 프로그램을 직접 만들기에 적합합니다.'},\n",
              " {'제목': '러플 튜토리얼로 배우는 Python',\n",
              "  '가격': '가격: 4,900',\n",
              "  '저자': '저자: 이호준, 배희성, 양지혜, 박소영, 김수연, 정민준',\n",
              "  '설명': '이 책은 소프트웨어 교육을 처음 접했거나 스크래치, \\n                              엔트리 등 블록기반 교육용 소프트웨어 다음으로 무엇을 배워야 할 지 모르는 초등학교 학생,\\n                              중학교 학생과 소프트웨어 교육을 담당하는 선생님께 권해드립니다.\\n                               파이썬 코드로 로봇을 제어하면서 코딩을 쉽게 배울 수 있는 러플은 고급 프로그래밍 언어를 처음 접하는\\n                                학생들이 쉽게 언어기반 프로그래밍을 이해할 수 있도록 도와줍니다.'},\n",
              " {'제목': '인공지능을 활용한 업무자동화 With Google Developers Group JEJU',\n",
              "  '가격': '가격: 무료',\n",
              "  '저자': '저자: 이호준, 이준호, 현암, 윤현담, 김루비, 이동민, 유승엽, 박서윤, 김채린, 한승협, 안상우, 장성원, 전진환, 강민성, 조민구, 전창삼',\n",
              "  '설명': '이 책은 반복적이고 지루한 단순 업무를 Python을 이용하여 \\n                          자동화 시키려 하는 업무 담당자와 데이터를 가공하여 가시화 시키기 원하는 업무 담당자에게 추천해드립니다.\\n                           또한 부서의 업무 고도화, 효율화를 위해 적절한 자동화 프로그램을 찾지 못한 기업과 학문적 호기심을 가진 개인에게도 추천해 드립니다. \\n                          세계에서 유행중인 Python은 타 언어에 비해 다루기 쉬우며 풍성한 라이브러리로 원하는 프로그램을 직접 만들기에 적합합니다.'}]"
            ]
          },
          "metadata": {},
          "execution_count": 13
        }
      ]
    },
    {
      "cell_type": "code",
      "source": [
        "# 마음에 안드는 포인트들\n",
        "# 1. 가격이 int형이 아니다!\n",
        "# 2. 가격, 저자가 한 번 더 들어있다!\n",
        "# 3. 공백도 들어가 있다!\n",
        "\n",
        "books = []\n",
        "class Book:\n",
        "    def __init__(self, name='', price=0, author='', info=''):\n",
        "        self.name = name\n",
        "        if price.replace('가격: ', '').replace('원', '').replace(',', '') == '무료':\n",
        "            self.price = 0\n",
        "        else:\n",
        "            self.price = int(price.replace('가격: ', '').replace('원', '').replace(',', ''))\n",
        "        self.author = author\n",
        "        self.info = info\n",
        "\n",
        "    def __str__(self):\n",
        "        return self.name\n",
        "\n",
        "    def __repr__(self):\n",
        "        return self.name\n",
        "\n",
        "for i, _ in enumerate(book_name):\n",
        "    books.append(Book(\n",
        "        book_name[i].text,\n",
        "        book_info[(i*3)].text,\n",
        "        book_info[(i*3)+1].text,\n",
        "        book_info[(i*3)+2].text\n",
        "    ))\n",
        "\n",
        "books\n",
        "books[0].name\n",
        "books[0].price"
      ],
      "metadata": {
        "colab": {
          "base_uri": "https://localhost:8080/"
        },
        "id": "K09QUWzDZxXB",
        "outputId": "74cf0a57-5166-41fa-995c-f97bdf01a2e6"
      },
      "execution_count": null,
      "outputs": [
        {
          "output_type": "execute_result",
          "data": {
            "text/plain": [
              "7000"
            ]
          },
          "metadata": {},
          "execution_count": 14
        }
      ]
    },
    {
      "cell_type": "code",
      "source": [
        "import requests # 통신을 해서 서버에서 제공해주는 값을 가져올 수 있습니다.\n",
        "from bs4 import BeautifulSoup # 가져온 값을 '파싱' 해주는 모듈입니다.\n",
        "\n",
        "response = requests.get('https://search.naver.com/search.naver?where=nexearch&sm=top_hty&fbm=0&ie=utf8&query=%EC%B5%9C%EC%8B%A0%EC%98%81%ED%99%94')\n",
        "soup = BeautifulSoup(response.text, 'html.parser')\n"
      ],
      "metadata": {
        "id": "F1Ur4ThVa0UP"
      },
      "execution_count": null,
      "outputs": []
    },
    {
      "cell_type": "code",
      "source": [
        "soup.select('.this_text')[0].text"
      ],
      "metadata": {
        "id": "jKDBKZw8b7ki"
      },
      "execution_count": null,
      "outputs": []
    },
    {
      "cell_type": "code",
      "source": [
        "for i, j in enumerate(soup.select('.this_text'), 1):\n",
        "    print(i, j.text)"
      ],
      "metadata": {
        "id": "iIoFoxNobqrc"
      },
      "execution_count": null,
      "outputs": []
    },
    {
      "cell_type": "code",
      "source": [
        "import requests  # 통신을 해서 서버에서 제공해주는 값을 가져올 수 있습니다.\n",
        "from bs4 import BeautifulSoup  # 가져온 값을 '파싱'해주는 모듈입니다.\n",
        "\n",
        "response = requests.get('https://paullab.co.kr/bookservice/')  # 도서 정보 가져오기\n",
        "soup = BeautifulSoup(response.text, 'html.parser')\n",
        "\n",
        "book_name = soup.select('.book_name')  # 선택자를 이용하여 이름과 정보 선택\n",
        "book_info = soup.select('.book_info')\n",
        "\n",
        "class Book:\n",
        "    def __init__(self, title, price, author, summary):\n",
        "        self.title = title\n",
        "        self.price = self.price(price)\n",
        "        self.author = self.author(author)  # 저자 정보를 가공하여 저장\n",
        "        self.summary = summary\n",
        "\n",
        "    def price(self, price_str):  # 가격 데이터를 int로 변환, 가격이 무료인 경우 0으로\n",
        "        refined_price = price_str.replace(\"원\", \"\").replace(\",\", \"\").replace(\"가격: \", \"\").strip()\n",
        "        return 0 if refined_price == \"무료\" else int(\"\".join(filter(str.isdigit, refined_price)))\n",
        "\n",
        "    def author(self, author_str):  # 저자 정보를 가공하여 리스트로 반환\n",
        "        return author_str.replace(\"저자: \", \"\").strip().split(\", \")\n",
        "\n",
        "    def __str__(self):  # 출력 포맷 지정\n",
        "        return f'제목: {self.title}\\n가격: {f\"{self.price}원\" if self.price != 0 else \"무료\"}\\n{\", \".join(self.author)}\\n설명: {self.summary}'\n",
        "\n",
        "    def discount(self, discount_rate):  # 할인 적용, 할인율이 0부터 100까지의 값만 허용\n",
        "        if not 0 < discount_rate <= 100:\n",
        "            raise ValueError(\"할인율은 0부터 100까지만 가능합니다.\")\n",
        "        return self.price * (100 - discount_rate) / 100\n",
        "\n",
        "    def convert_usd(self, dollar_rate=1320.92):  # 달러 가격 변환\n",
        "        converted_price = round(self.price / dollar_rate, 2)  # 소수점 2자리까지 표시\n",
        "        return f'{converted_price:.2f}'  # 문자열로 변환 후 소수점 2자리까지 표시\n",
        "\n",
        "# 인스턴스 생성\n",
        "books = [Book(book_name.text, books_info[idx * 3].text, books_info[idx * 3 + 1].text, books_info[idx * 3 + 2].text) for idx, book_name in enumerate(book_name)]\n",
        "\n",
        "# 출력\n",
        "for book in books:\n",
        "    print(book)\n",
        "    print(f'10% 할인가: {int(book.discount(10))}원')  # 10% 할인 가격 출력\n",
        "    print(f'미국 달러 가격: {book.convert_usd()}달러\\n')  # 달러로 환산한 가격 출력\n"
      ],
      "metadata": {
        "id": "p0QS57jS2pmp"
      },
      "execution_count": null,
      "outputs": []
    }
  ]
}