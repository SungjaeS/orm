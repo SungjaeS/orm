{
  "nbformat": 4,
  "nbformat_minor": 0,
  "metadata": {
    "colab": {
      "provenance": [],
      "authorship_tag": "ABX9TyMOI2b8Ls1GHyC2fpi8GWQh",
      "include_colab_link": true
    },
    "kernelspec": {
      "name": "python3",
      "display_name": "Python 3"
    },
    "language_info": {
      "name": "python"
    }
  },
  "cells": [
    {
      "cell_type": "markdown",
      "metadata": {
        "id": "view-in-github",
        "colab_type": "text"
      },
      "source": [
        "<a href=\"https://colab.research.google.com/github/SungjaeS/orm/blob/main/240115_class3%EC%9D%BC%EC%A7%B8.ipynb\" target=\"_parent\"><img src=\"https://colab.research.google.com/assets/colab-badge.svg\" alt=\"Open In Colab\"/></a>"
      ]
    },
    {
      "cell_type": "markdown",
      "source": [
        "1. 시간 적절하셨나요? => 타이핑을 치면서 보면 부족합니다. 그래서 2배속으로 타이핑 없이 보시는 것을 권해드립니다. (훑어보시길 바랍니다. 모든 부분을 다 이해하려 하지 마세요.)\n",
        "2. LMS를 언제 듣는지 아시는 분? => 날짜 정리해서 일정표에 넣어두겠습니다.\n",
        "3. 이 시간이 회고 시간으로 주로 운영이 되었었는데요. 일반 자습시간으로 편성하는 것 보다는 영상을 드리고 복습 + 예방주사를 드리는 편이 좋을 것 같아 편성해두었습니다. 이 시간을 활용하여 복습 또는 예습을 적절히 하셨으면 좋겠습니다.\n",
        "4. class 만들라고 하면 만드실 수 있겠나요? class를 사용하실 생각이 드시나요?\n",
        "5. 폴더 저장, 폴더 생성"
      ],
      "metadata": {
        "id": "SVXDP9gDQqpE"
      }
    },
    {
      "cell_type": "code",
      "execution_count": null,
      "metadata": {
        "id": "Ks69P_7ZQCbb"
      },
      "outputs": [],
      "source": [
        "# 필요한 라이브러리를 임포트합니다\n",
        "import matplotlib.pyplot as plt\n",
        "import numpy as np\n",
        "\n",
        "# 샘플 데이터를 생성합니다\n",
        "x = np.linspace(0, 10, 100)\n",
        "y = np.sin(x)\n",
        "\n",
        "# 그래프를 생성합니다\n",
        "plt.plot(x, y)\n",
        "plt.title(\"Sine Wave\")\n",
        "plt.xlabel(\"X-axis\")\n",
        "plt.ylabel(\"Y-axis\")\n",
        "\n",
        "# 그래프를 파일로 저장합니다\n",
        "plt.savefig('sample.png')\n",
        "\n",
        "# 그래프를 화면에 표시합니다\n",
        "plt.show()"
      ]
    },
    {
      "cell_type": "markdown",
      "source": [
        "1. 원래 리눅스 명령어\n",
        "* !mkdir leehojun  폴더 파일 만들기\n",
        "* !ls              파일 폴더 내용보기\n",
        "* !rmdir leehojun  폴더 파일 지우기"
      ],
      "metadata": {
        "id": "6JviplvAQMUY"
      }
    },
    {
      "cell_type": "markdown",
      "source": [
        "# class 3번째 시간\n",
        "\n",
        "* class 클래스이름 => 인스턴스\n",
        "* class Post => 게시물1, 게시물2, 게시물3...\n",
        "* class Dot => 점1, 점2, 점3...\n",
        "* class Character => Licat(주인공), Lion(빌런), Mob1(몬스터)\n",
        "* class Matrix => 행렬1, 행렬2, 행렬3...\n",
        "* class User => 유저1, 유저2, 유저3...\n",
        "* class Cart(장바구니) => Cart1, Cart2, Cart3...\n",
        "* class Commnet(댓글) => 댓글1, 댓글2, 댓글3...\n",
        "* class Product => 상품1, 상품2, 상품3...\n",
        "* class Class_ => 강의1, 강의2, 강의3...\n",
        "* class Teacher => 강사1, 강사2, 강사3..."
      ],
      "metadata": {
        "id": "2y6C7yYOgeGX"
      }
    },
    {
      "cell_type": "code",
      "source": [
        "from datetime import datetime\n",
        "\n",
        "datetime.now()\n",
        "datetime.now().date()\n",
        "datetime.now().year\n",
        "datetime.now().month\n",
        "datetime.now().day\n",
        "datetime.now().hour\n",
        "datetime.now().minute\n",
        "\n",
        "d = datetime.now()\n",
        "print(f'{d.year}/{d.month}/{d.day}') # 가볍게 사용하긴 좋지만, 날짜나 시간은 타입이 있습니다.\n",
        "\n",
        "d.strftime(\"올해 연도는 %Y!!\")\n",
        "d.strftime(\"%Y/%m/%d\") #가장 많이 사용하는 date format, 하나만 기억해야 한다면 이것을 기억해주세요.\n",
        "d.strftime(\"%Y/%m/%d\")"
      ],
      "metadata": {
        "colab": {
          "base_uri": "https://localhost:8080/",
          "height": 54
        },
        "id": "XwZKVj78gNjT",
        "outputId": "2d53a92b-02a5-40fb-9635-213eafabf196"
      },
      "execution_count": 7,
      "outputs": [
        {
          "output_type": "stream",
          "name": "stdout",
          "text": [
            "2024/1/15\n"
          ]
        },
        {
          "output_type": "execute_result",
          "data": {
            "text/plain": [
              "'2024/01/15'"
            ],
            "application/vnd.google.colaboratory.intrinsic+json": {
              "type": "string"
            }
          },
          "metadata": {},
          "execution_count": 7
        }
      ]
    },
    {
      "cell_type": "code",
      "source": [
        "from datetime import datetime\n",
        "\n",
        "datetime.now()\n",
        "datetime.now().date()\n",
        "datetime.now().year\n",
        "datetime.now().month\n",
        "datetime.now().day\n",
        "datetime.now().hour\n",
        "datetime.now().minute\n",
        "\n",
        "d = datetime.now()\n",
        "print(f'{d.year}/{d.month}/{d.day}') # 가볍게 사용하긴 좋지만, 날짜나 시간은 타입이 있습니다.\n",
        "\n",
        "d.strftime('올해 연도는 %Y!!')\n",
        "d.strftime('%y/%m/%d')\n",
        "d.strftime('%Y/%m/%d') #가장 많이 사용하는 date format, 하나만 기억해야 한다면 이것을 기억해주세요!"
      ],
      "metadata": {
        "colab": {
          "base_uri": "https://localhost:8080/",
          "height": 54
        },
        "id": "w6D7x-kOiFAl",
        "outputId": "89fbd6ba-943f-4e0e-a99e-b8d4113b2093"
      },
      "execution_count": 8,
      "outputs": [
        {
          "output_type": "stream",
          "name": "stdout",
          "text": [
            "2024/1/15\n"
          ]
        },
        {
          "output_type": "execute_result",
          "data": {
            "text/plain": [
              "'2024/01/15'"
            ],
            "application/vnd.google.colaboratory.intrinsic+json": {
              "type": "string"
            }
          },
          "metadata": {},
          "execution_count": 8
        }
      ]
    },
    {
      "cell_type": "code",
      "source": [
        "def f():\n",
        "    return\n",
        "\n",
        "f() # 반환 값이 None 이면 출력을 안합니다."
      ],
      "metadata": {
        "id": "DWw3pKIkrKVp"
      },
      "execution_count": null,
      "outputs": []
    },
    {
      "cell_type": "code",
      "source": [
        "from datetime import datetime\n",
        "\n",
        "class User:\n",
        "    user_count = 0\n",
        "    gender = ('남', '여')\n",
        "\n",
        "    def __init__(self, name, joindate, gender, age, email, password):\n",
        "        self.joindate = joindate\n",
        "        self.accessdate = joindate\n",
        "        self.name = name\n",
        "        self.gender = gender\n",
        "        self.age = age\n",
        "        self.email = email\n",
        "        self.password = password # 실무에서 이렇게 저장 절대 안합니다.\n",
        "        # (Django에서도 이렇게 저장해서 오류나는 경우 많습니다.)\n",
        "\n",
        "        # self.password = 39743FFC/FB179CEB/A590B68F/FF1A7C65/A9DB72B3/A5AD63E/E01A66C6/896A07311 + salt\n",
        "        # Django에서도 sha256을 사용합니다. 은행권에서는 이 알고리즘이 깨졌다고 보고 있습니다.\n",
        "        # sha512를 사용하려 노력을 합니다.\n",
        "        # MD5라는 알고리즘을 암호화 알고리즘으로 많이 사용했었는데 이게 깨졌습니다. (레인보우 어택)\n",
        "\n",
        "user1 = User('이호준', '2024/01/15', '남', 15, 'hojun@gmail.com', '1q2w3e4r!')\n",
        "user1.name\n",
        "user1.accessdate\n",
        "\n",
        "User.user_count = 1\n",
        "\n",
        "user2 = User('홍길동', '2024/01/15', '남', 30, 'gildong@gmail.com', '1q2w3e4r!!')\n",
        "user2.name\n",
        "User.user_count = 2\n",
        "\n",
        "user1.user_count\n",
        "\n",
        "# 무엇을 알 수 있나요? 실제로 class와 인스턴스의 메모리 영역은 교집합 상태\n",
        "# 한 곳에서 수정이 되면 모두 수정이 됩니다!\n",
        "# 그래서 처음에 클래스를 설계하실 때 모든 인스턴스에 있을 변수(클래스 변수)와\n",
        "# 인스턴스에만 있는 변수(인스턴스 변수)를 나누는 것이 매우 중요합니다!"
      ],
      "metadata": {
        "colab": {
          "base_uri": "https://localhost:8080/"
        },
        "id": "-1qvQa9zsANF",
        "outputId": "28c57bef-2af6-434b-b281-1dff7f01ff69"
      },
      "execution_count": 13,
      "outputs": [
        {
          "output_type": "execute_result",
          "data": {
            "text/plain": [
              "2"
            ]
          },
          "metadata": {},
          "execution_count": 13
        }
      ]
    },
    {
      "cell_type": "code",
      "source": [
        "from datetime import datetime\n",
        "\n",
        "class User:\n",
        "    user_count = 0\n",
        "    gender = ('남', '여')\n",
        "\n",
        "    def __init__(self, name, joindate, gender, age, email, password):\n",
        "        self.joindate = joindate\n",
        "        self.accessdate = joindate\n",
        "        self.name = name\n",
        "        self.gender = gender\n",
        "        self.age = age\n",
        "        self.email = email\n",
        "        self.password = password # 실무에서 이렇게 저장 절대 안합니다.\n",
        "        # (Django에서도 이렇게 저장해서 오류나는 경우 많습니다.)\n",
        "        # self.password = 39743FFC/FB179CEB/A590B68F/FF1A7C65/A9DB72B3/A5AD63E/E01A66C6/896A07311 + salt\n",
        "        # Django에서도 sha256을 사용합니다. 은행권에서는 이 알고리즘이 깨졌다고 보고 있습니다.\n",
        "        # sha512를 사용하려 노력을 합니다.\n",
        "        # MD5라는 알고리즘을 암호화 알고리즘으로 많이 사용했었는데 이게 깨졌습니다. (레인보우 어택)\n",
        "    def change_password(self, password):\n",
        "        self.password = password\n",
        "        self.accessdate = datetime.strftime('%y/%m/%d')\n",
        "\n",
        "    def update_email(self, email):\n",
        "        self.email = email\n",
        "        self.accessdate = datetime.strftime('%y/%m/%d')\n",
        "\n",
        "    def display_profile(self):\n",
        "        print(f'name: {self.name}')\n",
        "        print(f'joindate: {self.joindate}')\n",
        "        print(f'accessdate: {self.accessdate}')\n",
        "        return\n",
        "\n",
        "    def __str__(self):\n",
        "        return self.name\n",
        "\n",
        "    def __repr__(self):\n",
        "        return self.name\n",
        "\n",
        "user1 = User('이호준', '2024/01/15', '남', 15, 'hojun@gmail.com', '1q2w3e4r!')\n",
        "user1.name\n",
        "user1.accessdate\n",
        "\n",
        "User.user_count = 1\n",
        "user2 = User('홍길동', '2024/01/15', '남', 30, 'gildong@gmail.com', '1q2w3e4r!!')\n",
        "user1.name\n",
        "\n",
        "print(user1)"
      ],
      "metadata": {
        "colab": {
          "base_uri": "https://localhost:8080/"
        },
        "id": "_T1_xGaAgWml",
        "outputId": "de859312-3955-495b-c242-d428c81c6173"
      },
      "execution_count": 16,
      "outputs": [
        {
          "output_type": "stream",
          "name": "stdout",
          "text": [
            "이호준\n"
          ]
        }
      ]
    },
    {
      "cell_type": "code",
      "source": [
        "# 수정된 버전\n",
        "# 이해 X, 복습 X\n",
        "import hashlib\n",
        "import re\n",
        "from datetime import datetime\n",
        "\n",
        "class User:\n",
        "    user_count = 0\n",
        "    gender = ('남', '여')\n",
        "\n",
        "    def __init__(self, name, joindate, gender, age, email, password):\n",
        "        self.joindate = joindate\n",
        "        self.accessdate = joindate\n",
        "        self.name = name\n",
        "        self.gender = gender\n",
        "        self.age = age\n",
        "        self.email = email\n",
        "        self.password = self._hash_password(password)\n",
        "\n",
        "    def _hash_password(self, password):\n",
        "        return hashlib.sha256(password.encode()).hexdigest()\n",
        "\n",
        "    def change_password(self, password): # django의 user.set_password('비밀번호')와 비슷한 역할\n",
        "        if len(password) < 8: # validate 또는 유효성 검증이라고 합니다.\n",
        "            print('너무 짧습니다!')\n",
        "            return\n",
        "        self.password = self._hash_password(password)\n",
        "        self.accessdate = datetime.now().strftime('%Y/%m/%d')\n",
        "\n",
        "    def update_email(self, email):\n",
        "        if self._validate_email(email):\n",
        "            self.email = email\n",
        "            self.accessdate = datetime.now().strftime('%Y/%m/%d')\n",
        "        else:\n",
        "            print(\"유효하지 않은 이메일 주소입니다.\")\n",
        "\n",
        "    def _validate_email(self, email):\n",
        "        pattern = r\"[\\w.-]+@[\\w.-]+\\.\\w+\"\n",
        "        return re.match(pattern, email) is not None\n",
        "\n",
        "    def display_profile(self):\n",
        "        print(f'name: {self.name}')\n",
        "        print(f'joindate: {self.joindate}')\n",
        "        print(f'accessdate: {self.accessdate}')\n",
        "        print(f'email: {self.email}')\n",
        "\n",
        "    def __str__(self):\n",
        "        return self.name\n",
        "\n",
        "    def __repr__(self):\n",
        "        return self.name\n",
        "\n",
        "user1 = User('이호준', '2024/01/15', '남', 15, 'hojun@gmail.com', '1q2w3e4r!')\n",
        "user2 = User('홍길동', '2024/01/15', '남', 30, 'gildong@gmail.com', '1q2w3e4r!!')\n",
        "\n",
        "print(user1)\n",
        "user1.display_profile()\n",
        "user1.password"
      ],
      "metadata": {
        "colab": {
          "base_uri": "https://localhost:8080/",
          "height": 127
        },
        "id": "C5HkkpcHukYs",
        "outputId": "8448668b-69ed-4ef9-8e43-e7d11b2a2198"
      },
      "execution_count": 17,
      "outputs": [
        {
          "output_type": "stream",
          "name": "stdout",
          "text": [
            "이호준\n",
            "name: 이호준\n",
            "joindate: 2024/01/15\n",
            "accessdate: 2024/01/15\n",
            "email: hojun@gmail.com\n"
          ]
        },
        {
          "output_type": "execute_result",
          "data": {
            "text/plain": [
              "'febd93f04bda1aec0d374f8fd014d062525934feb1f1b81ee7c64d61f66b84b1'"
            ],
            "application/vnd.google.colaboratory.intrinsic+json": {
              "type": "string"
            }
          },
          "metadata": {},
          "execution_count": 17
        }
      ]
    },
    {
      "cell_type": "code",
      "source": [
        "# 온라인 쇼핑몰에서 장바구니에 넣기\n",
        "\n",
        "class Cart:\n",
        "    def __init__(self):\n",
        "        self.item = []\n",
        "\n",
        "    def add_item(self, item):\n",
        "        self.items.append({\n",
        "            '물품': item,\n",
        "            '갯수': count,\n",
        "        })\n",
        "\n",
        "    def total_price(self):\n",
        "        s= 0\n",
        "        for i in self.items:\n",
        "            pass\n",
        "\n",
        "class Product:\n",
        "    def __init__(self, product_name, price):\n",
        "        self.product_name = product_name\n",
        "        self.price = price\n",
        "\n",
        "    def __str__(self):\n",
        "        return self.product_name\n",
        "\n",
        "    def __repr__(self):\n",
        "        return 'hello world'\n",
        "\n",
        "로지텍키보드 = Product('로지텍키보드', 50000)\n",
        "LG모니터 = Product('LG모니터', 300000)\n",
        "그래픽카드4090 = Product('GTX4090', 2000000)\n",
        "\n",
        "hojun_cart = Cart()\n",
        "hojun_cart.add_item(로지텍키보드, 10)\n",
        "hojun_cart.add_item(LG모니터, 10)\n",
        "hojun_cart.add_item(그래픽카드4090, 2)\n",
        "hojun_cart.items"
      ],
      "metadata": {
        "colab": {
          "base_uri": "https://localhost:8080/",
          "height": 258
        },
        "id": "paVWCKgSutWb",
        "outputId": "974faf66-426f-42d7-867e-07ee67e7a0aa"
      },
      "execution_count": 20,
      "outputs": [
        {
          "output_type": "error",
          "ename": "TypeError",
          "evalue": "Cart.add_item() takes 2 positional arguments but 3 were given",
          "traceback": [
            "\u001b[0;31m---------------------------------------------------------------------------\u001b[0m",
            "\u001b[0;31mTypeError\u001b[0m                                 Traceback (most recent call last)",
            "\u001b[0;32m<ipython-input-20-bb7dad2c5b8b>\u001b[0m in \u001b[0;36m<cell line: 34>\u001b[0;34m()\u001b[0m\n\u001b[1;32m     32\u001b[0m \u001b[0;34m\u001b[0m\u001b[0m\n\u001b[1;32m     33\u001b[0m \u001b[0mhojun_cart\u001b[0m \u001b[0;34m=\u001b[0m \u001b[0mCart\u001b[0m\u001b[0;34m(\u001b[0m\u001b[0;34m)\u001b[0m\u001b[0;34m\u001b[0m\u001b[0;34m\u001b[0m\u001b[0m\n\u001b[0;32m---> 34\u001b[0;31m \u001b[0mhojun_cart\u001b[0m\u001b[0;34m.\u001b[0m\u001b[0madd_item\u001b[0m\u001b[0;34m(\u001b[0m\u001b[0m로지텍키보드\u001b[0m\u001b[0;34m,\u001b[0m \u001b[0;36m10\u001b[0m\u001b[0;34m)\u001b[0m\u001b[0;34m\u001b[0m\u001b[0;34m\u001b[0m\u001b[0m\n\u001b[0m\u001b[1;32m     35\u001b[0m \u001b[0mhojun_cart\u001b[0m\u001b[0;34m.\u001b[0m\u001b[0madd_item\u001b[0m\u001b[0;34m(\u001b[0m\u001b[0mLG모니터\u001b[0m\u001b[0;34m,\u001b[0m \u001b[0;36m10\u001b[0m\u001b[0;34m)\u001b[0m\u001b[0;34m\u001b[0m\u001b[0;34m\u001b[0m\u001b[0m\n\u001b[1;32m     36\u001b[0m \u001b[0mhojun_cart\u001b[0m\u001b[0;34m.\u001b[0m\u001b[0madd_item\u001b[0m\u001b[0;34m(\u001b[0m\u001b[0m그래픽카드4090\u001b[0m\u001b[0;34m,\u001b[0m \u001b[0;36m2\u001b[0m\u001b[0;34m)\u001b[0m\u001b[0;34m\u001b[0m\u001b[0;34m\u001b[0m\u001b[0m\n",
            "\u001b[0;31mTypeError\u001b[0m: Cart.add_item() takes 2 positional arguments but 3 were given"
          ]
        }
      ]
    },
    {
      "cell_type": "code",
      "source": [
        "# 온라인 쇼핑몰에서 장바구니에 넣기\n",
        "\n",
        "class Cart:\n",
        "    def __init__(self):\n",
        "        self.items = []\n",
        "\n",
        "    def add_item(self, item, count):\n",
        "        self.items.append({\n",
        "            '물품': item,\n",
        "            '갯수': count,\n",
        "        })\n",
        "\n",
        "    def total_price(self):\n",
        "        total_sum = 0\n",
        "        for i in self.items:\n",
        "            total_sum += i['물품'].price * i['갯수']\n",
        "        return format(total_sum, ',')\n",
        "\n",
        "class Product:\n",
        "    def __init__(self, product_name, price):\n",
        "        self.product_name = product_name\n",
        "        self.price = price\n",
        "\n",
        "    def __str__(self):\n",
        "        return self.product_name\n",
        "\n",
        "    def __repr__(self):\n",
        "        return self.product_name\n",
        "\n",
        "로지텍키보드 = Product('로지텍키보드', 50000)\n",
        "LG모니터 = Product('LG모니터', 300000)\n",
        "그래픽카드4090 = Product('GTX4090', 2000000)\n",
        "\n",
        "hojun_cart = Cart()\n",
        "hojun_cart.add_item(로지텍키보드, 10)\n",
        "hojun_cart.add_item(LG모니터, 10)\n",
        "hojun_cart.add_item(그래픽카드4090, 2)\n",
        "hojun_cart.items\n",
        "hojun_cart.total_price()"
      ],
      "metadata": {
        "colab": {
          "base_uri": "https://localhost:8080/",
          "height": 35
        },
        "id": "kAjnAIeTy2Na",
        "outputId": "e5151fc7-d309-4754-c4ba-a13223ba0591"
      },
      "execution_count": 21,
      "outputs": [
        {
          "output_type": "execute_result",
          "data": {
            "text/plain": [
              "'7,500,000'"
            ],
            "application/vnd.google.colaboratory.intrinsic+json": {
              "type": "string"
            }
          },
          "metadata": {},
          "execution_count": 21
        }
      ]
    },
    {
      "cell_type": "markdown",
      "source": [
        "#이론"
      ],
      "metadata": {
        "id": "vK0SSM0PzMhb"
      }
    },
    {
      "cell_type": "code",
      "source": [
        "# 클래스 메서드\n",
        "# 클래스 메서드는 클래스 변수를 변경하고 싶을 때 사용합니다.\n",
        "# 주의해야 할 점이 첫번째 인자로 오는 cls는 관습으로 고정입니다.\n",
        "# self가 a로 바꾸면 작동은 하지만 관습적으로 안되는 것처럼 cls도 바꾸시면 안됩니다.\n",
        "# cls는 class를 나타냅니다.\n",
        "\n",
        "class MyClass:\n",
        "    count = 0\n",
        "\n",
        "    @classmethod\n",
        "    def increment(cls):\n",
        "        cls.count += 1\n",
        "\n",
        "MyClass.increment()\n",
        "print(MyClass.count)  # 출력: 1"
      ],
      "metadata": {
        "id": "_0KkM9gy0CBS"
      },
      "execution_count": null,
      "outputs": []
    },
    {
      "cell_type": "code",
      "source": [
        "# 정적 메서드\n",
        "# 언제 쓰느냐!? 정적 메서드는 self로 내부 변수에 접근이 안되서\n",
        "# 책 클래스 만든 것 중 할인율 같이 관련은 있는데 밖으로 함수를 빼기 부담스러운 것들을 이렇게 사용합니다.\n",
        "\n",
        "class MyClass:\n",
        "    @staticmethod\n",
        "    def my_method(x, y):\n",
        "        return x + y\n",
        "\n",
        "print(MyClass.my_method(5, 3))  # 출력: 8"
      ],
      "metadata": {
        "id": "DPBk3uUN0Fmh"
      },
      "execution_count": null,
      "outputs": []
    },
    {
      "cell_type": "code",
      "source": [
        "class Book:\n",
        "    def __init__(self, name, price):\n",
        "        self.name = name\n",
        "        self.price = price\n",
        "\n",
        "    @staticmethod\n",
        "    def 할인율(원가, 할인):\n",
        "        return 원가 * (1-(할인/100))\n",
        "\n",
        "boo1 = Book('python 100제', 9000)\n",
        "\n",
        "Book.할인율(boo1.price, 10) # 밖으로 뺄 수 있는 함수이고, 굳이 안에 들어갈 필요가 없죠?\n",
        "# 그런데 할인율은 Book과 연관이 있습니다.\n",
        "# 이렇게 코딩을 하시면 유지보수하기가 좋습니다. # 밖으로 뺼 수 있는 함수이고, 굳이 안에 들어갈 필요가 없음.\n",
        "# 그런데 할인율은 Book과 연관이 있습니다.\n",
        "# 이렇게 코딩을 하시면 유지보수하기가 좋습니다."
      ],
      "metadata": {
        "id": "szFzB0Z30e5K"
      },
      "execution_count": null,
      "outputs": []
    },
    {
      "cell_type": "code",
      "source": [
        "# 비권장하는 케이스\n",
        "\n",
        "class Book:\n",
        "    def __init__(self, name, price):\n",
        "        self.name = name\n",
        "        self.price = price\n",
        "\n",
        "def 할인율(원가, 할인):\n",
        "    return 원가 * (1-(할인/100))\n",
        "\n",
        "boo1 = Book('python 100제', 9000)\n",
        "\n",
        "할인율(boo1.price, 10)"
      ],
      "metadata": {
        "id": "V9yZYQqv1VNH"
      },
      "execution_count": null,
      "outputs": []
    },
    {
      "cell_type": "code",
      "source": [
        "#속성 접근자 (Property) #중요도 별 .5 개\n",
        "class Person:\n",
        "    def __init__(self, first_name, last_name):\n",
        "        self._first_name = first_name\n",
        "        self._last_name = last_name\n",
        "\n",
        "    @property\n",
        "    def full_name(self):\n",
        "        return f'{self._first_name}{self._last_name}'\n",
        "\n",
        "licat = Person('li', 'cat')\n",
        "print(licat._first_name)\n",
        "print(licat._last_name)\n",
        "print(licat.full_name)\n",
        "# print(licat.full_name())"
      ],
      "metadata": {
        "id": "pEzEskOp1b-A"
      },
      "execution_count": null,
      "outputs": []
    },
    {
      "cell_type": "code",
      "source": [
        "# 덕타이핑\n",
        "# https://world.weniv.co.kr/\n",
        "\n",
        "# licat.move()\n",
        "# move() => 직관적이고 누가 움직이는지는 알고 싶지 않고 주인공을 앞으로 한 칸 움직이고 싶다.\n",
        "\n",
        "class Duck:\n",
        "    def quack(self):\n",
        "        print('꽥꽥!')\n",
        "\n",
        "class Person:\n",
        "    def quack(self):\n",
        "        print(\"안녕하세요!\")\n",
        "\n",
        "def quack(obj):\n",
        "    obj.quack()\n",
        "\n",
        "duck = Duck()\n",
        "person = Person()\n",
        "\n",
        "quack(duck)  # 출력: 꽥꽥! duck.quack() 대신 quack(duck)를 사용하겠다.\n",
        "quack(person)  # 출력: 안녕하세요! person.quack() 대신 quack(person)를 사용하겠다."
      ],
      "metadata": {
        "colab": {
          "base_uri": "https://localhost:8080/"
        },
        "id": "W2w_SQHq3iNH",
        "outputId": "7a770f01-55a2-44ce-8f90-4c82b70fa4e7"
      },
      "execution_count": 22,
      "outputs": [
        {
          "output_type": "stream",
          "name": "stdout",
          "text": [
            "꽥꽥!\n",
            "안녕하세요!\n"
          ]
        }
      ]
    },
    {
      "cell_type": "code",
      "source": [
        "# 오버라이딩\n",
        "# 자식이 부모의 메서드를 덮어 쓰는 것\n",
        "\n",
        "class Animal:\n",
        "    def sound(self):\n",
        "        print(\"기본 동물 울음 소리, 악!\")\n",
        "\n",
        "class Dog(Animal):\n",
        "    def sound(self):\n",
        "        print(\"왈왈!\")\n",
        "\n",
        "class Cat(Animal):\n",
        "    def sound(self):\n",
        "        print(\"냐옹!\")\n",
        "\n",
        "# super()를 사용해서 부모의 메서드를 사용 할 수 있습니다.\n",
        "class Bird(Animal):\n",
        "    def sound(self):\n",
        "        super().sound()\n",
        "        print(\"짹짹!\")\n",
        "\n",
        "b = Bird()\n",
        "b.sound()"
      ],
      "metadata": {
        "colab": {
          "base_uri": "https://localhost:8080/"
        },
        "id": "fBM6uQJl4nXr",
        "outputId": "2c7046cb-3a25-4fb4-87a6-d113c6c2b392"
      },
      "execution_count": 1,
      "outputs": [
        {
          "output_type": "stream",
          "name": "stdout",
          "text": [
            "기본 동물 울음 소리, 악!\n",
            "짹짹!\n"
          ]
        }
      ]
    },
    {
      "cell_type": "code",
      "source": [
        "class Person:\n",
        "    def __init__(self, name):\n",
        "        self.name = name\n",
        "\n",
        "class Student(Person):\n",
        "    def __init__(self, name, student_id):\n",
        "        super().__init__(name)  # 부모 클래스의 __init__ 메서드 호출\n",
        "        self.student_id = student_id\n",
        "\n",
        "s = Student(\"Alice\", \"S12345\")\n",
        "print(s.name)        # 출력: Alice\n",
        "print(s.student_id)  # 출력: S12345"
      ],
      "metadata": {
        "colab": {
          "base_uri": "https://localhost:8080/"
        },
        "id": "9we-pvdE7z6v",
        "outputId": "8c59fa64-fa68-4626-afbc-fcadf7894c90"
      },
      "execution_count": 2,
      "outputs": [
        {
          "output_type": "stream",
          "name": "stdout",
          "text": [
            "Alice\n",
            "S12345\n"
          ]
        }
      ]
    },
    {
      "cell_type": "code",
      "source": [
        "# 추상 클래스 (Abstract Base Class, ABC) => 중요도는 높지만 빈도가 낮아 별 .5 개\n",
        "# 추상 클래스: 반지시 구현되어야 하는 메서드를 명시하면\n",
        "#그것을 상속한 클래스에서는 메서드를 구현해야 합니다.\n",
        "# 언제 사용하나요? 예를 들어 빠트리면 안되는 메서드가 있는 경우\n",
        "# 게시판 만드는데 게시물 업데이트 날짜, 생성 날짜를 추상 클래스로 구현할 수 있습니다.\n",
        "\n",
        "from abc import ABC, abstractmethod\n",
        "\n",
        "class AbstractClassExample(ABC):\n",
        "\n",
        "    @abstractmethod\n",
        "    def do_something(self):\n",
        "        pass\n",
        "\n",
        "class Person(AbstractClassExample):\n",
        "\n",
        "    def __init__(self, name):\n",
        "        self.name = name\n",
        "\n",
        "    def print_name(self):\n",
        "        print(f'제 이름은 {self.name}입니다.')\n",
        "\n",
        "    def do_something(self):\n",
        "        print('hello')\n",
        "\n",
        "hojun = Person('hojun')\n",
        "hojun.print_name()"
      ],
      "metadata": {
        "colab": {
          "base_uri": "https://localhost:8080/"
        },
        "id": "ts1uAymN8KgO",
        "outputId": "c786b5c6-909e-4fec-987e-6af2ea5712fe"
      },
      "execution_count": 4,
      "outputs": [
        {
          "output_type": "stream",
          "name": "stdout",
          "text": [
            "제 이름은 hojun입니다.\n"
          ]
        }
      ]
    },
    {
      "cell_type": "code",
      "source": [
        "# 비공개 속성\n",
        "# 시큐어 코딩\n",
        "# 별표 0.3개\n",
        "\n",
        "class MyClass:\n",
        "    __a = 10 # 비공개 속성(Private Attributes)\n",
        "    _a = 100\n",
        "    b = 20\n",
        "\n",
        "    def __init__(self, c, d):\n",
        "        self.__c = c\n",
        "        self.d = d\n",
        "\n",
        "c = MyClass(30, 40)\n",
        "c._a # 보통 다른 언어에서는 _ 한개가 prive value입니다.\n",
        "# c.__a # 어? 접근이 안되네!? 이걸로 변수를 감추면 되겠다!? => 이렇게 생각하면 안된다는 것입니다.\n",
        "\n",
        "# c.__a #error\n",
        "# c._a # 출력: 100\n",
        "# c.b # 출력: 20\n",
        "# # c.__c # error\n",
        "# c.d # 출력: 40\n",
        "\n",
        "print(c._MyClass__c) # 실제로는 이렇게 출력할 수 있습니다."
      ],
      "metadata": {
        "id": "kOyLY1rBAb5t"
      },
      "execution_count": null,
      "outputs": []
    }
  ]
}