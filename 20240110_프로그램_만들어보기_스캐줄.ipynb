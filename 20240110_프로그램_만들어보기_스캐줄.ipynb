{
  "nbformat": 4,
  "nbformat_minor": 0,
  "metadata": {
    "colab": {
      "provenance": [],
      "authorship_tag": "ABX9TyO/Arzzl4LjY7QFQeuepIRz",
      "include_colab_link": true
    },
    "kernelspec": {
      "name": "python3",
      "display_name": "Python 3"
    },
    "language_info": {
      "name": "python"
    }
  },
  "cells": [
    {
      "cell_type": "markdown",
      "metadata": {
        "id": "view-in-github",
        "colab_type": "text"
      },
      "source": [
        "<a href=\"https://colab.research.google.com/github/SungjaeS/orm/blob/main/20240110_%ED%94%84%EB%A1%9C%EA%B7%B8%EB%9E%A8_%EB%A7%8C%EB%93%A4%EC%96%B4%EB%B3%B4%EA%B8%B0_%EC%8A%A4%EC%BA%90%EC%A4%84.ipynb\" target=\"_parent\"><img src=\"https://colab.research.google.com/assets/colab-badge.svg\" alt=\"Open In Colab\"/></a>"
      ]
    },
    {
      "cell_type": "code",
      "execution_count": 1,
      "metadata": {
        "colab": {
          "base_uri": "https://localhost:8080/"
        },
        "id": "FTz3nS77wk0s",
        "outputId": "484e3839-a386-443c-e7fb-8394e40a6d08"
      },
      "outputs": [
        {
          "output_type": "stream",
          "name": "stdout",
          "text": [
            "\n",
            "할 일 목록 관리 프로그램\n",
            "1. 할 일 표시하기\n",
            "2. 할 일 추가하기\n",
            "3. 할 일 삭제하기\n",
            "4. 프로그램 종료하기\n",
            "원하는 작업을 선택하세요: 1\n",
            "할 일 목록이 비어있습니다.\n",
            "\n",
            "할 일 목록 관리 프로그램\n",
            "1. 할 일 표시하기\n",
            "2. 할 일 추가하기\n",
            "3. 할 일 삭제하기\n",
            "4. 프로그램 종료하기\n",
            "원하는 작업을 선택하세요: 2\n",
            "추가할 할 일: 컴퓨터\n",
            "'컴퓨터'이(가) 할 일 목록에 추가되었습니다.\n",
            "\n",
            "할 일 목록 관리 프로그램\n",
            "1. 할 일 표시하기\n",
            "2. 할 일 추가하기\n",
            "3. 할 일 삭제하기\n",
            "4. 프로그램 종료하기\n",
            "원하는 작업을 선택하세요: 2\n",
            "추가할 할 일: 잠자기\n",
            "'잠자기'이(가) 할 일 목록에 추가되었습니다.\n",
            "\n",
            "할 일 목록 관리 프로그램\n",
            "1. 할 일 표시하기\n",
            "2. 할 일 추가하기\n",
            "3. 할 일 삭제하기\n",
            "4. 프로그램 종료하기\n",
            "원하는 작업을 선택하세요: 1\n",
            "\n",
            "할 일 목록:\n",
            "1. 컴퓨터\n",
            "2. 잠자기\n",
            "\n",
            "할 일 목록 관리 프로그램\n",
            "1. 할 일 표시하기\n",
            "2. 할 일 추가하기\n",
            "3. 할 일 삭제하기\n",
            "4. 프로그램 종료하기\n",
            "원하는 작업을 선택하세요: 4\n",
            "프로그램을 종료합니다.\n"
          ]
        }
      ],
      "source": [
        "# 할 일 목록을 저장할 리스트\n",
        "todo_list = []  # 할일을 저장할 빈 리스트를 생성합니다.\n",
        "\n",
        "# 할 일 목록을 표시하는 함수\n",
        "def display_todo_list():\n",
        "    if len(todo_list) == 0:\n",
        "        print(\"할 일 목록이 비어있습니다.\")  # 만약 할 일 목록이 비어있으면 메시지를 출력합니다.\n",
        "    else:\n",
        "        print(\"\\n할 일 목록:\")\n",
        "        for idx, item in enumerate(todo_list):\n",
        "            print(f\"{idx + 1}. {item}\")  # 할 일 목록을 번호와 함께 출력합니다.\n",
        "\n",
        "# 할 일을 추가하는 함수\n",
        "def add_todo_item(item):\n",
        "    todo_list.append(item)\n",
        "    print(f\"'{item}'이(가) 할 일 목록에 추가되었습니다.\")  # 새로운 할 일을 목록에 추가하고 성공 메시지를 출력합니다.\n",
        "\n",
        "# 할 일을 삭제하는 함수\n",
        "def delete_todo_item(index):\n",
        "    if 0 < index <= len(todo_list):\n",
        "        item = todo_list.pop(index - 1)\n",
        "        print(f\"'{item}'이(가) 할 일 목록에서 삭제되었습니다.\")  # 지정된 인덱스의 할 일을 목록에서 삭제하고 성공 메시지를 출력합니다.\n",
        "    else:\n",
        "        print(\"잘못된 인덱스입니다.\")  # 잘못된 인덱스가 입력되었을 경우 오류 메시지를 출력합니다.\n",
        "\n",
        "# 사용자 입력 처리 함수\n",
        "def handle_user_input():\n",
        "    try:\n",
        "        while True:\n",
        "            print(\"\\n할 일 목록 관리 프로그램\")\n",
        "            print(\"1. 할 일 표시하기\")\n",
        "            print(\"2. 할 일 추가하기\")\n",
        "            print(\"3. 할 일 삭제하기\")\n",
        "            print(\"4. 프로그램 종료하기\")\n",
        "            choice = str(input(\"원하는 작업을 선택하세요: \"))  # 사용자에게 선택지를 보여주고 선택을 입력받습니다.\n",
        "\n",
        "            if choice == '1':\n",
        "                display_todo_list()\n",
        "            elif choice == '2':\n",
        "                item = str(input(\"추가할 할 일: \"))\n",
        "                add_todo_item(item)\n",
        "            elif choice == '3':\n",
        "                index = int(input(\"삭제할 할 일의 번호: \"))\n",
        "                delete_todo_item(index)\n",
        "            elif choice == '4':\n",
        "                print(\"프로그램을 종료합니다.\")  # 프로그램 종료 메시지를 출력하고 루프를 종료합니다.\n",
        "                break\n",
        "            else:\n",
        "                print(\"잘못된 선택입니다. 다시 시도해주세요.\")  # 잘못된 선택이 입력되었을 경우 오류 메시지를 출력합니다.\n",
        "    except KeyboardInterrupt:\n",
        "        print(\"\\n프로그램을 종료합니다.\")  # Ctrl+C를 사용하여 프로그램을 강제 종료했을 때 메시지를 출력합니다.\n",
        "\n",
        "# 프로그램 실행\n",
        "handle_user_input()"
      ]
    }
  ]
}