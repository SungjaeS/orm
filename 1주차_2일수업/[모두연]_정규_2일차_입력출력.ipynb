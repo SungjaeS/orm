{
  "nbformat": 4,
  "nbformat_minor": 0,
  "metadata": {
    "colab": {
      "provenance": [],
      "authorship_tag": "ABX9TyMzujn7A69Cpz2vYd31zYnZ",
      "include_colab_link": true
    },
    "kernelspec": {
      "name": "python3",
      "display_name": "Python 3"
    },
    "language_info": {
      "name": "python"
    }
  },
  "cells": [
    {
      "cell_type": "markdown",
      "metadata": {
        "id": "view-in-github",
        "colab_type": "text"
      },
      "source": [
        "<a href=\"https://colab.research.google.com/github/SungjaeS/orm/blob/main/%5B%EB%AA%A8%EB%91%90%EC%97%B0%5D_%EC%A0%95%EA%B7%9C_2%EC%9D%BC%EC%B0%A8_%EC%9E%85%EB%A0%A5%EC%B6%9C%EB%A0%A5.ipynb\" target=\"_parent\"><img src=\"https://colab.research.google.com/assets/colab-badge.svg\" alt=\"Open In Colab\"/></a>"
      ]
    },
    {
      "cell_type": "markdown",
      "source": [
        "# 1. 입력함수 input"
      ],
      "metadata": {
        "id": "1O-TjUNjbFNo"
      }
    },
    {
      "cell_type": "markdown",
      "source": [
        "##1.1 input 실습 - 1"
      ],
      "metadata": {
        "id": "I06U67gpbFJ8"
      }
    },
    {
      "cell_type": "code",
      "source": [
        "input('입력해주세요')"
      ],
      "metadata": {
        "colab": {
          "base_uri": "https://localhost:8080/",
          "height": 54
        },
        "id": "pPM29-uIbFGl",
        "outputId": "1a8c638d-2c85-48b4-ae0e-1f40a8e20b85"
      },
      "execution_count": 18,
      "outputs": [
        {
          "name": "stdout",
          "output_type": "stream",
          "text": [
            "입력해주세요 안녕 세상아\n"
          ]
        },
        {
          "output_type": "execute_result",
          "data": {
            "text/plain": [
              "' 안녕 세상아'"
            ],
            "application/vnd.google.colaboratory.intrinsic+json": {
              "type": "string"
            }
          },
          "metadata": {},
          "execution_count": 18
        }
      ]
    },
    {
      "cell_type": "code",
      "source": [
        "input('입력해주세요') # 이상한값이 나올수 있음"
      ],
      "metadata": {
        "colab": {
          "base_uri": "https://localhost:8080/",
          "height": 54
        },
        "id": "3p-8gFTGbFBd",
        "outputId": "346a5809-3095-458e-8cc6-42ec2d56d69e"
      },
      "execution_count": 19,
      "outputs": [
        {
          "name": "stdout",
          "output_type": "stream",
          "text": [
            "입력해주세요10\n"
          ]
        },
        {
          "output_type": "execute_result",
          "data": {
            "text/plain": [
              "'10'"
            ],
            "application/vnd.google.colaboratory.intrinsic+json": {
              "type": "string"
            }
          },
          "metadata": {},
          "execution_count": 19
        }
      ]
    },
    {
      "cell_type": "code",
      "source": [
        "int(input('입력해주세요'))"
      ],
      "metadata": {
        "colab": {
          "base_uri": "https://localhost:8080/"
        },
        "id": "U8FAaTxPbE9R",
        "outputId": "a16df4c4-01aa-48b6-9049-5101ad90a840"
      },
      "execution_count": 20,
      "outputs": [
        {
          "name": "stdout",
          "output_type": "stream",
          "text": [
            "입력해주세요10\n"
          ]
        },
        {
          "output_type": "execute_result",
          "data": {
            "text/plain": [
              "10"
            ]
          },
          "metadata": {},
          "execution_count": 20
        }
      ]
    },
    {
      "cell_type": "markdown",
      "source": [
        "## 1.2 input 실습 - 2\n",
        "\n",
        "input으로 받은 값을 변수에 할당"
      ],
      "metadata": {
        "id": "8ufjvSf7bE50"
      }
    },
    {
      "cell_type": "code",
      "source": [
        "name = input(\"이름을 입력해주세요\")"
      ],
      "metadata": {
        "colab": {
          "base_uri": "https://localhost:8080/"
        },
        "id": "2g80U5lGbE2K",
        "outputId": "8547966e-f950-41da-c878-04954c588716"
      },
      "execution_count": 22,
      "outputs": [
        {
          "name": "stdout",
          "output_type": "stream",
          "text": [
            "이름을 입력해주세요신성재\n"
          ]
        }
      ]
    },
    {
      "cell_type": "code",
      "source": [
        "print(\"Hello, \" + name + \"!\")"
      ],
      "metadata": {
        "id": "kZNDq9HPbEx0"
      },
      "execution_count": null,
      "outputs": []
    },
    {
      "cell_type": "code",
      "source": [
        "# input을 활용한 덧셈 - 문자열인 경우\n",
        "a = input(\"첫번째 숫자를 입력해주세요\")\n",
        "b = input(\"두번째 숫자를 입력해주세요\")\n",
        "\n",
        "print(\"a + b = \", a+b, \" 입니다.\" )"
      ],
      "metadata": {
        "colab": {
          "base_uri": "https://localhost:8080/"
        },
        "id": "SkxQkJngbEgf",
        "outputId": "d9068704-2d55-4cd6-b582-977087fb1cf0"
      },
      "execution_count": 23,
      "outputs": [
        {
          "output_type": "stream",
          "name": "stdout",
          "text": [
            "첫번째 숫자를 입력해주세요10\n",
            "두번째 숫자를 입력해주세요20\n",
            "a + b =  1020  입니다.\n"
          ]
        }
      ]
    },
    {
      "cell_type": "code",
      "source": [
        "# input을 활용한 덧셈 - 숫자열인 경우\n",
        "a = int(input(\"첫번째 숫자를 입력해주세요\"))\n",
        "b = int(input(\"두번째 숫자를 입력해주세요\"))\n",
        "\n",
        "print(\"a + b = \", a+b, \" 입니다.\" )"
      ],
      "metadata": {
        "colab": {
          "base_uri": "https://localhost:8080/"
        },
        "id": "fiheQ-GvbA55",
        "outputId": "7968b3c1-6f26-4731-c55e-3ed997c5910f"
      },
      "execution_count": 26,
      "outputs": [
        {
          "output_type": "stream",
          "name": "stdout",
          "text": [
            "첫번째 숫자를 입력해주세요10\n",
            "두번째 숫자를 입력해주세요20\n",
            "a + b =  30  입니다.\n"
          ]
        }
      ]
    },
    {
      "cell_type": "markdown",
      "source": [
        "# 2.출력함수 Print"
      ],
      "metadata": {
        "id": "kLMqS3RcPkxp"
      }
    },
    {
      "cell_type": "code",
      "source": [
        "# 1. 여러줄 출력\n",
        "\n",
        "'출력합니다.'\n",
        "'출력합니다.'"
      ],
      "metadata": {
        "colab": {
          "base_uri": "https://localhost:8080/",
          "height": 35
        },
        "id": "-qgtIv7RQGIt",
        "outputId": "a1b1488b-d615-45f7-ee17-9292c8147d3f"
      },
      "execution_count": null,
      "outputs": [
        {
          "output_type": "execute_result",
          "data": {
            "text/plain": [
              "'출력합니다.'"
            ],
            "application/vnd.google.colaboratory.intrinsic+json": {
              "type": "string"
            }
          },
          "metadata": {},
          "execution_count": 1
        }
      ]
    },
    {
      "cell_type": "code",
      "source": [
        "# 2. 여러값 출력\n",
        "\n",
        "print(\"hello\", \"world\", \"!\")"
      ],
      "metadata": {
        "colab": {
          "base_uri": "https://localhost:8080/"
        },
        "id": "xxzeOLWjPrkm",
        "outputId": "3f1ed324-6ed9-4e34-e205-cc4442c7d6ac"
      },
      "execution_count": 5,
      "outputs": [
        {
          "output_type": "stream",
          "name": "stdout",
          "text": [
            "hello world !\n"
          ]
        }
      ]
    },
    {
      "cell_type": "code",
      "source": [
        "# 3. sep / end 구분자\n",
        "\n",
        "print(\"hello\", \"world\", \"!\", sep=\"-\", end = \"!!!\")"
      ],
      "metadata": {
        "colab": {
          "base_uri": "https://localhost:8080/"
        },
        "id": "L1yIsKPMP4nA",
        "outputId": "34def78f-d63c-44b6-e4a6-47830e4fadf4"
      },
      "execution_count": 27,
      "outputs": [
        {
          "output_type": "stream",
          "name": "stdout",
          "text": [
            "hello-world-!!!!"
          ]
        }
      ]
    },
    {
      "cell_type": "code",
      "source": [
        "# 4. f-string\n",
        "# 4.1 f-string에서 f가 없을때\n",
        "\n",
        "name = 'Licat'\n",
        "age = 10\n",
        "print('제 이름은 {name}, 제 나이는 {age} 입니다.')"
      ],
      "metadata": {
        "colab": {
          "base_uri": "https://localhost:8080/"
        },
        "id": "VERnjkzaUz3z",
        "outputId": "757752d0-de6c-4462-faea-b5f71084c489"
      },
      "execution_count": 28,
      "outputs": [
        {
          "output_type": "stream",
          "name": "stdout",
          "text": [
            "제 이름은 {name}, 제 나이는 {age} 입니다.\n"
          ]
        }
      ]
    },
    {
      "cell_type": "code",
      "source": [
        "# 4.2 f-string 에서 중괄호가 없을떄\n",
        "\n",
        "name = 'Licat'\n",
        "age = 10\n",
        "print(f'제 이름은 name, 제 나이는 age 입니다.')"
      ],
      "metadata": {
        "colab": {
          "base_uri": "https://localhost:8080/"
        },
        "id": "5_GQekVZQbDH",
        "outputId": "4fc52fbc-1e7c-4fa8-a6e7-04fc8b85c15c"
      },
      "execution_count": 29,
      "outputs": [
        {
          "output_type": "stream",
          "name": "stdout",
          "text": [
            "제 이름은 name, 제 나이는 age 입니다.\n"
          ]
        }
      ]
    },
    {
      "cell_type": "code",
      "source": [
        "# 4.3 f-string 을 잘 사용했을떄\n",
        "name = 'Licat'\n",
        "age = 10\n",
        "print(f'제 이름은 {name}, 제 나이는 {age} 입니다.')"
      ],
      "metadata": {
        "colab": {
          "base_uri": "https://localhost:8080/"
        },
        "id": "e8M99LE5RvBC",
        "outputId": "4cc8b0e4-e84a-418d-bf4e-dffbf7037e07"
      },
      "execution_count": 15,
      "outputs": [
        {
          "output_type": "stream",
          "name": "stdout",
          "text": [
            "제 이름은 Licat, 제 나이는 10 입니다.\n"
          ]
        }
      ]
    },
    {
      "cell_type": "code",
      "source": [
        "# 4.4 예시\n",
        "name = input(\"이름을 입력해주세요\")\n",
        "age = int(input(\"나이를 입력해주세요\"))\n",
        "\n",
        "print(f'제 이름은 {name}, 제 나이는 {age} 입니다.')"
      ],
      "metadata": {
        "colab": {
          "base_uri": "https://localhost:8080/"
        },
        "id": "70Z_4_eoR6Nk",
        "outputId": "370b70c3-91b8-4aa7-d94c-0fc2301e7161"
      },
      "execution_count": 30,
      "outputs": [
        {
          "output_type": "stream",
          "name": "stdout",
          "text": [
            "이름을 입력해주세요신성재\n",
            "나이를 입력해주세요38\n",
            "제 이름은 신성재, 제 나이는 38 입니다.\n"
          ]
        }
      ]
    },
    {
      "cell_type": "code",
      "source": [
        "# 5. None\n",
        "\n",
        "a = None"
      ],
      "metadata": {
        "id": "SnB6Ap92SlR5"
      },
      "execution_count": 10,
      "outputs": []
    },
    {
      "cell_type": "code",
      "source": [
        "a"
      ],
      "metadata": {
        "id": "fN0m6hgrUFbs"
      },
      "execution_count": null,
      "outputs": []
    },
    {
      "cell_type": "code",
      "source": [
        "print(a)"
      ],
      "metadata": {
        "colab": {
          "base_uri": "https://localhost:8080/"
        },
        "id": "AadM40OyT7y_",
        "outputId": "f511f1fc-d736-4333-c77b-80b9607e4cf4"
      },
      "execution_count": 11,
      "outputs": [
        {
          "output_type": "stream",
          "name": "stdout",
          "text": [
            "None\n"
          ]
        }
      ]
    },
    {
      "cell_type": "code",
      "source": [],
      "metadata": {
        "id": "tuLcsCBiUOws"
      },
      "execution_count": null,
      "outputs": []
    }
  ]
}