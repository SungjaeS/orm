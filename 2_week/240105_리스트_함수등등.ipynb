{
  "nbformat": 4,
  "nbformat_minor": 0,
  "metadata": {
    "colab": {
      "provenance": [],
      "authorship_tag": "ABX9TyO5T/iK2llDpjEp/H0UzoO8",
      "include_colab_link": true
    },
    "kernelspec": {
      "name": "python3",
      "display_name": "Python 3"
    },
    "language_info": {
      "name": "python"
    }
  },
  "cells": [
    {
      "cell_type": "markdown",
      "metadata": {
        "id": "view-in-github",
        "colab_type": "text"
      },
      "source": [
        "<a href=\"https://colab.research.google.com/github/SungjaeS/orm/blob/main/240105_%EB%A6%AC%EC%8A%A4%ED%8A%B8_%ED%95%A8%EC%88%98%EB%93%B1%EB%93%B1.ipynb\" target=\"_parent\"><img src=\"https://colab.research.google.com/assets/colab-badge.svg\" alt=\"Open In Colab\"/></a>"
      ]
    },
    {
      "cell_type": "markdown",
      "source": [
        "#1. 리스트\n",
        "\n",
        "1.1 리스트 메서드"
      ],
      "metadata": {
        "id": "5FbuB_zMFO5z"
      }
    },
    {
      "cell_type": "code",
      "source": [
        "a= 10\n",
        "b = a\n",
        "c = b\n",
        "\n",
        "print(c)\n",
        "\n",
        "a = 10\n",
        "b = a\n",
        "c = b\n",
        "a = 20\n",
        "print(c)\n",
        "\n",
        "a = 10\n",
        "b = a\n",
        "print(id(a))\n",
        "print(id(b)) #이렇게 아이디 비교해서 다이렉션을 개념을 생각하면됨."
      ],
      "metadata": {
        "colab": {
          "base_uri": "https://localhost:8080/"
        },
        "id": "qoqzdTZjSpzy",
        "outputId": "3e245ebf-43db-4c4e-88cf-0f4c6a13405e"
      },
      "execution_count": 18,
      "outputs": [
        {
          "output_type": "stream",
          "name": "stdout",
          "text": [
            "10\n",
            "10\n",
            "134782479417872\n",
            "134782479417872\n"
          ]
        }
      ]
    },
    {
      "cell_type": "code",
      "source": [
        "# -5부터 256은 같습니다.\n",
        "a = 10\n",
        "b = 10\n",
        "\n",
        "print(id(a))\n",
        "print(id(b))\n",
        "print(a is b)\n",
        "\n",
        "\n",
        "a = 257\n",
        "b = 257\n",
        "\n",
        "print(id(a))\n",
        "print(id(b))\n",
        "print(a is b)\n"
      ],
      "metadata": {
        "colab": {
          "base_uri": "https://localhost:8080/"
        },
        "id": "GfBikG1xT59E",
        "outputId": "b3910600-e80e-4be1-c993-8091a10c4c90"
      },
      "execution_count": 19,
      "outputs": [
        {
          "output_type": "stream",
          "name": "stdout",
          "text": [
            "134782479417872\n",
            "134782479417872\n",
            "True\n",
            "134781210471344\n",
            "134781210470384\n",
            "False\n"
          ]
        }
      ]
    },
    {
      "cell_type": "code",
      "source": [
        "0.1 + 0.2 # 0.1이 2진수로 표현했을 때 무한소수입니다.\n"
      ],
      "metadata": {
        "colab": {
          "base_uri": "https://localhost:8080/"
        },
        "id": "HnrG5mF6J5IU",
        "outputId": "3020fc12-20d6-49f0-c492-4b55baf08ca5"
      },
      "execution_count": 1,
      "outputs": [
        {
          "output_type": "execute_result",
          "data": {
            "text/plain": [
              "0.30000000000000004"
            ]
          },
          "metadata": {},
          "execution_count": 1
        }
      ]
    },
    {
      "cell_type": "code",
      "source": [
        "# 회색 줄은 영문자 80자, 한글은 32자\n",
        "# PEP8, PEP20\n",
        "# 줄이 너무 길면 가독성이 떨어집니다.\n",
        "# Python 잘 하시는 분 보면 모든지 한 줄로 할려고 하는 분 만나는데\n",
        "# 이거 안좋은 습관입니다.\n",
        "\n",
        "print('hello worldhello worldhello worldhello worldhello worldhello worldhello worldhello world')\n",
        "\n",
        "# 해결책 1: 역슬러시 넣는 방법(저는 권고하지 않습니다!, 이스케이 문자랑 혼동될 수 있습니다.)\n",
        "print('hello worldhello worldhello worldhello worldhello worldhello worldhello \\\n",
        "worldhello world')\n",
        "print('hello world \\n hello world')\n",
        "\n",
        "# 해결책 2: 콤마를 찍지 않은 연결\n",
        "print('hello world' 'hello world')\n",
        "print('hello world'\n",
        "      'hello world')"
      ],
      "metadata": {
        "colab": {
          "base_uri": "https://localhost:8080/"
        },
        "id": "btLLIlYPFn8u",
        "outputId": "1cbb6c40-2d92-4eac-bf52-e1d9698b0d58"
      },
      "execution_count": 13,
      "outputs": [
        {
          "output_type": "stream",
          "name": "stdout",
          "text": [
            "hello worldhello worldhello worldhello worldhello worldhello worldhello worldhello world\n",
            "hello worldhello worldhello worldhello worldhello worldhello worldhello worldhello world\n",
            "hello world \n",
            " hello world\n",
            "hello worldhello world\n",
            "hello worldhello world\n"
          ]
        }
      ]
    },
    {
      "cell_type": "code",
      "source": [
        "# 질문: 메서드 체인으로 길어지면 어떻게 하나요?\n",
        "# 답: 메서드 체인으로 80자 이상이면 이미 가독성에 문제가 있는 것입니다.\n",
        "# 메서드 체이닝을 3개 이상을 하길 권하지 않습니다.(가독성이 악화됩니다.)\n",
        "\n",
        "# 문제 있는 코드\n",
        "'hello world'.upper().split(' ').pop().lower() # 이렇게 코딩하시면 제가 Reject합니다.\n",
        "\n",
        "# 문제가 덜한 코드\n",
        "대문자 = 'hello world'.upper()\n",
        "잘린대문자 = 대문자.split(' ')\n",
        "\n",
        "# 허용함\n",
        "'hello world'.upper()\\\n",
        "    .split(' ')\\\n",
        "    .pop()\\\n",
        "    .lower()\n",
        "\n",
        "# 허용함\n",
        "'hello world'.upper()   .split(' ')   .pop()   .lower()\n",
        "\n",
        "# 허용하지 않음(\\n)\n",
        "# 'hello world'.upper()\n",
        "#     .split(' ')\n",
        "#     .pop()\n",
        "#     .lower()\n",
        "\n",
        "# 허용하지 않음(\\n)\n",
        "# 'hello world'.upper()\n",
        "# .split(' ')\n",
        "# .pop()\n",
        "# .lower()"
      ],
      "metadata": {
        "id": "0T1jqoTbLf0O"
      },
      "execution_count": 12,
      "outputs": []
    },
    {
      "cell_type": "code",
      "source": [
        "# 문자열 메서드\n",
        "dir('hello world') #메서드, 매직메서드, (클래스 변수, 인스턴스 변수)\n",
        "\n",
        "# 문제1: find와 index 차이\n",
        "# 실무에서 사용하는 코드:\n",
        "\n",
        "if 'hello world'. find('hi'):\n",
        "    print('찾았다!')\n",
        "\n",
        "# 문제2 isdigit의 정체\n",
        "\n",
        "'123'.isdigit()\n",
        "'12h3'.isdigit()\n",
        "\n",
        "# 문제3 replace 가 어디까지 변환하는지?\n",
        "'hello world hello world hello world'.replace('hello', 'hi')# 모두 다 변환이 됩니다. 몇 개만 변환이 되는것이 아닙니다.\n",
        "#알아두셔야 할 사항: replace는 정규표현식이 안됩니다.\n",
        "#replace를 정규표현식을 사용하고 싶은면 re.sub를 사용해야 합니다.\n",
        "\n",
        "# 문제4 strip(공백제거)\n",
        "# 문제5 zfill(앞에 0으로 채워주는 것, 원하는 자릿수만큼, 시간이나 연도)\n",
        "\n"
      ],
      "metadata": {
        "colab": {
          "base_uri": "https://localhost:8080/",
          "height": 54
        },
        "id": "QOKMeF0OMg4C",
        "outputId": "eeaca304-f8de-4a42-c0b5-ba0c50865471"
      },
      "execution_count": 14,
      "outputs": [
        {
          "output_type": "stream",
          "name": "stdout",
          "text": [
            "찾았다!\n"
          ]
        },
        {
          "output_type": "execute_result",
          "data": {
            "text/plain": [
              "'hi world hi world hi world'"
            ],
            "application/vnd.google.colaboratory.intrinsic+json": {
              "type": "string"
            }
          },
          "metadata": {},
          "execution_count": 14
        }
      ]
    },
    {
      "cell_type": "markdown",
      "source": [
        "# 리스트\n",
        "* 변경잉 가능한 자료형\n",
        "* 순서가 있는 자료형(시퀀스형 자료형, 인덱싱, 슬라이싱)\n",
        "*"
      ],
      "metadata": {
        "id": "rRFsLo1cPXpv"
      }
    },
    {
      "cell_type": "code",
      "source": [
        "l = [10, 20 , 30]\n",
        "\n",
        "l = [10,\n",
        "     20,\n",
        "     30] # 이것 위에꺼랑 똑같이 되고 라인수가 길어졌을때 이렇게 사용하길 권장,\n",
        "\n",
        "# 추천 두번째(실무에선 이렇게 더 많이 사용함.)\n",
        "\n",
        "l = [\n",
        "    10,\n",
        "    20,\n",
        "    30\n",
        "]\n",
        "\n",
        "l = [\n",
        "    10,\n",
        "    20,\n",
        "    30,\n",
        "]\n",
        "\n",
        "# 근데 여기에 문제가 있음! 통신을 할 때에는 JSON이라는 형식을 사용하는데\n",
        "# JSON은 마지막에 콤마를 허용하지 않습니다!\n",
        "\n",
        "# why? 문제가 있는 2번째가 더 많이 사용하는 이유?\n",
        "# 실무에서는 콤마를 버전업으로 인식하는 경우도 많고,\n",
        "#콤마를 빼먹은 경우가 많이 확인 인식용으로\n",
        "# 편의성: Ctrl c then Ctrl v 하기가 더 편함.\n",
        "# 자동 변환 SW를 사용합니디.(pthon black platformatter 를 사용하면 알아서 콤마같은걸 기본으로 넣어줌)\n"
      ],
      "metadata": {
        "id": "PNIeLwqZPnJv"
      },
      "execution_count": null,
      "outputs": []
    },
    {
      "cell_type": "code",
      "source": [
        "l = [10, 20 , 30]\n",
        "l[2]"
      ],
      "metadata": {
        "colab": {
          "base_uri": "https://localhost:8080/"
        },
        "id": "Vi4DouCoLf2t",
        "outputId": "670fa101-ee55-443a-af97-de9904b54f0d"
      },
      "execution_count": 21,
      "outputs": [
        {
          "output_type": "execute_result",
          "data": {
            "text/plain": [
              "30"
            ]
          },
          "metadata": {},
          "execution_count": 21
        }
      ]
    },
    {
      "cell_type": "code",
      "source": [
        "# str 은 안됩니다!\n",
        "\n",
        "s = 'hello world'\n",
        "# s[0] = 'y'\n",
        "\n",
        "s = s.replace('h', 'y')\n",
        "print(s)\n",
        "\n"
      ],
      "metadata": {
        "colab": {
          "base_uri": "https://localhost:8080/"
        },
        "id": "CVfrfhrrYcXq",
        "outputId": "f0c691e9-b8a0-4cc6-cf4b-fcfe86323ef6"
      },
      "execution_count": 23,
      "outputs": [
        {
          "output_type": "stream",
          "name": "stdout",
          "text": [
            "yello world\n"
          ]
        }
      ]
    },
    {
      "cell_type": "code",
      "source": [
        "# 정답1\n",
        "s = s.replace('h', 'y')\n",
        "#2 정답2\n",
        "s = 'y' + s[1:]# 신경써야 하나요? black formatter 에서 자동으로 해줍니다."
      ],
      "metadata": {
        "id": "om0YXTEfZEIr"
      },
      "execution_count": 24,
      "outputs": []
    },
    {
      "cell_type": "code",
      "source": [
        "l = [10, 20 , 30]\n",
        "l[2] = 1000\n",
        "print(l)"
      ],
      "metadata": {
        "colab": {
          "base_uri": "https://localhost:8080/"
        },
        "id": "0_uEu4AfZZrG",
        "outputId": "e92f918a-52a6-4024-aed8-f5e88496c8b4"
      },
      "execution_count": 26,
      "outputs": [
        {
          "output_type": "stream",
          "name": "stdout",
          "text": [
            "[10, 20, 1000]\n"
          ]
        }
      ]
    },
    {
      "cell_type": "code",
      "source": [
        "l = [10, 20 , 30, 40, 50]\n",
        "l[-1]\n",
        "l[-2:] #마이너스 인덱싱, 마이너스 슬라이싱은 최종적으로 양수로 치환됨. 예 l[3:]\n",
        "l[3:]\n",
        "#변수명[stop]\n",
        "#변수명[start:stop]\n",
        "#변수명[start:stop:step]"
      ],
      "metadata": {
        "colab": {
          "base_uri": "https://localhost:8080/"
        },
        "id": "fFSQSv2NZrq_",
        "outputId": "8f7cb3db-e9b9-453a-ce9e-18c0af118ac9"
      },
      "execution_count": 29,
      "outputs": [
        {
          "output_type": "execute_result",
          "data": {
            "text/plain": [
              "[40, 50]"
            ]
          },
          "metadata": {},
          "execution_count": 29
        }
      ]
    },
    {
      "cell_type": "code",
      "source": [
        "a = 10\n",
        "aa = 10\n"
      ],
      "metadata": {
        "id": "l02U38_NaIeI"
      },
      "execution_count": null,
      "outputs": []
    },
    {
      "cell_type": "code",
      "source": [
        "type(l), dir(l)\n",
        "# type은 검색 키워드, GPT 질문 키워드가 될 수 있습니다.\n",
        "# dir은 대략적인 속성을 알 수 있습니다. add는 더하기(+) 이다. mul은 곱하기(*)"
      ],
      "metadata": {
        "id": "ArwCepZaaAvW"
      },
      "execution_count": null,
      "outputs": []
    },
    {
      "cell_type": "code",
      "source": [
        "type(l)\n",
        "\n"
      ],
      "metadata": {
        "colab": {
          "base_uri": "https://localhost:8080/"
        },
        "id": "NDDuMWgmbYBn",
        "outputId": "b1cc3a9b-ead1-49c8-de15-dfd96fe36062"
      },
      "execution_count": 33,
      "outputs": [
        {
          "output_type": "execute_result",
          "data": {
            "text/plain": [
              "list"
            ]
          },
          "metadata": {},
          "execution_count": 33
        }
      ]
    },
    {
      "cell_type": "code",
      "source": [
        "l = [10, 20 , 30, 40, 50]\n",
        "# l 리스트에 + 100 정수는 못더해준다.\n",
        "\n",
        "# 리스트에는 리스트를 더할수 있다 추가 개념\n",
        "l + [100]\n",
        "l + [100, 200]\n",
        "l * 3 # 리스트에 정수 곱하기는 된다.\n",
        "# l * [1, 2] # 리스트 곱하기는 안됩니다.\n",
        "\n",
        "\n",
        "\n"
      ],
      "metadata": {
        "colab": {
          "base_uri": "https://localhost:8080/"
        },
        "id": "1XFKRitcbaAC",
        "outputId": "4e73ac60-6945-4a1c-ca4b-6babc4b71aaa"
      },
      "execution_count": 34,
      "outputs": [
        {
          "output_type": "execute_result",
          "data": {
            "text/plain": [
              "[10, 20, 30, 40, 50, 10, 20, 30, 40, 50, 10, 20, 30, 40, 50]"
            ]
          },
          "metadata": {},
          "execution_count": 34
        }
      ]
    },
    {
      "cell_type": "code",
      "source": [
        "l = [10, 20 , 30] * 3\n",
        "l[1] = 1000\n",
        "l"
      ],
      "metadata": {
        "colab": {
          "base_uri": "https://localhost:8080/"
        },
        "id": "xDKESnZRcM_f",
        "outputId": "f3ed43ac-e0f9-4685-bb09-1ab843f2c461"
      },
      "execution_count": 36,
      "outputs": [
        {
          "output_type": "execute_result",
          "data": {
            "text/plain": [
              "[10, 1000, 30, 10, 20, 30, 10, 20, 30]"
            ]
          },
          "metadata": {},
          "execution_count": 36
        }
      ]
    },
    {
      "cell_type": "code",
      "source": [
        "# 리스트 곱하기는 매우 주의해야 합니다.\n",
        "#곱하기가 2중으로 있을 때에는 나중에 배울 리스트컴프리헨션 사용해주셍요!\n",
        "l = [[1, 2, 3] * 3] * 2\n",
        "l[1][0] = 1000\n",
        "l"
      ],
      "metadata": {
        "colab": {
          "base_uri": "https://localhost:8080/"
        },
        "id": "nUpWTCVScdBG",
        "outputId": "dab4bf25-24cf-49e2-9410-69162a2dc0b6"
      },
      "execution_count": 37,
      "outputs": [
        {
          "output_type": "execute_result",
          "data": {
            "text/plain": [
              "[[1000, 2, 3, 1, 2, 3, 1, 2, 3], [1000, 2, 3, 1, 2, 3, 1, 2, 3]]"
            ]
          },
          "metadata": {},
          "execution_count": 37
        }
      ]
    },
    {
      "cell_type": "code",
      "source": [
        "l[1][1] = 10000\n",
        "l"
      ],
      "metadata": {
        "colab": {
          "base_uri": "https://localhost:8080/"
        },
        "id": "baUV7UYzcWRC",
        "outputId": "4ba3ed70-8bc0-4bbb-c08e-ce667de4f351"
      },
      "execution_count": 40,
      "outputs": [
        {
          "output_type": "execute_result",
          "data": {
            "text/plain": [
              "[[1000, 10000, 3, 1, 2, 3, 1, 2, 3], [1000, 10000, 3, 1, 2, 3, 1, 2, 3]]"
            ]
          },
          "metadata": {},
          "execution_count": 40
        }
      ]
    },
    {
      "cell_type": "code",
      "source": [
        "# 암기해주세요.\n",
        "x = 10 # 스칼라\n",
        "x = [10] # 벡터\n",
        "x = [10, 20] # 벡터\n",
        "x = [[10, 20], [10, 20]] # 메트릭스(행렬)\n",
        "x = [[[10, 20], [10, 20]], [[10, 20], [10, 20]]] #텐서(3차원 이상 행렬)"
      ],
      "metadata": {
        "id": "J2vGesBvbY3K"
      },
      "execution_count": null,
      "outputs": []
    },
    {
      "cell_type": "code",
      "source": [
        "# 텐서플로? google에서 만든 딥러닝 라이브러리\n",
        "# 인공지능 => 행렬의 연산"
      ],
      "metadata": {
        "id": "hx6Lq-2Qa48A"
      },
      "execution_count": 41,
      "outputs": []
    },
    {
      "cell_type": "code",
      "source": [
        "x = [[1, 2], [3, 4], [5, 6]]\n",
        "print(x[1])\n",
        "print(x[1][1])"
      ],
      "metadata": {
        "colab": {
          "base_uri": "https://localhost:8080/"
        },
        "id": "fClF2IpNeqx7",
        "outputId": "8b5e57db-cd08-4b3a-f52c-8cd40186c945"
      },
      "execution_count": 189,
      "outputs": [
        {
          "output_type": "stream",
          "name": "stdout",
          "text": [
            "[3, 4]\n",
            "4\n"
          ]
        }
      ]
    },
    {
      "cell_type": "code",
      "source": [
        "x = [[1, 2], [3, 'hello world'], [5, 6]]\n",
        "print(x[1])\n",
        "print(x[1][1])\n",
        "print(x[1][1][6:])"
      ],
      "metadata": {
        "colab": {
          "base_uri": "https://localhost:8080/"
        },
        "id": "SISbE0x8eyj1",
        "outputId": "8ea3a8b4-01fa-409f-9357-cb783588a6c4"
      },
      "execution_count": 46,
      "outputs": [
        {
          "output_type": "stream",
          "name": "stdout",
          "text": [
            "[3, 'hello world']\n",
            "hello world\n",
            "world\n"
          ]
        }
      ]
    },
    {
      "cell_type": "code",
      "source": [
        "l = [1, [10, 20], [3, [100, 200], 5]]\n",
        "print(l[2][1][0])"
      ],
      "metadata": {
        "colab": {
          "base_uri": "https://localhost:8080/"
        },
        "id": "XvYA9DxbkvUw",
        "outputId": "774721ba-2590-434c-a205-cab0a148a13f"
      },
      "execution_count": 191,
      "outputs": [
        {
          "output_type": "stream",
          "name": "stdout",
          "text": [
            "100\n"
          ]
        }
      ]
    },
    {
      "cell_type": "code",
      "source": [
        "x = 10\n",
        "\n",
        "# 다르다는 것만  인지할것.\n",
        "# print를 하는것과 맨 마지막 출력하는것은 다르다.\n",
        "print(x) # ___str___\n",
        "x # ___repr___"
      ],
      "metadata": {
        "colab": {
          "base_uri": "https://localhost:8080/"
        },
        "id": "ylWyppOyfmtl",
        "outputId": "8be7afc9-bc99-4191-e3a0-219b371fb69c"
      },
      "execution_count": 47,
      "outputs": [
        {
          "output_type": "stream",
          "name": "stdout",
          "text": [
            "10\n"
          ]
        },
        {
          "output_type": "execute_result",
          "data": {
            "text/plain": [
              "10"
            ]
          },
          "metadata": {},
          "execution_count": 47
        }
      ]
    },
    {
      "cell_type": "code",
      "source": [
        "# Python > 자료형 > list > 메서드\n",
        "\n",
        "l = [10, 20, 30]\n",
        "dir(l)\n",
        "\n",
        "#shift + Tab\n",
        "#Ctrl + [, Ctrl + ]\n",
        "\n",
        "'append',\n",
        "'clear',\n",
        "'copy',\n",
        "'count',\n",
        "'extend',\n",
        "'index',\n",
        "'insert',\n",
        "'pop',\n",
        "'remove',\n",
        "'reverse',\n",
        "'sort'"
      ],
      "metadata": {
        "id": "YUm-Xt92gNJh"
      },
      "execution_count": null,
      "outputs": []
    },
    {
      "cell_type": "code",
      "source": [
        "l.append(100)\n",
        "l"
      ],
      "metadata": {
        "colab": {
          "base_uri": "https://localhost:8080/"
        },
        "id": "n_Cp1BvqgVEY",
        "outputId": "5e1d41bb-abc9-4607-a72c-8623928331da"
      },
      "execution_count": 49,
      "outputs": [
        {
          "output_type": "execute_result",
          "data": {
            "text/plain": [
              "[10, 20, 30, 100]"
            ]
          },
          "metadata": {},
          "execution_count": 49
        }
      ]
    },
    {
      "cell_type": "code",
      "source": [
        "#앞에 넣고 싶음1\n",
        "l = [1000] + l\n",
        "#앞에 넣고 싶음2\n",
        "x = 100000\n",
        "l = [x] + l[:]\n",
        "#앞에 넣고 싶음3\n",
        "l.insert(0, 999)\n",
        "l"
      ],
      "metadata": {
        "colab": {
          "base_uri": "https://localhost:8080/"
        },
        "id": "oV7cVU45hbVN",
        "outputId": "bd8ab6da-f440-4700-b72c-06291387bf8a"
      },
      "execution_count": 51,
      "outputs": [
        {
          "output_type": "execute_result",
          "data": {
            "text/plain": [
              "[999, 100000, 1000, 999, 100000, 1000, 10, 20, 30, 100]"
            ]
          },
          "metadata": {},
          "execution_count": 51
        }
      ]
    },
    {
      "cell_type": "code",
      "source": [
        "l = [10, 20, 30, 40]\n",
        "l.pop()\n",
        "l\n",
        "#뒤에꺼 빼고"
      ],
      "metadata": {
        "colab": {
          "base_uri": "https://localhost:8080/"
        },
        "id": "zsZfw6cLkRTq",
        "outputId": "ba214504-9a5a-4610-dc31-e269b977bb65"
      },
      "execution_count": 52,
      "outputs": [
        {
          "output_type": "execute_result",
          "data": {
            "text/plain": [
              "[10, 20, 30]"
            ]
          },
          "metadata": {},
          "execution_count": 52
        }
      ]
    },
    {
      "cell_type": "code",
      "source": [
        "l = [10, 20, 30, 40]\n",
        "l.pop(0)\n",
        "l\n",
        "#앞에꺼에서 빼고 팝제로 알고리즘시간에 많이 한다고 함."
      ],
      "metadata": {
        "colab": {
          "base_uri": "https://localhost:8080/"
        },
        "id": "j1cW7EqhkdTZ",
        "outputId": "69bf20d6-cdec-408e-8a18-2d730f08ed3a"
      },
      "execution_count": 53,
      "outputs": [
        {
          "output_type": "execute_result",
          "data": {
            "text/plain": [
              "[20, 30, 40]"
            ]
          },
          "metadata": {},
          "execution_count": 53
        }
      ]
    },
    {
      "cell_type": "code",
      "source": [
        "l = [10, 20, 30, 40]\n",
        "l[:-1]\n",
        "ㅣ[1:]"
      ],
      "metadata": {
        "colab": {
          "base_uri": "https://localhost:8080/"
        },
        "id": "_Hn9dnK6kg9i",
        "outputId": "2d94dc3c-9e88-41e3-e4a6-d56e1416b7f9"
      },
      "execution_count": 56,
      "outputs": [
        {
          "output_type": "execute_result",
          "data": {
            "text/plain": [
              "[10, 20, 30]"
            ]
          },
          "metadata": {},
          "execution_count": 56
        }
      ]
    },
    {
      "cell_type": "code",
      "source": [
        "l = [10, 20, 30, 40]\n",
        "ㅣ.index(20)\n"
      ],
      "metadata": {
        "id": "AeEMOinckuGq"
      },
      "execution_count": null,
      "outputs": []
    },
    {
      "cell_type": "code",
      "source": [
        "# keep\n",
        "#index가 에러가 납니다. error 없이 코드 짜고 싶어.\n",
        "# str 에 find처럼 코드를 짜고 싶을떄\n",
        "#슬라이싱을 사용합니다. => 슬라이싱은 index가 벗어나더라도 에러가 나지 않습니다.!!!\n",
        "\n",
        "l = [10, 20, 30, 40]\n",
        "l[100:101]"
      ],
      "metadata": {
        "colab": {
          "base_uri": "https://localhost:8080/"
        },
        "id": "7iJbqbD9lP-p",
        "outputId": "f5ee8762-a7a8-4826-bdbb-06eeea1edfe0"
      },
      "execution_count": 60,
      "outputs": [
        {
          "output_type": "execute_result",
          "data": {
            "text/plain": [
              "[]"
            ]
          },
          "metadata": {},
          "execution_count": 60
        }
      ]
    },
    {
      "cell_type": "code",
      "source": [
        "l = [10, 20, 30, 40]\n",
        "l.clear()\n",
        "l"
      ],
      "metadata": {
        "colab": {
          "base_uri": "https://localhost:8080/"
        },
        "id": "OKX8PsdTlmlL",
        "outputId": "2feb49a6-b940-481e-cd05-ad855d64e330"
      },
      "execution_count": 61,
      "outputs": [
        {
          "output_type": "execute_result",
          "data": {
            "text/plain": [
              "[]"
            ]
          },
          "metadata": {},
          "execution_count": 61
        }
      ]
    },
    {
      "cell_type": "code",
      "source": [
        "l = [10, 20, 30, 40]\n",
        "ll = l\n",
        "\n",
        "l[0] = 1000\n",
        "ll\n",
        "\n",
        "id(l), id(ll)\n",
        "#l is ll"
      ],
      "metadata": {
        "id": "MG-t8Os5mmy2"
      },
      "execution_count": null,
      "outputs": []
    },
    {
      "cell_type": "code",
      "source": [
        "l = [10, 20, 30, 40]\n",
        "ll = l.copy() # 얕은 복사와 깊은 복사가 있는데 이 개념은 뒤에서 알려드립니다.\n",
        "\n",
        "l[0] = 1000\n",
        "ll\n",
        "\n",
        "id(l), id(ll)\n",
        "#l is ll"
      ],
      "metadata": {
        "colab": {
          "base_uri": "https://localhost:8080/"
        },
        "id": "7QQY59Jyls2G",
        "outputId": "44365423-3578-40bf-dd73-47fe70933b63"
      },
      "execution_count": 64,
      "outputs": [
        {
          "output_type": "execute_result",
          "data": {
            "text/plain": [
              "(134781210318144, 134781210318144)"
            ]
          },
          "metadata": {},
          "execution_count": 64
        }
      ]
    },
    {
      "cell_type": "code",
      "source": [
        "l = [10, 20, 30, 40]\n",
        "ll = l[:] # 얕은 복사와 깊은 복사가 있는데 이 개념은 뒤에서 알려드립니다.\n",
        "\n",
        "l[0] = 1000\n",
        "l, ll\n",
        "\n",
        "#l is ll"
      ],
      "metadata": {
        "colab": {
          "base_uri": "https://localhost:8080/"
        },
        "id": "Wj8kIjy6mTGz",
        "outputId": "6e417586-f133-44a9-a96c-1cb41cf5e074"
      },
      "execution_count": 67,
      "outputs": [
        {
          "output_type": "execute_result",
          "data": {
            "text/plain": [
              "([1000, 20, 30, 40], [10, 20, 30, 40])"
            ]
          },
          "metadata": {},
          "execution_count": 67
        }
      ]
    },
    {
      "cell_type": "code",
      "source": [
        "l = [1, 1, 1, 2, 2, 2, 3, 3, 3]\n",
        "l.count(1)"
      ],
      "metadata": {
        "colab": {
          "base_uri": "https://localhost:8080/"
        },
        "id": "lijVfj8Am7Kp",
        "outputId": "d4aa0a87-18fb-4a1a-99d5-2c8501e39944"
      },
      "execution_count": 71,
      "outputs": [
        {
          "output_type": "execute_result",
          "data": {
            "text/plain": [
              "3"
            ]
          },
          "metadata": {},
          "execution_count": 71
        }
      ]
    },
    {
      "cell_type": "code",
      "source": [
        "l = ['1', 1, 1, 2, 2, 2, 3, 3, 3] # 헤깔리지 말것\n",
        "l.count(1)"
      ],
      "metadata": {
        "colab": {
          "base_uri": "https://localhost:8080/"
        },
        "id": "xvJQtN4doCXp",
        "outputId": "6466a948-f8ae-4dfb-fc22-e3c7270ad6ce"
      },
      "execution_count": 72,
      "outputs": [
        {
          "output_type": "execute_result",
          "data": {
            "text/plain": [
              "2"
            ]
          },
          "metadata": {},
          "execution_count": 72
        }
      ]
    },
    {
      "cell_type": "code",
      "source": [
        "str([1,2,3,4,5,6,7,8,9,10,11,12,13,14,15,16]).count('1') #스트링이라 따옴표 카운트괄호안에 넣어줘야함"
      ],
      "metadata": {
        "colab": {
          "base_uri": "https://localhost:8080/"
        },
        "id": "r8o2zN-toFgq",
        "outputId": "2f10d5c7-1102-4e61-9324-711ac4d918c7"
      },
      "execution_count": 74,
      "outputs": [
        {
          "output_type": "execute_result",
          "data": {
            "text/plain": [
              "9"
            ]
          },
          "metadata": {},
          "execution_count": 74
        }
      ]
    },
    {
      "cell_type": "code",
      "source": [
        "list(range(10))\n",
        "str(list(range(10000)))\n",
        "str(list(range(10000))).count('8')\n"
      ],
      "metadata": {
        "colab": {
          "base_uri": "https://localhost:8080/"
        },
        "id": "Tvgc3ZMBohY5",
        "outputId": "38c24c48-6c71-4d93-ad86-3c1421750e80"
      },
      "execution_count": 78,
      "outputs": [
        {
          "output_type": "execute_result",
          "data": {
            "text/plain": [
              "4000"
            ]
          },
          "metadata": {},
          "execution_count": 78
        }
      ]
    },
    {
      "cell_type": "code",
      "source": [
        "l = [10, 20, 30, 40]\n",
        "l.extend([50, 60]) #\n",
        "l"
      ],
      "metadata": {
        "colab": {
          "base_uri": "https://localhost:8080/"
        },
        "id": "WS7MZv8zo-Ox",
        "outputId": "7370c90f-ee63-4318-e6bb-236ce8423a9c"
      },
      "execution_count": 79,
      "outputs": [
        {
          "output_type": "execute_result",
          "data": {
            "text/plain": [
              "[10, 20, 30, 40, 50, 60]"
            ]
          },
          "metadata": {},
          "execution_count": 79
        }
      ]
    },
    {
      "cell_type": "code",
      "source": [
        "l = [10, 20, 30, 40]\n",
        "l.append([50, 60]) # 요소 단일 추가\n",
        "l"
      ],
      "metadata": {
        "colab": {
          "base_uri": "https://localhost:8080/"
        },
        "id": "6UJKg1s3pNWy",
        "outputId": "14531580-faf0-43e3-852c-fb80821257dd"
      },
      "execution_count": 80,
      "outputs": [
        {
          "output_type": "execute_result",
          "data": {
            "text/plain": [
              "[10, 20, 30, 40, [50, 60]]"
            ]
          },
          "metadata": {},
          "execution_count": 80
        }
      ]
    },
    {
      "cell_type": "code",
      "source": [
        "l = [10, 20, 30, 40]\n",
        "l.extend('hello') # extend(보통리스트), extend(순회가능한객체)\n",
        "l"
      ],
      "metadata": {
        "colab": {
          "base_uri": "https://localhost:8080/"
        },
        "id": "V9tv9d7_pR5w",
        "outputId": "462f68a1-e48a-4367-d76f-a24410930ccb"
      },
      "execution_count": 81,
      "outputs": [
        {
          "output_type": "execute_result",
          "data": {
            "text/plain": [
              "[10, 20, 30, 40, 'h', 'e', 'l', 'l', 'o']"
            ]
          },
          "metadata": {},
          "execution_count": 81
        }
      ]
    },
    {
      "cell_type": "code",
      "source": [
        "l = ['1', 1, 1, 2, 2, 2, 3, 3, 3]\n",
        "l.remove(1) #첫번쨰 1을 지워줌\n",
        "l"
      ],
      "metadata": {
        "colab": {
          "base_uri": "https://localhost:8080/"
        },
        "id": "BFflekaapzxu",
        "outputId": "1acc6ec7-a270-48f2-a1af-10f9509844ee"
      },
      "execution_count": 82,
      "outputs": [
        {
          "output_type": "execute_result",
          "data": {
            "text/plain": [
              "['1', 1, 2, 2, 2, 3, 3, 3]"
            ]
          },
          "metadata": {},
          "execution_count": 82
        }
      ]
    },
    {
      "cell_type": "code",
      "source": [
        "l = ['1', 1, 1, 2, 2, 2, 3, 3, 3]\n",
        "l.filter(1) # 전체 1을 뽑아내고 싶으면 필터를 사용\n",
        "l"
      ],
      "metadata": {
        "id": "lRo4IPvwqDbt"
      },
      "execution_count": null,
      "outputs": []
    },
    {
      "cell_type": "code",
      "source": [
        "l = [1, 2, 3, 4, 5, 6, 7, 8, 9, 10]\n",
        "def f(x): # x를 정의한다.\n",
        "    return x % 2 == 0 # 2로 나누었을때 나머지가 0이 나오는 숫자. 즉 2의 배수\n",
        "\n",
        "sum(filter(f, l))"
      ],
      "metadata": {
        "colab": {
          "base_uri": "https://localhost:8080/"
        },
        "id": "Mto6B73RpEfI",
        "outputId": "8f61140b-3769-4a39-f5f3-8bd76c98df3c"
      },
      "execution_count": 201,
      "outputs": [
        {
          "output_type": "execute_result",
          "data": {
            "text/plain": [
              "30"
            ]
          },
          "metadata": {},
          "execution_count": 201
        }
      ]
    },
    {
      "cell_type": "code",
      "source": [
        "def is_even(num):\n",
        "    return num % 2 == 0\n",
        "\n",
        "even_numbers = filter(is_even, l)\n",
        "sum_of_even_numbers = sum(even_numbers)\n",
        "\n",
        "print(sum_of_even_numbers)"
      ],
      "metadata": {
        "colab": {
          "base_uri": "https://localhost:8080/"
        },
        "id": "vBYZBXJrqoL2",
        "outputId": "e7e44e6d-b358-4201-fa45-4846fae0673d"
      },
      "execution_count": 197,
      "outputs": [
        {
          "output_type": "stream",
          "name": "stdout",
          "text": [
            "30\n"
          ]
        }
      ]
    },
    {
      "cell_type": "code",
      "source": [
        "# 이해지금 안해도 됨 filter\n",
        "# 여기서 catch 해야할 포인트는 모든 요소를 filtering 하고  싶을떄는 remove가 아니라 filter를 사용한다!\n",
        "def f(x):\n",
        "    return x != 1\n",
        "\n",
        "l = [1, 1, 1, 1, 2, 2, 3, 3, 3]\n",
        "list(filter(f, l))"
      ],
      "metadata": {
        "colab": {
          "base_uri": "https://localhost:8080/"
        },
        "id": "8Hvtra0GqRmq",
        "outputId": "758fbd7b-ecad-4be9-90fc-96fdef53a229"
      },
      "execution_count": 86,
      "outputs": [
        {
          "output_type": "execute_result",
          "data": {
            "text/plain": [
              "[2, 2, 3, 3, 3]"
            ]
          },
          "metadata": {},
          "execution_count": 86
        }
      ]
    },
    {
      "cell_type": "code",
      "source": [
        "l = [1, 2, 3, 4, 9, 5, 6, 7]\n",
        "l.reverse() # 역순으로 보이나 역정렬은 아닙니다.\n",
        "l\n",
        "#원본이 변한다. 그래서 잘 안씀.\n",
        "#역순은 단순히 순서를 뒤집는 것\n",
        "# 역정렬은 정렬의 역순이다."
      ],
      "metadata": {
        "colab": {
          "base_uri": "https://localhost:8080/"
        },
        "id": "eEu6z79Lq2it",
        "outputId": "74f55a86-3689-445a-daa1-596d13b633bb"
      },
      "execution_count": 92,
      "outputs": [
        {
          "output_type": "execute_result",
          "data": {
            "text/plain": [
              "[7, 6, 5, 9, 4, 3, 2, 1]"
            ]
          },
          "metadata": {},
          "execution_count": 92
        }
      ]
    },
    {
      "cell_type": "code",
      "source": [
        "# reversed는 잊어도됨 l.reverse만 기억하면됨\n",
        "l = [1, 2, 3, 4, 9, 5, 6, 7]\n",
        "list(reversed(l)) #reversed는 원본을 변경하지 않는다."
      ],
      "metadata": {
        "colab": {
          "base_uri": "https://localhost:8080/"
        },
        "id": "FBwRsONvrbP8",
        "outputId": "d0bf0fef-03e1-46d0-ef23-f841568b7162"
      },
      "execution_count": 93,
      "outputs": [
        {
          "output_type": "execute_result",
          "data": {
            "text/plain": [
              "[7, 6, 5, 9, 4, 3, 2, 1]"
            ]
          },
          "metadata": {},
          "execution_count": 93
        }
      ]
    },
    {
      "cell_type": "code",
      "source": [
        "l = [1, 2, 3, 4, 9, 5, 6, 7]\n",
        "l.sort()\n",
        "l #원본을 바꾸는 정렬"
      ],
      "metadata": {
        "colab": {
          "base_uri": "https://localhost:8080/"
        },
        "id": "Gjf-hbIXr8RB",
        "outputId": "4add8d2a-2281-4698-c33d-13daaafb89ec"
      },
      "execution_count": 96,
      "outputs": [
        {
          "output_type": "execute_result",
          "data": {
            "text/plain": [
              "[1, 2, 3, 4, 5, 6, 7, 9]"
            ]
          },
          "metadata": {},
          "execution_count": 96
        }
      ]
    },
    {
      "cell_type": "code",
      "source": [
        "l = [1, 2, 3, 4, 9, 5, 6, 7]\n",
        "l.sort()\n",
        "l.reverse()\n",
        "l #원본을 바꾸는 역정렬"
      ],
      "metadata": {
        "colab": {
          "base_uri": "https://localhost:8080/"
        },
        "id": "7-GzfWJxquef",
        "outputId": "d1ae276f-902a-4521-edba-4c80c5cc6ff0"
      },
      "execution_count": 95,
      "outputs": [
        {
          "output_type": "execute_result",
          "data": {
            "text/plain": [
              "[9, 7, 6, 5, 4, 3, 2, 1]"
            ]
          },
          "metadata": {},
          "execution_count": 95
        }
      ]
    },
    {
      "cell_type": "code",
      "source": [
        "l = [1, 2, 3, 4, 9, 5, 6, 7]\n",
        "sorted(l)\n",
        "#sorted 는 잊어도됨. l.sort만 기억해도됨\n",
        "#sorted 원본을 변경하지 않음."
      ],
      "metadata": {
        "colab": {
          "base_uri": "https://localhost:8080/"
        },
        "id": "zxEk5AUbqrxA",
        "outputId": "577c5533-39f2-4c4e-a720-6661926b3a11"
      },
      "execution_count": 99,
      "outputs": [
        {
          "output_type": "execute_result",
          "data": {
            "text/plain": [
              "[1, 2, 3, 4, 5, 6, 7, 9]"
            ]
          },
          "metadata": {},
          "execution_count": 99
        }
      ]
    },
    {
      "cell_type": "code",
      "source": [
        "#sort, sorted, reverse, reversed 알고리즘 문제에서도 1개 문제는 거의 나온다고 보면됨\n",
        "# 옵션 값은 하지 않았음\n",
        "# 옵션 값을 하지 않은 이유 : 함수까지는 배우셔야 좀 더 고급 문법이 가능함."
      ],
      "metadata": {
        "id": "Nj254n4Moxt4"
      },
      "execution_count": 100,
      "outputs": []
    },
    {
      "cell_type": "code",
      "source": [
        "# 어떻게 사용되는지 만 확인하자 뒤에서 다시 할꺼거든\n",
        "# 국, 영, 수, 이름 순\n",
        "s = [[100, 87, 91, '이호준'], [56, 38, 89, '김호랑'], [33, 86, 100, '홍길동']]\n",
        "\n",
        "def f(x):\n",
        "    return x[0] # 1, 2, 3 순으로 표출 순서를 바꾸기 가능\n",
        "\n",
        "sorted(s, key=f)\n",
        "sorted(s, key=f, reverse=True)"
      ],
      "metadata": {
        "colab": {
          "base_uri": "https://localhost:8080/"
        },
        "id": "VW6kMrY0uSEt",
        "outputId": "3d196f85-075e-4cf3-f920-ba50f7d25b8e"
      },
      "execution_count": 102,
      "outputs": [
        {
          "output_type": "execute_result",
          "data": {
            "text/plain": [
              "[[100, 87, 91, '이호준'], [56, 38, 89, '이호준'], [33, 86, 100, '홍길동']]"
            ]
          },
          "metadata": {},
          "execution_count": 102
        }
      ]
    },
    {
      "cell_type": "code",
      "source": [
        "# 어떻게 사용되는지 만 확인하자 뒤에서 다시 할꺼거든\n",
        "# 국, 영, 수, 이름 순\n",
        "s = [[100, 87, 91, '이호준'], [56, 38, 89, '김호랑'], [33, 86, 100, '홍길동']]\n",
        "\n",
        "def f(x):\n",
        "    return x[0] + x[1] + x [2] # 평균 점수가 가장 높은순\n",
        "\n",
        "sorted(s, key=f)\n",
        "sorted(s, key=f, reverse=True)"
      ],
      "metadata": {
        "colab": {
          "base_uri": "https://localhost:8080/"
        },
        "id": "0mcyPUpzu97r",
        "outputId": "cd5e5ce5-1726-4f15-ed37-bffa0d12fb7d"
      },
      "execution_count": 103,
      "outputs": [
        {
          "output_type": "execute_result",
          "data": {
            "text/plain": [
              "[[100, 87, 91, '이호준'], [33, 86, 100, '홍길동'], [56, 38, 89, '김호랑']]"
            ]
          },
          "metadata": {},
          "execution_count": 103
        }
      ]
    },
    {
      "cell_type": "markdown",
      "source": [
        "# 튜플\n",
        "\n",
        " * 순서가 있는 자료형입니다.(인덱싱, 슬라이싱)\n",
        "\n",
        " * 참조 변경 불가입니다.(값이 변경이 불가하다고 얘기하면 이것은 틀린 얘기깁니다.)"
      ],
      "metadata": {
        "id": "SoBfQt0Auu7F"
      }
    },
    {
      "cell_type": "code",
      "source": [
        "t = (10, 20, 30) # 소괄호"
      ],
      "metadata": {
        "id": "KiuYRvS4D5DU"
      },
      "execution_count": 105,
      "outputs": []
    },
    {
      "cell_type": "code",
      "source": [
        "t[0]"
      ],
      "metadata": {
        "colab": {
          "base_uri": "https://localhost:8080/"
        },
        "id": "tgLfC-9VDyJp",
        "outputId": "8adea692-afe7-4960-a2f3-4b76cbade938"
      },
      "execution_count": 106,
      "outputs": [
        {
          "output_type": "execute_result",
          "data": {
            "text/plain": [
              "10"
            ]
          },
          "metadata": {},
          "execution_count": 106
        }
      ]
    },
    {
      "cell_type": "code",
      "source": [
        "t[1:]"
      ],
      "metadata": {
        "colab": {
          "base_uri": "https://localhost:8080/"
        },
        "id": "zsNvCL2UDuhu",
        "outputId": "bc48dd75-9290-41fa-f6b0-9927b1554b9d"
      },
      "execution_count": 107,
      "outputs": [
        {
          "output_type": "execute_result",
          "data": {
            "text/plain": [
              "(20, 30)"
            ]
          },
          "metadata": {},
          "execution_count": 107
        }
      ]
    },
    {
      "cell_type": "code",
      "source": [
        "t[0] = 1000"
      ],
      "metadata": {
        "id": "mzXIUmgvDquc"
      },
      "execution_count": null,
      "outputs": []
    },
    {
      "cell_type": "code",
      "source": [
        "# 1번째 왜 이런 자료형이 필요할까요?\n",
        "# * 권한과 변경불가(시큐어 코딩), 형태 고정인 자료형\n",
        "# * 내부자 소행인 경우가 가장 많습니다.(사회공학 해킹)\n",
        "# 2번째 변경이 불가능한데 왜 '값이 변경이 불가하다고 얘기하면 이것은 틀린 얘기입니다'라고 얘기 하셨나요?\n",
        "a = [10, 20 ,30]\n",
        "b = (a, 100, 200)\n",
        "b"
      ],
      "metadata": {
        "colab": {
          "base_uri": "https://localhost:8080/"
        },
        "id": "_QbCrtHDooqn",
        "outputId": "7eb6e29a-28a4-4942-a94f-2f6fce0a94b8"
      },
      "execution_count": 111,
      "outputs": [
        {
          "output_type": "execute_result",
          "data": {
            "text/plain": [
              "([10, 20, 30], 100, 200)"
            ]
          },
          "metadata": {},
          "execution_count": 111
        }
      ]
    },
    {
      "cell_type": "code",
      "source": [
        "a[0] = 1000\n",
        "b"
      ],
      "metadata": {
        "colab": {
          "base_uri": "https://localhost:8080/"
        },
        "id": "L1hLug0ZE-MN",
        "outputId": "a1dd7d35-a08f-4564-c246-212d69071293"
      },
      "execution_count": 112,
      "outputs": [
        {
          "output_type": "execute_result",
          "data": {
            "text/plain": [
              "([1000, 20, 30], 100, 200)"
            ]
          },
          "metadata": {},
          "execution_count": 112
        }
      ]
    },
    {
      "cell_type": "code",
      "source": [
        "t = (10, 20, 30)\n",
        "dir(t)"
      ],
      "metadata": {
        "colab": {
          "base_uri": "https://localhost:8080/"
        },
        "id": "IL4rZ3bGlkDS",
        "outputId": "92a75b9d-94fc-4be2-b561-eb720deead7b"
      },
      "execution_count": 114,
      "outputs": [
        {
          "output_type": "execute_result",
          "data": {
            "text/plain": [
              "['__add__',\n",
              " '__class__',\n",
              " '__class_getitem__',\n",
              " '__contains__',\n",
              " '__delattr__',\n",
              " '__dir__',\n",
              " '__doc__',\n",
              " '__eq__',\n",
              " '__format__',\n",
              " '__ge__',\n",
              " '__getattribute__',\n",
              " '__getitem__',\n",
              " '__getnewargs__',\n",
              " '__gt__',\n",
              " '__hash__',\n",
              " '__init__',\n",
              " '__init_subclass__',\n",
              " '__iter__',\n",
              " '__le__',\n",
              " '__len__',\n",
              " '__lt__',\n",
              " '__mul__',\n",
              " '__ne__',\n",
              " '__new__',\n",
              " '__reduce__',\n",
              " '__reduce_ex__',\n",
              " '__repr__',\n",
              " '__rmul__',\n",
              " '__setattr__',\n",
              " '__sizeof__',\n",
              " '__str__',\n",
              " '__subclasshook__',\n",
              " 'count',\n",
              " 'index']"
            ]
          },
          "metadata": {},
          "execution_count": 114
        }
      ]
    },
    {
      "cell_type": "code",
      "source": [
        "t.count(10) #10의 갯수를 반환\n",
        "t.index(10) #10의 위치를 반환"
      ],
      "metadata": {
        "colab": {
          "base_uri": "https://localhost:8080/"
        },
        "id": "Qg7htjPvF7rz",
        "outputId": "7bcff0b8-8f46-4d94-b16c-e3aa675bcd74"
      },
      "execution_count": 115,
      "outputs": [
        {
          "output_type": "execute_result",
          "data": {
            "text/plain": [
              "0"
            ]
          },
          "metadata": {},
          "execution_count": 115
        }
      ]
    },
    {
      "cell_type": "code",
      "source": [
        "tuple([10, 20, 30])"
      ],
      "metadata": {
        "colab": {
          "base_uri": "https://localhost:8080/"
        },
        "id": "S-zOTw6EGG-5",
        "outputId": "0e5316b3-4c05-4c44-8376-2ced00a66912"
      },
      "execution_count": 116,
      "outputs": [
        {
          "output_type": "execute_result",
          "data": {
            "text/plain": [
              "(10, 20, 30)"
            ]
          },
          "metadata": {},
          "execution_count": 116
        }
      ]
    },
    {
      "cell_type": "code",
      "source": [
        "# tuple(순회가능한객체)\n",
        "# list(순회가능한객체)\n",
        "\n",
        "tuple('hello world')\n",
        "list('hello world')"
      ],
      "metadata": {
        "colab": {
          "base_uri": "https://localhost:8080/"
        },
        "id": "M4xAGH8DlKM6",
        "outputId": "e56cbd2d-07e8-4be4-86d4-3d561b8bbe31"
      },
      "execution_count": 117,
      "outputs": [
        {
          "output_type": "execute_result",
          "data": {
            "text/plain": [
              "['h', 'e', 'l', 'l', 'o', ' ', 'w', 'o', 'r', 'l', 'd']"
            ]
          },
          "metadata": {},
          "execution_count": 117
        }
      ]
    },
    {
      "cell_type": "markdown",
      "source": [
        "# 딕셔너리\n",
        "\n",
        "* Python3.6 버전 이상은 순서가 보장됩니다.\n",
        "* 그전 버전에선 없었음.\n",
        "* 실무에서는 프로젝트마다 다르지만 사용하는 Python 버전이 낮습니다. 장고 v1.후반, python v2. 를 사용함\n",
        "* 'key: value' 쌍으로 이루어져 있습니다.\n",
        "* 딕셔너리 데이터 searching 매우 빠름.\n",
        "* 딕셔너리 사용은 주의를 요함. 딕셔너리는 key가 없는 것을 호출하면 error가 납니다.\n"
      ],
      "metadata": {
        "id": "CzQdxplpkrzU"
      }
    },
    {
      "cell_type": "code",
      "source": [
        "d = {'one': '하나', 'two': '둘'} # 키 와 밸류\n",
        "d['one'] #인덱스를 넣는게아니라 키를 넣음"
      ],
      "metadata": {
        "colab": {
          "base_uri": "https://localhost:8080/",
          "height": 35
        },
        "id": "8YEHEs7cH5a6",
        "outputId": "7834bb5e-c660-4075-8b8c-2de1cb772264"
      },
      "execution_count": 118,
      "outputs": [
        {
          "output_type": "execute_result",
          "data": {
            "text/plain": [
              "'하나'"
            ],
            "application/vnd.google.colaboratory.intrinsic+json": {
              "type": "string"
            }
          },
          "metadata": {},
          "execution_count": 118
        }
      ]
    },
    {
      "cell_type": "code",
      "source": [
        "d['three'] #견고하지 않은 방식이다, 에러가 난다."
      ],
      "metadata": {
        "colab": {
          "base_uri": "https://localhost:8080/",
          "height": 184
        },
        "id": "whItsceYITY1",
        "outputId": "d4ff5fc3-da15-426c-e4f9-a2c1def7a63f"
      },
      "execution_count": 119,
      "outputs": [
        {
          "output_type": "error",
          "ename": "KeyError",
          "evalue": "'three'",
          "traceback": [
            "\u001b[0;31m---------------------------------------------------------------------------\u001b[0m",
            "\u001b[0;31mKeyError\u001b[0m                                  Traceback (most recent call last)",
            "\u001b[0;32m<ipython-input-119-eb5a313282b7>\u001b[0m in \u001b[0;36m<cell line: 1>\u001b[0;34m()\u001b[0m\n\u001b[0;32m----> 1\u001b[0;31m \u001b[0md\u001b[0m\u001b[0;34m[\u001b[0m\u001b[0;34m'three'\u001b[0m\u001b[0;34m]\u001b[0m\u001b[0;34m\u001b[0m\u001b[0;34m\u001b[0m\u001b[0m\n\u001b[0m",
            "\u001b[0;31mKeyError\u001b[0m: 'three'"
          ]
        }
      ]
    },
    {
      "cell_type": "code",
      "source": [
        "d.get('three') # get 메서드를 사용하길 권장한다, 에러가 나지않는다."
      ],
      "metadata": {
        "id": "ks_pkYa0IZ9g"
      },
      "execution_count": 120,
      "outputs": []
    },
    {
      "cell_type": "code",
      "source": [
        "d.get('three', '없는 값입니다!') # get 메서드를 사용하길 권장한다, 에러가 나지않는다."
      ],
      "metadata": {
        "colab": {
          "base_uri": "https://localhost:8080/",
          "height": 35
        },
        "id": "wdhSec3dLQoB",
        "outputId": "78fee619-c6c5-41c5-90de-ce028214d8ce"
      },
      "execution_count": 124,
      "outputs": [
        {
          "output_type": "execute_result",
          "data": {
            "text/plain": [
              "'없는 값입니다!'"
            ],
            "application/vnd.google.colaboratory.intrinsic+json": {
              "type": "string"
            }
          },
          "metadata": {},
          "execution_count": 124
        }
      ]
    },
    {
      "cell_type": "code",
      "source": [],
      "metadata": {
        "id": "_3t2hZ-uLVn8"
      },
      "execution_count": null,
      "outputs": []
    },
    {
      "cell_type": "code",
      "source": [
        "def f(x):\n",
        "    return {\n",
        "            0: '일요일',\n",
        "            1: '월요일',\n",
        "            2: '화요일',\n",
        "            3: '수요일',\n",
        "            4: '목요일',\n",
        "            5: '금요일',\n",
        "            6: '토요일',\n",
        "    }.get(x, '요일없음')\n",
        "\n",
        "f(3)"
      ],
      "metadata": {
        "colab": {
          "base_uri": "https://localhost:8080/",
          "height": 35
        },
        "id": "EquRaWlUIlDa",
        "outputId": "2f1b534c-d3f4-4205-e1f6-a8977a55fa95"
      },
      "execution_count": 125,
      "outputs": [
        {
          "output_type": "execute_result",
          "data": {
            "text/plain": [
              "'수요일'"
            ],
            "application/vnd.google.colaboratory.intrinsic+json": {
              "type": "string"
            }
          },
          "metadata": {},
          "execution_count": 125
        }
      ]
    },
    {
      "cell_type": "code",
      "source": [
        "\n",
        "x = 3\n",
        "\n",
        "{\n",
        "    0: '일요일',\n",
        "    1: '월요일',\n",
        "    2: '화요일',\n",
        "    3: '수요일',\n",
        "    4: '목요일',\n",
        "    5: '금요일',\n",
        "    6: '토요일',\n",
        "}.get(x, '요일없음')\n",
        ""
      ],
      "metadata": {
        "colab": {
          "base_uri": "https://localhost:8080/",
          "height": 35
        },
        "id": "Jz3J3LVYh2Gm",
        "outputId": "a72b148d-f4ff-4d0f-d5c9-6cea2590f58c"
      },
      "execution_count": 127,
      "outputs": [
        {
          "output_type": "execute_result",
          "data": {
            "text/plain": [
              "'수요일'"
            ],
            "application/vnd.google.colaboratory.intrinsic+json": {
              "type": "string"
            }
          },
          "metadata": {},
          "execution_count": 127
        }
      ]
    },
    {
      "cell_type": "code",
      "source": [
        "# match 문법이 나오기 전까지 또한 지금도 많이 사용하는 문법입니다.\n",
        "# 지금도 많이 사용하는 문법입니다.\n",
        "# match 문법은 이런 문법이 있는지 모르시는 시니어 분들도 많습니다.\n",
        "\n",
        "x = 3\n",
        "\n",
        "y = {\n",
        "    0: '일요일',\n",
        "    1: '월요일',\n",
        "    2: '화요일',\n",
        "    3: '수요일',\n",
        "    4: '목요일',\n",
        "    5: '금요일',\n",
        "    6: '토요일',\n",
        "}\n",
        "\n",
        "y.get(x, '요일없음')"
      ],
      "metadata": {
        "id": "oUi7RCFfL9x4"
      },
      "execution_count": null,
      "outputs": []
    },
    {
      "cell_type": "code",
      "source": [
        "!python --version"
      ],
      "metadata": {
        "colab": {
          "base_uri": "https://localhost:8080/"
        },
        "id": "xN-dsgG-J4qG",
        "outputId": "94c4716a-c884-44d7-b56f-fa7ac4f1c59c"
      },
      "execution_count": 123,
      "outputs": [
        {
          "output_type": "stream",
          "name": "stdout",
          "text": [
            "Python 3.10.12\n"
          ]
        }
      ]
    },
    {
      "cell_type": "code",
      "source": [
        "type(d)\n",
        "dir(d)"
      ],
      "metadata": {
        "colab": {
          "base_uri": "https://localhost:8080/"
        },
        "id": "L0wx8LV6J6Ll",
        "outputId": "0473e96d-280a-4bbf-8407-62411d4ffe80"
      },
      "execution_count": 129,
      "outputs": [
        {
          "output_type": "execute_result",
          "data": {
            "text/plain": [
              "['__class__',\n",
              " '__class_getitem__',\n",
              " '__contains__',\n",
              " '__delattr__',\n",
              " '__delitem__',\n",
              " '__dir__',\n",
              " '__doc__',\n",
              " '__eq__',\n",
              " '__format__',\n",
              " '__ge__',\n",
              " '__getattribute__',\n",
              " '__getitem__',\n",
              " '__gt__',\n",
              " '__hash__',\n",
              " '__init__',\n",
              " '__init_subclass__',\n",
              " '__ior__',\n",
              " '__iter__',\n",
              " '__le__',\n",
              " '__len__',\n",
              " '__lt__',\n",
              " '__ne__',\n",
              " '__new__',\n",
              " '__or__',\n",
              " '__reduce__',\n",
              " '__reduce_ex__',\n",
              " '__repr__',\n",
              " '__reversed__',\n",
              " '__ror__',\n",
              " '__setattr__',\n",
              " '__setitem__',\n",
              " '__sizeof__',\n",
              " '__str__',\n",
              " '__subclasshook__',\n",
              " 'clear',\n",
              " 'copy',\n",
              " 'fromkeys',\n",
              " 'get',\n",
              " 'items',\n",
              " 'keys',\n",
              " 'pop',\n",
              " 'popitem',\n",
              " 'setdefault',\n",
              " 'update',\n",
              " 'values']"
            ]
          },
          "metadata": {},
          "execution_count": 129
        }
      ]
    },
    {
      "cell_type": "code",
      "source": [
        "# 실제로 이와 같은 key: value의 쌍을 게시물 저장하는 형태 등으로 사용합니다.\n",
        "\n",
        "게시물1 = {\n",
        "    'title': '파이썬이 이렇게 어려울 줄이야!!?',\n",
        "    'contents': '파이썬을 깊게 알아갈 수록 너무 재미있네요!!! 신기합니다!!',\n",
        "    'author': '이호준',\n",
        "    'image': '/hojun/2024/1/5/python.jpg',\n",
        "}"
      ],
      "metadata": {
        "id": "FLSKErzaMS4m"
      },
      "execution_count": null,
      "outputs": []
    },
    {
      "cell_type": "code",
      "source": [
        "\n",
        "d = {'one': '하나', 'two': '둘'}"
      ],
      "metadata": {
        "id": "fy2IT5dZMVOD"
      },
      "execution_count": null,
      "outputs": []
    },
    {
      "cell_type": "code",
      "source": [
        "d = {'one': '하나', 'two': '둘'}\n",
        "dd = d\n",
        "\n",
        "id(dd), id(d)  #이렇게 하면 되고\n",
        "dd is d\n",
        "\n",
        "d['two'] = 'python'\n",
        "d['two'] = 'html'\n",
        "\n",
        "d, dd"
      ],
      "metadata": {
        "colab": {
          "base_uri": "https://localhost:8080/"
        },
        "id": "VvK9AuDWNeDn",
        "outputId": "c82a0a64-42b5-46eb-fbdc-1e075baf45b5"
      },
      "execution_count": 130,
      "outputs": [
        {
          "output_type": "execute_result",
          "data": {
            "text/plain": [
              "({'one': '하나', 'two': 'html'}, {'one': '하나', 'two': 'html'})"
            ]
          },
          "metadata": {},
          "execution_count": 130
        }
      ]
    },
    {
      "cell_type": "code",
      "source": [
        "d = {'one': '하나', 'two': '둘'}\n",
        "dd = d.copy() # 이렇게 하면 안됨\n",
        "\n",
        "d['two'] = 'python'\n",
        "d['two'] = 'html'\n",
        "\n",
        "dd"
      ],
      "metadata": {
        "colab": {
          "base_uri": "https://localhost:8080/"
        },
        "id": "ChidjY-lN80r",
        "outputId": "66ddafbb-755f-4897-bb85-e70f1eafa0be"
      },
      "execution_count": 131,
      "outputs": [
        {
          "output_type": "execute_result",
          "data": {
            "text/plain": [
              "{'one': '하나', 'two': '둘'}"
            ]
          },
          "metadata": {},
          "execution_count": 131
        }
      ]
    },
    {
      "cell_type": "code",
      "source": [
        "d = ('one', 'two', 'three')\n",
        "dict.fromkeys(d)\n",
        "dict.fromkeys(d, 'hello world')"
      ],
      "metadata": {
        "colab": {
          "base_uri": "https://localhost:8080/"
        },
        "id": "UR2i5wttOGYe",
        "outputId": "d1b34ea9-24d3-4506-bae6-abdc13d9986b"
      },
      "execution_count": 132,
      "outputs": [
        {
          "output_type": "execute_result",
          "data": {
            "text/plain": [
              "{'one': 'hello world', 'two': 'hello world', 'three': 'hello world'}"
            ]
          },
          "metadata": {},
          "execution_count": 132
        }
      ]
    },
    {
      "cell_type": "code",
      "source": [
        "d = {'one': ' 하나', 'two': '둘'}\n",
        "d.get('one')\n",
        "d.get('three', '값 없음!')"
      ],
      "metadata": {
        "colab": {
          "base_uri": "https://localhost:8080/",
          "height": 35
        },
        "id": "f68da6wmOdYZ",
        "outputId": "19f3c6f2-947c-47b4-ca97-47f093ab76bb"
      },
      "execution_count": 133,
      "outputs": [
        {
          "output_type": "execute_result",
          "data": {
            "text/plain": [
              "'값 없음!'"
            ],
            "application/vnd.google.colaboratory.intrinsic+json": {
              "type": "string"
            }
          },
          "metadata": {},
          "execution_count": 133
        }
      ]
    },
    {
      "cell_type": "code",
      "source": [
        "d = {'one': ' 하나', 'two': '둘'}\n",
        "d.items()"
      ],
      "metadata": {
        "colab": {
          "base_uri": "https://localhost:8080/"
        },
        "id": "R0jdQpN4Orax",
        "outputId": "dbb371d1-b69e-4931-d1d0-356c1565a431"
      },
      "execution_count": 134,
      "outputs": [
        {
          "output_type": "execute_result",
          "data": {
            "text/plain": [
              "dict_items([('one', ' 하나'), ('two', '둘')])"
            ]
          },
          "metadata": {},
          "execution_count": 134
        }
      ]
    },
    {
      "cell_type": "code",
      "source": [
        "d = {'one': ' 하나', 'two': '둘'}\n",
        "type(d.items())"
      ],
      "metadata": {
        "colab": {
          "base_uri": "https://localhost:8080/"
        },
        "id": "xyplBtg2Ozx6",
        "outputId": "5628e9a2-5748-4a65-8478-3cb0425bf3b5"
      },
      "execution_count": 135,
      "outputs": [
        {
          "output_type": "execute_result",
          "data": {
            "text/plain": [
              "dict_items"
            ]
          },
          "metadata": {},
          "execution_count": 135
        }
      ]
    },
    {
      "cell_type": "code",
      "source": [
        "d = {'one': ' 하나', 'two': '둘'}\n",
        "d.items()[0] # 에러난다라는걸 알고 있어야한다.\n",
        "d.items()[1:] # 에러난다라는걸 알고 있어야한다."
      ],
      "metadata": {
        "id": "J1PVGYufPSO8"
      },
      "execution_count": null,
      "outputs": []
    },
    {
      "cell_type": "code",
      "source": [
        "a, b = d.items() # 언패킹\n",
        "a\n",
        "b\n"
      ],
      "metadata": {
        "colab": {
          "base_uri": "https://localhost:8080/"
        },
        "id": "AiImZAj4Pfa1",
        "outputId": "be21fc07-fa52-4ec4-9671-a279d664896a"
      },
      "execution_count": 136,
      "outputs": [
        {
          "output_type": "execute_result",
          "data": {
            "text/plain": [
              "('two', '둘')"
            ]
          },
          "metadata": {},
          "execution_count": 136
        }
      ]
    },
    {
      "cell_type": "code",
      "source": [
        "a, b = [10, 20]\n",
        "a"
      ],
      "metadata": {
        "colab": {
          "base_uri": "https://localhost:8080/"
        },
        "id": "6oolqyf8PlhE",
        "outputId": "15d0efcd-c164-42b4-b1ab-59e53c8be983"
      },
      "execution_count": 137,
      "outputs": [
        {
          "output_type": "execute_result",
          "data": {
            "text/plain": [
              "10"
            ]
          },
          "metadata": {},
          "execution_count": 137
        }
      ]
    },
    {
      "cell_type": "code",
      "source": [
        "# keep 만 해두세요, 반복문을 안배웠습니다.\n",
        "for i, j in d.items():\n",
        "        print(i, j)"
      ],
      "metadata": {
        "colab": {
          "base_uri": "https://localhost:8080/"
        },
        "id": "Ob8OMGj-PoSD",
        "outputId": "7c46928d-4a4f-4b52-ff8a-a47651e620c1"
      },
      "execution_count": 138,
      "outputs": [
        {
          "output_type": "stream",
          "name": "stdout",
          "text": [
            "one  하나\n",
            "two 둘\n"
          ]
        }
      ]
    },
    {
      "cell_type": "code",
      "source": [
        "d.keys()\n",
        "d.values()\n",
        "\n",
        "dict_values(['하나', '둘'])"
      ],
      "metadata": {
        "colab": {
          "base_uri": "https://localhost:8080/",
          "height": 221
        },
        "id": "qowRehfQP5aq",
        "outputId": "504e08f2-6d6e-40dc-b18d-776481125797"
      },
      "execution_count": 139,
      "outputs": [
        {
          "output_type": "error",
          "ename": "NameError",
          "evalue": "name 'dict_values' is not defined",
          "traceback": [
            "\u001b[0;31m---------------------------------------------------------------------------\u001b[0m",
            "\u001b[0;31mNameError\u001b[0m                                 Traceback (most recent call last)",
            "\u001b[0;32m<ipython-input-139-e71ddedfdc76>\u001b[0m in \u001b[0;36m<cell line: 4>\u001b[0;34m()\u001b[0m\n\u001b[1;32m      2\u001b[0m \u001b[0md\u001b[0m\u001b[0;34m.\u001b[0m\u001b[0mvalues\u001b[0m\u001b[0;34m(\u001b[0m\u001b[0;34m)\u001b[0m\u001b[0;34m\u001b[0m\u001b[0;34m\u001b[0m\u001b[0m\n\u001b[1;32m      3\u001b[0m \u001b[0;34m\u001b[0m\u001b[0m\n\u001b[0;32m----> 4\u001b[0;31m \u001b[0mdict_values\u001b[0m\u001b[0;34m(\u001b[0m\u001b[0;34m[\u001b[0m\u001b[0;34m'하나'\u001b[0m\u001b[0;34m,\u001b[0m \u001b[0;34m'둘'\u001b[0m\u001b[0;34m]\u001b[0m\u001b[0;34m)\u001b[0m\u001b[0;34m\u001b[0m\u001b[0;34m\u001b[0m\u001b[0m\n\u001b[0m",
            "\u001b[0;31mNameError\u001b[0m: name 'dict_values' is not defined"
          ]
        }
      ]
    },
    {
      "cell_type": "code",
      "source": [
        "d = {'one': ' 하나', 'two': '둘'}\n",
        "d.setdefault('one')\n",
        "d.setdefault('three')\n",
        "d.setdefault('four', 4) #있으면 그 값을 출력하고, 없으면 그 값을 d에 삽입하고 4를 출력해준다."
      ],
      "metadata": {
        "colab": {
          "base_uri": "https://localhost:8080/"
        },
        "id": "e6nLUzKcQCPS",
        "outputId": "0c24fec4-3c32-440e-86b3-267a7bf02661"
      },
      "execution_count": 140,
      "outputs": [
        {
          "output_type": "execute_result",
          "data": {
            "text/plain": [
              "4"
            ]
          },
          "metadata": {},
          "execution_count": 140
        }
      ]
    },
    {
      "cell_type": "code",
      "source": [
        "d = {'one': ' 하나', 'two': '둘'}\n",
        "d.pop('one')\n",
        "d"
      ],
      "metadata": {
        "colab": {
          "base_uri": "https://localhost:8080/"
        },
        "id": "gt5gmyeVQnFL",
        "outputId": "d6cfeab6-fe8f-40f2-85bf-4c1d3c120e93"
      },
      "execution_count": 142,
      "outputs": [
        {
          "output_type": "execute_result",
          "data": {
            "text/plain": [
              "{'two': '둘'}"
            ]
          },
          "metadata": {},
          "execution_count": 142
        }
      ]
    },
    {
      "cell_type": "code",
      "source": [
        "d = {'one': ' 하나', 'two': '둘'}\n",
        "d.pop('one')"
      ],
      "metadata": {
        "colab": {
          "base_uri": "https://localhost:8080/",
          "height": 35
        },
        "id": "l74t4MdyQ2zG",
        "outputId": "27f08b68-dbaa-46c1-d4ee-8fba90ec9b94"
      },
      "execution_count": 143,
      "outputs": [
        {
          "output_type": "execute_result",
          "data": {
            "text/plain": [
              "' 하나'"
            ],
            "application/vnd.google.colaboratory.intrinsic+json": {
              "type": "string"
            }
          },
          "metadata": {},
          "execution_count": 143
        }
      ]
    },
    {
      "cell_type": "code",
      "source": [
        "d = {'one': ' 하나', 'two': '둘'}\n",
        "d.pop() #error\n",
        "d.pop('three') #error\n",
        "d"
      ],
      "metadata": {
        "id": "WMWy5kUMQ_D3"
      },
      "execution_count": null,
      "outputs": []
    },
    {
      "cell_type": "code",
      "source": [
        "d = {'one': ' 하나', 'two': '둘'}\n",
        "d.popitem() # 없는 코드를 많이 보게 되실겁니다."
      ],
      "metadata": {
        "colab": {
          "base_uri": "https://localhost:8080/"
        },
        "id": "XVpo7FWgRJn4",
        "outputId": "fdf0fd8f-3fb1-4f43-8885-50f49f7d6c3d"
      },
      "execution_count": 145,
      "outputs": [
        {
          "output_type": "execute_result",
          "data": {
            "text/plain": [
              "('two', '둘')"
            ]
          },
          "metadata": {},
          "execution_count": 145
        }
      ]
    },
    {
      "cell_type": "code",
      "source": [
        "d = {'one': ' 하나', 'two': '둘'}\n",
        "d.update({'one':'python', 'three':'hello'}) # one은 수정이 되었고 three는 생성됨.\n",
        "d\n"
      ],
      "metadata": {
        "colab": {
          "base_uri": "https://localhost:8080/"
        },
        "id": "QoPVKqsbRSIn",
        "outputId": "56397704-cd71-4ab2-c1be-cf399899b3bb"
      },
      "execution_count": 147,
      "outputs": [
        {
          "output_type": "execute_result",
          "data": {
            "text/plain": [
              "{'one': 'python', 'two': '둘', 'three': 'hello'}"
            ]
          },
          "metadata": {},
          "execution_count": 147
        }
      ]
    },
    {
      "cell_type": "code",
      "source": [
        "# 신규문법!!(3.9 version)\n",
        "d = {'one': ' 하나', 'two': '둘'}\n",
        "dd = {'three': '셋'}\n",
        "\n",
        "# d + dd\n",
        "d | dd # 책 사서 보셔도 잘 안나오는 문법"
      ],
      "metadata": {
        "colab": {
          "base_uri": "https://localhost:8080/"
        },
        "id": "c_rNujLbRvT6",
        "outputId": "ad590675-3d79-46b7-a4bd-7c4a95c128ac"
      },
      "execution_count": 177,
      "outputs": [
        {
          "output_type": "execute_result",
          "data": {
            "text/plain": [
              "{'one': ' 하나', 'two': '둘', 'three': '셋'}"
            ]
          },
          "metadata": {},
          "execution_count": 177
        }
      ]
    },
    {
      "cell_type": "code",
      "source": [
        "d = {'one': ' 하나', 'two': '둘'}\n",
        "dd = {'one': 'python','three': '셋'}\n",
        "\n",
        "# d + dd\n",
        "d|dd"
      ],
      "metadata": {
        "colab": {
          "base_uri": "https://localhost:8080/"
        },
        "id": "FBKK1AtGST-Q",
        "outputId": "0a328e11-0c35-40b8-a8a5-06922166881f"
      },
      "execution_count": 178,
      "outputs": [
        {
          "output_type": "execute_result",
          "data": {
            "text/plain": [
              "{'one': 'python', 'two': '둘', 'three': '셋'}"
            ]
          },
          "metadata": {},
          "execution_count": 178
        }
      ]
    },
    {
      "cell_type": "code",
      "source": [],
      "metadata": {
        "id": "qtr20HmTcPd0"
      },
      "execution_count": null,
      "outputs": []
    },
    {
      "cell_type": "markdown",
      "source": [
        "# 셋 set?\n",
        "\n",
        "* 중복을 허락하지 않는 자료형 입니다.\n",
        "* 순서가 없는 자료형입니다.\n",
        "* 집합(합집합, 차집합, 교집합)\n",
        "\n",
        "* 보통 중복제거용으로 사용한다 집합은"
      ],
      "metadata": {
        "id": "m6TXXJaiSKAs"
      }
    },
    {
      "cell_type": "code",
      "source": [
        "s = {1, 2, 3, 4, 5}\n",
        "ss = {3, 4, 5, 6, 7}\n",
        "\n",
        "# s + ss # error\n",
        "s | ss # 합집합\n",
        "s - ss # 차집합\n",
        "s & ss # 교집합"
      ],
      "metadata": {
        "colab": {
          "base_uri": "https://localhost:8080/"
        },
        "id": "uDUBk-7VRq1k",
        "outputId": "8fdeccf5-08e5-413e-e22b-e3366b961bf9"
      },
      "execution_count": 150,
      "outputs": [
        {
          "output_type": "execute_result",
          "data": {
            "text/plain": [
              "{3, 4, 5}"
            ]
          },
          "metadata": {},
          "execution_count": 150
        }
      ]
    },
    {
      "cell_type": "code",
      "source": [
        "s.add(10)\n",
        "s"
      ],
      "metadata": {
        "id": "RkKoOMOETtvx"
      },
      "execution_count": null,
      "outputs": []
    },
    {
      "cell_type": "code",
      "source": [
        "type(s), dir(s)"
      ],
      "metadata": {
        "id": "neCfgV3nUKSR"
      },
      "execution_count": null,
      "outputs": []
    },
    {
      "cell_type": "code",
      "source": [
        "s.difference(ss) #차집합 '-'\n"
      ],
      "metadata": {
        "colab": {
          "base_uri": "https://localhost:8080/"
        },
        "id": "gLaRCJNgUPiG",
        "outputId": "f15d9ee0-1d36-4a13-b894-f36248d78a1a"
      },
      "execution_count": 152,
      "outputs": [
        {
          "output_type": "execute_result",
          "data": {
            "text/plain": [
              "{1, 2}"
            ]
          },
          "metadata": {},
          "execution_count": 152
        }
      ]
    },
    {
      "cell_type": "code",
      "source": [
        "s.intersection(ss) #교집합 '&'"
      ],
      "metadata": {
        "colab": {
          "base_uri": "https://localhost:8080/"
        },
        "id": "F5wsP-pKUV1f",
        "outputId": "4cf916f1-9bf7-4418-8081-8b851188d69a"
      },
      "execution_count": 153,
      "outputs": [
        {
          "output_type": "execute_result",
          "data": {
            "text/plain": [
              "{3, 4, 5}"
            ]
          },
          "metadata": {},
          "execution_count": 153
        }
      ]
    },
    {
      "cell_type": "code",
      "source": [
        "s.union(ss) # 합집합 '|'"
      ],
      "metadata": {
        "colab": {
          "base_uri": "https://localhost:8080/"
        },
        "id": "fK4eXb0RUZUk",
        "outputId": "a2ac88f7-b367-4936-cc58-fce9cb0a83be"
      },
      "execution_count": 154,
      "outputs": [
        {
          "output_type": "execute_result",
          "data": {
            "text/plain": [
              "{1, 2, 3, 4, 5, 6, 7}"
            ]
          },
          "metadata": {},
          "execution_count": 154
        }
      ]
    },
    {
      "cell_type": "code",
      "source": [
        "set('123123123') #중복을제거"
      ],
      "metadata": {
        "colab": {
          "base_uri": "https://localhost:8080/"
        },
        "id": "mZ0Behk_Uc9m",
        "outputId": "2285af5a-f336-4679-9abb-6ce508ca5f63"
      },
      "execution_count": 155,
      "outputs": [
        {
          "output_type": "execute_result",
          "data": {
            "text/plain": [
              "{'1', '2', '3'}"
            ]
          },
          "metadata": {},
          "execution_count": 155
        }
      ]
    },
    {
      "cell_type": "code",
      "source": [
        "sum([[10, 20, 30], [10, 20, 30], [10, 20, 30]]) #error"
      ],
      "metadata": {
        "id": "D71ZGA7iWJYC"
      },
      "execution_count": null,
      "outputs": []
    },
    {
      "cell_type": "code",
      "source": [
        "sum(10, 20, 30) #error"
      ],
      "metadata": {
        "id": "CyBo99nHWDhZ"
      },
      "execution_count": null,
      "outputs": []
    },
    {
      "cell_type": "code",
      "source": [
        "# sum(순회가능한객체, 초기값)\n",
        "sum([10, 20, 30], 100)"
      ],
      "metadata": {
        "colab": {
          "base_uri": "https://localhost:8080/"
        },
        "id": "Wh19zgr3Wrfd",
        "outputId": "bf7be294-e28a-42fe-fcd8-c98c8ccbd2a8"
      },
      "execution_count": 163,
      "outputs": [
        {
          "output_type": "execute_result",
          "data": {
            "text/plain": [
              "160"
            ]
          },
          "metadata": {},
          "execution_count": 163
        }
      ]
    },
    {
      "cell_type": "code",
      "source": [
        " sum(sum([[1, 2], [3, 4]], []))"
      ],
      "metadata": {
        "colab": {
          "base_uri": "https://localhost:8080/"
        },
        "id": "HuWsXdbkmnR_",
        "outputId": "2f2efc74-f3cc-47bc-a95f-210b553714f1"
      },
      "execution_count": 195,
      "outputs": [
        {
          "output_type": "execute_result",
          "data": {
            "text/plain": [
              "10"
            ]
          },
          "metadata": {},
          "execution_count": 195
        }
      ]
    },
    {
      "cell_type": "code",
      "source": [
        "sum([[10, 20], [30, 40], [50, 60]], []) # 평탄화 작업\n",
        "# [] + [10, 20] == [10, 20]\n",
        "# [10, 20] + [30, 40] == [10, 20, 30, 40]"
      ],
      "metadata": {
        "colab": {
          "base_uri": "https://localhost:8080/"
        },
        "id": "Adjhncz5W65d",
        "outputId": "d25ea689-2d46-4387-af03-34bda96a2cdd"
      },
      "execution_count": 164,
      "outputs": [
        {
          "output_type": "execute_result",
          "data": {
            "text/plain": [
              "[10, 20, 30, 40, 50, 60]"
            ]
          },
          "metadata": {},
          "execution_count": 164
        }
      ]
    },
    {
      "cell_type": "code",
      "source": [
        " sum(sum([[10, 20], [30, 40], [50, 60]], []))"
      ],
      "metadata": {
        "colab": {
          "base_uri": "https://localhost:8080/"
        },
        "id": "bgBOY9xfXMu-",
        "outputId": "a65e64b7-492e-4e5b-bafc-6d8775fa6083"
      },
      "execution_count": 165,
      "outputs": [
        {
          "output_type": "execute_result",
          "data": {
            "text/plain": [
              "210"
            ]
          },
          "metadata": {},
          "execution_count": 165
        }
      ]
    },
    {
      "cell_type": "code",
      "source": [
        "sum([10, 20, 30])"
      ],
      "metadata": {
        "colab": {
          "base_uri": "https://localhost:8080/"
        },
        "id": "F3Ro_8vNVKI2",
        "outputId": "b3a7499d-e180-457f-a4ab-ca0c2bf74347"
      },
      "execution_count": 157,
      "outputs": [
        {
          "output_type": "execute_result",
          "data": {
            "text/plain": [
              "60"
            ]
          },
          "metadata": {},
          "execution_count": 157
        }
      ]
    },
    {
      "cell_type": "code",
      "source": [
        "\n",
        "map(int, set('123123123'))"
      ],
      "metadata": {
        "colab": {
          "base_uri": "https://localhost:8080/"
        },
        "id": "5_F7GRD3VcHv",
        "outputId": "7a006932-a5fa-47d9-8762-4c5ac9b45c17"
      },
      "execution_count": 160,
      "outputs": [
        {
          "output_type": "execute_result",
          "data": {
            "text/plain": [
              "<map at 0x7a953227a830>"
            ]
          },
          "metadata": {},
          "execution_count": 160
        }
      ]
    },
    {
      "cell_type": "code",
      "source": [
        "# map은 너무나 중요해서 반복해서 공부할꺼임\n",
        "# 중복 제거한 값을 더하는 용도로 아래와 같이 사용하는 코드를\n",
        "# keep\n",
        "sum(map(int, set('123123123')))"
      ],
      "metadata": {
        "colab": {
          "base_uri": "https://localhost:8080/"
        },
        "id": "ggAJx10YU6Ve",
        "outputId": "a5b13168-ad42-4e61-f12b-156fd6f2410f"
      },
      "execution_count": 158,
      "outputs": [
        {
          "output_type": "execute_result",
          "data": {
            "text/plain": [
              "6"
            ]
          },
          "metadata": {},
          "execution_count": 158
        }
      ]
    },
    {
      "cell_type": "markdown",
      "source": [
        "# in"
      ],
      "metadata": {
        "id": "OQUuCiYHVHUh"
      }
    },
    {
      "cell_type": "code",
      "source": [
        "'h' in 'hello'"
      ],
      "metadata": {
        "colab": {
          "base_uri": "https://localhost:8080/"
        },
        "id": "y48PRiPhXWVG",
        "outputId": "5ea19a55-9bb2-410f-9dc9-c1d38a327d83"
      },
      "execution_count": 166,
      "outputs": [
        {
          "output_type": "execute_result",
          "data": {
            "text/plain": [
              "True"
            ]
          },
          "metadata": {},
          "execution_count": 166
        }
      ]
    },
    {
      "cell_type": "code",
      "source": [
        "x = 10\n",
        "x in [10, 20 ,30 ,40, 50]"
      ],
      "metadata": {
        "colab": {
          "base_uri": "https://localhost:8080/"
        },
        "id": "9qbNKGX1XYue",
        "outputId": "ef15a2c0-d236-4879-8239-1a4bb9309d46"
      },
      "execution_count": 167,
      "outputs": [
        {
          "output_type": "execute_result",
          "data": {
            "text/plain": [
              "True"
            ]
          },
          "metadata": {},
          "execution_count": 167
        }
      ]
    },
    {
      "cell_type": "code",
      "source": [
        "x = [10, 20, 30]\n",
        "x in [[10, 20, 40], [10, 20, 30], [50, 40, 20]] # in은 어드레스를 비교하는게 아니라 값을 비교해서 알려준다."
      ],
      "metadata": {
        "colab": {
          "base_uri": "https://localhost:8080/"
        },
        "id": "bZz32ck3XclZ",
        "outputId": "92b57b97-9d43-4d63-c9a1-13285a0c12be"
      },
      "execution_count": 169,
      "outputs": [
        {
          "output_type": "execute_result",
          "data": {
            "text/plain": [
              "True"
            ]
          },
          "metadata": {},
          "execution_count": 169
        }
      ]
    },
    {
      "cell_type": "code",
      "source": [
        "s = {1, 2, 3}\n",
        "1 in s"
      ],
      "metadata": {
        "colab": {
          "base_uri": "https://localhost:8080/"
        },
        "id": "bRwKcbl4X-sn",
        "outputId": "4893ca3d-e214-4c7e-b3a5-e91f2cdeb69b"
      },
      "execution_count": 170,
      "outputs": [
        {
          "output_type": "execute_result",
          "data": {
            "text/plain": [
              "True"
            ]
          },
          "metadata": {},
          "execution_count": 170
        }
      ]
    },
    {
      "cell_type": "code",
      "source": [
        "s = {1, 2, 3}\n",
        "1 not in s"
      ],
      "metadata": {
        "colab": {
          "base_uri": "https://localhost:8080/"
        },
        "id": "o8x_xKWAYICl",
        "outputId": "4da33a25-4fc0-466f-952e-6fdd270b7975"
      },
      "execution_count": 171,
      "outputs": [
        {
          "output_type": "execute_result",
          "data": {
            "text/plain": [
              "False"
            ]
          },
          "metadata": {},
          "execution_count": 171
        }
      ]
    },
    {
      "cell_type": "markdown",
      "source": [
        "# and, or, not 단락평가\n"
      ],
      "metadata": {
        "id": "Ft2qUu4AYQHj"
      }
    },
    {
      "cell_type": "code",
      "source": [
        "user_id = ''\n",
        "\n",
        "user_id = user_id or '아이디 없음'\n",
        "user_id\n"
      ],
      "metadata": {
        "colab": {
          "base_uri": "https://localhost:8080/",
          "height": 35
        },
        "id": "rQYql4JiYX06",
        "outputId": "7bfe9749-7b61-4a15-9241-cdb3d79bc424"
      },
      "execution_count": 173,
      "outputs": [
        {
          "output_type": "execute_result",
          "data": {
            "text/plain": [
              "'아이디 없음'"
            ],
            "application/vnd.google.colaboratory.intrinsic+json": {
              "type": "string"
            }
          },
          "metadata": {},
          "execution_count": 173
        }
      ]
    },
    {
      "cell_type": "code",
      "source": [
        "user_id = 'leehojun'\n",
        "\n",
        "user_id = user_id or '아이디 없음'\n",
        "user_id\n"
      ],
      "metadata": {
        "colab": {
          "base_uri": "https://localhost:8080/",
          "height": 35
        },
        "id": "tWe8G2YZYj-5",
        "outputId": "4eb28faa-7154-4ecf-ffcf-23b964b3ef4d"
      },
      "execution_count": 174,
      "outputs": [
        {
          "output_type": "execute_result",
          "data": {
            "text/plain": [
              "'leehojun'"
            ],
            "application/vnd.google.colaboratory.intrinsic+json": {
              "type": "string"
            }
          },
          "metadata": {},
          "execution_count": 174
        }
      ]
    },
    {
      "cell_type": "code",
      "source": [
        "False and 1/0"
      ],
      "metadata": {
        "colab": {
          "base_uri": "https://localhost:8080/"
        },
        "id": "M-39lBBaX6gu",
        "outputId": "da89b0eb-8a12-4577-ddcb-4a9c748f2337"
      },
      "execution_count": 175,
      "outputs": [
        {
          "output_type": "execute_result",
          "data": {
            "text/plain": [
              "False"
            ]
          },
          "metadata": {},
          "execution_count": 175
        }
      ]
    },
    {
      "cell_type": "code",
      "source": [
        "1/0 #error"
      ],
      "metadata": {
        "colab": {
          "base_uri": "https://localhost:8080/",
          "height": 184
        },
        "id": "JDoqmIVMZn13",
        "outputId": "8d19d3dd-d922-4d1a-fd5e-e8dd76e49d7a"
      },
      "execution_count": 176,
      "outputs": [
        {
          "output_type": "error",
          "ename": "ZeroDivisionError",
          "evalue": "division by zero",
          "traceback": [
            "\u001b[0;31m---------------------------------------------------------------------------\u001b[0m",
            "\u001b[0;31mZeroDivisionError\u001b[0m                         Traceback (most recent call last)",
            "\u001b[0;32m<ipython-input-176-408602210c17>\u001b[0m in \u001b[0;36m<cell line: 1>\u001b[0;34m()\u001b[0m\n\u001b[0;32m----> 1\u001b[0;31m \u001b[0;36m1\u001b[0m\u001b[0;34m/\u001b[0m\u001b[0;36m0\u001b[0m \u001b[0;31m#error\u001b[0m\u001b[0;34m\u001b[0m\u001b[0;34m\u001b[0m\u001b[0m\n\u001b[0m",
            "\u001b[0;31mZeroDivisionError\u001b[0m: division by zero"
          ]
        }
      ]
    },
    {
      "cell_type": "code",
      "source": [
        "  'difference',\n",
        "  'intersection',\n",
        "  'union'"
      ],
      "metadata": {
        "id": "dOpFhgNTQz2I"
      },
      "execution_count": null,
      "outputs": []
    },
    {
      "cell_type": "code",
      "source": [
        "'clear', #클리어 잘 안써서 안함 보통 게시판에서 사용한다고함.\n",
        " 'copy',\n",
        " 'fromkeys',\n",
        " 'get',\n",
        " 'items',\n",
        " 'keys',\n",
        " 'pop',\n",
        " 'popitem',\n",
        " 'setdefault',\n",
        " 'update',\n",
        " 'values'"
      ],
      "metadata": {
        "id": "4emUVsh8MWsv"
      },
      "execution_count": null,
      "outputs": []
    },
    {
      "cell_type": "markdown",
      "source": [
        "#복습 문제"
      ],
      "metadata": {
        "id": "6FYPsX3bdZmY"
      }
    },
    {
      "cell_type": "markdown",
      "source": [
        "* 1. 다음 값은 어떤 값이 출력되는지 이유를 설명하세요.\n",
        "* 1.1 'hello' and 1\n",
        "* 1.2 10 or 'hello world'"
      ],
      "metadata": {
        "id": "AhD9o3hZdcuq"
      }
    },
    {
      "cell_type": "markdown",
      "source": [
        "* 2. 아래 dict에 'three' key를 이용하여 '3'라는 값을 출력해주세요. 없을 경우 애러가 나는 것이 아니라 '3'이라는 값을 출력해야 합니다.\n",
        "d = {'one': 1, 'two': 2}"
      ],
      "metadata": {
        "id": "QgbOYZCKdhI3"
      }
    },
    {
      "cell_type": "markdown",
      "source": [
        "* 3. 다음 리스트에서 100은 어떻게 꺼낼 수 있나요?\n",
        "l = [1, [10, 20], [3, [100, 200], 5]]\n"
      ],
      "metadata": {
        "id": "DRpBVDded41i"
      }
    },
    {
      "cell_type": "markdown",
      "source": [
        "* 4. 아래 숫자를 모두 더해주세요.\n",
        "l = [[1, 2], [3, 4]]"
      ],
      "metadata": {
        "id": "kCn7eLJxd1vT"
      }
    },
    {
      "cell_type": "markdown",
      "source": [
        "* .5(난이도 있는 문제) filter를 사용하여 아래 리스트에서 짝수를 모두 더하는 코드를 작성해주세요.\n",
        "l = [1, 2, 3, 4, 5, 6, 7, 8, 9, 10]\n",
        "정답: 30"
      ],
      "metadata": {
        "id": "CbS3FV8OeE1q"
      }
    },
    {
      "cell_type": "markdown",
      "source": [
        "답\n",
        "1.1 답은 1이며"
      ],
      "metadata": {
        "id": "uuJRtOplfQuZ"
      }
    },
    {
      "cell_type": "code",
      "source": [
        "1 and 'hello'"
      ],
      "metadata": {
        "colab": {
          "base_uri": "https://localhost:8080/",
          "height": 35
        },
        "id": "uGVsGPsLeK3m",
        "outputId": "73374bc3-597c-49ae-eec4-52ff5bf06c96"
      },
      "execution_count": 184,
      "outputs": [
        {
          "output_type": "execute_result",
          "data": {
            "text/plain": [
              "'hello'"
            ],
            "application/vnd.google.colaboratory.intrinsic+json": {
              "type": "string"
            }
          },
          "metadata": {},
          "execution_count": 184
        }
      ]
    },
    {
      "cell_type": "code",
      "source": [
        "10 or 'hello world'"
      ],
      "metadata": {
        "colab": {
          "base_uri": "https://localhost:8080/"
        },
        "id": "aAQOdavpenMr",
        "outputId": "252a5468-76a3-4efb-9590-e0581383a7e6"
      },
      "execution_count": 182,
      "outputs": [
        {
          "output_type": "execute_result",
          "data": {
            "text/plain": [
              "10"
            ]
          },
          "metadata": {},
          "execution_count": 182
        }
      ]
    },
    {
      "cell_type": "code",
      "source": [
        "d = {'one': 1, 'two': 2}\n",
        "d.get('three',3)"
      ],
      "metadata": {
        "colab": {
          "base_uri": "https://localhost:8080/"
        },
        "id": "KiuzPA68e1Sf",
        "outputId": "030d7912-2869-47db-cc8e-575e05f23220"
      },
      "execution_count": 186,
      "outputs": [
        {
          "output_type": "execute_result",
          "data": {
            "text/plain": [
              "3"
            ]
          },
          "metadata": {},
          "execution_count": 186
        }
      ]
    },
    {
      "cell_type": "code",
      "source": [
        "d = {'one': ' 하나', 'two': '둘'}\n",
        "d.get('one')\n",
        "d.get('three', '값 없음!')"
      ],
      "metadata": {
        "colab": {
          "base_uri": "https://localhost:8080/",
          "height": 35
        },
        "id": "HwYUmItljB6I",
        "outputId": "3e48a878-51ac-421d-a9c6-fa9061cfbd2c"
      },
      "execution_count": 185,
      "outputs": [
        {
          "output_type": "execute_result",
          "data": {
            "text/plain": [
              "'값 없음!'"
            ],
            "application/vnd.google.colaboratory.intrinsic+json": {
              "type": "string"
            }
          },
          "metadata": {},
          "execution_count": 185
        }
      ]
    },
    {
      "cell_type": "code",
      "source": [
        " l = [1, [10, 20], [3, [100, 200], 5]]"
      ],
      "metadata": {
        "id": "hnGP3CqYjVkf"
      },
      "execution_count": null,
      "outputs": []
    }
  ]
}