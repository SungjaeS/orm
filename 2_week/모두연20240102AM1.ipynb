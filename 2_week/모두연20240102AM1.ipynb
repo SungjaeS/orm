{
  "nbformat": 4,
  "nbformat_minor": 0,
  "metadata": {
    "colab": {
      "provenance": [],
      "authorship_tag": "ABX9TyNGfHLLtgoLVwh6oYEqga6v",
      "include_colab_link": true
    },
    "kernelspec": {
      "name": "python3",
      "display_name": "Python 3"
    },
    "language_info": {
      "name": "python"
    }
  },
  "cells": [
    {
      "cell_type": "markdown",
      "metadata": {
        "id": "view-in-github",
        "colab_type": "text"
      },
      "source": [
        "<a href=\"https://colab.research.google.com/github/SungjaeS/orm/blob/main/%EB%AA%A8%EB%91%90%EC%97%B020240102AM1.ipynb\" target=\"_parent\"><img src=\"https://colab.research.google.com/assets/colab-badge.svg\" alt=\"Open In Colab\"/></a>"
      ]
    },
    {
      "cell_type": "markdown",
      "source": [
        "# 2024년 새해 계획 프로그램\n",
        "\n",
        "2024년도 계획을 10문장으로 적고, 그에 따른 2024년도 계획에서 중요 부분을 변수로 받아서 Input으로 받는 프로그램 만들기!\n",
        "\n",
        "1. 나의 2024년도 계획을 적는다.\n",
        "2. 그 중에서 변수로 만들수 있는 것들(input으로 받을 수 있는 것을 비운다.)\n",
        "3. 10 문장에 대해서 똑같이 적용한다. (1개~3개정도 단어)\n",
        "4. 테스트 해본다.\n",
        "5. 코드와 결과를 업로드 한다."
      ],
      "metadata": {
        "id": "B5G7mTNtqgvC"
      }
    },
    {
      "cell_type": "code",
      "source": [
        "#1. 2024 계획 적기.\n",
        "\n",
        "1. 이번 해에는 ___을 꾸준히 한다.\n",
        "2. 2024년의 목표는 ___ 언어를 배우는 것이다.\n"
      ],
      "metadata": {
        "id": "rCICEez-llar"
      },
      "execution_count": null,
      "outputs": []
    },
    {
      "cell_type": "code",
      "execution_count": null,
      "metadata": {
        "colab": {
          "base_uri": "https://localhost:8080/"
        },
        "id": "WRM6qeGjlXQn",
        "outputId": "32642c36-0977-43be-ed7d-dc3cbc583d0c"
      },
      "outputs": [
        {
          "name": "stdout",
          "output_type": "stream",
          "text": [
            "이번 해에는 매일  ___ 운동을 하기로 했다: 근력\n"
          ]
        }
      ],
      "source": [
        "sentence_1 = input(f\"이번 해에는 매일  ___ 운동을 하기로 했다: \")"
      ]
    },
    {
      "cell_type": "code",
      "source": [
        "print(sentence_1)"
      ],
      "metadata": {
        "colab": {
          "base_uri": "https://localhost:8080/"
        },
        "id": "--aEJio6tmTx",
        "outputId": "517abbef-e702-4214-e2ed-08315c356b05"
      },
      "execution_count": null,
      "outputs": [
        {
          "output_type": "stream",
          "name": "stdout",
          "text": [
            "근력\n"
          ]
        }
      ]
    },
    {
      "cell_type": "code",
      "source": [
        "print(f\"이번 해에는 매일 {sentence_1} 운동을 하기로 했다.\\n\") # \\n은 한칸 띄어쓰기 이다."
      ],
      "metadata": {
        "colab": {
          "base_uri": "https://localhost:8080/"
        },
        "id": "ghMLiM7jlkqa",
        "outputId": "90ce93dc-e2fc-495c-e36b-fa4ebe9e9b2d"
      },
      "execution_count": null,
      "outputs": [
        {
          "output_type": "stream",
          "name": "stdout",
          "text": [
            "이번 해에는 매일 근력 운동을 하기로 했다.\n",
            "\n"
          ]
        }
      ]
    },
    {
      "cell_type": "code",
      "source": [
        "sentence_2 = input(\"올해는 ___과 ___에 집중하려고 한다: \") #운동과 코딩공부"
      ],
      "metadata": {
        "colab": {
          "base_uri": "https://localhost:8080/"
        },
        "id": "wc0jMm2cojzD",
        "outputId": "978d5baf-9e45-42ef-a306-b49a11b455ab"
      },
      "execution_count": null,
      "outputs": [
        {
          "name": "stdout",
          "output_type": "stream",
          "text": [
            "올해는 ___과 ___에 집중하려고 한다: 운동 코딩공부\n"
          ]
        }
      ]
    },
    {
      "cell_type": "code",
      "source": [
        "sentence_3 = input(\"올해는 취미로 ___를 하려고 한다: \") #게임"
      ],
      "metadata": {
        "colab": {
          "base_uri": "https://localhost:8080/"
        },
        "id": "Pj3yvv3Urc8Z",
        "outputId": "59321c88-8c6d-4843-f569-9b874c8b5717"
      },
      "execution_count": null,
      "outputs": [
        {
          "name": "stdout",
          "output_type": "stream",
          "text": [
            "올해는 취미로 ___를 하려고 한다: 온라인게임\n"
          ]
        }
      ]
    },
    {
      "cell_type": "code",
      "source": [
        "word_1, word_2 = sentence_2.split() # 두 단어를 입력받고, (필수) 공백을 기준으로 분리"
      ],
      "metadata": {
        "id": "JKVtp9kwnsrR"
      },
      "execution_count": null,
      "outputs": []
    },
    {
      "cell_type": "code",
      "source": [
        "print(f\"올해는 {word_1}과 {word_2}에 집중하려고 한다.\\n\")"
      ],
      "metadata": {
        "colab": {
          "base_uri": "https://localhost:8080/"
        },
        "id": "IPLk5PrRoUug",
        "outputId": "207c1402-8604-41b6-b710-b59f07573c11"
      },
      "execution_count": null,
      "outputs": [
        {
          "output_type": "stream",
          "name": "stdout",
          "text": [
            "올해는 운동과 코딩공부에 집중하려고 한다.\n",
            "\n"
          ]
        }
      ]
    },
    {
      "cell_type": "code",
      "source": [
        "# 2가지 input 받아보기\n",
        "\n",
        "word1 = input(\"올해는__와(과): \") #근력운동\n",
        "word2 = input(\"__에 집중하려고 한다.: \") #코딩공부"
      ],
      "metadata": {
        "colab": {
          "base_uri": "https://localhost:8080/"
        },
        "id": "BM25Mk4qufYS",
        "outputId": "2e39e9d3-c0ca-4678-a794-b8fda02bffbe"
      },
      "execution_count": null,
      "outputs": [
        {
          "name": "stdout",
          "output_type": "stream",
          "text": [
            "올해는__와(과): 근력운동\n",
            "__에 집중하려고 한다.: 코딩공부\n"
          ]
        }
      ]
    },
    {
      "cell_type": "code",
      "source": [
        "# word1, word2 출력하기\n",
        "\n",
        "print(f\"올해는 {word1}와\", end = \" \")\n",
        "print(f\"{word2}에 집중하려고 한다.\")\n"
      ],
      "metadata": {
        "colab": {
          "base_uri": "https://localhost:8080/"
        },
        "id": "r4MKj_hepF6l",
        "outputId": "d52aec1d-5cd2-44cd-e329-2b7a1b021be9"
      },
      "execution_count": null,
      "outputs": [
        {
          "output_type": "stream",
          "name": "stdout",
          "text": [
            "올해는 근력운동와 코딩공부에 집중하려고 한다.\n"
          ]
        }
      ]
    },
    {
      "cell_type": "code",
      "source": [
        "# 1. 한문장안에 word1, word2 둘 다 출력하기 (가장 기본적인 방법)\n",
        "\n",
        "print(f\"올해는 {word1}와(과) {word2}에 집중하려고 한다.\")"
      ],
      "metadata": {
        "colab": {
          "base_uri": "https://localhost:8080/"
        },
        "id": "CiZXzs1rvYFn",
        "outputId": "9a6b381f-4a36-4696-86b8-1f159cc8d344"
      },
      "execution_count": null,
      "outputs": [
        {
          "output_type": "stream",
          "name": "stdout",
          "text": [
            "올해는 근력운동와(과) 코딩공부에 집중하려고 한다.\n"
          ]
        }
      ]
    },
    {
      "cell_type": "code",
      "source": [
        "# 2. end를 사용해서 다른 두 문장을 합치기\n",
        "\n",
        "print(f\"올해는 {word1}와(과)\", end = \" \")\n",
        "print(f\"{word2}에 집중하려고 한다.\")"
      ],
      "metadata": {
        "colab": {
          "base_uri": "https://localhost:8080/"
        },
        "id": "DPKJ86-tvu2v",
        "outputId": "3984f10d-1aff-4ce5-ded9-f1bc3e51cfc8"
      },
      "execution_count": null,
      "outputs": [
        {
          "output_type": "stream",
          "name": "stdout",
          "text": [
            "올해는 근력운동와(과) 코딩공부에 집중하려고 한다.\n"
          ]
        }
      ]
    },
    {
      "cell_type": "code",
      "source": [
        "sentence_2 = input(\"올해는 ___과 ___에 집중하려고 한다: \")"
      ],
      "metadata": {
        "colab": {
          "base_uri": "https://localhost:8080/"
        },
        "id": "c7Sygw-Xv---",
        "outputId": "6435cf14-ff71-4104-979e-d448aa452d48"
      },
      "execution_count": null,
      "outputs": [
        {
          "name": "stdout",
          "output_type": "stream",
          "text": [
            "올해는 ___과 ___에 집중하려고 한다: 근력운동 코딩공부\n"
          ]
        }
      ]
    },
    {
      "cell_type": "code",
      "source": [
        "print(sentence_2)"
      ],
      "metadata": {
        "colab": {
          "base_uri": "https://localhost:8080/"
        },
        "id": "UrTLrtPUxF2I",
        "outputId": "2dbac7fb-9901-4dcb-e078-3a419596e953"
      },
      "execution_count": null,
      "outputs": [
        {
          "output_type": "stream",
          "name": "stdout",
          "text": [
            "근력운동 코딩공부\n"
          ]
        }
      ]
    },
    {
      "cell_type": "code",
      "source": [
        "word_11, word_22 = sentence_2.split()"
      ],
      "metadata": {
        "id": "P1j-PMhrv3Fw"
      },
      "execution_count": null,
      "outputs": []
    },
    {
      "cell_type": "code",
      "source": [
        "print(f\"올해는 {word_11}과 {word_22}에 집중하려고 한다.\\n\")"
      ],
      "metadata": {
        "colab": {
          "base_uri": "https://localhost:8080/"
        },
        "id": "c5jMab_LyFxl",
        "outputId": "c89198cb-e51a-4da9-856c-54a5955041b5"
      },
      "execution_count": null,
      "outputs": [
        {
          "output_type": "stream",
          "name": "stdout",
          "text": [
            "올해는 근력운동과 코딩공부에 집중하려고 한다.\n",
            "\n"
          ]
        }
      ]
    },
    {
      "cell_type": "code",
      "source": [],
      "metadata": {
        "id": "nyORlvnxyPKG"
      },
      "execution_count": null,
      "outputs": []
    }
  ]
}