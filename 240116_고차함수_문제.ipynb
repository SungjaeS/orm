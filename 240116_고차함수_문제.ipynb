{
  "nbformat": 4,
  "nbformat_minor": 0,
  "metadata": {
    "colab": {
      "provenance": [],
      "authorship_tag": "ABX9TyNttRgTeTSH/q6GgxfAdmla",
      "include_colab_link": true
    },
    "kernelspec": {
      "name": "python3",
      "display_name": "Python 3"
    },
    "language_info": {
      "name": "python"
    }
  },
  "cells": [
    {
      "cell_type": "markdown",
      "metadata": {
        "id": "view-in-github",
        "colab_type": "text"
      },
      "source": [
        "<a href=\"https://colab.research.google.com/github/SungjaeS/orm/blob/main/240116_%EA%B3%A0%EC%B0%A8%ED%95%A8%EC%88%98_%EB%AC%B8%EC%A0%9C.ipynb\" target=\"_parent\"><img src=\"https://colab.research.google.com/assets/colab-badge.svg\" alt=\"Open In Colab\"/></a>"
      ]
    },
    {
      "cell_type": "code",
      "source": [
        "문제 1"
      ],
      "metadata": {
        "id": "58uqrzVnnnGD"
      },
      "execution_count": null,
      "outputs": []
    },
    {
      "cell_type": "code",
      "source": [
        "# 문제 1: 함수를 인자로 받는 고차함수\n",
        "# 주어진 리스트와 함수를 인자로 받아, 리스트의 각 요소에 해당 함수를 적용한 결과를\n",
        "# 반환하는 고차함수 apply_function을 작성해주세요.\n",
        "\n",
        "def apply_function(lst, func):\n",
        "    pass\n",
        "\n",
        "# 예제 사용\n",
        "result = apply_function([1, 2, 3, 4], lambda x: x * 2)\n",
        "print(result)  # [2, 4, 6, 8]이 출력되어야 함"
      ],
      "metadata": {
        "id": "MoxViM_kMFp1"
      },
      "execution_count": null,
      "outputs": []
    },
    {
      "cell_type": "code",
      "source": [
        "# 예시1\n",
        "\n",
        "def apply_function(lst, func):\n",
        "    return [func(x) for x in lst] #  리스트 안에 각각의 값에 함수 func(x *2)를 해준다.\n",
        "\n",
        "result = apply_function([1, 2, 3, 4], lambda x: x * 2) #람다(익명)함수를 이용해 x는 x * 2가 되도록 정의해주었다.\n",
        "print(result)\n",
        "# 람다 함수는 주로 간단한 함수를 한 줄로 표현할 때 사용되며, 고차 함수와 함께 자주 사용된다고 한다."
      ],
      "metadata": {
        "colab": {
          "base_uri": "https://localhost:8080/"
        },
        "id": "Zc3-b2BtQlXu",
        "outputId": "97659465-0776-422b-d3aa-6a62565180e6"
      },
      "execution_count": 8,
      "outputs": [
        {
          "output_type": "stream",
          "name": "stdout",
          "text": [
            "[2, 4, 6, 8]\n"
          ]
        }
      ]
    },
    {
      "cell_type": "code",
      "source": [
        "# 예시2\n",
        "\n",
        "def apply_function(lst, func):\n",
        "    result = []\n",
        "    for x in lst:\n",
        "        result.append(func(x)) # append 사용하여 리스트에 람다 x 함수를 대입해 출력할수도 있다.\n",
        "    return result\n",
        "\n",
        "\n",
        "result = apply_function([1, 2, 3, 4], lambda x: x * 2)\n",
        "print(result)"
      ],
      "metadata": {
        "colab": {
          "base_uri": "https://localhost:8080/"
        },
        "id": "0GC8wtcvUxxu",
        "outputId": "5daad6d3-a75d-4650-c7bd-5b2159d42576"
      },
      "execution_count": 11,
      "outputs": [
        {
          "output_type": "stream",
          "name": "stdout",
          "text": [
            "None\n"
          ]
        }
      ]
    },
    {
      "cell_type": "markdown",
      "source": [
        "# 문제 2"
      ],
      "metadata": {
        "id": "OjC2Wct2nkEf"
      }
    },
    {
      "cell_type": "code",
      "execution_count": null,
      "metadata": {
        "id": "CsEgV6bcLYMT"
      },
      "outputs": [],
      "source": [
        "# 문제 2: 함수를 반환하는 고차함수\n",
        "# 정수 n을 인자로 받아, 다른 정수 x에 n을 곱하는 함수를 반환하는 고차함수\n",
        "#multiply_by_n을 작성해주세요. 힌트를 드리자면 반환 값은 lambda여야 합니다.\n",
        "\n",
        "def multiply_by_n(n):\n",
        "    pass\n",
        "\n",
        "# 예제 사용\n",
        "multiplier = multiply_by_n(5)\n",
        "print(multiplier(3))  # 15가 출력되어야 함"
      ]
    },
    {
      "cell_type": "code",
      "source": [
        "def multiply_by_n(n): # 파라미터 인자 n은 곱할 정수(int) 5가 되시겠다.\n",
        "    return lambda x: n * x #람다 x는 n 값에 다른 정수 x를 곱하여 반환하게된다.\n",
        "\n",
        "multiplier = multiply_by_n(5)\n",
        "print(multiplier(3))\n",
        "\n",
        "# 'multiply_by_n(5)'먼저 호출하여 multiplier 변수에 반환된 람다 함수를 할당하고,\n",
        "# multiplier(3)을 호출하여 5 * 3을 계산하여 15가 출력 된다."
      ],
      "metadata": {
        "colab": {
          "base_uri": "https://localhost:8080/"
        },
        "id": "uLDTYQp8ceKc",
        "outputId": "694b6e65-0c5a-4a4e-87a7-af8bfba2bc26"
      },
      "execution_count": 13,
      "outputs": [
        {
          "output_type": "stream",
          "name": "stdout",
          "text": [
            "15\n"
          ]
        }
      ]
    }
  ]
}