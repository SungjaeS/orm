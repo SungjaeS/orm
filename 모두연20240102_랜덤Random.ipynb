{
  "nbformat": 4,
  "nbformat_minor": 0,
  "metadata": {
    "colab": {
      "provenance": [],
      "authorship_tag": "ABX9TyOZW14HmtEspW7C2Rac5I0a",
      "include_colab_link": true
    },
    "kernelspec": {
      "name": "python3",
      "display_name": "Python 3"
    },
    "language_info": {
      "name": "python"
    }
  },
  "cells": [
    {
      "cell_type": "markdown",
      "metadata": {
        "id": "view-in-github",
        "colab_type": "text"
      },
      "source": [
        "<a href=\"https://colab.research.google.com/github/SungjaeS/orm/blob/main/%EB%AA%A8%EB%91%90%EC%97%B020240102_%EB%9E%9C%EB%8D%A4Random.ipynb\" target=\"_parent\"><img src=\"https://colab.research.google.com/assets/colab-badge.svg\" alt=\"Open In Colab\"/></a>"
      ]
    },
    {
      "cell_type": "markdown",
      "source": [
        "# 1. 랜덤 함수"
      ],
      "metadata": {
        "id": "tCdRkeH802ni"
      }
    },
    {
      "cell_type": "code",
      "source": [
        "# 1. 기본 사용법\n",
        "\n",
        "import random\n",
        "'''\n",
        "# 0~9까지의 임의의 숫자를 선택하는 코드를 작성\n",
        "# 파이썬의 숫자의 시작은 무조건 0부터 시작한다.\n",
        "10으로 입력하면 -1 즉, 9까지\n",
        "'''\n",
        "\n",
        "num = random.randrange(10)\n",
        "print(num)\n"
      ],
      "metadata": {
        "colab": {
          "base_uri": "https://localhost:8080/"
        },
        "id": "4545Ri-p1OwS",
        "outputId": "657a55aa-80d7-4049-cd28-cb727143dcba"
      },
      "execution_count": 1,
      "outputs": [
        {
          "output_type": "stream",
          "name": "stdout",
          "text": [
            "8\n"
          ]
        }
      ]
    },
    {
      "cell_type": "code",
      "source": [
        "# 1.2 시작값과 끝값을 지정\n",
        "num_12 = random.randrange(10, 20)\n",
        "print(num_12)\n"
      ],
      "metadata": {
        "colab": {
          "base_uri": "https://localhost:8080/"
        },
        "id": "HGObJe9l15fc",
        "outputId": "53cb854b-08ef-4846-9929-b94b78c0ebf1"
      },
      "execution_count": 9,
      "outputs": [
        {
          "output_type": "stream",
          "name": "stdout",
          "text": [
            "16\n"
          ]
        }
      ]
    },
    {
      "cell_type": "code",
      "execution_count": 83,
      "metadata": {
        "colab": {
          "base_uri": "https://localhost:8080/"
        },
        "id": "vBpoHXpu0uEo",
        "outputId": "29293bfd-9b83-4aa9-e40d-77d7dded5909"
      },
      "outputs": [
        {
          "output_type": "stream",
          "name": "stdout",
          "text": [
            "오늘의 로또 번호는 33 7 45 1 36 2\n"
          ]
        }
      ],
      "source": [
        "# 1.2 시작값과 끝값을 지정 *여기 부터 랜덤 초이스 전까지 막힘 막힘 결과가 잘안나옴.\n",
        "\n",
        "num_1 = random.randrange(1, 46)\n",
        "num_2 = random.randrange(1, 46)\n",
        "num_3 = random.randrange(1, 46)\n",
        "num_4 = random.randrange(1, 46)\n",
        "num_5 = random.randrange(1, 46)\n",
        "num_6 = random.randrange(1, 46)\n",
        "print(\"오늘의 로또 번호는\",num_1,num_2,num_3,num_4,num_5,num_6)\n"
      ]
    },
    {
      "cell_type": "code",
      "source": [
        "# 1.3 간격 설정\n",
        "# 10부터 100까지 숫자 중에서 10이 간격으로 무작위\n",
        "\n"
      ],
      "metadata": {
        "id": "ELzUgiJF276J"
      },
      "execution_count": null,
      "outputs": []
    },
    {
      "cell_type": "markdown",
      "source": [
        "#2. choice 함수\n",
        "random.choice() 함수는 파이썬의 랜덤 라이브러리에서 제공하는 매우 유용한 함수 중 하나입니다.\n",
        "이 함수는 주어진 시퀀스(예: 리스트, 튜플, 문자열 등)에서 무작위로 요소 하나를 선택하여 반환합니다. 시퀀스 내의 몬든 요소는ㄴ 선택될 가능성이 동일합니다. random.choice() 함수를 사용하는 여러 가지 측면에 대해 더 자세히 설명하겠습니다.\n"
      ],
      "metadata": {
        "id": "KGQquWGA014q"
      }
    },
    {
      "cell_type": "code",
      "source": [
        "#1. choice 기본 사용법\n",
        "#chosen_element = random.choice(sequence)\n",
        "\n",
        "# 리스트에서 무작위 과일 선택\n",
        "#다양한 정보를 한번에 받아오는 것 = 리스트\n",
        "elements = ['사과', '바나나', '체리', '수박', '배']\n",
        "choice_elements = random.choice(elements)\n",
        "print(f'선택된 요소 : {choice_elements} 입니다.')"
      ],
      "metadata": {
        "colab": {
          "base_uri": "https://localhost:8080/"
        },
        "id": "ngp57Ppj7owd",
        "outputId": "a00a3f29-9d3a-456c-da0d-40984dd526c2"
      },
      "execution_count": 34,
      "outputs": [
        {
          "output_type": "stream",
          "name": "stdout",
          "text": [
            "선택된 요소 : 체리 입니다.\n"
          ]
        }
      ]
    },
    {
      "cell_type": "code",
      "source": [
        "print(elements)"
      ],
      "metadata": {
        "colab": {
          "base_uri": "https://localhost:8080/"
        },
        "id": "LgAGsXb28BQB",
        "outputId": "e0977908-fd55-4e4f-d13f-801f93f0dcbd"
      },
      "execution_count": 13,
      "outputs": [
        {
          "output_type": "stream",
          "name": "stdout",
          "text": [
            "['사과', '바나나', '체리', '수박', '배']\n"
          ]
        }
      ]
    },
    {
      "cell_type": "code",
      "source": [
        "choice_elements = random.choice(elements)"
      ],
      "metadata": {
        "id": "DPJgemFe8NgD"
      },
      "execution_count": 14,
      "outputs": []
    },
    {
      "cell_type": "code",
      "source": [
        "print(f'선택된 요소 : {choice_elements} 입니다.')"
      ],
      "metadata": {
        "colab": {
          "base_uri": "https://localhost:8080/"
        },
        "id": "FpK4h6Lc8SCJ",
        "outputId": "80b7578b-42dd-46a1-9058-5f64c1fb09c9"
      },
      "execution_count": 25,
      "outputs": [
        {
          "output_type": "stream",
          "name": "stdout",
          "text": [
            "선택된 요소 : 체리 입니다.\n"
          ]
        }
      ]
    },
    {
      "cell_type": "code",
      "source": [
        "# 2. 문자열에서 무작위 문자 선택\n",
        "\n",
        "greeting = \"가나다라마바사아자차카타파하\"\n",
        "choice_char = random.choice(greeting)\n",
        "print(f\"선택된 문자: {choice_char} 입니다.\")"
      ],
      "metadata": {
        "colab": {
          "base_uri": "https://localhost:8080/"
        },
        "id": "XwfG3EdZ8a5a",
        "outputId": "a2366f90-979c-4a6c-cdb4-468a5d69cf2d"
      },
      "execution_count": 29,
      "outputs": [
        {
          "output_type": "stream",
          "name": "stdout",
          "text": [
            "선택된 문자: 사 입니다.\n"
          ]
        }
      ]
    },
    {
      "cell_type": "code",
      "source": [
        "기본 - input output -> 무자열을 받아서 문자열 출력!\n",
        "random - 무작위의 숫자 또는 문자를 받아와서 출력!"
      ],
      "metadata": {
        "id": "5vFjvLHt8EoC"
      },
      "execution_count": null,
      "outputs": []
    },
    {
      "cell_type": "code",
      "source": [
        "#이렇게 사용하면 문자열\n",
        "test1 = input(\"임의의 \")"
      ],
      "metadata": {
        "colab": {
          "base_uri": "https://localhost:8080/"
        },
        "id": "CZtqVMo8-PS4",
        "outputId": "1504c262-8382-4b57-a0c6-41234b8eb9bb"
      },
      "execution_count": 39,
      "outputs": [
        {
          "name": "stdout",
          "output_type": "stream",
          "text": [
            "임의의 100\n"
          ]
        }
      ]
    },
    {
      "cell_type": "code",
      "source": [
        "#이렇게 사용하면 숫자(정수) 'int'\n",
        "test1 = int(input(\"임의의 \"))"
      ],
      "metadata": {
        "id": "vfctc9-X-2AZ"
      },
      "execution_count": null,
      "outputs": []
    },
    {
      "cell_type": "code",
      "source": [
        "test2 = random.randrange(1, 46)\n"
      ],
      "metadata": {
        "id": "iQNZnTlZ-mgc"
      },
      "execution_count": 37,
      "outputs": []
    },
    {
      "cell_type": "code",
      "source": [
        "# 이 코드는 Random 라이브러리를 사용한 예시입니다.\n",
        "import random\n",
        "\n",
        "\n",
        "random_number1 = random.randint(1, 10)  #랜덤으로 1부터 10까지 랜덤1값을 구하게 된다.\n",
        "random_number2 = random.randint(1, 10)  #랜덤으로 1부터 10까지 랜덤2값을 구하게 된다.\n",
        "\n",
        "\n",
        "sum_of_numbers = random_number1 + random_number2 #위에서 임의로 만들어진 랜덤1과 랜덤2의 값을 숫자(정수)로 더한다.\n",
        "\n",
        "\n",
        "print(f\"첫 번째 생성된 숫자: {random_number1}\")  #첫번쨰 랜덤으로 구해진값 출력.\n",
        "print(f\"두 번째 생성된 숫자: {random_number2}\")  #두번째 랜덤으로 구해진값 출력.\n",
        "print(f\"두 숫자의 합: {sum_of_numbers}\")  #랜덤으로 만들어진 1과 2를 더한 값을 출력."
      ],
      "metadata": {
        "colab": {
          "base_uri": "https://localhost:8080/"
        },
        "id": "Om-7mTQU-tl0",
        "outputId": "e7ca40e9-bb0f-4d0b-fe94-cf15cabc8c8c"
      },
      "execution_count": 43,
      "outputs": [
        {
          "output_type": "stream",
          "name": "stdout",
          "text": [
            "첫 번째 생성된 숫자: 5\n",
            "두 번째 생성된 숫자: 10\n",
            "두 숫자의 합: 15\n"
          ]
        }
      ]
    },
    {
      "cell_type": "code",
      "source": [
        "# 랜덤 주사위 2개 시뮬레이션 만들기\n",
        "\n",
        "dice1 = random.randrange(1, 7)\n",
        "dice2 = random.randrange(1, 7)\n",
        "\n",
        "total = dice1 + dice2\n",
        "\n",
        "print(f\"첫 번쨰 주사위 결과: {dice1}\")\n",
        "print(f\"두 번쨰 주사위 결과: {dice2}\")\n",
        "print(f\"주사위 결과: {dice1} + {dice2} = {total}\")\n"
      ],
      "metadata": {
        "colab": {
          "base_uri": "https://localhost:8080/"
        },
        "id": "yP_751eJ_nkT",
        "outputId": "3bb7f941-e452-499b-81d0-c75842cdca3f"
      },
      "execution_count": 59,
      "outputs": [
        {
          "output_type": "stream",
          "name": "stdout",
          "text": [
            "첫 번쨰 주사위 결과: 2\n",
            "두 번쨰 주사위 결과: 4\n",
            "주사위 결과: 2 + 4 = 6\n"
          ]
        }
      ]
    },
    {
      "cell_type": "code",
      "source": [
        "# 윷놀이를 만들어 보자\n",
        "\n",
        "윷놀이 = '도개걸윷모'\n",
        "choice_char = random.choice(윷놀이)\n",
        "print(f\"플레이어 1의 윳놀이 결과는: {choice_char} 입니다.\")\n",
        "print(f\"플레이어 2의 윳놀이 결과는: {choice_char} 입니다.\")\n",
        "print(f\"플레이어 3의 윳놀이 결과는: {choice_char} 입니다.\")\n",
        "print(f\"플레이어 4의 윳놀이 결과는: {choice_char} 입니다.\")"
      ],
      "metadata": {
        "colab": {
          "base_uri": "https://localhost:8080/"
        },
        "id": "B0-KQ34jJ_RO",
        "outputId": "b1cdd6b0-8157-4c6a-a9ba-45c7d535fb75"
      },
      "execution_count": 76,
      "outputs": [
        {
          "output_type": "stream",
          "name": "stdout",
          "text": [
            "플레이어 1의 윳놀이 결과는: 모 입니다.\n",
            "플레이어 2의 윳놀이 결과는: 모 입니다.\n",
            "플레이어 3의 윳놀이 결과는: 모 입니다.\n",
            "플레이어 4의 윳놀이 결과는: 모 입니다.\n"
          ]
        }
      ]
    },
    {
      "cell_type": "code",
      "source": [
        "\n",
        "p1 = 플레이어 1\n",
        "p2 = 플레이어 2\n",
        "p3 = 플레이어 3\n",
        "p4 = 플레이어 4\n",
        "\n",
        "도 = '1'\n",
        "개 = '2'\n",
        "걸 = '3'\n",
        "윷 = '4'\n",
        "모 = '5'\n",
        "\n",
        "점수 = choice_char\n",
        "print(f\"선택된 문자: {choice_char} 입니다.\")"
      ],
      "metadata": {
        "colab": {
          "base_uri": "https://localhost:8080/"
        },
        "id": "7u2_t9ZnKBb3",
        "outputId": "26170325-2137-4393-ade4-432c29344b11"
      },
      "execution_count": 73,
      "outputs": [
        {
          "output_type": "stream",
          "name": "stdout",
          "text": [
            "선택된 문자: 모 입니다.\n"
          ]
        }
      ]
    },
    {
      "cell_type": "code",
      "source": [
        "import random\n",
        "\n",
        "def throw_yut():\n",
        "    return random.choice(['도', '개', '걸', '윷', '모'])\n",
        "\n",
        "def play_yut_game():\n",
        "    players = ['Player 1', 'Player 2', 'Player 3', 'Player 4']\n",
        "\n",
        "    while True:\n",
        "        for player in players:\n",
        "            input(f\"{player}, Enter를 눌러 윷을 던지세요...\")\n",
        "            result = throw_yut()\n",
        "            print(f\"{player}의 결과: {result}\")\n",
        "\n",
        "        # 여기에 게임의 로직을 추가하면 됩니다.\n",
        "        # 예를 들어, 윷놀이 판의 상태를 관리하고, 누가 이겼는지 확인하는 등의 로직을 추가할 수 있습니다.\n",
        "\n",
        "        play_again = input(\"계속해서 윷을 던지시겠습니까? (y/n): \")\n",
        "        if play_again.lower() != 'y':\n",
        "            break\n",
        "\n",
        "if __name__ == \"__main__\":\n",
        "    play_yut_game()"
      ],
      "metadata": {
        "colab": {
          "base_uri": "https://localhost:8080/",
          "height": 557
        },
        "id": "pz3_ENQDUQGj",
        "outputId": "1b5bb3b3-d5af-428d-e5b8-41318d0ce8c4"
      },
      "execution_count": 78,
      "outputs": [
        {
          "name": "stdout",
          "output_type": "stream",
          "text": [
            "Player 1, Enter를 눌러 윷을 던지세요...\n",
            "Player 1의 결과: 윷\n",
            "Player 2, Enter를 눌러 윷을 던지세요...\n",
            "Player 2의 결과: 걸\n",
            "Player 3, Enter를 눌러 윷을 던지세요...\n",
            "Player 3의 결과: 걸\n",
            "Player 4, Enter를 눌러 윷을 던지세요...\n",
            "Player 4의 결과: 모\n",
            "계속해서 윷을 던지시겠습니까? (y/n): y\n"
          ]
        },
        {
          "output_type": "error",
          "ename": "KeyboardInterrupt",
          "evalue": "ignored",
          "traceback": [
            "\u001b[0;31m---------------------------------------------------------------------------\u001b[0m",
            "\u001b[0;31mKeyboardInterrupt\u001b[0m                         Traceback (most recent call last)",
            "\u001b[0;32m<ipython-input-78-efcdf62536f9>\u001b[0m in \u001b[0;36m<cell line: 22>\u001b[0;34m()\u001b[0m\n\u001b[1;32m     21\u001b[0m \u001b[0;34m\u001b[0m\u001b[0m\n\u001b[1;32m     22\u001b[0m \u001b[0;32mif\u001b[0m \u001b[0m__name__\u001b[0m \u001b[0;34m==\u001b[0m \u001b[0;34m\"__main__\"\u001b[0m\u001b[0;34m:\u001b[0m\u001b[0;34m\u001b[0m\u001b[0;34m\u001b[0m\u001b[0m\n\u001b[0;32m---> 23\u001b[0;31m     \u001b[0mplay_yut_game\u001b[0m\u001b[0;34m(\u001b[0m\u001b[0;34m)\u001b[0m\u001b[0;34m\u001b[0m\u001b[0;34m\u001b[0m\u001b[0m\n\u001b[0m",
            "\u001b[0;32m<ipython-input-78-efcdf62536f9>\u001b[0m in \u001b[0;36mplay_yut_game\u001b[0;34m()\u001b[0m\n\u001b[1;32m      9\u001b[0m     \u001b[0;32mwhile\u001b[0m \u001b[0;32mTrue\u001b[0m\u001b[0;34m:\u001b[0m\u001b[0;34m\u001b[0m\u001b[0;34m\u001b[0m\u001b[0m\n\u001b[1;32m     10\u001b[0m         \u001b[0;32mfor\u001b[0m \u001b[0mplayer\u001b[0m \u001b[0;32min\u001b[0m \u001b[0mplayers\u001b[0m\u001b[0;34m:\u001b[0m\u001b[0;34m\u001b[0m\u001b[0;34m\u001b[0m\u001b[0m\n\u001b[0;32m---> 11\u001b[0;31m             \u001b[0minput\u001b[0m\u001b[0;34m(\u001b[0m\u001b[0;34mf\"{player}, Enter를 눌러 윷을 던지세요...\"\u001b[0m\u001b[0;34m)\u001b[0m\u001b[0;34m\u001b[0m\u001b[0;34m\u001b[0m\u001b[0m\n\u001b[0m\u001b[1;32m     12\u001b[0m             \u001b[0mresult\u001b[0m \u001b[0;34m=\u001b[0m \u001b[0mthrow_yut\u001b[0m\u001b[0;34m(\u001b[0m\u001b[0;34m)\u001b[0m\u001b[0;34m\u001b[0m\u001b[0;34m\u001b[0m\u001b[0m\n\u001b[1;32m     13\u001b[0m             \u001b[0mprint\u001b[0m\u001b[0;34m(\u001b[0m\u001b[0;34mf\"{player}의 결과: {result}\"\u001b[0m\u001b[0;34m)\u001b[0m\u001b[0;34m\u001b[0m\u001b[0;34m\u001b[0m\u001b[0m\n",
            "\u001b[0;32m/usr/local/lib/python3.10/dist-packages/ipykernel/kernelbase.py\u001b[0m in \u001b[0;36mraw_input\u001b[0;34m(self, prompt)\u001b[0m\n\u001b[1;32m    849\u001b[0m                 \u001b[0;34m\"raw_input was called, but this frontend does not support input requests.\"\u001b[0m\u001b[0;34m\u001b[0m\u001b[0;34m\u001b[0m\u001b[0m\n\u001b[1;32m    850\u001b[0m             )\n\u001b[0;32m--> 851\u001b[0;31m         return self._input_request(str(prompt),\n\u001b[0m\u001b[1;32m    852\u001b[0m             \u001b[0mself\u001b[0m\u001b[0;34m.\u001b[0m\u001b[0m_parent_ident\u001b[0m\u001b[0;34m,\u001b[0m\u001b[0;34m\u001b[0m\u001b[0;34m\u001b[0m\u001b[0m\n\u001b[1;32m    853\u001b[0m             \u001b[0mself\u001b[0m\u001b[0;34m.\u001b[0m\u001b[0m_parent_header\u001b[0m\u001b[0;34m,\u001b[0m\u001b[0;34m\u001b[0m\u001b[0;34m\u001b[0m\u001b[0m\n",
            "\u001b[0;32m/usr/local/lib/python3.10/dist-packages/ipykernel/kernelbase.py\u001b[0m in \u001b[0;36m_input_request\u001b[0;34m(self, prompt, ident, parent, password)\u001b[0m\n\u001b[1;32m    893\u001b[0m             \u001b[0;32mexcept\u001b[0m \u001b[0mKeyboardInterrupt\u001b[0m\u001b[0;34m:\u001b[0m\u001b[0;34m\u001b[0m\u001b[0;34m\u001b[0m\u001b[0m\n\u001b[1;32m    894\u001b[0m                 \u001b[0;31m# re-raise KeyboardInterrupt, to truncate traceback\u001b[0m\u001b[0;34m\u001b[0m\u001b[0;34m\u001b[0m\u001b[0m\n\u001b[0;32m--> 895\u001b[0;31m                 \u001b[0;32mraise\u001b[0m \u001b[0mKeyboardInterrupt\u001b[0m\u001b[0;34m(\u001b[0m\u001b[0;34m\"Interrupted by user\"\u001b[0m\u001b[0;34m)\u001b[0m \u001b[0;32mfrom\u001b[0m \u001b[0;32mNone\u001b[0m\u001b[0;34m\u001b[0m\u001b[0;34m\u001b[0m\u001b[0m\n\u001b[0m\u001b[1;32m    896\u001b[0m             \u001b[0;32mexcept\u001b[0m \u001b[0mException\u001b[0m \u001b[0;32mas\u001b[0m \u001b[0me\u001b[0m\u001b[0;34m:\u001b[0m\u001b[0;34m\u001b[0m\u001b[0;34m\u001b[0m\u001b[0m\n\u001b[1;32m    897\u001b[0m                 \u001b[0mself\u001b[0m\u001b[0;34m.\u001b[0m\u001b[0mlog\u001b[0m\u001b[0;34m.\u001b[0m\u001b[0mwarning\u001b[0m\u001b[0;34m(\u001b[0m\u001b[0;34m\"Invalid Message:\"\u001b[0m\u001b[0;34m,\u001b[0m \u001b[0mexc_info\u001b[0m\u001b[0;34m=\u001b[0m\u001b[0;32mTrue\u001b[0m\u001b[0;34m)\u001b[0m\u001b[0;34m\u001b[0m\u001b[0;34m\u001b[0m\u001b[0m\n",
            "\u001b[0;31mKeyboardInterrupt\u001b[0m: Interrupted by user"
          ]
        }
      ]
    },
    {
      "cell_type": "code",
      "source": [
        "import random\n",
        "\n",
        "def throw_yut():\n",
        "    return random.choice(['도', '개', '걸', '윷', '모', '빽도'])\n",
        "\n",
        "def calculate_points(result):\n",
        "    if result == '빽도':        return -1\n",
        "    elif result == '도':\n",
        "        return 1\n",
        "    elif result == '개':\n",
        "        return 2\n",
        "    elif result == '걸':\n",
        "        return 3\n",
        "    elif result == '윷':\n",
        "        return 4\n",
        "    elif result == '모':\n",
        "        return 5\n",
        "\n",
        "def play_yut_game():\n",
        "    players = ['Player 1', 'Player 2', 'Player 3', 'Player 4']\n",
        "    player_scores = {player: 0 for player in players}\n",
        "\n",
        "    while True:\n",
        "        for player in players:\n",
        "            input(f\"{player}, Enter를 눌러 윷을 던지세요...\")\n",
        "            result = throw_yut()\n",
        "            points = calculate_points(result)\n",
        "            player_scores[player] += points\n",
        "            print(f\"{player}의 결과: {result}, 획득 점수: {points}, 누적 점수: {player_scores[player]}\")\n",
        "\n",
        "        sorted_players = sorted(player_scores.items(), key=lambda x: x[1], reverse=True)\n",
        "        print(\"\\n현재 순위:\")\n",
        "        for rank, (player, score) in enumerate(sorted_players, start=1):\n",
        "            print(f\"{rank}위: {player} - {score}점\")\n",
        "\n",
        "        play_again = input(\"계속해서 윷을 던지시겠습니까? (y/n): \")\n",
        "        if play_again.lower() != 'y':\n",
        "            break\n",
        "\n",
        "if __name__ == \"__main__\":\n",
        "    play_yut_game()"
      ],
      "metadata": {
        "colab": {
          "base_uri": "https://localhost:8080/",
          "height": 649
        },
        "id": "OAbW7oI9Uzic",
        "outputId": "a6169578-f756-4405-9c4b-77266562800a"
      },
      "execution_count": 80,
      "outputs": [
        {
          "output_type": "stream",
          "name": "stdout",
          "text": [
            "Player 1, Enter를 눌러 윷을 던지세요...\n",
            "Player 1의 결과: 개, 획득 점수: 2, 누적 점수: 2\n",
            "Player 2, Enter를 눌러 윷을 던지세요...\n",
            "Player 2의 결과: 윷, 획득 점수: 4, 누적 점수: 4\n",
            "Player 3, Enter를 눌러 윷을 던지세요...\n",
            "Player 3의 결과: 걸, 획득 점수: 3, 누적 점수: 3\n",
            "Player 4, Enter를 눌러 윷을 던지세요...\n",
            "Player 4의 결과: 빽도, 획득 점수: -1, 누적 점수: -1\n",
            "\n",
            "현재 순위:\n",
            "1위: Player 2 - 4점\n",
            "2위: Player 3 - 3점\n",
            "3위: Player 1 - 2점\n",
            "4위: Player 4 - -1점\n"
          ]
        },
        {
          "output_type": "error",
          "ename": "KeyboardInterrupt",
          "evalue": "ignored",
          "traceback": [
            "\u001b[0;31m---------------------------------------------------------------------------\u001b[0m",
            "\u001b[0;31mKeyboardInterrupt\u001b[0m                         Traceback (most recent call last)",
            "\u001b[0;32m<ipython-input-80-9561c1751161>\u001b[0m in \u001b[0;36m<cell line: 40>\u001b[0;34m()\u001b[0m\n\u001b[1;32m     39\u001b[0m \u001b[0;34m\u001b[0m\u001b[0m\n\u001b[1;32m     40\u001b[0m \u001b[0;32mif\u001b[0m \u001b[0m__name__\u001b[0m \u001b[0;34m==\u001b[0m \u001b[0;34m\"__main__\"\u001b[0m\u001b[0;34m:\u001b[0m\u001b[0;34m\u001b[0m\u001b[0;34m\u001b[0m\u001b[0m\n\u001b[0;32m---> 41\u001b[0;31m     \u001b[0mplay_yut_game\u001b[0m\u001b[0;34m(\u001b[0m\u001b[0;34m)\u001b[0m\u001b[0;34m\u001b[0m\u001b[0;34m\u001b[0m\u001b[0m\n\u001b[0m",
            "\u001b[0;32m<ipython-input-80-9561c1751161>\u001b[0m in \u001b[0;36mplay_yut_game\u001b[0;34m()\u001b[0m\n\u001b[1;32m     34\u001b[0m             \u001b[0mprint\u001b[0m\u001b[0;34m(\u001b[0m\u001b[0;34mf\"{rank}위: {player} - {score}점\"\u001b[0m\u001b[0;34m)\u001b[0m\u001b[0;34m\u001b[0m\u001b[0;34m\u001b[0m\u001b[0m\n\u001b[1;32m     35\u001b[0m \u001b[0;34m\u001b[0m\u001b[0m\n\u001b[0;32m---> 36\u001b[0;31m         \u001b[0mplay_again\u001b[0m \u001b[0;34m=\u001b[0m \u001b[0minput\u001b[0m\u001b[0;34m(\u001b[0m\u001b[0;34m\"계속해서 윷을 던지시겠습니까? (y/n): \"\u001b[0m\u001b[0;34m)\u001b[0m\u001b[0;34m\u001b[0m\u001b[0;34m\u001b[0m\u001b[0m\n\u001b[0m\u001b[1;32m     37\u001b[0m         \u001b[0;32mif\u001b[0m \u001b[0mplay_again\u001b[0m\u001b[0;34m.\u001b[0m\u001b[0mlower\u001b[0m\u001b[0;34m(\u001b[0m\u001b[0;34m)\u001b[0m \u001b[0;34m!=\u001b[0m \u001b[0;34m'y'\u001b[0m\u001b[0;34m:\u001b[0m\u001b[0;34m\u001b[0m\u001b[0;34m\u001b[0m\u001b[0m\n\u001b[1;32m     38\u001b[0m             \u001b[0;32mbreak\u001b[0m\u001b[0;34m\u001b[0m\u001b[0;34m\u001b[0m\u001b[0m\n",
            "\u001b[0;32m/usr/local/lib/python3.10/dist-packages/ipykernel/kernelbase.py\u001b[0m in \u001b[0;36mraw_input\u001b[0;34m(self, prompt)\u001b[0m\n\u001b[1;32m    849\u001b[0m                 \u001b[0;34m\"raw_input was called, but this frontend does not support input requests.\"\u001b[0m\u001b[0;34m\u001b[0m\u001b[0;34m\u001b[0m\u001b[0m\n\u001b[1;32m    850\u001b[0m             )\n\u001b[0;32m--> 851\u001b[0;31m         return self._input_request(str(prompt),\n\u001b[0m\u001b[1;32m    852\u001b[0m             \u001b[0mself\u001b[0m\u001b[0;34m.\u001b[0m\u001b[0m_parent_ident\u001b[0m\u001b[0;34m,\u001b[0m\u001b[0;34m\u001b[0m\u001b[0;34m\u001b[0m\u001b[0m\n\u001b[1;32m    853\u001b[0m             \u001b[0mself\u001b[0m\u001b[0;34m.\u001b[0m\u001b[0m_parent_header\u001b[0m\u001b[0;34m,\u001b[0m\u001b[0;34m\u001b[0m\u001b[0;34m\u001b[0m\u001b[0m\n",
            "\u001b[0;32m/usr/local/lib/python3.10/dist-packages/ipykernel/kernelbase.py\u001b[0m in \u001b[0;36m_input_request\u001b[0;34m(self, prompt, ident, parent, password)\u001b[0m\n\u001b[1;32m    893\u001b[0m             \u001b[0;32mexcept\u001b[0m \u001b[0mKeyboardInterrupt\u001b[0m\u001b[0;34m:\u001b[0m\u001b[0;34m\u001b[0m\u001b[0;34m\u001b[0m\u001b[0m\n\u001b[1;32m    894\u001b[0m                 \u001b[0;31m# re-raise KeyboardInterrupt, to truncate traceback\u001b[0m\u001b[0;34m\u001b[0m\u001b[0;34m\u001b[0m\u001b[0m\n\u001b[0;32m--> 895\u001b[0;31m                 \u001b[0;32mraise\u001b[0m \u001b[0mKeyboardInterrupt\u001b[0m\u001b[0;34m(\u001b[0m\u001b[0;34m\"Interrupted by user\"\u001b[0m\u001b[0;34m)\u001b[0m \u001b[0;32mfrom\u001b[0m \u001b[0;32mNone\u001b[0m\u001b[0;34m\u001b[0m\u001b[0;34m\u001b[0m\u001b[0m\n\u001b[0m\u001b[1;32m    896\u001b[0m             \u001b[0;32mexcept\u001b[0m \u001b[0mException\u001b[0m \u001b[0;32mas\u001b[0m \u001b[0me\u001b[0m\u001b[0;34m:\u001b[0m\u001b[0;34m\u001b[0m\u001b[0;34m\u001b[0m\u001b[0m\n\u001b[1;32m    897\u001b[0m                 \u001b[0mself\u001b[0m\u001b[0;34m.\u001b[0m\u001b[0mlog\u001b[0m\u001b[0;34m.\u001b[0m\u001b[0mwarning\u001b[0m\u001b[0;34m(\u001b[0m\u001b[0;34m\"Invalid Message:\"\u001b[0m\u001b[0;34m,\u001b[0m \u001b[0mexc_info\u001b[0m\u001b[0;34m=\u001b[0m\u001b[0;32mTrue\u001b[0m\u001b[0;34m)\u001b[0m\u001b[0;34m\u001b[0m\u001b[0;34m\u001b[0m\u001b[0m\n",
            "\u001b[0;31mKeyboardInterrupt\u001b[0m: Interrupted by user"
          ]
        }
      ]
    }
  ]
}