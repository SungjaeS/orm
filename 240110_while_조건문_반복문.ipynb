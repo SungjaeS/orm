{
  "nbformat": 4,
  "nbformat_minor": 0,
  "metadata": {
    "colab": {
      "provenance": [],
      "authorship_tag": "ABX9TyN6oiUZ40BV0rXuELxZ4ZS9",
      "include_colab_link": true
    },
    "kernelspec": {
      "name": "python3",
      "display_name": "Python 3"
    },
    "language_info": {
      "name": "python"
    }
  },
  "cells": [
    {
      "cell_type": "markdown",
      "metadata": {
        "id": "view-in-github",
        "colab_type": "text"
      },
      "source": [
        "<a href=\"https://colab.research.google.com/github/SungjaeS/orm/blob/main/240110_while_%EC%A1%B0%EA%B1%B4%EB%AC%B8_%EB%B0%98%EB%B3%B5%EB%AC%B8.ipynb\" target=\"_parent\"><img src=\"https://colab.research.google.com/assets/colab-badge.svg\" alt=\"Open In Colab\"/></a>"
      ]
    },
    {
      "cell_type": "code",
      "execution_count": null,
      "metadata": {
        "id": "v04dCKIjxeWr"
      },
      "outputs": [],
      "source": [
        "# colab에서도 작동되지만 가능하면 .py 파일로 작성해서 실행해보세요.\n",
        "import os\n",
        "\n",
        "    userinput = input('>')\n",
        "    if userinput == 'pwd':\n",
        "        # print('현재 위치 출력')\n",
        "        # print('||'.join(__file__.split('||')[:-1]))\n",
        "        print(os.getcwd())\n",
        "    elif userinput =='dir' or userinput == 'ls'\n",
        "        # print('현재 폴더에 폴더와 파일명 출력')\n",
        "        print(os.listdir)(os.getcwd())\n",
        "    elif userinput == 'exit':\n",
        "        print('안녕히가세요.')\n",
        "        break"
      ]
    },
    {
      "cell_type": "markdown",
      "source": [
        "# brake / continue"
      ],
      "metadata": {
        "id": "BO7jjqbizKe_"
      }
    },
    {
      "cell_type": "code",
      "source": [
        "for i in range(10):\n",
        "    if i == 5:\n",
        "        break #만약에 i가 5면 정지시켜라! -> 0부터 5까지만 출력하고 나머지는 출력하지 않는다.\n",
        "    print(i)"
      ],
      "metadata": {
        "id": "LaXaescIyf0E"
      },
      "execution_count": null,
      "outputs": []
    },
    {
      "cell_type": "markdown",
      "source": [
        "* continue = 반복문의 나머지 부분을 건너뛰고, 반복문을 다음 반복으로 즉시 이동."
      ],
      "metadata": {
        "id": "zjhpwKk8y7RZ"
      }
    },
    {
      "cell_type": "code",
      "source": [
        "for i in range(10): #0~9까지\n",
        "    if i % 2 == 0: #짝수, 2의 배수인 경우에만 하단 코드블럭 실행\n",
        "        continue # for문안에 있는 if문에 해당하는경우 다시 for로 가고 해당안된경우 print 하게된다.\n",
        "    print(i)"
      ],
      "metadata": {
        "id": "ClnvxAJGzwgO"
      },
      "execution_count": null,
      "outputs": []
    },
    {
      "cell_type": "code",
      "source": [
        "for i in range(10): #0~9까지\n",
        "    if i % 2 == 0: #짝수, 2의 배수인 경우에만 하단 코드블럭 실행\n",
        "        print(i)\n",
        "    print(i)"
      ],
      "metadata": {
        "id": "NDx9-D5r0FtI"
      },
      "execution_count": null,
      "outputs": []
    },
    {
      "cell_type": "code",
      "source": [
        "for i in range(10):\n",
        "    if i % 2 == 0:\n",
        "        print(i)"
      ],
      "metadata": {
        "id": "M8Vds1zK0Wvn"
      },
      "execution_count": null,
      "outputs": []
    },
    {
      "cell_type": "code",
      "source": [
        "import random\n",
        "\n",
        "answer = random.randint(1, 1000)\n",
        "while True:\n",
        "    userinput = int(input('숫자를 입력해주세요.'))\n",
        "    if userinput > answer:\n",
        "        print('Down')\n",
        "\n",
        "    elif userinput < answer:\n",
        "        print('Up')\n",
        "    else:\n",
        "        print('축하합니다! 맞추셨어요!')\n",
        "        break"
      ],
      "metadata": {
        "id": "2eg_6Oyd2RYY"
      },
      "execution_count": null,
      "outputs": []
    },
    {
      "cell_type": "code",
      "source": [
        "# 중첩 while문\n",
        "\n",
        "i = 2\n",
        "while i < 10 :\n",
        "    while j < 10:\n",
        "        print(f'{i} X {j} = {i * j}')"
      ],
      "metadata": {
        "id": "cDvHkzCS8hnS"
      },
      "execution_count": null,
      "outputs": []
    },
    {
      "cell_type": "code",
      "source": [
        "i = 2\n",
        "while i < 10 :\n",
        "    j = 1\n",
        "    while j < 10:\n",
        "        print(f'{i} X {j} = {i * j}')\n",
        "        j += 1\n",
        "    j += 1"
      ],
      "metadata": {
        "id": "uAZA7xuN9QD4"
      },
      "execution_count": null,
      "outputs": []
    },
    {
      "cell_type": "code",
      "source": [
        "i = 2\n",
        "while i < 10 :\n",
        "    j = 1\n",
        "    while j < 10:\n",
        "        print(f'{i} X {j} = {i * j}')\n",
        "        j += 1\n",
        "    j += 1"
      ],
      "metadata": {
        "id": "BtCPd5C--IeY"
      },
      "execution_count": null,
      "outputs": []
    },
    {
      "cell_type": "code",
      "source": [
        "#중첩 While문\n",
        "while i < 10 :\n",
        "    while j < 10:\n",
        "        print(f'{i} X {j} = {i * j}')\n",
        "\n",
        "i = 2\n",
        "while i < 10 :\n",
        "    j = 1\n",
        "    while j < 10:\n",
        "        print(f'{i} X {j} = {i * j}')\n",
        "        j += 1\n",
        "    i += 1\n",
        "\n",
        "#중첩 for문\n",
        "for i in range(2, 10):  # 2부터 9까지 반복 (10은 포함되지 않음)\n",
        "    for j in range(1, 10):  # 1부터 9까지 반복 (10은 포함되지 않음)\n",
        "        print(f'{i} X {j} = {i * j}')"
      ],
      "metadata": {
        "id": "u-mUvrmx_DjN"
      },
      "execution_count": null,
      "outputs": []
    },
    {
      "cell_type": "markdown",
      "source": [
        "3. 모든 반복문 한 번에 탈출하기"
      ],
      "metadata": {
        "id": "rM6MpMhJAKSL"
      }
    },
    {
      "cell_type": "code",
      "source": [
        "switch = 0\n",
        "for i in range(5):\n",
        "    if switch == 1:\n",
        "        break\n",
        "    for j in range(5):\n",
        "        if j == 3:\n",
        "            switch = 1\n",
        "            break\n",
        "        print(f'{i}, {j}')"
      ],
      "metadata": {
        "colab": {
          "base_uri": "https://localhost:8080/"
        },
        "id": "btaC5XagAP5j",
        "outputId": "70abe282-c00e-4ae0-d67d-2db15190d457"
      },
      "execution_count": null,
      "outputs": [
        {
          "output_type": "stream",
          "name": "stdout",
          "text": [
            "0, 0\n",
            "0, 1\n",
            "0, 2\n"
          ]
        }
      ]
    },
    {
      "cell_type": "code",
      "source": [
        "switch = 0\n",
        "for i in range(5):\n",
        "    if switch == 1:\n",
        "        break\n",
        "    for j in range(5):\n",
        "        if j == 3:\n",
        "            switch = 1\n",
        "            break\n",
        "        print(f'{1}, {j}')"
      ],
      "metadata": {
        "colab": {
          "base_uri": "https://localhost:8080/"
        },
        "id": "HuhA5cHsAVJi",
        "outputId": "fd99aecf-fde3-4fe5-82c1-c0df6e9fbe35"
      },
      "execution_count": null,
      "outputs": [
        {
          "output_type": "stream",
          "name": "stdout",
          "text": [
            "1, 0\n",
            "1, 1\n",
            "1, 2\n"
          ]
        }
      ]
    },
    {
      "cell_type": "code",
      "source": [
        "# https://peps.python.org/pep-3136/\n",
        "\n",
        "try:\n",
        "    for i in range(2, 10):\n",
        "        for j in range(1, 10):\n",
        "            if j == 3:\n",
        "                raise StopIteration # j가 3일떄 손들어서\n",
        "            print(f'{i} X {j} = {i*j}')\n",
        "except StopIteration: # 끝내라\n",
        "    print(\"Done\") #바로 프린트 Done 출력되고 끝남."
      ],
      "metadata": {
        "colab": {
          "base_uri": "https://localhost:8080/"
        },
        "id": "XxJzrGx0BLaM",
        "outputId": "d6fc91e8-88b3-446f-814a-15c5927ec92c"
      },
      "execution_count": null,
      "outputs": [
        {
          "output_type": "stream",
          "name": "stdout",
          "text": [
            "2 X 1 = 2\n",
            "2 X 2 = 4\n",
            "Done\n"
          ]
        }
      ]
    },
    {
      "cell_type": "code",
      "source": [
        "# 할일 목록 프로그램 만들기 (함수, 조건문, 반복문을 최대한 사용하기.)\n",
        "\n"
      ],
      "metadata": {
        "id": "EzynBn3gB942"
      },
      "execution_count": null,
      "outputs": []
    },
    {
      "cell_type": "code",
      "source": [],
      "metadata": {
        "id": "jYgjF4iOVDnR"
      },
      "execution_count": null,
      "outputs": []
    }
  ]
}