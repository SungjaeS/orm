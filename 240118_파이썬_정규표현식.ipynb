{
  "nbformat": 4,
  "nbformat_minor": 0,
  "metadata": {
    "colab": {
      "provenance": [],
      "authorship_tag": "ABX9TyMvM7kdK3kcJku6HT4Ot4Ic",
      "include_colab_link": true
    },
    "kernelspec": {
      "name": "python3",
      "display_name": "Python 3"
    },
    "language_info": {
      "name": "python"
    }
  },
  "cells": [
    {
      "cell_type": "markdown",
      "metadata": {
        "id": "view-in-github",
        "colab_type": "text"
      },
      "source": [
        "<a href=\"https://colab.research.google.com/github/SungjaeS/orm/blob/main/240118_%ED%8C%8C%EC%9D%B4%EC%8D%AC_%EC%A0%95%EA%B7%9C%ED%91%9C%ED%98%84%EC%8B%9D.ipynb\" target=\"_parent\"><img src=\"https://colab.research.google.com/assets/colab-badge.svg\" alt=\"Open In Colab\"/></a>"
      ]
    },
    {
      "cell_type": "markdown",
      "source": [
        "# 파이썬 버전별 변동사항"
      ],
      "metadata": {
        "id": "W9OfgNgxNHS8"
      }
    },
    {
      "cell_type": "markdown",
      "source": [
        "* Python 3.5: async await\n",
        "* Python 3.6: Dict에 순서, f-string, 타입힌트\n",
        "* Python 3.7: dataclasses\n",
        "* Python 3.8: 왈러스 연산자(:=)\n",
        "* Python 3.9: 딕셔너리 결합 연산자(|)\n",
        "* Python 3.10: match"
      ],
      "metadata": {
        "id": "ZQ8Y4PaGNJsd"
      }
    },
    {
      "cell_type": "markdown",
      "source": [],
      "metadata": {
        "id": "lgzoy4MXNKKG"
      }
    },
    {
      "cell_type": "code",
      "source": [
        "# id, name, email이 각각 3번씩 반복\n",
        "# -> 이러한 현상을  보일러 플레이트(boiler-plate)라 함\n",
        "# -> print를 해도 필드값이 보이지 않아 불편\n",
        "class User:\n",
        "    def __init__(self, id, name, email):\n",
        "        self.id = id\n",
        "        self.name = name\n",
        "        self.email = email"
      ],
      "metadata": {
        "id": "ET0CpyzG_vdI"
      },
      "execution_count": null,
      "outputs": []
    },
    {
      "cell_type": "code",
      "source": [
        "# 실무에서 사용하시는 분 아무도 못봤습니다.\n",
        "# 그래서 복습X\n",
        "# 정말 좋은 기능인데....\n",
        "\n",
        "from dataclasses import dataclass\n",
        "\n",
        "@dataclass\n",
        "class User:\n",
        "    id: int\n",
        "    name: str\n",
        "    email : str\n",
        "\n",
        "user = User(123, 'hojun', 'hojun@gmail')\n",
        "user"
      ],
      "metadata": {
        "id": "CQmM58H3ARAU"
      },
      "execution_count": null,
      "outputs": []
    },
    {
      "cell_type": "code",
      "source": [
        "x = {\"key1\": \"value1\"}\n",
        "y = {\"key2\": \"value2\"}\n",
        "z = x | y\n",
        "z"
      ],
      "metadata": {
        "id": "JS4ATW3zNVBM"
      },
      "execution_count": null,
      "outputs": []
    },
    {
      "cell_type": "markdown",
      "source": [
        "# 파일 입출력"
      ],
      "metadata": {
        "id": "987nLq5mNYeO"
      }
    },
    {
      "cell_type": "code",
      "source": [
        "* Python 3.5: async await\n",
        "* Python 3.6: Dict에 순서, f-string, 타입힌트\n",
        "* Python 3.7: dataclasses\n",
        "* Python 3.8: 왈러스 연산자(:=)\n",
        "* Python 3.9: 딕셔너리 결합 연산자(|)\n",
        "* Python 3.10: match"
      ],
      "metadata": {
        "id": "Kq_R0-qxAQ-H"
      },
      "execution_count": null,
      "outputs": []
    },
    {
      "cell_type": "code",
      "source": [
        "# open(파일이름, 파일모드)\n",
        "f = open('python.txt', 'w') # 파일모드 : r, w, a, r+,\n",
        "f.close()"
      ],
      "metadata": {
        "id": "qGpDVGdcAQ7o"
      },
      "execution_count": null,
      "outputs": []
    },
    {
      "cell_type": "code",
      "source": [
        "f = open('python.txt', 'w') # 파일모드 : r, w, a, r+,\n",
        "f.write('hello world')\n",
        "f.close()\n",
        "# 파일을 열었으면 꼭 닫아야 한다. 메모리가 살아있어 리소스를 많이씀."
      ],
      "metadata": {
        "id": "zMFZAfnrAQ5L"
      },
      "execution_count": null,
      "outputs": []
    },
    {
      "cell_type": "code",
      "source": [
        "# 그래서 위에 문법보다 아래 문법을 사용한다. 아래 문법은 닫아줄 필요없음.\n",
        "with open('test.txt', 'w') as f:\n",
        "    f.write('hello world!')"
      ],
      "metadata": {
        "id": "c19kkGswAQ2m"
      },
      "execution_count": null,
      "outputs": []
    },
    {
      "cell_type": "code",
      "source": [
        "for i in range(10):\n",
        "    with open(f'test{i}.txt', 'w') as f:\n",
        "        f.write('hello world!')"
      ],
      "metadata": {
        "id": "P6YPrnwZAQvk"
      },
      "execution_count": null,
      "outputs": []
    },
    {
      "cell_type": "code",
      "source": [
        "db_data = [\n",
        "  {\n",
        "    \"_id\": \"7f5440ab-7e2f-4a42-Be13-89987fa65b32\",\n",
        "    \"index\": \"1\",\n",
        "    \"name\": \"등윤상\",\n",
        "    \"email\": \"user-qe89s09@ut.io\",\n",
        "    \"phone\": \"010-3542-7711\",\n",
        "    \"country\": \"키리바시\",\n",
        "    \"address\": \"방학로 74-9\",\n",
        "    \"job\": \"일러스트레이터\"\n",
        "  },\n",
        "  {\n",
        "    \"_id\": \"b4f7ade0-38bb-4e6f-B94a-18af1426eb30\",\n",
        "    \"index\": \"2\",\n",
        "    \"name\": \"노동규\",\n",
        "    \"email\": \"user-nyr5mqw@ornare.com\",\n",
        "    \"phone\": \"010-9743-6320\",\n",
        "    \"country\": \"베냉\",\n",
        "    \"address\": \"남부순환로 54-6\",\n",
        "    \"job\": \"애완동물미용사\"\n",
        "  },\n",
        "  {\n",
        "    \"_id\": \"5d788255-8d5e-4f03-B446-dbac6a147e37\",\n",
        "    \"index\": \"3\",\n",
        "    \"name\": \"경진아\",\n",
        "    \"email\": \"user-n7pey4v@Etiam.biz\",\n",
        "    \"phone\": \"010-4049-8718\",\n",
        "    \"country\": \"아르메니아\",\n",
        "    \"address\": \"강남대로 87-5\",\n",
        "    \"job\": \"플로리스트\"\n",
        "  },\n",
        "  {\n",
        "    \"_id\": \"083efce4-17ed-4e9f-Ad7c-f9aa0ac6cb79\",\n",
        "    \"index\": \"4\",\n",
        "    \"name\": \"복소유\",\n",
        "    \"email\": \"user-ohaz2is@nibh.biz\",\n",
        "    \"phone\": \"010-3400-5945\",\n",
        "    \"country\": \"페루\",\n",
        "    \"address\": \"양산로 78-1\",\n",
        "    \"job\": \"응급구조사\"\n",
        "  },\n",
        "  {\n",
        "    \"_id\": \"d54ce0fa-c025-4af6-Cd9a-b9d10aa8be5a\",\n",
        "    \"index\": \"5\",\n",
        "    \"name\": \"화예빈\",\n",
        "    \"email\": \"user-mnkpdlp@vel.net\",\n",
        "    \"phone\": \"010-3120-8720\",\n",
        "    \"country\": \"허드 및 맥도널드 제도\",\n",
        "    \"address\": \"한남대로 6-2\",\n",
        "    \"job\": \"전문의사\"\n",
        "  }\n",
        "]"
      ],
      "metadata": {
        "id": "Fh5vdqHsNo1B"
      },
      "execution_count": null,
      "outputs": []
    },
    {
      "cell_type": "code",
      "source": [
        "# 미션 1 - 각각의 회원 이름_info.txt로 각각 정보 정리\n",
        "\n",
        "# 미션 2 - 엑셀로 각각 정보 정리\n",
        "\n",
        "# 미션 3 - # html로 table로 정리하기 => table 클릭하면 정렬되게 하기(JS를 배우셨으면 했을텐데ㅜㅜ 나중에 해보세요.)"
      ],
      "metadata": {
        "id": "zTYYwMHoB5kc"
      },
      "execution_count": null,
      "outputs": []
    },
    {
      "cell_type": "code",
      "source": [
        "# 미션 1\n",
        "# 각각의 회원 이름_info.txt로 각각 정보 정리\n",
        "list(map(lambda x: x['name'], db_data))\n",
        "\n",
        "for i, name in enumerate(map(lambda x: x['name'], db_data)):\n",
        "    with open(f'{name}_info.txt', 'w') as f:\n",
        "        f.write(str(db_data[i]))"
      ],
      "metadata": {
        "id": "I1oITHRANte-"
      },
      "execution_count": null,
      "outputs": []
    },
    {
      "cell_type": "code",
      "source": [
        "from bs4 import BeautifulSoup\n",
        "import json\n",
        "\n",
        "soup = BeautifulSoup(str(db_data), 'html.parser')\n",
        "# json_data = json.loads(soup.text)\n",
        "# json_data"
      ],
      "metadata": {
        "id": "QHNdQ2AANugg"
      },
      "execution_count": null,
      "outputs": []
    },
    {
      "cell_type": "code",
      "source": [
        "# 미션 2\n",
        "# 엑셀로 각각 정보 정리\n",
        "# \"_id\": \"d54ce0fa-c025-4af6-Cd9a-b9d10aa8be5a\",\n",
        "# \"index\": \"5\",\n",
        "# \"name\": \"화예빈\",\n",
        "# \"email\": \"user-mnkpdlp@vel.net\",\n",
        "# \"phone\": \"010-3120-8720\",\n",
        "# \"country\": \"허드 및 맥도널드 제도\",\n",
        "# \"address\": \"한남대로 6-2\",\n",
        "# \"job\": \"전문의사\"\n",
        "with open('data.csv', 'w') as f:\n",
        "    s = '아이디,인덱스,이름,이메일,휴대폰,나라,주소,직업\\n'\n",
        "    for i in db_data:\n",
        "        s += f'{i[\"_id\"]},{i[\"index\"]},{i[\"name\"]},{i[\"email\"]},{i[\"phone\"]},{i[\"country\"]},{i[\"address\"]},{i[\"job\"]}\\n'\n",
        "    f.write(s)"
      ],
      "metadata": {
        "id": "wAOBwfWuNydZ"
      },
      "execution_count": null,
      "outputs": []
    },
    {
      "cell_type": "code",
      "source": [
        "# 부록\n",
        "# 엑셀라이터\n",
        "# 복습X"
      ],
      "metadata": {
        "id": "TLirVlGZOD22"
      },
      "execution_count": null,
      "outputs": []
    },
    {
      "cell_type": "code",
      "source": [
        "!pip3 install xlsxwriter"
      ],
      "metadata": {
        "colab": {
          "base_uri": "https://localhost:8080/"
        },
        "id": "tcnmREAkN0ex",
        "outputId": "ca682a77-aff2-4c68-aafb-7269d225c5fd"
      },
      "execution_count": null,
      "outputs": [
        {
          "output_type": "stream",
          "name": "stdout",
          "text": [
            "Collecting xlsxwriter\n",
            "  Downloading XlsxWriter-3.1.9-py3-none-any.whl (154 kB)\n",
            "\u001b[?25l     \u001b[90m━━━━━━━━━━━━━━━━━━━━━━━━━━━━━━━━━━━━━━━━\u001b[0m \u001b[32m0.0/154.8 kB\u001b[0m \u001b[31m?\u001b[0m eta \u001b[36m-:--:--\u001b[0m\r\u001b[2K     \u001b[91m━━━━━━━━━━━━━━━━━━\u001b[0m\u001b[91m╸\u001b[0m\u001b[90m━━━━━━━━━━━━━━━━━━━━━\u001b[0m \u001b[32m71.7/154.8 kB\u001b[0m \u001b[31m2.0 MB/s\u001b[0m eta \u001b[36m0:00:01\u001b[0m\r\u001b[2K     \u001b[90m━━━━━━━━━━━━━━━━━━━━━━━━━━━━━━━━━━━━━━━━\u001b[0m \u001b[32m154.8/154.8 kB\u001b[0m \u001b[31m2.7 MB/s\u001b[0m eta \u001b[36m0:00:00\u001b[0m\n",
            "\u001b[?25hInstalling collected packages: xlsxwriter\n",
            "Successfully installed xlsxwriter-3.1.9\n"
          ]
        }
      ]
    },
    {
      "cell_type": "code",
      "source": [
        "# request나 bs4 기본 모듈 아닌데 colab에 깔려 있는 것입니다.\n",
        "# 데스크톱에서 깔려있는지 확인하시지 않고 실행시키면 모듈이 없다고 나옵니다."
      ],
      "metadata": {
        "id": "aA_D7gpjN2Ei"
      },
      "execution_count": null,
      "outputs": []
    },
    {
      "cell_type": "code",
      "source": [
        "# 워크북(엑셀파일 1개입니다.)\n",
        "# 워크시트(sheet이라고 아래 여러개의 sheet을 만들 수 있습니다.)\n",
        "# 셀(네모 칸 하나)"
      ],
      "metadata": {
        "id": "pPLMavX-N3Av"
      },
      "execution_count": null,
      "outputs": []
    },
    {
      "cell_type": "code",
      "source": [
        "import xlsxwriter\n",
        "\n",
        "workbook = xlsxwriter.Workbook('hello.xlsx')\n",
        "worksheet = workbook.add_worksheet('test')\n",
        "\n",
        "worksheet.write('A1', 'A')\n",
        "worksheet.write('B1', 'B')\n",
        "worksheet.write('C1', 'C')\n",
        "worksheet.write('A2', 'D')\n",
        "worksheet.write('B2', 'E')\n",
        "worksheet.write('C2', 'F')\n",
        "\n",
        "worksheet.write(2, 0, 'hello')\n",
        "worksheet.write(2, 1, 'world')\n",
        "worksheet.write(2, 2, 'hojun')\n",
        "\n",
        "workbook.close()"
      ],
      "metadata": {
        "id": "CHm-z1g9OAS5"
      },
      "execution_count": null,
      "outputs": []
    },
    {
      "cell_type": "code",
      "source": [
        "import xlsxwriter\n",
        "\n",
        "workbook = xlsxwriter.Workbook('hello.xlsx')\n",
        "worksheet = workbook.add_worksheet('test')\n",
        "\n",
        "철수 = [10, 20, 30]\n",
        "영희 = [40, 50, 60]\n",
        "\n",
        "worksheet.write('A1', '국')\n",
        "worksheet.write('B1', '영')\n",
        "worksheet.write('C1', '수')\n",
        "worksheet.write('A2', 철수[0])\n",
        "worksheet.write('B2', 철수[1])\n",
        "worksheet.write('C2', 철수[2])\n",
        "worksheet.write('A3', 영희[0])\n",
        "worksheet.write('B3', 영희[1])\n",
        "worksheet.write('C3', 영희[2])\n",
        "\n",
        "for i in zip('ABC', 철수, 영희):\n",
        "    worksheet.write(f'{i[0]}4', i[1] + i[2])\n",
        "\n",
        "workbook.close()"
      ],
      "metadata": {
        "id": "IL4y0is1Mitu"
      },
      "execution_count": null,
      "outputs": []
    },
    {
      "cell_type": "code",
      "source": [
        "for i in zip('ABC', 철수, 영희):\n",
        "    print(f'{i[0]}4', i[1] + i[2])"
      ],
      "metadata": {
        "colab": {
          "base_uri": "https://localhost:8080/"
        },
        "id": "s__3bue8OVMa",
        "outputId": "40ca9286-8cb0-4d06-dcbd-4c79e8ce8715"
      },
      "execution_count": null,
      "outputs": [
        {
          "output_type": "stream",
          "name": "stdout",
          "text": [
            "A4 50\n",
            "B4 70\n",
            "C4 90\n"
          ]
        }
      ]
    },
    {
      "cell_type": "code",
      "source": [
        "import xlsxwriter\n",
        "\n",
        "workbook = xlsxwriter.Workbook('hello.xlsx')\n",
        "worksheet = workbook.add_worksheet('test')\n",
        "\n",
        "철수 = [10, 20, 30]\n",
        "영희 = [40, 50, 60]\n",
        "\n",
        "worksheet.write('A1', '국')\n",
        "worksheet.write('B1', '영')\n",
        "worksheet.write('C1', '수')\n",
        "worksheet.write('A2', 철수[0])\n",
        "worksheet.write('B2', 철수[1])\n",
        "worksheet.write('C2', 철수[2])\n",
        "worksheet.write('A3', 영희[0])\n",
        "worksheet.write('B3', 영희[1])\n",
        "worksheet.write('C3', 영희[2])\n",
        "\n",
        "for i in zip('ABC', 철수, 영희):\n",
        "    worksheet.write(f'{i[0]}4', i[1] + i[2])\n",
        "\n",
        "# D1에 평균 텍스트 삽입\n",
        "worksheet.write('D1', '평균')\n",
        "# 수식 삽입\n",
        "worksheet.write('D2', '=SUM(A2:C2)/3')\n",
        "worksheet.write('D3', '=SUM(A3:C3)/3')\n",
        "\n",
        "workbook.close()"
      ],
      "metadata": {
        "id": "KXbv_ubkMirQ"
      },
      "execution_count": null,
      "outputs": []
    },
    {
      "cell_type": "code",
      "source": [
        "# 크롤링\n",
        "# 웹크롤링 -> 엑셀\n",
        "# 한글파일 크롤링 -> 엑셀\n",
        "# PDF 크롤링 -> 엑셀\n",
        "\n",
        "# 파일 형식 변환\n",
        "# CSV => xlsx\n",
        "# JSON => xlsx\n",
        "\n",
        "# 메크로\n",
        "# 메크로 작동 로직 => 엑셀"
      ],
      "metadata": {
        "id": "Lmhja89IOaxe"
      },
      "execution_count": null,
      "outputs": []
    },
    {
      "cell_type": "code",
      "source": [
        "# 미션 3\n",
        "# html로 table로 정리하기\n",
        "db_data = [\n",
        "  {\n",
        "    \"_id\": \"7f5440ab-7e2f-4a42-Be13-89987fa65b32\",\n",
        "    \"index\": \"1\",\n",
        "    \"name\": \"등윤상\",\n",
        "    \"email\": \"user-qe89s09@ut.io\",\n",
        "    \"phone\": \"010-3542-7711\",\n",
        "    \"country\": \"키리바시\",\n",
        "    \"address\": \"방학로 74-9\",\n",
        "    \"job\": \"일러스트레이터\"\n",
        "  },\n",
        "  {\n",
        "    \"_id\": \"b4f7ade0-38bb-4e6f-B94a-18af1426eb30\",\n",
        "    \"index\": \"2\",\n",
        "    \"name\": \"노동규\",\n",
        "    \"email\": \"user-nyr5mqw@ornare.com\",\n",
        "    \"phone\": \"010-9743-6320\",\n",
        "    \"country\": \"베냉\",\n",
        "    \"address\": \"남부순환로 54-6\",\n",
        "    \"job\": \"애완동물미용사\"\n",
        "  },\n",
        "  {\n",
        "    \"_id\": \"5d788255-8d5e-4f03-B446-dbac6a147e37\",\n",
        "    \"index\": \"3\",\n",
        "    \"name\": \"경진아\",\n",
        "    \"email\": \"user-n7pey4v@Etiam.biz\",\n",
        "    \"phone\": \"010-4049-8718\",\n",
        "    \"country\": \"아르메니아\",\n",
        "    \"address\": \"강남대로 87-5\",\n",
        "    \"job\": \"플로리스트\"\n",
        "  },\n",
        "  {\n",
        "    \"_id\": \"083efce4-17ed-4e9f-Ad7c-f9aa0ac6cb79\",\n",
        "    \"index\": \"4\",\n",
        "    \"name\": \"복소유\",\n",
        "    \"email\": \"user-ohaz2is@nibh.biz\",\n",
        "    \"phone\": \"010-3400-5945\",\n",
        "    \"country\": \"페루\",\n",
        "    \"address\": \"양산로 78-1\",\n",
        "    \"job\": \"응급구조사\"\n",
        "  },\n",
        "  {\n",
        "    \"_id\": \"d54ce0fa-c025-4af6-Cd9a-b9d10aa8be5a\",\n",
        "    \"index\": \"5\",\n",
        "    \"name\": \"화예빈\",\n",
        "    \"email\": \"user-mnkpdlp@vel.net\",\n",
        "    \"phone\": \"010-3120-8720\",\n",
        "    \"country\": \"허드 및 맥도널드 제도\",\n",
        "    \"address\": \"한남대로 6-2\",\n",
        "    \"job\": \"전문의사\"\n",
        "  }\n",
        "]"
      ],
      "metadata": {
        "id": "O4K4uKa-Oe7_"
      },
      "execution_count": null,
      "outputs": []
    },
    {
      "cell_type": "code",
      "source": [
        "db_data"
      ],
      "metadata": {
        "colab": {
          "base_uri": "https://localhost:8080/",
          "height": 184
        },
        "id": "9UBepZnwRU-u",
        "outputId": "c40349f4-21a3-4b18-ecbd-a05418ce5fe1"
      },
      "execution_count": null,
      "outputs": [
        {
          "output_type": "error",
          "ename": "NameError",
          "evalue": "name 'db_data' is not defined",
          "traceback": [
            "\u001b[0;31m---------------------------------------------------------------------------\u001b[0m",
            "\u001b[0;31mNameError\u001b[0m                                 Traceback (most recent call last)",
            "\u001b[0;32m<ipython-input-10-05b352414416>\u001b[0m in \u001b[0;36m<cell line: 1>\u001b[0;34m()\u001b[0m\n\u001b[0;32m----> 1\u001b[0;31m \u001b[0mdb_data\u001b[0m\u001b[0;34m\u001b[0m\u001b[0;34m\u001b[0m\u001b[0m\n\u001b[0m",
            "\u001b[0;31mNameError\u001b[0m: name 'db_data' is not defined"
          ]
        }
      ]
    },
    {
      "cell_type": "code",
      "source": [
        "s = '''\n",
        "<style>\n",
        "    table {\n",
        "        border-collapse: collapse;\n",
        "        width: 100%;\n",
        "        border: 1px solid black;\n",
        "    }\n",
        "    tr, td, th {\n",
        "        border: 1px solid black;\n",
        "    }\n",
        "</style>\n",
        "<table>\n",
        "    <tr>\n",
        "        <th>아이디</th>\n",
        "        <th>인덱스</th>\n",
        "        <th>이름</th>\n",
        "        <th>이메일</th>\n",
        "        <th>휴대폰</th>\n",
        "        <th>나라</th>\n",
        "        <th>주소</th>\n",
        "        <th>직업</th>\n",
        "    </tr>\n",
        "'''\n",
        "for i, _ in enumerate(db_data):\n",
        "    s += f'''\n",
        "        <tr>\n",
        "                <td>{db_data[i][\"_id\"]}</td>\n",
        "                <td>{db_data[i][\"index\"]}</td>\n",
        "                <td>{db_data[i][\"name\"]}</td>\n",
        "                <td>{db_data[i][\"email\"]}</td>\n",
        "                <td>{db_data[i][\"phone\"]}</td>\n",
        "                <td>{db_data[i][\"country\"]}</td>\n",
        "                <td>{db_data[i][\"address\"]}</td>\n",
        "                <td>{db_data[i][\"job\"]}</td>\n",
        "        </tr>\n",
        "        '''\n",
        "s += '</table>'\n",
        "s"
      ],
      "metadata": {
        "id": "8eeXzrtXRaXA"
      },
      "execution_count": null,
      "outputs": []
    },
    {
      "cell_type": "code",
      "source": [
        "'''\n",
        "for item in db_data:\n",
        "    s += f'''\n",
        "        <tr>\n",
        "            <td>{item[\"_id\"]}</td>\n",
        "            <td>{item[\"index\"]}</td>\n",
        "            <td>{item[\"name\"]}</td>\n",
        "            <td>{item[\"email\"]}</td>\n",
        "            <td>{item[\"phone\"]}</td>\n",
        "            <td>{item[\"country\"]}</td>\n",
        "            <td>{item[\"address\"]}</td>\n",
        "            <td>{item[\"job\"]}</td>\n",
        "        </tr>\n",
        "    '''"
      ],
      "metadata": {
        "id": "_Fism-LWUfkt"
      },
      "execution_count": null,
      "outputs": []
    },
    {
      "cell_type": "code",
      "source": [
        "s = '''\n",
        "<style>\n",
        "    table {\n",
        "        border-collapse: collapse;\n",
        "        width: 100%;\n",
        "        border: 1px solid black;\n",
        "    }\n",
        "    tr, td, th {\n",
        "        border: 1px solid black;\n",
        "    }\n",
        "</style>\n",
        "<table>\n",
        "    <tr>\n",
        "        <th>아이디</th>\n",
        "        <th>인덱스</th>\n",
        "        <th>이름</th>\n",
        "        <th>이메일</th>\n",
        "        <th>휴대폰</th>\n",
        "        <th>나라</th>\n",
        "        <th>주소</th>\n",
        "        <th>직업</th>\n",
        "    </tr>\n",
        "'''\n",
        "\n",
        "for item in db_data:\n",
        "    s += f'''\n",
        "        <tr>\n",
        "                <td>{item[\"_id\"]}</td>\n",
        "                <td>{item[\"index\"]}</td>\n",
        "                <td>{item[\"name\"]}</td>\n",
        "                <td>{item[\"email\"]}</td>\n",
        "                <td>{item[\"phone\"]}</td>\n",
        "                <td>{item[\"country\"]}</td>\n",
        "                <td>{item[\"address\"]}</td>\n",
        "                <td>{item[\"job\"]}</td>\n",
        "        </tr>\n",
        "        '''\n",
        "\n",
        "s += '</table>'\n",
        "\n",
        "with open('test.html', 'w') as f:\n",
        "    f.write(s)"
      ],
      "metadata": {
        "id": "_yuR4VFmXJRx"
      },
      "execution_count": null,
      "outputs": []
    },
    {
      "cell_type": "code",
      "source": [
        "f = open('test.html', 'r')\n",
        "while True:\n",
        "    line = f.readline()\n",
        "    if not line:\n",
        "        break\n",
        "    print(line, end='')\n",
        "f.close()"
      ],
      "metadata": {
        "id": "wLxjN7B1XQJA"
      },
      "execution_count": null,
      "outputs": []
    },
    {
      "cell_type": "code",
      "source": [
        "f = open('test.html', 'r')\n",
        "data = f.read()\n",
        "print(data)\n",
        "f.close()"
      ],
      "metadata": {
        "id": "OO7Yl--7XW1d"
      },
      "execution_count": null,
      "outputs": []
    },
    {
      "cell_type": "markdown",
      "source": [
        "# 비트 연산"
      ],
      "metadata": {
        "id": "5DBPC5UqYiys"
      }
    },
    {
      "cell_type": "code",
      "source": [
        "# 실무에서 비트연산을 하는 경우가 거~~~의 없습니다.\n",
        "# 알고리즘 테스트에서 CS지식 정도를 테스트 하는 용도로 간혹 출제가 됩니다.\n",
        "# 진법: 수학 기초 상식\n",
        "\n",
        "# 10진법\n",
        "# 1542 == 1 * (10**3) + 5 * (10**2) + 4 * (10**1) + 2 * (10**0)\n",
        "# 0123456789 10\n",
        "\n",
        "# 16진법\n",
        "# 1542 == 1 * (16**3) + 5 * (16**2) + 4 * (16**1) + 2 * (16**0)\n",
        "# 0123456789abcdef 10\n",
        "\n",
        "# 8진법\n",
        "# 1542 == 1 * (8**3) + 5 * (8**2) + 4 * (8**1) + 2 * (8**0)\n",
        "# 01234567 10\n",
        "\n",
        "# 01 10"
      ],
      "metadata": {
        "id": "l9VOY_AVYkdO"
      },
      "execution_count": null,
      "outputs": []
    },
    {
      "cell_type": "code",
      "source": [
        "# 진법 변환 팁\n",
        "# 10진 == 2진\n",
        "# 1 == 1\n",
        "# 2 == 10\n",
        "# 4 == 100\n",
        "# 8 == 1000\n",
        "# 16 == 10000\n",
        "\n",
        "# 9는? 8 + 1 => 1000 + 1 => 1001\n",
        "# 15는? 16 - 1 => 10000 - 1 => 1111"
      ],
      "metadata": {
        "id": "nphzz-iZZTLZ"
      },
      "execution_count": null,
      "outputs": []
    },
    {
      "cell_type": "code",
      "source": [
        "# 3 & 9 (and)\n",
        "\n",
        "# 0011\n",
        "# 1001\n",
        "# ----\n",
        "# 0001"
      ],
      "metadata": {
        "id": "HHyav6Z5Z-NJ"
      },
      "execution_count": null,
      "outputs": []
    },
    {
      "cell_type": "code",
      "source": [
        "# 3 | 9 (or)\n",
        "\n",
        "# 0011\n",
        "# 1001\n",
        "# ----\n",
        "# 1011 => 11"
      ],
      "metadata": {
        "id": "oTK9caZWavNy"
      },
      "execution_count": null,
      "outputs": []
    },
    {
      "cell_type": "code",
      "source": [
        "3 | 9"
      ],
      "metadata": {
        "colab": {
          "base_uri": "https://localhost:8080/"
        },
        "id": "bjPkZdIseqIk",
        "outputId": "8a5b30a9-b36a-4293-923d-2b939aac6395"
      },
      "execution_count": 1,
      "outputs": [
        {
          "output_type": "execute_result",
          "data": {
            "text/plain": [
              "11"
            ]
          },
          "metadata": {},
          "execution_count": 1
        }
      ]
    },
    {
      "cell_type": "code",
      "source": [
        "# 복습 XXX\n",
        "# 8개의 비트(bit)를 숫자로 사용할 수 있습니다.\n",
        "# 8개 비트 사용하면 1개를 부호 비트\n",
        "00000000\n",
        "00000001 == 1\n",
        "11111110 == -1\n",
        "11111111 + 1 => 00000000(우리가 원하는 값)"
      ],
      "metadata": {
        "id": "8Txo-mtoery-"
      },
      "execution_count": null,
      "outputs": []
    },
    {
      "cell_type": "code",
      "source": [
        "# 매개변수\t값\n",
        "# n\t5\n",
        "# arr1\t[9, 20, 28, 18, 11]\n",
        "# arr2\t[30, 1, 21, 17, 28]\n",
        "# 출력\t[\"#####\",\"# # #\", \"### #\", \"# ##\", \"#####\"]"
      ],
      "metadata": {
        "id": "oHvEAYX6es5T"
      },
      "execution_count": null,
      "outputs": []
    },
    {
      "cell_type": "code",
      "source": [
        "매개변수\t값\n",
        "n\t5\n",
        "arr1\t[9, 20, 28, 18, 11]\n",
        "arr2\t[30, 1, 21, 17, 28]\n",
        "출력\t[\"#####\",\"# # #\", \"### #\", \"# ##\", \"#####\"]"
      ],
      "metadata": {
        "id": "MB2Vcweudz2w"
      },
      "execution_count": null,
      "outputs": []
    },
    {
      "cell_type": "code",
      "source": [
        "9 | 30\n"
      ],
      "metadata": {
        "colab": {
          "base_uri": "https://localhost:8080/"
        },
        "id": "ZpapW2t2exvn",
        "outputId": "ada895ad-b501-4bf4-f65f-c2e42f642fa7"
      },
      "execution_count": 2,
      "outputs": [
        {
          "output_type": "execute_result",
          "data": {
            "text/plain": [
              "31"
            ]
          },
          "metadata": {},
          "execution_count": 2
        }
      ]
    },
    {
      "cell_type": "code",
      "source": [
        "9 | 30\n",
        "bin(9 | 30)\n",
        "bin(9 | 30)[2:]\n",
        "bin(9 | 30)[2:].replace('1', '#').replace('0', ' ')\n",
        "\n",
        "arr1 = [9, 20, 28, 18, 11]\n",
        "arr2 = [30, 1, 21, 17, 28]\n",
        "\n",
        "for i, j in zip(arr1, arr2):\n",
        "    print(bin(i | j)[2:].replace('1', '#').replace('0', ' '))"
      ],
      "metadata": {
        "id": "4QPmTQ-Gd2Ae"
      },
      "execution_count": null,
      "outputs": []
    },
    {
      "cell_type": "code",
      "source": [
        "bin(31) # 2진법 변환  '0b11111'\n",
        "oct(31) # 8진법 변환  '0o37'\n",
        "hex(31) # 16진법 변환 '0x1f'\n",
        "\n",
        "int('0b11111', 2) # 2진수를 10진수로 변환\n",
        "int('11111', 2) # 2진수를 10진수로 변환"
      ],
      "metadata": {
        "id": "5zlkWtt6iCRb"
      },
      "execution_count": null,
      "outputs": []
    },
    {
      "cell_type": "code",
      "source": [
        "bin(31) # 2진법 변환 바이너리\n"
      ],
      "metadata": {
        "colab": {
          "base_uri": "https://localhost:8080/",
          "height": 35
        },
        "id": "k-a9WmG-hMlv",
        "outputId": "299ab0f8-8d19-4175-adab-d49381d99608"
      },
      "execution_count": 4,
      "outputs": [
        {
          "output_type": "execute_result",
          "data": {
            "text/plain": [
              "'0b11111'"
            ],
            "application/vnd.google.colaboratory.intrinsic+json": {
              "type": "string"
            }
          },
          "metadata": {},
          "execution_count": 4
        }
      ]
    },
    {
      "cell_type": "code",
      "source": [
        "oct(31) # 8진법 변환 옥타"
      ],
      "metadata": {
        "colab": {
          "base_uri": "https://localhost:8080/",
          "height": 35
        },
        "id": "a5AfKy6ShSyq",
        "outputId": "544743c0-89cf-4d78-9f3c-51b2629d5cfd"
      },
      "execution_count": 5,
      "outputs": [
        {
          "output_type": "execute_result",
          "data": {
            "text/plain": [
              "'0o37'"
            ],
            "application/vnd.google.colaboratory.intrinsic+json": {
              "type": "string"
            }
          },
          "metadata": {},
          "execution_count": 5
        }
      ]
    },
    {
      "cell_type": "code",
      "source": [
        "hex(31) # 16진법 변환 헥사"
      ],
      "metadata": {
        "colab": {
          "base_uri": "https://localhost:8080/",
          "height": 35
        },
        "id": "yCZbvN53hWf-",
        "outputId": "058ae231-fcac-4d6d-cfd1-a1589cc1b0c5"
      },
      "execution_count": 6,
      "outputs": [
        {
          "output_type": "execute_result",
          "data": {
            "text/plain": [
              "'0x1f'"
            ],
            "application/vnd.google.colaboratory.intrinsic+json": {
              "type": "string"
            }
          },
          "metadata": {},
          "execution_count": 6
        }
      ]
    },
    {
      "cell_type": "code",
      "source": [
        "int('0b11111', 2)"
      ],
      "metadata": {
        "colab": {
          "base_uri": "https://localhost:8080/"
        },
        "id": "Pppq2yChhYRR",
        "outputId": "eafbf82b-a41c-4e19-c4de-4e1fe4415ae9"
      },
      "execution_count": 8,
      "outputs": [
        {
          "output_type": "execute_result",
          "data": {
            "text/plain": [
              "31"
            ]
          },
          "metadata": {},
          "execution_count": 8
        }
      ]
    },
    {
      "cell_type": "code",
      "source": [
        "int('11111', 2)"
      ],
      "metadata": {
        "colab": {
          "base_uri": "https://localhost:8080/"
        },
        "id": "MrWowTSChy1u",
        "outputId": "44d3a3d1-8a95-413f-fa34-4a6368b3765f"
      },
      "execution_count": 9,
      "outputs": [
        {
          "output_type": "execute_result",
          "data": {
            "text/plain": [
              "31"
            ]
          },
          "metadata": {},
          "execution_count": 9
        }
      ]
    },
    {
      "cell_type": "markdown",
      "source": [
        "#f-string 문법"
      ],
      "metadata": {
        "id": "voiEmrUdjct4"
      }
    },
    {
      "cell_type": "code",
      "source": [
        "# print에 들어가는 문자열 만들기\n",
        "\n",
        "'제 이름은 %s이고 제 나이는 %d 입니다.'%('이호준', 10) # % 용법"
      ],
      "metadata": {
        "colab": {
          "base_uri": "https://localhost:8080/",
          "height": 35
        },
        "id": "jCRJmVxRiJxM",
        "outputId": "336990c4-ddb2-47c5-a9c7-bcc2b0affdd0"
      },
      "execution_count": 10,
      "outputs": [
        {
          "output_type": "execute_result",
          "data": {
            "text/plain": [
              "'제 이름은 이호준이고 제 나이는 10 입니다.'"
            ],
            "application/vnd.google.colaboratory.intrinsic+json": {
              "type": "string"
            }
          },
          "metadata": {},
          "execution_count": 10
        }
      ]
    },
    {
      "cell_type": "code",
      "source": [
        "'제 이름은 {}이고 제 나이는 {} 입니다.'.format('이호준', 10) # format 용법(이 문법도 아직 사용함)"
      ],
      "metadata": {
        "colab": {
          "base_uri": "https://localhost:8080/",
          "height": 35
        },
        "id": "YDG8Yl61ihAx",
        "outputId": "43c57434-647a-43e9-c64e-efe5cb613914"
      },
      "execution_count": 11,
      "outputs": [
        {
          "output_type": "execute_result",
          "data": {
            "text/plain": [
              "'제 이름은 이호준이고 제 나이는 10 입니다.'"
            ],
            "application/vnd.google.colaboratory.intrinsic+json": {
              "type": "string"
            }
          },
          "metadata": {},
          "execution_count": 11
        }
      ]
    },
    {
      "cell_type": "code",
      "source": [
        "f'제 이름은 {name}이고 제 나이는 {age} 입니다.' # f-string 용법(1st 권고)"
      ],
      "metadata": {
        "id": "-7dYm6HIiw6F"
      },
      "execution_count": null,
      "outputs": []
    },
    {
      "cell_type": "code",
      "source": [
        "삼 = '짝'*3\n",
        "칠 = '짝'*7\n",
        "\n",
        "print('삼삼칠 박수 :  {0}!!! {0}!!! {1}!!! '.format(삼, 칠))"
      ],
      "metadata": {
        "colab": {
          "base_uri": "https://localhost:8080/"
        },
        "id": "HnXsPUyejYqg",
        "outputId": "52c4ca2e-65a7-4905-f600-6d0f0157487d"
      },
      "execution_count": 12,
      "outputs": [
        {
          "output_type": "stream",
          "name": "stdout",
          "text": [
            "삼삼칠 박수 :  짝짝짝!!! 짝짝짝!!! 짝짝짝짝짝짝짝!!! \n"
          ]
        }
      ]
    },
    {
      "cell_type": "code",
      "source": [
        "삼 = '짝'*3\n",
        "칠 = '짝'*7\n",
        "\n",
        "print(f'삼삼칠 박수 :  {삼}!!! {삼}!!! {칠}!!! ')"
      ],
      "metadata": {
        "colab": {
          "base_uri": "https://localhost:8080/"
        },
        "id": "pjIR1C9NjlKP",
        "outputId": "279e831e-e5f1-407b-ada4-1518dc6699fc"
      },
      "execution_count": 13,
      "outputs": [
        {
          "output_type": "stream",
          "name": "stdout",
          "text": [
            "삼삼칠 박수 :  짝짝짝!!! 짝짝짝!!! 짝짝짝짝짝짝짝!!! \n"
          ]
        }
      ]
    },
    {
      "cell_type": "code",
      "source": [
        "삼 = '짝'*3\n",
        "칠 = '짝'*7\n",
        "\n",
        "print(f'삼삼칠 박수 :  {삼*2}!!! {삼}!!! {칠}!!! ') # {}안에서 연산하는 것은 가독성을 해칠 우려가 있습니다."
      ],
      "metadata": {
        "colab": {
          "base_uri": "https://localhost:8080/"
        },
        "id": "8qDxSSc0krL4",
        "outputId": "2da70b9d-b46e-4be7-a9fc-48310fb15093"
      },
      "execution_count": 14,
      "outputs": [
        {
          "output_type": "stream",
          "name": "stdout",
          "text": [
            "삼삼칠 박수 :  짝짝짝짝짝짝!!! 짝짝짝!!! 짝짝짝짝짝짝짝!!! \n"
          ]
        }
      ]
    },
    {
      "cell_type": "code",
      "source": [
        "one_length = 5.343123123\n",
        "\n",
        "print(f'{one_length} 입니다.')\n",
        "print(f'{one_length:.1f} 입니다.')\n",
        "print('{0:.2f}'.format(one_length))\n",
        "print('{:.2f}'.format(one_length))"
      ],
      "metadata": {
        "id": "-0tLe9yRkWwY"
      },
      "execution_count": null,
      "outputs": []
    },
    {
      "cell_type": "code",
      "source": [
        "# log 출력할 때 가운데 정렬은 많이 사용합니다.\n",
        "age = 100\n",
        "print('당신의 나이는 [{:^15}]세'.format(22))\n",
        "print(f'당신의 나이는 [{age:^15}]세') # 가운데 정렬만 외우고 있으면됨\n",
        "print(f'당신의 나이는 [{age:<15}]세')\n",
        "print(f'당신의 나이는 [{age:>15}]세')\n",
        "print(f'당신의 나이는 [{age:=^15}]세')\n",
        "print(f'당신의 나이는 [{age:#^15}]세')\n",
        "print(f'###########{age}###########')\n",
        "# 이런식으로 하셔도 되니 부담되시면 잠시 우선순위는 뒤로 밀어두셔도 괜찮습니다."
      ],
      "metadata": {
        "colab": {
          "base_uri": "https://localhost:8080/"
        },
        "id": "C3Cm_yO8k2Ao",
        "outputId": "14e6a832-605c-481b-b2bc-e5c8cfb30078"
      },
      "execution_count": 24,
      "outputs": [
        {
          "output_type": "stream",
          "name": "stdout",
          "text": [
            "당신의 나이는 [      22       ]세\n",
            "당신의 나이는 [      100      ]세\n",
            "당신의 나이는 [100            ]세\n",
            "당신의 나이는 [            100]세\n",
            "당신의 나이는 [======100======]세\n",
            "당신의 나이는 [######100######]세\n",
            "###########100###########\n"
          ]
        }
      ]
    },
    {
      "cell_type": "code",
      "source": [
        "age = 10\n",
        "\n",
        "print(f\"My set is {age*2}.\")  # 출력: My set is {1, 2, 3}.\n",
        "print(f\"My set is {{age*2}}.\")  # 중괄호도 표현하고 싶을때 중괄호를 두번 겹쳐 쓴다.\n",
        "print(f\"My set is {{{age*2}}}.\")  # 중괄호도 표현하고 연산도 하고 싶을떄 괄호를 한번더 써준다."
      ],
      "metadata": {
        "colab": {
          "base_uri": "https://localhost:8080/"
        },
        "id": "Ql2cHvkRlhXk",
        "outputId": "a9a2e50c-cf4d-49ea-eb11-70d4f4233499"
      },
      "execution_count": 21,
      "outputs": [
        {
          "output_type": "stream",
          "name": "stdout",
          "text": [
            "My set is 20.\n",
            "My set is {age*2}.\n",
            "My set is {20}.\n"
          ]
        }
      ]
    },
    {
      "cell_type": "code",
      "source": [
        "l = []\n",
        "for i in range(2, 10):\n",
        "    for j in range(1, 10):\n",
        "        l.append(f'{i} X {j} = {i*j}')\n",
        "\n",
        "l"
      ],
      "metadata": {
        "colab": {
          "base_uri": "https://localhost:8080/"
        },
        "id": "bR5a-JG5m1rU",
        "outputId": "6b9fab02-3597-4880-97fb-1c2c7c994d59"
      },
      "execution_count": 23,
      "outputs": [
        {
          "output_type": "execute_result",
          "data": {
            "text/plain": [
              "['2 X 1 = 2',\n",
              " '2 X 2 = 4',\n",
              " '2 X 3 = 6',\n",
              " '2 X 4 = 8',\n",
              " '2 X 5 = 10',\n",
              " '2 X 6 = 12',\n",
              " '2 X 7 = 14',\n",
              " '2 X 8 = 16',\n",
              " '2 X 9 = 18',\n",
              " '3 X 1 = 3',\n",
              " '3 X 2 = 6',\n",
              " '3 X 3 = 9',\n",
              " '3 X 4 = 12',\n",
              " '3 X 5 = 15',\n",
              " '3 X 6 = 18',\n",
              " '3 X 7 = 21',\n",
              " '3 X 8 = 24',\n",
              " '3 X 9 = 27',\n",
              " '4 X 1 = 4',\n",
              " '4 X 2 = 8',\n",
              " '4 X 3 = 12',\n",
              " '4 X 4 = 16',\n",
              " '4 X 5 = 20',\n",
              " '4 X 6 = 24',\n",
              " '4 X 7 = 28',\n",
              " '4 X 8 = 32',\n",
              " '4 X 9 = 36',\n",
              " '5 X 1 = 5',\n",
              " '5 X 2 = 10',\n",
              " '5 X 3 = 15',\n",
              " '5 X 4 = 20',\n",
              " '5 X 5 = 25',\n",
              " '5 X 6 = 30',\n",
              " '5 X 7 = 35',\n",
              " '5 X 8 = 40',\n",
              " '5 X 9 = 45',\n",
              " '6 X 1 = 6',\n",
              " '6 X 2 = 12',\n",
              " '6 X 3 = 18',\n",
              " '6 X 4 = 24',\n",
              " '6 X 5 = 30',\n",
              " '6 X 6 = 36',\n",
              " '6 X 7 = 42',\n",
              " '6 X 8 = 48',\n",
              " '6 X 9 = 54',\n",
              " '7 X 1 = 7',\n",
              " '7 X 2 = 14',\n",
              " '7 X 3 = 21',\n",
              " '7 X 4 = 28',\n",
              " '7 X 5 = 35',\n",
              " '7 X 6 = 42',\n",
              " '7 X 7 = 49',\n",
              " '7 X 8 = 56',\n",
              " '7 X 9 = 63',\n",
              " '8 X 1 = 8',\n",
              " '8 X 2 = 16',\n",
              " '8 X 3 = 24',\n",
              " '8 X 4 = 32',\n",
              " '8 X 5 = 40',\n",
              " '8 X 6 = 48',\n",
              " '8 X 7 = 56',\n",
              " '8 X 8 = 64',\n",
              " '8 X 9 = 72',\n",
              " '9 X 1 = 9',\n",
              " '9 X 2 = 18',\n",
              " '9 X 3 = 27',\n",
              " '9 X 4 = 36',\n",
              " '9 X 5 = 45',\n",
              " '9 X 6 = 54',\n",
              " '9 X 7 = 63',\n",
              " '9 X 8 = 72',\n",
              " '9 X 9 = 81']"
            ]
          },
          "metadata": {},
          "execution_count": 23
        }
      ]
    },
    {
      "cell_type": "code",
      "source": [
        "[f'{i} X {j} = {i*j}' for i in range(2, 10) for j in range(1, 10)]"
      ],
      "metadata": {
        "colab": {
          "base_uri": "https://localhost:8080/"
        },
        "id": "iG15Q9_km03S",
        "outputId": "93816968-3370-4c2d-afb1-74fe5bd66505"
      },
      "execution_count": 22,
      "outputs": [
        {
          "output_type": "execute_result",
          "data": {
            "text/plain": [
              "['2 X 1 = 2',\n",
              " '2 X 2 = 4',\n",
              " '2 X 3 = 6',\n",
              " '2 X 4 = 8',\n",
              " '2 X 5 = 10',\n",
              " '2 X 6 = 12',\n",
              " '2 X 7 = 14',\n",
              " '2 X 8 = 16',\n",
              " '2 X 9 = 18',\n",
              " '3 X 1 = 3',\n",
              " '3 X 2 = 6',\n",
              " '3 X 3 = 9',\n",
              " '3 X 4 = 12',\n",
              " '3 X 5 = 15',\n",
              " '3 X 6 = 18',\n",
              " '3 X 7 = 21',\n",
              " '3 X 8 = 24',\n",
              " '3 X 9 = 27',\n",
              " '4 X 1 = 4',\n",
              " '4 X 2 = 8',\n",
              " '4 X 3 = 12',\n",
              " '4 X 4 = 16',\n",
              " '4 X 5 = 20',\n",
              " '4 X 6 = 24',\n",
              " '4 X 7 = 28',\n",
              " '4 X 8 = 32',\n",
              " '4 X 9 = 36',\n",
              " '5 X 1 = 5',\n",
              " '5 X 2 = 10',\n",
              " '5 X 3 = 15',\n",
              " '5 X 4 = 20',\n",
              " '5 X 5 = 25',\n",
              " '5 X 6 = 30',\n",
              " '5 X 7 = 35',\n",
              " '5 X 8 = 40',\n",
              " '5 X 9 = 45',\n",
              " '6 X 1 = 6',\n",
              " '6 X 2 = 12',\n",
              " '6 X 3 = 18',\n",
              " '6 X 4 = 24',\n",
              " '6 X 5 = 30',\n",
              " '6 X 6 = 36',\n",
              " '6 X 7 = 42',\n",
              " '6 X 8 = 48',\n",
              " '6 X 9 = 54',\n",
              " '7 X 1 = 7',\n",
              " '7 X 2 = 14',\n",
              " '7 X 3 = 21',\n",
              " '7 X 4 = 28',\n",
              " '7 X 5 = 35',\n",
              " '7 X 6 = 42',\n",
              " '7 X 7 = 49',\n",
              " '7 X 8 = 56',\n",
              " '7 X 9 = 63',\n",
              " '8 X 1 = 8',\n",
              " '8 X 2 = 16',\n",
              " '8 X 3 = 24',\n",
              " '8 X 4 = 32',\n",
              " '8 X 5 = 40',\n",
              " '8 X 6 = 48',\n",
              " '8 X 7 = 56',\n",
              " '8 X 8 = 64',\n",
              " '8 X 9 = 72',\n",
              " '9 X 1 = 9',\n",
              " '9 X 2 = 18',\n",
              " '9 X 3 = 27',\n",
              " '9 X 4 = 36',\n",
              " '9 X 5 = 45',\n",
              " '9 X 6 = 54',\n",
              " '9 X 7 = 63',\n",
              " '9 X 8 = 72',\n",
              " '9 X 9 = 81']"
            ]
          },
          "metadata": {},
          "execution_count": 22
        }
      ]
    },
    {
      "cell_type": "code",
      "source": [
        "!pip install nest_asyncio"
      ],
      "metadata": {
        "colab": {
          "base_uri": "https://localhost:8080/"
        },
        "id": "5jzVOrxmoquU",
        "outputId": "f52e8609-1bee-495b-8fc0-15f8d9386bb2"
      },
      "execution_count": 25,
      "outputs": [
        {
          "output_type": "stream",
          "name": "stdout",
          "text": [
            "Requirement already satisfied: nest_asyncio in /usr/local/lib/python3.10/dist-packages (1.5.8)\n"
          ]
        }
      ]
    },
    {
      "cell_type": "code",
      "source": [
        "import nest_asyncio\n",
        "\n",
        "nest_asyncio.apply()"
      ],
      "metadata": {
        "id": "V33AXxsJos0i"
      },
      "execution_count": 26,
      "outputs": []
    },
    {
      "cell_type": "code",
      "source": [
        "import time\n",
        "\n",
        "def job(number):\n",
        "    print(f\"Job {number} started\")\n",
        "    time.sleep(1)  # 매우 오래 걸리는 작업, 일반 sleep은 CPU를 쉬게 합니다.\n",
        "    print(f\"Job {number} completed\")\n",
        "\n",
        "job(1)\n",
        "job(2)\n",
        "job(3)"
      ],
      "metadata": {
        "colab": {
          "base_uri": "https://localhost:8080/"
        },
        "id": "Uu3hSZ1IoyPZ",
        "outputId": "2d3284c1-c0ad-452a-89b1-decfbb76e1ba"
      },
      "execution_count": 27,
      "outputs": [
        {
          "output_type": "stream",
          "name": "stdout",
          "text": [
            "Job 1 started\n",
            "Job 1 completed\n",
            "Job 2 started\n",
            "Job 2 completed\n",
            "Job 3 started\n",
            "Job 3 completed\n"
          ]
        }
      ]
    },
    {
      "cell_type": "code",
      "source": [
        "# colab에서 작동하는 코드이나 기본 base 에서는 작동하지 않습니다.\n",
        "\n",
        "import asyncio\n",
        "\n",
        "async def job(number):\n",
        "    print(f\"Job {number} started\")\n",
        "    await asyncio.sleep(1) # 매우 오래 걸리는 작업, asyncio.sleep은 비동기 처리를 할 수 있도록 합니다.(다른 작업이 가능합니다.)\n",
        "    print(f\"Job {number} completed\")\n",
        "\n",
        "async def main():\n",
        "    await asyncio.gather(job(1), job(2), job(3)) # await asyncio.wait([job(1), job(2), job(3)])\n",
        "\n",
        "asyncio.run(main())\n",
        "print('hello world')"
      ],
      "metadata": {
        "colab": {
          "base_uri": "https://localhost:8080/"
        },
        "id": "BMUYM4g0o8Z0",
        "outputId": "28811561-b2d0-4c8a-93f0-28313f27e9ec"
      },
      "execution_count": 28,
      "outputs": [
        {
          "output_type": "stream",
          "name": "stdout",
          "text": [
            "Job 1 started\n",
            "Job 2 started\n",
            "Job 3 started\n",
            "Job 1 completed\n",
            "Job 2 completed\n",
            "Job 3 completed\n",
            "hello world\n"
          ]
        }
      ]
    },
    {
      "cell_type": "code",
      "source": [
        "import asyncio\n",
        "\n",
        "async def job(number):\n",
        "    print(f\"Job {number} started\")\n",
        "    await asyncio.sleep(1)  # 매우 오래 걸리는 작업\n",
        "    print(f\"Job {number} completed\")\n",
        "\n",
        "asyncio.run(job(1))\n",
        "asyncio.run(job(2))\n",
        "asyncio.run(job(3))"
      ],
      "metadata": {
        "colab": {
          "base_uri": "https://localhost:8080/"
        },
        "id": "6FFBQQnEpC90",
        "outputId": "608fc1a7-836b-4801-8ee6-7e59931e40e5"
      },
      "execution_count": 29,
      "outputs": [
        {
          "output_type": "stream",
          "name": "stdout",
          "text": [
            "Job 1 started\n",
            "Job 1 completed\n",
            "Job 2 started\n",
            "Job 2 completed\n",
            "Job 3 started\n",
            "Job 3 completed\n"
          ]
        }
      ]
    },
    {
      "cell_type": "code",
      "source": [],
      "metadata": {
        "id": "3345cLt9pFuF"
      },
      "execution_count": null,
      "outputs": []
    },
    {
      "cell_type": "code",
      "source": [
        "import asyncio\n",
        "\n",
        "async def job(number):\n",
        "    print(f\"Job {number} started\")\n",
        "    await asyncio.sleep(1)  # 매우 오래 걸리는 작업\n",
        "    print(f\"Job {number} completed\")\n",
        "\n",
        "await job(1)\n",
        "await job(2)\n",
        "await job(3)"
      ],
      "metadata": {
        "colab": {
          "base_uri": "https://localhost:8080/"
        },
        "id": "bgZoXt1WpGgm",
        "outputId": "bc74ee70-4f64-42a9-c048-758b8a6553a5"
      },
      "execution_count": 30,
      "outputs": [
        {
          "output_type": "stream",
          "name": "stdout",
          "text": [
            "Job 1 started\n",
            "Job 1 completed\n",
            "Job 2 started\n",
            "Job 2 completed\n",
            "Job 3 started\n",
            "Job 3 completed\n"
          ]
        }
      ]
    },
    {
      "cell_type": "code",
      "source": [
        "import asyncio\n",
        "\n",
        "async def job(number):\n",
        "    print(f\"Job {number} started\")\n",
        "    await asyncio.sleep(1)  # 매우 오래 걸리는 작업\n",
        "    print(f\"Job {number} completed\")\n",
        "\n",
        "async def main():\n",
        "    await job(1)\n",
        "    await job(2)\n",
        "    await job(3)\n",
        "\n",
        "asyncio.run(main())"
      ],
      "metadata": {
        "colab": {
          "base_uri": "https://localhost:8080/"
        },
        "id": "UaDP0eDjpROE",
        "outputId": "51324ff8-f584-441b-ff1d-9f491c1886ba"
      },
      "execution_count": 31,
      "outputs": [
        {
          "output_type": "stream",
          "name": "stdout",
          "text": [
            "Job 1 started\n",
            "Job 1 completed\n",
            "Job 2 started\n",
            "Job 2 completed\n",
            "Job 3 started\n",
            "Job 3 completed\n"
          ]
        }
      ]
    },
    {
      "cell_type": "code",
      "source": [
        "async def job():\n",
        "    print('job')\n",
        "\n",
        "print(job) # <function job at 0x7fc8cb38ef80>\n",
        "job() # <coroutine object job at 0x7fc8cb32bc30>, print('job')이 실행되진 않습니다!"
      ],
      "metadata": {
        "id": "J7Z99Z1GsMmg"
      },
      "execution_count": null,
      "outputs": []
    },
    {
      "cell_type": "code",
      "source": [
        "async def job():\n",
        "    print('job')\n",
        "\n",
        "async def main():\n",
        "    return await job()\n",
        "\n",
        "print(main) # <coroutine object main at 0x7fc8cb22bf40>\n",
        "print(await main()) # None"
      ],
      "metadata": {
        "id": "-KZvGQ9tsOJh"
      },
      "execution_count": null,
      "outputs": []
    },
    {
      "cell_type": "markdown",
      "source": [
        "#정규표현식"
      ],
      "metadata": {
        "id": "yixjCM-990lx"
      }
    },
    {
      "cell_type": "code",
      "source": [
        "# 별 2개 + @\n",
        "# 유효성 검증(validator), 문자열 처리, 코딩 테스트(1문제 필수)\n",
        "# 다른 언어에서도 사용할 수 있습니다."
      ],
      "metadata": {
        "id": "8aoyTT6P94YL"
      },
      "execution_count": null,
      "outputs": []
    },
    {
      "cell_type": "code",
      "source": [
        "# https://regexr.com/5nvc2\n",
        "# 1번 일반 문자열 패턴\n",
        "# hello world\n",
        "# Hello\n",
        "# ^hello\n",
        "# hello$\n",
        "# ^hello$\n",
        "# .\n",
        "# .....\n",
        "# h[eao]llo\n",
        "# .[eao]llo\n",
        "# ^h[eao]llo$\n",
        "# h[a-zA-Z0-9]llo\n",
        "# h[a-zA-Z]llo\n",
        "# 010-[0-9][0-9][0-9][0-9]-[0-9][0-9][0-9][0-9]\n",
        "# 010.[0-9][0-9][0-9][0-9].[0-9][0-9][0-9][0-9]\n",
        "# 010[- .][0-9][0-9][0-9][0-9][- .][0-9][0-9][0-9][0-9]\n",
        "# [^a-zA-Z0-9]: 나머지 문자열을 찾음 # ^는 대괄호 안에서는 '부정'\n",
        "# _* : 앞에 있는 문자가 0개 ~ N개\n",
        "# _+ : 앞에 있는 문자가 1개 ~ N개\n",
        "# _? : 앞에 있는 문자가 0개 ~ 1개\n",
        "# 010[- .]?[0-9][0-9][0-9][0-9][- .]?[0-9][0-9][0-9][0-9]\n",
        "\n",
        "# {3} : 3개\n",
        "# {3,} : 3개 이상\n",
        "# {1,3} : 1개 ~ 3개\n",
        "# 010[- .]?[0-9]{4}[- .]?[0-9]{4}\n",
        "\n",
        "# _* : 앞에 있는 문자가 0개 ~ N개 ({0,})\n",
        "# _+ : 앞에 있는 문자가 1개 ~ N개({1,})\n",
        "# _? : 앞에 있는 문자가 0개 ~ 1개 ({0,1})\n",
        "\n",
        "# /[0-9]{3}[-.* ][0-9]{4}[-.* ][0-9]{4}/gm\n",
        "\n",
        "# 전화번호\n",
        "# /[0-9a-zA-Z]{2,3}[-.* ][0-9]{3,4}[-.* ][0-9]{4}/gm\n",
        "# /[0-9]{2,3}[-.* ][0-9]{3,4}[-.* ][0-9]{4}/gm\n",
        "\n",
        "# 이메일\n",
        "# /[0-9a-zA-Z]+@[0-9a-zA-Z]+.[a-zA-Z]+/gm\n",
        "# ^[a-zA-Z0-9+-_.]+@[a-zA-Z0-9-]+\\.[a-zA-Z0-9-.]+$\n",
        "# .....@----....\n",
        "\n",
        "\n",
        "# /\\w/gm : 워드 # 많이 사용\n",
        "# /\\w{5} /gm : 5개의 글자와 스페이스 하나\n",
        "# /\\W/gm : not 워드 # 많이 사용\n",
        "# /\\d/gm : 숫자 # 많이 사용\n",
        "# /\\D/gm : not 숫자\n",
        "# /\\s/gm : 스페이스\n",
        "# /\\S/gm : not 스페이스\n",
        "\n",
        "# ^\\d{3}[- .]?\\d{3,4}[- .]?\\d{4}$\n",
        "\n",
        "# /\\[.*]/gm : 대괄호([]) 안에 감싸여진 문자열\n",
        "# /\\(.*\\)/gm : 소괄호 안에 감싸여진 문자열\n",
        "# /\\\\.*\\//gm : 이미 사용되고 있는 특수문자로 감싸여진 문자열\n",
        "# /-.*-/gm : 이스케이프 문자를 사용할 필요가 없는 경우\n",
        "# /\\^\\^/gm : 이스케이프 문자가 필요한 경우\n",
        "# /:\\)/gm : 이스케이프 문자가 필요한 경우\n",
        "\n",
        "# \\[.*] : 에스터리스크는 0개에서 n\n",
        "# \\[.*\\], \\[.*\\]"
      ],
      "metadata": {
        "id": "YKFf5DB9GKc6"
      },
      "execution_count": null,
      "outputs": []
    },
    {
      "cell_type": "code",
      "source": [
        "# 사용되는 패턴\n",
        "# 1\n",
        "p = re.compile(r'([0-9]|10)([SDT])([\\*\\#]?)')\n",
        "p.findall('1S2D*3T')\n",
        "\n",
        "# 2\n",
        "re.findall(r'([0-9]|10)([SDT])([\\*\\#]?)', '1S2D*3T')\n",
        "compile() : 패턴 컴파일\n",
        "match() : 문자열의 앞 부분이 매치되는가를 체크, 추출\n",
        "sub() : 매치된 부분을 치환 (str에 replace와 같은 역활)\n",
        "search() : 선두에 한해서 매치하는지를 체크, 추출\n",
        "findall() : 매치된 부분 모두 리스트 반환\n",
        "finditer() : 정규식과 매치되는 모든 문자열(substring)을 반복 가능한 객체로 리턴한다.\n",
        "spilt() : 정규표현 패턴으로 문자열을 분할 (str에 split과 같은 역활)"
      ],
      "metadata": {
        "id": "f73NV4KrHxXj"
      },
      "execution_count": null,
      "outputs": []
    },
    {
      "cell_type": "code",
      "source": [
        "# 사용되는 패턴\n",
        "# 1\n",
        "p = re.compile(r'([0-9]|10)([SDT])([\\*\\#]?)')\n",
        "p.findall('1S2D*3T')\n",
        "\n",
        "# 2\n",
        "re.findall(r'([0-9]|10)([SDT])([\\*\\#]?)', '1S2D*3T')\n",
        "\n",
        "# 자주 사용하는 메서드\n",
        "sub() : 매치된 부분을 치환 (str에 replace와 같은 역활) # 가장 많이 사용.\n",
        "findall() : 매치된 부분 모두 리스트 반환"
      ],
      "metadata": {
        "id": "OVUWl0TMK3sc"
      },
      "execution_count": null,
      "outputs": []
    },
    {
      "cell_type": "code",
      "source": [
        "# 1S // 2D* // 3T\n",
        "# 스타상, 아차상은 빼고 진행\n",
        "\n",
        "l = []\n",
        "for i in '1S2D*3T':\n",
        "    if i.isdigit():\n",
        "        l.append(int(i))\n",
        "    elif i == 'S':\n",
        "        l[-1] = l[-1] ** 1\n",
        "    elif i == 'D':\n",
        "        l[-1] = l[-1] ** 2\n",
        "    elif i == 'T':\n",
        "        l[-1] = l[-1] ** 3\n",
        "sum(l)"
      ],
      "metadata": {
        "id": "kn15Upr8OmZU"
      },
      "execution_count": null,
      "outputs": []
    },
    {
      "cell_type": "code",
      "source": [
        "# 1S // 2D* // 3T\n",
        "# 스타상, 아차상은 빼고 진행\n",
        "\n",
        "l = []\n",
        "for i in '1S2D*10T':\n",
        "    if i.isdigit():\n",
        "        l.append(int(i))\n",
        "    elif i == 'S':\n",
        "        l[-1] = l[-1] ** 1\n",
        "    elif i == 'D':\n",
        "        l[-1] = l[-1] ** 2\n",
        "    elif i == 'T':\n",
        "        l[-1] = l[-1] ** 3\n",
        "l"
      ],
      "metadata": {
        "id": "tiI2oFvcOogF"
      },
      "execution_count": null,
      "outputs": []
    },
    {
      "cell_type": "code",
      "source": [
        "import re\n",
        "\n",
        "list(re.findall(r'([0-9]|10)([SDT])([\\*\\#]?)', '1S2D*3T'))\n",
        "list(re.findall(r'([0-9]|10)([SDT])([\\*\\#]?)', '1S10D*10T'))"
      ],
      "metadata": {
        "colab": {
          "base_uri": "https://localhost:8080/"
        },
        "id": "4z_A-Dp3Op4z",
        "outputId": "02f0802e-c410-4c94-cc27-806ea399f026"
      },
      "execution_count": 32,
      "outputs": [
        {
          "output_type": "execute_result",
          "data": {
            "text/plain": [
              "[('1', 'S', ''), ('10', 'D', '*'), ('10', 'T', '')]"
            ]
          },
          "metadata": {},
          "execution_count": 32
        }
      ]
    },
    {
      "cell_type": "code",
      "source": [
        "d = {\n",
        "    'S':1,\n",
        "    'D':2,\n",
        "    'T':3\n",
        "}\n",
        "for 점수, 승수, 상 in re.findall(r'([0-9]|10)([SDT])([\\*\\#]?)', '1S2D*10T'):\n",
        "    print(int(점수) ** d[승수])"
      ],
      "metadata": {
        "colab": {
          "base_uri": "https://localhost:8080/"
        },
        "id": "8-skdkc5Oq_l",
        "outputId": "acbf8122-09ee-4628-c626-6722c5768be0"
      },
      "execution_count": 33,
      "outputs": [
        {
          "output_type": "stream",
          "name": "stdout",
          "text": [
            "1\n",
            "4\n",
            "1000\n"
          ]
        }
      ]
    },
    {
      "cell_type": "code",
      "source": [
        "# https://pyalgo.co.kr/?page=2#\n",
        "\n",
        "re.findall(r'([rev])(10|[0-9])', 'a10b9r1ce33uab8wc918v2cv11v9')"
      ],
      "metadata": {
        "colab": {
          "base_uri": "https://localhost:8080/"
        },
        "id": "2zoa6QoYOr8U",
        "outputId": "757ba571-1fd7-4e53-97dc-d1c19a792f37"
      },
      "execution_count": 35,
      "outputs": [
        {
          "output_type": "execute_result",
          "data": {
            "text/plain": [
              "[('r', '1'), ('e', '3'), ('v', '2'), ('v', '1'), ('v', '9')]"
            ]
          },
          "metadata": {},
          "execution_count": 35
        }
      ]
    },
    {
      "cell_type": "markdown",
      "source": [
        "## sub"
      ],
      "metadata": {
        "id": "dqqEzIcWQLOw"
      }
    },
    {
      "cell_type": "code",
      "source": [
        "# https://school.programmers.co.kr/learn/courses/30/lessons/120849"
      ],
      "metadata": {
        "id": "K18XYOxFQN3O"
      },
      "execution_count": 36,
      "outputs": []
    },
    {
      "cell_type": "code",
      "source": [
        "\"nice to meet you\".replace('a', '').replace('e', '').replace('i', '').replace('o', '').replace('u', '')"
      ],
      "metadata": {
        "colab": {
          "base_uri": "https://localhost:8080/",
          "height": 35
        },
        "id": "j8VKOj96QTvP",
        "outputId": "d3e5f7fe-a237-4db4-9da5-b962adaf1061"
      },
      "execution_count": 37,
      "outputs": [
        {
          "output_type": "execute_result",
          "data": {
            "text/plain": [
              "'nc t mt y'"
            ],
            "application/vnd.google.colaboratory.intrinsic+json": {
              "type": "string"
            }
          },
          "metadata": {},
          "execution_count": 37
        }
      ]
    },
    {
      "cell_type": "code",
      "source": [
        "# 복습 X\n",
        "# dir(\"nice to meet you\")\n",
        "s = \"nice to meet you\"\n",
        "ch = s.maketrans(\"aeiou\", \"!!!!!\")\n",
        "\n",
        "print(s.translate(ch))"
      ],
      "metadata": {
        "colab": {
          "base_uri": "https://localhost:8080/"
        },
        "id": "ByP1oXo0QUMD",
        "outputId": "6c1f30cc-974e-4844-8826-4122ecb8866a"
      },
      "execution_count": 38,
      "outputs": [
        {
          "output_type": "stream",
          "name": "stdout",
          "text": [
            "n!c! t! m!!t y!!\n"
          ]
        }
      ]
    },
    {
      "cell_type": "code",
      "source": [
        "def solution(my_string):\n",
        "    return my_string.replace('a', '').replace('e', '').replace('i', '').replace('o', '').replace('u', '')\n",
        "\n",
        "def solution(my_string):\n",
        "    string = 'aeiou'\n",
        "    for i in string:\n",
        "        my_string = my_string.replace(i, '')\n",
        "    return my_string"
      ],
      "metadata": {
        "id": "HJpr_HdvRCSj"
      },
      "execution_count": 39,
      "outputs": []
    },
    {
      "cell_type": "code",
      "source": [
        "# 문제: 아래 문자열에서 모든 문자를 제거하고 숫자만 모두 더해주세요.\n",
        "'hello1928ljwlie123slie21e1j3'"
      ],
      "metadata": {
        "id": "DTXTWfctReOU"
      },
      "execution_count": null,
      "outputs": []
    },
    {
      "cell_type": "code",
      "source": [
        "import re\n",
        "\n",
        "def solution(my_string):\n",
        "    return re.sub(r\"[a-zA-Z]\", \"\", my_string)\n",
        "\n",
        "solution('hello1928ljwlie123slie21e1j3')"
      ],
      "metadata": {
        "colab": {
          "base_uri": "https://localhost:8080/",
          "height": 35
        },
        "id": "XHcs964wRCzP",
        "outputId": "50ab3fa0-f88d-4aa2-cf2a-1e63c4e93c82"
      },
      "execution_count": 41,
      "outputs": [
        {
          "output_type": "execute_result",
          "data": {
            "text/plain": [
              "'19281232113'"
            ],
            "application/vnd.google.colaboratory.intrinsic+json": {
              "type": "string"
            }
          },
          "metadata": {},
          "execution_count": 41
        }
      ]
    },
    {
      "cell_type": "code",
      "source": [
        "# 복습 X\n",
        "import re\n",
        "\n",
        "\n",
        "def solution(my_string):\n",
        "    return sum(map(int, list(re.sub(r\"[a-zA-Z]\", \"\", my_string))))\n",
        "\n",
        "solution('hello1928ljwlie123slie21e1j3')"
      ],
      "metadata": {
        "id": "97jB8ohkShDk"
      },
      "execution_count": null,
      "outputs": []
    },
    {
      "cell_type": "code",
      "source": [
        "list(re.findall(r'[0-9]', 'hello1928ljwlie123slie21e1j3'))\n",
        "list(re.findall(r'[0-9]+', 'hello1928ljwlie123slie21e1j3'))"
      ],
      "metadata": {
        "colab": {
          "base_uri": "https://localhost:8080/"
        },
        "id": "tF9FzP_vSiiu",
        "outputId": "d6c52650-19de-4813-9c91-e57036d9ef14"
      },
      "execution_count": 42,
      "outputs": [
        {
          "output_type": "execute_result",
          "data": {
            "text/plain": [
              "['1928', '123', '21', '1', '3']"
            ]
          },
          "metadata": {},
          "execution_count": 42
        }
      ]
    },
    {
      "cell_type": "code",
      "source": [
        "import re\n",
        "\n",
        "def solution(my_string):\n",
        "    return re.sub(r\"[a-zA-Z]\", \"\", my_string)\n",
        "\n",
        "solution('hello1928ljwlie123slie21e1j3')"
      ],
      "metadata": {
        "id": "7MGfHgXVRe_4"
      },
      "execution_count": null,
      "outputs": []
    },
    {
      "cell_type": "code",
      "source": [
        "import re\n",
        "\n",
        "my_string = \"aAb1B2cC34oOp\"\n",
        "re.sub('[^1-9]', '', my_string)"
      ],
      "metadata": {
        "id": "CWl1vlFbUMBN"
      },
      "execution_count": null,
      "outputs": []
    },
    {
      "cell_type": "code",
      "source": [
        "import re\n",
        "\n",
        "my_string = \"aAb1B2cC34oOp\"\n",
        "re.sub('\\d', '', my_string)"
      ],
      "metadata": {
        "colab": {
          "base_uri": "https://localhost:8080/",
          "height": 35
        },
        "id": "gfEs-GivUNIs",
        "outputId": "83223464-0070-4408-90e8-742e54d1d7af"
      },
      "execution_count": 43,
      "outputs": [
        {
          "output_type": "execute_result",
          "data": {
            "text/plain": [
              "'aAbBcCoOp'"
            ],
            "application/vnd.google.colaboratory.intrinsic+json": {
              "type": "string"
            }
          },
          "metadata": {},
          "execution_count": 43
        }
      ]
    },
    {
      "cell_type": "code",
      "source": [
        "# 복습 X\n",
        "import re\n",
        "\n",
        "print(re.sub(r'([0-9]{3})-([0-9]{4})-([0-9]{4})', r'\\1!\\2!\\3', '010-5000-3000'))\n",
        "print(re.sub(r'([0-9]{3})-([0-9]{4})-([0-9]{4})', r'\\1/\\2/\\3', '010-5000-3000'))\n",
        "print(re.sub(r'([0-9]{3})-([0-9]{4})-([0-9]{4})', r'[\\1][\\2][\\3]', '010-5000-3000'))\n",
        "print(re.sub(r'([0-9]{3})-([0-9]{4})-([0-9]{4})', r'[\\1]-[\\2]-[\\3]', '010-5000-3000'))\n",
        "print(re.sub(r'([0-9]{3})-([0-9]{4})-([0-9]{4})', r'지역번호: \\1 전화번호: \\2\\3', '010-5000-3000'))"
      ],
      "metadata": {
        "colab": {
          "base_uri": "https://localhost:8080/"
        },
        "id": "XY13Q3aGU_5J",
        "outputId": "58348a1e-1603-45b0-a87e-2da2504b0e09"
      },
      "execution_count": 44,
      "outputs": [
        {
          "output_type": "stream",
          "name": "stdout",
          "text": [
            "010!5000!3000\n",
            "010/5000/3000\n",
            "[010][5000][3000]\n",
            "[010]-[5000]-[3000]\n",
            "지역번호: 010 전화번호: 50003000\n"
          ]
        }
      ]
    },
    {
      "cell_type": "code",
      "source": [
        "# 복습 XXX\n",
        "# 시니어때는 이런 문법을 사용할일이 종종 발생됨.\n",
        "import re\n",
        "\n",
        "print(re.sub(r'(?P<one>[0-9]{3})-(?P<two>[0-9]{4})-(?P<three>[0-9]{4})', r'\\g<one>!!\\g<two>!!\\g<three>', '010-5000-3000'))"
      ],
      "metadata": {
        "id": "p9Ja2xFfYT1V"
      },
      "execution_count": null,
      "outputs": []
    },
    {
      "cell_type": "code",
      "source": [
        "import re\n",
        "\n",
        "text = '''# This is a h1\n",
        "## This is a h2\n",
        "### This is a h3\n",
        "#### This is a h4\n",
        "##### This is a h5\n",
        "###### This is a h6\n",
        "\n",
        "* This is a bulleted list\n",
        "  * This is a nested bulleted list\n",
        "\n",
        "**This is bold text**\n",
        "\n",
        "_This is italic text_\n",
        "\n",
        "~~This text is strikethrough~~\n",
        "'''\n",
        "\n",
        "def markdown_to_html(markdown):\n",
        "    html = re.sub(r'### (.*)', r'\\1', markdown)\n",
        "    html = re.sub(r'## (.*)', r'\\1', html)\n",
        "    html = re.sub(r'# (.*)', r'\\1', html)\n",
        "    html = re.sub(r'`(.*)`', r'\\1', html)\n",
        "    html = re.sub(r'\\*\\*(.*)\\*\\*', r'\\1', html)\n",
        "    html = re.sub(r'_(.*)_', r'\\1', html)\n",
        "    html = re.sub(r'~~(.*)~~', r'\\1', html)\n",
        "    html = re.sub(r'^(>+) (.*)', r'\\1\\2', html)\n",
        "    # html = re.sub(r'^\\* (.*)', r'\\1', html, flags=re.M+re.S)\n",
        "    return html\n",
        "\n",
        "print(markdown_to_html(text))"
      ],
      "metadata": {
        "colab": {
          "base_uri": "https://localhost:8080/"
        },
        "id": "jnwhf7t5YUxZ",
        "outputId": "51bbbca2-364c-4d22-d9ab-daec94cedec7"
      },
      "execution_count": 45,
      "outputs": [
        {
          "output_type": "stream",
          "name": "stdout",
          "text": [
            "This is a h1\n",
            "This is a h2\n",
            "This is a h3\n",
            "#This is a h4\n",
            "##This is a h5\n",
            "###This is a h6\n",
            "\n",
            "* This is a bulleted list\n",
            "  * This is a nested bulleted list\n",
            "\n",
            "This is bold text\n",
            "\n",
            "This is italic text\n",
            "\n",
            "This text is strikethrough\n",
            "\n"
          ]
        }
      ]
    },
    {
      "cell_type": "code",
      "source": [
        "import re\n",
        "\n",
        "text = '''# This is a h1\n",
        "## This is a h2\n",
        "### This is a h3\n",
        "#### This is a h4\n",
        "##### This is a h5\n",
        "###### This is a h6\n",
        "\n",
        "* This is a bulleted list\n",
        "  * This is a nested bulleted list\n",
        "\n",
        "**This is bold text**\n",
        "\n",
        "_This is italic text_\n",
        "\n",
        "~~This text is strikethrough~~\n",
        "'''\n",
        "\n",
        "def markdown_to_html(markdown):\n",
        "    html = re.sub(r'# (.*)', r'<h1>\\1</h1>', markdown)\n",
        "    # html = re.sub(r'## (.*)', r'\\1', html)\n",
        "    # html = re.sub(r'### (.*)', r'\\1', html)\n",
        "    # html = re.sub(r'`(.*)`', r'\\1', html)\n",
        "    # html = re.sub(r'\\*\\*(.*)\\*\\*', r'\\1', html)\n",
        "    # html = re.sub(r'_(.*)_', r'\\1', html)\n",
        "    # html = re.sub(r'~~(.*)~~', r'\\1', html)\n",
        "    # html = re.sub(r'^(>+) (.*)', r'\\1\\2', html)\n",
        "    # html = re.sub(r'^\\* (.*)', r'\\1', html, flags=re.M+re.S)\n",
        "    return html\n",
        "\n",
        "print(markdown_to_html(text))"
      ],
      "metadata": {
        "colab": {
          "base_uri": "https://localhost:8080/"
        },
        "id": "tTh7loiCaKfh",
        "outputId": "1d4d6f3e-2678-4450-eb47-956dc87c0eda"
      },
      "execution_count": 46,
      "outputs": [
        {
          "output_type": "stream",
          "name": "stdout",
          "text": [
            "<h1>This is a h1</h1>\n",
            "#<h1>This is a h2</h1>\n",
            "##<h1>This is a h3</h1>\n",
            "###<h1>This is a h4</h1>\n",
            "####<h1>This is a h5</h1>\n",
            "#####<h1>This is a h6</h1>\n",
            "\n",
            "* This is a bulleted list\n",
            "  * This is a nested bulleted list\n",
            "\n",
            "**This is bold text**\n",
            "\n",
            "_This is italic text_\n",
            "\n",
            "~~This text is strikethrough~~\n",
            "\n"
          ]
        }
      ]
    },
    {
      "cell_type": "code",
      "source": [
        "# 복습 XXX\n",
        "# 시니어 때에는 이런 문법을 사용하실 일이 종종 생깁니다.\n",
        "import re\n",
        "\n",
        "print(re.sub(r'(?P<one>[0-9]{3})-(?P<two>[0-9]{4})-(?P<three>[0-9]{4})', r'\\g<one>!!\\g<two>!!\\g<three>', '010-5000-3000'))"
      ],
      "metadata": {
        "id": "wBmOTKVOe2Ki"
      },
      "execution_count": null,
      "outputs": []
    },
    {
      "cell_type": "code",
      "source": [
        "import re\n",
        "\n",
        "text = '''# This is a h1\n",
        "## This is a h2\n",
        "### This is a h3\n",
        "\n",
        "**This is bold text**\n",
        "'''\n",
        "\n",
        "def markdown_to_html(markdown):\n",
        "    html = re.sub(r'### (.*)', r'<h3>\\1<h3>', markdown)\n",
        "    html = re.sub(r'## (.*)', r'<h2>\\1<h2>', html)\n",
        "    html = re.sub(r'# (.*)', r'<h1>\\1</h1>', html)\n",
        "    html = re.sub(r'\\*\\*(.*)\\*\\*', r'<strong>\\1</strong>', html)\n",
        "    return html\n",
        "\n",
        "print(markdown_to_html(text))"
      ],
      "metadata": {
        "id": "vz3_XGn7e2IE"
      },
      "execution_count": null,
      "outputs": []
    },
    {
      "cell_type": "code",
      "source": [
        "import re\n",
        "\n",
        "text='''# hello1\n",
        "## hello1.1\n",
        "hello world\n",
        "# hello2\n",
        "## hello2.1\n",
        "hello world\n",
        "# hello3\n",
        "## hello3.1\n",
        "hello world\n",
        "'''\n",
        "\n",
        "# p = re.compile('^# (.*)', re.MULTILINE)\n",
        "# text = p.sub(r'\\1', text)\n",
        "text = re.sub(r'^# (.*)', r'\\1', text, flags=re.M)\n",
        "text = re.sub(r'^## (.*)', r'\\1', text, flags=re.M)\n",
        "text"
      ],
      "metadata": {
        "id": "mEhDrH8PfB5c"
      },
      "execution_count": null,
      "outputs": []
    }
  ]
}