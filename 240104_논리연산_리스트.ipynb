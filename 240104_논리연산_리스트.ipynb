{
  "nbformat": 4,
  "nbformat_minor": 0,
  "metadata": {
    "colab": {
      "provenance": [],
      "authorship_tag": "ABX9TyNsRngVxPZd0sYcTNo6h8S7",
      "include_colab_link": true
    },
    "kernelspec": {
      "name": "python3",
      "display_name": "Python 3"
    },
    "language_info": {
      "name": "python"
    }
  },
  "cells": [
    {
      "cell_type": "markdown",
      "metadata": {
        "id": "view-in-github",
        "colab_type": "text"
      },
      "source": [
        "<a href=\"https://colab.research.google.com/github/SungjaeS/orm/blob/main/240104_%EB%85%BC%EB%A6%AC%EC%97%B0%EC%82%B0_%EB%A6%AC%EC%8A%A4%ED%8A%B8.ipynb\" target=\"_parent\"><img src=\"https://colab.research.google.com/assets/colab-badge.svg\" alt=\"Open In Colab\"/></a>"
      ]
    },
    {
      "cell_type": "code",
      "execution_count": 1,
      "metadata": {
        "id": "pRbnyj1k1Mpb"
      },
      "outputs": [],
      "source": [
        "#논리연산 (AND, OR, NOT) 이 있고 값은 True 또는 False로 표현됨"
      ]
    },
    {
      "cell_type": "code",
      "source": [
        "# 활용예시 1\n",
        "\n",
        "num = 15\n",
        "result = num > 10 and num < 20\n",
        "print(result) # 결과: True"
      ],
      "metadata": {
        "colab": {
          "base_uri": "https://localhost:8080/"
        },
        "id": "iIe7terH8jmv",
        "outputId": "3072d725-2ce3-4128-d097-16821719da02"
      },
      "execution_count": 2,
      "outputs": [
        {
          "output_type": "stream",
          "name": "stdout",
          "text": [
            "True\n"
          ]
        }
      ]
    },
    {
      "cell_type": "code",
      "source": [
        "# 활용예시 2\n",
        "\n",
        "\n",
        "for i in range(101): # 0부터 100까지를 반복합니다.\n",
        "    if i % 3 == 0 and i % 5 == 0:\n",
        "        print(i)"
      ],
      "metadata": {
        "colab": {
          "base_uri": "https://localhost:8080/"
        },
        "id": "F7BDufpC8pA0",
        "outputId": "1ff319d0-f6d1-4862-ee46-b692669b697b"
      },
      "execution_count": 3,
      "outputs": [
        {
          "output_type": "stream",
          "name": "stdout",
          "text": [
            "0\n",
            "15\n",
            "30\n",
            "45\n",
            "60\n",
            "75\n",
            "90\n"
          ]
        }
      ]
    },
    {
      "cell_type": "markdown",
      "source": [],
      "metadata": {
        "id": "IynOF20DBcNk"
      }
    },
    {
      "cell_type": "code",
      "source": [
        "# 가장 많이 걸러지는 조건을 맨 앞에 두어야 리소스를 줄일수 있다.\n",
        "\n",
        "def test1():\n",
        "    print(\"test1 함수 호출!\")\n",
        "    return False\n",
        "\n",
        "def test2():\n",
        "    print(\"test2 함수 호출!\")\n",
        "    return True\n",
        "\n",
        "result = test1() and test2()\n",
        "print(result) # 결과: False"
      ],
      "metadata": {
        "colab": {
          "base_uri": "https://localhost:8080/"
        },
        "id": "y6Ubz0gk8zoq",
        "outputId": "4aad5076-31a6-468d-f535-03f31ead06c6"
      },
      "execution_count": 4,
      "outputs": [
        {
          "output_type": "stream",
          "name": "stdout",
          "text": [
            "test1 함수 호출!\n",
            "False\n"
          ]
        }
      ]
    },
    {
      "cell_type": "code",
      "source": [
        "lst = []\n",
        "if lst and lst[0] > 3:\n",
        "    print(\"리스트의 첫 번째 원소는 3보다 큽니다.\")"
      ],
      "metadata": {
        "id": "i4JsWJ3vBCg1"
      },
      "execution_count": 5,
      "outputs": []
    },
    {
      "cell_type": "code",
      "source": [],
      "metadata": {
        "id": "3HzskuMSB14a"
      },
      "execution_count": null,
      "outputs": []
    },
    {
      "cell_type": "markdown",
      "source": [
        "파이썬에서 0 and 1의 결과는 무엇인가요?\n",
        "0\n",
        "1\n",
        "True\n",
        "False"
      ],
      "metadata": {
        "id": "1omxQx4BEIdP"
      }
    },
    {
      "cell_type": "code",
      "source": [
        "0 and 1"
      ],
      "metadata": {
        "colab": {
          "base_uri": "https://localhost:8080/"
        },
        "id": "SnLuDwD4EN0K",
        "outputId": "71e906a3-8e96-49e5-8a6c-9d4d6f791367"
      },
      "execution_count": 7,
      "outputs": [
        {
          "output_type": "execute_result",
          "data": {
            "text/plain": [
              "0"
            ]
          },
          "metadata": {},
          "execution_count": 7
        }
      ]
    },
    {
      "cell_type": "code",
      "source": [
        "bool(0 and 1)"
      ],
      "metadata": {
        "colab": {
          "base_uri": "https://localhost:8080/"
        },
        "id": "1kEzdK5XESR7",
        "outputId": "7bf588cc-5b15-4590-eac5-e28f474e7409"
      },
      "execution_count": 8,
      "outputs": [
        {
          "output_type": "execute_result",
          "data": {
            "text/plain": [
              "False"
            ]
          },
          "metadata": {},
          "execution_count": 8
        }
      ]
    },
    {
      "cell_type": "markdown",
      "source": [
        "# 2. 할당 연산"
      ],
      "metadata": {
        "id": "8PnNio-YETda"
      }
    },
    {
      "cell_type": "code",
      "source": [
        "x = 5\n",
        "y = 2\n",
        "z = 10\n",
        "\n",
        "x1 = y * z # 20 = 2 * 10\n",
        "x2 = x +(y * z) # 25 = 5 + (2*10)\n",
        "x += y * z # y * z 연산 후 x 에 더한 뒤에 할당된다.\n",
        "\n",
        "print(x1)\n",
        "print(x2)\n",
        "print(x)"
      ],
      "metadata": {
        "id": "p11PvdUuEfVJ",
        "colab": {
          "base_uri": "https://localhost:8080/"
        },
        "outputId": "3aff60a0-0b01-49ad-d521-d45b3120c2d7"
      },
      "execution_count": 11,
      "outputs": [
        {
          "output_type": "stream",
          "name": "stdout",
          "text": [
            "20\n",
            "25\n",
            "25\n"
          ]
        }
      ]
    },
    {
      "cell_type": "code",
      "source": [
        "a = 10\n",
        "b = 2\n",
        "a /= b #나눗셈 대입\n",
        "a = a // b\n"
      ],
      "metadata": {
        "id": "E5cXhLJ2EfXl"
      },
      "execution_count": 23,
      "outputs": []
    },
    {
      "cell_type": "code",
      "source": [
        " a = 3\n",
        " a *= 2 + 4\n",
        " print(a)"
      ],
      "metadata": {
        "colab": {
          "base_uri": "https://localhost:8080/"
        },
        "id": "UX7DHVtNGjZu",
        "outputId": "7b1b9c00-fee4-4893-e792-db9abef7df35"
      },
      "execution_count": 18,
      "outputs": [
        {
          "output_type": "stream",
          "name": "stdout",
          "text": [
            "18\n"
          ]
        }
      ]
    },
    {
      "cell_type": "code",
      "source": [
        " a = 3\n",
        " a = 2 + 4 * 3\n",
        " print(a)"
      ],
      "metadata": {
        "colab": {
          "base_uri": "https://localhost:8080/"
        },
        "id": "DEV9RKMXHJ7g",
        "outputId": "fb9a18f0-6cda-45bb-f630-da5cb3f9159c"
      },
      "execution_count": 20,
      "outputs": [
        {
          "output_type": "stream",
          "name": "stdout",
          "text": [
            "14\n"
          ]
        }
      ]
    },
    {
      "cell_type": "code",
      "source": [
        "#식별연산 is 와 is not를 사용하여 두 변수가 같은 주에 있으면 트루 다르면 펄스\n",
        "\n",
        "# 1.동일인 확인\n",
        "\n",
        "\n",
        "coffee_employee = \"Brand\"\n",
        "orange_employee = \"Brand\"\n",
        "\n",
        "print(coffee_employee is orange_employee)\n",
        "print(coffee_employee == orange_employee)"
      ],
      "metadata": {
        "colab": {
          "base_uri": "https://localhost:8080/"
        },
        "id": "YaIprKAHHho0",
        "outputId": "d6fe79f0-f5a3-4e89-dd59-dfa38de4ff13"
      },
      "execution_count": 25,
      "outputs": [
        {
          "output_type": "stream",
          "name": "stdout",
          "text": [
            "True\n",
            "True\n"
          ]
        }
      ]
    },
    {
      "cell_type": "code",
      "source": [
        "# is 연산자가 id를 기준으로 주소가 같은지 찾는 것이라면 == 비교 연산자는 값이 같은지 찾는 것\n",
        "\n",
        "a = [1, 2, 3]\n",
        "b = [1, 2, 3]\n",
        "c = a\n",
        "\n",
        "print('a == b', a == b)\n",
        "print('a == c', a == c)\n",
        "print('a is b', a is b)\n",
        "print('a is c', a is c)"
      ],
      "metadata": {
        "colab": {
          "base_uri": "https://localhost:8080/"
        },
        "id": "A0JMoClAI2n2",
        "outputId": "c443d5db-d59e-429e-9771-23ccb428b502"
      },
      "execution_count": 27,
      "outputs": [
        {
          "output_type": "stream",
          "name": "stdout",
          "text": [
            "a == b True\n",
            "a == c True\n",
            "a is b False\n",
            "a is c True\n"
          ]
        }
      ]
    },
    {
      "cell_type": "code",
      "source": [
        "x = [1, 2, 3] # 리스트 데이터 주소가 달라진다\n",
        "y = x\n",
        "z = [1, 2, 3] # 리스트 데이터 주소가 달라진다\n",
        "\n",
        "print(id(x))  # 예: 139760050602048\n",
        "print(id(y))  # 예: 139760050602048\n",
        "print(id(z))  # 예: 139760050602888\n",
        "\n",
        "#그래서 x와 y의 ==연산시 값을 비교해서 같다고 나오나, is 연산시 주소 add id가 달라져 False 가 표출됨."
      ],
      "metadata": {
        "colab": {
          "base_uri": "https://localhost:8080/"
        },
        "id": "-aw8IHatI9Vc",
        "outputId": "e85e9b82-3c2f-45ad-c2bb-f4f81d7f2fd9"
      },
      "execution_count": 29,
      "outputs": [
        {
          "output_type": "stream",
          "name": "stdout",
          "text": [
            "138324571355392\n",
            "138324571355392\n",
            "138324547568448\n"
          ]
        }
      ]
    },
    {
      "cell_type": "code",
      "source": [
        "# 멤버연산(in 구문)\n",
        "# 멤버 연산은 어떤 값이 목록 안에 있는지 확인해주는 기능입니다. in과 not in 두 가지 방법으로 확인할 수 있습니다.\n",
        "'''\n",
        "in\n",
        "값이 목록 안에 있으면 참(True)이에요.\n",
        "not in\n",
        "값이 목록 안에 없으면 참(True)이에요.\n",
        "\n",
        "#💡 is는 is not이고 in은 not in입니다.\n",
        "'''"
      ],
      "metadata": {
        "id": "jIAWCY33O37Y"
      },
      "execution_count": null,
      "outputs": []
    },
    {
      "cell_type": "code",
      "source": [
        "a = [1, 2, 3, 4]\n",
        "b = [1, 2, 3, 4]\n",
        "c = 'hello world'\n",
        "\n",
        "#[1, [2], 3, 4] 리스트안에 리스트가 들어갈수있음\n",
        "\n",
        "print(1 in a) # 출력: True\n",
        "print(0 not in a) # 출력: True\n",
        "print([2] in b) # 출력: False\n",
        "print([1, 2] in b) # 출력: False\n",
        "print('h' in c) # 출력: True\n",
        "print('hello ' in c) # 출력: True"
      ],
      "metadata": {
        "colab": {
          "base_uri": "https://localhost:8080/"
        },
        "id": "i0DCdUWrP02q",
        "outputId": "5f41252e-6659-4101-eace-21ec40b6a245"
      },
      "execution_count": 31,
      "outputs": [
        {
          "output_type": "stream",
          "name": "stdout",
          "text": [
            "True\n",
            "True\n",
            "False\n",
            "False\n",
            "True\n",
            "True\n"
          ]
        }
      ]
    },
    {
      "cell_type": "code",
      "source": [
        "# dict와 set에 대해서도 살펴보도록 하겠습니다.\n",
        "\n",
        "a = {'key1': 'value1', 'key2': 'value2'} #딕셔너리\n",
        "b = {10, 10, 20} #set\n",
        "10 in b # 출력: True\n",
        "{10} in b # 출력: False, 주의\n",
        "{10, 20} in b # 출력: False, 주의\n",
        "\n",
        "'key1' in a # 출력: True\n",
        "'value1' in a # 출력: False\n",
        "('key1', 'key2') in a # 출력: False\n",
        "# {'key1':'value1'} in a # error"
      ],
      "metadata": {
        "colab": {
          "base_uri": "https://localhost:8080/"
        },
        "id": "cEG3XFTiRLwm",
        "outputId": "1a2f7fef-d2e6-47ab-db6d-4f62d4c316f7"
      },
      "execution_count": 32,
      "outputs": [
        {
          "output_type": "execute_result",
          "data": {
            "text/plain": [
              "False"
            ]
          },
          "metadata": {},
          "execution_count": 32
        }
      ]
    },
    {
      "cell_type": "code",
      "source": [
        " fruits = [\"사과\", \"바나나\", \"포도\"]\n",
        " print(\"체리\" not in fruits)"
      ],
      "metadata": {
        "colab": {
          "base_uri": "https://localhost:8080/"
        },
        "id": "LP8yIDnjRh5r",
        "outputId": "5b26a6b6-7540-43e0-97d0-d4ab318dc170"
      },
      "execution_count": 34,
      "outputs": [
        {
          "output_type": "stream",
          "name": "stdout",
          "text": [
            "True\n"
          ]
        }
      ]
    },
    {
      "cell_type": "code",
      "source": [
        " greeting = \"안녕하세요\"\n",
        " print(\"안녕\" in greeting)"
      ],
      "metadata": {
        "colab": {
          "base_uri": "https://localhost:8080/"
        },
        "id": "BDkQ_ORLTehP",
        "outputId": "b8105dc7-ff92-400e-ac7c-cf71231e4a15"
      },
      "execution_count": 35,
      "outputs": [
        {
          "output_type": "stream",
          "name": "stdout",
          "text": [
            "True\n"
          ]
        }
      ]
    },
    {
      "cell_type": "code",
      "source": [
        " result = 2 + 3 * 4\n",
        " print(result)"
      ],
      "metadata": {
        "colab": {
          "base_uri": "https://localhost:8080/"
        },
        "id": "AMWLeAcxTe9j",
        "outputId": "5eca7e64-ddbe-4d9e-8a3d-a62f4272bc14"
      },
      "execution_count": 36,
      "outputs": [
        {
          "output_type": "stream",
          "name": "stdout",
          "text": [
            "14\n"
          ]
        }
      ]
    },
    {
      "cell_type": "code",
      "source": [
        " result = 10 / 2 * 4 - 3\n",
        " print(result)"
      ],
      "metadata": {
        "colab": {
          "base_uri": "https://localhost:8080/"
        },
        "id": "9Gsbbnu4TuY3",
        "outputId": "a4dbff19-6ebb-4686-b9b3-0dd0e409cfbf"
      },
      "execution_count": 37,
      "outputs": [
        {
          "output_type": "stream",
          "name": "stdout",
          "text": [
            "17.0\n"
          ]
        }
      ]
    },
    {
      "cell_type": "code",
      "source": [
        " result = 2 ** 3 * 3 + 4 / 2 - 5\n",
        " #####이해가 되나 안된다 다시 봐야겠다. 4/2를 먼저하고 앞에 제곱곱하긴한 24에 더해줘야한다\n",
        "\n",
        " print(result)"
      ],
      "metadata": {
        "colab": {
          "base_uri": "https://localhost:8080/"
        },
        "id": "m-NVkRxKUL-P",
        "outputId": "cb581a39-c864-453c-b2c5-d422501e9483"
      },
      "execution_count": 39,
      "outputs": [
        {
          "output_type": "stream",
          "name": "stdout",
          "text": [
            "21.0\n"
          ]
        }
      ]
    },
    {
      "cell_type": "markdown",
      "source": [
        "#연습문제 1~4번"
      ],
      "metadata": {
        "id": "wWuUUSW4bQE9"
      }
    },
    {
      "cell_type": "code",
      "source": [
        "#1번\n",
        "\n",
        "a = 100\n",
        "print(a > 100) and (a < 200)\n",
        "print(a > 100) or (a < 200)\n",
        "print(a >= 100) and (a <= 200)\n",
        "print(a >= 100) or (a <= 200)\n",
        "\n",
        "# 내예상 F,T,T,T"
      ],
      "metadata": {
        "colab": {
          "base_uri": "https://localhost:8080/"
        },
        "id": "2tcqKLC_WxGc",
        "outputId": "2f303744-2a85-4fef-e69a-3fc7717f7f16"
      },
      "execution_count": 60,
      "outputs": [
        {
          "output_type": "stream",
          "name": "stdout",
          "text": [
            "False\n",
            "False\n",
            "True\n",
            "True\n"
          ]
        },
        {
          "output_type": "execute_result",
          "data": {
            "text/plain": [
              "True"
            ]
          },
          "metadata": {},
          "execution_count": 60
        }
      ]
    },
    {
      "cell_type": "code",
      "source": [
        "x = 25 % 2\n",
        "y = 25 % 5\n",
        "print(x)\n",
        "print(y)\n"
      ],
      "metadata": {
        "colab": {
          "base_uri": "https://localhost:8080/"
        },
        "id": "T5miowwsb28P",
        "outputId": "b2b0d6be-c04e-4bc3-a172-6c38df353fe5"
      },
      "execution_count": 63,
      "outputs": [
        {
          "output_type": "stream",
          "name": "stdout",
          "text": [
            "1\n",
            "0\n"
          ]
        }
      ]
    },
    {
      "cell_type": "code",
      "source": [
        "# 다음 코드의 실행 결과값을 예상해보세요\n",
        "b = 25\n",
        "(b % 2 == 0) and (b % 5 == 0)"
      ],
      "metadata": {
        "colab": {
          "base_uri": "https://localhost:8080/"
        },
        "id": "MryJsqg_XiQl",
        "outputId": "11a64258-23a9-434e-f270-d6f1da2d5f5a"
      },
      "execution_count": 44,
      "outputs": [
        {
          "output_type": "execute_result",
          "data": {
            "text/plain": [
              "False"
            ]
          },
          "metadata": {},
          "execution_count": 44
        }
      ]
    },
    {
      "cell_type": "code",
      "source": [
        "#변수 c 안에 들어있는 가격을 100원짜리 몇개로 거슬러 줄 수 있는지 출력해주세요\n",
        "\n",
        "c = 1000/100\n",
        "print(int(c))\n",
        "# 결과값은 10입니다. # 내가 한 코딩"
      ],
      "metadata": {
        "colab": {
          "base_uri": "https://localhost:8080/"
        },
        "id": "iGSbH5hnX-vg",
        "outputId": "727dec50-f013-46ad-9255-4f4948f5409d"
      },
      "execution_count": 48,
      "outputs": [
        {
          "output_type": "stream",
          "name": "stdout",
          "text": [
            "10\n"
          ]
        }
      ]
    },
    {
      "cell_type": "code",
      "source": [
        "c = 1000\n",
        "c // 100 # 강사님이 하신 코딩"
      ],
      "metadata": {
        "colab": {
          "base_uri": "https://localhost:8080/"
        },
        "id": "jSuCVaU-cWSG",
        "outputId": "6c7c9638-5320-4ef3-f991-893086d366c8"
      },
      "execution_count": 64,
      "outputs": [
        {
          "output_type": "execute_result",
          "data": {
            "text/plain": [
              "10"
            ]
          },
          "metadata": {},
          "execution_count": 64
        }
      ]
    },
    {
      "cell_type": "code",
      "source": [
        "x = input\n",
        "input(\"금액을 넣어주세요: \")"
      ],
      "metadata": {
        "colab": {
          "base_uri": "https://localhost:8080/",
          "height": 54
        },
        "id": "xKN3ocomYJK3",
        "outputId": "25b96f3d-f2ff-47b3-cc04-cf261c8ffb34"
      },
      "execution_count": 55,
      "outputs": [
        {
          "name": "stdout",
          "output_type": "stream",
          "text": [
            "금액을 넣어주세요: 1000\n"
          ]
        },
        {
          "output_type": "execute_result",
          "data": {
            "text/plain": [
              "'1000'"
            ],
            "application/vnd.google.colaboratory.intrinsic+json": {
              "type": "string"
            }
          },
          "metadata": {},
          "execution_count": 55
        }
      ]
    },
    {
      "cell_type": "code",
      "source": [
        "x = input(\"금액을 넣어주세요: \")\n",
        "result = x + '원'\n",
        "print(result) # 내가한 코딩"
      ],
      "metadata": {
        "colab": {
          "base_uri": "https://localhost:8080/"
        },
        "id": "NhhLAUTZZyaP",
        "outputId": "e80d2269-b383-45db-c175-bfe7d0e6e2ef"
      },
      "execution_count": 57,
      "outputs": [
        {
          "output_type": "stream",
          "name": "stdout",
          "text": [
            "금액을 넣어주세요: 1000\n",
            "1000원\n"
          ]
        }
      ]
    },
    {
      "cell_type": "code",
      "source": [
        "#4번 (심화문제) 입력한 금액을 5000원, 1000원, 500원, 100원으로 교환하는 프로그램을 만들어주세요.\n",
        "#1. 금액을 입력 받는다. Or 금액에 대한 변수 필요\n",
        "#2. 5000부터 100까지 거스름돈을 어떻게 줄지 생각해본다.\n",
        "#3. 결론적으로 모든 거스름돈을 출력해서 -> (서비스) 캐셔 지폐교환기 -> 돈을 거슬러주면\n",
        "\n",
        "money = int(input(\"거스름돈을 출력하세요: \")) #강사님"
      ],
      "metadata": {
        "colab": {
          "base_uri": "https://localhost:8080/"
        },
        "id": "LRkIvtyAahYE",
        "outputId": "261ed037-32df-4571-e7fc-477a7d77e8b0"
      },
      "execution_count": 66,
      "outputs": [
        {
          "name": "stdout",
          "output_type": "stream",
          "text": [
            "거스름돈을 출력하세요: 8909\n"
          ]
        }
      ]
    },
    {
      "cell_type": "code",
      "source": [
        "print(money)"
      ],
      "metadata": {
        "colab": {
          "base_uri": "https://localhost:8080/"
        },
        "id": "rZmZTPluctxM",
        "outputId": "379d1472-4b12-40dc-cdf8-91b4bf17e90f"
      },
      "execution_count": 67,
      "outputs": [
        {
          "output_type": "stream",
          "name": "stdout",
          "text": [
            "8909\n"
          ]
        }
      ]
    },
    {
      "cell_type": "code",
      "source": [
        "# 5000원 지폐 개수 개산!\n",
        "# 5000으로 나눠서 나눗셈된 값(몫) -> 5000원권 얼마나 거슬러 줘야하는가?\n",
        "\n",
        "num_5000 = money // 5000"
      ],
      "metadata": {
        "id": "oSsNi2HLcx4T"
      },
      "execution_count": 68,
      "outputs": []
    },
    {
      "cell_type": "code",
      "source": [
        "print(num_5000)"
      ],
      "metadata": {
        "colab": {
          "base_uri": "https://localhost:8080/"
        },
        "id": "YP59blltex-C",
        "outputId": "b761ed61-cb07-4052-ee8d-da13d8c5f548"
      },
      "execution_count": 69,
      "outputs": [
        {
          "output_type": "stream",
          "name": "stdout",
          "text": [
            "1\n"
          ]
        }
      ]
    },
    {
      "cell_type": "code",
      "source": [
        "money -= (num_5000 * 5000)"
      ],
      "metadata": {
        "id": "UNBHr5Aye2kb"
      },
      "execution_count": 71,
      "outputs": []
    },
    {
      "cell_type": "code",
      "source": [
        "print(money)"
      ],
      "metadata": {
        "colab": {
          "base_uri": "https://localhost:8080/"
        },
        "id": "D_EqSsf_e6qf",
        "outputId": "bedcaa5f-4cf7-4cb1-f0e3-c143d8783c51"
      },
      "execution_count": 72,
      "outputs": [
        {
          "output_type": "stream",
          "name": "stdout",
          "text": [
            "3909\n"
          ]
        }
      ]
    },
    {
      "cell_type": "code",
      "source": [
        "num_1000 = money // 1000\n",
        "money -= (num_1000 * 1000)"
      ],
      "metadata": {
        "id": "fBw1ZLSje73y"
      },
      "execution_count": 73,
      "outputs": []
    },
    {
      "cell_type": "code",
      "source": [
        "print(num_1000, money)"
      ],
      "metadata": {
        "colab": {
          "base_uri": "https://localhost:8080/"
        },
        "id": "3Fv18-0Je9Sv",
        "outputId": "e6e192ab-74ee-4564-891a-99d6a13b302b"
      },
      "execution_count": 74,
      "outputs": [
        {
          "output_type": "stream",
          "name": "stdout",
          "text": [
            "3 909\n"
          ]
        }
      ]
    },
    {
      "cell_type": "code",
      "source": [
        "num_500 = money // 500\n",
        "money -= (num_500 * 500)"
      ],
      "metadata": {
        "id": "F4sAdpWNe-iD"
      },
      "execution_count": 75,
      "outputs": []
    },
    {
      "cell_type": "code",
      "source": [
        "print(num_500, money)"
      ],
      "metadata": {
        "colab": {
          "base_uri": "https://localhost:8080/"
        },
        "id": "oYtPJjKJe_ta",
        "outputId": "aff81d23-65ea-44b1-a7ce-e9dd8c91ee40"
      },
      "execution_count": 76,
      "outputs": [
        {
          "output_type": "stream",
          "name": "stdout",
          "text": [
            "1 409\n"
          ]
        }
      ]
    },
    {
      "cell_type": "code",
      "source": [
        "num_100 = money // 100\n",
        "money -= (num_100 * 100)\n",
        "print(num_100, money)"
      ],
      "metadata": {
        "colab": {
          "base_uri": "https://localhost:8080/"
        },
        "id": "QZtrbyh3fAzl",
        "outputId": "a9da245c-f92c-40a5-99b0-dc4903f88923"
      },
      "execution_count": 77,
      "outputs": [
        {
          "output_type": "stream",
          "name": "stdout",
          "text": [
            "4 9\n"
          ]
        }
      ]
    },
    {
      "cell_type": "code",
      "source": [
        "num_10 = money // 10\n",
        "money -= (num_10 * 10)\n",
        "print(num_10, money)"
      ],
      "metadata": {
        "colab": {
          "base_uri": "https://localhost:8080/"
        },
        "id": "9DYxrt1yfCCs",
        "outputId": "fdc9425f-07b1-40c0-94a9-2fdc65491abb"
      },
      "execution_count": 78,
      "outputs": [
        {
          "output_type": "stream",
          "name": "stdout",
          "text": [
            "0 9\n"
          ]
        }
      ]
    },
    {
      "cell_type": "code",
      "source": [
        "print(f\"5000원의 개수는 \",num_5000,\"개 입니다.\") #9,980원\n",
        "print(f\"5000원의 개수는 {num_5000} 개 입니다.\") #9,980원"
      ],
      "metadata": {
        "colab": {
          "base_uri": "https://localhost:8080/"
        },
        "id": "3HwF81RRfDTP",
        "outputId": "ccc71397-8c87-4c7f-f314-23c237e7236e"
      },
      "execution_count": 79,
      "outputs": [
        {
          "output_type": "stream",
          "name": "stdout",
          "text": [
            "5000원의 개수는  1 개 입니다.\n",
            "5000원의 개수는 1 개 입니다.\n"
          ]
        }
      ]
    },
    {
      "cell_type": "code",
      "source": [],
      "metadata": {
        "id": "czOKY8j4fEU4"
      },
      "execution_count": 79,
      "outputs": []
    },
    {
      "cell_type": "markdown",
      "source": [
        "## 실습 2"
      ],
      "metadata": {
        "id": "1po4EZAVe4Em"
      }
    },
    {
      "cell_type": "markdown",
      "source": [
        "1. **사용자 입력 받기**:\n",
        "    - **`input()`** 함수를 사용하여 제품의 원가와 할인율을 입력받습니다.\n",
        "2. **문자열을 숫자로 변환**:\n",
        "    - 입력받은 원가와 할인율을 각각 **`float()`** 함수를 사용하여 실수로 변환합니다.\n",
        "3. **할인된 가격 계산**:\n",
        "    - 할인된 가격을 계산하는 공식을 사용합니다. (할인된 가격 = 원가 - (원가 × 할인율 / 100))\n",
        "4. **결과 출력**:\n",
        "    - 계산된 할인된 가격을 **`print()`** 함수를 사용하여 출력합니다."
      ],
      "metadata": {
        "id": "eDNUBhFGfJ4H"
      }
    },
    {
      "cell_type": "code",
      "source": [
        "ori_price = float(input())\n",
        "dis_rate = float(input())\n"
      ],
      "metadata": {
        "colab": {
          "base_uri": "https://localhost:8080/"
        },
        "id": "09OsetoKfaXo",
        "outputId": "a1a2dc96-75b4-4312-e94b-8a679b4da7d8"
      },
      "execution_count": 81,
      "outputs": [
        {
          "name": "stdout",
          "output_type": "stream",
          "text": [
            "10000\n",
            "10\n"
          ]
        }
      ]
    },
    {
      "cell_type": "code",
      "source": [
        "x = ori_price\n",
        "y = dis_rate\n",
        "print(x)\n",
        "print(y)\n"
      ],
      "metadata": {
        "colab": {
          "base_uri": "https://localhost:8080/"
        },
        "id": "Lw3EQe4Bf0-4",
        "outputId": "43657559-6d26-48a2-e42b-baeaff4fff69"
      },
      "execution_count": 84,
      "outputs": [
        {
          "output_type": "stream",
          "name": "stdout",
          "text": [
            "10000.0\n",
            "10.0\n"
          ]
        }
      ]
    },
    {
      "cell_type": "code",
      "source": [
        "dis_price = x / y\n",
        "\n",
        "print(f\"{int(dis_price)}원 할인받으셨습니다\")"
      ],
      "metadata": {
        "colab": {
          "base_uri": "https://localhost:8080/"
        },
        "id": "qOdgDb-Tg6KZ",
        "outputId": "f7522079-9191-429d-89da-68ed1dda13e1"
      },
      "execution_count": 94,
      "outputs": [
        {
          "output_type": "stream",
          "name": "stdout",
          "text": [
            "1000원 할인받으셨습니다\n"
          ]
        }
      ]
    },
    {
      "cell_type": "markdown",
      "source": [
        "사용자 입력 받기:\n",
        "input() 함수를 사용하여 사용자의 이름과 나이를 입력받습니다.\n",
        "문자열을 숫자로 변환:\n",
        "입력받은 나이(문자열)를 int() 함수를 사용하여 정수로 변환합니다.\n",
        "산술 연산 수행:\n",
        "변환된 나이에 1을 더하여 다음 해의 나이를 계산합니다.\n",
        "문자열 길이 계산:\n",
        "len() 함수를 사용하여 사용자 이름의 길이를 계산합니다.\n",
        "성인 여부 판단:\n",
        "나이를 기준으로 성인 여부를 판단하여 불리언 값으로 표시합니다. (예: 18세 이상이면 True, 그렇지 않으면 False)\n",
        "결과 출력:\n",
        "계산된 나이, 이름의 길이, 성인 여부를 print() 함수를 사용하여 출력합니다."
      ],
      "metadata": {
        "id": "vQjNHm6GjUNV"
      }
    },
    {
      "cell_type": "code",
      "source": [
        "#단계별 가이드\n",
        "#1.사용자 입력 받기:\n",
        "#input() 함수를 사용하여 사용자의 이름과 나이를 입력받습니다.\n",
        "이름 = input()\n",
        "나이 = input()"
      ],
      "metadata": {
        "colab": {
          "base_uri": "https://localhost:8080/"
        },
        "id": "Usg3GbvGhPXd",
        "outputId": "c68a6c2d-e6a4-4f15-931f-6389536b8b81"
      },
      "execution_count": 167,
      "outputs": [
        {
          "name": "stdout",
          "output_type": "stream",
          "text": [
            "신성재\n",
            "1000\n"
          ]
        }
      ]
    },
    {
      "cell_type": "code",
      "source": [
        "# 2. 문자열을 숫자로 변환\n",
        "#: 입력받은 나이(문자열)를 int() 함수를 사용하여 정수로 변환합니다.\n",
        "\n",
        "\n",
        "이름 = str(이름)\n",
        "나이 = int(나이)\n",
        "\n",
        "print(이름)\n",
        "print(나이)"
      ],
      "metadata": {
        "colab": {
          "base_uri": "https://localhost:8080/"
        },
        "id": "z_afExQXhMje",
        "outputId": "41fecd20-89b6-430e-81fb-b028ab7e6107"
      },
      "execution_count": 168,
      "outputs": [
        {
          "output_type": "stream",
          "name": "stdout",
          "text": [
            "신성재\n",
            "1000\n"
          ]
        }
      ]
    },
    {
      "cell_type": "code",
      "source": [
        "# 3.산술 연산 수행:\n",
        "#변환된 나이에 1을 더하여 다음 해의 나이를 계산합니다.\n",
        "\n",
        "한국나이 = (나이)+1\n",
        "print(한국나이)"
      ],
      "metadata": {
        "colab": {
          "base_uri": "https://localhost:8080/"
        },
        "id": "4Nx9oRvomA_o",
        "outputId": "363b8c1e-e5af-4366-8f51-9a38da85eebd"
      },
      "execution_count": 173,
      "outputs": [
        {
          "output_type": "stream",
          "name": "stdout",
          "text": [
            "1001\n"
          ]
        }
      ]
    },
    {
      "cell_type": "code",
      "source": [
        "#문자열 길이 계산:\n",
        "#len() 함수를 사용하여 사용자 이름의 길이를 계산합니다.\n",
        "\n",
        "이름길이=len(이름)\n",
        "print(int(이름길이))"
      ],
      "metadata": {
        "colab": {
          "base_uri": "https://localhost:8080/"
        },
        "id": "tunj2Aqej12-",
        "outputId": "6b3b9b80-d7d7-47a8-e889-eabb5dcfe277"
      },
      "execution_count": 170,
      "outputs": [
        {
          "output_type": "stream",
          "name": "stdout",
          "text": [
            "3\n"
          ]
        }
      ]
    },
    {
      "cell_type": "code",
      "source": [
        "#성인 여부 판단:\n",
        "#나이를 기준으로 성인 여부를 판단하여 불리언 값으로 표시합니다.\n",
        "#(예: 만 18세 이상이면 True, 그렇지 않으면 False)\n",
        "\n",
        "is_adult = 나이 >= 18\n"
      ],
      "metadata": {
        "id": "5nd65idzlEhN"
      },
      "execution_count": 171,
      "outputs": []
    },
    {
      "cell_type": "code",
      "source": [
        "#결과 출력:\n",
        "#계산된 나이, 이름의 길이, 성인 여부를 print() 함수를 사용하여 출력합니다.\n",
        "print(f'제 이름은 {이름}, 한국나이는 {한국나이}이며, 이름길이는 {이름길이}자이며, 성인여부는{is_adult}입니다.')"
      ],
      "metadata": {
        "colab": {
          "base_uri": "https://localhost:8080/"
        },
        "id": "NoeS8vqmlfEQ",
        "outputId": "f86a7e6f-817b-46a0-c0ac-bab0910d2f38"
      },
      "execution_count": 172,
      "outputs": [
        {
          "output_type": "stream",
          "name": "stdout",
          "text": [
            "제 이름은 신성재, 한국나이는 1001이며, 이름길이는 3자이며, 성인여부는True입니다.\n"
          ]
        }
      ]
    },
    {
      "cell_type": "code",
      "source": [
        "#강사님"
      ],
      "metadata": {
        "id": "DU-qqASfyzR2"
      },
      "execution_count": null,
      "outputs": []
    },
    {
      "cell_type": "markdown",
      "source": [
        "단계별 가이드\n",
        "* 사용자 입력 받기:\n",
        "-- input() 함수를 사용하여 사용자의 이름과 나이를 입력받습니다.\n",
        "* 문자열을 숫자로 변환:\n",
        "-- 입력받은 나이(문자열)를 int() 함수를 사용하여 정수로 변환합니다.\n",
        "* 산술 연산 수행:\n",
        "-- 변환된 나이에 1을 더하여 다음 해의 나이를 계산합니다.\n",
        "* 문자열 길이 계산:\n",
        "-- len() 함수를 사용하여 사용자 이름의 길이를 계산합니다.\n",
        "* 성인 여부 판단:\n",
        "-- 나이를 기준으로 성인 여부를 판단하여 불리언 값으로 표시합니다. (예: 18세 -- 이상이면 True, 그렇지 않으면 False)\n",
        "* 결과 출력:\n",
        "-- 계산된 나이, 이름의 길이, 성인 여부를 print() 함수를 사용하여 출력합니다."
      ],
      "metadata": {
        "id": "_u3VeyBMyxqG"
      }
    },
    {
      "cell_type": "code",
      "source": [
        "# Step 1\n",
        "name = input(\"이름을 입력해주세요\")\n",
        "age = input(\"나이를 입력해주세요\")\n",
        "# Step 2\n",
        "age = int(age)"
      ],
      "metadata": {
        "id": "l2INAKSPy38d"
      },
      "execution_count": null,
      "outputs": []
    },
    {
      "cell_type": "code",
      "source": [
        "# Step 3\n",
        "next_year_age = age + 1 # 덧셈"
      ],
      "metadata": {
        "id": "DvqyJZJpy6vb"
      },
      "execution_count": null,
      "outputs": []
    },
    {
      "cell_type": "code",
      "source": [
        "# Step 4\n",
        "name_length = len(name)"
      ],
      "metadata": {
        "id": "lUnpbXSFy73H"
      },
      "execution_count": null,
      "outputs": []
    },
    {
      "cell_type": "code",
      "source": [
        "# Step 5\n",
        "is_adult =  age >= 18     #비교 연산자"
      ],
      "metadata": {
        "id": "klK0Rf4Ly8od"
      },
      "execution_count": null,
      "outputs": []
    },
    {
      "cell_type": "code",
      "source": [
        "# Step 6\n",
        "print(f'제 이름은 {name} 입니다.')\n",
        "print(f'제 나이는 {next_year_age}입니다. 작년에는 {age} 였습니다.')\n",
        "print(f'성인여부는 {is_adult}입니다.')"
      ],
      "metadata": {
        "id": "T40TGCKUy9yD"
      },
      "execution_count": null,
      "outputs": []
    },
    {
      "cell_type": "markdown",
      "source": [
        "# 시퀀스 자료형"
      ],
      "metadata": {
        "id": "ub8MEmR07Anm"
      }
    },
    {
      "cell_type": "code",
      "source": [
        "example = 'abcde'\n",
        "print(example[0]) # 출력: a\n",
        "print(example[2]) # 출력: c\n",
        "print(example[0:-1]) # 출력: a\n",
        "print(example[1:-1]) # 출력: a\n",
        "\n"
      ],
      "metadata": {
        "colab": {
          "base_uri": "https://localhost:8080/"
        },
        "id": "mtP5w2Hl7B1l",
        "outputId": "37e2c6c7-ee6a-4d47-f548-1e23eb104050"
      },
      "execution_count": 178,
      "outputs": [
        {
          "output_type": "stream",
          "name": "stdout",
          "text": [
            "a\n",
            "c\n",
            "abcd\n",
            "bcd\n"
          ]
        }
      ]
    },
    {
      "cell_type": "code",
      "source": [
        "example = 'abcde'\n",
        "print(example[1:3]) # 출력: bc\n",
        "\n",
        "range(10)[3] # 출력: 3\n",
        "range(100)[::5] # 출력: range(0, 100, 5)"
      ],
      "metadata": {
        "colab": {
          "base_uri": "https://localhost:8080/"
        },
        "id": "7NM_tlf37ujK",
        "outputId": "9c4cfa58-52d2-4aea-a3c8-9aaef6bc3edb"
      },
      "execution_count": 175,
      "outputs": [
        {
          "output_type": "stream",
          "name": "stdout",
          "text": [
            "bc\n"
          ]
        },
        {
          "output_type": "execute_result",
          "data": {
            "text/plain": [
              "range(0, 100, 5)"
            ]
          },
          "metadata": {},
          "execution_count": 175
        }
      ]
    },
    {
      "cell_type": "markdown",
      "source": [
        "1.3. 특정 항목의 포함 여부(Member)"
      ],
      "metadata": {
        "id": "xBU5Upx_7vBR"
      }
    },
    {
      "cell_type": "code",
      "source": [
        "example = 'abcde'\n",
        "print('a' in example) # 출력: True #문법을 순서를 잘지켜야 재대로 나온다.\n",
        "print('z' in example) # 출력: False\n",
        "\n",
        "''' 교제에 적혀있던 틀린 예시다.\n",
        "example = 'abcde'\n",
        "print(example in 'a') # 출력: True  둘다 펄스나옴\n",
        "print(example in 'z') # 출력: False 둘다 펄스나옴\n",
        "'''"
      ],
      "metadata": {
        "colab": {
          "base_uri": "https://localhost:8080/",
          "height": 90
        },
        "id": "elbE0cDF8rO6",
        "outputId": "0c2ae6a4-2b93-4682-9157-3b057c003310"
      },
      "execution_count": 183,
      "outputs": [
        {
          "output_type": "stream",
          "name": "stdout",
          "text": [
            "True\n",
            "False\n"
          ]
        },
        {
          "output_type": "execute_result",
          "data": {
            "text/plain": [
              "\" 교제에 적혀있던 틀린 예시다.\\nexample = 'abcde' \\nprint(example in 'a') # 출력: True\\nprint(example in 'z') # 출력: False\\n\""
            ],
            "application/vnd.google.colaboratory.intrinsic+json": {
              "type": "string"
            }
          },
          "metadata": {},
          "execution_count": 183
        }
      ]
    },
    {
      "cell_type": "code",
      "source": [
        "example = 'abcde'\n",
        "print(example in 'a') # 출력: True\n",
        "print(example in 'z') # 출력: False"
      ],
      "metadata": {
        "colab": {
          "base_uri": "https://localhost:8080/"
        },
        "id": "-nCW1ja29ZXe",
        "outputId": "769b85ba-c108-440b-d298-03409f5cad58"
      },
      "execution_count": 184,
      "outputs": [
        {
          "output_type": "stream",
          "name": "stdout",
          "text": [
            "False\n",
            "False\n"
          ]
        }
      ]
    },
    {
      "cell_type": "code",
      "source": [
        "example = 'abcde'\n",
        "print('z' not in example) # 출력: False"
      ],
      "metadata": {
        "colab": {
          "base_uri": "https://localhost:8080/"
        },
        "id": "u2gxaT1H8tyR",
        "outputId": "3d315514-42d5-48da-b5e3-cdc32e619c0e"
      },
      "execution_count": 182,
      "outputs": [
        {
          "output_type": "stream",
          "name": "stdout",
          "text": [
            "True\n"
          ]
        }
      ]
    },
    {
      "cell_type": "markdown",
      "source": [
        "## 1.5. **내장 함수**\n",
        "\n",
        "`len()`, `max()`, `min()`, `count()`, `index()` 등의 여러 내장 함수를 지원합니다. 내장 함수는 각 자료형에서 더 깊이 다뤄보겠습니다."
      ],
      "metadata": {
        "id": "THH9lyCb9llO"
      }
    },
    {
      "cell_type": "code",
      "source": [
        "example = 'abcde'\n",
        "print(len(example))  # 출력: 5 몇개가 있는지 세줌\n",
        "print(min(example))  # 출력: a 첫번쨰 문자\n",
        "print(max(example))  # 출력: e 두번쨰 문자"
      ],
      "metadata": {
        "id": "6LmFrRAu9kQR"
      },
      "execution_count": null,
      "outputs": []
    },
    {
      "cell_type": "markdown",
      "source": [
        "# 2. 시퀀스 자료형의 패킹과 언패킹\n",
        "\n",
        "## 1.1. 패킹 (Packing)\n",
        "\n",
        "패킹은 여러 개의 데이터를 하나의 변수에 담는 과정을 의미합니다. 튜플 패킹을 통해 살펴보겠습니다. 통해 볼 수 있습니다."
      ],
      "metadata": {
        "id": "DcnJSa3v9zlJ"
      }
    },
    {
      "cell_type": "code",
      "source": [
        "# 튜플 패킹\n",
        "packed_tuple = 1, 2, 3, 4\n",
        "print(packed_tuple)  # 출력: (1, 2, 3, 4)\n",
        "type(packed_tuple)"
      ],
      "metadata": {
        "colab": {
          "base_uri": "https://localhost:8080/"
        },
        "id": "sNOWW4-K90UC",
        "outputId": "4bec205d-06eb-4566-b0d9-9a78e08c5b05"
      },
      "execution_count": 187,
      "outputs": [
        {
          "output_type": "stream",
          "name": "stdout",
          "text": [
            "(1, 2, 3, 4)\n"
          ]
        },
        {
          "output_type": "execute_result",
          "data": {
            "text/plain": [
              "tuple"
            ]
          },
          "metadata": {},
          "execution_count": 187
        }
      ]
    },
    {
      "cell_type": "code",
      "source": [
        "packed_tuple = 1\n",
        "print(packed_tuple)  # 출력: (1, 2, 3, 4)\n",
        "type(packed_tuple)"
      ],
      "metadata": {
        "colab": {
          "base_uri": "https://localhost:8080/"
        },
        "id": "h8ksf7K8-eMa",
        "outputId": "3b899420-008f-41f3-9ffb-5f123ca7c261"
      },
      "execution_count": 188,
      "outputs": [
        {
          "output_type": "stream",
          "name": "stdout",
          "text": [
            "1\n"
          ]
        },
        {
          "output_type": "execute_result",
          "data": {
            "text/plain": [
              "int"
            ]
          },
          "metadata": {},
          "execution_count": 188
        }
      ]
    },
    {
      "cell_type": "code",
      "source": [
        "# 튜플 패킹\n",
        "packed_tuple = 1, 2, 3, 4\n",
        "print(packed_tuple)  # 출력: (1, 2, 3, 4)"
      ],
      "metadata": {
        "colab": {
          "base_uri": "https://localhost:8080/"
        },
        "id": "WE8Api5p-jVk",
        "outputId": "d0f20963-6556-4f73-cd64-a53f8a85b450"
      },
      "execution_count": 189,
      "outputs": [
        {
          "output_type": "stream",
          "name": "stdout",
          "text": [
            "(1, 2, 3, 4)\n"
          ]
        }
      ]
    },
    {
      "cell_type": "code",
      "source": [
        "# 튜플 패킹\n",
        "packed_tuple = 1, 2, 3, 4\n",
        "\n",
        "\n",
        "# ## 1.2. 언패킹 (Unpacking)\n",
        "\n",
        "# 튜플 언패킹\n",
        "\n",
        "a, b, c, d = packed_tuple\n",
        "print(a)  # 출력: 1\n",
        "print(b)  # 출력: 2"
      ],
      "metadata": {
        "colab": {
          "base_uri": "https://localhost:8080/"
        },
        "id": "qroGlHHM-ySc",
        "outputId": "781b7720-5dab-4154-e61c-0cab1ed44556"
      },
      "execution_count": 190,
      "outputs": [
        {
          "output_type": "stream",
          "name": "stdout",
          "text": [
            "1\n",
            "2\n"
          ]
        }
      ]
    },
    {
      "cell_type": "code",
      "source": [
        "type(a)\n",
        "type(b)"
      ],
      "metadata": {
        "colab": {
          "base_uri": "https://localhost:8080/"
        },
        "id": "Cw5Dsdz4-zPE",
        "outputId": "57ea2275-9ec5-48ce-a117-2108d7b9970f"
      },
      "execution_count": 191,
      "outputs": [
        {
          "output_type": "execute_result",
          "data": {
            "text/plain": [
              "int"
            ]
          },
          "metadata": {},
          "execution_count": 191
        }
      ]
    },
    {
      "cell_type": "code",
      "source": [
        "a, b, c = range(3) # 범주를 0,1,2로 잡아준거다.\n",
        "print(b)\n",
        "print(c)\n",
        "\n",
        "a # 출력: 0"
      ],
      "metadata": {
        "colab": {
          "base_uri": "https://localhost:8080/"
        },
        "id": "T4nxYW0A_Ldp",
        "outputId": "aaba4c69-674d-4734-c138-7e98a4300e1b"
      },
      "execution_count": 192,
      "outputs": [
        {
          "output_type": "stream",
          "name": "stdout",
          "text": [
            "1\n",
            "2\n"
          ]
        },
        {
          "output_type": "execute_result",
          "data": {
            "text/plain": [
              "0"
            ]
          },
          "metadata": {},
          "execution_count": 192
        }
      ]
    },
    {
      "cell_type": "code",
      "source": [
        "a, b, c, d, e = 'hello'\n",
        "print(a) # 출력: 0\n",
        "print(b)\n",
        "print(c)\n",
        "print(d)\n",
        "print(e)"
      ],
      "metadata": {
        "colab": {
          "base_uri": "https://localhost:8080/"
        },
        "id": "ForR1qII_0xj",
        "outputId": "81153201-bc5d-4646-a027-a141c6604ca0"
      },
      "execution_count": 196,
      "outputs": [
        {
          "output_type": "stream",
          "name": "stdout",
          "text": [
            "h\n",
            "e\n",
            "l\n",
            "l\n",
            "o\n"
          ]
        }
      ]
    },
    {
      "cell_type": "code",
      "source": [
        "a, b = [10, 20]\n",
        "a # 출력: 0"
      ],
      "metadata": {
        "colab": {
          "base_uri": "https://localhost:8080/"
        },
        "id": "a9WqKNBWAEyB",
        "outputId": "536b76ad-a639-4ac7-86af-bb1732d6671d"
      },
      "execution_count": 197,
      "outputs": [
        {
          "output_type": "execute_result",
          "data": {
            "text/plain": [
              "10"
            ]
          },
          "metadata": {},
          "execution_count": 197
        }
      ]
    },
    {
      "cell_type": "code",
      "source": [
        "for i, j in [[10, 20], [100, 200]]:\n",
        "    print(i, j)"
      ],
      "metadata": {
        "colab": {
          "base_uri": "https://localhost:8080/"
        },
        "id": "tItg3ZhOAP6W",
        "outputId": "778293c4-9fb1-49ed-8288-e4f0e46e93bb"
      },
      "execution_count": 198,
      "outputs": [
        {
          "output_type": "stream",
          "name": "stdout",
          "text": [
            "10 20\n",
            "100 200\n"
          ]
        }
      ]
    },
    {
      "cell_type": "markdown",
      "source": [
        "### 1.2.1. 별표(*)를 이용한 언패킹"
      ],
      "metadata": {
        "id": "e-6pG9eCArag"
      }
    },
    {
      "cell_type": "code",
      "source": [
        "first, *middle, last = [1, 2, 3, 4, 5]\n",
        "print(first)\n",
        "print(middle)\n",
        "print(last)"
      ],
      "metadata": {
        "colab": {
          "base_uri": "https://localhost:8080/"
        },
        "id": "4Ly-IRXzAvhH",
        "outputId": "82e94f7e-c347-4bdf-f002-c33325935999"
      },
      "execution_count": 201,
      "outputs": [
        {
          "output_type": "stream",
          "name": "stdout",
          "text": [
            "1\n",
            "[2, 3, 4]\n",
            "5\n"
          ]
        }
      ]
    },
    {
      "cell_type": "code",
      "source": [],
      "metadata": {
        "id": "UNfm4fd6EhbQ"
      },
      "execution_count": null,
      "outputs": []
    },
    {
      "cell_type": "markdown",
      "source": [
        "## 1.1 리스트 생성"
      ],
      "metadata": {
        "id": "y_wSDkwdEiyv"
      }
    },
    {
      "cell_type": "code",
      "source": [
        "x1= 100\n",
        "x2= 100\n",
        "x2= 100\n"
      ],
      "metadata": {
        "id": "bxpECZkOFkHg"
      },
      "execution_count": null,
      "outputs": []
    },
    {
      "cell_type": "code",
      "source": [
        "x = [1, 2, 3] # csv 파일과 비슷 대괄호 사용한다. 튜플은 소괄호 셋과 딕셔너리는 중괄호 사용.\n",
        "y = ['apple', 'banana', 'cherry']"
      ],
      "metadata": {
        "id": "aAJdKOJ3EjiK"
      },
      "execution_count": 202,
      "outputs": []
    },
    {
      "cell_type": "code",
      "source": [
        "z = [1, 'apple', 2.5, ['a', 'b'], (1, 2)]\n",
        "print(z[0])\n",
        "#리스트의 장점"
      ],
      "metadata": {
        "colab": {
          "base_uri": "https://localhost:8080/"
        },
        "id": "A0aO2dmqFRkd",
        "outputId": "c7b0d36f-f700-4b77-e3db-8d8d704fb9e7"
      },
      "execution_count": 203,
      "outputs": [
        {
          "output_type": "stream",
          "name": "stdout",
          "text": [
            "1\n"
          ]
        }
      ]
    },
    {
      "cell_type": "markdown",
      "source": [
        "## 1.2 리스트의 수정 및 다차원 리스트"
      ],
      "metadata": {
        "id": "H0nbIaPwG3Ew"
      }
    },
    {
      "cell_type": "code",
      "source": [
        "a = [1, 2, 3, 4, 5]\n",
        "a[0] = 10000 # 리스트의 수정 0 번쨰 즉 리스트의 1이 10000으로 출력된다.\n",
        "print(a)"
      ],
      "metadata": {
        "colab": {
          "base_uri": "https://localhost:8080/"
        },
        "id": "g-MCUdnXFrmn",
        "outputId": "756ae0c1-088c-49a8-bfaf-eb7d96b96fea"
      },
      "execution_count": 205,
      "outputs": [
        {
          "output_type": "stream",
          "name": "stdout",
          "text": [
            "[10000, 2, 3, 4, 5]\n"
          ]
        }
      ]
    },
    {
      "cell_type": "code",
      "source": [
        "#문자열은 변경이 불가능하다(immutable)\n",
        "\n",
        "s = 'licat'\n",
        "print(s[0])\n",
        "s[0] = 'k'\n",
        "\n",
        "#문자열은 한번 생성되면 그 내용을 변경할 수 없다. 문자열의 내용을 변경하고 싶다면, 새로운 문자열을 생성해"
      ],
      "metadata": {
        "colab": {
          "base_uri": "https://localhost:8080/",
          "height": 239
        },
        "id": "dRUCLKgCHADt",
        "outputId": "4c68cd1d-e7ec-4874-e400-e6064f4e210b"
      },
      "execution_count": 206,
      "outputs": [
        {
          "output_type": "stream",
          "name": "stdout",
          "text": [
            "l\n"
          ]
        },
        {
          "output_type": "error",
          "ename": "TypeError",
          "evalue": "ignored",
          "traceback": [
            "\u001b[0;31m---------------------------------------------------------------------------\u001b[0m",
            "\u001b[0;31mTypeError\u001b[0m                                 Traceback (most recent call last)",
            "\u001b[0;32m<ipython-input-206-eedc4ca7572c>\u001b[0m in \u001b[0;36m<cell line: 5>\u001b[0;34m()\u001b[0m\n\u001b[1;32m      3\u001b[0m \u001b[0ms\u001b[0m \u001b[0;34m=\u001b[0m \u001b[0;34m'licat'\u001b[0m\u001b[0;34m\u001b[0m\u001b[0;34m\u001b[0m\u001b[0m\n\u001b[1;32m      4\u001b[0m \u001b[0mprint\u001b[0m\u001b[0;34m(\u001b[0m\u001b[0ms\u001b[0m\u001b[0;34m[\u001b[0m\u001b[0;36m0\u001b[0m\u001b[0;34m]\u001b[0m\u001b[0;34m)\u001b[0m\u001b[0;34m\u001b[0m\u001b[0;34m\u001b[0m\u001b[0m\n\u001b[0;32m----> 5\u001b[0;31m \u001b[0ms\u001b[0m\u001b[0;34m[\u001b[0m\u001b[0;36m0\u001b[0m\u001b[0;34m]\u001b[0m \u001b[0;34m=\u001b[0m \u001b[0;34m'k'\u001b[0m\u001b[0;34m\u001b[0m\u001b[0;34m\u001b[0m\u001b[0m\n\u001b[0m",
            "\u001b[0;31mTypeError\u001b[0m: 'str' object does not support item assignment"
          ]
        }
      ]
    },
    {
      "cell_type": "markdown",
      "source": [
        "1.2.3 다차원 리스트"
      ],
      "metadata": {
        "id": "IVRTRKlVHt8k"
      }
    },
    {
      "cell_type": "code",
      "source": [
        "b = [[10, 20, 30], [1, 2, 3]]\n",
        "print(b[1][2]) # 출력: 3"
      ],
      "metadata": {
        "colab": {
          "base_uri": "https://localhost:8080/"
        },
        "id": "t9CUj414HYAx",
        "outputId": "2899f3b0-2878-462f-f654-00b97e814b00"
      },
      "execution_count": 207,
      "outputs": [
        {
          "output_type": "stream",
          "name": "stdout",
          "text": [
            "3\n"
          ]
        }
      ]
    },
    {
      "cell_type": "code",
      "source": [
        "print(b)\n",
        "print(b[0])\n",
        "print(b[1])\n",
        "print(b[1][2])  ### 뭐냐 이건..."
      ],
      "metadata": {
        "colab": {
          "base_uri": "https://localhost:8080/"
        },
        "id": "ZHmw2K9eHvrY",
        "outputId": "e49d0583-7235-4961-80d5-f8b9dd3bbd63"
      },
      "execution_count": 209,
      "outputs": [
        {
          "output_type": "stream",
          "name": "stdout",
          "text": [
            "[[10, 20, 30], [1, 2, 3]]\n",
            "[10, 20, 30]\n",
            "[1, 2, 3]\n",
            "3\n"
          ]
        }
      ]
    },
    {
      "cell_type": "markdown",
      "source": [
        "## 2.1  덧셈과 곱셈 연산"
      ],
      "metadata": {
        "id": "BrVOU3lpJX0q"
      }
    },
    {
      "cell_type": "code",
      "source": [
        "a = [1, 2, 3, 4, 5]\n",
        "b = [6, 7, 8]\n",
        "\n",
        "print(a + b) # 출력: [1, 2, 3, 4, 5, 6, 7, 8]"
      ],
      "metadata": {
        "colab": {
          "base_uri": "https://localhost:8080/"
        },
        "id": "7mtzzlj4H0te",
        "outputId": "16820646-abc6-4b47-8e8e-e6a6474a4f02"
      },
      "execution_count": 210,
      "outputs": [
        {
          "output_type": "stream",
          "name": "stdout",
          "text": [
            "[1, 2, 3, 4, 5, 6, 7, 8]\n"
          ]
        }
      ]
    },
    {
      "cell_type": "code",
      "source": [
        "import numpy as np\n",
        "\n",
        "l = [1, 2, 3]\n",
        "l = np.array(l)\n",
        "l * 3\n",
        "l + l\n",
        "# 너무 당연하게 요소를 붙이는 것이다라고 생각하지 않으셨으면 좋겠습니다고 하더."
      ],
      "metadata": {
        "colab": {
          "base_uri": "https://localhost:8080/"
        },
        "id": "ysZcTMYQJbCk",
        "outputId": "58ffa082-2784-452c-b4fd-66c2234ec29d"
      },
      "execution_count": 211,
      "outputs": [
        {
          "output_type": "execute_result",
          "data": {
            "text/plain": [
              "array([2, 4, 6])"
            ]
          },
          "metadata": {},
          "execution_count": 211
        }
      ]
    },
    {
      "cell_type": "code",
      "source": [
        "a = [1, 2, 3]\n",
        "a = a * 3\n",
        "\n",
        "a[0] = 1000\n",
        "print(a)"
      ],
      "metadata": {
        "colab": {
          "base_uri": "https://localhost:8080/"
        },
        "id": "ZZbObIa3JZeP",
        "outputId": "df56b0a8-9c3e-4f32-d91c-23928b483f25"
      },
      "execution_count": 212,
      "outputs": [
        {
          "output_type": "stream",
          "name": "stdout",
          "text": [
            "[1000, 2, 3, 1, 2, 3, 1, 2, 3]\n"
          ]
        }
      ]
    },
    {
      "cell_type": "markdown",
      "source": [
        "2.2 리스트 인덱싱"
      ],
      "metadata": {
        "id": "L19aEAcGKj4D"
      }
    },
    {
      "cell_type": "code",
      "source": [
        "l = [1, 2, 3, 4, 5]\n",
        "print(l[0]) # 출력: 1\n",
        "print(l[3]) # 출력: 4\n",
        "print(l[-1]) # 출력: 5\n",
        "print(l[-3]) # 출력: 3"
      ],
      "metadata": {
        "colab": {
          "base_uri": "https://localhost:8080/"
        },
        "id": "1XjWHu34KL9R",
        "outputId": "8125b3ea-1888-4d14-929b-f57cb5b559f2"
      },
      "execution_count": 213,
      "outputs": [
        {
          "output_type": "stream",
          "name": "stdout",
          "text": [
            "1\n",
            "4\n",
            "5\n",
            "3\n"
          ]
        }
      ]
    },
    {
      "cell_type": "code",
      "source": [
        "lst = [1, 2, 3, 4, 5]\n",
        "print(lst[10])"
      ],
      "metadata": {
        "colab": {
          "base_uri": "https://localhost:8080/",
          "height": 203
        },
        "id": "SQC5gb-TKlli",
        "outputId": "7471f187-8cc8-4e44-c58a-db6271500c98"
      },
      "execution_count": 214,
      "outputs": [
        {
          "output_type": "error",
          "ename": "IndexError",
          "evalue": "ignored",
          "traceback": [
            "\u001b[0;31m---------------------------------------------------------------------------\u001b[0m",
            "\u001b[0;31mIndexError\u001b[0m                                Traceback (most recent call last)",
            "\u001b[0;32m<ipython-input-214-1315fc8f2995>\u001b[0m in \u001b[0;36m<cell line: 2>\u001b[0;34m()\u001b[0m\n\u001b[1;32m      1\u001b[0m \u001b[0mlst\u001b[0m \u001b[0;34m=\u001b[0m \u001b[0;34m[\u001b[0m\u001b[0;36m1\u001b[0m\u001b[0;34m,\u001b[0m \u001b[0;36m2\u001b[0m\u001b[0;34m,\u001b[0m \u001b[0;36m3\u001b[0m\u001b[0;34m,\u001b[0m \u001b[0;36m4\u001b[0m\u001b[0;34m,\u001b[0m \u001b[0;36m5\u001b[0m\u001b[0;34m]\u001b[0m\u001b[0;34m\u001b[0m\u001b[0;34m\u001b[0m\u001b[0m\n\u001b[0;32m----> 2\u001b[0;31m \u001b[0mprint\u001b[0m\u001b[0;34m(\u001b[0m\u001b[0mlst\u001b[0m\u001b[0;34m[\u001b[0m\u001b[0;36m10\u001b[0m\u001b[0;34m]\u001b[0m\u001b[0;34m)\u001b[0m\u001b[0;34m\u001b[0m\u001b[0;34m\u001b[0m\u001b[0m\n\u001b[0m",
            "\u001b[0;31mIndexError\u001b[0m: list index out of range"
          ]
        }
      ]
    },
    {
      "cell_type": "markdown",
      "source": [
        "### 2**.3.1 슬라이싱**\n",
        "\n",
        "슬라이싱은 **`[start:stop:step]`** 형태로 사용하며, 마찬가지로 step은 기본적으로 1이며 생략할 수 있습니다."
      ],
      "metadata": {
        "id": "4c19yhK4KzvI"
      }
    },
    {
      "cell_type": "code",
      "source": [
        "l = [1, 2, 3, 4, 5]\n",
        "print(l[:])     # 출력: [1, 2, 3, 4, 5]\n",
        "print(l[::-1])  # 출력: [5, 4, 3, 2, 1] # 순서 반전\n",
        "print(l[::2])   # 출력: [1, 3, 5]\n",
        "print(l[0:4][::-1]) # 출력: [3, 2, 1] # 1,2,3,4 까지 먼저 출력되고 순서 반전"
      ],
      "metadata": {
        "colab": {
          "base_uri": "https://localhost:8080/"
        },
        "id": "azJCheO9KqMg",
        "outputId": "d90e891f-2963-4b16-d163-8f213294a155"
      },
      "execution_count": 215,
      "outputs": [
        {
          "output_type": "stream",
          "name": "stdout",
          "text": [
            "[1, 2, 3, 4, 5]\n",
            "[5, 4, 3, 2, 1]\n",
            "[1, 3, 5]\n",
            "[4, 3, 2, 1]\n"
          ]
        }
      ]
    },
    {
      "cell_type": "code",
      "source": [
        "#### 2**.3.3 슬라이싱은 에러가 발생하지 않는다**\n",
        "\n",
        "#리스트의 슬라이싱은 범위가 넘어가더라도 오류를 발생시키지 않습니다. 이는 안정적인 코드 작성을 위한 특징입니다.\n",
        "\n",
        "l = [1, 2, 3, 4, 5]\n",
        "print(l[10:20]) # 출력: []"
      ],
      "metadata": {
        "colab": {
          "base_uri": "https://localhost:8080/"
        },
        "id": "vPFqSt7JLi5u",
        "outputId": "671e383a-506d-4e2d-c920-5a21f989c5ab"
      },
      "execution_count": 217,
      "outputs": [
        {
          "output_type": "stream",
          "name": "stdout",
          "text": [
            "[]\n"
          ]
        }
      ]
    },
    {
      "cell_type": "markdown",
      "source": [
        "#연습문제"
      ],
      "metadata": {
        "id": "0O5ZrAS_WdXs"
      }
    },
    {
      "cell_type": "code",
      "source": [
        "# 문제 4\n",
        "\n",
        "# 아래 변수에서 중복을 제거한 유일한 숫자를 알아내는 코드를 작성해주세요. 형변환을 통해 풀어주세요.\n",
        "\n",
        "n = 1234567890123123123\n",
        "\n",
        "len(set(str(n)))\n"
      ],
      "metadata": {
        "id": "qDig8_IOMG7q",
        "colab": {
          "base_uri": "https://localhost:8080/",
          "height": 35
        },
        "outputId": "19926a03-f27c-4f45-ecec-274ff2838aab"
      },
      "execution_count": 220,
      "outputs": [
        {
          "output_type": "execute_result",
          "data": {
            "text/plain": [
              "'1234567890123123123'"
            ],
            "application/vnd.google.colaboratory.intrinsic+json": {
              "type": "string"
            }
          },
          "metadata": {},
          "execution_count": 220
        }
      ]
    },
    {
      "cell_type": "code",
      "source": [
        "#문제 6\n",
        "#'abcde', 숫자, 대쉬(-), 언더스코어(_)를 모두 제거해주세요. 문자열에 translate를 사용해주세요.\n",
        "\n",
        "s = 'hello_world123'\n",
        "# 출력값: 'hlloworl'\n",
        "​\n",
        "# 정답\n",
        "s = 'hello_world123'\n",
        "table = str.maketrans('', '', 'abcde0123456789-_')\n",
        "s.translate(table)"
      ],
      "metadata": {
        "id": "_PoqknTMUNHb"
      },
      "execution_count": null,
      "outputs": []
    },
    {
      "cell_type": "code",
      "source": [
        "#문제 7\n",
        "#확장자를 출력해주는 코드를 작성해주세요. 확장자는 png, jpeg, mp4 등입니다.\n",
        "s = 'licat.jpeg'\n",
        "# 출력값: 'jpeg'\n",
        "\n",
        "s = 'li.cat.png'\n",
        "# 출력값: 'png'\n",
        "​\n",
        "s[::-1].split('.')[0][::-1] # 정답1\n",
        "s.split('.')[-1] # 정답2\n",
        "s[s.rindex('.')+1:] # 정답3"
      ],
      "metadata": {
        "colab": {
          "base_uri": "https://localhost:8080/",
          "height": 147
        },
        "id": "RL3AxdgWMEWx",
        "outputId": "55381fea-3903-499b-cec1-d6973612947c"
      },
      "execution_count": 222,
      "outputs": [
        {
          "output_type": "error",
          "ename": "SyntaxError",
          "evalue": "ignored",
          "traceback": [
            "\u001b[0;36m  File \u001b[0;32m\"<ipython-input-222-2568352883c8>\"\u001b[0;36m, line \u001b[0;32m1\u001b[0m\n\u001b[0;31m    문제 7\u001b[0m\n\u001b[0m       ^\u001b[0m\n\u001b[0;31mSyntaxError\u001b[0m\u001b[0;31m:\u001b[0m invalid syntax\n"
          ]
        }
      ]
    },
    {
      "cell_type": "code",
      "source": [
        "문제 16"
      ],
      "metadata": {
        "id": "BOnuSaIEWSXl"
      },
      "execution_count": null,
      "outputs": []
    },
    {
      "cell_type": "code",
      "source": [
        "문제 22"
      ],
      "metadata": {
        "id": "CQtgG0DxWT3U"
      },
      "execution_count": null,
      "outputs": []
    },
    {
      "cell_type": "code",
      "source": [
        "문제 24"
      ],
      "metadata": {
        "id": "OId63nmaWTwh"
      },
      "execution_count": null,
      "outputs": []
    },
    {
      "cell_type": "code",
      "source": [
        "문제 30"
      ],
      "metadata": {
        "id": "op5dwrr1WTqs"
      },
      "execution_count": null,
      "outputs": []
    },
    {
      "cell_type": "code",
      "source": [
        "문제 31"
      ],
      "metadata": {
        "id": "GzhwugeJWTmc"
      },
      "execution_count": null,
      "outputs": []
    },
    {
      "cell_type": "code",
      "source": [
        "문제 32"
      ],
      "metadata": {
        "id": "x4_4QILIWTfp"
      },
      "execution_count": null,
      "outputs": []
    },
    {
      "cell_type": "code",
      "source": [],
      "metadata": {
        "id": "lXP1U5gEWTYQ"
      },
      "execution_count": null,
      "outputs": []
    }
  ]
}