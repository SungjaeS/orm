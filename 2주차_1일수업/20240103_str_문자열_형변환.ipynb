{
  "cells": [
    {
      "cell_type": "markdown",
      "metadata": {
        "colab_type": "text",
        "id": "view-in-github"
      },
      "source": [
        "<a href=\"https://colab.research.google.com/github/SungjaeS/orm/blob/main/20240103_str_%EB%AC%B8%EC%9E%90%EC%97%B4_%ED%98%95%EB%B3%80%ED%99%98.ipynb\" target=\"_parent\"><img src=\"https://colab.research.google.com/assets/colab-badge.svg\" alt=\"Open In Colab\"/></a>"
      ]
    },
    {
      "cell_type": "code",
      "execution_count": 1,
      "metadata": {
        "id": "uzOf0zX6yI4j"
      },
      "outputs": [],
      "source": [
        "#1.1 문자열 기초\n",
        "\n",
        "x = 'hello'\n",
        "y = \"phython\"\n"
      ]
    },
    {
      "cell_type": "code",
      "execution_count": 3,
      "metadata": {
        "colab": {
          "base_uri": "https://localhost:8080/"
        },
        "id": "ExUC4pK2yYGk",
        "outputId": "ff42683c-9c17-4972-c0a7-8704b4bc74c2"
      },
      "outputs": [
        {
          "name": "stdout",
          "output_type": "stream",
          "text": [
            "hello phthon\n"
          ]
        }
      ],
      "source": [
        "print(x, y)"
      ]
    },
    {
      "cell_type": "code",
      "execution_count": 16,
      "metadata": {
        "colab": {
          "base_uri": "https://localhost:8080/"
        },
        "id": "c24zW_-iyag8",
        "outputId": "06c2215a-404e-4da8-9244-3af6ac330817"
      },
      "outputs": [
        {
          "name": "stdout",
          "output_type": "stream",
          "text": [
            "<class 'str'> <class 'str'>\n"
          ]
        }
      ],
      "source": [
        "print(type(x), type(y))"
      ]
    },
    {
      "cell_type": "code",
      "execution_count": 17,
      "metadata": {
        "colab": {
          "base_uri": "https://localhost:8080/"
        },
        "id": "LNi-mODo11Gk",
        "outputId": "861fb79c-c2ff-4935-e362-2c8ca26d8281"
      },
      "outputs": [
        {
          "name": "stdout",
          "output_type": "stream",
          "text": [
            "hellohellohello\n"
          ]
        }
      ],
      "source": [
        "print(x * 3)\n"
      ]
    },
    {
      "cell_type": "code",
      "execution_count": 12,
      "metadata": {
        "colab": {
          "base_uri": "https://localhost:8080/",
          "height": 35
        },
        "id": "9lYNEszkyfmj",
        "outputId": "dd5afe0f-20be-4757-f276-ce3d0652099f"
      },
      "outputs": [
        {
          "data": {
            "application/vnd.google.colaboratory.intrinsic+json": {
              "type": "string"
            },
            "text/plain": [
              "'\\n안녕하세요\\n파이선\\n좋흐아요.\\n'"
            ]
          },
          "execution_count": 12,
          "metadata": {},
          "output_type": "execute_result"
        }
      ],
      "source": [
        "'''\n",
        "안녕하세요\n",
        "파이선\n",
        "좋아아요.\n",
        "'''\n",
        "\n",
        "\"\"\"\n",
        "안녕하세요\n",
        "파이선\n",
        "좋흐아요.\n",
        "\"\"\""
      ]
    },
    {
      "cell_type": "code",
      "execution_count": 14,
      "metadata": {
        "colab": {
          "base_uri": "https://localhost:8080/",
          "height": 35
        },
        "id": "HuOVHKPfzByP",
        "outputId": "b7439034-9e9a-4554-b85e-e3c522786605"
      },
      "outputs": [
        {
          "data": {
            "application/vnd.google.colaboratory.intrinsic+json": {
              "type": "string"
            },
            "text/plain": [
              "'안녕하세요.\\n저는 위니브의 대표 이호준입니다.\\n파이썬 참 좋아요.\\n여러분 정말 잘 선택하셨어요.\\n'"
            ]
          },
          "execution_count": 14,
          "metadata": {},
          "output_type": "execute_result"
        }
      ],
      "source": [
        "'''안녕하세요.\n",
        "저는 위니브의 대표 이호준입니다.\n",
        "파이썬 참 좋아요.\n",
        "여러분 정말 잘 선택하셨어요.\n",
        "'''"
      ]
    },
    {
      "cell_type": "code",
      "execution_count": 15,
      "metadata": {
        "colab": {
          "base_uri": "https://localhost:8080/",
          "height": 35
        },
        "id": "VL6QFAzozDAB",
        "outputId": "e031ca2c-0e7f-4951-b77b-035dc078a3ff"
      },
      "outputs": [
        {
          "data": {
            "application/vnd.google.colaboratory.intrinsic+json": {
              "type": "string"
            },
            "text/plain": [
              "'안녕하세요.\\n저는 위니브의 대표 이호준입니다.\\n파이썬 참 좋아요.\\n여러분 정말 잘 선택하셨어요.\\n'"
            ]
          },
          "execution_count": 15,
          "metadata": {},
          "output_type": "execute_result"
        }
      ],
      "source": [
        "\"\"\"안녕하세요.\n",
        "저는 위니브의 대표 이호준입니다.\n",
        "파이썬 참 좋아요.\n",
        "여러분 정말 잘 선택하셨어요.\n",
        "\"\"\""
      ]
    },
    {
      "cell_type": "code",
      "execution_count": 10,
      "metadata": {
        "id": "M59h882pzFas"
      },
      "outputs": [],
      "source": [
        "i = '''안녕하세요.\n",
        "저는 위니브의 대표 이호준입니다.\n",
        "파이썬 참 좋아요.\n",
        "여러분 정말 잘 선택하셨어요.\n",
        "'''\n",
        "j = \"\"\"안녕하세요.\n",
        "저는 위니브의 대표 이호준입니다.\n",
        "파이썬 참 좋아요.\n",
        "여러분 정말 잘 선택하셨어요.\n",
        "\"\"\"\n"
      ]
    },
    {
      "cell_type": "code",
      "execution_count": 19,
      "metadata": {
        "colab": {
          "base_uri": "https://localhost:8080/"
        },
        "id": "1mle9tCAzqyk",
        "outputId": "7ac244b0-fd86-45ff-aa33-c161badf435c"
      },
      "outputs": [
        {
          "name": "stdout",
          "output_type": "stream",
          "text": [
            "helloworld\n",
            "1020\n",
            "hellohellohello\n"
          ]
        }
      ],
      "source": [
        "# 1.2 문자열 덧셈, 곱셈\n",
        "\n",
        "# 문자열의 덧셈\n",
        "\n",
        "x = 'hello'\n",
        "y = 'world'\n",
        "print(x + y)\n",
        "\n",
        "x = '10'\n",
        "y = '20'\n",
        "print(x + y)\n",
        "\n",
        "x = 'hello'\n",
        "print(x *3)"
      ]
    },
    {
      "cell_type": "code",
      "execution_count": 29,
      "metadata": {
        "colab": {
          "base_uri": "https://localhost:8080/"
        },
        "id": "RS9cOPe02bi0",
        "outputId": "e7b6608b-8af2-4c70-dc12-de5eea4929d5"
      },
      "outputs": [
        {
          "name": "stdout",
          "output_type": "stream",
          "text": [
            "위\n",
            "브\n",
            "월\n",
            "!\n",
            "!\n",
            "위니브 월\n",
            "위니브 월드!\n",
            "위브월\n"
          ]
        }
      ],
      "source": [
        "\n",
        "# 1.3 문자열 인덱싱\n",
        "\n",
        "#    0  12 34 5 6\n",
        "s = '위니브 월드!'\n",
        "print(s[0]) # 출력 : '위'\n",
        "print(s[2]) # 출력 : '위'\n",
        "print(s[4]) # 출력 : '위'\n",
        "\n",
        "print(s[6]) # 출력 : '!'\n",
        "print(s[-1]) # 출력 : '!' 보통 마지막걸 가져오고 싶으면 마이너스 사용\n",
        "\n",
        "print(s[0:5])\n",
        "print(s[0:])\n",
        "print(s[0:6:2])\n",
        "\n"
      ]
    },
    {
      "cell_type": "code",
      "execution_count": 31,
      "metadata": {
        "colab": {
          "base_uri": "https://localhost:8080/"
        },
        "id": "Io4LPbtR3Ibt",
        "outputId": "b680cd59-0490-438b-d370-72b0c833ac94"
      },
      "outputs": [
        {
          "name": "stdout",
          "output_type": "stream",
          "text": [
            "CEO licat\n",
            "weniv CEO licat\n",
            "tacil OEC vinew\n",
            "wnvCOlct\n"
          ]
        }
      ],
      "source": [
        "s = 'weniv CEO licat'\n",
        "print(s[6:]) # 출력 : CEO licat === 6번에서 끝까지\n",
        "print(s[:]) # 출력 : weniv CEO licat === 전체 출력\n",
        "print(s[::-1]) # 출력 : tacil OEC vinew === 거꾸로 출력됨\n",
        "print(s[::2]) # 출력 : wnvCOlct === 0부터 2번째들만 출력됨"
      ]
    },
    {
      "cell_type": "code",
      "execution_count": 33,
      "metadata": {
        "colab": {
          "base_uri": "https://localhost:8080/"
        },
        "id": "_z7A3wyY6T3m",
        "outputId": "7df51613-8d42-4b9c-a5cb-a53fe7eb2059"
      },
      "outputs": [
        {
          "name": "stdout",
          "output_type": "stream",
          "text": [
            "weniv_licat\n",
            "weniv_licat\n"
          ]
        }
      ],
      "source": [
        "s = 'weniv_licat.png'\n",
        "\n",
        "print(s[:11])\n",
        "print(s[:-4])"
      ]
    },
    {
      "cell_type": "code",
      "execution_count": 38,
      "metadata": {
        "colab": {
          "base_uri": "https://localhost:8080/"
        },
        "id": "AGoyQB0F6jPG",
        "outputId": "5b9a64f5-a3b7-4f0f-f54e-c0dc709a211a"
      },
      "outputs": [
        {
          "name": "stdout",
          "output_type": "stream",
          "text": [
            "pn\n",
            "png\n"
          ]
        }
      ],
      "source": [
        "s = 'weniv_licat.png' #  png만 나오게 해보자\n",
        "\n",
        "print(s[-3:-1])  # -1 은 포함이 안됨 거꾸로 해도 마찬가지\n",
        "print(s[-3:])  # png 만 표출됨 뒤는 비워두는게 좋다"
      ]
    },
    {
      "cell_type": "code",
      "execution_count": 40,
      "metadata": {
        "colab": {
          "base_uri": "https://localhost:8080/"
        },
        "id": "06PQQ5Rb8D8Q",
        "outputId": "f44199b0-e782-4189-ba14-625546215a62"
      },
      "outputs": [
        {
          "name": "stdout",
          "output_type": "stream",
          "text": [
            "132417144443584 132417144445312\n"
          ]
        }
      ],
      "source": [
        "# 1.5 슬라이스 복사 - 다만 ID가 달라짐.\n",
        "\n",
        "s = [1, 2, 3]\n",
        "ss = s[:]\n",
        "\n",
        "print(id(s), id(ss)) # 출력: 133344882907520 133344882906560"
      ]
    },
    {
      "cell_type": "code",
      "execution_count": 42,
      "metadata": {
        "colab": {
          "base_uri": "https://localhost:8080/",
          "height": 35
        },
        "id": "Cc_-pToa8oMF",
        "outputId": "f97bc712-eb49-435b-ef9d-77ab99a4a0ec"
      },
      "outputs": [
        {
          "data": {
            "application/vnd.google.colaboratory.intrinsic+json": {
              "type": "string"
            },
            "text/plain": [
              "'WENIV CEO LICAT'"
            ]
          },
          "execution_count": 42,
          "metadata": {},
          "output_type": "execute_result"
        }
      ],
      "source": [
        "# 3. 문자열 메서드\n",
        "\n",
        "## 3.1 lower( ) / upper( )\n",
        "\n",
        "s = 'weniv CEO licat'\n",
        "s.lower() #전체를 소문자로 바꿔주는 method\n",
        "s.upper() #전체를 대문자로 바꿔주는 method"
      ]
    },
    {
      "cell_type": "code",
      "execution_count": 44,
      "metadata": {
        "colab": {
          "base_uri": "https://localhost:8080/",
          "height": 35
        },
        "id": "VSopWwFc841Q",
        "outputId": "d74c6709-53af-433d-afb7-deae7eb590b7"
      },
      "outputs": [
        {
          "data": {
            "application/vnd.google.colaboratory.intrinsic+json": {
              "type": "string"
            },
            "text/plain": [
              "'weniv ceo licat'"
            ]
          },
          "execution_count": 44,
          "metadata": {},
          "output_type": "execute_result"
        }
      ],
      "source": [
        "s = 'weniv CEO licat'\n",
        "s.lower() #전체를 소문자로 바꿔주는 method"
      ]
    },
    {
      "cell_type": "code",
      "execution_count": 46,
      "metadata": {
        "colab": {
          "base_uri": "https://localhost:8080/",
          "height": 203
        },
        "id": "5IrRPPju9AMC",
        "outputId": "f6cd8536-8a78-4f8a-8831-984af7610ec5"
      },
      "outputs": [
        {
          "ename": "ValueError",
          "evalue": "ignored",
          "output_type": "error",
          "traceback": [
            "\u001b[0;31m---------------------------------------------------------------------------\u001b[0m",
            "\u001b[0;31mValueError\u001b[0m                                Traceback (most recent call last)",
            "\u001b[0;32m<ipython-input-46-97c2ec309699>\u001b[0m in \u001b[0;36m<cell line: 2>\u001b[0;34m()\u001b[0m\n\u001b[1;32m      1\u001b[0m \u001b[0ms\u001b[0m \u001b[0;34m=\u001b[0m \u001b[0;34m'weniv CEO licat'\u001b[0m\u001b[0;34m\u001b[0m\u001b[0;34m\u001b[0m\u001b[0m\n\u001b[0;32m----> 2\u001b[0;31m \u001b[0ms\u001b[0m\u001b[0;34m.\u001b[0m\u001b[0mindex\u001b[0m\u001b[0;34m(\u001b[0m\u001b[0;34m'CTO'\u001b[0m\u001b[0;34m)\u001b[0m\u001b[0;34m\u001b[0m\u001b[0;34m\u001b[0m\u001b[0m\n\u001b[0m",
            "\u001b[0;31mValueError\u001b[0m: substring not found"
          ]
        }
      ],
      "source": [
        "s = 'weniv CEO licat'\n",
        "s.index('CTO') # 인덱스 메서드는 찾는 문자열이 없는경우 에러가남.\n"
      ]
    },
    {
      "cell_type": "code",
      "execution_count": 47,
      "metadata": {
        "colab": {
          "base_uri": "https://localhost:8080/"
        },
        "id": "q7R2sH1F9D8n",
        "outputId": "dffebfc3-7239-4926-dca1-01632bc3bc10"
      },
      "outputs": [
        {
          "data": {
            "text/plain": [
              "-1"
            ]
          },
          "execution_count": 47,
          "metadata": {},
          "output_type": "execute_result"
        }
      ],
      "source": [
        "s = 'weniv CEO licat'\n",
        "s.find('CTO') # 파인드는 못찾아도 -1 만 표출함.\n"
      ]
    },
    {
      "cell_type": "code",
      "execution_count": 51,
      "metadata": {
        "colab": {
          "base_uri": "https://localhost:8080/"
        },
        "id": "BNYrDY4z9ezp",
        "outputId": "e99cb064-fe18-4f0b-ce9c-452ed66d40ef"
      },
      "outputs": [
        {
          "data": {
            "text/plain": [
              "10"
            ]
          },
          "execution_count": 51,
          "metadata": {},
          "output_type": "execute_result"
        }
      ],
      "source": [
        "s = 'weniv CEO licat'\n",
        "s.find('CEO') #문자열을 찾아주는 method\n",
        "s.index('licat')"
      ]
    },
    {
      "cell_type": "code",
      "execution_count": 52,
      "metadata": {
        "colab": {
          "base_uri": "https://localhost:8080/"
        },
        "id": "GD-zHiOp9lVn",
        "outputId": "6868087b-9c4e-4f8d-f3b2-a179cfb8a13f"
      },
      "outputs": [
        {
          "data": {
            "text/plain": [
              "2"
            ]
          },
          "execution_count": 52,
          "metadata": {},
          "output_type": "execute_result"
        }
      ],
      "source": [
        "s = 'weniv CEO licat'\n",
        "s.count('i') #문자열이나 숫자를 셀 때 사용"
      ]
    },
    {
      "cell_type": "code",
      "execution_count": 53,
      "metadata": {
        "colab": {
          "base_uri": "https://localhost:8080/",
          "height": 35
        },
        "id": "ABJ4GOPE90tg",
        "outputId": "918457cb-9bd8-424c-ffae-39cdb3fb423e"
      },
      "outputs": [
        {
          "data": {
            "application/vnd.google.colaboratory.intrinsic+json": {
              "type": "string"
            },
            "text/plain": [
              "'weniv CEO licat'"
            ]
          },
          "execution_count": 53,
          "metadata": {},
          "output_type": "execute_result"
        }
      ],
      "source": [
        "s = '    weniv CEO licat     '\n",
        "s.strip() #양쪽 공백을 제거하는 method\n",
        "\n",
        "# 간혹 미세히 조정안되는 경우가 생겨 100% 신뢰는 하지말고 체크해야함."
      ]
    },
    {
      "cell_type": "code",
      "execution_count": 54,
      "metadata": {
        "colab": {
          "base_uri": "https://localhost:8080/",
          "height": 35
        },
        "id": "Vsi4b_O6-Sez",
        "outputId": "f620b3b8-e7cc-4a1c-964f-58e58d52657b"
      },
      "outputs": [
        {
          "data": {
            "application/vnd.google.colaboratory.intrinsic+json": {
              "type": "string"
            },
            "text/plain": [
              "'hello world'"
            ]
          },
          "execution_count": 54,
          "metadata": {},
          "output_type": "execute_result"
        }
      ],
      "source": [
        "'    ,!!  hello world   '.strip(' ,!')\n",
        "#양쪽의 공백과 ',!'을 제거해주는 method"
      ]
    },
    {
      "cell_type": "code",
      "execution_count": 56,
      "metadata": {
        "colab": {
          "base_uri": "https://localhost:8080/",
          "height": 35
        },
        "id": "zMC94tAE-lnF",
        "outputId": "a85cea3e-f5b5-4caa-8cd8-7e22383d75a7"
      },
      "outputs": [
        {
          "data": {
            "application/vnd.google.colaboratory.intrinsic+json": {
              "type": "string"
            },
            "text/plain": [
              "'weniv CTO licat'"
            ]
          },
          "execution_count": 56,
          "metadata": {},
          "output_type": "execute_result"
        }
      ],
      "source": [
        "s = 'weniv CEO licat'\n",
        "s.replace('CEO', 'CTO') #원하는 문자열을 다른 문자열로 대체할 때 사용하는 method"
      ]
    },
    {
      "cell_type": "code",
      "execution_count": 57,
      "metadata": {
        "colab": {
          "base_uri": "https://localhost:8080/",
          "height": 35
        },
        "id": "4mei-VIE_HVp",
        "outputId": "33655156-308a-4f56-fcc6-beb5c01a488a"
      },
      "outputs": [
        {
          "data": {
            "application/vnd.google.colaboratory.intrinsic+json": {
              "type": "string"
            },
            "text/plain": [
              "'weniv CTO licat'"
            ]
          },
          "execution_count": 57,
          "metadata": {},
          "output_type": "execute_result"
        }
      ],
      "source": [
        "'weniv CEO licat'.replace('CEO', 'CTO')\n"
      ]
    },
    {
      "cell_type": "code",
      "execution_count": 58,
      "metadata": {
        "colab": {
          "base_uri": "https://localhost:8080/",
          "height": 35
        },
        "id": "A7C3sS3T_PLs",
        "outputId": "27bfcea4-f5e3-403a-ffea-304cfc5ae6c0"
      },
      "outputs": [
        {
          "data": {
            "application/vnd.google.colaboratory.intrinsic+json": {
              "type": "string"
            },
            "text/plain": [
              "'wenIv CEO lIcat'"
            ]
          },
          "execution_count": 58,
          "metadata": {},
          "output_type": "execute_result"
        }
      ],
      "source": [
        "s = 'weniv CEO licat'\n",
        "s.replace('i', 'I') #문자열 내에서 모든 i를 I로 대체할 때 사용하는 method\n",
        "\n",
        "# 이렇게 수정된 문자열이 원본에 반영되지 않는다는 사실을 기억."
      ]
    },
    {
      "cell_type": "code",
      "execution_count": 59,
      "metadata": {
        "colab": {
          "base_uri": "https://localhost:8080/"
        },
        "id": "0_e3C3RK_fgm",
        "outputId": "47357853-3479-45b7-b038-770de9906f9c"
      },
      "outputs": [
        {
          "data": {
            "text/plain": [
              "('wenIv CEO lIcat', 'weniv CEO licat')"
            ]
          },
          "execution_count": 59,
          "metadata": {},
          "output_type": "execute_result"
        }
      ],
      "source": [
        "s = 'weniv CEO licat'\n",
        "ss = s.replace('i', 'I')\n",
        "ss, s # 출력: ('weniv CEO licat', 'wenIv CEO lIcat')"
      ]
    },
    {
      "cell_type": "code",
      "execution_count": 64,
      "metadata": {
        "colab": {
          "base_uri": "https://localhost:8080/"
        },
        "id": "rXCc7d_s_31q",
        "outputId": "bb3a73b6-4587-48ee-e8af-24c81869c564"
      },
      "outputs": [
        {
          "name": "stdout",
          "output_type": "stream",
          "text": [
            "['weniv', 'CEO', 'licat']\n",
            "['weniv', 'CEO', 'licat']\n"
          ]
        }
      ],
      "source": [
        "## 스플릿 split과 join 매서드\n",
        "## 스플릿은 리스트 형태로 사용하게 된다\n",
        "\n",
        "\n",
        "s = 'weniv CEO licat'\n",
        "print(s.split()) #공백을 기준으로 문자열 나누기\n",
        "\n",
        "a = 'weniv-CEO-licat'\n",
        "print(a.split('-')) #-을 기준으로 문자열 나누기\n",
        "\n"
      ]
    },
    {
      "cell_type": "code",
      "execution_count": 65,
      "metadata": {
        "colab": {
          "base_uri": "https://localhost:8080/",
          "height": 35
        },
        "id": "8SPRe9szAYuz",
        "outputId": "412336e3-ec6f-42bd-b7e9-9db1189c7cf8"
      },
      "outputs": [
        {
          "data": {
            "application/vnd.google.colaboratory.intrinsic+json": {
              "type": "string"
            },
            "text/plain": [
              "'weniv-CEO-licat'"
            ]
          },
          "execution_count": 65,
          "metadata": {},
          "output_type": "execute_result"
        }
      ],
      "source": [
        "s = ['weniv', 'CEO', 'licat']\n",
        "'-'.join(s) #리스트를 하나의 문자열로 합치기"
      ]
    },
    {
      "cell_type": "code",
      "execution_count": 67,
      "metadata": {
        "colab": {
          "base_uri": "https://localhost:8080/",
          "height": 35
        },
        "id": "MaNhFIUkErYp",
        "outputId": "7649e821-e25b-4e0a-efdc-066f671cca82"
      },
      "outputs": [
        {
          "data": {
            "application/vnd.google.colaboratory.intrinsic+json": {
              "type": "string"
            },
            "text/plain": [
              "'010-1000-1000'"
            ]
          },
          "execution_count": 67,
          "metadata": {},
          "output_type": "execute_result"
        }
      ],
      "source": [
        "s = '010 1000 1000'\n",
        "'-'.join(s.split()) #공백을 기준으로 문자열을 나눈 후 '-'로 합치기\n",
        "#s 값에 대해서 괄호안에 있는 스플릿으로 데이터 리스트를 만든호 괄호 밖에 있는 조인 매서드를 사용해 -\n",
        "#스플릿되었던 데이터 값에대해 조인시킨다."
      ]
    },
    {
      "cell_type": "code",
      "execution_count": 71,
      "metadata": {
        "colab": {
          "base_uri": "https://localhost:8080/"
        },
        "id": "gCnv6rR_HwTu",
        "outputId": "68afa2f4-47bc-4a00-f718-9b76efd70e48"
      },
      "outputs": [
        {
          "name": "stdout",
          "output_type": "stream",
          "text": [
            "제 이름은 licat이고, 나이는 29살입니다.\n",
            "제 이름은 licat이고, 나이는 29살입니다.\n"
          ]
        }
      ],
      "source": [
        "name = 'licat'\n",
        "age = 29\n",
        "\n",
        "print('제 이름은 {}이고, 나이는 {}살입니다.'.format(name, age))\n",
        "print(f'제 이름은 {name}이고, 나이는 {age}살입니다.')  # 더 일반적임"
      ]
    },
    {
      "cell_type": "code",
      "execution_count": 72,
      "metadata": {
        "colab": {
          "base_uri": "https://localhost:8080/",
          "height": 35
        },
        "id": "PjgPSqgjHw-f",
        "outputId": "2a3e896e-a8f9-4585-bb99-08d88556825b"
      },
      "outputs": [
        {
          "data": {
            "application/vnd.google.colaboratory.intrinsic+json": {
              "type": "string"
            },
            "text/plain": [
              "'-----licat'"
            ]
          },
          "execution_count": 72,
          "metadata": {},
          "output_type": "execute_result"
        }
      ],
      "source": [
        "s = 'licat'\n",
        "s.rjust(10, '-') #문자열을 지정한 길이로 맞추고, 지정된 s값이 10칸중 오른쪽으로 간다."
      ]
    },
    {
      "cell_type": "code",
      "execution_count": 73,
      "metadata": {
        "colab": {
          "base_uri": "https://localhost:8080/",
          "height": 35
        },
        "id": "sNGqFP9TJcVb",
        "outputId": "0754a9e5-6fc0-41e4-fe0c-284aa81b72aa"
      },
      "outputs": [
        {
          "data": {
            "application/vnd.google.colaboratory.intrinsic+json": {
              "type": "string"
            },
            "text/plain": [
              "'licat-----'"
            ]
          },
          "execution_count": 73,
          "metadata": {},
          "output_type": "execute_result"
        }
      ],
      "source": [
        "s = 'licat'\n",
        "s.ljust(10, '-') #문자열을 지정한 길이로 맞추고, 지정된 s값이 10칸중 왼쪽으로 간다."
      ]
    },
    {
      "cell_type": "code",
      "execution_count": 74,
      "metadata": {
        "colab": {
          "base_uri": "https://localhost:8080/",
          "height": 35
        },
        "id": "LW_vzRRWJdhA",
        "outputId": "e2625e0f-d05d-42b3-c273-89ab50ac9709"
      },
      "outputs": [
        {
          "data": {
            "application/vnd.google.colaboratory.intrinsic+json": {
              "type": "string"
            },
            "text/plain": [
              "'841212-1******'"
            ]
          },
          "execution_count": 74,
          "metadata": {},
          "output_type": "execute_result"
        }
      ],
      "source": [
        "s = '841212-1'\n",
        "s.ljust(14,'*')"
      ]
    },
    {
      "cell_type": "code",
      "execution_count": 76,
      "metadata": {
        "colab": {
          "base_uri": "https://localhost:8080/",
          "height": 35
        },
        "id": "lFoYGjLwKLcJ",
        "outputId": "ac634178-af49-41f5-ce34-a15fd54cc01b"
      },
      "outputs": [
        {
          "data": {
            "application/vnd.google.colaboratory.intrinsic+json": {
              "type": "string"
            },
            "text/plain": [
              "'-----licat------'"
            ]
          },
          "execution_count": 76,
          "metadata": {},
          "output_type": "execute_result"
        }
      ],
      "source": [
        "s = 'licat'\n",
        "s.center(16, '-') #문자열을 지정한 길이로 맞추고, 양쪽을 '-'로 채우는 method 짝이 맞지않으면 오른쪽을 먼저 하나더줌"
      ]
    },
    {
      "cell_type": "code",
      "execution_count": 77,
      "metadata": {
        "colab": {
          "base_uri": "https://localhost:8080/"
        },
        "id": "GaV3FXPoMYrA",
        "outputId": "96fe526c-d522-4fbe-8c2c-21df0d93e670"
      },
      "outputs": [
        {
          "name": "stdout",
          "output_type": "stream",
          "text": [
            "00042\n"
          ]
        }
      ],
      "source": [
        "x = \"42\"\n",
        "result = x.zfill(5)\n",
        "print(result)  # 00042, csv 와 파이썬 사이 데이터 스왑시 필요할수 있다,"
      ]
    },
    {
      "cell_type": "code",
      "execution_count": 78,
      "metadata": {
        "colab": {
          "base_uri": "https://localhost:8080/"
        },
        "id": "AGb-Gs2qNhIf",
        "outputId": "98613452-7ec9-4c6a-eff3-ebeb442428cd"
      },
      "outputs": [
        {
          "name": "stdout",
          "output_type": "stream",
          "text": [
            "-0042\n"
          ]
        }
      ],
      "source": [
        "x = \"-42\"\n",
        "result = x.zfill(5)\n",
        "print(result)  # 00042, csv 와 파이썬 사이 데이터 스왑시 필요할수 있다,"
      ]
    },
    {
      "cell_type": "code",
      "execution_count": 80,
      "metadata": {
        "colab": {
          "base_uri": "https://localhost:8080/"
        },
        "id": "CbiBTeh6Nnee",
        "outputId": "e8c4c574-10b2-4eb5-96a2-0819e2d431b5"
      },
      "outputs": [
        {
          "name": "stdout",
          "output_type": "stream",
          "text": [
            "00000에이비씨디\n"
          ]
        }
      ],
      "source": [
        "x = \"에이비씨디\"\n",
        "result = x.zfill(10)\n",
        "print(result)  # 00042, csv 와 파이썬 사이 데이터 스왑시 필요할수 있다,"
      ]
    },
    {
      "cell_type": "code",
      "execution_count": 83,
      "metadata": {
        "colab": {
          "base_uri": "https://localhost:8080/"
        },
        "id": "2Q6daGqWNs5A",
        "outputId": "cee684f8-a5c0-4b45-890c-5d6f7b3a4351"
      },
      "outputs": [
        {
          "name": "stdout",
          "output_type": "stream",
          "text": [
            "2398\n",
            "230908\n"
          ]
        }
      ],
      "source": [
        "년 = '23'\n",
        "월 = '9'\n",
        "일 = '8'\n",
        "오늘날짜 = 년 + 월 + 일\n",
        "print(오늘날짜)\n",
        "오늘날짜 = 년 + 월.zfill(2) + 일.zfill(2)\n",
        "print(오늘날짜)  #  이렇게 넣어주면 데이터 길이를 유지할수있다."
      ]
    },
    {
      "cell_type": "code",
      "execution_count": 84,
      "metadata": {
        "id": "sl0GHi-VOpmp"
      },
      "outputs": [],
      "source": [
        "# translate\n",
        "\n",
        "# 변환 테이블 생성\n",
        "table = str.maketrans(\"abc\", \"123\")"
      ]
    },
    {
      "cell_type": "code",
      "execution_count": 85,
      "metadata": {
        "colab": {
          "base_uri": "https://localhost:8080/"
        },
        "id": "rYI8Sz-nOk80",
        "outputId": "d8c2e61e-6f80-4a1c-ba3d-703c0adfec48"
      },
      "outputs": [
        {
          "name": "stdout",
          "output_type": "stream",
          "text": [
            "123de\n"
          ]
        }
      ],
      "source": [
        "text = \"abcde\"\n",
        "result = text.translate(table)\n",
        "print(result)  # 123de"
      ]
    },
    {
      "cell_type": "code",
      "execution_count": 87,
      "metadata": {
        "colab": {
          "base_uri": "https://localhost:8080/"
        },
        "id": "ckAL9ifWOKKs",
        "outputId": "ad0262d2-e949-48a6-a2c3-e26341f1a3c6"
      },
      "outputs": [
        {
          "name": "stdout",
          "output_type": "stream",
          "text": [
            "abc\n"
          ]
        }
      ],
      "source": [
        "# 'd'와 'e' 문자 제거하기\n",
        "table = str.maketrans('', '', 'de')\n",
        "text = \"abcdedddddddddddddddddddddddddddddeeeeeeeeeeeeeeeeeeee\"\n",
        "result = text.translate(table)\n",
        "print(result)  # abc"
      ]
    },
    {
      "cell_type": "code",
      "execution_count": 88,
      "metadata": {
        "colab": {
          "base_uri": "https://localhost:8080/",
          "height": 35
        },
        "id": "nSTJZERjSLpn",
        "outputId": "ac57567a-91ab-4256-8bcc-18eda6458730"
      },
      "outputs": [
        {
          "data": {
            "application/vnd.google.colaboratory.intrinsic+json": {
              "type": "string"
            },
            "text/plain": [
              "'weniv     CEO     licat'"
            ]
          },
          "execution_count": 88,
          "metadata": {},
          "output_type": "execute_result"
        }
      ],
      "source": [
        "table = str.maketrans('\\n\\t', '  ') # 똑같은 길이를 가지고 있어야 함\n",
        "'weniv \\n\\n\\n CEO \\t\\t\\t licat'.translate(table)"
      ]
    },
    {
      "cell_type": "code",
      "execution_count": 89,
      "metadata": {
        "colab": {
          "base_uri": "https://localhost:8080/"
        },
        "id": "XrjsKjP4Ssxy",
        "outputId": "7e3045e5-fe4a-47e8-8b83-09e6b70a7b13"
      },
      "outputs": [
        {
          "name": "stdout",
          "output_type": "stream",
          "text": [
            "My name is licat\n"
          ]
        }
      ],
      "source": [
        "name = 'licat'\n",
        "s = f'My name is {name}'\n",
        "print(s) # My name is licat"
      ]
    },
    {
      "cell_type": "code",
      "execution_count": 94,
      "metadata": {
        "colab": {
          "base_uri": "https://localhost:8080/"
        },
        "id": "_pRGZ_tlTC4q",
        "outputId": "f9561e4a-f22e-4204-f2c8-60e5fe92ec09"
      },
      "outputs": [
        {
          "name": "stdout",
          "output_type": "stream",
          "text": [
            "cat, 39!\n"
          ]
        }
      ],
      "source": [
        "name = 'licat'\n",
        "age = 29\n",
        "s = f'{name[2:]}, {age+10}!'\n",
        "print(s) # licat, 39!"
      ]
    },
    {
      "cell_type": "code",
      "execution_count": 95,
      "metadata": {
        "colab": {
          "base_uri": "https://localhost:8080/"
        },
        "id": "E4Aq3XSLTxPn",
        "outputId": "ffe14e46-09d4-4853-b4f1-91be4bcdeb5b"
      },
      "outputs": [
        {
          "name": "stdout",
          "output_type": "stream",
          "text": [
            "cat, 39!\n"
          ]
        }
      ],
      "source": [
        "name = 'licat'\n",
        "age = 29\n",
        "s = f'{name[2:5]}, {age+10}!'\n",
        "print(s) # licat, 39!"
      ]
    },
    {
      "cell_type": "code",
      "execution_count": 96,
      "metadata": {
        "colab": {
          "base_uri": "https://localhost:8080/"
        },
        "id": "VE20wbFkTh7r",
        "outputId": "468dcb00-1bf5-4ccf-dcaf-51a4ca020de4"
      },
      "outputs": [
        {
          "name": "stdout",
          "output_type": "stream",
          "text": [
            "Hello\n",
            "World!\n",
            "Hello\tWorld!\n",
            "She said, \"Hello World!\"\n",
            "She said, 'Hello World!'\n",
            "Backslash: \\\n"
          ]
        }
      ],
      "source": [
        "# 1.15 이스케이프\n",
        "print(\"Hello\\nWorld!\") # Hello와 World! 사이에 줄바꿈이 일어납니다.\n",
        "print(\"Hello\\tWorld!\") # Hello와 World! 사이에 탭 간격이 생깁니다.\n",
        "print(\"She said, \\\"Hello World!\\\"\") # 큰따옴표 내부에 문자열을 출력합니다.\n",
        "print('She said, \\'Hello World!\\'') # 작은따옴표 내부에 문자열을 출력합니다.\n",
        "print(\"Backslash: \\\\\") # 백슬래시를 출력합니다.\n"
      ]
    },
    {
      "cell_type": "code",
      "execution_count": 97,
      "metadata": {
        "colab": {
          "base_uri": "https://localhost:8080/",
          "height": 147
        },
        "id": "tZFV_zsqT5ve",
        "outputId": "f9ed79a8-82c4-461c-f6da-f9a51b1010f9"
      },
      "outputs": [
        {
          "ename": "SyntaxError",
          "evalue": "ignored",
          "output_type": "error",
          "traceback": [
            "\u001b[0;36m  File \u001b[0;32m\"<ipython-input-97-0bf2fa63118f>\"\u001b[0;36m, line \u001b[0;32m3\u001b[0m\n\u001b[0;31m    true 와 false 를 표현\u001b[0m\n\u001b[0m         ^\u001b[0m\n\u001b[0;31mSyntaxError\u001b[0m\u001b[0;31m:\u001b[0m invalid syntax\n"
          ]
        }
      ],
      "source": [
        "# 논리(bool) 자료형\n",
        "\n",
        "true 와 false 를 표현\n",
        "\n",
        "수학자 죠지 불e의 이름을 따와 표현"
      ]
    },
    {
      "cell_type": "code",
      "execution_count": 98,
      "metadata": {
        "colab": {
          "base_uri": "https://localhost:8080/"
        },
        "id": "ymOtJB1yTfwx",
        "outputId": "c2fb30bb-3ea6-4ee6-835d-5ddbfe3b2bb2"
      },
      "outputs": [
        {
          "name": "stdout",
          "output_type": "stream",
          "text": [
            "True False True\n"
          ]
        }
      ],
      "source": [
        "x = True\n",
        "y = False\n",
        "z = 10 > 3\n",
        "print(x, y, z)"
      ]
    },
    {
      "cell_type": "code",
      "execution_count": 99,
      "metadata": {
        "colab": {
          "base_uri": "https://localhost:8080/"
        },
        "id": "cvxXex2UXr6h",
        "outputId": "53b299c0-4624-4b6b-e9db-49a5e348917e"
      },
      "outputs": [
        {
          "name": "stdout",
          "output_type": "stream",
          "text": [
            "True\n",
            "True\n"
          ]
        }
      ],
      "source": [
        "print(True == 1) # 출력: True\n",
        "print(False == 0) # 출력: True"
      ]
    },
    {
      "cell_type": "code",
      "execution_count": 100,
      "metadata": {
        "colab": {
          "base_uri": "https://localhost:8080/",
          "height": 294
        },
        "id": "WWv_l0ypTdW8",
        "outputId": "f461cdd3-fecb-4730-8f27-dcd998198695"
      },
      "outputs": [
        {
          "name": "stdout",
          "output_type": "stream",
          "text": [
            "2\n",
            "-1\n",
            "1.0\n",
            "0\n"
          ]
        },
        {
          "ename": "ZeroDivisionError",
          "evalue": "ignored",
          "output_type": "error",
          "traceback": [
            "\u001b[0;31m---------------------------------------------------------------------------\u001b[0m",
            "\u001b[0;31mZeroDivisionError\u001b[0m                         Traceback (most recent call last)",
            "\u001b[0;32m<ipython-input-100-86651a28a8bd>\u001b[0m in \u001b[0;36m<cell line: 5>\u001b[0;34m()\u001b[0m\n\u001b[1;32m      3\u001b[0m \u001b[0mprint\u001b[0m\u001b[0;34m(\u001b[0m\u001b[0;32mTrue\u001b[0m \u001b[0;34m/\u001b[0m \u001b[0;32mTrue\u001b[0m\u001b[0;34m)\u001b[0m \u001b[0;31m# 출력: 1.0\u001b[0m\u001b[0;34m\u001b[0m\u001b[0;34m\u001b[0m\u001b[0m\n\u001b[1;32m      4\u001b[0m \u001b[0mprint\u001b[0m\u001b[0;34m(\u001b[0m\u001b[0;32mTrue\u001b[0m \u001b[0;34m*\u001b[0m \u001b[0;32mFalse\u001b[0m\u001b[0;34m)\u001b[0m \u001b[0;31m# 출력: 0\u001b[0m\u001b[0;34m\u001b[0m\u001b[0;34m\u001b[0m\u001b[0m\n\u001b[0;32m----> 5\u001b[0;31m \u001b[0mprint\u001b[0m\u001b[0;34m(\u001b[0m\u001b[0;32mTrue\u001b[0m \u001b[0;34m/\u001b[0m \u001b[0;32mFalse\u001b[0m\u001b[0;34m)\u001b[0m \u001b[0;31m# error\u001b[0m\u001b[0;34m\u001b[0m\u001b[0;34m\u001b[0m\u001b[0m\n\u001b[0m",
            "\u001b[0;31mZeroDivisionError\u001b[0m: division by zero"
          ]
        }
      ],
      "source": [
        "print(True + True) # 출력: 2\n",
        "print(False - True) # 출력: -1\n",
        "print(True / True) # 출력: 1.0\n",
        "print(True * False) # 출력: 0\n",
        "print(True / False) # error"
      ]
    },
    {
      "cell_type": "code",
      "execution_count": 101,
      "metadata": {
        "colab": {
          "base_uri": "https://localhost:8080/"
        },
        "id": "wEs-onA9THkn",
        "outputId": "cdde3877-835a-442e-c4ca-3d981eb29fc8"
      },
      "outputs": [
        {
          "data": {
            "text/plain": [
              "['__bool__',\n",
              " '__class__',\n",
              " '__delattr__',\n",
              " '__dir__',\n",
              " '__doc__',\n",
              " '__eq__',\n",
              " '__format__',\n",
              " '__ge__',\n",
              " '__getattribute__',\n",
              " '__gt__',\n",
              " '__hash__',\n",
              " '__init__',\n",
              " '__init_subclass__',\n",
              " '__le__',\n",
              " '__lt__',\n",
              " '__ne__',\n",
              " '__new__',\n",
              " '__reduce__',\n",
              " '__reduce_ex__',\n",
              " '__repr__',\n",
              " '__setattr__',\n",
              " '__sizeof__',\n",
              " '__str__',\n",
              " '__subclasshook__']"
            ]
          },
          "execution_count": 101,
          "metadata": {},
          "output_type": "execute_result"
        }
      ],
      "source": [
        "dir(None)"
      ]
    },
    {
      "cell_type": "code",
      "execution_count": 102,
      "metadata": {
        "colab": {
          "base_uri": "https://localhost:8080/"
        },
        "id": "vWepqXqIZJtE",
        "outputId": "2df2d294-7b80-4508-b54f-83f953c79900"
      },
      "outputs": [
        {
          "name": "stdout",
          "output_type": "stream",
          "text": [
            "True\n",
            "True\n"
          ]
        }
      ],
      "source": [
        "x = None\n",
        "\n",
        "print(x == None)    # True, 하지만 이 방식은 권장되지 않습니다.\n",
        "print(x is None)    # True, 이 방식을 사용하여 None을 확인하는 것이 좋습니다."
      ]
    },
    {
      "cell_type": "code",
      "execution_count": 103,
      "metadata": {
        "colab": {
          "base_uri": "https://localhost:8080/"
        },
        "id": "9OW02WYzZtpW",
        "outputId": "9554e6f5-55b2-4a56-900b-26f660cdbaf0"
      },
      "outputs": [
        {
          "name": "stdout",
          "output_type": "stream",
          "text": [
            "hello, python!\n"
          ]
        }
      ],
      "source": [
        "# 백슬러쉬 사용해서 개행을 할 수 있습니다.\n",
        "sentence = '  Hello, World!  '\n",
        "result = sentence\\\n",
        "         .strip()\\\n",
        "         .lower()\\\n",
        "         .replace('world', 'python')\n",
        "\n",
        "print(result)  # 'hello, python!'"
      ]
    },
    {
      "cell_type": "code",
      "execution_count": null,
      "metadata": {
        "id": "0Cu8HfaIatCl"
      },
      "outputs": [],
      "source": [
        "# 1. Python에서의 형변환\n",
        "\n"
      ]
    },
    {
      "cell_type": "code",
      "execution_count": 104,
      "metadata": {
        "colab": {
          "base_uri": "https://localhost:8080/"
        },
        "id": "ZmUJtNdsNrFb",
        "outputId": "e8706ea4-5a4e-4632-f51a-47f6f0b1b89b"
      },
      "outputs": [
        {
          "name": "stdout",
          "output_type": "stream",
          "text": [
            "월급을 입력하세요:1000\n",
            "100010001000100010001000100010001000100010001000\n"
          ]
        }
      ],
      "source": [
        "# 1. 형변환 기본 예제\n",
        "\n",
        "월급 = input(\"월급을 입력하세요:\")\n",
        "연봉 = 월급 * 12\n",
        "print(연봉)"
      ]
    },
    {
      "cell_type": "code",
      "execution_count": 106,
      "metadata": {
        "colab": {
          "base_uri": "https://localhost:8080/"
        },
        "id": "QI-yii6YvKTQ",
        "outputId": "40c1be6a-4f2b-4c17-9b0e-99ae9c02a939"
      },
      "outputs": [
        {
          "name": "stdout",
          "output_type": "stream",
          "text": [
            "월급을 입력하세요:10000000\n",
            "120000000\n"
          ]
        }
      ],
      "source": [
        "# 1. int를 사용하여 제대로 만들기\n",
        "\n",
        "월급 = int(input(\"월급을 입력하세요:\"))\n",
        "연봉 = 월급 * 12\n",
        "print(연봉)"
      ]
    },
    {
      "cell_type": "code",
      "execution_count": 108,
      "metadata": {
        "colab": {
          "base_uri": "https://localhost:8080/"
        },
        "id": "VxnhEC3Iv4x2",
        "outputId": "8fc0bc8e-cb76-4587-f00d-d95d1dda8505"
      },
      "outputs": [
        {
          "name": "stdout",
          "output_type": "stream",
          "text": [
            "3\n"
          ]
        }
      ],
      "source": [
        "# float 소수를 를 int 정수로 변경\n",
        "\n",
        "f = 3.141592\n",
        "num = int(f)\n",
        "print(num)"
      ]
    },
    {
      "cell_type": "code",
      "execution_count": 109,
      "metadata": {
        "colab": {
          "base_uri": "https://localhost:8080/"
        },
        "id": "hNz-1v3EwRw3",
        "outputId": "5c950cdf-a0ca-4123-823b-a690c74d2bf2"
      },
      "outputs": [
        {
          "name": "stdout",
          "output_type": "stream",
          "text": [
            "1\n",
            "0\n"
          ]
        }
      ],
      "source": [
        "# 2.1.3 bool → int로 형변환\n",
        "\n",
        "true_int = int(True)\n",
        "false_int = int(False)\n",
        "\n",
        "print(true_int)  # 출력: 1\n",
        "print(false_int)  # 출력: 0"
      ]
    },
    {
      "cell_type": "code",
      "execution_count": 113,
      "metadata": {
        "colab": {
          "base_uri": "https://localhost:8080/",
          "height": 184
        },
        "id": "BRrko79_wYws",
        "outputId": "062698f5-41d0-4f55-ceee-4f95d89b92a7"
      },
      "outputs": [
        {
          "ename": "TypeError",
          "evalue": "ignored",
          "output_type": "error",
          "traceback": [
            "\u001b[0;31m---------------------------------------------------------------------------\u001b[0m",
            "\u001b[0;31mTypeError\u001b[0m                                 Traceback (most recent call last)",
            "\u001b[0;32m<ipython-input-113-2ffd029b05a4>\u001b[0m in \u001b[0;36m<cell line: 1>\u001b[0;34m()\u001b[0m\n\u001b[0;32m----> 1\u001b[0;31m \u001b[0mprint\u001b[0m\u001b[0;34m(\u001b[0m\u001b[0mint\u001b[0m\u001b[0;34m(\u001b[0m\u001b[0;32mNone\u001b[0m\u001b[0;34m)\u001b[0m\u001b[0;34m)\u001b[0m\u001b[0;34m\u001b[0m\u001b[0;34m\u001b[0m\u001b[0m\n\u001b[0m",
            "\u001b[0;31mTypeError\u001b[0m: int() argument must be a string, a bytes-like object or a real number, not 'NoneType'"
          ]
        }
      ],
      "source": [
        "## None 은 형변환이 안된다\n",
        "\n",
        "print(int(None))\n"
      ]
    },
    {
      "cell_type": "code",
      "execution_count": 114,
      "metadata": {
        "colab": {
          "base_uri": "https://localhost:8080/",
          "height": 203
        },
        "id": "2_rqcCE7w8wo",
        "outputId": "86166e62-7c62-4fa8-ec80-624c9a8932d0"
      },
      "outputs": [
        {
          "ename": "TypeError",
          "evalue": "ignored",
          "output_type": "error",
          "traceback": [
            "\u001b[0;31m---------------------------------------------------------------------------\u001b[0m",
            "\u001b[0;31mTypeError\u001b[0m                                 Traceback (most recent call last)",
            "\u001b[0;32m<ipython-input-114-602f218b5a47>\u001b[0m in \u001b[0;36m<cell line: 1>\u001b[0;34m()\u001b[0m\n\u001b[0;32m----> 1\u001b[0;31m \u001b[0mn\u001b[0m \u001b[0;34m=\u001b[0m \u001b[0;34m(\u001b[0m\u001b[0mint\u001b[0m\u001b[0;34m(\u001b[0m\u001b[0;32mNone\u001b[0m\u001b[0;34m)\u001b[0m\u001b[0;34m)\u001b[0m\u001b[0;34m\u001b[0m\u001b[0;34m\u001b[0m\u001b[0m\n\u001b[0m\u001b[1;32m      2\u001b[0m \u001b[0mn\u001b[0m\u001b[0;34m\u001b[0m\u001b[0;34m\u001b[0m\u001b[0m\n",
            "\u001b[0;31mTypeError\u001b[0m: int() argument must be a string, a bytes-like object or a real number, not 'NoneType'"
          ]
        }
      ],
      "source": [
        "## None 은 형변환이 안된다\n",
        "\n",
        "n = (int(None))\n",
        "n\n"
      ]
    },
    {
      "cell_type": "code",
      "execution_count": 116,
      "metadata": {
        "colab": {
          "base_uri": "https://localhost:8080/"
        },
        "id": "LaMO6IAXw6ux",
        "outputId": "1012daa4-2099-4aaa-e7ef-cfdfbb1c85a6"
      },
      "outputs": [
        {
          "name": "stdout",
          "output_type": "stream",
          "text": [
            "<class 'int'>\n",
            "<class 'int'>\n",
            "<class 'str'>\n",
            "<class 'str'>\n"
          ]
        }
      ],
      "source": [
        "# 4.5 str 형변환\n",
        "\n",
        "n = 123\n",
        "print(type(n))\n",
        "\n",
        "m = 123.4567\n",
        "print(type(n))\n",
        "\n",
        "n = str(n)\n",
        "print(type(n))\n",
        "\n",
        "m = str(m)\n",
        "print(type(m))"
      ]
    },
    {
      "cell_type": "code",
      "execution_count": 122,
      "metadata": {
        "colab": {
          "base_uri": "https://localhost:8080/"
        },
        "id": "uDIu5n2jwwWw",
        "outputId": "88c8e1f5-07bf-48a1-b307-2125ec1fe393"
      },
      "outputs": [
        {
          "name": "stdout",
          "output_type": "stream",
          "text": [
            "True\n",
            "bool(' '): True\n",
            "bool(''): False\n",
            "bool(100): True\n",
            "bool(1): True\n",
            "bool(0): False\n",
            "bool(-1): True\n",
            "bool(None): False\n",
            "bool([]): False\n",
            "bool(tuple()): False\n",
            "bool({}): False\n",
            "bool(set()): False\n"
          ]
        }
      ],
      "source": [
        "# 빈자료형인경우나 논은 펄스이고 공간이 있으면 트루이다\n",
        "\n",
        "print(bool('test'))\n",
        "print(\"bool(' '):\", bool(' '))\n",
        "print(\"bool(''):\", bool(''))\n",
        "print(\"bool(100):\", bool(100))\n",
        "print(\"bool(1):\", bool(1))\n",
        "print(\"bool(0):\", bool(0))\n",
        "print(\"bool(-1):\", bool(-1))\n",
        "print(\"bool(None):\", bool(None))\n",
        "print(\"bool([]):\", bool([]))\n",
        "print(\"bool(tuple()):\", bool(tuple()))\n",
        "print(\"bool({}):\", bool({}))\n",
        "print(\"bool(set()):\", bool(set()))"
      ]
    },
    {
      "cell_type": "code",
      "execution_count": 118,
      "metadata": {
        "colab": {
          "base_uri": "https://localhost:8080/"
        },
        "id": "bWwVTjwewuD1",
        "outputId": "86b630d0-b7f8-4d33-80db-e875efa63e89"
      },
      "outputs": [
        {
          "name": "stdout",
          "output_type": "stream",
          "text": [
            "10.0\n",
            "10.0\n",
            "3.14\n"
          ]
        }
      ],
      "source": [
        "s = 10\n",
        "print(float(s))\n",
        "\n",
        "s = '10'\n",
        "print(float(s))\n",
        "\n",
        "s = '3.14'\n",
        "print(float(s))"
      ]
    },
    {
      "cell_type": "code",
      "execution_count": 120,
      "metadata": {
        "id": "guKMGDE5yyNx"
      },
      "outputs": [],
      "source": [
        "infinity = float('inf')\n",
        "neg_infinity = float('-inf')\n",
        "not_a_number = float('nan')  # None, NA 와 헤깔리지 말자 nan 은 not a number의 준말"
      ]
    },
    {
      "cell_type": "code",
      "execution_count": 121,
      "metadata": {
        "colab": {
          "base_uri": "https://localhost:8080/"
        },
        "id": "OEPbPvGBzE2m",
        "outputId": "cbbe9bad-afad-4330-f384-ef08f98af08e"
      },
      "outputs": [
        {
          "data": {
            "text/plain": [
              "10.0"
            ]
          },
          "execution_count": 121,
          "metadata": {},
          "output_type": "execute_result"
        }
      ],
      "source": [
        "10 / 1 # 출력: 10.0"
      ]
    },
    {
      "cell_type": "code",
      "execution_count": 123,
      "metadata": {
        "colab": {
          "base_uri": "https://localhost:8080/"
        },
        "id": "TLFhOyguzO9-",
        "outputId": "7d0ccfce-0c9b-4057-c83c-35c41d68ce65"
      },
      "outputs": [
        {
          "name": "stdout",
          "output_type": "stream",
          "text": [
            "['1', '0']\n",
            "['l', 'i', 'c', 'a', 't']\n"
          ]
        }
      ],
      "source": [
        "s = '10'\n",
        "print(list(s))\n",
        "\n",
        "name = 'licat'\n",
        "print(list(name))"
      ]
    },
    {
      "cell_type": "code",
      "execution_count": null,
      "metadata": {
        "id": "X23IXn6c0NVu"
      },
      "outputs": [],
      "source": [
        "n = 10\n",
        "print(list(n)) # 출력: error\n",
        "​\n",
        "#정수형은 list로 변환이 가능하지 않습니다."
      ]
    },
    {
      "cell_type": "code",
      "execution_count": 124,
      "metadata": {
        "colab": {
          "base_uri": "https://localhost:8080/"
        },
        "id": "DvOF_0fay2Bv",
        "outputId": "0ddfc648-61e2-4298-ca29-72a0808db60b"
      },
      "outputs": [
        {
          "data": {
            "text/plain": [
              "[1, 2, 3, 4, 5]"
            ]
          },
          "execution_count": 124,
          "metadata": {},
          "output_type": "execute_result"
        }
      ],
      "source": [
        "# map 함수 향후 많이 쓰인다함.\n",
        "\n",
        "list(map(int, '12345')) # 출력: [1, 2, 3, 4, 5]"
      ]
    },
    {
      "cell_type": "code",
      "execution_count": 125,
      "metadata": {
        "colab": {
          "base_uri": "https://localhost:8080/"
        },
        "id": "QFTr8dik1L_B",
        "outputId": "ea9acff4-20fb-47f1-f651-f3a6faa9c529"
      },
      "outputs": [
        {
          "data": {
            "text/plain": [
              "[10, 20, 30]"
            ]
          },
          "execution_count": 125,
          "metadata": {},
          "output_type": "execute_result"
        }
      ],
      "source": [
        "# map 함수 향후 많이 쓰인다함. 예시 2\n",
        "\n",
        "\n",
        "list(map(int, ['10', '20', '30'])) # 출력: [10, 20, 30]\n"
      ]
    },
    {
      "cell_type": "code",
      "execution_count": 126,
      "metadata": {
        "colab": {
          "base_uri": "https://localhost:8080/",
          "height": 203
        },
        "id": "qnHiYc2q1h9C",
        "outputId": "ae9a9287-03d5-4985-9079-2c67347ca444"
      },
      "outputs": [
        {
          "ename": "TypeError",
          "evalue": "ignored",
          "output_type": "error",
          "traceback": [
            "\u001b[0;31m---------------------------------------------------------------------------\u001b[0m",
            "\u001b[0;31mTypeError\u001b[0m                                 Traceback (most recent call last)",
            "\u001b[0;32m<ipython-input-126-e99d27e714bf>\u001b[0m in \u001b[0;36m<cell line: 2>\u001b[0;34m()\u001b[0m\n\u001b[1;32m      1\u001b[0m \u001b[0mz\u001b[0m \u001b[0;34m=\u001b[0m \u001b[0;36m0\u001b[0m\u001b[0;34m\u001b[0m\u001b[0;34m\u001b[0m\u001b[0m\n\u001b[0;32m----> 2\u001b[0;31m \u001b[0mx\u001b[0m \u001b[0;34m/\u001b[0m \u001b[0mz\u001b[0m \u001b[0;31m# ZeroDivisionError 발생\u001b[0m\u001b[0;34m\u001b[0m\u001b[0;34m\u001b[0m\u001b[0m\n\u001b[0m",
            "\u001b[0;31mTypeError\u001b[0m: unsupported operand type(s) for /: 'NoneType' and 'int'"
          ]
        }
      ],
      "source": [
        "z = 0\n",
        "x / z # ZeroDivisionError 발생"
      ]
    },
    {
      "cell_type": "code",
      "execution_count": 128,
      "metadata": {
        "colab": {
          "base_uri": "https://localhost:8080/"
        },
        "id": "aZb1n4nf-dYA",
        "outputId": "099f0c60-5140-42b5-8232-9b3c697e032b"
      },
      "outputs": [
        {
          "name": "stdout",
          "output_type": "stream",
          "text": [
            "3.3333333333333335\n",
            "10 ÷ 3 = 3.33\n"
          ]
        }
      ],
      "source": [
        "a = 10\n",
        "b = 3\n",
        "divide = a / b\n",
        "print(divide)\n",
        "print(f'{a} ÷ {b} = {divide:.2f}')  # 결과: 10 ÷ 3 = 3.33  .2f를 써서 소수점 2번째 까지만 보여지게한다."
      ]
    },
    {
      "cell_type": "code",
      "execution_count": 130,
      "metadata": {
        "colab": {
          "base_uri": "https://localhost:8080/"
        },
        "id": "j3SANmok-15h",
        "outputId": "4b9d92db-f347-4725-f6f6-5bbc528d2d01"
      },
      "outputs": [
        {
          "name": "stdout",
          "output_type": "stream",
          "text": [
            "3.3333333333333335\n",
            "3\n",
            "1\n"
          ]
        },
        {
          "data": {
            "text/plain": [
              "1"
            ]
          },
          "execution_count": 130,
          "metadata": {},
          "output_type": "execute_result"
        }
      ],
      "source": [
        "# 나머지\n",
        "print(10 / 3) #소수 몫\n",
        "print(10 // 3) #정수 몴\n",
        "print(10 % 3) #나머지값\n",
        "\n",
        "10 % 3"
      ]
    },
    {
      "cell_type": "code",
      "execution_count": 131,
      "metadata": {
        "colab": {
          "base_uri": "https://localhost:8080/"
        },
        "id": "xUrutNWd_Qfj",
        "outputId": "fb7c2bbe-c66d-4ac6-f861-a2df0bb71d14"
      },
      "outputs": [
        {
          "data": {
            "text/plain": [
              "-4"
            ]
          },
          "execution_count": 131,
          "metadata": {},
          "output_type": "execute_result"
        }
      ],
      "source": [
        "-2 ** 2\n"
      ]
    },
    {
      "cell_type": "code",
      "execution_count": 132,
      "metadata": {
        "colab": {
          "base_uri": "https://localhost:8080/"
        },
        "id": "cMjcD3nK-k3r",
        "outputId": "c6d8c3a5-39e8-4edc-ab21-8f8306863e9e"
      },
      "outputs": [
        {
          "data": {
            "text/plain": [
              "4"
            ]
          },
          "execution_count": 132,
          "metadata": {},
          "output_type": "execute_result"
        }
      ],
      "source": [
        "(-2) ** 2"
      ]
    },
    {
      "cell_type": "code",
      "execution_count": 133,
      "metadata": {
        "colab": {
          "base_uri": "https://localhost:8080/"
        },
        "id": "210F7ODRwPeV",
        "outputId": "198f798c-cdb9-43fb-a6be-9fe7d04b550e"
      },
      "outputs": [
        {
          "data": {
            "text/plain": [
              "False"
            ]
          },
          "execution_count": 133,
          "metadata": {},
          "output_type": "execute_result"
        }
      ],
      "source": [
        "'abcd' > 'abcda'"
      ]
    },
    {
      "cell_type": "code",
      "execution_count": 134,
      "metadata": {
        "colab": {
          "base_uri": "https://localhost:8080/"
        },
        "id": "uXwuMrBaD-K0",
        "outputId": "f5525291-ac5a-45be-a624-84f0ebec251f"
      },
      "outputs": [
        {
          "data": {
            "text/plain": [
              "True"
            ]
          },
          "execution_count": 134,
          "metadata": {},
          "output_type": "execute_result"
        }
      ],
      "source": [
        "class int(int):\n",
        "    def __eq__(self, other):\n",
        "        return True\n",
        "\n",
        "# 10 < 11\n",
        "int('10') == int('11')"
      ]
    },
    {
      "cell_type": "code",
      "execution_count": 135,
      "metadata": {
        "colab": {
          "base_uri": "https://localhost:8080/"
        },
        "id": "LpuN-b1AEHZb",
        "outputId": "0d395f9f-b215-4838-bc6f-6f9aadc8cae8"
      },
      "outputs": [
        {
          "data": {
            "text/plain": [
              "110"
            ]
          },
          "execution_count": 135,
          "metadata": {},
          "output_type": "execute_result"
        }
      ],
      "source": [
        "class int(int):\n",
        "    def __add__(self, other):\n",
        "        return self * other\n",
        "\n",
        "# 10 + 11\n",
        "int(10) + int(11)"
      ]
    },
    {
      "cell_type": "code",
      "execution_count": 140,
      "metadata": {
        "colab": {
          "base_uri": "https://localhost:8080/"
        },
        "id": "LUYUoY-QEJQg",
        "outputId": "369bc34e-e1e5-4169-d4b2-633ec96e3139"
      },
      "outputs": [
        {
          "name": "stdout",
          "output_type": "stream",
          "text": [
            "0.30000000000000004\n",
            "False\n",
            "True\n",
            "False\n",
            "False\n",
            "False\n"
          ]
        }
      ],
      "source": [
        "import math\n",
        "\n",
        "result = 0.1 + 0.2\n",
        "print(result)\n",
        "print(result == 0.3)              # False\n",
        "print(math.isclose(result, 0.3))  # True\n",
        "print(math.isclose(result, 0.29)) # False\n",
        "print(math.isclose(result, 0.31)) # False\n",
        "print(math.isclose(result, 0.30000001)) # False"
      ]
    },
    {
      "cell_type": "code",
      "execution_count": 145,
      "metadata": {
        "colab": {
          "base_uri": "https://localhost:8080/"
        },
        "id": "mdNo0uxWExTH",
        "outputId": "efc2229e-cd74-4c48-a720-866cb660cc06"
      },
      "outputs": [
        {
          "name": "stdout",
          "output_type": "stream",
          "text": [
            "132418412596560 132418412596560 132418412596560\n"
          ]
        }
      ],
      "source": [
        "x = 100\n",
        "y = 100\n",
        "z = x\n",
        "\n",
        "print(id(x), id(y), id(z))"
      ]
    },
    {
      "cell_type": "code",
      "execution_count": 145,
      "metadata": {
        "id": "lTFXdoHcHNPk"
      },
      "outputs": [],
      "source": []
    },
    {
      "cell_type": "code",
      "execution_count": 142,
      "metadata": {
        "colab": {
          "base_uri": "https://localhost:8080/"
        },
        "id": "s7L56UkkGqcf",
        "outputId": "e0d54198-e520-4650-f885-368c657d5df7"
      },
      "outputs": [
        {
          "name": "stdout",
          "output_type": "stream",
          "text": [
            "132417144269232 132417144272144 132417144269232\n"
          ]
        }
      ],
      "source": [
        "x = 258  #정수 -5에서 256까지만 같다.\n",
        "y = 258\n",
        "z = x\n",
        "\n",
        "print(id(x), id(y), id(z))"
      ]
    },
    {
      "cell_type": "code",
      "execution_count": 146,
      "metadata": {
        "colab": {
          "base_uri": "https://localhost:8080/"
        },
        "id": "BatOtHy7G1VW",
        "outputId": "0dc697fa-5161-4518-bfe7-0c00f4b6f112"
      },
      "outputs": [
        {
          "data": {
            "text/plain": [
              "10"
            ]
          },
          "execution_count": 146,
          "metadata": {},
          "output_type": "execute_result"
        }
      ],
      "source": [
        "n = 1234567890123123123\n",
        "len(set(str(n)))"
      ]
    },
    {
      "cell_type": "code",
      "execution_count": null,
      "metadata": {
        "id": "eu-VifjCI7Cs"
      },
      "outputs": [],
      "source": []
    }
  ],
  "metadata": {
    "colab": {
      "authorship_tag": "ABX9TyNSF21L2BQDXSpCbTrATOMd",
      "include_colab_link": true,
      "provenance": []
    },
    "kernelspec": {
      "display_name": "Python 3",
      "name": "python3"
    },
    "language_info": {
      "name": "python"
    }
  },
  "nbformat": 4,
  "nbformat_minor": 0
}
