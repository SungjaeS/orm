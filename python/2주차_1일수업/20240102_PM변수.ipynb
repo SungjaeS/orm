{
  "nbformat": 4,
  "nbformat_minor": 0,
  "metadata": {
    "colab": {
      "provenance": [],
      "authorship_tag": "ABX9TyNQH3cuCnCPYMRdlg00kCbJ",
      "include_colab_link": true
    },
    "kernelspec": {
      "name": "python3",
      "display_name": "Python 3"
    },
    "language_info": {
      "name": "python"
    }
  },
  "cells": [
    {
      "cell_type": "markdown",
      "metadata": {
        "id": "view-in-github",
        "colab_type": "text"
      },
      "source": [
        "<a href=\"https://colab.research.google.com/github/SungjaeS/orm/blob/main/20240102_PM%EB%B3%80%EC%88%98.ipynb\" target=\"_parent\"><img src=\"https://colab.research.google.com/assets/colab-badge.svg\" alt=\"Open In Colab\"/></a>"
      ]
    },
    {
      "cell_type": "markdown",
      "source": [
        "# 1. 변수"
      ],
      "metadata": {
        "id": "jD4NwEVijfjX"
      }
    },
    {
      "cell_type": "code",
      "source": [
        "#1.1 변수의 속성 확인\n",
        "\n",
        "x = 10\n",
        "print(type(x))\n",
        "print(dir(x))\n",
        "\n"
      ],
      "metadata": {
        "colab": {
          "base_uri": "https://localhost:8080/"
        },
        "id": "kiYR5gbjmn8w",
        "outputId": "aa1324eb-59aa-47af-892a-5914eb7d058f"
      },
      "execution_count": 1,
      "outputs": [
        {
          "output_type": "stream",
          "name": "stdout",
          "text": [
            "<class 'int'>\n",
            "['__abs__', '__add__', '__and__', '__bool__', '__ceil__', '__class__', '__delattr__', '__dir__', '__divmod__', '__doc__', '__eq__', '__float__', '__floor__', '__floordiv__', '__format__', '__ge__', '__getattribute__', '__getnewargs__', '__gt__', '__hash__', '__index__', '__init__', '__init_subclass__', '__int__', '__invert__', '__le__', '__lshift__', '__lt__', '__mod__', '__mul__', '__ne__', '__neg__', '__new__', '__or__', '__pos__', '__pow__', '__radd__', '__rand__', '__rdivmod__', '__reduce__', '__reduce_ex__', '__repr__', '__rfloordiv__', '__rlshift__', '__rmod__', '__rmul__', '__ror__', '__round__', '__rpow__', '__rrshift__', '__rshift__', '__rsub__', '__rtruediv__', '__rxor__', '__setattr__', '__sizeof__', '__str__', '__sub__', '__subclasshook__', '__truediv__', '__trunc__', '__xor__', 'as_integer_ratio', 'bit_count', 'bit_length', 'conjugate', 'denominator', 'from_bytes', 'imag', 'numerator', 'real', 'to_bytes']\n"
          ]
        }
      ]
    },
    {
      "cell_type": "code",
      "source": [
        "x = \"10\"\n",
        "print(type(x))\n",
        "print(dir(x))\n",
        "\n",
        "print(\"10\" + \"10\")"
      ],
      "metadata": {
        "colab": {
          "base_uri": "https://localhost:8080/"
        },
        "id": "PTdlu5SUm-Xk",
        "outputId": "082873c6-c659-4153-b243-63bc82e3061b"
      },
      "execution_count": 2,
      "outputs": [
        {
          "output_type": "stream",
          "name": "stdout",
          "text": [
            "<class 'str'>\n",
            "['__add__', '__class__', '__contains__', '__delattr__', '__dir__', '__doc__', '__eq__', '__format__', '__ge__', '__getattribute__', '__getitem__', '__getnewargs__', '__gt__', '__hash__', '__init__', '__init_subclass__', '__iter__', '__le__', '__len__', '__lt__', '__mod__', '__mul__', '__ne__', '__new__', '__reduce__', '__reduce_ex__', '__repr__', '__rmod__', '__rmul__', '__setattr__', '__sizeof__', '__str__', '__subclasshook__', 'capitalize', 'casefold', 'center', 'count', 'encode', 'endswith', 'expandtabs', 'find', 'format', 'format_map', 'index', 'isalnum', 'isalpha', 'isascii', 'isdecimal', 'isdigit', 'isidentifier', 'islower', 'isnumeric', 'isprintable', 'isspace', 'istitle', 'isupper', 'join', 'ljust', 'lower', 'lstrip', 'maketrans', 'partition', 'removeprefix', 'removesuffix', 'replace', 'rfind', 'rindex', 'rjust', 'rpartition', 'rsplit', 'rstrip', 'split', 'splitlines', 'startswith', 'strip', 'swapcase', 'title', 'translate', 'upper', 'zfill']\n",
            "1010\n"
          ]
        }
      ]
    },
    {
      "cell_type": "code",
      "source": [
        "m = int(10) + int(10)\n",
        "n = \"10\" + \"10\"\n",
        "\n",
        "print (m)\n",
        "print (n)"
      ],
      "metadata": {
        "colab": {
          "base_uri": "https://localhost:8080/"
        },
        "id": "P5GFFDl0m_-_",
        "outputId": "5cc4fced-7c89-43fe-e181-e794e6b07f30"
      },
      "execution_count": 3,
      "outputs": [
        {
          "output_type": "stream",
          "name": "stdout",
          "text": [
            "20\n",
            "1010\n"
          ]
        }
      ]
    },
    {
      "cell_type": "code",
      "source": [
        "x = 10\n",
        "print(type(x))\n",
        "\n",
        "del x"
      ],
      "metadata": {
        "colab": {
          "base_uri": "https://localhost:8080/"
        },
        "id": "4JLwl1mnooAM",
        "outputId": "b997d216-0546-4f9a-926e-312c1d2cc933"
      },
      "execution_count": 5,
      "outputs": [
        {
          "output_type": "stream",
          "name": "stdout",
          "text": [
            "<class 'int'>\n"
          ]
        }
      ]
    },
    {
      "cell_type": "code",
      "source": [
        "x = 10\n",
        "print(type(x))\n"
      ],
      "metadata": {
        "colab": {
          "base_uri": "https://localhost:8080/"
        },
        "id": "j9wtAm2orbni",
        "outputId": "a2b16c20-82ec-4471-f788-c0848f0fe9fb"
      },
      "execution_count": 6,
      "outputs": [
        {
          "output_type": "stream",
          "name": "stdout",
          "text": [
            "<class 'int'>\n"
          ]
        }
      ]
    },
    {
      "cell_type": "code",
      "source": [
        "x = 10\n",
        "type(x)\n"
      ],
      "metadata": {
        "colab": {
          "base_uri": "https://localhost:8080/"
        },
        "id": "A1QV9E0lrcfx",
        "outputId": "070f4bea-59f1-4ae1-9506-c22f5c3d70bb"
      },
      "execution_count": 8,
      "outputs": [
        {
          "output_type": "execute_result",
          "data": {
            "text/plain": [
              "int"
            ]
          },
          "metadata": {},
          "execution_count": 8
        }
      ]
    },
    {
      "cell_type": "code",
      "source": [
        "# 나눗셈 예제\n",
        "\n",
        "x = 10\n",
        "y = 20\n",
        "result = x / y\n",
        "print(result)\n",
        "\n",
        "print(int(result))"
      ],
      "metadata": {
        "colab": {
          "base_uri": "https://localhost:8080/"
        },
        "id": "eeRXaN9dt-IO",
        "outputId": "5771e84a-fbc6-4c52-c727-7c4c7704a954"
      },
      "execution_count": 16,
      "outputs": [
        {
          "output_type": "stream",
          "name": "stdout",
          "text": [
            "0.5\n",
            "0\n"
          ]
        }
      ]
    },
    {
      "cell_type": "code",
      "source": [
        "1'''\n",
        "# !!! \"print = x\" 이런식의 실수로 인해 전체 에러가날땐\n",
        "# 당황하지말고 런타임에 세션 다시 시작을 눌러주면 해결된다 !!!\n",
        "'''"
      ],
      "metadata": {
        "id": "f_TeSIbSuMGr"
      },
      "execution_count": 15,
      "outputs": []
    },
    {
      "cell_type": "code",
      "source": [
        "# id(x), id(y) 에 대해서\n",
        "# -5 ~ 256 까지는 고유id가 같지만 그 외에는 다르니 주의해야한.\n",
        "\n",
        "x = 257\n",
        "y = 257\n",
        "\n",
        "print(x,y)"
      ],
      "metadata": {
        "colab": {
          "base_uri": "https://localhost:8080/"
        },
        "id": "edyKfgZ5wizZ",
        "outputId": "c9110dc6-b85c-4844-8868-b599cbdfc7db"
      },
      "execution_count": 22,
      "outputs": [
        {
          "output_type": "stream",
          "name": "stdout",
          "text": [
            "257 257\n"
          ]
        }
      ]
    },
    {
      "cell_type": "code",
      "source": [
        "print(x == y)"
      ],
      "metadata": {
        "colab": {
          "base_uri": "https://localhost:8080/"
        },
        "id": "wU_-L3jL0O0_",
        "outputId": "7a0fdacb-a68a-47fc-f8d4-2dceffa94d5b"
      },
      "execution_count": 23,
      "outputs": [
        {
          "output_type": "stream",
          "name": "stdout",
          "text": [
            "True\n"
          ]
        }
      ]
    },
    {
      "cell_type": "code",
      "source": [
        "print(id(x), id(y))"
      ],
      "metadata": {
        "colab": {
          "base_uri": "https://localhost:8080/"
        },
        "id": "uJTE0qZS0Q9G",
        "outputId": "5c6bd356-ab95-4273-8a3f-6f24f5bf4007"
      },
      "execution_count": 24,
      "outputs": [
        {
          "output_type": "stream",
          "name": "stdout",
          "text": [
            "134773264693968 134773264691920\n"
          ]
        }
      ]
    },
    {
      "cell_type": "code",
      "source": [
        "# 무한대 inf\n",
        "\n",
        "x_inf = float(\"inf\")"
      ],
      "metadata": {
        "id": "2nPv0MXi0T_k"
      },
      "execution_count": 25,
      "outputs": []
    },
    {
      "cell_type": "code",
      "source": [
        "# 소수점 계산을 2진법으로 변환해서 컴퓨터에서 연산처리과정에 이러한 문제가 발생\n",
        "\n",
        "\n",
        "x = 10.1\n",
        "y = 10.2\n",
        "\n",
        "result = x + y\n",
        "print(result)\n",
        "print(x + y)"
      ],
      "metadata": {
        "colab": {
          "base_uri": "https://localhost:8080/"
        },
        "id": "lMJFL_Uc3kDa",
        "outputId": "b0cd7e35-88aa-4ebb-b1c8-9be1363433ab"
      },
      "execution_count": 28,
      "outputs": [
        {
          "output_type": "stream",
          "name": "stdout",
          "text": [
            "20.299999999999997\n",
            "20.299999999999997\n"
          ]
        }
      ]
    },
    {
      "cell_type": "code",
      "source": [
        "# 소수점 계산을 2진법으로 변환해서 컴퓨터에서 연산처리과정에 이러한 문제가 발생\n",
        "\n",
        "x1 = 0.1\n",
        "y2 = 0.2\n",
        "\n",
        "result = x1 + y2\n",
        "print(result)\n",
        "print(x1 + y2)"
      ],
      "metadata": {
        "colab": {
          "base_uri": "https://localhost:8080/"
        },
        "id": "1yykHnhN30eE",
        "outputId": "2191402f-033d-497c-c247-fec6b9a3a9c3"
      },
      "execution_count": 29,
      "outputs": [
        {
          "output_type": "stream",
          "name": "stdout",
          "text": [
            "0.30000000000000004\n",
            "0.30000000000000004\n"
          ]
        }
      ]
    },
    {
      "cell_type": "code",
      "source": [
        "# 해결책 디시멀로 해결한다.\n",
        "\n",
        "import decimal\n",
        "\n",
        "float(decimal.Decimal('.1') + decimal.Decimal('.2')) # 이러면 출력이 0.3 이된다"
      ],
      "metadata": {
        "colab": {
          "base_uri": "https://localhost:8080/"
        },
        "id": "N5Q-B_w44bVk",
        "outputId": "4b3a8a94-7962-44d3-a579-e9daaa191ec4"
      },
      "execution_count": 50,
      "outputs": [
        {
          "output_type": "execute_result",
          "data": {
            "text/plain": [
              "0.3"
            ]
          },
          "metadata": {},
          "execution_count": 50
        }
      ]
    },
    {
      "cell_type": "code",
      "source": [
        "# 제곱계산\n",
        "\n",
        "print(2e3) #float 값이 나온다\n",
        "print(2E3) #float 값이 나온다\n",
        "\n",
        "print(2 * (10 **3)) #int 값이 나온다"
      ],
      "metadata": {
        "colab": {
          "base_uri": "https://localhost:8080/"
        },
        "id": "u5dLscnH4_r_",
        "outputId": "ba0d7f2a-2e37-4cb4-b315-6520e8a84029"
      },
      "execution_count": 32,
      "outputs": [
        {
          "output_type": "stream",
          "name": "stdout",
          "text": [
            "2000.0\n",
            "2000.0\n",
            "2000\n"
          ]
        }
      ]
    },
    {
      "cell_type": "code",
      "source": [
        "# 복소수 출력 일반적으로 -1 제곱 일반적 i로 표현되나 파이선에선 j로 표기함\n",
        "\n",
        "x1 = 3 + 4j\n",
        "x2 = complex(3, 4)\n",
        "\n",
        "print(x1, x2)\n",
        "print(type(x1), type(x2))\n",
        "\n",
        "\n"
      ],
      "metadata": {
        "colab": {
          "base_uri": "https://localhost:8080/"
        },
        "id": "-uidG49H0FEK",
        "outputId": "6016a9a0-df86-408c-ef5f-16a374350021"
      },
      "execution_count": 33,
      "outputs": [
        {
          "output_type": "stream",
          "name": "stdout",
          "text": [
            "(3+4j) (3+4j)\n",
            "<class 'complex'> <class 'complex'>\n"
          ]
        }
      ]
    },
    {
      "cell_type": "code",
      "source": [
        "x = 3 + 4j\n",
        "print(x.imag) # 출력 : 4.0"
      ],
      "metadata": {
        "colab": {
          "base_uri": "https://localhost:8080/"
        },
        "id": "Rs20rv9G6ggt",
        "outputId": "62bd403e-79da-4701-daae-9dec5ccd9bb3"
      },
      "execution_count": 35,
      "outputs": [
        {
          "output_type": "stream",
          "name": "stdout",
          "text": [
            "4.0\n"
          ]
        }
      ]
    },
    {
      "cell_type": "code",
      "source": [
        "'''\n",
        "복소수 3 + 4j의 실수 부분을 반환하는 코드는 무엇인가요?\n",
        "a) (3 + 4j).real()\n",
        "b) real(3 + 4j)\n",
        "c) (3 + 4j).real #!!! 정답은 c다.\n",
        "d) 3 + 4j.real\n",
        "'''"
      ],
      "metadata": {
        "id": "tzFws48C6py-"
      },
      "execution_count": null,
      "outputs": []
    },
    {
      "cell_type": "code",
      "source": [
        "### 9번\n",
        "\n",
        "year = '2019'\n",
        "month = '04'\n",
        "day = '26'\n",
        "hour = '11'\n",
        "minute = '34'\n",
        "second = '27'\n",
        "\n",
        "print(year, month, day, sep=\"/\", end=\"  \") #sep='/', end=' '\n",
        "print(hour, minute, second, sep=\":\")"
      ],
      "metadata": {
        "colab": {
          "base_uri": "https://localhost:8080/"
        },
        "id": "NXkyc-yZ6ob1",
        "outputId": "b99049fd-5118-4be3-8c3d-af6fe3ea94a4"
      },
      "execution_count": 39,
      "outputs": [
        {
          "output_type": "stream",
          "name": "stdout",
          "text": [
            "2019/04/26  11:34:27\n"
          ]
        }
      ]
    },
    {
      "cell_type": "code",
      "source": [
        "### 15번 문제\n",
        "\n",
        "name = input(\"이름을 입력하세요: \")\n",
        "\n",
        "print(\"안녕하세요. 저는 {}입니다.\".format(name))"
      ],
      "metadata": {
        "colab": {
          "base_uri": "https://localhost:8080/"
        },
        "id": "FW-rs9Pq-LS8",
        "outputId": "3f159705-4f9e-486d-f735-ab82810323eb"
      },
      "execution_count": 46,
      "outputs": [
        {
          "output_type": "stream",
          "name": "stdout",
          "text": [
            "이름을 입력하세요: 신성재\n",
            "안녕하세요. 저는 신성재입니다.\n"
          ]
        }
      ]
    },
    {
      "cell_type": "code",
      "source": [
        "### 23번 문제\n",
        "\n",
        "import decimal\n",
        "\n",
        "x = 10\n",
        "y = 2\n",
        "\n",
        "result = x/y\n",
        "\n",
        "print(result) #float(decimal.Decimal('.1') + decimal.Decimal('.2'))"
      ],
      "metadata": {
        "colab": {
          "base_uri": "https://localhost:8080/"
        },
        "id": "KYyoYn1JAhnR",
        "outputId": "22ca3002-7e73-4cf2-ce6f-d276ad92c64c"
      },
      "execution_count": 53,
      "outputs": [
        {
          "output_type": "stream",
          "name": "stdout",
          "text": [
            "5.0\n"
          ]
        }
      ]
    },
    {
      "cell_type": "code",
      "source": [
        "### 23번 문제\n",
        "\n",
        "import decimal\n",
        "\n",
        "\n",
        "\n",
        "\n",
        "x = 10\n",
        "y = 2\n",
        "\n",
        "result = x/y\n",
        "\n",
        "print(result) #float(decimal.Decimal('.1') + decimal.Decimal('.2'))\n",
        "print(int(result))\n",
        "float(decimal.Decimal('10') / decimal.Decimal('2'))"
      ],
      "metadata": {
        "colab": {
          "base_uri": "https://localhost:8080/"
        },
        "id": "d5rjry9_BEBC",
        "outputId": "c22f1bd8-7450-417e-e382-7567acbc3169"
      },
      "execution_count": 78,
      "outputs": [
        {
          "output_type": "stream",
          "name": "stdout",
          "text": [
            "5.0\n",
            "5\n"
          ]
        },
        {
          "output_type": "execute_result",
          "data": {
            "text/plain": [
              "5.0"
            ]
          },
          "metadata": {},
          "execution_count": 78
        }
      ]
    },
    {
      "cell_type": "code",
      "source": [
        "### 39번 문제\n",
        "'''\n",
        "입출력\n",
        "\n",
        "입력 : querty\n",
        "출력 : euerty\n",
        "\n",
        "입력 : hqllo my bamq is hyqwob\n",
        "출력 : hello my bame is hyewob\n",
        "'''\n",
        "\n",
        "data1 = input()\n",
        "data2 = input()\n",
        "\n",
        "print(data1.replace('q', 'e'). replace('b', 'n'))\n",
        "\n",
        "print(data2.replace('q', 'e'). replace('b', 'n'))\n",
        "\n",
        "\n"
      ],
      "metadata": {
        "colab": {
          "base_uri": "https://localhost:8080/"
        },
        "id": "a0a_uwvOCcyA",
        "outputId": "b96ea0b3-7604-4a62-e080-37559f54f38c"
      },
      "execution_count": 76,
      "outputs": [
        {
          "output_type": "stream",
          "name": "stdout",
          "text": [
            "querty\n",
            "hqllo my bamq is hyqwob\n",
            "euerty\n",
            "hello my name is hyewon\n"
          ]
        }
      ]
    }
  ]
}