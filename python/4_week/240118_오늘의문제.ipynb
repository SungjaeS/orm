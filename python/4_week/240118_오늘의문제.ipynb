{
  "nbformat": 4,
  "nbformat_minor": 0,
  "metadata": {
    "colab": {
      "provenance": [],
      "authorship_tag": "ABX9TyOgnEc2k1e5513QbgE0lTeH",
      "include_colab_link": true
    },
    "kernelspec": {
      "name": "python3",
      "display_name": "Python 3"
    },
    "language_info": {
      "name": "python"
    }
  },
  "cells": [
    {
      "cell_type": "markdown",
      "metadata": {
        "id": "view-in-github",
        "colab_type": "text"
      },
      "source": [
        "<a href=\"https://colab.research.google.com/github/SungjaeS/orm/blob/main/240118_%EC%98%A4%EB%8A%98%EC%9D%98%EB%AC%B8%EC%A0%9C.ipynb\" target=\"_parent\"><img src=\"https://colab.research.google.com/assets/colab-badge.svg\" alt=\"Open In Colab\"/></a>"
      ]
    },
    {
      "cell_type": "code",
      "execution_count": null,
      "metadata": {
        "id": "wV5WMeWffvXT"
      },
      "outputs": [],
      "source": [
        "#문제 1: 이메일 주소 변경하기 (sub 사용)\n",
        "#문제: 주어진 문자열에서 모든 이메일 주소를 user@weniv.co.kr으로 변경하시오.\n",
        "#예시 입력: \"저의 이메일 주소는 kim123@gmail.com입니다. 친구의 이메일 주소는 lee456@gmail.com입니다.\"\n",
        "#예시 출력: \"저의 이메일 주소는 user@weniv.co.kr입니다. 친구의 이메일 주소는 user@weniv.co.kr입니다.\"\n",
        "#\n",
        "#힌트: 이메일 주소를 찾기 위한 정규표현식은 \\b[A-Za-z0-9._%+-]+@[A-Za-z0-9.-]+\\.[A-Z|a-z]{2,}\\b를 사용할 수 있습니다."
      ]
    },
    {
      "cell_type": "code",
      "source": [
        "import re\n",
        "\n",
        "ori_txt = \"저의 이메일 주소는 kim123@gmail.com입니다. 친구의 이메일 주소는 lee456@gmail.com입니다.\"\n",
        "re.sub(r'[A-Za-z0-9._%+-]+@[A-Za-z0-9.-]+\\.[A-Z|a-z]{2,}', 'user@weniv.co.kr', ori_txt)\n"
      ],
      "metadata": {
        "colab": {
          "base_uri": "https://localhost:8080/",
          "height": 36
        },
        "id": "nP8ArMGqpVhU",
        "outputId": "c9fbfbe8-c8d5-4082-d5e4-eb308368e329"
      },
      "execution_count": 34,
      "outputs": [
        {
          "output_type": "execute_result",
          "data": {
            "text/plain": [
              "'저의 이메일 주소는 user@weniv.co.kr입니다. 친구의 이메일 주소는 user@weniv.co.kr입니다.'"
            ],
            "application/vnd.google.colaboratory.intrinsic+json": {
              "type": "string"
            }
          },
          "metadata": {},
          "execution_count": 34
        }
      ]
    },
    {
      "cell_type": "code",
      "source": [
        "import re\n",
        "\n",
        "def change_emails_to_user(text):\n",
        "    # 정규표현식을 사용하여 이메일 주소 찾기\n",
        "    email_pattern = r'\\b([A-Za-z0-9._%+-]+)@([A-Za-z0-9.-]+)\\.([A-Z|a-z]{2,})\\b' # \\b가 앞뒤로 들어가면 에러도 나지않고 결과값은 같게 나온다.\n",
        "\n",
        "    # 이메일 주소를 user@weniv.co.kr로 변경\n",
        "    result = re.sub(email_pattern, r'user@weniv.co.kr', text)\n",
        "\n",
        "    return result\n",
        "\n",
        "# 예시 문자열\n",
        "input_text = \"저의 이메일 주소는 kim123@gmail.com입니다. 친구의 이메일 주소는 lee456@gmail.com입니다.\"\n",
        "\n",
        "# 함수 호출 및 결과 출력\n",
        "output_text = change_emails_to_user(input_text)\n",
        "print(output_text)"
      ],
      "metadata": {
        "id": "WY6_FoObAczD"
      },
      "execution_count": null,
      "outputs": []
    },
    {
      "cell_type": "code",
      "source": [
        "import re\n",
        "\n",
        "def change_emails_to_user(text):\n",
        "    email_pattern = r'([A-Za-z0-9._%+-]+)@([A-Za-z0-9.-]+)\\.([A-Z|a-z]{2,})'\n",
        "    result = re.sub(email_pattern, r'user@weniv.co.kr', text)\n",
        "    return result\n",
        "\n",
        "input_text = \"저의 이메일 주소는 kim123@gmail.com입니다. 친구의 이메일 주소는 lee456@gmail.com입니다.\"\n",
        "\n",
        "output_text = change_emails_to_user(input_text)\n",
        "print(output_text)"
      ],
      "metadata": {
        "colab": {
          "base_uri": "https://localhost:8080/"
        },
        "id": "DPAIh4mv7kpX",
        "outputId": "7fdafeef-a0d8-4cfe-8cdd-5eb4928bf59d"
      },
      "execution_count": 40,
      "outputs": [
        {
          "output_type": "stream",
          "name": "stdout",
          "text": [
            "저의 이메일 주소는 user@weniv.co.kr입니다. 친구의 이메일 주소는 user@weniv.co.kr입니다.\n"
          ]
        }
      ]
    },
    {
      "cell_type": "code",
      "source": [
        "# 문제 2: HTML 태그 제거하기 (sub 사용)\n",
        "# 문제: 주어진 HTML 문자열에서 모든 HTML 태그를 제거하고 텍스트만 남기시오.\n",
        "# 예시 입력: \"<p>이것은 <b>예시</b> 문장입니다.</p>\"\n",
        "# 예시 출력: \"이것은 예시 문장입니다.\"\n",
        "#\n",
        "# 힌트: HTML 태그를 찾기 위한 정규표현식은 <[^>]+>를 사용할 수 있습니다."
      ],
      "metadata": {
        "id": "xVncL97CgOC2"
      },
      "execution_count": null,
      "outputs": []
    },
    {
      "cell_type": "code",
      "source": [
        "import re\n",
        "\n",
        "ori_txt = \"<p>이것은 <b>예시</b> 문장입니다.</p>\"\n",
        "re.sub(r'<[^>]+>', '', ori_txt)"
      ],
      "metadata": {
        "colab": {
          "base_uri": "https://localhost:8080/",
          "height": 36
        },
        "id": "m13pXeV5u6Si",
        "outputId": "870f1f21-d940-4238-ba66-732097d7693f"
      },
      "execution_count": 35,
      "outputs": [
        {
          "output_type": "execute_result",
          "data": {
            "text/plain": [
              "'이것은 예시 문장입니다.'"
            ],
            "application/vnd.google.colaboratory.intrinsic+json": {
              "type": "string"
            }
          },
          "metadata": {},
          "execution_count": 35
        }
      ]
    },
    {
      "cell_type": "code",
      "source": [
        "import re\n",
        "\n",
        "def remove_html_tags(html_text):\n",
        "    # 정규표현식을 사용하여 HTML 태그 찾기\n",
        "    html_pattern = r'<[^>]+>'\n",
        "\n",
        "    # HTML 태그 제거\n",
        "    result = re.sub(html_pattern, '', html_text)\n",
        "\n",
        "    return result\n",
        "\n",
        "# 예시 입력\n",
        "input_html = \"<p>이것은 <b>예시</b> 문장입니다.</p>\"\n",
        "\n",
        "# 함수 호출 및 결과 출력\n",
        "output_text = remove_html_tags(input_html)\n",
        "print(output_text)\n"
      ],
      "metadata": {
        "colab": {
          "base_uri": "https://localhost:8080/"
        },
        "id": "MvpWfkyOgQfw",
        "outputId": "e1728d78-d5af-4f45-9836-b9cba766ed1d"
      },
      "execution_count": 13,
      "outputs": [
        {
          "output_type": "stream",
          "name": "stdout",
          "text": [
            "이것은 예시 문장입니다.\n"
          ]
        }
      ]
    },
    {
      "cell_type": "code",
      "source": [
        "import re\n",
        "\n",
        "def remove_html_tags(html_text):\n",
        "    html_pattern = r'<[^>]+>'\n",
        "    result = re.sub(html_pattern, '', html_text)\n",
        "    return result\n",
        "\n",
        "input_html = \"<p>이것은 <b>예시</b> 문장입니다.</p>\"\n",
        "\n",
        "output_text = remove_html_tags(input_html)\n",
        "print(output_text)"
      ],
      "metadata": {
        "colab": {
          "base_uri": "https://localhost:8080/"
        },
        "id": "NUET9fkx6P0r",
        "outputId": "ce9eb104-ab76-4d85-a478-7c7e9fd45cb6"
      },
      "execution_count": 39,
      "outputs": [
        {
          "output_type": "stream",
          "name": "stdout",
          "text": [
            "이것은 예시 문장입니다.\n"
          ]
        }
      ]
    }
  ]
}