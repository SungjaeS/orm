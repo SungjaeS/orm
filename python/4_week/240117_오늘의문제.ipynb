{
  "nbformat": 4,
  "nbformat_minor": 0,
  "metadata": {
    "colab": {
      "provenance": [],
      "authorship_tag": "ABX9TyPTtSv5WjS1hOhpUS6PfQ+D",
      "include_colab_link": true
    },
    "kernelspec": {
      "name": "python3",
      "display_name": "Python 3"
    },
    "language_info": {
      "name": "python"
    }
  },
  "cells": [
    {
      "cell_type": "markdown",
      "metadata": {
        "id": "view-in-github",
        "colab_type": "text"
      },
      "source": [
        "<a href=\"https://colab.research.google.com/github/SungjaeS/orm/blob/main/240117_%EC%98%A4%EB%8A%98%EC%9D%98%EB%AC%B8%EC%A0%9C.ipynb\" target=\"_parent\"><img src=\"https://colab.research.google.com/assets/colab-badge.svg\" alt=\"Open In Colab\"/></a>"
      ]
    },
    {
      "cell_type": "code",
      "source": [
        "# 문제1. 데코레이터 문제\n",
        "# 1부터 100까지 더하는 함수를 만들고 이 함수에 데코레이터를 실행시켜\n",
        "# 몇 초가 걸리는지 확인해주세요. 아래 힌트 코드 입니다.\n",
        "\n",
        "import time\n",
        "\n",
        "def time_decorator(func):\n",
        "    def wrapper():\n",
        "        start_time = time.time()\n",
        "        result = func()\n",
        "        end_time = time.time()\n",
        "        print(f\"함수가 {end_time - start_time} 초가 걸렸습니다.\")\n",
        "        return result\n",
        "    return wrapper"
      ],
      "metadata": {
        "id": "WlkSlDyRR8v4"
      },
      "execution_count": null,
      "outputs": []
    },
    {
      "cell_type": "code",
      "source": [
        "import time\n",
        "\n",
        "def time_decorator(func):\n",
        "    def wrapper():\n",
        "        start_time = time.time()\n",
        "        result = func()\n",
        "        end_time = time.time()\n",
        "        print(f\"함수가 {end_time - start_time} 초가 걸렸습니다.\")\n",
        "        return result\n",
        "    return wrapper\n",
        "\n",
        "@time_decorator\n",
        "def sum_1_100():\n",
        "    return sum(range(1, 101))\n",
        "\n",
        "sum_1_100()"
      ],
      "metadata": {
        "colab": {
          "base_uri": "https://localhost:8080/"
        },
        "id": "LUb0vQxbfmQJ",
        "outputId": "e3f8d8b0-2129-4811-b873-33726cb9576a"
      },
      "execution_count": null,
      "outputs": [
        {
          "output_type": "stream",
          "name": "stdout",
          "text": [
            "함수가 4.5299530029296875e-06 초가 걸렸습니다.\n"
          ]
        },
        {
          "output_type": "execute_result",
          "data": {
            "text/plain": [
              "5050"
            ]
          },
          "metadata": {},
          "execution_count": 29
        }
      ]
    },
    {
      "cell_type": "code",
      "source": [
        "# 문제 2. 제너레이터 문제\n",
        "# 0부터 시작하여, 매 호출 시마다 2씩 증가하는 값을 반환하는\n",
        "# 제너레이터 함수를 작성하세요. 100이 되면 멈춰야 합니다.\n",
        "\n",
        "for i in gen():\n",
        "    print(i)"
      ],
      "metadata": {
        "id": "SsxgbmuNR-oX"
      },
      "execution_count": null,
      "outputs": []
    },
    {
      "cell_type": "code",
      "source": [
        "def gen():\n",
        "    l = 0\n",
        "    while l <= 100:\n",
        "        yield l #yield는 제너레이터(generator) 함수에서 사용되며, 현재의 value를 반환하고, 함수의 실행을 일시 중지합니다.\n",
        "        l += 2\n",
        "\n",
        "for i in gen():\n",
        "    print(i)\n"
      ],
      "metadata": {
        "id": "-rXalhILgTTo"
      },
      "execution_count": null,
      "outputs": []
    },
    {
      "cell_type": "code",
      "source": [
        "# 문제 3. 예외처리 문제\n",
        "# 사용자로부터 두 개의 숫자를 입력받아 나눗셈을 수행하는 함수를 작성하세요.\n",
        "# 이 때 0으로 나눌 때에는 예외처리를 해주세요.\n",
        "\n",
        "def divide(x, y):\n",
        "    return x / y"
      ],
      "metadata": {
        "id": "VH2kt29ASE6M"
      },
      "execution_count": null,
      "outputs": []
    },
    {
      "cell_type": "code",
      "source": [
        "def divide(x, y):\n",
        "    try:\n",
        "        result = x / y\n",
        "        return result\n",
        "    except ZeroDivisionError:\n",
        "        print(\"0 으로 나눌 때에는 예외처리 됩니다.\")\n",
        "        return None #논을 출력함.\n",
        "\n",
        "num1 = float(input(\"첫 번째 숫자를 입력하세요: \"))\n",
        "num2 = float(input(\"두 번째 숫자를 입력하세요: \"))\n",
        "\n",
        "result = divide(num1, num2)\n",
        "if result is not None: #논이 아니라면 나눗셈 결과를 출력함.\n",
        "    print(f\"나눗셈 결과: {result:.2f}\")"
      ],
      "metadata": {
        "colab": {
          "base_uri": "https://localhost:8080/"
        },
        "id": "8IiDpMEwymY-",
        "outputId": "b1985c5a-5e3b-43ea-af45-e80a7c621dee"
      },
      "execution_count": null,
      "outputs": [
        {
          "output_type": "stream",
          "name": "stdout",
          "text": [
            "첫 번째 숫자를 입력하세요: 7\n",
            "두 번째 숫자를 입력하세요: 3\n",
            "나눗셈 결과: 2.33\n"
          ]
        }
      ]
    },
    {
      "cell_type": "code",
      "source": [
        "def divide(x, y):\n",
        "    try:\n",
        "        result = x / y\n",
        "        return result\n",
        "    except ZeroDivisionError:\n",
        "        print(\"0 으로 나눌 때에는 예외처리 됩니다.\")\n",
        "        return None #논을 출력함.\n",
        "\n",
        "num1 = float(input(\"첫 번째 숫자를 입력하세요: \"))\n",
        "num2 = float(input(\"두 번째 숫자를 입력하세요: \"))\n",
        "\n",
        "result = divide(num1, num2)\n",
        "if result is not None: #논이 아니라면 나눗셈 결과를 출력함.\n",
        "    rounded_result = round(result, 2)\n",
        "    print(f\"나눗셈 결과: {rounded_result}\")"
      ],
      "metadata": {
        "id": "BPDiu66Lg1mD"
      },
      "execution_count": null,
      "outputs": []
    }
  ]
}