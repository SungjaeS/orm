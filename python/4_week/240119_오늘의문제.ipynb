{
  "nbformat": 4,
  "nbformat_minor": 0,
  "metadata": {
    "colab": {
      "provenance": [],
      "authorship_tag": "ABX9TyPs37yGU5/pGkrnZpalM+hU",
      "include_colab_link": true
    },
    "kernelspec": {
      "name": "python3",
      "display_name": "Python 3"
    },
    "language_info": {
      "name": "python"
    }
  },
  "cells": [
    {
      "cell_type": "markdown",
      "metadata": {
        "id": "view-in-github",
        "colab_type": "text"
      },
      "source": [
        "<a href=\"https://colab.research.google.com/github/SungjaeS/orm/blob/main/240119_%EC%98%A4%EB%8A%98%EC%9D%98%EB%AC%B8%EC%A0%9C.ipynb\" target=\"_parent\"><img src=\"https://colab.research.google.com/assets/colab-badge.svg\" alt=\"Open In Colab\"/></a>"
      ]
    },
    {
      "cell_type": "code",
      "source": [
        "'''\n",
        "게임 밸런스 조절\n",
        "\n",
        "문제 설명\n",
        "라이캣은 연말 출시할 게임의 게임 난이도를 조절하는 업무를 담당하게 되었습니다.\n",
        "우선 능력치가 비정상적으로 높은 캐릭터들의 리스트를 뽑고자 합니다.\n",
        "캐릭터 이름, 공격력, 방어력, 체력, 마력이\n",
        "리스트로 ['Licat', 98, 30, 21, 60]와 같이 주어졌을 때 모든 능력치의\n",
        "합이 350 이상이 되는 캐릭터의 이름을 출력하는 solution함수를 완성해주세요.\n",
        "\n",
        "제한 사항\n",
        "3 ≤ 캐릭터의 수 ≤ 10\n",
        "10 ≤ 능력치 ≤ 100\n",
        "350이 넘는 캐릭터의 이름은 알파벳 순으로 출력합니다.\n",
        "'''"
      ],
      "metadata": {
        "id": "z_TTYiBdl5Up"
      },
      "execution_count": null,
      "outputs": []
    },
    {
      "cell_type": "code",
      "source": [
        "def solution(characters):\n",
        "    # 예외 처리: 캐릭터의 수가 3 이상 10 이하가 아니면 메시지를 반환\n",
        "    if not (3 <= len(characters) <= 10):\n",
        "        return \"캐릭터의 수는 3 이상 10 이하여야 합니다.\"\n",
        "\n",
        "    # 능력치가 높은 캐릭터들을 저장할 리스트\n",
        "    high_stat_chars = []\n",
        "\n",
        "    # 각 캐릭터에 대해 능력치의 합을 계산하고, 특정 조건을 만족하는 캐릭터를 찾음\n",
        "    for char in characters:\n",
        "        stats = char[1:]  # 캐릭터의 능력치 리스트\n",
        "        # 능력치가 10 이상 100 이하가 아니면 메시지를 반환\n",
        "        if any(not (10 <= stat <= 100) for stat in stats):\n",
        "            return \"능력치는 10 이상 100 이하여야 합니다\"\n",
        "        # 능력치의 합이 350 이상인 캐릭터를 high_stat_chars에 추가\n",
        "        if sum(stats) >= 350:\n",
        "            high_stat_chars.append(char[0])  # 캐릭터의 이름만 추가\n",
        "\n",
        "    high_stat_chars.sort()  # 능력치가 높은 캐릭터들의 이름을 정렬\n",
        "\n",
        "    return high_stat_chars  # 능력치가 높은 캐릭터들의 이름을 반환\n",
        "\n",
        "# 테스트 예시\n",
        "characters_list = [['Licat', 98, 92, 85, 97], ['Mura', 95, 32, 51, 30], ['Binky', 98, 98, 51, 32]]\n",
        "result = solution(characters_list)\n",
        "print(result)\n"
      ],
      "metadata": {
        "colab": {
          "base_uri": "https://localhost:8080/"
        },
        "id": "-Whr7rdq_vGr",
        "outputId": "708beceb-f436-43e7-d367-a75b7c25736d"
      },
      "execution_count": 2,
      "outputs": [
        {
          "output_type": "execute_result",
          "data": {
            "text/plain": [
              "['Licat']"
            ]
          },
          "metadata": {},
          "execution_count": 2
        }
      ]
    },
    {
      "cell_type": "code",
      "source": [
        "def solution(data):\n",
        "    return sorted([character[0] for character in data if sum(character[1:]) >= 350])\n"
      ],
      "metadata": {
        "id": "Soz1zMJr_Ivt"
      },
      "execution_count": null,
      "outputs": []
    },
    {
      "cell_type": "code",
      "source": [
        "def solution(data):\n",
        "    result = []\n",
        "    characters = [i[0] for i in data if sum(i[1:]) >= 350]\n",
        "    return sorted(characters) # 기본 키값이 0"
      ],
      "metadata": {
        "id": "YFcFctkjDDAn"
      },
      "execution_count": 4,
      "outputs": []
    },
    {
      "cell_type": "code",
      "source": [
        "# 1번\n",
        "def solution(data):\n",
        "    strong_characters = []\n",
        "    for character in data:\n",
        "        name, *stats = character\n",
        "        if sum(stats) >= 350:\n",
        "            strong_characters.append(name)\n",
        "    return sorted(strong_characters)"
      ],
      "metadata": {
        "id": "pHqmjjHhA7Uy"
      },
      "execution_count": null,
      "outputs": []
    },
    {
      "cell_type": "code",
      "execution_count": 3,
      "metadata": {
        "colab": {
          "base_uri": "https://localhost:8080/"
        },
        "id": "BFBbnvT6k5qh",
        "outputId": "a23ce53f-10ba-423f-e186-f156edacbfe3"
      },
      "outputs": [
        {
          "output_type": "stream",
          "name": "stdout",
          "text": [
            "['Allosa', 'Gray', 'Licat']\n"
          ]
        }
      ],
      "source": [
        "def solution(characters):\n",
        "    result = []\n",
        "\n",
        "    for character in sorted(characters):\n",
        "        total_power = sum(character[1:])\n",
        "        if total_power >= 350:\n",
        "            result.append(character[0])\n",
        "\n",
        "    return result\n",
        "\n",
        "캐릭터능력치 = [\n",
        "    ['Licat', 98, 92, 85, 97],\n",
        "    ['Mura', 95, 32, 51, 30],\n",
        "    ['Binky', 98, 98, 51, 32],\n",
        "    ['Gray', 98, 92, 85, 97],\n",
        "    ['Gom', 98, 30, 21, 60],\n",
        "    ['Allosa', 98, 90, 99, 98],\n",
        "]\n",
        "\n",
        "result = solution(캐릭터능력치)\n",
        "print(result)"
      ]
    },
    {
      "cell_type": "code",
      "source": [
        "'''\n",
        "우편 번호 정렬\n",
        "\n",
        "문제 설명\n",
        "각 주소가 담긴 배열과 우편번호 목록이 딕셔너리 형태로 주어질 때 에서 우편번호 오름차순 순서대로 주소를 정렬하는 코드를 작성해주세요.\n",
        "제한 사항\n",
        "63002 ≤ 우편번호 ≤ 63364\n",
        "우편번호는 항상 '시 - 동 - 길' 순으로 주어집니다. 예외사항은 없습니다.\n",
        "같은 동은 주어지지 않으며, 같은 우편번호도 주어지지 않습니다.\n",
        "입출력 예\n",
        "입력\n",
        "[['제주시 A동 한라산길 61', '제주시 B동 백록담길 63', '제주시 C동 사라봉길 31'], {'A동': 63007, 'B동': 63010, 'C동': 63002}]\n",
        "출력\n",
        "['제주시 C동 사라봉길 31', '제주시 A동 한라산길 61', '제주시 B동 백록담길 63']\n",
        "'''"
      ],
      "metadata": {
        "id": "mnxd1joHmmyp"
      },
      "execution_count": null,
      "outputs": []
    },
    {
      "cell_type": "code",
      "source": [
        "# 문제 2\n",
        "\n",
        "def solution(inputs):\n",
        "    addresses = inputs[0]\n",
        "    postal_codes = inputs[1]\n",
        "    sorted_addresses = sorted(addresses, key=lambda address: postal_codes[address.split()[1]])\n",
        "    return sorted_addresses\n"
      ],
      "metadata": {
        "id": "p2JImDVg_0xr"
      },
      "execution_count": null,
      "outputs": []
    },
    {
      "cell_type": "code",
      "source": [
        "# 2번\n",
        "def solution(data):\n",
        "    addresses, post_codes = data\n",
        "    return sorted(addresses, key=lambda address: post_codes[address.split()[1]])"
      ],
      "metadata": {
        "id": "blnjHVDjAq5l"
      },
      "execution_count": null,
      "outputs": []
    },
    {
      "cell_type": "code",
      "source": [
        "def solution(data):\n",
        "    address, zipcode = data\n",
        "    result = sorted(address, key = lambda x: zipcode[x.split()[1]])\n",
        "    return result"
      ],
      "metadata": {
        "id": "pG0PgVkPDRZr"
      },
      "execution_count": null,
      "outputs": []
    },
    {
      "cell_type": "code",
      "source": [
        "def solution(data):\n",
        "    addresses = [(address, data[1][address.split()[1]]) for address in data[0]]\n",
        "    sorted_address = sorted(addresses, key= lambda address: address[1])\n",
        "    return [address[0] for address in sorted_address]"
      ],
      "metadata": {
        "id": "PwXF1uVd_RTw"
      },
      "execution_count": 1,
      "outputs": []
    },
    {
      "cell_type": "code",
      "source": [
        "def solution(data):\n",
        "    return None\n",
        "\n",
        "입력 = [['제주시 A동 한라산길 61', '제주시 B동 백록담길 63', '제주시 C동 사라봉길 31'], {'A동': 63007, 'B동': 63010, 'C동': 63002}]\n"
      ],
      "metadata": {
        "id": "MT3zC07yv0rB"
      },
      "execution_count": null,
      "outputs": []
    },
    {
      "cell_type": "code",
      "source": [
        "'''\n",
        "도서관 책 연도별 정렬\n",
        "문제 설명\n",
        "라이캣은 도서관 사서로 일하게 되었습니다.\n",
        "도서관에 있는 책들의 제목과 해당 책들의 발행 연도가 딕셔너리 형태로 주어집니다.\n",
        "라이캣을 도와 주어진 책들을 발행 연도가 오래된 순서대로 정렬하는 코드를 작성해주세요.\n",
        "발행 연도가 같은 경우에는 제목의 사전순으로 정렬하세요.\n",
        "\n",
        "제한 사항\n",
        "발행 연도는 1900년부터 2024년 사이입니다.\n",
        "책 제목은 모두 영문으로 되어 있으며, 대소문자를 구분합니다.\n",
        "동일한 제목의 책은 존재하지 않습니다.\n",
        "책의 제목은 공백을 포함할 수 있습니다.\n",
        "\n",
        "입출력 예\n",
        "입력\n",
        "[['Moby Dick', 'To Kill a Mockingbird', '1984'], {'Moby Dick': 1851, 'To Kill a Mockingbird': 1960, '1984': 1949}]\n",
        "출력\n",
        "['Moby Dick', '1984', 'To Kill a Mockingbird']\n",
        "'''"
      ],
      "metadata": {
        "id": "n8UcwxK9mtFD"
      },
      "execution_count": null,
      "outputs": []
    },
    {
      "cell_type": "code",
      "source": [
        "# 문제 3\n",
        "\n",
        "def solution(data):\n",
        "    book_name = data[0]\n",
        "    book_years = data[1]\n",
        "\n",
        "    book_sorted = sorted(book_name, key = lambda book_name : book_years[book_name])\n",
        "\n",
        "    return book_sorted\n",
        "\n",
        "solution([['Moby Dick', 'To Kill a Mockingbird', '1984'], {'Moby Dick': 1851, 'To Kill a Mockingbird': 1960, '1984': 1949}])"
      ],
      "metadata": {
        "id": "PnVIonZcAH3B"
      },
      "execution_count": null,
      "outputs": []
    },
    {
      "cell_type": "code",
      "source": [
        "# 3번\n",
        "def solution(data):\n",
        "    books, publish_years = data\n",
        "    sorted_books = sorted(books, key=lambda x: (publish_years[x], x))\n",
        "\n",
        "    return sorted_books"
      ],
      "metadata": {
        "id": "W_dTuZ7UA-aJ"
      },
      "execution_count": null,
      "outputs": []
    },
    {
      "cell_type": "code",
      "source": [
        "data = [['Moby Dick', 'To Kill a Mockingbird', '1984'], {'Moby Dick': 1851, 'To Kill a Mockingbird': 1960, '1984': 1949}]\n",
        "book_name = data[0]\n",
        "book_years = data[1]\n",
        "\\\n",
        "sorted(book_name, key = lambda book_name : book_years[book_name])\n"
      ],
      "metadata": {
        "id": "CdrIcL5BAINw"
      },
      "execution_count": null,
      "outputs": []
    },
    {
      "cell_type": "code",
      "source": [
        "def solution(data):\n",
        "    books_info = sorted(data[1].items(), key= lambda info: info[1])\n",
        "    return [book[0] for book in books_info]"
      ],
      "metadata": {
        "id": "DsepOKtOnRUp"
      },
      "execution_count": null,
      "outputs": []
    },
    {
      "cell_type": "code",
      "source": [
        "def solution(data):\n",
        "    name, year = data\n",
        "    result = sorted(name, key=lambda x: year[x])\n",
        "    return result"
      ],
      "metadata": {
        "id": "uXglKA4bDWzZ"
      },
      "execution_count": null,
      "outputs": []
    }
  ]
}