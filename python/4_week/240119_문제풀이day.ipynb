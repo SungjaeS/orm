{
  "nbformat": 4,
  "nbformat_minor": 0,
  "metadata": {
    "colab": {
      "provenance": [],
      "authorship_tag": "ABX9TyNH/eFzlgmvIs1h911L+zsO",
      "include_colab_link": true
    },
    "kernelspec": {
      "name": "python3",
      "display_name": "Python 3"
    },
    "language_info": {
      "name": "python"
    }
  },
  "cells": [
    {
      "cell_type": "markdown",
      "metadata": {
        "id": "view-in-github",
        "colab_type": "text"
      },
      "source": [
        "<a href=\"https://colab.research.google.com/github/SungjaeS/orm/blob/main/240119_%EB%AC%B8%EC%A0%9C%ED%92%80%EC%9D%B4day.ipynb\" target=\"_parent\"><img src=\"https://colab.research.google.com/assets/colab-badge.svg\" alt=\"Open In Colab\"/></a>"
      ]
    },
    {
      "cell_type": "code",
      "execution_count": null,
      "metadata": {
        "id": "Zjs-t3xkDrzf"
      },
      "outputs": [],
      "source": [
        "# 문제 1: 이메일 주소 변경하기 (sub 사용)\n",
        "문제: 주어진 문자열에서 모든 이메일 주소를 `user@weniv.co.kr`으로 변경하시오.\n",
        "\n",
        "예시 입력: \"저의 이메일 주소는 kim123@gmail.com입니다. 친구의 이메일 주소는 lee456@gmail.com입니다.\"\n",
        "예시 출력: \"저의 이메일 주소는 user@weniv.co.kr입니다. 친구의 이메일 주소는 user@weniv.co.kr입니다.\"\n"
      ]
    },
    {
      "cell_type": "code",
      "source": [
        "# 변경된 문제의 해답\n",
        "import re\n",
        "\n",
        "\n",
        "def chagedomain(url):\n",
        "    return url.split('@')[0] + '@weniv.co.kr'\n",
        "\n",
        "# 콤마는 의도적으로 넣지 않은 것입니다.\n",
        "findpattern = re.findall(r\"[A-Za-z0-9._%+-]+@[A-Za-z0-9.-]+\\.[A-Z|a-z]{2,}\",\n",
        "                         \"저의 이메일 주소는 kim123@gmail.com입니다.\"\n",
        "                         \"친구의 이메일 주소는 lee456@gmail.com입니다.\")\n",
        "\n",
        "for url in findpattern:\n",
        "    print(chagedomain(url))"
      ],
      "metadata": {
        "colab": {
          "base_uri": "https://localhost:8080/"
        },
        "id": "ApS_jtWiG3y0",
        "outputId": "58bbe39f-54b5-4997-d3e8-bcd975785219"
      },
      "execution_count": 1,
      "outputs": [
        {
          "output_type": "stream",
          "name": "stdout",
          "text": [
            "kim123@weniv.co.kr\n",
            "lee456@weniv.co.kr\n"
          ]
        }
      ]
    },
    {
      "cell_type": "code",
      "source": [
        "# 출제 했던 문제의 해답\n",
        "my_string = \"저의 이메일 주소는 kim123@gmail.com입니다. 친구의 이메일 주소는 lee456@gmail.com입니다.\"\n",
        "re.sub(r\"[A-Za-z0-9._%+-]+@[A-Za-z0-9.-]+\\.[A-Z|a-z]{2,}\", \"user@weniv.co.kr\", my_string)"
      ],
      "metadata": {
        "colab": {
          "base_uri": "https://localhost:8080/",
          "height": 35
        },
        "id": "PyvnRjmLG5pS",
        "outputId": "4c6b285e-c759-46bd-d52c-3cef4be5ebd6"
      },
      "execution_count": 2,
      "outputs": [
        {
          "output_type": "execute_result",
          "data": {
            "text/plain": [
              "'저의 이메일 주소는 user@weniv.co.kr입니다. 친구의 이메일 주소는 user@weniv.co.kr입니다.'"
            ],
            "application/vnd.google.colaboratory.intrinsic+json": {
              "type": "string"
            }
          },
          "metadata": {},
          "execution_count": 2
        }
      ]
    },
    {
      "cell_type": "code",
      "source": [
        "# 변경된 문제의 해답\n",
        "my_string = \"저의 이메일 주소는 kim123@gmail.com입니다. 친구의 이메일 주소는 lee456@gmail.com입니다.\"\n",
        "re.sub(r\"@[A-Za-z0-9.-]+\\.[A-Z|a-z]{2,}\", \"@weniv.co.kr\", my_string)"
      ],
      "metadata": {
        "colab": {
          "base_uri": "https://localhost:8080/",
          "height": 35
        },
        "id": "4vt-iMnfG7ju",
        "outputId": "e9daa1ef-cda9-4d10-ad2b-fd5f69bec64a"
      },
      "execution_count": 3,
      "outputs": [
        {
          "output_type": "execute_result",
          "data": {
            "text/plain": [
              "'저의 이메일 주소는 kim123@weniv.co.kr입니다. 친구의 이메일 주소는 lee456@weniv.co.kr입니다.'"
            ],
            "application/vnd.google.colaboratory.intrinsic+json": {
              "type": "string"
            }
          },
          "metadata": {},
          "execution_count": 3
        }
      ]
    },
    {
      "cell_type": "code",
      "source": [
        "# 풀이 1\n",
        "def solution(url):\n",
        "    return url.split('@')[0] + '@weniv.co.kr'\n",
        "\n",
        "solution('user@weniv.co.kr')"
      ],
      "metadata": {
        "id": "4U4kBiqMFcqV"
      },
      "execution_count": null,
      "outputs": []
    },
    {
      "cell_type": "markdown",
      "source": [
        "# 문제 풀기 20"
      ],
      "metadata": {
        "id": "Ms3Hp3o5MSjK"
      }
    },
    {
      "cell_type": "code",
      "source": [
        "# 코딩 인터뷰 완전분석\n",
        "# 듣기\n",
        "# 예제\n",
        "# 무식하게 풀기\n",
        "# 최적화\n",
        "# 검토하기\n",
        "# 구현하기\n",
        "# 테스트"
      ],
      "metadata": {
        "id": "dsL6eM1jMfnj"
      },
      "execution_count": null,
      "outputs": []
    },
    {
      "cell_type": "markdown",
      "source": [
        "# 홀수 짝수 찾기\n",
        "링크 : https://school.programmers.co.kr/learn/courses/30/lessons/120824\n"
      ],
      "metadata": {
        "id": "dUja9oY5SjKY"
      }
    },
    {
      "cell_type": "code",
      "source": [
        "def solution(data):\n",
        "    홀수 = [i % 2 != 0 for i in data]\n",
        "    짝수 = [i % 2 == 0 for i in data]\n",
        "    print(홀수, 짝수)\n",
        "    return data\n",
        "\n",
        "solution([1, 2, 3, 4, 5])"
      ],
      "metadata": {
        "colab": {
          "base_uri": "https://localhost:8080/"
        },
        "id": "Na-cxcOkMhr_",
        "outputId": "68ba0c35-0a4b-4709-9ba6-e6549ed05797"
      },
      "execution_count": 4,
      "outputs": [
        {
          "output_type": "stream",
          "name": "stdout",
          "text": [
            "[True, False, True, False, True] [False, True, False, True, False]\n"
          ]
        },
        {
          "output_type": "execute_result",
          "data": {
            "text/plain": [
              "[1, 2, 3, 4, 5]"
            ]
          },
          "metadata": {},
          "execution_count": 4
        }
      ]
    },
    {
      "cell_type": "code",
      "source": [
        "def solution(data):\n",
        "    홀수 = [i % 2 != 0 for i in data]\n",
        "    짝수 = [i % 2 == 0 for i in data]\n",
        "    # print(홀수, 짝수)\n",
        "    return [sum(짝수), sum(홀수)]"
      ],
      "metadata": {
        "id": "ajrFU_sFP7D4"
      },
      "execution_count": null,
      "outputs": []
    },
    {
      "cell_type": "code",
      "source": [
        "def solution(data):\n",
        "    count = 0\n",
        "    for i in data:\n",
        "        if i % 2 == 0:\n",
        "            count += 1\n",
        "    return [count, len(data)-count]\n",
        "\n",
        "solution()"
      ],
      "metadata": {
        "id": "0-Q0osJSQUrI"
      },
      "execution_count": null,
      "outputs": []
    },
    {
      "cell_type": "code",
      "source": [
        "def solution(num_list):\n",
        "    answer = [0, 0]\n",
        "    for i in num_list:\n",
        "        answer[i % 2] += 1\n",
        "    return answer"
      ],
      "metadata": {
        "id": "1GYL1hNTQVM4"
      },
      "execution_count": 6,
      "outputs": []
    },
    {
      "cell_type": "code",
      "source": [
        "# 좋은 풀이는 아닙니다.\n",
        "# data의 가변 최대치를 봅니다.\n",
        "def solution(data):\n",
        "    짝수 = [i % 2 == 0 for i in data]\n",
        "    return [sum(짝수), len(data) - sum(짝수)] # sum이 순회합니다."
      ],
      "metadata": {
        "id": "hUufrnHqRagK"
      },
      "execution_count": 1,
      "outputs": []
    },
    {
      "cell_type": "code",
      "source": [
        "def solution(data):\n",
        "    짝수 = [i % 2 == 0 for i in data]\n",
        "    갯수 = sum(짝수)\n",
        "    return [갯수, len(data) - 갯수]"
      ],
      "metadata": {
        "id": "Rf7wJWyOSARz"
      },
      "execution_count": 2,
      "outputs": []
    },
    {
      "cell_type": "markdown",
      "source": [
        "# 머쓱이보다 키 큰 사람\n",
        "링크 : https://school.programmers.co.kr/learn/courses/30/lessons/120585\n"
      ],
      "metadata": {
        "id": "YsMrbYf8SIsf"
      }
    },
    {
      "cell_type": "code",
      "source": [
        "# 이렇게 언패킹 해서 사용할 수 있는 것들은 언패킹 해주세요.\n",
        "# 가독성이 좋아집니다!\n",
        "def solution(data):\n",
        "    array, height = data\n",
        "    pass\n",
        "\n",
        "solution([[149, 180, 192, 170], 167])"
      ],
      "metadata": {
        "id": "S-HB6mUoSxLT"
      },
      "execution_count": 3,
      "outputs": []
    },
    {
      "cell_type": "code",
      "source": [
        "def solution(array, height):\n",
        "    pass\n",
        "\n",
        "solution([149, 180, 192, 170], 167)"
      ],
      "metadata": {
        "id": "_sEBmB0uS-ye"
      },
      "execution_count": 4,
      "outputs": []
    },
    {
      "cell_type": "code",
      "source": [
        "def solution(array, height):\n",
        "    count = 0\n",
        "    for i in array:\n",
        "        if i > height:\n",
        "            count += 1\n",
        "    return count"
      ],
      "metadata": {
        "id": "X6vbMHMyTjB9"
      },
      "execution_count": 5,
      "outputs": []
    },
    {
      "cell_type": "code",
      "source": [
        "def solution(array, height):\n",
        "    print(list(filter(lambda x: x> height, array)))\n",
        "    return\n",
        "\n",
        "solution([149, 180, 192, 170], 167)"
      ],
      "metadata": {
        "colab": {
          "base_uri": "https://localhost:8080/"
        },
        "id": "8nm3b1tVT0gE",
        "outputId": "9ea60bd5-ba52-4dce-e3ea-a5c026fdab74"
      },
      "execution_count": 8,
      "outputs": [
        {
          "output_type": "stream",
          "name": "stdout",
          "text": [
            "[180, 192, 170]\n"
          ]
        }
      ]
    },
    {
      "cell_type": "code",
      "source": [
        "# filter는 len가 없습니다!\n",
        "def solution(array, height):\n",
        "    return len(list(filter(lambda x: x > height, array)))\n",
        "\n",
        "solution([149, 180, 192, 170], 167)\n",
        "\n",
        "# 왜? filter에는 len가 없나요?\n",
        "# filter는 순회 돌기 전까지 실행이 되지 않은 함수\n",
        "# for와 같이 순회를 돌아야 그때서야 각 원소 별로 접근해서\n",
        "# 주문만 하고 아직 제조되지 않은 커피\n",
        "# 커피를 달라고 소리쳐야(순회, 형변환) 그때야 제조가 됩니다."
      ],
      "metadata": {
        "colab": {
          "base_uri": "https://localhost:8080/"
        },
        "id": "NmaWBcuVU4L_",
        "outputId": "fd02437b-58c1-43c6-e178-467a76349b8e"
      },
      "execution_count": 9,
      "outputs": [
        {
          "output_type": "execute_result",
          "data": {
            "text/plain": [
              "3"
            ]
          },
          "metadata": {},
          "execution_count": 9
        }
      ]
    },
    {
      "cell_type": "code",
      "source": [
        "def solution(array, height):\n",
        "    return sum(map(lambda x: x > height, array))\n",
        "\n",
        "solution([149, 180, 192, 170], 167)"
      ],
      "metadata": {
        "colab": {
          "base_uri": "https://localhost:8080/"
        },
        "id": "M8lMEXzzU5Rt",
        "outputId": "191a11a5-cd97-4f46-cf02-a92e6e32943a"
      },
      "execution_count": 10,
      "outputs": [
        {
          "output_type": "execute_result",
          "data": {
            "text/plain": [
              "3"
            ]
          },
          "metadata": {},
          "execution_count": 10
        }
      ]
    },
    {
      "cell_type": "code",
      "source": [
        "def solution(array, height):\n",
        "    return sum(map(lambda x: x > height, array))\n",
        "\n",
        "solution([149, 180, 192, 170], 167)"
      ],
      "metadata": {
        "id": "0x2GyIJiU755"
      },
      "execution_count": null,
      "outputs": []
    },
    {
      "cell_type": "code",
      "source": [
        "def solution(array, height):\n",
        "    return sum([i > height for i in array])\n",
        "\n",
        "solution([149, 180, 192, 170], 167)"
      ],
      "metadata": {
        "id": "pYOAuzeYViM9"
      },
      "execution_count": null,
      "outputs": []
    },
    {
      "cell_type": "code",
      "source": [
        "def solution(array, height):\n",
        "    return sum(i > height for i in array)\n",
        "\n",
        "solution([149, 180, 192, 170], 167)"
      ],
      "metadata": {
        "id": "0KFpeujhVjld"
      },
      "execution_count": null,
      "outputs": []
    },
    {
      "cell_type": "markdown",
      "source": [
        "## 숨어있는 숫자의 덧셈\n",
        "링크: https://school.programmers.co.kr/learn/courses/30/lessons/120851"
      ],
      "metadata": {
        "id": "UXg6q8J3WLUO"
      }
    },
    {
      "cell_type": "code",
      "source": [
        "def solution():\n",
        "    pass\n",
        "\n",
        "solution(\"aAb1B2cC34oOp\")"
      ],
      "metadata": {
        "id": "Xg3Ou5-HWOg5"
      },
      "execution_count": null,
      "outputs": []
    },
    {
      "cell_type": "code",
      "source": [
        "# 오답, 그러나 이렇게도 많이 사용합니다.\n",
        "def solution(my_string):\n",
        "    count = 0\n",
        "    for i in my_string:\n",
        "        if i.isdigit():\n",
        "            count += 1\n",
        "\n",
        "solution(\"aAb1B2cC34oOp\")"
      ],
      "metadata": {
        "id": "i1giqWqYWu-Y"
      },
      "execution_count": null,
      "outputs": []
    },
    {
      "cell_type": "code",
      "source": [
        "def solution(my_string):\n",
        "    result = 0\n",
        "    for i in my_string:\n",
        "        if i.isdigit():\n",
        "            result += int(i)\n",
        "\n",
        "    return result\n",
        "\n",
        "solution(\"aAb1B2cC34oOp\")"
      ],
      "metadata": {
        "id": "LfWaAFAmWvzH"
      },
      "execution_count": null,
      "outputs": []
    },
    {
      "cell_type": "code",
      "source": [
        "# 효율적이진 않지만, 문법 복습차원에서\n",
        "def solution(my_string):\n",
        "    return list(filter(lambda x: x.isdigit(), list(my_string)))\n",
        "\n",
        "solution(\"aAb1B2cC34oOp\")"
      ],
      "metadata": {
        "id": "qD-vIIHDtnHj"
      },
      "execution_count": null,
      "outputs": []
    },
    {
      "cell_type": "code",
      "source": [
        "# 효율적이진 않지만, 문법 복습차원에서\n",
        "def solution(my_string):\n",
        "    return list(filter(str.isdigit, list(my_string)))\n",
        "\n",
        "solution(\"aAb1B2cC34oOp\")"
      ],
      "metadata": {
        "id": "ru0wWNp7t1EG"
      },
      "execution_count": null,
      "outputs": []
    },
    {
      "cell_type": "code",
      "source": [
        "# 효율적이진 않지만, 문법 복습차원에서\n",
        "def solution(my_string):\n",
        "    return list(filter(str.isdigit, my_string))\n",
        "\n",
        "solution(\"aAb1B2cC34oOp\")"
      ],
      "metadata": {
        "id": "1rMgW4pit1tC"
      },
      "execution_count": null,
      "outputs": []
    },
    {
      "cell_type": "code",
      "source": [
        "# isdigit에 () 가 있고 없고의 차이는 무엇인가요?\n",
        "def 함수(x):\n",
        "    return x.isdigit()\n",
        "\n",
        "def solution(my_string):\n",
        "    return list(filter(함수, my_string))\n",
        "\n",
        "solution(\"aAb1B2cC34oOp\")"
      ],
      "metadata": {
        "id": "r7RMJxGiYW_i"
      },
      "execution_count": null,
      "outputs": []
    },
    {
      "cell_type": "code",
      "source": [
        "# 효율적이진 않지만, 문법 복습차원에서\n",
        "def solution(my_string):\n",
        "    return sum(map(int,(filter(str.isdigit, my_string))))\n",
        "\n",
        "solution(\"aAb1B2cC34oOp\")"
      ],
      "metadata": {
        "id": "KstU-8MUYn-X"
      },
      "execution_count": null,
      "outputs": []
    },
    {
      "cell_type": "code",
      "source": [
        "# 효율적이진 않지만, 문법 복습차원에서\n",
        "def solution(my_string):\n",
        "    return sum(map(lambda x: int(x) if x.isdigit() else False, my_string))\n",
        "\n",
        "solution(\"aAb1B2cC34oOp\")"
      ],
      "metadata": {
        "id": "LFjTjfR0Ypen"
      },
      "execution_count": null,
      "outputs": []
    },
    {
      "cell_type": "code",
      "source": [
        "# r은 raw 날것의 라는 뜻이 있어요.\n",
        "# 실무에서 자주쓰는 용어입니다. raw != low(이 용어는 자주 사용하지 않습니다.)\n",
        "# raw data를 전달해줘 => 가공하지 않은 순수 데이터를 달라는 얘기입니다.\n",
        "\n",
        "r'hello\\nworld' # \\n 이스케이프 문자입니다.\n",
        "print('hello\\nworld')\n",
        "print(r'hello\\nworld') # 왜요? 정규표현식에서 이스케이프 문자를 많이 사용하니까요!"
      ],
      "metadata": {
        "colab": {
          "base_uri": "https://localhost:8080/"
        },
        "id": "p2jI_kg9aIgW",
        "outputId": "02de64c1-9fdc-4bc0-f089-a0a8f99bf7ea"
      },
      "execution_count": 11,
      "outputs": [
        {
          "output_type": "stream",
          "name": "stdout",
          "text": [
            "hello\n",
            "world\n",
            "hello\\nworld\n"
          ]
        }
      ]
    },
    {
      "cell_type": "code",
      "source": [
        "import re\n",
        "\n",
        "re.findall(r'[0-9]', \"aAb1B2cC34oOp\")"
      ],
      "metadata": {
        "id": "5-g6VPGbdDbi"
      },
      "execution_count": null,
      "outputs": []
    },
    {
      "cell_type": "code",
      "source": [
        "import re\n",
        "\n",
        "def solution(s):\n",
        "    return sum(map(int, re.findall(r'[0-9]', s)))\n",
        "\n",
        "solution('aAb1B2cC34oOp')"
      ],
      "metadata": {
        "id": "nPxun3VitV0N"
      },
      "execution_count": null,
      "outputs": []
    },
    {
      "cell_type": "code",
      "source": [
        "import re\n",
        "\n",
        "def solution(s):\n",
        "    return sum(map(int, (re.sub(r'[a-zA-Z]', '', s))))\n",
        "\n",
        "solution('aAb1B2cC34oOp')"
      ],
      "metadata": {
        "id": "lF1WyFUadR12"
      },
      "execution_count": null,
      "outputs": []
    },
    {
      "cell_type": "markdown",
      "source": [
        "## 암호해독\n",
        "링크: https://school.programmers.co.kr/learn/courses/30/lessons/120892"
      ],
      "metadata": {
        "id": "BHEzpGGHtSnJ"
      }
    },
    {
      "cell_type": "code",
      "source": [
        "def solution(cipher, code):\n",
        "    return cipher[code-1::code]\n",
        "\n",
        "solution(\"dfjardstddetckdaccccdegk\", 4)"
      ],
      "metadata": {
        "id": "mnrtymp4tQod"
      },
      "execution_count": null,
      "outputs": []
    },
    {
      "cell_type": "code",
      "source": [
        "def solution(cipher, code):\n",
        "    count = 1\n",
        "    for i in cipher:\n",
        "        if count == code:\n",
        "            print(i)\n",
        "            count = 0\n",
        "        count += 1\n",
        "\n",
        "solution(\"dfjardstddetckdaccccdegk\", 4)"
      ],
      "metadata": {
        "id": "IXh7guixtPm7"
      },
      "execution_count": null,
      "outputs": []
    },
    {
      "cell_type": "code",
      "source": [
        "def solution(cipher, code):\n",
        "    count = 1\n",
        "    for i, j in enumerate(cipher, 1):\n",
        "        if i % code == 0:\n",
        "            print(j)\n",
        "\n",
        "solution(\"dfjardstddetckdaccccdegk\", 4)"
      ],
      "metadata": {
        "id": "hZGAFBQ4tODc"
      },
      "execution_count": null,
      "outputs": []
    },
    {
      "cell_type": "code",
      "source": [
        "# 3 7 11 15\n",
        "# 이런 풀이는 권하지 않습니다.\n",
        "def solution(cipher, code):\n",
        "    result = ''\n",
        "    for i in range(1, len(cipher) // 4 + 1):\n",
        "        result += cipher[i * code - 1]\n",
        "    print(result)\n",
        "\n",
        "solution(\"dfjardstddetckdaccccdegk\", 4)"
      ],
      "metadata": {
        "id": "FLA_tyW5tLtF"
      },
      "execution_count": null,
      "outputs": []
    },
    {
      "cell_type": "code",
      "source": [
        "# 3 7 11 15\n",
        "# 이런 풀이는 권하지 않습니다.\n",
        "def solution(cipher, code):\n",
        "    result = ''\n",
        "    for i in range(1, len(cipher) // code + 1):\n",
        "        result += cipher[i * code - 1]\n",
        "    return result\n",
        "\n",
        "solution(\"dfjardstddetckdaccccdegk\", 4)"
      ],
      "metadata": {
        "id": "KH0HxvHIjKwa"
      },
      "execution_count": null,
      "outputs": []
    },
    {
      "cell_type": "code",
      "source": [
        "s = 0\n",
        "for i in range(1, 101):\n",
        "    s += i\n",
        "print(s)\n",
        "\n",
        "n = 100\n",
        "s = n * (n + 1) // 2\n",
        "print(s)"
      ],
      "metadata": {
        "id": "LaJhav8LjKsj"
      },
      "execution_count": null,
      "outputs": []
    },
    {
      "cell_type": "markdown",
      "source": [
        "## 369게임\n",
        "링크: https://school.programmers.co.kr/learn/courses/30/lessons/120891"
      ],
      "metadata": {
        "id": "GfSdC7oBjKm8"
      }
    },
    {
      "cell_type": "code",
      "source": [
        "def solution(order):\n",
        "    order = str(order)\n",
        "    return order.count('3') + order.count('6') + order.count('9')\n",
        "\n",
        "solution('29423')"
      ],
      "metadata": {
        "id": "-isIoJiZtC8F"
      },
      "execution_count": null,
      "outputs": []
    },
    {
      "cell_type": "code",
      "source": [
        "import re\n",
        "\n",
        "re.findall(r'[369]', '1231231234839291')"
      ],
      "metadata": {
        "id": "e0tVoqWZtC0P"
      },
      "execution_count": null,
      "outputs": []
    },
    {
      "cell_type": "code",
      "source": [
        "import re\n",
        "\n",
        "def solution(order):\n",
        "    order = str(order)\n",
        "    return len(list(re.findall(r'[369]', order)))"
      ],
      "metadata": {
        "id": "MH3cHRJytCtq"
      },
      "execution_count": null,
      "outputs": []
    },
    {
      "cell_type": "markdown",
      "source": [
        "## 중복문자 제거\n",
        "링크: https://school.programmers.co.kr/learn/courses/30/lessons/120888"
      ],
      "metadata": {
        "id": "be4t7SMNtBrs"
      }
    },
    {
      "cell_type": "code",
      "source": [
        "set(\"people\") # 중복 제거 완료, 그러나 순서를 보장하지 않음!"
      ],
      "metadata": {
        "id": "sfxnOQ6Xs-Cm"
      },
      "execution_count": null,
      "outputs": []
    },
    {
      "cell_type": "code",
      "source": [
        "def solution(s):\n",
        "    answer = ''\n",
        "    for i in s:\n",
        "        if i not in answer:\n",
        "            answer += i\n",
        "    print(answer)\n",
        "\n",
        "solution('people')"
      ],
      "metadata": {
        "id": "s2a_Y-x6s35b"
      },
      "execution_count": null,
      "outputs": []
    },
    {
      "cell_type": "code",
      "source": [
        "def solution(s):\n",
        "    answer = ''\n",
        "    for i in s:\n",
        "        if i not in answer:\n",
        "            answer += i\n",
        "    return answer\n",
        "\n",
        "solution('people')"
      ],
      "metadata": {
        "id": "DM5Ao7TPs3tP"
      },
      "execution_count": null,
      "outputs": []
    },
    {
      "cell_type": "code",
      "source": [
        "def solution(my_string):\n",
        "    return dict.fromkeys(my_string) # 딕셔너리는 키의 중복이 안된다는 점을 이용! dict는 이제 순서를 보장합니다!\n",
        "\n",
        "solution('people')"
      ],
      "metadata": {
        "id": "bTpMRobxs3qr"
      },
      "execution_count": null,
      "outputs": []
    },
    {
      "cell_type": "code",
      "source": [
        "def solution(my_string):\n",
        "    return ''.join(dict.fromkeys(my_string))\n",
        "\n",
        "solution('people')"
      ],
      "metadata": {
        "id": "brbSEmvAs3oE"
      },
      "execution_count": null,
      "outputs": []
    },
    {
      "cell_type": "code",
      "source": [
        "''.join(['hello', 'world', '!'])\n",
        "''.join({'hello', 'world', '!'})\n",
        "''.join({'one': 10, 'two': 20}) # 왜 그렇죠? dict를 for문을 돌았을 때 key만 나오는 이유와 같습니다."
      ],
      "metadata": {
        "id": "umVNV9DLs3lR"
      },
      "execution_count": null,
      "outputs": []
    },
    {
      "cell_type": "code",
      "source": [
        "str.isdigit\n",
        "dict.fromkeys('hello')\n",
        "dict.fromkeys('abccba')"
      ],
      "metadata": {
        "id": "vt_miqO9s3fT"
      },
      "execution_count": null,
      "outputs": []
    },
    {
      "cell_type": "markdown",
      "source": [
        "## A로 B 만들기\n",
        "링크: https://school.programmers.co.kr/learn/courses/30/lessons/120886"
      ],
      "metadata": {
        "id": "FNYslqwtqf5m"
      }
    },
    {
      "cell_type": "code",
      "source": [
        "# 3시간, 4시간, 1문제당 30분 ~ 40분\n",
        "# 앞에 문제는 20분 내에 푸는 문제도 있어야 함\n",
        "# Lv 1 ~ 2는 20분 ~ 40분 내에 푸셔야 합니다.\n",
        "# 실전에서는 Lv1 ~ 2도 1시간 걸리셔도 됩니다.\n",
        "# Lv4 ~ Lv5 포기\n",
        "################\n",
        "# 연습하면서 Lv0 10분 ~ 20분 고민하셨으면 정답을 보시고 외우시는 편이 좀 더 편하실겁니다."
      ],
      "metadata": {
        "id": "xbOMUaewwGyx"
      },
      "execution_count": null,
      "outputs": []
    },
    {
      "cell_type": "code",
      "source": [
        "def solution(before, after):\n",
        "    if len(before) != len(after): # 예외 처리는 앞에서 반드시 해주어야 합니다. 특히나 요소가 없거나 길이가 0인 경우\n",
        "        return 0\n",
        "    return 1 if sorted(before) == sorted(after) else 0\n",
        "\n",
        "solution(\"olleh\", \"hello\")"
      ],
      "metadata": {
        "colab": {
          "base_uri": "https://localhost:8080/"
        },
        "id": "En6tTDQerX4k",
        "outputId": "828f173e-6fe1-4345-eabc-08a8b757ac27"
      },
      "execution_count": 12,
      "outputs": [
        {
          "output_type": "execute_result",
          "data": {
            "text/plain": [
              "1"
            ]
          },
          "metadata": {},
          "execution_count": 12
        }
      ]
    },
    {
      "cell_type": "code",
      "source": [
        "import collections\n",
        "\n",
        "\n",
        "# collections.Counter(\"olleh\") == collections.Counter(\"hello\")\n",
        "# collections.Counter(\"olleh\") == collections.Counter(\"hhhhhhhhhello\")\n",
        "collections.Counter(\"olleh\")"
      ],
      "metadata": {
        "colab": {
          "base_uri": "https://localhost:8080/"
        },
        "id": "3irNCfx3VPZB",
        "outputId": "969d0480-f54f-48f9-984c-978aed9321d9"
      },
      "execution_count": 2,
      "outputs": [
        {
          "output_type": "execute_result",
          "data": {
            "text/plain": [
              "Counter({'o': 1, 'l': 2, 'e': 1, 'h': 1})"
            ]
          },
          "metadata": {},
          "execution_count": 2
        }
      ]
    },
    {
      "cell_type": "code",
      "source": [
        "def solution(before, after):\n",
        "    a = list(after)\n",
        "    for i in before:\n",
        "        if i in a:\n",
        "            a.remove(i)\n",
        "        else:\n",
        "            return 0\n",
        "    if a:\n",
        "        return 0\n",
        "    return 1\n",
        "\n",
        "solution(\"olleh\", \"hello\")"
      ],
      "metadata": {
        "colab": {
          "base_uri": "https://localhost:8080/"
        },
        "id": "Ann4ntPvVRhe",
        "outputId": "0ed702f4-fdb5-4d9e-bc8a-20f1267f3aaa"
      },
      "execution_count": 3,
      "outputs": [
        {
          "output_type": "execute_result",
          "data": {
            "text/plain": [
              "1"
            ]
          },
          "metadata": {},
          "execution_count": 3
        }
      ]
    },
    {
      "cell_type": "code",
      "source": [
        "def solution(before, after):\n",
        "    # 예외 처리: 입력된 두 문자열의 길이가 다르면 애너그램 관계가 될 수 없으므로 0을 반환\n",
        "    if len(before) != len(after):\n",
        "        return 0\n",
        "\n",
        "    # 정렬된 before와 after가 같으면 애너그램 관계이므로 1을 반환, 아니면 0을 반환\n",
        "    return 1 if sorted(before) == sorted(after) else 0\n",
        "\n",
        "# 테스트 예시\n",
        "result = solution(\"olleh\", \"hello\")\n",
        "print(result)\n",
        "\n"
      ],
      "metadata": {
        "colab": {
          "base_uri": "https://localhost:8080/"
        },
        "id": "a2Ax4PykwcR4",
        "outputId": "01142478-824b-4ab9-ab40-62c908961504"
      },
      "execution_count": 13,
      "outputs": [
        {
          "output_type": "stream",
          "name": "stdout",
          "text": [
            "1\n"
          ]
        }
      ]
    },
    {
      "cell_type": "markdown",
      "source": [
        "solution 함수는 두 개의 문자열 before와 after를 받아서 애너그램 여부를 판단하는 함수입니다.\n",
        "\n",
        "if len(before) != len(after):는 예외 처리 부분입니다. 입력된 두 문자열의 길이가 다르면 애너그램이 될 수 없으므로 바로 0을 반환합니다.\n",
        "\n",
        "sorted(before)와 sorted(after)는 각각 문자열을 정렬한 결과를 반환합니다. 예를 들어, \"olleh\"는 \"hello\"로 정렬됩니다.\n",
        "\n",
        "1 if sorted(before) == sorted(after) else 0는 정렬된 두 문자열이 같으면 1을 반환하고, 그렇지 않으면 0을 반환합니다.\n",
        "\n",
        "마지막으로, 테스트 예시로 함수를 호출하고 결과를 출력합니다. 위의 예시에서는 \"olleh\"와 \"hello\"는 애너그램이 아니므로 0이 출력됩니다."
      ],
      "metadata": {
        "id": "fhMRdXDQxGxt"
      }
    },
    {
      "cell_type": "code",
      "source": [
        "import collections\n",
        "\n",
        "\n",
        "# collections.Counter(\"olleh\") == collections.Counter(\"hello\")\n",
        "# collections.Counter(\"olleh\") == collections.Counter(\"hhhhhhhhhello\")\n",
        "collections.Counter(\"olleh\")"
      ],
      "metadata": {
        "colab": {
          "base_uri": "https://localhost:8080/"
        },
        "id": "UsgwouB2xUIQ",
        "outputId": "9958767b-6d6d-4734-b518-2aae8a077e24"
      },
      "execution_count": 14,
      "outputs": [
        {
          "output_type": "execute_result",
          "data": {
            "text/plain": [
              "Counter({'o': 1, 'l': 2, 'e': 1, 'h': 1})"
            ]
          },
          "metadata": {},
          "execution_count": 14
        }
      ]
    },
    {
      "cell_type": "code",
      "source": [
        "def solution(before, after):\n",
        "    a = list(after)\n",
        "    for i in before:\n",
        "        if i in a:\n",
        "            a.remove(i)\n",
        "        else:\n",
        "            return 0\n",
        "    if a:\n",
        "        return 0\n",
        "    return 1\n",
        "\n",
        "solution(\"olleh\", \"hello\")"
      ],
      "metadata": {
        "colab": {
          "base_uri": "https://localhost:8080/"
        },
        "id": "kgCqVPJ2xH-m",
        "outputId": "2ba3fd19-6f66-4df0-92b9-4cd8a4c4d362"
      },
      "execution_count": 1,
      "outputs": [
        {
          "output_type": "execute_result",
          "data": {
            "text/plain": [
              "1"
            ]
          },
          "metadata": {},
          "execution_count": 1
        }
      ]
    },
    {
      "cell_type": "code",
      "source": [
        "# 회문\n",
        "\n",
        "# 'hello' => 'elloh' => 'llohe'\n",
        "# 'hello' => 'ohell' => 'lohel'\n",
        "# collections.deque를 사용해서 풀면 쉽게 풀립니다.\n",
        "\n",
        "# 문제1 'hello'를 앞뒤로 이동시켜 'llohe'를 만들 수 있나요?\n",
        "# 'hellohello'\n",
        "\n",
        "# 문제2 몇칸 이동했나요?\n",
        "# 'hellohello'.index('llohe')"
      ],
      "metadata": {
        "id": "0uo7MLb7xyyU"
      },
      "execution_count": null,
      "outputs": []
    },
    {
      "cell_type": "markdown",
      "source": [
        "## 저주의 숫자 3\n",
        "링크: https://school.programmers.co.kr/learn/courses/30/lessons/120871"
      ],
      "metadata": {
        "id": "7W8VRlbrygm8"
      }
    },
    {
      "cell_type": "code",
      "source": [
        "# 십진수    3숫자마을\n",
        "# 1         1\n",
        "# 2         2\n",
        "# 3         4\n",
        "# 4         5\n",
        "# 5         7\n",
        "# 6         8\n",
        "# 7         10\n",
        "# 8         11\n",
        "# 9         14\n",
        "# 10        16"
      ],
      "metadata": {
        "id": "uqXcnsFLzp_u"
      },
      "execution_count": null,
      "outputs": []
    },
    {
      "cell_type": "code",
      "source": [
        "# [True, True, False]..."
      ],
      "metadata": {
        "id": "v0F-icYIVa-a"
      },
      "execution_count": null,
      "outputs": []
    },
    {
      "cell_type": "code",
      "source": [
        "# filter('3이 들어간 숫자 없애기', filter('3의 배수 없애기', [1, 2, 3, 4, 5, 6, 7, 8, 9, 10]))"
      ],
      "metadata": {
        "id": "qBRZsEdVVbsH"
      },
      "execution_count": null,
      "outputs": []
    },
    {
      "cell_type": "code",
      "source": [
        "list(filter(lambda x: (x % 3 != 0) and ('3' not in str(x)), range(100)))[15-1]"
      ],
      "metadata": {
        "id": "e839Rw6uVd8J"
      },
      "execution_count": null,
      "outputs": []
    },
    {
      "cell_type": "code",
      "source": [
        "def solution(num):\n",
        "    return list(filter(lambda x: (x % 3 != 0) and ('3' not in str(x)), range(1000)))[num-1]\n",
        "\n",
        "solution(15)"
      ],
      "metadata": {
        "id": "q1zys_K3Vgne"
      },
      "execution_count": null,
      "outputs": []
    },
    {
      "cell_type": "code",
      "source": [
        "def solution(num):\n",
        "    return list(filter(lambda x: (x % 3 != 0) and ('3' not in str(x)), range(1000)))[num-1]"
      ],
      "metadata": {
        "id": "N46L4mXb1RFr"
      },
      "execution_count": null,
      "outputs": []
    },
    {
      "cell_type": "code",
      "source": [
        "solution = lambda n:[i for i in range(10000) if i % 3 != 0 and '3' not in str(i)][n-1]"
      ],
      "metadata": {
        "id": "RsrIgbuL1j74"
      },
      "execution_count": null,
      "outputs": []
    },
    {
      "cell_type": "code",
      "source": [
        "def solution(num):\n",
        "    l = []\n",
        "    for i in range(1000):\n",
        "        if i % 3 != 0:\n",
        "            l.append(i)\n",
        "        elif '3' not in str(i):\n",
        "            l.append(i)\n",
        "    print(l)\n",
        "\n",
        "solution(15)"
      ],
      "metadata": {
        "id": "NYVg4spG1zTP"
      },
      "execution_count": null,
      "outputs": []
    },
    {
      "cell_type": "markdown",
      "source": [
        "## 진료순서 정하기\n",
        "링크: https://school.programmers.co.kr/learn/courses/30/lessons/120835"
      ],
      "metadata": {
        "id": "-MNvnOYCVwYn"
      }
    },
    {
      "cell_type": "code",
      "source": [
        "# emergency     result\n",
        "# [3, 76, 24]   [3, 1, 2]\n",
        "\n",
        "def solution(emergency):\n",
        "    sorted_emergency = sorted(emergency, reverse=True)\n",
        "    return [sorted_emergency.index(i) + 1 for i in emergency]\n",
        "\n",
        "\n",
        "solution([3, 76, 24])"
      ],
      "metadata": {
        "id": "yUjZFa1CVxdi"
      },
      "execution_count": null,
      "outputs": []
    },
    {
      "cell_type": "code",
      "source": [
        "# 좋은 문제입니다.\n",
        "emergency = [3, 76, 24]\n",
        "\n",
        "sorted_emergency = sorted(emergency, reverse=True)\n",
        "sorted_emergency\n",
        "\n",
        "# 원하는 결과값 [3, 1, 2]\n",
        "[sorted_emergency.index(i) + 1 for i in emergency]"
      ],
      "metadata": {
        "id": "UDRfjchAV89m"
      },
      "execution_count": null,
      "outputs": []
    },
    {
      "cell_type": "code",
      "source": [
        "data = ['제주', '경기', '전주'] # ['064', '031', '063']\n",
        "data2 = {\n",
        "    '제주': '064',\n",
        "    '경기': '031',\n",
        "    '전주': '063'\n",
        "}\n",
        "\n",
        "[data2[i] for i in data]"
      ],
      "metadata": {
        "id": "BVZPdZEaV_kB"
      },
      "execution_count": null,
      "outputs": []
    },
    {
      "cell_type": "markdown",
      "source": [
        "## 가까운 수\n",
        "링크: https://school.programmers.co.kr/learn/courses/30/lessons/120890"
      ],
      "metadata": {
        "id": "l3qtMmjFWByT"
      }
    },
    {
      "cell_type": "code",
      "source": [
        "# [3, 10, 28] => [17, 10, 8]\n",
        "# 원하는 숫자: 20\n",
        "# result: 28"
      ],
      "metadata": {
        "id": "5CnZehXGWE9R"
      },
      "execution_count": null,
      "outputs": []
    },
    {
      "cell_type": "code",
      "source": [
        "l = [3, 10, 28]\n",
        "sorted(l, key=lambda x: abs(x - 20))[0]"
      ],
      "metadata": {
        "id": "a3cQvNBnWFvz"
      },
      "execution_count": null,
      "outputs": []
    },
    {
      "cell_type": "code",
      "source": [
        "# 오류\n",
        "def solution(array, n):\n",
        "    return sorted(array, key=lambda x: abs(x - n))[0]"
      ],
      "metadata": {
        "id": "UwnCLUl0WHEi"
      },
      "execution_count": null,
      "outputs": []
    },
    {
      "cell_type": "code",
      "source": [
        "def solution(array, n):\n",
        "    return sorted(array, key=lambda x:(abs(x-n), x))[0]"
      ],
      "metadata": {
        "id": "Ibc5-eEqWH2i"
      },
      "execution_count": null,
      "outputs": []
    },
    {
      "cell_type": "code",
      "source": [
        "# [3, 10, 28, 30, 12] => [17, 10, 8, 10, 8]\n",
        "# [3, 10, 28, 30, 12] => [(17, 3), (10, 10), (8, 28), (10, 30), (8, 12)]\n",
        "# 원하는 숫자: 20\n",
        "# result: 28\n",
        "\n",
        "array = [3, 10, 28, 30, 12]\n",
        "n = 20\n",
        "\n",
        "# 28 - 20 == 8\n",
        "# 12 - 20 == -8\n",
        "\n",
        "# 20 - 28 == -8\n",
        "# 20 - 12 == 8\n",
        "\n",
        "sorted(array, key=lambda x:(abs(x-n), x))[0]\n",
        "sorted(array, key=lambda x:(abs(x-n), n-x))[0] # 팁, n-x이거나 x-n 2개 중에 하나입니다."
      ],
      "metadata": {
        "id": "SeV7qri_WIyd"
      },
      "execution_count": null,
      "outputs": []
    },
    {
      "cell_type": "markdown",
      "source": [
        "## k의 개수\n",
        "\n",
        "링크: https://school.programmers.co.kr/learn/courses/30/lessons/120887"
      ],
      "metadata": {
        "id": "_W1t2otrWLbM"
      }
    },
    {
      "cell_type": "code",
      "source": [
        "# i\tj\tk\n",
        "# 1\t13\t1\n",
        "\n",
        "i = 1\n",
        "j = 13\n",
        "k = 1\n",
        "\n",
        "str(list(range(i, j+1)))\n",
        "'[1, 11, 13]'.count('1')\n",
        "\n",
        "str(list(range(i, j+1))).count(str(k))"
      ],
      "metadata": {
        "id": "SKPezESwWOaz"
      },
      "execution_count": null,
      "outputs": []
    },
    {
      "cell_type": "code",
      "source": [
        "a = 10\n",
        "b = 20\n",
        "\n",
        "# swap\n",
        "\n",
        "temp = a\n",
        "a = b\n",
        "b = temp\n",
        "\n",
        "# python에서 사용하는 swap\n",
        "\n",
        "a = 10\n",
        "b = 20\n",
        "a, b = b, a\n",
        "a, b"
      ],
      "metadata": {
        "colab": {
          "base_uri": "https://localhost:8080/"
        },
        "id": "3jty6NdKUjv0",
        "outputId": "21cbc4a5-a8d6-4a19-d4f2-f0e845baa930"
      },
      "execution_count": 5,
      "outputs": [
        {
          "output_type": "execute_result",
          "data": {
            "text/plain": [
              "(20, 10)"
            ]
          },
          "metadata": {},
          "execution_count": 5
        }
      ]
    },
    {
      "cell_type": "code",
      "source": [
        "i = 1\n",
        "j = 13\n",
        "k = 1\n",
        "\n",
        "count = 0\n",
        "for temp in range(i, j):\n",
        "    count += str(temp).count(str(k))\n",
        "\n",
        "count"
      ],
      "metadata": {
        "colab": {
          "base_uri": "https://localhost:8080/"
        },
        "id": "tkO7wgd7WXbC",
        "outputId": "e4140af1-13f9-4c2e-c8be-439bed34dccd"
      },
      "execution_count": 4,
      "outputs": [
        {
          "output_type": "execute_result",
          "data": {
            "text/plain": [
              "5"
            ]
          },
          "metadata": {},
          "execution_count": 4
        }
      ]
    },
    {
      "cell_type": "code",
      "source": [
        "def solution(i, j, k):\n",
        "    return str(list(range(i, j+1))).count(str(k))"
      ],
      "metadata": {
        "id": "O9BMl8XdWYOl"
      },
      "execution_count": null,
      "outputs": []
    },
    {
      "cell_type": "markdown",
      "source": [
        "# 직접 출제 문제"
      ],
      "metadata": {
        "id": "XkAH-G4eW22M"
      }
    },
    {
      "cell_type": "code",
      "source": [
        "# 각 선분이 있는 곳에 총 길이 합을 구하라\n",
        "# [[0, 5], [3, 5], [7, 10]]\n",
        "\n",
        "선 = [False] * 10\n",
        "선"
      ],
      "metadata": {
        "colab": {
          "base_uri": "https://localhost:8080/"
        },
        "id": "4iJyc1zHW42H",
        "outputId": "d70a605b-c1d6-4c3a-8583-5781358e9df8"
      },
      "execution_count": 6,
      "outputs": [
        {
          "output_type": "execute_result",
          "data": {
            "text/plain": [
              "[False, False, False, False, False, False, False, False, False, False]"
            ]
          },
          "metadata": {},
          "execution_count": 6
        }
      ]
    },
    {
      "cell_type": "code",
      "source": [
        "for i in range(0, 5):\n",
        "    선[i] = True\n",
        "\n",
        "선"
      ],
      "metadata": {
        "colab": {
          "base_uri": "https://localhost:8080/"
        },
        "id": "gUWfzloCXbru",
        "outputId": "895d1ee6-11d5-42a1-ff93-a6abfe98ba50"
      },
      "execution_count": 7,
      "outputs": [
        {
          "output_type": "execute_result",
          "data": {
            "text/plain": [
              "[True, True, True, True, True, False, False, False, False, False]"
            ]
          },
          "metadata": {},
          "execution_count": 7
        }
      ]
    },
    {
      "cell_type": "code",
      "source": [
        "for i in range(3, 5):\n",
        "    선[i] = True\n",
        "\n",
        "선"
      ],
      "metadata": {
        "colab": {
          "base_uri": "https://localhost:8080/"
        },
        "id": "HHkfs4j_Xdpr",
        "outputId": "b75447af-df8b-4e8f-9a62-73decc114df6"
      },
      "execution_count": 8,
      "outputs": [
        {
          "output_type": "execute_result",
          "data": {
            "text/plain": [
              "[True, True, True, True, True, False, False, False, False, False]"
            ]
          },
          "metadata": {},
          "execution_count": 8
        }
      ]
    },
    {
      "cell_type": "code",
      "source": [
        "for i in range(7, 10):\n",
        "    선[i] = True\n",
        "\n",
        "선"
      ],
      "metadata": {
        "colab": {
          "base_uri": "https://localhost:8080/"
        },
        "id": "rwv28Am8XeoY",
        "outputId": "a45e3666-8739-4aeb-d476-0d42607c490e"
      },
      "execution_count": 9,
      "outputs": [
        {
          "output_type": "execute_result",
          "data": {
            "text/plain": [
              "[True, True, True, True, True, False, False, True, True, True]"
            ]
          },
          "metadata": {},
          "execution_count": 9
        }
      ]
    },
    {
      "cell_type": "code",
      "source": [
        "sum(선)\n"
      ],
      "metadata": {
        "colab": {
          "base_uri": "https://localhost:8080/"
        },
        "id": "H1_hsilJXgdd",
        "outputId": "391b1153-47c6-420d-85d3-8bfa4e100064"
      },
      "execution_count": 10,
      "outputs": [
        {
          "output_type": "execute_result",
          "data": {
            "text/plain": [
              "8"
            ]
          },
          "metadata": {},
          "execution_count": 10
        }
      ]
    },
    {
      "cell_type": "code",
      "source": [
        "a = 10;b = 10\n",
        "a, b"
      ],
      "metadata": {
        "colab": {
          "base_uri": "https://localhost:8080/"
        },
        "id": "WTtph01JYfar",
        "outputId": "51bc8003-096f-45df-c34e-eaee763a823d"
      },
      "execution_count": 12,
      "outputs": [
        {
          "output_type": "execute_result",
          "data": {
            "text/plain": [
              "(10, 10)"
            ]
          },
          "metadata": {},
          "execution_count": 12
        }
      ]
    },
    {
      "cell_type": "code",
      "source": [
        "# 에라토스테스트의 체 => 소수판별 => 이것을 알고리즘 문제로 내는 것은 저는 반대\n",
        "소수 = [True] * 120\n",
        "소수[0] = 소수[1] = False\n",
        "\n",
        "for i in range(4, 120, 2):\n",
        "    소수[i] = False\n",
        "\n",
        "for i in range(6, 120, 3):\n",
        "    소수[i] = False\n",
        "\n",
        "#for i in range(4, 120, 4): # 2의 배수에 속하기 때문에 4의 배소는 해줄필요가 없다.\n",
        "#    소수[i] = False"
      ],
      "metadata": {
        "id": "xAKOTvsAYE8g"
      },
      "execution_count": null,
      "outputs": []
    },
    {
      "cell_type": "code",
      "source": [
        "# 에라토스테스트의 체 => 소수판별 => 이것을 알고리즘 문제로 내는 것은 저는 반대\n",
        "소수 = [True] * 120\n",
        "소수[0] = 소수[1] = False\n",
        "\n",
        "for i in range(4, 120, 2):\n",
        "    소수[i] = False\n",
        "\n",
        "for i in range(6, 120, 3):\n",
        "    소수[i] = False\n",
        "\n",
        "# for i in range(4, 120, 4): # 2의 배수에 속하기 때문에 4의 배수는 할 필요가 없습니다.\n",
        "#     소수[i] = False\n",
        "\n",
        "...\n",
        "\n",
        "# https://nahwasa.com/entry/%EC%97%90%EB%9D%BC%ED%86%A0%EC%8A%A4%ED%85%8C%EB%84%A4%EC%8A%A4%EC%9D%98-%EC%B2%B4-%ED%98%B9%EC%9D%80-%EC%86%8C%EC%88%98%ED%8C%90%EC%A0%95-%EC%8B%9C-%EC%A0%9C%EA%B3%B1%EA%B7%BC-%EA%B9%8C%EC%A7%80%EB%A7%8C-%ED%99%95%EC%9D%B8%ED%95%98%EB%A9%B4-%EB%90%98%EB%8A%94-%EC%9D%B4%EC%9C%A0"
      ],
      "metadata": {
        "id": "XvVeXNPYaA6W"
      },
      "execution_count": null,
      "outputs": []
    },
    {
      "cell_type": "code",
      "source": [
        "16\n",
        "\n",
        "# 곱해지는 각 자연수중 하나는 무조건\n",
        "# 제곱근과 같거나 작아야하는거니까\n",
        "\n",
        "# 4 * 4\n",
        "# 2 * 8\n",
        "\n",
        "# 2, 3, 4\n",
        "\n",
        "# 2, 4, 6, 8, 10, 12\n",
        "# 3, 6, 9, 12\n",
        "# ---\n",
        "# 5, 10, 15"
      ],
      "metadata": {
        "id": "FtaWdmsfbWBw"
      },
      "execution_count": null,
      "outputs": []
    },
    {
      "cell_type": "code",
      "source": [
        "for 소수, 판별 in enumerate(소수):\n",
        "    if 판별:\n",
        "        print(소수)"
      ],
      "metadata": {
        "id": "259vzykIbWiH"
      },
      "execution_count": null,
      "outputs": []
    },
    {
      "cell_type": "code",
      "source": [
        "# 행렬의 연산과 같은 것은 np를 사용하시면 쉽고 빠르게 풀 수 있습니다.\n",
        "import numpy as np\n",
        "\n",
        "x = np.array([1, 2, 3])\n",
        "x * 2"
      ],
      "metadata": {
        "colab": {
          "base_uri": "https://localhost:8080/"
        },
        "id": "kFBlkMz6bo0o",
        "outputId": "1bbed5df-a30f-420a-e176-5f6cce0e4e1e"
      },
      "execution_count": 16,
      "outputs": [
        {
          "output_type": "execute_result",
          "data": {
            "text/plain": [
              "array([2, 4, 6])"
            ]
          },
          "metadata": {},
          "execution_count": 16
        }
      ]
    },
    {
      "cell_type": "code",
      "source": [
        "s = [[1, 3, 5], [7, 9, 11], [13, 15, 17]]\n",
        "s = np.array(s)\n",
        "np.where(s == 7)\n",
        "행, 렬 = np.where(s == 7)\n",
        "행"
      ],
      "metadata": {
        "colab": {
          "base_uri": "https://localhost:8080/"
        },
        "id": "q3w6JA3Hcco9",
        "outputId": "48173acf-73f0-428e-cdbe-0cc2dfbbe4b3"
      },
      "execution_count": 18,
      "outputs": [
        {
          "output_type": "execute_result",
          "data": {
            "text/plain": [
              "array([1])"
            ]
          },
          "metadata": {},
          "execution_count": 18
        }
      ]
    },
    {
      "cell_type": "code",
      "source": [
        "s = [[1, 3, 5], [7, 9, 11], [13, 15, 17]]\n",
        "s = np.array(s)\n",
        "행, 렬 = np.where(s == 7)\n",
        "행"
      ],
      "metadata": {
        "colab": {
          "base_uri": "https://localhost:8080/"
        },
        "id": "mUyKmvauc4xm",
        "outputId": "a2a1d48f-58f6-4c54-a7eb-0d7f5e68846e"
      },
      "execution_count": 17,
      "outputs": [
        {
          "output_type": "execute_result",
          "data": {
            "text/plain": [
              "array([1])"
            ]
          },
          "metadata": {},
          "execution_count": 17
        }
      ]
    },
    {
      "cell_type": "code",
      "source": [
        "# 지뢰찾기\n",
        "x = [[0, 1, 0, 0],\n",
        "     [0, 1, 0, 0],\n",
        "     [0, 0, 0, 1]]\n",
        "\n",
        "x = np.array(x)\n",
        "np.where(x == 1)"
      ],
      "metadata": {
        "colab": {
          "base_uri": "https://localhost:8080/"
        },
        "id": "eUY-wx1sc73U",
        "outputId": "a468ee64-f16e-4b5b-ab7c-5d46e525049f"
      },
      "execution_count": 19,
      "outputs": [
        {
          "output_type": "execute_result",
          "data": {
            "text/plain": [
              "(array([0, 1, 2]), array([1, 1, 3]))"
            ]
          },
          "metadata": {},
          "execution_count": 19
        }
      ]
    },
    {
      "cell_type": "code",
      "source": [
        "x = [[0, 1, 0, 0],\n",
        "     [0, 1, 0, 0],\n",
        "     [0, 0, 0, 1]]\n",
        "\n",
        "s = 0\n",
        "for i in x:\n",
        "    s += i.count(1)\n",
        "\n",
        "s"
      ],
      "metadata": {
        "colab": {
          "base_uri": "https://localhost:8080/"
        },
        "id": "-fg360GSdjN4",
        "outputId": "8ee626f2-a88d-4c17-ee55-4f052aae5d17"
      },
      "execution_count": 20,
      "outputs": [
        {
          "output_type": "execute_result",
          "data": {
            "text/plain": [
              "3"
            ]
          },
          "metadata": {},
          "execution_count": 20
        }
      ]
    },
    {
      "cell_type": "code",
      "source": [
        "x = [[0, 1, 0, 0],\n",
        "     [0, 1, 0, 0],\n",
        "     [0, 0, 0, 1]]\n",
        "\n",
        "x = np.array(x)\n",
        "x == 1"
      ],
      "metadata": {
        "colab": {
          "base_uri": "https://localhost:8080/"
        },
        "id": "pYPF2lJHdr8T",
        "outputId": "b1362397-8cd9-4b51-ac63-4651f471b615"
      },
      "execution_count": 21,
      "outputs": [
        {
          "output_type": "execute_result",
          "data": {
            "text/plain": [
              "array([[False,  True, False, False],\n",
              "       [False,  True, False, False],\n",
              "       [False, False, False,  True]])"
            ]
          },
          "metadata": {},
          "execution_count": 21
        }
      ]
    },
    {
      "cell_type": "code",
      "source": [
        "x = [[0, 5, 2, 0],\n",
        "     [0, 7, 0, 6],\n",
        "     [0, 1, 3, 5]]\n",
        "\n",
        "x = np.array(x)\n",
        "x > 3"
      ],
      "metadata": {
        "colab": {
          "base_uri": "https://localhost:8080/"
        },
        "id": "iHmjbfPdeeco",
        "outputId": "fce3a019-5204-4160-e9eb-d22d457e4e1a"
      },
      "execution_count": 22,
      "outputs": [
        {
          "output_type": "execute_result",
          "data": {
            "text/plain": [
              "array([[False,  True, False, False],\n",
              "       [False,  True, False,  True],\n",
              "       [False, False, False,  True]])"
            ]
          },
          "metadata": {},
          "execution_count": 22
        }
      ]
    }
  ]
}