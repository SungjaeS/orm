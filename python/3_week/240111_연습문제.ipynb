{
  "nbformat": 4,
  "nbformat_minor": 0,
  "metadata": {
    "colab": {
      "provenance": [],
      "authorship_tag": "ABX9TyOopEq4M39bIA+Iqkgklb12",
      "include_colab_link": true
    },
    "kernelspec": {
      "name": "python3",
      "display_name": "Python 3"
    },
    "language_info": {
      "name": "python"
    }
  },
  "cells": [
    {
      "cell_type": "markdown",
      "metadata": {
        "id": "view-in-github",
        "colab_type": "text"
      },
      "source": [
        "<a href=\"https://colab.research.google.com/github/SungjaeS/orm/blob/main/240111_%EC%97%B0%EC%8A%B5%EB%AC%B8%EC%A0%9C.ipynb\" target=\"_parent\"><img src=\"https://colab.research.google.com/assets/colab-badge.svg\" alt=\"Open In Colab\"/></a>"
      ]
    },
    {
      "cell_type": "code",
      "source": [
        "# 1.다음 숫자 중 5보다 크고, 20보다 작으면서 짝수인 수를 모두 더하는 코드를 완성 해주세요.\n",
        "# 오늘 배운 filter 사용은 필수 입니다.\n",
        "\n",
        "number = [1, 5, 7, 4, 3, 22, 23, 15, 26, 17, 3]\n",
        "\n",
        "def solution(data):\n",
        "    result = sum(filter(lambda x: x > 5 and x < 20 and x % 2 == 0, data))\n",
        "    return result\n",
        "\n",
        "result = solution(number)\n",
        "print(result)"
      ],
      "metadata": {
        "colab": {
          "base_uri": "https://localhost:8080/"
        },
        "id": "jRl6sGU0jG9d",
        "outputId": "0806f91c-d307-4ea6-e2fd-b9104fc2e583"
      },
      "execution_count": null,
      "outputs": [
        {
          "output_type": "stream",
          "name": "stdout",
          "text": [
            "0\n"
          ]
        }
      ]
    },
    {
      "cell_type": "code",
      "source": [
        "# 다음에 정보가 담겨져 있는 것을 Class로 만들어주세요. 메서드로는 '할인' 메서드를 만들어주세요.\n",
        "# 예를 들어 아래 책을 10% 할인한다고 하면 4500원이 됩니다.\n",
        "# 책.할인(10) == 4500의 형태로 만들어주시면 됩니다.\n",
        "\n",
        "{\n",
        "    '책제목': 'hello world python',\n",
        "    '책 내용 요약': 'hello world...',\n",
        "    '저자': '이호준',\n",
        "    '발행일': '2024-01-11',\n",
        "    '가격': 5000\n",
        "}"
      ],
      "metadata": {
        "id": "vvIJIMsFZfDc"
      },
      "execution_count": null,
      "outputs": []
    },
    {
      "cell_type": "code",
      "source": [
        "from datetime import datetime\n",
        "\n",
        "class Book:\n",
        "    def __init__(self, title, summary, author, publication_date, price):\n",
        "        self.title = title\n",
        "        self.summary = summary\n",
        "        self.author = author\n",
        "        self.publication_date = datetime.strptime(publication_date, \"%Y-%m-%d\")\n",
        "        self.price = price\n",
        "\n",
        "    def discount(self, discount_percentage):\n",
        "        # 할인된 가격을 계산하여 반환\n",
        "        discounted_price = self.price - (self.price * discount_percentage / 100)\n",
        "        return discounted_price\n",
        "\n",
        "# 책 정보를 담은 딕셔너리\n",
        "book_info = {\n",
        "    '책제목': 'hello world python',\n",
        "    '책 내용 요약': 'hello world...',\n",
        "    '저자': '이호준',\n",
        "    '발행일': '2024-01-11',\n",
        "    '가격': 5000\n",
        "}\n",
        "\n",
        "# Book 클래스 인스턴스 생성\n",
        "book = Book(\n",
        "    title=book_info['책제목'],\n",
        "    summary=book_info['책 내용 요약'],\n",
        "    author=book_info['저자'],\n",
        "    publication_date=book_info['발행일'],\n",
        "    price=book_info['가격']\n",
        ")\n",
        "\n",
        "# 할인 메서드를 이용하여 가격을 할인한 결과 출력\n",
        "discounted_price = book.discount(10)\n",
        "print(f\"{book.title} 책을 10% 할인하면 {discounted_price}원입니다.\")"
      ],
      "metadata": {
        "colab": {
          "base_uri": "https://localhost:8080/"
        },
        "id": "gZeYgGv0l9dJ",
        "outputId": "ec6f6548-b88c-4188-ca7c-11d54023cdd4"
      },
      "execution_count": null,
      "outputs": [
        {
          "output_type": "stream",
          "name": "stdout",
          "text": [
            "hello world python 책을 10% 할인하면 4500.0원입니다.\n"
          ]
        }
      ]
    },
    {
      "cell_type": "code",
      "source": [
        "# 다음 문제를 풀고 정답을 제출해주세요.\n",
        "#3.1 https://100.pyalgo.co.kr/?page=10\n",
        "\n",
        " = [\n",
        "    ['Licat', 98, 92, 85, 97],\n",
        "    ['Mura', 95, 32, 51, 30],\n",
        "    ['Binky', 98, 98, 51, 32],\n",
        "    ['Gray', 98, 92, 85, 97],\n",
        "    ['Gom', 98, 30, 21, 60],\n",
        "    ['Allosa', 98, 90, 99, 98],\n",
        "]\n",
        "\n",
        "# 총합을 기준으로 정렬\n",
        "sorted_캐릭능력치 = sorted(캐릭능력치, key=lambda x: sum(x[1:]))\n",
        "\n",
        "# 350이 넘는 캐릭터의 이름과 능력치만 알파벳 순으로 출력\n",
        "for character in sorted_캐릭능력치:\n",
        "    total_score = sum(character[1:], x[0])\n",
        "    if total_score > 350:\n",
        "        print(character[0], total_score)\n",
        "        #sorted(캐릭능력치, key=lambda x: (x[1] + x[2] + x[3] + [4], x[0]), reverse=True)"
      ],
      "metadata": {
        "colab": {
          "base_uri": "https://localhost:8080/",
          "height": 148
        },
        "id": "GBVeV-4faLNf",
        "outputId": "451a91b1-41b3-4172-fe29-457e07fe7d1d"
      },
      "execution_count": null,
      "outputs": [
        {
          "output_type": "error",
          "ename": "IndentationError",
          "evalue": "unexpected indent (<ipython-input-40-2d2b093d0f40>, line 4)",
          "traceback": [
            "\u001b[0;36m  File \u001b[0;32m\"<ipython-input-40-2d2b093d0f40>\"\u001b[0;36m, line \u001b[0;32m4\u001b[0m\n\u001b[0;31m    = [\u001b[0m\n\u001b[0m    ^\u001b[0m\n\u001b[0;31mIndentationError\u001b[0m\u001b[0;31m:\u001b[0m unexpected indent\n"
          ]
        }
      ]
    },
    {
      "cell_type": "code",
      "source": [
        "#다음 문제를 풀고 정답을 제출해주세요.\n",
        "# 3.2 https://100.pyalgo.co.kr/?page=18"
      ],
      "metadata": {
        "id": "yWFHHui2aOeF"
      },
      "execution_count": null,
      "outputs": []
    }
  ]
}