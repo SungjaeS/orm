{
  "nbformat": 4,
  "nbformat_minor": 0,
  "metadata": {
    "colab": {
      "provenance": [],
      "authorship_tag": "ABX9TyNwXphYyD9QAh6kNIrpKINj",
      "include_colab_link": true
    },
    "kernelspec": {
      "name": "python3",
      "display_name": "Python 3"
    },
    "language_info": {
      "name": "python"
    }
  },
  "cells": [
    {
      "cell_type": "markdown",
      "metadata": {
        "id": "view-in-github",
        "colab_type": "text"
      },
      "source": [
        "<a href=\"https://colab.research.google.com/github/SungjaeS/orm/blob/main/240109_%EC%97%B0%EC%8A%B5%EB%AC%B8%EC%A0%9C.ipynb\" target=\"_parent\"><img src=\"https://colab.research.google.com/assets/colab-badge.svg\" alt=\"Open In Colab\"/></a>"
      ]
    },
    {
      "cell_type": "markdown",
      "source": [
        "#1.1 숫자를 입력 받기\n",
        "\n",
        "* input을 화용해서 숫자를 입력받기."
      ],
      "metadata": {
        "id": "I_4HZzH40oUN"
      }
    },
    {
      "cell_type": "code",
      "source": [
        "number = int(input('숫자를 입력하세요~ (1에서 100사이)'))"
      ],
      "metadata": {
        "colab": {
          "base_uri": "https://localhost:8080/"
        },
        "id": "cazjhDlG0yuF",
        "outputId": "768e372f-4e66-40c5-91c1-ca44fb79b5c5"
      },
      "execution_count": null,
      "outputs": [
        {
          "name": "stdout",
          "output_type": "stream",
          "text": [
            "숫자를 입력하세요~ (1에서 100사이)100\n"
          ]
        }
      ]
    },
    {
      "cell_type": "code",
      "source": [
        "print(number)\n",
        "print(type(number))\n"
      ],
      "metadata": {
        "colab": {
          "base_uri": "https://localhost:8080/"
        },
        "id": "PR9ThVI-07HA",
        "outputId": "12777393-5b2f-41f9-896f-7284161434ec"
      },
      "execution_count": null,
      "outputs": [
        {
          "output_type": "stream",
          "name": "stdout",
          "text": [
            "100\n",
            "<class 'int'>\n"
          ]
        }
      ]
    },
    {
      "cell_type": "code",
      "source": [
        "# 우리가  맞춰야할 숫자!\n",
        "import random\n",
        "\n",
        "secret_number = random.randrange(1, 101)"
      ],
      "metadata": {
        "id": "TpLrXBXx1EdE"
      },
      "execution_count": null,
      "outputs": []
    },
    {
      "cell_type": "code",
      "source": [
        "# 정답을 위함 Step 1\n",
        "# if문을 사용해서 같은면 정답 틀리면 틀렸습니다. 라고 출력해보기!\n",
        "\n",
        "if number == secret_number:\n",
        "        print(\"정답\")\n",
        "else:\n",
        "    print(\"틀렸습니다.\")"
      ],
      "metadata": {
        "colab": {
          "base_uri": "https://localhost:8080/"
        },
        "id": "mgDLDRY11hNv",
        "outputId": "b85fd607-0142-4b80-8b0f-3c4bf71f1e8d"
      },
      "execution_count": null,
      "outputs": [
        {
          "output_type": "stream",
          "name": "stdout",
          "text": [
            "틀렸습니다.\n"
          ]
        }
      ]
    },
    {
      "cell_type": "code",
      "source": [
        "number = int(input('숫자를 입력하세요~ (1에서 100사이)'))\n",
        "print(number)\n",
        "print(type(number))"
      ],
      "metadata": {
        "colab": {
          "base_uri": "https://localhost:8080/"
        },
        "id": "DtvbLEZb2gUT",
        "outputId": "a0eccb25-57b6-4ced-90f3-3db7760d9a7e"
      },
      "execution_count": null,
      "outputs": [
        {
          "output_type": "stream",
          "name": "stdout",
          "text": [
            "숫자를 입력하세요~ (1에서 100사이)50\n",
            "50\n",
            "<class 'int'>\n"
          ]
        }
      ]
    },
    {
      "cell_type": "code",
      "source": [
        "if number == secret_number:\n",
        "        print(\"정답\")\n",
        "else:\n",
        "    print(\"틀렸습니다.\")"
      ],
      "metadata": {
        "id": "fXNeu2GK3e-g"
      },
      "execution_count": null,
      "outputs": []
    },
    {
      "cell_type": "code",
      "source": [
        "for _ in range(10):\n",
        "    number = int(input('10번의 기회 숫자 입력(1~100):'))\n",
        "\n",
        "    if number == secret_number:\n",
        "        print('정답입니다!')\n",
        "        break\n",
        "    elif number < secret_number:\n",
        "        print(\"{} 보다 큰 숫자 입니다.\".format(number))\n",
        "    elif number > secret_number:\n",
        "        print(\"{} 보다 낮은 숫자 입니다.\".format(number))\n",
        "    else:\n",
        "        print('틀렸습니다! 정답은 {}'.format(secret_number))\n",
        "\n",
        "# 10번의 기회 동안 정답을 못 맞추면 마지막에 정답을 보여줌\n",
        "else:\n",
        "    print('10번의 기회가 끝났습니다. 정답은 {}'.format(secret_number))"
      ],
      "metadata": {
        "colab": {
          "base_uri": "https://localhost:8080/"
        },
        "id": "wNpUAYYL7bz0",
        "outputId": "6e43eaa8-42a7-403f-cdc2-22933b6d4e97"
      },
      "execution_count": null,
      "outputs": [
        {
          "output_type": "stream",
          "name": "stdout",
          "text": [
            "10번의 기회 숫자 입력(1~100):50\n",
            "50 보다 낮은 숫자 입니다.\n",
            "10번의 기회 숫자 입력(1~100):30\n",
            "30 보다 낮은 숫자 입니다.\n",
            "10번의 기회 숫자 입력(1~100):20\n",
            "20 보다 큰 숫자 입니다.\n",
            "10번의 기회 숫자 입력(1~100):40\n",
            "40 보다 낮은 숫자 입니다.\n",
            "10번의 기회 숫자 입력(1~100):10\n",
            "10 보다 큰 숫자 입니다.\n",
            "10번의 기회 숫자 입력(1~100):30\n",
            "30 보다 낮은 숫자 입니다.\n",
            "10번의 기회 숫자 입력(1~100):40\n",
            "40 보다 낮은 숫자 입니다.\n",
            "10번의 기회 숫자 입력(1~100):50\n",
            "50 보다 낮은 숫자 입니다.\n",
            "10번의 기회 숫자 입력(1~100):20\n",
            "20 보다 큰 숫자 입니다.\n",
            "10번의 기회 숫자 입력(1~100):40\n",
            "40 보다 낮은 숫자 입니다.\n",
            "10번의 기회가 끝났습니다. 정답은 29\n"
          ]
        }
      ]
    },
    {
      "cell_type": "code",
      "source": [
        "# 이수현님 코드\n",
        "for G in range(20):\n",
        "    number = int(input('20번의 기회 숫자 입력(1~100):'))\n",
        "\n",
        "    if number == secret_number:\n",
        "        print('정답입니다!')\n",
        "        break\n",
        "    elif number < secret_number:\n",
        "        print(\"{} 보다 큰 숫자 입니다.\".format(number))\n",
        "    elif number > secret_number:\n",
        "     if number < secret_number:\n",
        "        print(\"{} 보다 낮은 숫자 입니다.\".format(number))\n",
        "    else:\n",
        "        print('틀렸습니다! 정답은 print(\"{}\")'.format(secret_number))"
      ],
      "metadata": {
        "colab": {
          "base_uri": "https://localhost:8080/"
        },
        "id": "UvviycoM3uTn",
        "outputId": "eaae2c41-e770-4ba6-ef46-cdd6b9f65a6c"
      },
      "execution_count": null,
      "outputs": [
        {
          "name": "stdout",
          "output_type": "stream",
          "text": [
            "20번의 기회 숫자 입력(1~100):10\n",
            "10 보다 큰 숫자 입니다.\n",
            "20번의 기회 숫자 입력(1~100):20\n",
            "20 보다 큰 숫자 입니다.\n",
            "20번의 기회 숫자 입력(1~100):30\n",
            "20번의 기회 숫자 입력(1~100):30\n",
            "20번의 기회 숫자 입력(1~100):30\n",
            "20번의 기회 숫자 입력(1~100):30\n",
            "20번의 기회 숫자 입력(1~100):30\n",
            "20번의 기회 숫자 입력(1~100):30\n",
            "20번의 기회 숫자 입력(1~100):30\n",
            "20번의 기회 숫자 입력(1~100):40\n",
            "20번의 기회 숫자 입력(1~100):50\n",
            "20번의 기회 숫자 입력(1~100):60\n",
            "20번의 기회 숫자 입력(1~100):30\n",
            "20번의 기회 숫자 입력(1~100):40\n",
            "20번의 기회 숫자 입력(1~100):50\n",
            "20번의 기회 숫자 입력(1~100):30\n",
            "20번의 기회 숫자 입력(1~100):30\n",
            "20번의 기회 숫자 입력(1~100):20\n",
            "20 보다 큰 숫자 입니다.\n",
            "20번의 기회 숫자 입력(1~100):234\n",
            "20번의 기회 숫자 입력(1~100):54\n"
          ]
        }
      ]
    },
    {
      "cell_type": "code",
      "source": [
        "# 지민경님 = 강사님이 원했던 좋은 코드\n",
        "for i in range(20):\n",
        "    nums = int(input(\"숫자를 입력하세요(1부터 100까지): \"))\n",
        "    if nums == secret_num:\n",
        "        print(\"정답!\")\n",
        "    else:\n",
        "        print(\"틀렸습니다.\")"
      ],
      "metadata": {
        "id": "Xgf-ZSgU31B1"
      },
      "execution_count": null,
      "outputs": []
    },
    {
      "cell_type": "code",
      "source": [],
      "metadata": {
        "id": "OpNqhcVMDwgi"
      },
      "execution_count": null,
      "outputs": []
    },
    {
      "cell_type": "code",
      "source": [
        "Step 1 : 우리가 낼 가위, 바위, 보를 입력 받는다.\n",
        "Step 2 : 컴퓨터가 낼 가위, 바위, 보를 입력 받는다."
      ],
      "metadata": {
        "id": "4w2s206646qN"
      },
      "execution_count": null,
      "outputs": []
    },
    {
      "cell_type": "code",
      "source": [
        "user = input(\"가위, 바위, 보 중 하나를 선택하세요 : \")\n",
        "print(f\"당신은 {user}입니다.\")\n",
        "\n",
        "choices = [\"가위\", \"바위\", \"보\"]\n",
        "computer = random.choice(choices)\n",
        "print(f\"컴퓨터는 {computer}입니다.\")\n",
        "\n",
        "if user == computer:\n",
        "    print(\"비겼습니다!\")\n",
        "elif (user == \"가위\" and computer == \"보\") or (user == \"바위\" and computer == \"가위\") or (user == \"보\" and computer == \"바위\"):\n",
        "    print(\"당신이 이겼습니다\")\n",
        "else:\n",
        "    print(\"당신이 졌습니다\")"
      ],
      "metadata": {
        "colab": {
          "base_uri": "https://localhost:8080/"
        },
        "id": "gdKqMa52EA4g",
        "outputId": "e8f6c9c1-5c67-41a8-e712-ebc92f18ad10"
      },
      "execution_count": null,
      "outputs": [
        {
          "output_type": "stream",
          "name": "stdout",
          "text": [
            "가위, 바위, 보 중 하나를 선택하세요 : 가위\n",
            "당신은 가위입니다.\n",
            "컴퓨터는 가위입니다.\n",
            "비겼습니다!\n"
          ]
        }
      ]
    },
    {
      "cell_type": "code",
      "source": [
        "\n",
        "user_choice = input(\"가위~, 바위~, 보~ 입력하세요: \")\n",
        "print(f\"당신은 {user_choice}입니다.\")\n",
        "\n",
        "choices = ['가위', '바위', '보']\n",
        "computer_choice = random.choice(choices)\n",
        "print(f\"컴퓨터: {computer_choice}\")\n",
        "\n",
        "if user_choice == computer_choice:\n",
        "    print(\"무승부!\")\n",
        "elif (\n",
        "    (user_choice == '가위' and computer_choice == '보') or\n",
        "    (user_choice == '바위' and computer_choice == '가위') or\n",
        "    (user_choice == '보' and computer_choice == '바위')\n",
        "):\n",
        "    print(\"당신의 승리!\")\n",
        "else:\n",
        "    print(\"컴퓨터 승리!\")\n",
        "\n",
        "\n"
      ],
      "metadata": {
        "colab": {
          "base_uri": "https://localhost:8080/"
        },
        "id": "agrOiZ1Z98sH",
        "outputId": "6483d0ca-bf3a-4d2d-e0ba-4e76ad0df6c9"
      },
      "execution_count": null,
      "outputs": [
        {
          "output_type": "stream",
          "name": "stdout",
          "text": [
            "가위~, 바위~, 보~ 입력하세요: 가위\n",
            "당신은 가위입니다.\n",
            "컴퓨터: 보\n",
            "당신의 승리!\n"
          ]
        }
      ]
    },
    {
      "cell_type": "code",
      "source": [
        "import random\n",
        "\n",
        "my_list = ['가위', '바위', '보']\n",
        "\n",
        "user_t = input(\"가위, 바위, 보를 입력해 주세요:  \")\n",
        "\n",
        "if user_t not in my_list:                           # 다른 값을 냈을때 오류 처리\n",
        "    user_t = input(\"가위, 바위, 보 를 정확히 입력해 주셔야 합니다. 다시 입력해 주세요:  \")\n",
        "\n",
        "pc_t = random.choice(my_list)                       # 컴퓨터의 값\n",
        "\n",
        "if user_t == '가위':\n",
        "    if pc_t == '가위':\n",
        "        print(f'컴퓨터는 {pc_t} 였습니다. 결과는 비겼습니다.')\n",
        "    elif pc_t == '바위':\n",
        "        print(f'컴퓨터는 {pc_t} 였습니다. 결과는 컴퓨터가 이겼습니다.')\n",
        "    else:\n",
        "        print(f'컴퓨터는 {pc_t} 였습니다. 결과는 손님이 이겼습니다. ')\n",
        "elif user_t == '바위':\n",
        "    if pc_t == '가위':\n",
        "        print(f'컴퓨터는 {pc_t} 였습니다. 결과는 손님이 이겼습니다.')\n",
        "    elif pc_t == '바위':\n",
        "        print(f'컴퓨터는 {pc_t} 였습니다. 결과는 비겼습니다.')\n",
        "    else:\n",
        "        print(f'컴퓨터는 {pc_t} 였습니다. 결과는 컴퓨터가 이겼습니다. ')\n",
        "elif user_t == '보':\n",
        "    if pc_t == '가위':\n",
        "        print(f'컴퓨터는 {pc_t} 였습니다. 결과는 컴퓨터가 이겼습니다.')\n",
        "    elif pc_t == '바위':\n",
        "        print(f'컴퓨터는 {pc_t} 였습니다. 결과는 손님이 이겼습니다.')\n",
        "    else:\n",
        "        print(f'컴퓨터는 {pc_t} 였습니다. 결과는 비겼습니다.')"
      ],
      "metadata": {
        "id": "mA_GO-qKPKqo"
      },
      "execution_count": null,
      "outputs": []
    },
    {
      "cell_type": "code",
      "source": [
        "for _ in range(10):\n",
        "    number = int(input('10번의 기회 숫자 입력(1~100):'))\n",
        "\n",
        "if number == secret_number:\n",
        "        print('정답입니다!')\n",
        "break\n",
        "elif number < secret_number:\n",
        "        print(\"{} 보다 큰 숫자 입니다.\".format(number))\n",
        "elif number > secret_number:\n",
        "        print(\"{} 보다 낮은 숫자 입니다.\".format(number))\n",
        "    else:\n",
        "        print('틀렸습니다! 정답은 {}'.format(secret_number))\n",
        "\n",
        "# 10번의 기회 동안 정답을 못 맞추면 마지막에 정답을 보여줌\n",
        "else:\n",
        "    print('10번의 기회가 끝났습니다. 정답은 {}'.format(secret_number))"
      ],
      "metadata": {
        "id": "f9AcTYRm8MUg"
      },
      "execution_count": null,
      "outputs": []
    },
    {
      "cell_type": "markdown",
      "source": [
        "# 쓰레드 제출문제 5"
      ],
      "metadata": {
        "id": "YCsv_XnCV65F"
      }
    },
    {
      "cell_type": "code",
      "source": [
        "# 문제 1\n",
        "# 답 2\n",
        "\n",
        "import random\n",
        "\n",
        "random_number = lambda x: '5보다 크네요.' if x > 5 else ('5보다 작네요.' if x < 5 else '숫자가 5입니다.')\n",
        "\n",
        "# 숫자 입력 받기\n",
        "user_input = int(input('숫자를 입력하세요: '))\n",
        "\n",
        "# 람다 함수 호출\n",
        "print(random_number(user_input))"
      ],
      "metadata": {
        "colab": {
          "base_uri": "https://localhost:8080/"
        },
        "id": "rPU1PLXUQnts",
        "outputId": "47e852d5-b9b1-4358-8ce3-7d00a1442a97"
      },
      "execution_count": null,
      "outputs": [
        {
          "output_type": "stream",
          "name": "stdout",
          "text": [
            "숫자를 입력하세요: 3\n",
            "5보다 작네요.\n"
          ]
        }
      ]
    },
    {
      "cell_type": "code",
      "source": [
        "# 문제 1\n",
        "# 답 1\n",
        "\n",
        "import random\n",
        "\n",
        "user_input = int(input('숫자를 입력하세요: '))\n",
        "\n",
        "check_number(user_input)\n",
        "\n",
        "def check_number(x):\n",
        "    if x > 5:\n",
        "        print('5보다 크네요.')\n",
        "    elif x < 5:\n",
        "        print('5보다 작네요.')\n",
        "    else:\n",
        "        print('숫자가 5입니다.')\n"
      ],
      "metadata": {
        "colab": {
          "base_uri": "https://localhost:8080/"
        },
        "id": "RiCwc90gVW1l",
        "outputId": "66cddc95-0706-416e-937a-e9679106ebe1"
      },
      "execution_count": null,
      "outputs": [
        {
          "output_type": "stream",
          "name": "stdout",
          "text": [
            "숫자를 입력하세요: 10\n",
            "5보다 크네요.\n"
          ]
        }
      ]
    },
    {
      "cell_type": "code",
      "source": [
        "# 문제 2\n",
        "# \"안녕하세요!\"를 5번 출력하는 프로그램을 작성해보세요.\n",
        "\n",
        "for f in range(5):\n",
        "    print(\"안녕하세요!\")"
      ],
      "metadata": {
        "colab": {
          "base_uri": "https://localhost:8080/"
        },
        "id": "8XbnmcmWVeqs",
        "outputId": "18ab16dd-6108-462f-96f2-409410357cac"
      },
      "execution_count": null,
      "outputs": [
        {
          "output_type": "stream",
          "name": "stdout",
          "text": [
            "안녕하세요!\n",
            "안녕하세요!\n",
            "안녕하세요!\n",
            "안녕하세요!\n",
            "안녕하세요!\n"
          ]
        }
      ]
    },
    {
      "cell_type": "code",
      "source": [
        "# 문제3\n",
        "# 1부터 10까지의 숫자 중에서, 짝수만 출력하는 프로그램을 작성해보세요.\n",
        "\n",
        "for i in range(1, 11):\n",
        "    if i % 2 == 0:\n",
        "        print(i)"
      ],
      "metadata": {
        "colab": {
          "base_uri": "https://localhost:8080/"
        },
        "id": "wRSBnapvXKcK",
        "outputId": "f72f4b21-d69b-4246-a020-4f617c17982a"
      },
      "execution_count": null,
      "outputs": [
        {
          "output_type": "stream",
          "name": "stdout",
          "text": [
            "2\n",
            "4\n",
            "6\n",
            "8\n",
            "10\n"
          ]
        }
      ]
    },
    {
      "cell_type": "code",
      "source": [
        "# 문제4\n",
        "# 1부터 20까지의 숫자 중, 3의 배수만 출력하는 프로그램을 작성하세요.\n",
        "\n",
        "for l in range(1, 21):\n",
        "    if l % 3 == 0:\n",
        "        print(l)"
      ],
      "metadata": {
        "colab": {
          "base_uri": "https://localhost:8080/"
        },
        "id": "5VDuCpGCYxfV",
        "outputId": "41f2fda8-b96d-44b4-fabd-ab9a2e81cba8"
      },
      "execution_count": null,
      "outputs": [
        {
          "output_type": "stream",
          "name": "stdout",
          "text": [
            "3\n",
            "6\n",
            "9\n",
            "12\n",
            "15\n",
            "18\n"
          ]
        }
      ]
    },
    {
      "cell_type": "code",
      "source": [
        "from re import M\n",
        "# 문제5\n",
        "# 구구단 2단부터 9단까지 출력하는 프로그램을 작성하세요.\n",
        "\n",
        "for n in range(2, 10):\n",
        "    print(f\"{n}단\")\n",
        "    for m in range(1, 10):\n",
        "        result = n * m\n",
        "        print(f\"{n} x {m} = {result}\")\n",
        "    print()"
      ],
      "metadata": {
        "colab": {
          "base_uri": "https://localhost:8080/"
        },
        "id": "6vWVUf9FZwpw",
        "outputId": "80b854f2-c727-4d7a-a8da-8e0f764810d9"
      },
      "execution_count": null,
      "outputs": [
        {
          "output_type": "stream",
          "name": "stdout",
          "text": [
            "2단\n",
            "2 x 1 = 2\n",
            "2 x 2 = 4\n",
            "2 x 3 = 6\n",
            "2 x 4 = 8\n",
            "2 x 5 = 10\n",
            "2 x 6 = 12\n",
            "2 x 7 = 14\n",
            "2 x 8 = 16\n",
            "2 x 9 = 18\n",
            "\n",
            "3단\n",
            "3 x 1 = 3\n",
            "3 x 2 = 6\n",
            "3 x 3 = 9\n",
            "3 x 4 = 12\n",
            "3 x 5 = 15\n",
            "3 x 6 = 18\n",
            "3 x 7 = 21\n",
            "3 x 8 = 24\n",
            "3 x 9 = 27\n",
            "\n",
            "4단\n",
            "4 x 1 = 4\n",
            "4 x 2 = 8\n",
            "4 x 3 = 12\n",
            "4 x 4 = 16\n",
            "4 x 5 = 20\n",
            "4 x 6 = 24\n",
            "4 x 7 = 28\n",
            "4 x 8 = 32\n",
            "4 x 9 = 36\n",
            "\n",
            "5단\n",
            "5 x 1 = 5\n",
            "5 x 2 = 10\n",
            "5 x 3 = 15\n",
            "5 x 4 = 20\n",
            "5 x 5 = 25\n",
            "5 x 6 = 30\n",
            "5 x 7 = 35\n",
            "5 x 8 = 40\n",
            "5 x 9 = 45\n",
            "\n",
            "6단\n",
            "6 x 1 = 6\n",
            "6 x 2 = 12\n",
            "6 x 3 = 18\n",
            "6 x 4 = 24\n",
            "6 x 5 = 30\n",
            "6 x 6 = 36\n",
            "6 x 7 = 42\n",
            "6 x 8 = 48\n",
            "6 x 9 = 54\n",
            "\n",
            "7단\n",
            "7 x 1 = 7\n",
            "7 x 2 = 14\n",
            "7 x 3 = 21\n",
            "7 x 4 = 28\n",
            "7 x 5 = 35\n",
            "7 x 6 = 42\n",
            "7 x 7 = 49\n",
            "7 x 8 = 56\n",
            "7 x 9 = 63\n",
            "\n",
            "8단\n",
            "8 x 1 = 8\n",
            "8 x 2 = 16\n",
            "8 x 3 = 24\n",
            "8 x 4 = 32\n",
            "8 x 5 = 40\n",
            "8 x 6 = 48\n",
            "8 x 7 = 56\n",
            "8 x 8 = 64\n",
            "8 x 9 = 72\n",
            "\n",
            "9단\n",
            "9 x 1 = 9\n",
            "9 x 2 = 18\n",
            "9 x 3 = 27\n",
            "9 x 4 = 36\n",
            "9 x 5 = 45\n",
            "9 x 6 = 54\n",
            "9 x 7 = 63\n",
            "9 x 8 = 72\n",
            "9 x 9 = 81\n",
            "\n"
          ]
        }
      ]
    }
  ]
}