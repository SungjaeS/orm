{
  "nbformat": 4,
  "nbformat_minor": 0,
  "metadata": {
    "colab": {
      "provenance": [],
      "authorship_tag": "ABX9TyNPSpcSlhT91efuRo6scOxq",
      "include_colab_link": true
    },
    "kernelspec": {
      "name": "python3",
      "display_name": "Python 3"
    },
    "language_info": {
      "name": "python"
    }
  },
  "cells": [
    {
      "cell_type": "markdown",
      "metadata": {
        "id": "view-in-github",
        "colab_type": "text"
      },
      "source": [
        "<a href=\"https://colab.research.google.com/github/SungjaeS/orm/blob/main/%EC%98%A8%EB%B3%B4%EB%94%A9_2%EC%9D%BC%EC%B0%A8_%EA%B5%AC%EA%B8%80%EC%BD%94%EB%9E%A9.ipynb\" target=\"_parent\"><img src=\"https://colab.research.google.com/assets/colab-badge.svg\" alt=\"Open In Colab\"/></a>"
      ]
    },
    {
      "cell_type": "code",
      "execution_count": 5,
      "metadata": {
        "colab": {
          "base_uri": "https://localhost:8080/"
        },
        "id": "QyS1YqK471Kv",
        "outputId": "4e61c5b5-5932-4607-e8bd-e868cf2f4059"
      },
      "outputs": [
        {
          "output_type": "stream",
          "name": "stdout",
          "text": [
            "hello world\n"
          ]
        }
      ],
      "source": [
        "print(\"hello world\")"
      ]
    },
    {
      "cell_type": "markdown",
      "source": [
        "print(\"hello world\")"
      ],
      "metadata": {
        "id": "9nrh5US_-UDH"
      }
    },
    {
      "cell_type": "code",
      "source": [],
      "metadata": {
        "id": "GbWEFrpH-3Ue"
      },
      "execution_count": null,
      "outputs": []
    },
    {
      "cell_type": "code",
      "source": [],
      "metadata": {
        "id": "oIIzwkEK_eug"
      },
      "execution_count": null,
      "outputs": []
    },
    {
      "cell_type": "code",
      "source": [],
      "metadata": {
        "id": "ScKOSLgw9Xig"
      },
      "execution_count": null,
      "outputs": []
    },
    {
      "cell_type": "markdown",
      "source": [],
      "metadata": {
        "id": "P7F_ie139rFM"
      }
    },
    {
      "cell_type": "markdown",
      "source": [
        "# 1. 구글 코랩 기초 사용법\n",
        "\n",
        "맥북은 cmd 윈도우는 ctrl\n",
        "\n",
        " 1.(필수)Ctrl(Command) + Enter : 해당셀 실행 +코드 블록 하단 추가\n",
        "\n",
        "> 들여쓴 블록\n",
        "\n",
        "수정 관련된 단축키\n",
        "Ctrl(Command) + Alt(Option) + 화살표위아래 : 동시 수정\n",
        "자주 쓰는 예시 필요\n",
        "(자주) Ctrl(Command) + D : 같은 단어 찾아 동시 수정\n",
        "Ctrl(Command) + Shift + L : 동일 단어를 전체로 찾아 동시 수정\n",
        "Alt(Option) + Shift + 화살표위아래 : 해당내용을 위나 아래 복사해서 붙여넣기\n",
        "Alt(Option) + 화살표위아래 : 해당 내용을 위나 아래로 보내기\n",
        "(자주) Ctrl(Command) + Alt(Option) + 화살표위아래 : 위아래 동시 수정\n",
        "(자주) Home, End : 문장의 양 끝\n",
        "(필수) Ctrl + / : 주석\n",
        "(필수) Shift(cmd) + Del : 한 줄 지우기\n",
        "(필수) Tab, Ctrl + ] : 들여쓰기\n",
        "(필수) Shift + Tab, Ctrl + [ : 내어쓰기"
      ],
      "metadata": {
        "id": "ooshd3uf9VET"
      }
    },
    {
      "cell_type": "code",
      "source": [
        "# 데이터셋 불러오기\n",
        "import pandas as pd\n",
        "data = pd.read_csv(\"example_dataset.csv\")\n",
        "\n",
        "# 각 컬럼에 대한 평균 계산\n",
        "mean_age = data['age'].mean()\n",
        "mean_height = data['height'].mean()\n",
        "mean_weight = data['weight'].mean()\n",
        "\n",
        "print(\"Average Age:\", mean_age)\n",
        "print(\"Average Height:\", mean_height)\n",
        "print(\"Average Weight:\", mean_weight)"
      ],
      "metadata": {
        "id": "lwg7GKvdBSwV"
      },
      "execution_count": null,
      "outputs": []
    },
    {
      "cell_type": "markdown",
      "source": [
        "수정 관련된 단축키\n",
        "Ctrl(Command) + Alt(Option) + 화살표위아래 : 동시 수정\n",
        "자주 쓰는 예시 필요\n",
        "(자주) Ctrl(Command) + D : 같은 단어 찾아 동시 수정\n",
        "Ctrl(Command) + Shift + L : 동일 단어를 전체로 찾아 동시 수정\n",
        "Alt(Option) + Shift + 화살표위아래 : 해당내용을 위나 아래 복사해서 붙여넣기\n",
        "Alt(Option) + 화살표위아래 : 해당 내용을 위나 아래로 보내기\n",
        "(자주) Ctrl(Command) + Alt(Option) + 화살표위아래 : 위아래 동시 수정\n",
        "(자주) Home, End : 문장의 양 끝\n",
        "(필수) Ctrl + / : 주석\n",
        "(필수) Shift(cmd) + Del : 한 줄 지우기\n",
        "(필수) Tab, Ctrl + ] : 들여쓰기\n",
        "(필수) Shift + Tab, Ctrl + [ : 내어쓰기"
      ],
      "metadata": {
        "id": "yDI9Pq7OGcY6"
      }
    },
    {
      "cell_type": "markdown",
      "source": [
        "# 5. 마크다운\n",
        "## 5.1 헤더\n",
        "### 5.1.1 사용법\n",
        "제목을 입력하는 기능\n"
      ],
      "metadata": {
        "id": "6G-DvLLZJp0q"
      }
    },
    {
      "cell_type": "markdown",
      "source": [
        "## 5.2 강종\n",
        "\n",
        "별두개를 앞뒤로 넣어준다\n",
        "\n",
        "이 내용은 **강조** 해야하는 문장입니다. 강조 **강조**\n"
      ],
      "metadata": {
        "id": "LK_WeV-HKljg"
      }
    },
    {
      "cell_type": "markdown",
      "source": [
        "## 5.3 목룍(List)\n",
        "\n",
        "1. 순서 1번\n",
        "2. 순서 2번\n",
        "3. 순서 3번\n",
        "\n",
        "* 순서 없는 것 1\n",
        "* 순서 없는 것 2\n",
        "* 순서 없는 것 3\n"
      ],
      "metadata": {
        "id": "pfLOyv0qK9rM"
      }
    },
    {
      "cell_type": "markdown",
      "source": [
        "\n",
        "# 4.6 코드\n",
        "\n",
        "* 인라인 코드:`백틱을 사용하여 텍스트 내에 코드를 삽입합니다.\n",
        "* 코드 블록: 여러줄의 코드를 나타낼 때는 `````를 사용하여 코드 블록을 생성합니다.\n",
        "\n",
        "`print(\"hello world\")` 'print(\"hello world\")'\n",
        "\n",
        "```코드블럭\n",
        "하나\n",
        "둘\n",
        "셋\n",
        "넷\n",
        "다섯 다섯반\n",
        "```"
      ],
      "metadata": {
        "id": "jekxD7LkNO_X"
      }
    },
    {
      "cell_type": "markdown",
      "source": [],
      "metadata": {
        "id": "2kf6DadXQCOp"
      }
    },
    {
      "cell_type": "markdown",
      "source": [
        "# 3 하이퍼 링크#\n",
        "\n",
        "[가고싶은곳](http://www.daum.net)\n",
        "\n",
        "# 4 이미지 넣기 `!`\n",
        "\n",
        "![외부URL 이미지](https://cdn-icons-png.flaticon.com/128/12422/12422422.png)\n",
        "\n"
      ],
      "metadata": {
        "id": "DK1oGOP5QDu1"
      }
    },
    {
      "cell_type": "markdown",
      "source": [
        "#4.7 기타\n",
        "\n",
        "* 취소선 ~~취소선~~\n",
        "---\n",
        "* 인용문\n",
        "> 인용문 1입니다.\n",
        ">> 인용문 1-1 입니다.\n",
        "---\n",
        "* 구분선\n",
        "---"
      ],
      "metadata": {
        "id": "hHbk_dttNivo"
      }
    }
  ]
}