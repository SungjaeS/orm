{
  "nbformat": 4,
  "nbformat_minor": 0,
  "metadata": {
    "colab": {
      "provenance": [],
      "authorship_tag": "ABX9TyORfbr7gs88itwxuYDtd2g3",
      "include_colab_link": true
    },
    "kernelspec": {
      "name": "python3",
      "display_name": "Python 3"
    },
    "language_info": {
      "name": "python"
    }
  },
  "cells": [
    {
      "cell_type": "markdown",
      "metadata": {
        "id": "view-in-github",
        "colab_type": "text"
      },
      "source": [
        "<a href=\"https://colab.research.google.com/github/SungjaeS/orm/blob/main/D2A2_%EC%9E%85%EB%A0%A5%ED%95%A8%EC%88%98_(input).ipynb\" target=\"_parent\"><img src=\"https://colab.research.google.com/assets/colab-badge.svg\" alt=\"Open In Colab\"/></a>"
      ]
    },
    {
      "cell_type": "code",
      "execution_count": 1,
      "metadata": {
        "colab": {
          "base_uri": "https://localhost:8080/"
        },
        "id": "r7c6KblROMze",
        "outputId": "19d4225e-beda-4e8c-9873-9851c3d37d47"
      },
      "outputs": [
        {
          "name": "stdout",
          "output_type": "stream",
          "text": [
            "이름을 입력해주세요신성재\n"
          ]
        }
      ],
      "source": [
        "name = input(\"이름을 입력해주세요\")"
      ]
    },
    {
      "cell_type": "code",
      "source": [
        "print(\"Hello, \" +name + \"!\")"
      ],
      "metadata": {
        "colab": {
          "base_uri": "https://localhost:8080/"
        },
        "id": "DKQOGBVYOU_5",
        "outputId": "7033a01d-82d4-4592-d9c7-4342b2f6fd74"
      },
      "execution_count": 2,
      "outputs": [
        {
          "output_type": "stream",
          "name": "stdout",
          "text": [
            "Hello, 신성재!\n"
          ]
        }
      ]
    },
    {
      "cell_type": "code",
      "source": [
        "# input을 활용한 덧셈 - 문자열인 경우\n",
        "a = input(\"첫번째 숫자를 입력해주세요\")\n",
        "b = input(\"두번쨰 숫자를 입력해주세요\")\n",
        "\n",
        "print(\"a + b =\", a+b, \" 입니다.\")"
      ],
      "metadata": {
        "colab": {
          "base_uri": "https://localhost:8080/"
        },
        "id": "e3p07u9VOVYi",
        "outputId": "5e309712-ea77-4797-8302-9eaef648b875"
      },
      "execution_count": 4,
      "outputs": [
        {
          "output_type": "stream",
          "name": "stdout",
          "text": [
            "첫번째 숫자를 입력해주세요10\n",
            "두번쨰 숫자를 입력해주세요50\n",
            "a + b = 1050  입니다.\n"
          ]
        }
      ]
    },
    {
      "cell_type": "code",
      "source": [
        "# int 와 input을 활용한 덧셈 - 문자열인 경우\n",
        "a = int(input(\"첫번째 숫자를 입력해주세요\"))\n",
        "b = int(input(\"두번쨰 숫자를 입력해주세요\"))\n",
        "\n",
        "print(\"a + b =\", a+b, \" 입니다.\")"
      ],
      "metadata": {
        "colab": {
          "base_uri": "https://localhost:8080/"
        },
        "id": "JKs3ccSdOVjy",
        "outputId": "5465f9ef-fd80-49b0-e5ab-95ceb144de88"
      },
      "execution_count": 3,
      "outputs": [
        {
          "output_type": "stream",
          "name": "stdout",
          "text": [
            "첫번째 숫자를 입력해주세요10\n",
            "두번쨰 숫자를 입력해주세요500\n",
            "a + b = 510  입니다.\n"
          ]
        }
      ]
    },
    {
      "cell_type": "markdown",
      "source": [
        "Print **함수** **굵은 텍스트**"
      ],
      "metadata": {
        "id": "rcC5Zb4LOcA6"
      }
    },
    {
      "cell_type": "code",
      "source": [],
      "metadata": {
        "id": "zlkQnJdJPIZs"
      },
      "execution_count": null,
      "outputs": []
    }
  ]
}