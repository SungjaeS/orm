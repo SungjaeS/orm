{
  "nbformat": 4,
  "nbformat_minor": 0,
  "metadata": {
    "colab": {
      "provenance": [],
      "toc_visible": true,
      "authorship_tag": "ABX9TyPtIqHWrlI5pXcr6yFNqwX6",
      "include_colab_link": true
    },
    "kernelspec": {
      "name": "python3",
      "display_name": "Python 3"
    },
    "language_info": {
      "name": "python"
    }
  },
  "cells": [
    {
      "cell_type": "markdown",
      "metadata": {
        "id": "view-in-github",
        "colab_type": "text"
      },
      "source": [
        "<a href=\"https://colab.research.google.com/github/SungjaeS/orm/blob/main/%EA%B5%AC%EA%B8%80%EC%BD%94%EB%9E%A9_AI.ipynb\" target=\"_parent\"><img src=\"https://colab.research.google.com/assets/colab-badge.svg\" alt=\"Open In Colab\"/></a>"
      ]
    },
    {
      "cell_type": "code",
      "execution_count": null,
      "metadata": {
        "colab": {
          "base_uri": "https://localhost:8080/",
          "height": 147
        },
        "id": "KqissxL_fGnJ",
        "outputId": "5675ad21-17ca-4cce-a749-b34058a04a25"
      },
      "outputs": [
        {
          "output_type": "error",
          "ename": "SyntaxError",
          "evalue": "ignored",
          "traceback": [
            "\u001b[0;36m  File \u001b[0;32m\"<ipython-input-4-00c0209ec0c3>\"\u001b[0;36m, line \u001b[0;32m3\u001b[0m\n\u001b[0;31m    오늘은 구글 코랩 AI 사용법에 대해서 알아볼 거에요.\u001b[0m\n\u001b[0m        ^\u001b[0m\n\u001b[0;31mSyntaxError\u001b[0m\u001b[0;31m:\u001b[0m invalid syntax\n"
          ]
        }
      ],
      "source": [
        "# 1. 구글 코랩 AI\n",
        "\n",
        "오늘은 구글 코랩 AI 사용법에 대해서 알아볼 거에요.\n",
        "\n",
        "\n",
        "import random\n",
        "\n",
        "# Create a list of numbers from 1 to 25\n",
        "numbers = list(range(1, 26))\n",
        "\n",
        "# Create a list of 5 empty lists to represent the rows of the bingo board\n",
        "board = [[0 for _ in range(5)] for _ in range(5)]\n",
        "\n",
        "# Fill the board with random numbers\n",
        "for row in range(5):\n",
        "  for col in range(5):\n",
        "    board[row][col] = random.choice(numbers)\n",
        "    numbers.remove(board[row][col])\n",
        "\n",
        "# Print the board\n",
        "for row in board:\n",
        "  print(' '.join(map(str, row)))\n",
        "\n",
        "# Get the user's guesses\n",
        "guesses = []\n",
        "while len(guesses) < 25:\n",
        "  guess = int(input('Enter your guess: '))\n",
        "  if guess not in guesses:\n",
        "    guesses.append(guess)\n",
        "\n",
        "# Check if the user has won\n",
        "won = False\n",
        "for row in range(5):\n",
        "  if all(board[row][col] in guesses for col in range(5)):\n",
        "    won = True\n",
        "    break\n",
        "for col in range(5):\n",
        "  if all(board[row][col] in guesses for row in range(5)):\n",
        "    won = True\n",
        "    break\n",
        "if board[0][0] in guesses and board[1][1] in guesses and board[2][2] in guesses and board[3][3] in guesses and board[4][4] in guesses:\n",
        "  won = True\n",
        "if board[4][0] in guesses and board[3][1] in guesses and board[2][2] in guesses and board[1][3] in guesses and board[0][4] in guesses:\n",
        "  won = True\n",
        "\n",
        "# Print the result\n",
        "if won:\n",
        "  print('You win!')\n",
        "else:\n",
        "  print('You lose!')"
      ]
    },
    {
      "cell_type": "markdown",
      "source": [
        "# 1. 구글 코랩 AI\n",
        "\n",
        "오늘은 구글 코랩 AI 사용법에 대해서 알아볼 거에요.\n",
        "\n",
        "    첫번쨰 에요\n",
        "    두번째 에요\n",
        "    세번째 에요"
      ],
      "metadata": {
        "id": "JF9b6n3i0AdE"
      }
    },
    {
      "cell_type": "code",
      "source": [
        "import random\n",
        "\n",
        "# Create a list of numbers from 1 to 25\n",
        "numbers = list(range(1, 26))\n",
        "\n",
        "# Create a list of 5 empty lists to represent the rows of the bingo board\n",
        "board = [[0 for _ in range(5)] for _ in range(5)]\n",
        "\n",
        "# Fill the board with random numbers\n",
        "for row in range(5):\n",
        "  for col in range(5):\n",
        "    board[row][col] = random.choice(numbers)\n",
        "    numbers.remove(board[row][col])\n",
        "\n",
        "# Print the board\n",
        "for row in board:\n",
        "  print(' '.join(map(str, row)))\n",
        "\n",
        "# Get the user's guesses\n",
        "guesses = []\n",
        "while len(guesses) < 25:\n",
        "  guess = int(input('Enter your guess: '))\n",
        "  if guess not in guesses:\n",
        "    guesses.append(guess)\n",
        "\n",
        "# Check if the user has won\n",
        "won = False\n",
        "for row in range(5):\n",
        "  if all(board[row][col] in guesses for col in range(5)):\n",
        "    won = True\n",
        "    break\n",
        "for col in range(5):\n",
        "  if all(board[row][col] in guesses for row in range(5)):\n",
        "    won = True\n",
        "    break\n",
        "if board[0][0] in guesses and board[1][1] in guesses and board[2][2] in guesses and board[3][3] in guesses and board[4][4] in guesses:\n",
        "  won = True\n",
        "if board[4][0] in guesses and board[3][1] in guesses and board[2][2] in guesses and board[1][3] in guesses and board[0][4] in guesses:\n",
        "  won = True\n",
        "\n",
        "# Print the result\n",
        "if won:\n",
        "  print('You win!')\n",
        "else:\n",
        "  print('You lose!')"
      ],
      "metadata": {
        "colab": {
          "base_uri": "https://localhost:8080/"
        },
        "id": "1vXhfnc0hWmi",
        "outputId": "4f76099b-17cd-49ad-b5c6-1a3ead1cbd16"
      },
      "execution_count": null,
      "outputs": [
        {
          "name": "stdout",
          "output_type": "stream",
          "text": [
            "10 6 11 25 4\n",
            "14 19 12 23 16\n",
            "3 5 1 7 8\n",
            "13 15 2 22 18\n",
            "17 21 24 20 9\n",
            "Enter your guess: 1\n",
            "Enter your guess: 2\n",
            "Enter your guess: 24\n",
            "Enter your guess: 12\n",
            "Enter your guess: 11\n",
            "Enter your guess: 7\n",
            "Enter your guess: 8\n",
            "Enter your guess: 5\n",
            "Enter your guess: 3\n"
          ]
        }
      ]
    },
    {
      "cell_type": "code",
      "source": [
        "# prompt: 샘플 데이터 프레임 하나 생성해줘\n",
        "\n",
        "import pandas as pd\n",
        "\n",
        "df = pd.DataFrame({'name': ['Alice', 'Bob', 'Carol', 'Dave'],\n",
        "                   'age': [20, 25, 30, 35]})\n",
        "\n",
        "print(df)\n"
      ],
      "metadata": {
        "id": "3Jmola_uizbd"
      },
      "execution_count": null,
      "outputs": []
    },
    {
      "cell_type": "markdown",
      "source": [],
      "metadata": {
        "id": "LZcYlgA3z6eN"
      }
    },
    {
      "cell_type": "markdown",
      "source": [],
      "metadata": {
        "id": "J_Xl6OvSz3uQ"
      }
    },
    {
      "cell_type": "code",
      "source": [
        "df"
      ],
      "metadata": {
        "colab": {
          "base_uri": "https://localhost:8080/",
          "height": 184
        },
        "id": "br-qXRtrjFy_",
        "outputId": "d9348837-b056-4390-e915-edf34ab1f63c"
      },
      "execution_count": null,
      "outputs": [
        {
          "output_type": "error",
          "ename": "NameError",
          "evalue": "ignored",
          "traceback": [
            "\u001b[0;31m---------------------------------------------------------------------------\u001b[0m",
            "\u001b[0;31mNameError\u001b[0m                                 Traceback (most recent call last)",
            "\u001b[0;32m<ipython-input-1-00cf07b74dcd>\u001b[0m in \u001b[0;36m<cell line: 1>\u001b[0;34m()\u001b[0m\n\u001b[0;32m----> 1\u001b[0;31m \u001b[0mdf\u001b[0m\u001b[0;34m\u001b[0m\u001b[0;34m\u001b[0m\u001b[0m\n\u001b[0m",
            "\u001b[0;31mNameError\u001b[0m: name 'df' is not defined"
          ]
        }
      ]
    },
    {
      "cell_type": "code",
      "source": [],
      "metadata": {
        "id": "iBexT7nvjYoF"
      },
      "execution_count": null,
      "outputs": []
    },
    {
      "cell_type": "markdown",
      "source": [
        "# 새 섹션"
      ],
      "metadata": {
        "id": "ZRmNyw0CgC6y"
      }
    },
    {
      "cell_type": "code",
      "source": [
        "import random\n",
        "\n",
        "def print_board(board):\n",
        "    for row in board:\n",
        "        print(' '.join(map(str, row)))\n",
        "\n",
        "def check_bingo(board, guesses):\n",
        "    # Check rows and columns\n",
        "    for i in range(5):\n",
        "        if all(board[i][j] in guesses for j in range(5)) or all(board[j][i] in guesses for j in range(5)):\n",
        "            return True\n",
        "\n",
        "    # Check diagonals\n",
        "    if all(board[i][i] in guesses for i in range(5)) or all(board[i][4 - i] in guesses for i in range(5)):\n",
        "        return True\n",
        "\n",
        "    return False\n",
        "\n",
        "# Create a list of numbers from 1 to 25\n",
        "numbers = list(range(1, 26))\n",
        "\n",
        "# Create a list of 5 empty lists to represent the rows of the bingo board\n",
        "board = [[0 for _ in range(5)] for _ in range(5)]\n",
        "\n",
        "# Fill the board with random numbers\n",
        "for row in range(5):\n",
        "    for col in range(5):\n",
        "        board[row][col] = random.choice(numbers)\n",
        "        numbers.remove(board[row][col])\n",
        "\n",
        "# Print the initial board\n",
        "print(\"Initial Bingo Board:\")\n",
        "print_board(board)\n",
        "\n",
        "# Get the user's guesses\n",
        "guesses = set()\n",
        "while len(guesses) < 25:\n",
        "    guess = int(input('Enter your guess: '))\n",
        "    if 1 <= guess <= 25 and guess not in guesses:\n",
        "        guesses.add(guess)\n",
        "    else:\n",
        "        print('Invalid guess. Please enter a number between 1 and 25.')\n",
        "\n",
        "# Check if the user has won\n",
        "won = check_bingo(board, guesses)\n",
        "\n",
        "# Print the result\n",
        "if won:\n",
        "    print('Bingo! You win!')\n",
        "else:\n",
        "    print('Sorry, you lose. Better luck next time.')"
      ],
      "metadata": {
        "id": "57mHnzNXirsF"
      },
      "execution_count": null,
      "outputs": []
    },
    {
      "cell_type": "code",
      "source": [
        "# prompt: 샘플 데이터 프레임 하나 생성해줘\n",
        "\n",
        "df = pd.DataFrame({'name': ['Alice', 'Bob', 'Carol', 'Dave'],\n",
        "                   'age': [20, 25, 30, 35]})\n",
        "\n",
        "print(df)\n",
        "\n"
      ],
      "metadata": {
        "id": "aA1wRHjpivQz"
      },
      "execution_count": null,
      "outputs": []
    },
    {
      "cell_type": "code",
      "source": [
        "# prompt: 해당 데이터셋으로 막대그래프를 그리고 싶어\n",
        "\n",
        "import pandas as pd\n",
        "import matplotlib.pyplot as plt\n",
        "\n",
        "df = pd.read_csv('data.csv')\n",
        "\n",
        "plt.bar(df['name'], df['age'])\n",
        "plt.xlabel('Name')\n",
        "plt.ylabel('Age')\n",
        "plt.title('Age Distribution')\n",
        "plt.show()\n"
      ],
      "metadata": {
        "id": "WOGivWlKjim3"
      },
      "execution_count": null,
      "outputs": []
    }
  ]
}