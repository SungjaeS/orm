{
  "nbformat": 4,
  "nbformat_minor": 0,
  "metadata": {
    "colab": {
      "provenance": []
    },
    "kernelspec": {
      "name": "python3",
      "display_name": "Python 3"
    },
    "language_info": {
      "name": "python"
    }
  },
  "cells": [
    {
      "cell_type": "markdown",
      "source": [
        "# 1. 주석"
      ],
      "metadata": {
        "id": "ZxpVp4RjCrsE"
      }
    },
    {
      "cell_type": "markdown",
      "source": [
        "# 1.1 한줄 주석\n",
        "\n"
      ],
      "metadata": {
        "id": "ZaD-cms3DmkN"
      }
    },
    {
      "cell_type": "code",
      "source": [
        "# 이것은 주석입니다. (주석을 적는 이유는 특이사항, 전체적인 것들, 업데이트 내용)\n",
        "print('Hello, World 1!') # 이것도 주석입니다.(해당 코드의 설명)\n",
        "# print('Hello, World 2!') # 이렇게 코드자체에도 주석을 달수 있습니다. 코드의 에러 / 향후 수정! / 임시 주석!"
      ],
      "metadata": {
        "colab": {
          "base_uri": "https://localhost:8080/"
        },
        "id": "Ksr9irDEDvAs",
        "outputId": "dd1b5480-8d4c-46e1-c0ae-d0dba3dedebd"
      },
      "execution_count": 2,
      "outputs": [
        {
          "output_type": "stream",
          "name": "stdout",
          "text": [
            "Hello, World 1!\n",
            "Hello, World 2!\n"
          ]
        }
      ]
    },
    {
      "cell_type": "markdown",
      "source": [
        "# 1.2 여러 줄 주석"
      ],
      "metadata": {
        "id": "dzPfu3bGD-Fh"
      }
    },
    {
      "cell_type": "code",
      "source": [
        "# ` 백틱이랑 착각 하지 말것!!!\n",
        "'''\n",
        "print('Hello, World 1!')\n",
        "print('Hello, World 1!')\n",
        "print('Hello, World 1!')\n",
        "'''\n",
        "# 틱을 사용하는 이유는 주석의 내용이 너무 길어질떄 샵# 대신 사용하면 좋다.\n",
        "print('Real Hello World')"
      ],
      "metadata": {
        "colab": {
          "base_uri": "https://localhost:8080/"
        },
        "id": "5IsHmaGVE747",
        "outputId": "d6c3b80e-37c0-4966-fd98-0e51a7f32eac"
      },
      "execution_count": 5,
      "outputs": [
        {
          "output_type": "stream",
          "name": "stdout",
          "text": [
            "Real Hello World\n"
          ]
        }
      ]
    },
    {
      "cell_type": "code",
      "source": [],
      "metadata": {
        "id": "nsw-fvZZFNXZ"
      },
      "execution_count": null,
      "outputs": []
    }
  ]
}