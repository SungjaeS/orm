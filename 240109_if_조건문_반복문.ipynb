{
  "nbformat": 4,
  "nbformat_minor": 0,
  "metadata": {
    "colab": {
      "provenance": [],
      "authorship_tag": "ABX9TyMmqjgFAe+vU2U5cLUEo755",
      "include_colab_link": true
    },
    "kernelspec": {
      "name": "python3",
      "display_name": "Python 3"
    },
    "language_info": {
      "name": "python"
    }
  },
  "cells": [
    {
      "cell_type": "markdown",
      "metadata": {
        "id": "view-in-github",
        "colab_type": "text"
      },
      "source": [
        "<a href=\"https://colab.research.google.com/github/SungjaeS/orm/blob/main/240109_if_%EC%A1%B0%EA%B1%B4%EB%AC%B8_%EB%B0%98%EB%B3%B5%EB%AC%B8.ipynb\" target=\"_parent\"><img src=\"https://colab.research.google.com/assets/colab-badge.svg\" alt=\"Open In Colab\"/></a>"
      ]
    },
    {
      "cell_type": "markdown",
      "source": [
        "# if\n",
        "    1. 조건문\n",
        "\n",
        "     "
      ],
      "metadata": {
        "id": "3UMs8NEWkb9l"
      }
    },
    {
      "cell_type": "code",
      "source": [
        "# 1.1. if문의 기본 구조\n",
        "\n",
        "# if 다음에 조건이 참인 경우에만 코드블록이 실행된다.\n",
        "\n",
        "# x = 2일때\n",
        "# x = 1일때\n",
        "# x = 0일떄\n",
        "\n",
        "x = 0 # 비교할 대상\n",
        "\n",
        "if x > 1: # 비교 식 -> 비교식이 참일 경우에 하단의  print('True')가 실행됨.\n",
        "    print('True') # 출력: True\n",
        "\n",
        "    # 참이 아닌경우에는 조건식이 실행되지 않는다."
      ],
      "metadata": {
        "colab": {
          "base_uri": "https://localhost:8080/"
        },
        "id": "5Y3hbctBpJlk",
        "outputId": "22a4c60c-2916-40db-a179-6d05719cc51a"
      },
      "execution_count": null,
      "outputs": [
        {
          "output_type": "stream",
          "name": "stdout",
          "text": [
            "True\n"
          ]
        }
      ]
    },
    {
      "cell_type": "code",
      "source": [
        "# 결국 x = 2일때 if x > 1은 => True\n",
        "if True:\n",
        "    print('True') # 출력: True"
      ],
      "metadata": {
        "colab": {
          "base_uri": "https://localhost:8080/"
        },
        "id": "yb6gBlRWqK9w",
        "outputId": "974b99c4-6041-4e8c-cd68-f03a681dc3f3"
      },
      "execution_count": null,
      "outputs": [
        {
          "output_type": "stream",
          "name": "stdout",
          "text": [
            "True\n"
          ]
        }
      ]
    },
    {
      "cell_type": "code",
      "source": [
        "# 결국 x = 2일때 if x > 1은 => True\n",
        "if 1:\n",
        "    print('True') # 출력은 True"
      ],
      "metadata": {
        "colab": {
          "base_uri": "https://localhost:8080/"
        },
        "id": "N6fg7c3sqcgl",
        "outputId": "62efcb9d-1dd3-4497-df3b-9a03d53ed703"
      },
      "execution_count": null,
      "outputs": [
        {
          "output_type": "stream",
          "name": "stdout",
          "text": [
            "True\n"
          ]
        }
      ]
    },
    {
      "cell_type": "code",
      "source": [
        "## 1.2 참과 거짓으로 평가\n",
        "# True 일땐 1이고 아니면 False면 0\n",
        "if \" \":\n",
        "    print('hello') # 출력: True"
      ],
      "metadata": {
        "colab": {
          "base_uri": "https://localhost:8080/"
        },
        "id": "vnCLKLHDqn2g",
        "outputId": "b01d57d6-221c-493a-d629-41caa09d516a"
      },
      "execution_count": null,
      "outputs": [
        {
          "output_type": "stream",
          "name": "stdout",
          "text": [
            "hello\n"
          ]
        }
      ]
    },
    {
      "cell_type": "code",
      "source": [
        "# if문 안에 있는 코드블럭과 바깥에 있는 코드블럭\n",
        "\n",
        "if 0: # 정수를 바꿔서 실습해 보세요.\n",
        "    print('hello')\n",
        "\n",
        "print('end') # 2번 출력"
      ],
      "metadata": {
        "colab": {
          "base_uri": "https://localhost:8080/"
        },
        "id": "7zDQECj7rKNn",
        "outputId": "5875f3ec-594f-4e56-b7f5-8924d375b94a"
      },
      "execution_count": null,
      "outputs": [
        {
          "output_type": "stream",
          "name": "stdout",
          "text": [
            "end\n"
          ]
        }
      ]
    },
    {
      "cell_type": "code",
      "source": [
        "if 10 and [1, 2, 3]: # True나 False가 아니라 단락평가에 의해 [1, 2, 3]\n",
        "    print('hello')"
      ],
      "metadata": {
        "colab": {
          "base_uri": "https://localhost:8080/"
        },
        "id": "xnbpZzqEsChv",
        "outputId": "4640ec9c-3b3d-434c-8ba1-20e0896ab8f1"
      },
      "execution_count": null,
      "outputs": [
        {
          "output_type": "stream",
          "name": "stdout",
          "text": [
            "hello\n"
          ]
        }
      ]
    },
    {
      "cell_type": "code",
      "source": [
        "# 공백이 있는 문자열\n",
        "if ' ': # True\n",
        "    print('hello')\n",
        "print('end')\n",
        "\n",
        "# 공백이 없는 문자열\n",
        "if '': # False\n",
        "    print('hello')\n",
        "print('end')"
      ],
      "metadata": {
        "colab": {
          "base_uri": "https://localhost:8080/"
        },
        "id": "OmYjupHssURa",
        "outputId": "24ff5d82-9ca7-4193-e4f4-7fa8b8573342"
      },
      "execution_count": null,
      "outputs": [
        {
          "output_type": "stream",
          "name": "stdout",
          "text": [
            "hello\n",
            "end\n",
            "end\n"
          ]
        }
      ]
    },
    {
      "cell_type": "code",
      "source": [
        "if not '':\n",
        "    print('hello')\n",
        "print('end')\n",
        "\n",
        "if None: # None은 False로 처리됩니다.\n",
        "    print('hello')\n",
        "print('end')\n",
        "\n",
        "if not None:\n",
        "    print('hello')\n",
        "print('end')"
      ],
      "metadata": {
        "colab": {
          "base_uri": "https://localhost:8080/"
        },
        "id": "aLv9g_cPsaKF",
        "outputId": "6ab61988-c9ad-47b6-900f-8a5ac1c826fa"
      },
      "execution_count": null,
      "outputs": [
        {
          "output_type": "stream",
          "name": "stdout",
          "text": [
            "hello\n",
            "end\n",
            "end\n",
            "hello\n",
            "end\n"
          ]
        }
      ]
    },
    {
      "cell_type": "code",
      "source": [
        "# 성능에 영향을 끼칩니다!\n",
        "\n",
        "# f() 함수 아큐먼트 x, 파라미터 x\n",
        "def f():\n",
        "    return True\n",
        "\n",
        "# f() 함수 아큐먼트 x, 파라미터 x\n",
        "def ff():\n",
        "    x = 100 / 0 # error\n",
        "    return 'hello' # 실행되지 않았으면 하는 함수\n",
        "\n",
        "if f() or ff(): #f() ff() -> 하나의 조건에 불과, 리소스를 줄이는게 중요하다.\n",
        "    print('hello') # 출력: hello"
      ],
      "metadata": {
        "colab": {
          "base_uri": "https://localhost:8080/"
        },
        "id": "GkFH6lY-sf2s",
        "outputId": "2470165a-9038-41f9-a333-b0093400aa29"
      },
      "execution_count": null,
      "outputs": [
        {
          "output_type": "stream",
          "name": "stdout",
          "text": [
            "hello\n"
          ]
        }
      ]
    },
    {
      "cell_type": "code",
      "source": [
        "# 2.4 삼항 연산자\n",
        "\n",
        "x = 5\n",
        "y = 10\n",
        "result = 'x가 더 큽니다' if x > y else 'y와 같거나 y가 더 큽니다.'\n",
        "print(result) # 출력: 'y와 같거나 y가 더 큽니다.'"
      ],
      "metadata": {
        "colab": {
          "base_uri": "https://localhost:8080/"
        },
        "id": "dcCHOqANzA67",
        "outputId": "7eb65ddb-e3bf-4b3a-b0d6-1a7a394adc0b"
      },
      "execution_count": null,
      "outputs": [
        {
          "output_type": "stream",
          "name": "stdout",
          "text": [
            "y와 같거나 y가 더 큽니다.\n"
          ]
        }
      ]
    },
    {
      "cell_type": "markdown",
      "source": [
        "# 조건문과 람다 함수\n",
        "\n",
        "* 익명함수 - 한줄로 표현 / 임시 함수 만들떄 사용"
      ],
      "metadata": {
        "id": "wshJxuCdz6qD"
      }
    },
    {
      "cell_type": "code",
      "source": [
        "# 예) 두 숫자를 더하는 간단한 람다함수를 만든다.\n",
        "\n",
        "#def sum(x, y):\n",
        "#    z = x + y\n",
        "#    return z\n",
        "\n",
        "add = lambda x, y : x + y\n",
        "print(add(5, 3))"
      ],
      "metadata": {
        "colab": {
          "base_uri": "https://localhost:8080/"
        },
        "id": "Q8z3efFC0X5q",
        "outputId": "777500f6-89f8-432c-b2cb-4cb5c98d48f2"
      },
      "execution_count": null,
      "outputs": [
        {
          "output_type": "stream",
          "name": "stdout",
          "text": [
            "8\n"
          ]
        }
      ]
    },
    {
      "cell_type": "code",
      "source": [
        "# 홀짝!\n",
        "my_function = lambda x: 'Even' if x % 2 == 0 else 'Odd'\n"
      ],
      "metadata": {
        "id": "De8LLIPMz75o"
      },
      "execution_count": null,
      "outputs": []
    },
    {
      "cell_type": "markdown",
      "source": [
        "# if, elif, else와 중첩 **조건문**"
      ],
      "metadata": {
        "id": "mLI8E_oO1obK"
      }
    },
    {
      "cell_type": "code",
      "source": [
        "# if, else 문의 기본구조\n",
        "if 조건문: # 조건문을 확인해서 만약 '참'이면 if 문 다음에 문장들을 수행합니다.\n",
        "    pass\n",
        "    # 수행할 문장 1 - 참일 경우에는 수행할 문장 1이 실행\n",
        "else: # if문의 조건이 거짓이면 else 문이 실행됩니다,\n",
        "    pass\n",
        "    # 수행할 문장 2 - if에 조건문이 거짓일 경우 else에 있는 수행할 문장 2가 실행\n"
      ],
      "metadata": {
        "id": "ALViZIg01rEC"
      },
      "execution_count": null,
      "outputs": []
    },
    {
      "cell_type": "code",
      "source": [
        "x = 3\n",
        "y = 1\n",
        "\n",
        "if x > y:\n",
        "    print('첫번째 값이 더 큽니다.')\n",
        "else:\n",
        "    print('두번째 값이 더 크거나 같습니다.') # 거짓일때 수행\n"
      ],
      "metadata": {
        "colab": {
          "base_uri": "https://localhost:8080/"
        },
        "id": "t1kzfX4H2pMi",
        "outputId": "2b010511-4282-4806-8326-64e7a639bc17"
      },
      "execution_count": null,
      "outputs": [
        {
          "output_type": "stream",
          "name": "stdout",
          "text": [
            "첫번째 값이 더 큽니다.\n"
          ]
        }
      ]
    },
    {
      "cell_type": "code",
      "source": [
        "# if, elif, else문의 기본구조\n",
        "# 조건이 늘어나면 elif만 추가하면 된다. if else는 그대로!\n",
        "# elif에는 조건식이 필요하다. 단 다른 조건과 겹치지 않게! (조건을 나누는 중요)\n",
        "if 조건문: # 조건문을 확인해서 만약 '참'이면 if 문 다음에 문장들은 수행합니다.\n",
        "\t  # 수행할 문장 1\n",
        "    pass\n",
        "elif: # if문의 조건이 '참'이 아니라면 elif 문의 조건문이 참이라면 수행한다.\n",
        "\t  # 수행할 문장 2\n",
        "    pass\n",
        "elif: # if문의 조건이 '참'이 아니라면 elif 문의 조건문이 참이라면 수행한다.\n",
        "\t  # 수행할 문장 2\n",
        "    pass\n",
        "elif: # if문의 조건이 '참'이 아니라면 elif 문의 조건문이 참이라면 수행한다.\n",
        "\t  # 수행할 문장 2\n",
        "    pass\n",
        "elif: # if문의 조건이 '참'이 아니라면 elif 문의 조건문이 참이라면 수행한다.\n",
        "\t  # 수행할 문장 2\n",
        "    pass\n",
        "elif: # if문의 조건이 '참'이 아니라면 elif 문의 조건문이 참이라면 수행한다.\n",
        "\t  # 수행할 문장 2\n",
        "    pass\n",
        "elif: # if문의 조건이 '참'이 아니라면 elif 문의 조건문이 참이라면 수행한다.\n",
        "\t  # 수행할 문장 2\n",
        "    pass\n",
        "else: # 위 모든 if문, elif문의 조건이 '참'이 아니라면 수행합니다.\n",
        "\t  # 수행할 문장 3\n",
        "    pass #임시로 패쓰라 써놓은 것임."
      ],
      "metadata": {
        "colab": {
          "base_uri": "https://localhost:8080/",
          "height": 147
        },
        "id": "zG4716uh25sP",
        "outputId": "d446acd8-72e8-4cbc-c333-bd3bc239f3c7"
      },
      "execution_count": null,
      "outputs": [
        {
          "output_type": "error",
          "ename": "SyntaxError",
          "evalue": "invalid syntax (<ipython-input-19-e22637ed1adf>, line 6)",
          "traceback": [
            "\u001b[0;36m  File \u001b[0;32m\"<ipython-input-19-e22637ed1adf>\"\u001b[0;36m, line \u001b[0;32m6\u001b[0m\n\u001b[0;31m    elif: # if문의 조건이 '참'이 아니라면 elif 문의 조건문이 참이라면 수행한다.\u001b[0m\n\u001b[0m        ^\u001b[0m\n\u001b[0;31mSyntaxError\u001b[0m\u001b[0;31m:\u001b[0m invalid syntax\n"
          ]
        }
      ]
    },
    {
      "cell_type": "code",
      "source": [
        "score = int(input(\"성적을 입력하세요 (0-100: \"))\n",
        "\n",
        "# 잘못된 예\n",
        "\n",
        "if score >= 90:# 90점 이상일때\n",
        "    print(\"A\")\n",
        "elif 89 >= score >= 80:  # 80점 이상 89점 이상일떄\n",
        "    print(\"B\")\n",
        "elif 79 >= score >= 70:  # 70점 이상 79점 이상일떄\n",
        "    print(\"C\")\n",
        "elif 69 >= score >= 60:  # 60점 이상 69점 이상일떄\n",
        "    print(\"D\")\n",
        "else:\n",
        "    print(\"F\")\n",
        "\n",
        "# 테스트를 다양하게 해주는게 좋다.\n",
        "\n"
      ],
      "metadata": {
        "colab": {
          "base_uri": "https://localhost:8080/"
        },
        "id": "PfgURuGV37W3",
        "outputId": "8dd82298-4102-4ffb-fa53-edbacfe9a446"
      },
      "execution_count": null,
      "outputs": [
        {
          "output_type": "stream",
          "name": "stdout",
          "text": [
            "성적을 입력하세요 (0-100: 89\n",
            "B\n"
          ]
        }
      ]
    },
    {
      "cell_type": "code",
      "source": [
        "# 위에 if elif else 문을 아래처럼 줄여서 사용해도 전혀 무방하다(동일함)\n",
        "\n",
        "score = int(input(\"성적을 입력하세요 (0-100): \"))\n",
        "\n",
        "if score >= 90:\n",
        "    print(\"A\")\n",
        "elif score >= 80:\n",
        "    print(\"B\")\n",
        "elif score >= 70:\n",
        "    print(\"C\")\n",
        "elif score >= 60:\n",
        "    print(\"D\")\n",
        "else:\n",
        "    print(\"F\")"
      ],
      "metadata": {
        "id": "ukZmWp0h548w"
      },
      "execution_count": null,
      "outputs": []
    },
    {
      "cell_type": "code",
      "source": [
        "score = 81\n",
        "money = 0\n",
        "\n",
        "# 1개의 if문 (중첩 조건문)\n",
        "\n",
        "if score >= 90:\n",
        "    money += 1000000\n",
        "elif score >= 80:\n",
        "    money += 100000\n",
        "elif score >= 70:\n",
        "    money += 10000\n",
        "elif score >= 60:\n",
        "    money += 1000\n",
        "else:\n",
        "    money = 0\n",
        "print(money) # 출력: 100000"
      ],
      "metadata": {
        "colab": {
          "base_uri": "https://localhost:8080/"
        },
        "id": "Ybhole9y6Lsr",
        "outputId": "a4976472-15fc-44be-9027-3b46fe8b8ce3"
      },
      "execution_count": null,
      "outputs": [
        {
          "output_type": "stream",
          "name": "stdout",
          "text": [
            "100000\n"
          ]
        }
      ]
    },
    {
      "cell_type": "code",
      "source": [],
      "metadata": {
        "id": "Ijzw7Uv09TsI"
      },
      "execution_count": null,
      "outputs": []
    },
    {
      "cell_type": "code",
      "source": [
        "score = 81\n",
        "money = 0\n",
        "\n",
        "# 총 4개의 if문!\n",
        "if score >= 90:\n",
        "    money += 1000000\n",
        "if score >= 80:\n",
        "    money += 100000\n",
        "if score >= 70:\n",
        "  money += 10000\n",
        "if score >= 60:\n",
        "    money += 1000\n",
        "else:\n",
        "    money = 0\n",
        "print(money) # 출력: 100000"
      ],
      "metadata": {
        "colab": {
          "base_uri": "https://localhost:8080/"
        },
        "id": "cBbvs_Mc-0aJ",
        "outputId": "fe5a5fe5-9df2-424c-d452-b1745ff541f4"
      },
      "execution_count": null,
      "outputs": [
        {
          "output_type": "stream",
          "name": "stdout",
          "text": [
            "111000\n"
          ]
        }
      ]
    },
    {
      "cell_type": "code",
      "source": [
        "score = 81\n",
        "money = 0\n",
        "\n",
        "# 이렇게 스코어를 가운데 데이터 사이 두면 반복되는 if문이 중첩되어 나오진 않는다.\n",
        "\n",
        "if score >= 90:\n",
        "    money += 1000000\n",
        "    if 90 > score >= 80:\n",
        "        money += 100000\n",
        "        if 80 > score >= 70:\n",
        "            money += 10000\n",
        "            if 70 > score >= 60:\n",
        "                money += 1000\n",
        "    else:\n",
        "    money = 0\n",
        "print(money)"
      ],
      "metadata": {
        "colab": {
          "base_uri": "https://localhost:8080/",
          "height": 147
        },
        "id": "QDpxf-Wg_sdp",
        "outputId": "02fa500a-5d3a-4ab3-d08d-5b62b8217363"
      },
      "execution_count": null,
      "outputs": [
        {
          "output_type": "error",
          "ename": "IndentationError",
          "evalue": "expected an indented block after 'else' statement on line 14 (<ipython-input-30-bc3408ec32c9>, line 15)",
          "traceback": [
            "\u001b[0;36m  File \u001b[0;32m\"<ipython-input-30-bc3408ec32c9>\"\u001b[0;36m, line \u001b[0;32m15\u001b[0m\n\u001b[0;31m    money = 0\u001b[0m\n\u001b[0m    ^\u001b[0m\n\u001b[0;31mIndentationError\u001b[0m\u001b[0;31m:\u001b[0m expected an indented block after 'else' statement on line 14\n"
          ]
        }
      ]
    },
    {
      "cell_type": "code",
      "source": [
        "# 중첩 if - elif문 사용하기"
      ],
      "metadata": {
        "id": "AHaIg7NFA87M"
      },
      "execution_count": null,
      "outputs": []
    },
    {
      "cell_type": "code",
      "source": [
        "# if를 중첩해서 사용하기\n",
        "movie = {\n",
        "    '영화': '레미제라블',\n",
        "    '장르': '드라마',\n",
        "    '서비스': '디즈니',\n",
        "    '비용': 15000,\n",
        "    '평점': 4.9\n",
        "}\n",
        "\n",
        "if movie['장르'] == '드라마':\n",
        "    if movie['서비스'] == '디즈니' or movie['서비스'] == '넷플릭스':\n",
        "        if movie['평점'] >= 4.5:\n",
        "            if movie['비용'] <= 20000:\n",
        "                print('영화시청') # 출력: 영화시청"
      ],
      "metadata": {
        "colab": {
          "base_uri": "https://localhost:8080/"
        },
        "id": "fJAdA38XBCFi",
        "outputId": "26bd82ac-98e8-4d26-c9ab-0a1ffb99ff28"
      },
      "execution_count": null,
      "outputs": [
        {
          "output_type": "stream",
          "name": "stdout",
          "text": [
            "영화시청\n"
          ]
        }
      ]
    },
    {
      "cell_type": "code",
      "source": [
        "if movie['장르'] == '드라마':\n",
        "    and movie['서비스'] == '디즈니' or movie['서비스'] == '넷플릭스':\n",
        "    and movie['평점'] >= 4.5:\n",
        "    and movie['비용'] <= 20000:\n",
        "                print('영화시청') # 출력: 영화시청"
      ],
      "metadata": {
        "id": "TvV3vRk0C0UG"
      },
      "execution_count": null,
      "outputs": []
    },
    {
      "cell_type": "code",
      "source": [
        "movie = {\n",
        "    '영화': '레미제라블',\n",
        "    '장르': '드라마',\n",
        "    '서비스': '왓챠',\n",
        "    '비용': 15000,\n",
        "    '평점': 4.9\n",
        "}\n",
        "\n",
        "if movie['장르'] == 'SF':\n",
        "    if movie['서비스'] == '디즈니' or movie['서비스'] == '넷플릭스':\n",
        "        if movie['평점'] >= 4.5 and movie['비용'] <= 20000:\n",
        "            print('영화시청')\n",
        "    else:\n",
        "        print(movie['서비스'] + ' 구독하기!') # 출력: 왓챠 구독하기!"
      ],
      "metadata": {
        "id": "4SbvQkrBDTZN"
      },
      "execution_count": null,
      "outputs": []
    },
    {
      "cell_type": "markdown",
      "source": [
        "# # for문\n",
        "\n",
        "for문은 특정 범위나 순서열(ex 리스트, 문자열 등)을 순회하며 순서열의 끝에 도달하면 반복을 멈추게 됩니다. 또한 객체를 처음부터 끝까지 하나씩 **추출하며 순회**하기 때문에 다양한 방식으로 활용될 수 있습니다."
      ],
      "metadata": {
        "id": "5e_xebSwD2CI"
      }
    },
    {
      "cell_type": "code",
      "source": [
        "# 함수\n",
        "def 함수명():\n",
        "    pass\n"
      ],
      "metadata": {
        "id": "LN1rXPmdElPz"
      },
      "execution_count": null,
      "outputs": []
    },
    {
      "cell_type": "code",
      "source": [
        "#조건문\n",
        "if 조건:\n",
        "    pass"
      ],
      "metadata": {
        "id": "NXwE6A7dE7rT"
      },
      "execution_count": null,
      "outputs": []
    },
    {
      "cell_type": "code",
      "source": [
        "#반복문\n",
        "for 변수명 in 순회_가능한_객체:\n",
        "    pass # 수행할_문장"
      ],
      "metadata": {
        "id": "99SeoEiEE-a_"
      },
      "execution_count": null,
      "outputs": []
    },
    {
      "cell_type": "code",
      "source": [
        "#반복문 기초 - 문자열\n",
        "#1. 'hello'를 순서대로 하나씩 단어를 꺼내서\n",
        "#2. x에 하나씩 넣은 다음에\n",
        "#3. 하나씩 for문 아래 코드블럭을 수행한다.\n",
        "#4. 그리고 순서가 마쳐지면 -> 다음 시퀀스(순서)로 넘어가서 똑같은 작업을 수행한다.\n",
        "\n",
        "for x in 'hello': # 순회 가능한 객체가 들어갑니다.\n",
        "    print(f'현재 값은 {x} 입니다.')"
      ],
      "metadata": {
        "colab": {
          "base_uri": "https://localhost:8080/"
        },
        "id": "LCD3TFEaGAP7",
        "outputId": "22c39683-2c93-4298-9ed7-144cb01ed338"
      },
      "execution_count": null,
      "outputs": [
        {
          "output_type": "stream",
          "name": "stdout",
          "text": [
            "현재 값은 h 입니다.\n",
            "현재 값은 e 입니다.\n",
            "현재 값은 l 입니다.\n",
            "현재 값은 l 입니다.\n",
            "현재 값은 o 입니다.\n"
          ]
        }
      ]
    },
    {
      "cell_type": "code",
      "source": [
        "for x in (1, 2, 3, 4, 5):\n",
        "    print(f'현재 값은 {x} 입니다.')"
      ],
      "metadata": {
        "colab": {
          "base_uri": "https://localhost:8080/"
        },
        "id": "Q4De7JZOGut0",
        "outputId": "46fd1e48-73d0-40f6-f247-fc2e0ca9a332"
      },
      "execution_count": null,
      "outputs": [
        {
          "output_type": "stream",
          "name": "stdout",
          "text": [
            "현재 값은 1 입니다.\n",
            "현재 값은 2 입니다.\n",
            "현재 값은 3 입니다.\n",
            "현재 값은 4 입니다.\n",
            "현재 값은 5 입니다.\n"
          ]
        }
      ]
    },
    {
      "cell_type": "code",
      "source": [
        "s = 'hello world'\n",
        "for i in s:\n",
        "    print(i)"
      ],
      "metadata": {
        "colab": {
          "base_uri": "https://localhost:8080/"
        },
        "id": "HpAO0Kj7HRY-",
        "outputId": "3cb95a42-bcea-4174-a1c2-c8cd71c5c806"
      },
      "execution_count": null,
      "outputs": [
        {
          "output_type": "stream",
          "name": "stdout",
          "text": [
            "h\n",
            "e\n",
            "l\n",
            "l\n",
            "o\n",
            " \n",
            "w\n",
            "o\n",
            "r\n",
            "l\n",
            "d\n"
          ]
        }
      ]
    },
    {
      "cell_type": "code",
      "source": [
        "s = '123'\n",
        "result = 0\n",
        "for i in s:\n",
        "    result += int(i)"
      ],
      "metadata": {
        "id": "5ijXzr0_HpE0"
      },
      "execution_count": null,
      "outputs": []
    },
    {
      "cell_type": "code",
      "source": [
        "# 딕셔너리 자료형은 키 값만 나온다.\n",
        "단어_사전 = {\n",
        "    '하나' : 'one',\n",
        "    '둘' : 'two',\n",
        "    '셋' : 'three',\n",
        "}\n",
        "\n",
        "for i in 단어_사전:\n",
        "    print(i)"
      ],
      "metadata": {
        "colab": {
          "base_uri": "https://localhost:8080/"
        },
        "id": "AO3K-o_kHurd",
        "outputId": "810cd19e-b4e2-4ca2-dd28-4a8b99017598"
      },
      "execution_count": null,
      "outputs": [
        {
          "output_type": "stream",
          "name": "stdout",
          "text": [
            "하나\n",
            "둘\n",
            "셋\n"
          ]
        }
      ]
    },
    {
      "cell_type": "code",
      "source": [
        "단어_사전 = {\n",
        "    '하나' : 'one',\n",
        "    '둘' : 'two',\n",
        "    '셋' : 'three',\n",
        "}\n",
        "\n",
        "for key, value in 단어_사전.items():\n",
        "    print(f'{key} : {value}')"
      ],
      "metadata": {
        "colab": {
          "base_uri": "https://localhost:8080/"
        },
        "id": "7CUHIhRmILGS",
        "outputId": "af704209-7873-4a59-a188-ee5c2ccdf2d9"
      },
      "execution_count": null,
      "outputs": [
        {
          "output_type": "stream",
          "name": "stdout",
          "text": [
            "하나 : one\n",
            "둘 : two\n",
            "셋 : three\n"
          ]
        }
      ]
    },
    {
      "cell_type": "code",
      "source": [
        "# 짝수코드 작성!\n",
        "\n",
        "result = 0\n",
        "for i in range(101): #0~100까지 시쿼스 자료형을 불러온다.\n",
        "    if i % 2 == 0:   # 0~100까지 중에서 짝수만 가져온다.\n",
        "       result += i    # 짝수를 가져와서 누적으로 더한다. 0, 2, 4, 6, ... 100 까지 더한다.\n",
        "\n",
        "print(result) # 출력한다."
      ],
      "metadata": {
        "colab": {
          "base_uri": "https://localhost:8080/"
        },
        "id": "J3GbJGGvMLu9",
        "outputId": "98ebdc9b-1508-49c0-8b64-d8317c6b0c0a"
      },
      "execution_count": null,
      "outputs": [
        {
          "output_type": "stream",
          "name": "stdout",
          "text": [
            "2550\n"
          ]
        }
      ]
    },
    {
      "cell_type": "code",
      "source": [
        "# 위에보다 효율적인 코드 작성 출력은 동일함\n",
        "result = 0\n",
        "for i in range(0, 101, 2):\n",
        "    result += i\n",
        "result"
      ],
      "metadata": {
        "colab": {
          "base_uri": "https://localhost:8080/"
        },
        "id": "BVkZU5DyNRZb",
        "outputId": "0ea68555-1a23-4297-d24a-88fce98da233"
      },
      "execution_count": null,
      "outputs": [
        {
          "output_type": "execute_result",
          "data": {
            "text/plain": [
              "2550"
            ]
          },
          "metadata": {},
          "execution_count": 49
        }
      ]
    },
    {
      "cell_type": "code",
      "source": [
        "# 짝수코드 작성!\n",
        "\n",
        "result = 0\n",
        "for i in range(101): #0~100까지 시쿼스 자료형을 불러온다.\n",
        "    if i % 2 != 0:   # 0~100까지 중에서 짝수만 가져온다.\n",
        "       result += i    # 짝수를 가져와서 누적으로 더한다. 0, 2, 4, 6, ... 100 까지 더한다.\n",
        "\n",
        "print(result) # 출력한다."
      ],
      "metadata": {
        "colab": {
          "base_uri": "https://localhost:8080/"
        },
        "id": "-1uJH94pNBaN",
        "outputId": "d9544b51-f9a6-4d25-96ac-39928d8cd8c6"
      },
      "execution_count": null,
      "outputs": [
        {
          "output_type": "stream",
          "name": "stdout",
          "text": [
            "2500\n"
          ]
        }
      ]
    },
    {
      "cell_type": "code",
      "source": [
        "# 중첩 반복문"
      ],
      "metadata": {
        "id": "N2ycxkIANsk0"
      },
      "execution_count": null,
      "outputs": []
    },
    {
      "cell_type": "code",
      "source": [
        "# code1\n",
        "for i in [[1, 2], [10, 20], [100, 200]]:\n",
        "    print(i)"
      ],
      "metadata": {
        "colab": {
          "base_uri": "https://localhost:8080/"
        },
        "id": "vy7mTCtLNyni",
        "outputId": "1cc191ea-665b-44c4-ee72-9029e695582f"
      },
      "execution_count": null,
      "outputs": [
        {
          "output_type": "stream",
          "name": "stdout",
          "text": [
            "[1, 2]\n",
            "[10, 20]\n",
            "[100, 200]\n"
          ]
        }
      ]
    },
    {
      "cell_type": "code",
      "source": [
        "# code2\n",
        "for j in [1, 2]:\n",
        "    print(j)"
      ],
      "metadata": {
        "colab": {
          "base_uri": "https://localhost:8080/"
        },
        "id": "gECxMMEqN9Xz",
        "outputId": "206d6098-6c0c-457c-8452-730f33f04ed2"
      },
      "execution_count": null,
      "outputs": [
        {
          "output_type": "stream",
          "name": "stdout",
          "text": [
            "1\n",
            "2\n"
          ]
        }
      ]
    },
    {
      "cell_type": "code",
      "source": [
        "for i in [[1, 2], [10, 20], [100, 200]]:\n",
        "    # code 2\n",
        "    for j in i:\n",
        "        print(j)\n",
        "#첫번째 반복에서 내부 리스트를 출력하고 두번째 반복에서 출력한 내부리스트의 요소를 출력합니다"
      ],
      "metadata": {
        "colab": {
          "base_uri": "https://localhost:8080/"
        },
        "id": "AOq86syYN-XV",
        "outputId": "eab83da5-04b8-431c-b31e-f18ce5953b51"
      },
      "execution_count": null,
      "outputs": [
        {
          "output_type": "stream",
          "name": "stdout",
          "text": [
            "1\n",
            "2\n",
            "10\n",
            "20\n",
            "100\n",
            "200\n"
          ]
        }
      ]
    },
    {
      "cell_type": "code",
      "source": [
        "# 직관적으로 보기위해 프린트를 추가해봤다.\n",
        "for i in [[1, 2], [10, 20], [100, 200]]:\n",
        "    for j in i: #for 문을 두번 사용해서 리스트 안에 리스트 값을 출력함.\n",
        "        print(i)\n",
        "        print(j)"
      ],
      "metadata": {
        "colab": {
          "base_uri": "https://localhost:8080/"
        },
        "id": "vsXqS90AN_lI",
        "outputId": "73ab9360-d2a4-4133-dbf7-d2ff3629326a"
      },
      "execution_count": null,
      "outputs": [
        {
          "output_type": "stream",
          "name": "stdout",
          "text": [
            "[1, 2]\n",
            "1\n",
            "[1, 2]\n",
            "2\n",
            "[10, 20]\n",
            "10\n",
            "[10, 20]\n",
            "20\n",
            "[100, 200]\n",
            "100\n",
            "[100, 200]\n",
            "200\n"
          ]
        }
      ]
    },
    {
      "cell_type": "code",
      "source": [
        "# 강사님 추천 문장.\n",
        "for i in [[1, 2], [10, 20], [100, 200]]:\n",
        "    print(i)\n",
        "    for j in i: #for 문을 두번 사용해서 리스트 안에 리스트 값을 출력함.\n",
        "        print(j)"
      ],
      "metadata": {
        "colab": {
          "base_uri": "https://localhost:8080/"
        },
        "id": "Sg1qB37EQH2b",
        "outputId": "2d3be30f-d0df-4247-bba4-9c4d8306f608"
      },
      "execution_count": null,
      "outputs": [
        {
          "output_type": "stream",
          "name": "stdout",
          "text": [
            "[1, 2]\n",
            "1\n",
            "2\n",
            "[10, 20]\n",
            "10\n",
            "20\n",
            "[100, 200]\n",
            "100\n",
            "200\n"
          ]
        }
      ]
    },
    {
      "cell_type": "code",
      "source": [
        "for i in range(1, 20): # i라는 시퀀스 자료형을 2~19 까지 가져온다\n",
        "    print(f'---{i}단---') # i 값을 받아 프린트\n",
        "    for j in range(1, 20): # j라는 시퀀스 자료형을 1에서 19까지 가져온다.\n",
        "        print(f'{i} X {j} = {i * j}') # i값 x j값 = {I와j값을 곱한 값을 표시} 표 프린트해준다."
      ],
      "metadata": {
        "id": "4Hx029lrQnCT"
      },
      "execution_count": null,
      "outputs": []
    },
    {
      "cell_type": "markdown",
      "source": [
        "# 컴프리헨션(comprehension)"
      ],
      "metadata": {
        "id": "xObblIL4USOl"
      }
    },
    {
      "cell_type": "code",
      "source": [
        "# 리스트 컴프리헨션\n",
        "# step1 list안에 for문을 가져옵니다.\n",
        "#[for]\n",
        "a = [1 for i in range(1, 10)]\n",
        "b = [i*2 for i in range(1, 10)]\n",
        "print(a, b)"
      ],
      "metadata": {
        "colab": {
          "base_uri": "https://localhost:8080/"
        },
        "id": "U-0Lj4MCS6DI",
        "outputId": "72077c41-4367-41ef-b9a8-961702850f45"
      },
      "execution_count": null,
      "outputs": [
        {
          "output_type": "stream",
          "name": "stdout",
          "text": [
            "[1, 1, 1, 1, 1, 1, 1, 1, 1] [2, 4, 6, 8, 10, 12, 14, 16, 18]\n"
          ]
        }
      ]
    },
    {
      "cell_type": "code",
      "source": [
        "# 리스트 컴프리헨션\n",
        "a = [1 for i in range(1, 10) if i % 2 == 0]\n",
        "print(i)"
      ],
      "metadata": {
        "colab": {
          "base_uri": "https://localhost:8080/"
        },
        "id": "_5n0JgLIUY6i",
        "outputId": "8a6e632d-aaa5-4180-e42a-8da4d296da9c"
      },
      "execution_count": null,
      "outputs": [
        {
          "output_type": "stream",
          "name": "stdout",
          "text": [
            "19\n"
          ]
        }
      ]
    },
    {
      "cell_type": "code",
      "source": [
        "#  중첩된 반복문과 중첩된 컴프리헨션\n",
        "# 리스트 컴프리헨션: 중첩된 반복문\n",
        "\n",
        "c = [f'{i} x {j} = {i*j}' for I in range(2, 10) for j in range(1, 10)]\n",
        "\n",
        "# 리스트 컴프리헨션: 중첩된 컴프리헨션\n",
        "cc = [[f'{i} × {j} = {i*j}' for j in range(1, 10)] for i in range(2, 10)]\n",
        "\n",
        "# 전통적인 방법\n",
        "c_list = []\n",
        "for i in range(2, 10):\n",
        "    for j in range(1, 10):\n",
        "        c_list.append(f'{i} × {j} = {i*j}')"
      ],
      "metadata": {
        "id": "xfRgPCyMUxEY"
      },
      "execution_count": null,
      "outputs": []
    },
    {
      "cell_type": "code",
      "source": [
        "def sumthingFunction(i): # 함수 sumthingFunction(i) 생성\n",
        "    if i % 100 ==0:     #  i를 100으로 나눈 나머지값이 0일떄\n",
        "        return i        #  일치하면 i 리턴\n",
        "    else:               #  일치하지 않으면 0 리턴\n",
        "        return 0\n",
        "\n",
        "l = [100, 200, 300, 101, 202, 303]\n",
        "l = [sumthingFunction(i) for i in l] # l 리스트에 있는 값들을 하나씩 꺼내서, 함수에 태워보고 조건에 맞는\n",
        "l # 출력: [100, 200, 300, 0, 0, 0]"
      ],
      "metadata": {
        "colab": {
          "base_uri": "https://localhost:8080/"
        },
        "id": "mV7xTdEmpMoM",
        "outputId": "5ef76f18-e970-44a4-afdc-300bef2941c4"
      },
      "execution_count": null,
      "outputs": [
        {
          "output_type": "execute_result",
          "data": {
            "text/plain": [
              "[100, 200, 300, 0, 0, 0]"
            ]
          },
          "metadata": {},
          "execution_count": 80
        }
      ]
    },
    {
      "cell_type": "code",
      "source": [
        "# 함수 내 람다 사용법 사용할수 있으나 권장드리지 않음.\n",
        "\n",
        "l = [100, 200, 300, 101, 202, 303]\n",
        "l2 =[(lambda x : x * x)(x) for x in l]\n",
        "print(l2)"
      ],
      "metadata": {
        "colab": {
          "base_uri": "https://localhost:8080/"
        },
        "id": "uSh-FNj0pzj5",
        "outputId": "865372a5-daaa-4bef-e5c0-2d7bf72b2e93"
      },
      "execution_count": null,
      "outputs": [
        {
          "output_type": "stream",
          "name": "stdout",
          "text": [
            "[10000, 40000, 90000, 10201, 40804, 91809]\n"
          ]
        }
      ]
    },
    {
      "cell_type": "code",
      "source": [
        "# 딕셔너리 컴프리헨션\n",
        "\n",
        "# 전통적 방법\n",
        "d = {}\n",
        "for i in range(5):\n",
        "    d[i] = i**2\n",
        "\n",
        "# 딕셔너리 컴프리헨션 사용\n",
        "dd = {i: i**2 for i in range(5)}"
      ],
      "metadata": {
        "id": "JZnxb0FQqqvX"
      },
      "execution_count": null,
      "outputs": []
    },
    {
      "cell_type": "code",
      "source": [
        "# 딕셔너리 컴프리헨션\n",
        "\n",
        "# 전통적 방법\n",
        "d = {}\n",
        "for i in range(5):\n",
        "    d[i] = i**2\n",
        "print(d)\n",
        "\n",
        "# 딕셔너리 컴프리헨션 사용\n",
        "dd = {i: i**2 for i in range(5)}\n",
        "print(dd)\n"
      ],
      "metadata": {
        "colab": {
          "base_uri": "https://localhost:8080/"
        },
        "id": "2ux29h4_q9hL",
        "outputId": "12762572-34dd-4e48-a130-326baaccc870"
      },
      "execution_count": null,
      "outputs": [
        {
          "output_type": "stream",
          "name": "stdout",
          "text": [
            "{0: 0, 1: 1, 2: 4, 3: 9, 4: 16}\n",
            "{0: 0, 1: 1, 2: 4, 3: 9, 4: 16}\n"
          ]
        }
      ]
    },
    {
      "cell_type": "code",
      "source": [
        "# 복합 자료형 순회 (for문)\n",
        "\n",
        "for i, j, k in ['abc', 'def', 'ghi']:\n",
        "    print(i, j, k)"
      ],
      "metadata": {
        "colab": {
          "base_uri": "https://localhost:8080/"
        },
        "id": "P41b9dCLrQ1V",
        "outputId": "e7c828b6-c12e-44d2-f030-5838f5e250fd"
      },
      "execution_count": null,
      "outputs": [
        {
          "output_type": "stream",
          "name": "stdout",
          "text": [
            "a b c\n",
            "d e f\n",
            "g h i\n"
          ]
        }
      ]
    },
    {
      "cell_type": "code",
      "source": [
        "skill = [\n",
        "        ('고기잡이', 100),\n",
        "        ('고기팔기', 120),\n",
        "        ('낚시', 5),\n",
        "        ('통발', 5),\n",
        "        ('큰그물', 5)\n",
        "]\n",
        "\n",
        "for i, j in skill:\n",
        "    print(i, j)"
      ],
      "metadata": {
        "colab": {
          "base_uri": "https://localhost:8080/"
        },
        "id": "CSb2Ix2tsksL",
        "outputId": "ffdcb7cd-a55d-4811-b651-1fe7f23de742"
      },
      "execution_count": null,
      "outputs": [
        {
          "output_type": "stream",
          "name": "stdout",
          "text": [
            "고기잡이 100\n",
            "고기팔기 120\n",
            "낚시 5\n",
            "통발 5\n",
            "큰그물 5\n"
          ]
        }
      ]
    },
    {
      "cell_type": "code",
      "source": [],
      "metadata": {
        "id": "imcVwiQnslp8"
      },
      "execution_count": null,
      "outputs": []
    },
    {
      "cell_type": "code",
      "source": [
        "# 하나만 리스트여도 쌍이면 상관없이 잘 돌아감\n",
        "skill = [\n",
        "        ('고기잡이', 100, 'SS'),\n",
        "        ('고기팔기', 120, 'SSS'),\n",
        "        ('낚시', 5, 'C'),\n",
        "        ('통발', 5, 'C'),\n",
        "        ('큰그물', 5, 'C')\n",
        "]\n",
        "\n",
        "for skillName, skillLevel, skillGrade in skill:\n",
        "    print(skillName, skillLevel, skillGrade)"
      ],
      "metadata": {
        "colab": {
          "base_uri": "https://localhost:8080/"
        },
        "id": "nIVVYXKesnDd",
        "outputId": "e27f60d8-9af1-4a3f-aa10-2e3b77923666"
      },
      "execution_count": null,
      "outputs": [
        {
          "output_type": "stream",
          "name": "stdout",
          "text": [
            "고기잡이 100 SS\n",
            "고기팔기 120 SSS\n",
            "낚시 5 C\n",
            "통발 5 C\n",
            "큰그물 5 C\n"
          ]
        }
      ]
    },
    {
      "cell_type": "code",
      "source": [
        "# enumerate 활용\n",
        "\n",
        "영화누적관객수 = ['레미제라블', '뷰티인사이트', '매트릭스', '인셉션', '어거스트 러쉬']\n",
        "for i in enumerate(영화누적관객수):\n",
        "    print(i)\n",
        "\n",
        "for i, j in enumerate(영화누적관객수, 1):\n",
        "    print(f'누적관객수 {i}위! {j}!')"
      ],
      "metadata": {
        "colab": {
          "base_uri": "https://localhost:8080/"
        },
        "id": "SSOy1xsftkZH",
        "outputId": "a62326be-56a4-47db-db3c-b4979a630af4"
      },
      "execution_count": null,
      "outputs": [
        {
          "output_type": "stream",
          "name": "stdout",
          "text": [
            "(0, '레미제라블')\n",
            "(1, '뷰티인사이트')\n",
            "(2, '매트릭스')\n",
            "(3, '인셉션')\n",
            "(4, '어거스트 러쉬')\n",
            "누적관객수 1위! 레미제라블!\n",
            "누적관객수 2위! 뷰티인사이트!\n",
            "누적관객수 3위! 매트릭스!\n",
            "누적관객수 4위! 인셉션!\n",
            "누적관객수 5위! 어거스트 러쉬!\n"
          ]
        }
      ]
    },
    {
      "cell_type": "code",
      "source": [
        "영화누적관객수 = ['레미제라블', '뷰티인사이트', '매트릭스', '인셉션', '어거스트 러쉬']\n",
        "for i, j in enumerate(영화누적관객수, 100):\n",
        "    print(f'누적관객수 {i}위! {j}!')"
      ],
      "metadata": {
        "colab": {
          "base_uri": "https://localhost:8080/"
        },
        "id": "ZKMxzYQPvEqS",
        "outputId": "9d9dbdee-0b37-45c1-af9d-75e5e4beae61"
      },
      "execution_count": null,
      "outputs": [
        {
          "output_type": "stream",
          "name": "stdout",
          "text": [
            "누적관객수 100위! 레미제라블!\n",
            "누적관객수 101위! 뷰티인사이트!\n",
            "누적관객수 102위! 매트릭스!\n",
            "누적관객수 103위! 인셉션!\n",
            "누적관객수 104위! 어거스트 러쉬!\n"
          ]
        }
      ]
    },
    {
      "cell_type": "code",
      "source": [
        "for i, j in enumerate(영화누적관객수, 1):\n",
        "    print(f'누적관객수 {i}위! {j}!') # i에는 index값 j에는 영화 제목! ,1 -> 1부터 시작!"
      ],
      "metadata": {
        "colab": {
          "base_uri": "https://localhost:8080/"
        },
        "id": "Gn9fJOa0u6V5",
        "outputId": "598c157e-9d37-47b0-e1a8-c47481bd7520"
      },
      "execution_count": null,
      "outputs": [
        {
          "output_type": "stream",
          "name": "stdout",
          "text": [
            "누적관객수 1위! 레미제라블!\n",
            "누적관객수 2위! 뷰티인사이트!\n",
            "누적관객수 3위! 매트릭스!\n",
            "누적관객수 4위! 인셉션!\n",
            "누적관객수 5위! 어거스트 러쉬!\n"
          ]
        }
      ]
    },
    {
      "cell_type": "code",
      "source": [
        "# while문"
      ],
      "metadata": {
        "id": "pSyR-aQrvaOV"
      },
      "execution_count": null,
      "outputs": []
    },
    {
      "cell_type": "code",
      "source": [
        "while 구문:\n",
        "    pass # 수행할 문장"
      ],
      "metadata": {
        "colab": {
          "base_uri": "https://localhost:8080/",
          "height": 201
        },
        "id": "yOYEswpDwGPo",
        "outputId": "04ee02fb-56af-44b1-f5c3-0da64d22f247"
      },
      "execution_count": null,
      "outputs": [
        {
          "output_type": "error",
          "ename": "NameError",
          "evalue": "name '구문' is not defined",
          "traceback": [
            "\u001b[0;31m---------------------------------------------------------------------------\u001b[0m",
            "\u001b[0;31mNameError\u001b[0m                                 Traceback (most recent call last)",
            "\u001b[0;32m<ipython-input-93-4215701bfd84>\u001b[0m in \u001b[0;36m<cell line: 1>\u001b[0;34m()\u001b[0m\n\u001b[0;32m----> 1\u001b[0;31m \u001b[0;32mwhile\u001b[0m \u001b[0m구문\u001b[0m\u001b[0;34m:\u001b[0m\u001b[0;34m\u001b[0m\u001b[0;34m\u001b[0m\u001b[0m\n\u001b[0m\u001b[1;32m      2\u001b[0m     \u001b[0;32mpass\u001b[0m \u001b[0;31m# 수행할 문장\u001b[0m\u001b[0;34m\u001b[0m\u001b[0;34m\u001b[0m\u001b[0m\n",
            "\u001b[0;31mNameError\u001b[0m: name '구문' is not defined"
          ]
        }
      ]
    },
    {
      "cell_type": "code",
      "source": [
        "#while문 기초\n",
        "\n",
        "a = 1\n",
        "\n",
        "while a < 10 : # 10이 될떄까지 아래 a += 1 식을 수행합니다.\n",
        "    print(a)\n",
        "\n",
        "# a 값이 1인데 10 까지 갈수있는 조건문(식) 이 없으므로 계속해서 print(a) 같은 작업을 수행한다"
      ],
      "metadata": {
        "id": "8qhnGSebxrvp"
      },
      "execution_count": null,
      "outputs": []
    },
    {
      "cell_type": "code",
      "source": [
        "#while문 기초\n",
        "\n",
        "a = 1\n",
        "\n",
        "while a < 10 : # 10이 될떄까지 아래 a += 1 식을 수행합니다.\n",
        "    print(a)\n",
        "    a += 1\n",
        "\n",
        "# for문 기초\n",
        "for i in range(1,10):\n",
        "    print(i)"
      ],
      "metadata": {
        "colab": {
          "base_uri": "https://localhost:8080/"
        },
        "id": "EupW_GYmwLzk",
        "outputId": "07abb68d-0e30-4b56-ec4c-f59a744d2e11"
      },
      "execution_count": null,
      "outputs": [
        {
          "output_type": "stream",
          "name": "stdout",
          "text": [
            "1\n",
            "2\n",
            "3\n",
            "4\n",
            "5\n",
            "6\n",
            "7\n",
            "8\n",
            "9\n"
          ]
        }
      ]
    },
    {
      "cell_type": "code",
      "source": [
        "# for문 기초\n",
        "for i in range(1,10): # 1에서 10사이 수를 보여줌니다.\n",
        "    print(i)\n"
      ],
      "metadata": {
        "colab": {
          "base_uri": "https://localhost:8080/"
        },
        "id": "w2kg588DwXch",
        "outputId": "067cf9ce-1b96-49ac-e6d1-64761921fa78"
      },
      "execution_count": null,
      "outputs": [
        {
          "output_type": "stream",
          "name": "stdout",
          "text": [
            "1\n",
            "2\n",
            "3\n",
            "4\n",
            "5\n",
            "6\n",
            "7\n",
            "8\n",
            "9\n"
          ]
        }
      ]
    },
    {
      "cell_type": "code",
      "source": [],
      "metadata": {
        "id": "-3fem-EAwTIj"
      },
      "execution_count": null,
      "outputs": []
    },
    {
      "cell_type": "code",
      "source": [],
      "metadata": {
        "id": "g4morj-c0f8S"
      },
      "execution_count": null,
      "outputs": []
    }
  ]
}