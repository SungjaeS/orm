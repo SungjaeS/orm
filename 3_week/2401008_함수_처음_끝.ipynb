{
  "nbformat": 4,
  "nbformat_minor": 0,
  "metadata": {
    "colab": {
      "provenance": [],
      "authorship_tag": "ABX9TyOlqhKwYtEMk7cy8ImqKblS",
      "include_colab_link": true
    },
    "kernelspec": {
      "name": "python3",
      "display_name": "Python 3"
    },
    "language_info": {
      "name": "python"
    }
  },
  "cells": [
    {
      "cell_type": "markdown",
      "metadata": {
        "id": "view-in-github",
        "colab_type": "text"
      },
      "source": [
        "<a href=\"https://colab.research.google.com/github/SungjaeS/orm/blob/main/2401008_%ED%95%A8%EC%88%98_%EC%B2%98%EC%9D%8C_%EB%81%9D.ipynb\" target=\"_parent\"><img src=\"https://colab.research.google.com/assets/colab-badge.svg\" alt=\"Open In Colab\"/></a>"
      ]
    },
    {
      "cell_type": "markdown",
      "source": [
        "# 함수와 인사하기\n",
        "\n",
        "* 함수를 사용하면 복잡한 코드를 단순화시키고, 반복되는 코드를 줄일 수 있습니다. 이로 인해 전체적인 코드가 더 깔끔해지고 관리하기 쉬워집니다. 또한, 이러한 접근법은 코딩 오류를 줄이고 프로그램의 효율성을 향상시킬 수 있습니다."
      ],
      "metadata": {
        "id": "mAV3pJdSqkZ-"
      }
    },
    {
      "cell_type": "code",
      "execution_count": null,
      "metadata": {
        "id": "rXN1Qb6zqRyd"
      },
      "outputs": [],
      "source": [
        "# 1. 나만의 함수 만들어보기\n",
        "\n",
        "def sungjae(): # def -> 이건 함수야 jinhwankim 함수의 이름 + () -> \":\""
      ]
    },
    {
      "cell_type": "code",
      "source": [
        "# 2. 들여쓰기\n",
        "\n",
        "def my_function():\n",
        "    print('1') #4칸을 띄우는 것 -> 함수의 본문을 적는 것.\n",
        "    print('2') #4칸을 띄우는 것 -> 함수의 본문을 적는 것.\n",
        "    print('3') #4칸을 띄우는 것 -> 함수의 본문을 적는 것.\n",
        "\n",
        "# 함수의 실행\n",
        "my_function() #실행을 할떄는 def와 :는 필요없다.-> 함수의 본문이 실행 된다."
      ],
      "metadata": {
        "colab": {
          "base_uri": "https://localhost:8080/"
        },
        "id": "N3enDJNpsuc3",
        "outputId": "1d1448b1-0004-450a-b2e0-bc737172a07d"
      },
      "execution_count": null,
      "outputs": [
        {
          "output_type": "stream",
          "name": "stdout",
          "text": [
            "1\n",
            "2\n",
            "3\n"
          ]
        }
      ]
    },
    {
      "cell_type": "code",
      "source": [
        "# 4칸 띄우기를 하지않고 한두세칸을 띄우면 에러가 난다.\n",
        "\n",
        "def my_function():\n",
        "    print('1') #4칸을 띄우는 것 -> 함수의 본문을 적는 것.\n",
        "    print('2') #4칸을 띄우는 것 -> 함수의 본문을 적는 것.\n",
        "print('3') #이렇게 4칸 띄우지 않으면 3이 먼저나오는데 그건 함수안에 print('3')이 있지 않기때문\n",
        "# print('4') # error\n",
        "#  print('4') # error\n",
        "#    print('4') # error\n",
        "\n",
        "# 함수의 실행\n",
        "my_function() #실행을 할떄는 def와 :는 필요없다.-> 함수의 본문이 실행 된다."
      ],
      "metadata": {
        "colab": {
          "base_uri": "https://localhost:8080/"
        },
        "id": "-D2-nftst314",
        "outputId": "3301fed8-75b8-40d0-fb18-f9cfccc180a7"
      },
      "execution_count": null,
      "outputs": [
        {
          "output_type": "stream",
          "name": "stdout",
          "text": [
            "3\n",
            "1\n",
            "2\n"
          ]
        }
      ]
    },
    {
      "cell_type": "code",
      "source": [
        "# 1. 함수의 기본 구조\n",
        "\n",
        "def function_name (x, y):\n",
        "    z = x + y\n",
        "    return z\n",
        "print(f'function_name(10, 9) = {function_name(10, 9)}')"
      ],
      "metadata": {
        "id": "sf8C5bNpvsL_",
        "colab": {
          "base_uri": "https://localhost:8080/"
        },
        "outputId": "1768196e-4953-4acc-9f5a-13ed4a5f9892"
      },
      "execution_count": 18,
      "outputs": [
        {
          "output_type": "stream",
          "name": "stdout",
          "text": [
            "function_name(10, 9) = 19\n"
          ]
        }
      ]
    },
    {
      "cell_type": "code",
      "source": [
        "def function_name(x, y):\n",
        "    return x + y\n",
        "\n",
        "function_name(10, 9)"
      ],
      "metadata": {
        "colab": {
          "base_uri": "https://localhost:8080/"
        },
        "id": "05H7W1x9O0vw",
        "outputId": "dd3b86f6-29c0-443e-f65a-dd62224469d3"
      },
      "execution_count": 1,
      "outputs": [
        {
          "output_type": "execute_result",
          "data": {
            "text/plain": [
              "19"
            ]
          },
          "metadata": {},
          "execution_count": 1
        }
      ]
    },
    {
      "cell_type": "code",
      "source": [
        "def f():\n",
        "    print(1 / 0)\n",
        "\n",
        "print('hello')"
      ],
      "metadata": {
        "colab": {
          "base_uri": "https://localhost:8080/"
        },
        "id": "Ki_mY6teO7zn",
        "outputId": "e8d6ab05-5646-4b24-baac-9a3774accd05"
      },
      "execution_count": 2,
      "outputs": [
        {
          "output_type": "stream",
          "name": "stdout",
          "text": [
            "hello\n"
          ]
        }
      ]
    },
    {
      "cell_type": "code",
      "source": [
        "# 예제 수업내용 아님```\n",
        "python\n",
        "\n",
        "l = [1, 2, 3, 4, 5, 6, 7, 8, 9, 10]\n",
        "\n",
        "def f(x): # f를 정의한다.\n",
        "        return x % 2 == 0 # 2로 나누었을떄 나머지가 0이 되는수만 리턴.\n",
        "        sum(filter(f, l)) # l값에서 정의된 f값이 필터되고 마지막 그값들이 더해진다.\n",
        "# 예제 수업내용 아님```"
      ],
      "metadata": {
        "colab": {
          "base_uri": "https://localhost:8080/",
          "height": 256
        },
        "id": "jH6i9uud6-dI",
        "outputId": "108eeba0-e54d-4230-84c7-81e5883de14e"
      },
      "execution_count": 22,
      "outputs": [
        {
          "output_type": "error",
          "ename": "NameError",
          "evalue": "name 'python' is not defined",
          "traceback": [
            "\u001b[0;31m---------------------------------------------------------------------------\u001b[0m",
            "\u001b[0;31mNameError\u001b[0m                                 Traceback (most recent call last)",
            "\u001b[0;32m<ipython-input-22-56f2907dd837>\u001b[0m in \u001b[0;36m<cell line: 2>\u001b[0;34m()\u001b[0m\n\u001b[1;32m      1\u001b[0m \u001b[0;31m# 예제 수업내용 아님```\u001b[0m\u001b[0;34m\u001b[0m\u001b[0;34m\u001b[0m\u001b[0m\n\u001b[0;32m----> 2\u001b[0;31m \u001b[0mpython\u001b[0m\u001b[0;34m\u001b[0m\u001b[0;34m\u001b[0m\u001b[0m\n\u001b[0m\u001b[1;32m      3\u001b[0m \u001b[0;34m\u001b[0m\u001b[0m\n\u001b[1;32m      4\u001b[0m \u001b[0ml\u001b[0m \u001b[0;34m=\u001b[0m \u001b[0;34m[\u001b[0m\u001b[0;36m1\u001b[0m\u001b[0;34m,\u001b[0m \u001b[0;36m2\u001b[0m\u001b[0;34m,\u001b[0m \u001b[0;36m3\u001b[0m\u001b[0;34m,\u001b[0m \u001b[0;36m4\u001b[0m\u001b[0;34m,\u001b[0m \u001b[0;36m5\u001b[0m\u001b[0;34m,\u001b[0m \u001b[0;36m6\u001b[0m\u001b[0;34m,\u001b[0m \u001b[0;36m7\u001b[0m\u001b[0;34m,\u001b[0m \u001b[0;36m8\u001b[0m\u001b[0;34m,\u001b[0m \u001b[0;36m9\u001b[0m\u001b[0;34m,\u001b[0m \u001b[0;36m10\u001b[0m\u001b[0;34m]\u001b[0m\u001b[0;34m\u001b[0m\u001b[0;34m\u001b[0m\u001b[0m\n\u001b[1;32m      5\u001b[0m \u001b[0;34m\u001b[0m\u001b[0m\n",
            "\u001b[0;31mNameError\u001b[0m: name 'python' is not defined"
          ]
        }
      ]
    },
    {
      "cell_type": "code",
      "source": [
        "def function_name(x, y):\n",
        "    z = x + y # z = 10 + 9\n",
        "    return z # z만 가지고서는 출력이 되지 않음! return z을 지정하지 않으면 출력되지않음\n",
        "\n",
        "# 1. return을 함수 내에 지정하지 않았을떄\n",
        "print(f'function_name(10, 9) = {function_name(10, 9)}')\n"
      ],
      "metadata": {
        "colab": {
          "base_uri": "https://localhost:8080/"
        },
        "id": "3Fkp8rim7Sra",
        "outputId": "129c0dbe-a78f-48e1-ad8d-6382f672c9b4"
      },
      "execution_count": 7,
      "outputs": [
        {
          "output_type": "stream",
          "name": "stdout",
          "text": [
            "function_name(10, 9) = 19\n"
          ]
        }
      ]
    },
    {
      "cell_type": "code",
      "source": [
        "def f():\n",
        "    print(1 / 0)#원래 에러가 나야되는데 함수가 호출이 되지 않았기때문에 헬로가 프린트되고 에러 나지않음\n",
        "    return z\n",
        "print('hello')"
      ],
      "metadata": {
        "colab": {
          "base_uri": "https://localhost:8080/"
        },
        "id": "Rdv-R0ia8Vh-",
        "outputId": "fc52be69-bf80-42b0-bd2a-5d46b7890f91"
      },
      "execution_count": 11,
      "outputs": [
        {
          "output_type": "stream",
          "name": "stdout",
          "text": [
            "hello\n"
          ]
        }
      ]
    },
    {
      "cell_type": "code",
      "source": [
        "#2.1 입력 매개변수가 없고 반환값도 없는 함수\n",
        "def simple_function():\n",
        "    print('hello world') #헬로 월드 출력되고,\n",
        "                        # 리턴이 없어서 반환될게 없어서 논이 나온다.그래서 보통 return을 print대신사용\n",
        "\n",
        "# 함수 호출\n",
        "print(simple_function()) # 함수는 return 값을 찾겠구나!"
      ],
      "metadata": {
        "colab": {
          "base_uri": "https://localhost:8080/"
        },
        "id": "y8ZQq6mm8q6S",
        "outputId": "4a4ff4e3-aced-472f-c3b2-7bfb92313f8e"
      },
      "execution_count": 23,
      "outputs": [
        {
          "output_type": "stream",
          "name": "stdout",
          "text": [
            "hello world\n",
            "None\n"
          ]
        }
      ]
    },
    {
      "cell_type": "code",
      "source": [
        "# 2,2 파라미터가 없고, 반환값은 있는 함수\n",
        "def give_me_five():\n",
        "    return 5\n",
        "\n",
        "result = give_me_five() # 할당! result = 5 이것과 비슷한 출력.\n",
        "print(result) # 출력:5 아큐먼트도 없고 함수가 있는것도 아니지만 return 5 때문에 5가 출력되게된다."
      ],
      "metadata": {
        "colab": {
          "base_uri": "https://localhost:8080/"
        },
        "id": "rKMFVjuo83JQ",
        "outputId": "1ef86f09-9f1c-4428-ef08-51848b70877f"
      },
      "execution_count": 26,
      "outputs": [
        {
          "output_type": "stream",
          "name": "stdout",
          "text": [
            "5\n"
          ]
        }
      ]
    },
    {
      "cell_type": "code",
      "source": [
        "# 2.3 입력 매개변수가 있고, 반환 값이 없는 함수\n",
        "\n",
        "def greeting(name):\n",
        "     print(f'Hello, {name}!')  # name 에 Licat! 값이 들어가서 Hello, Licat! 출력됨.\n",
        "\n",
        "# 함수 호출\n",
        "greeting('Licat')\n",
        "# 함수만 호출하면 None 출력안됨"
      ],
      "metadata": {
        "colab": {
          "base_uri": "https://localhost:8080/"
        },
        "id": "i50eMyj6B98N",
        "outputId": "edb38020-8d3a-4778-94f5-e71339d18027"
      },
      "execution_count": 27,
      "outputs": [
        {
          "output_type": "stream",
          "name": "stdout",
          "text": [
            "Hello, Licat!\n"
          ]
        }
      ]
    },
    {
      "cell_type": "code",
      "source": [
        "# 2.3 입력 매개변수가 있고, 반환 값이 없는 함수\n",
        "\n",
        "def greeting(name):\n",
        "     print(f'Hello, {name}!')  # name 에 Licat! 값이 들어가서 Hello, Licat! 출력됨.\n",
        "\n",
        "# 함수 호출\n",
        "print(greeting('Licat'))\n",
        "# 프린트를 사용하여 함수를 출력하면 None 이 출력됨. # None 도 하나의 자료형이라..."
      ],
      "metadata": {
        "colab": {
          "base_uri": "https://localhost:8080/"
        },
        "id": "q4FcKNd5ELIu",
        "outputId": "f11d644c-6192-45f0-8024-9118e29507ac"
      },
      "execution_count": 29,
      "outputs": [
        {
          "output_type": "stream",
          "name": "stdout",
          "text": [
            "Hello, Licat!\n",
            "None\n"
          ]
        }
      ]
    },
    {
      "cell_type": "code",
      "source": [
        "# 2.4 입력 매개변수가 있고, 반환 값이 있는 함수\n",
        "\n",
        "def add_numbers(x, y): # 5와 3 대입됨.\n",
        "    sum = x + y # 5와 3이 더해짐.\n",
        "    return sum\n",
        "\n",
        "# 함수 호출\n",
        "result = add_numbers(5, 3)\n",
        "print(result)  # result 값이 출력됨: 8"
      ],
      "metadata": {
        "colab": {
          "base_uri": "https://localhost:8080/"
        },
        "id": "VJZ4CzhpErzj",
        "outputId": "2cb96644-ad2a-4a66-ef60-801f8dca9bdf"
      },
      "execution_count": 30,
      "outputs": [
        {
          "output_type": "stream",
          "name": "stdout",
          "text": [
            "8\n"
          ]
        }
      ]
    },
    {
      "cell_type": "code",
      "source": [
        "# 3.1 print와 return의 구분\n",
        "\n",
        "def function(x, y):\n",
        "    z = x + y\n",
        "    print(z)\n",
        "print(f'function(5, 7) = {function(5, 7)}')"
      ],
      "metadata": {
        "colab": {
          "base_uri": "https://localhost:8080/"
        },
        "id": "gjYhpc8mFaMI",
        "outputId": "494abeb1-15bc-493f-845e-7f8cfc7c4d45"
      },
      "execution_count": 31,
      "outputs": [
        {
          "output_type": "stream",
          "name": "stdout",
          "text": [
            "12\n",
            "function(5, 7) = None\n"
          ]
        }
      ]
    },
    {
      "cell_type": "code",
      "source": [
        "# 3.1 print와 return의 구분\n",
        "\n",
        "def function(x, y):\n",
        "    z = x + y\n",
        "    return z #이렇게 프린트 대신 리턴을 넣어주면 넌이 나오지 않는다\n",
        "print(f'function(5, 7) = {function(5, 7)}')"
      ],
      "metadata": {
        "colab": {
          "base_uri": "https://localhost:8080/"
        },
        "id": "UEBbNNNPWC6p",
        "outputId": "e3a4ac0e-b198-4b49-b776-9543590426f9"
      },
      "execution_count": 13,
      "outputs": [
        {
          "output_type": "stream",
          "name": "stdout",
          "text": [
            "function(5, 7) = 12\n"
          ]
        }
      ]
    },
    {
      "cell_type": "code",
      "source": [
        "# 3.1 print와 return의 구분\n",
        "\n",
        "def function(x, y):\n",
        "    z = x + y\n",
        "    return z #이렇게 프린트 대신 리턴을 넣어주면 넌이 나오지 않는다\n",
        "(f'function(5, 7) = {function(5, 7)}') # 이렇게도 할수 있다."
      ],
      "metadata": {
        "colab": {
          "base_uri": "https://localhost:8080/",
          "height": 35
        },
        "id": "CSjkDWFUWUly",
        "outputId": "5bee5e5f-d40e-40ed-97fb-2db83429d81c"
      },
      "execution_count": 14,
      "outputs": [
        {
          "output_type": "execute_result",
          "data": {
            "text/plain": [
              "'function(5, 7) = 12'"
            ],
            "application/vnd.google.colaboratory.intrinsic+json": {
              "type": "string"
            }
          },
          "metadata": {},
          "execution_count": 14
        }
      ]
    },
    {
      "cell_type": "code",
      "source": [
        "print(print('hello'))"
      ],
      "metadata": {
        "colab": {
          "base_uri": "https://localhost:8080/"
        },
        "id": "ZSmNMEmjVh_k",
        "outputId": "deb40417-d05e-4fbf-baa3-ffb2f7081313"
      },
      "execution_count": 12,
      "outputs": [
        {
          "output_type": "stream",
          "name": "stdout",
          "text": [
            "hello\n",
            "None\n"
          ]
        }
      ]
    },
    {
      "cell_type": "code",
      "source": [
        "# 1.1 파라미터 (Parameter)\n",
        "#파라미터는 함수를 정의할 때 사용되는 변수입니다. 파라미터는 함수가 호출될 때 들어온 값을 변수에 할당하는 역할을 합니다.\n",
        "def my_function(x, y): # (x, y) 얘네가 파라미터 모통 문자값으로 된것이 파라미터로 부른다.\n",
        "    return x + y"
      ],
      "metadata": {
        "id": "I80-66J6G8uO"
      },
      "execution_count": null,
      "outputs": []
    },
    {
      "cell_type": "code",
      "source": [
        "# 1.2 아규먼트 (Argument)\n",
        "# 아규먼트는 함수를 호출할 때 전달하는 실제 값입니다. 이 값들은 함수 호출 시 파라미터에 할당됩니다.\n",
        "result = my_function(5, 3) # (5, 3) 얘네가 아규먼트 보통 숫자로 된 값이 아규먼트로 부른다."
      ],
      "metadata": {
        "id": "frOd6r5tHEm0"
      },
      "execution_count": null,
      "outputs": []
    },
    {
      "cell_type": "code",
      "source": [
        "#### **1.3.1 파라미터의 기본 사용**\n",
        "#함수 **`f`**는 3개의 파라미터 **`a`**, **`b`**, **`c`**를 가집니다.\n",
        "#함수 호출 시, 키워드 인자(keyword arguments)를 사용하여 원하는 파라미터에 값을 할당할 수 있습니다.\n",
        "\n",
        "def f(a, b, c):\n",
        "    print(a, b, c)\n",
        "f(100, 200, 300)\n",
        "f(a=100, b=200, c=300) # 출력: 100 200 300 #이렇게 쓰는 방식을 키워드 인자라고 한다.\n",
        "f(c=300, a=100, b=200) # 출력: 100 200 300 #이렇게 쓰는 방식을 키워드 인자라고 한다."
      ],
      "metadata": {
        "colab": {
          "base_uri": "https://localhost:8080/"
        },
        "id": "tUQtUM3FHdk_",
        "outputId": "6396e4e7-fe39-47d6-995f-ca0d46dd133a"
      },
      "execution_count": 15,
      "outputs": [
        {
          "output_type": "stream",
          "name": "stdout",
          "text": [
            "100 200 300\n",
            "100 200 300\n",
            "100 200 300\n"
          ]
        }
      ]
    },
    {
      "cell_type": "code",
      "source": [
        "'''\n",
        "### 1.3.2 **기본값을 가진 파라미터**\n",
        "**`a`**, **`b`**, **`c`** 각각의 파라미터에 기본값을 설정했습니다.\n",
        "기본값이 설정된 파라미터는 함수 호출 시 생략할 수 있습니다.\n",
        "함수 호출 시 기본값이 아닌 다른 값을 사용하려면 새 값을 전달해야 합니다.\n",
        "'''\n",
        "\n",
        "def f(a=10, b=20, c=30):\n",
        "    print(a, b, c)\n",
        "\n",
        "f()\n",
        "f(100, 10) #함수에 정의에 이미 a,b,c 의 키와 밸류가 들어가있기에 에러없이 진행됨.\n",
        "f(a=100, b=200, c=300)\n",
        "f(c=300, a=100, b=200)"
      ],
      "metadata": {
        "colab": {
          "base_uri": "https://localhost:8080/"
        },
        "id": "3QHN-0w0IkhH",
        "outputId": "2a95316d-3827-40b9-a88f-160c5fbe82bb"
      },
      "execution_count": 37,
      "outputs": [
        {
          "output_type": "stream",
          "name": "stdout",
          "text": [
            "10 20 30\n",
            "100 10 30\n",
            "100 200 300\n",
            "100 200 300\n"
          ]
        }
      ]
    },
    {
      "cell_type": "code",
      "source": [
        "#def f(a=10, b=20, c=):# 잘못된 예\n",
        "#    print(a, b, c)\n",
        "\n",
        "def f(a, b=20, c=10):# 올바른 예\n",
        "    print(a, b, c)\n",
        "\n",
        "f(100, 10) #함수에 정의에 이미 a,b,c 의 키와 밸류가 들어가있기에 에러없이 진행됨.\n",
        "f(a=100, b=200, c=300)\n",
        "f(c=300, a=100, b=200)"
      ],
      "metadata": {
        "colab": {
          "base_uri": "https://localhost:8080/"
        },
        "id": "WNu9Wf1sZADj",
        "outputId": "e417455f-abfb-408a-8d85-adf0a4ef368a"
      },
      "execution_count": 18,
      "outputs": [
        {
          "output_type": "stream",
          "name": "stdout",
          "text": [
            "100 10 10\n",
            "100 200 300\n",
            "100 200 300\n"
          ]
        }
      ]
    },
    {
      "cell_type": "code",
      "source": [
        "# 1.3.3 일부 파라미터만 기본값을 가지는 경우 (잘못된 예)\n",
        "\n",
        "def f(a=10, b=20, c): #c에 값이 없다.\n",
        "    print(a, b, c) # error\n"
      ],
      "metadata": {
        "colab": {
          "base_uri": "https://localhost:8080/",
          "height": 147
        },
        "id": "9MB2CwDgJdYX",
        "outputId": "b32cca9d-de53-4bc0-aabe-b9d06dae2729"
      },
      "execution_count": 38,
      "outputs": [
        {
          "output_type": "error",
          "ename": "SyntaxError",
          "evalue": "non-default argument follows default argument (<ipython-input-38-e5e0270eec0c>, line 3)",
          "traceback": [
            "\u001b[0;36m  File \u001b[0;32m\"<ipython-input-38-e5e0270eec0c>\"\u001b[0;36m, line \u001b[0;32m3\u001b[0m\n\u001b[0;31m    def f(a=10, b=20, c): #c에 값이 없다.\u001b[0m\n\u001b[0m                      ^\u001b[0m\n\u001b[0;31mSyntaxError\u001b[0m\u001b[0;31m:\u001b[0m non-default argument follows default argument\n"
          ]
        }
      ]
    },
    {
      "cell_type": "code",
      "source": [
        "# 1.3.4 일부 파라미터만 기본값을 가지는 경우 (올바른 예)\n",
        "# a는 기본값이 없습니다. 기본값이 없는 파라미터에는 반드시 값을 전달해야 합니다.\n",
        "\n",
        "def f(a, b=20, c=10):\n",
        "    print(a, b, c)\n",
        "\n",
        "f(100, 10)\n",
        "f(a=100, b=200, c=300)\n",
        "f(c=300, a=100, b=200)"
      ],
      "metadata": {
        "colab": {
          "base_uri": "https://localhost:8080/"
        },
        "id": "Kr4XnJHGJvqb",
        "outputId": "b96634c2-dd1c-4973-c49f-3c625b3fc4b6"
      },
      "execution_count": 39,
      "outputs": [
        {
          "output_type": "stream",
          "name": "stdout",
          "text": [
            "100 10 10\n",
            "100 200 300\n",
            "100 200 300\n"
          ]
        }
      ]
    },
    {
      "cell_type": "code",
      "source": [
        "def f(a, b=20, c=30):\n",
        "    print(a, b, c)\n",
        "\n",
        "# print(f()) # error\n",
        "print(f(100, 10)) # 출력 : 100, 10, 30\n",
        "print(f(a=100, b=200, c=300)) # 출력 : 100 200 300\n",
        "print(f(c=300, a=100, b=200)) # 출력 : 100 200 300\n",
        "# print(f(c=300)) # error"
      ],
      "metadata": {
        "colab": {
          "base_uri": "https://localhost:8080/"
        },
        "id": "OxdXmYSCKXCf",
        "outputId": "b4daf79f-1cb0-4c90-da3f-95959854ea95"
      },
      "execution_count": 40,
      "outputs": [
        {
          "output_type": "stream",
          "name": "stdout",
          "text": [
            "100 10 30\n",
            "None\n",
            "100 200 300\n",
            "None\n",
            "100 200 300\n",
            "None\n"
          ]
        }
      ]
    },
    {
      "cell_type": "code",
      "source": [
        "# 1.4 나아가기\n",
        "\n",
        "## 1.4.1 컨밴션 자료형을 아규먼트로 넣었을 때\n",
        "\n",
        "def add_element(my_list):\n",
        "    my_list.append(1)\n",
        "\n",
        "a = [2, 3, 4]\n",
        "add_element(a)\n",
        "print(a) # 출력: [2, 3, 4, 1]"
      ],
      "metadata": {
        "colab": {
          "base_uri": "https://localhost:8080/"
        },
        "id": "VHyh9V6tKqB4",
        "outputId": "62c9220a-b4ae-43b0-e40c-291a2acdc40d"
      },
      "execution_count": 41,
      "outputs": [
        {
          "output_type": "stream",
          "name": "stdout",
          "text": [
            "[2, 3, 4, 1]\n"
          ]
        }
      ]
    },
    {
      "cell_type": "code",
      "source": [
        "def add_element(my_list):\n",
        "    my_list.append(1)\n",
        "    print(id(my_list)) # 출력: 132774392306048\n",
        "\n",
        "a = [2, 3, 4]\n",
        "add_element(a)\n",
        "print(id(a)) # 출력: 132774392306048\n",
        "print(a) # 출력: [2, 3, 4, 1]"
      ],
      "metadata": {
        "colab": {
          "base_uri": "https://localhost:8080/"
        },
        "id": "b_PVUfToLR1p",
        "outputId": "b0350e0e-a101-47a8-c0c6-1cd4c419399d"
      },
      "execution_count": 42,
      "outputs": [
        {
          "output_type": "stream",
          "name": "stdout",
          "text": [
            "132774392306048\n",
            "132774392306048\n",
            "[2, 3, 4, 1]\n"
          ]
        }
      ]
    },
    {
      "cell_type": "code",
      "source": [
        "def add_element(my_list):\n",
        "    my_list = 10\n",
        "    print(id(my_list)) # 출력: 135115442078224\n",
        "\n",
        "a = [2, 3, 4]\n",
        "add_element(a)\n",
        "print(id(a)) # 출력: 135115029248768\n",
        "print(a)  # 출력: [2, 3, 4]"
      ],
      "metadata": {
        "colab": {
          "base_uri": "https://localhost:8080/"
        },
        "id": "Mv7KJLS5L2wV",
        "outputId": "79d19e40-0642-41c2-89f9-c8fb01d015d7"
      },
      "execution_count": 44,
      "outputs": [
        {
          "output_type": "stream",
          "name": "stdout",
          "text": [
            "132775661715984\n",
            "132774392396928\n",
            "[2, 3, 4]\n"
          ]
        }
      ]
    },
    {
      "cell_type": "code",
      "source": [
        "#1.4.2 권장하지 않는 기본값\n",
        "\n",
        "# 권장하지 않는 방법\n",
        "\n",
        "def append_to_list(value, lst=[]):\n",
        "    lit_update = lst # 추\n",
        "    lst.append(value)\n",
        "    return lst # 예상치 못한 결과가 발생할 수 있습니다.\n",
        "\n"
      ],
      "metadata": {
        "id": "qCWoax38fGQo"
      },
      "execution_count": 25,
      "outputs": []
    },
    {
      "cell_type": "code",
      "source": [
        "append_to_list(1) # 출력: [1]"
      ],
      "metadata": {
        "colab": {
          "base_uri": "https://localhost:8080/"
        },
        "id": "WMFYIo-5f8Sm",
        "outputId": "6ea116ed-a605-4055-90d7-8910779715df"
      },
      "execution_count": 28,
      "outputs": [
        {
          "output_type": "execute_result",
          "data": {
            "text/plain": [
              "[1, 2, 1]"
            ]
          },
          "metadata": {},
          "execution_count": 28
        }
      ]
    },
    {
      "cell_type": "code",
      "source": [
        "append_to_list(2) # 출력: [1, 2], 그러나 결과가 [2]가 나올것으로 예상할수도 있습니다."
      ],
      "metadata": {
        "colab": {
          "base_uri": "https://localhost:8080/"
        },
        "id": "3xRkV0FcfdXU",
        "outputId": "dd7f2ef9-1b4c-49f3-9c6c-f4f3738d26e5"
      },
      "execution_count": 29,
      "outputs": [
        {
          "output_type": "execute_result",
          "data": {
            "text/plain": [
              "[1, 2, 1, 2]"
            ]
          },
          "metadata": {},
          "execution_count": 29
        }
      ]
    },
    {
      "cell_type": "code",
      "source": [
        "def append_to_list(value, lst=None):\n",
        "    if lst is None:\n",
        "        lst = []\n",
        "    lst.append(value)\n",
        "    return lst"
      ],
      "metadata": {
        "id": "pcIp0L9egFEb"
      },
      "execution_count": 32,
      "outputs": []
    },
    {
      "cell_type": "code",
      "source": [
        "append_to_list(1)"
      ],
      "metadata": {
        "colab": {
          "base_uri": "https://localhost:8080/"
        },
        "id": "1ERQjT6jgb8x",
        "outputId": "af31c802-85cd-4a76-91df-c78c67fbde46"
      },
      "execution_count": 33,
      "outputs": [
        {
          "output_type": "execute_result",
          "data": {
            "text/plain": [
              "[1]"
            ]
          },
          "metadata": {},
          "execution_count": 33
        }
      ]
    },
    {
      "cell_type": "code",
      "source": [
        "append_to_list(2)"
      ],
      "metadata": {
        "colab": {
          "base_uri": "https://localhost:8080/"
        },
        "id": "y_wiMHkPgd8Q",
        "outputId": "894167be-1b16-4958-e823-4f8df9b2c16e"
      },
      "execution_count": 34,
      "outputs": [
        {
          "output_type": "execute_result",
          "data": {
            "text/plain": [
              "[2]"
            ]
          },
          "metadata": {},
          "execution_count": 34
        }
      ]
    },
    {
      "cell_type": "code",
      "source": [
        "# 권장법\n",
        "\n",
        "def append_to_list(value, lst=None):\n",
        "    if lst is None:\n",
        "        lst = []\n",
        "    lst.append(value)\n",
        "    return lst\n",
        "\n",
        "print"
      ],
      "metadata": {
        "id": "p11RA39sgJgU"
      },
      "execution_count": 108,
      "outputs": []
    },
    {
      "cell_type": "code",
      "source": [
        "append_to_list(1) # 출력: [1]"
      ],
      "metadata": {
        "colab": {
          "base_uri": "https://localhost:8080/"
        },
        "id": "XajZoVXtgj1l",
        "outputId": "329dc2a1-ad84-415d-c416-77dff8db8201"
      },
      "execution_count": 64,
      "outputs": [
        {
          "output_type": "execute_result",
          "data": {
            "text/plain": [
              "[1, 2, 2, 1]"
            ]
          },
          "metadata": {},
          "execution_count": 64
        }
      ]
    },
    {
      "cell_type": "code",
      "source": [
        "append_to_list(2) # 결과: [2]"
      ],
      "metadata": {
        "colab": {
          "base_uri": "https://localhost:8080/"
        },
        "id": "Jr1cFxdmglWv",
        "outputId": "8f7ba62c-d235-4419-96e5-36e387876d76"
      },
      "execution_count": 65,
      "outputs": [
        {
          "output_type": "execute_result",
          "data": {
            "text/plain": [
              "[1, 2, 2, 1, 2]"
            ]
          },
          "metadata": {},
          "execution_count": 65
        }
      ]
    },
    {
      "cell_type": "markdown",
      "source": [
        "# 1. 지역 변수"
      ],
      "metadata": {
        "id": "bZNFKoWkp8wd"
      }
    },
    {
      "cell_type": "code",
      "source": [
        "# 전역 변수\n",
        "test = 1\n",
        "a = 100\n",
        "\n",
        "# 지역 변수 (함수 내에 사용한 변수!)\n",
        "\n",
        "def example():\n",
        "    test = 100\n",
        "    return test\n",
        "\n",
        "print(example())\n",
        "print(test)"
      ],
      "metadata": {
        "colab": {
          "base_uri": "https://localhost:8080/"
        },
        "id": "qpd70JMoq02z",
        "outputId": "086ed8c3-7d36-45d3-e16c-d063bb1aa5b7"
      },
      "execution_count": 36,
      "outputs": [
        {
          "output_type": "stream",
          "name": "stdout",
          "text": [
            "100\n",
            "1\n"
          ]
        }
      ]
    },
    {
      "cell_type": "code",
      "source": [
        "# # 1. 지역 변수 (함수 내에 사용한 변수!) 반대:\n",
        "\n",
        "# 전역 변수\n",
        "test = 1\n",
        "\n",
        "# 지역 변수\n",
        "def f():\n",
        "    #간원도의 지역화폐는 -.> 경기도에서 사용 불가\n",
        "    a = 1 # 이 변수는 f() 내에서만 정의! 절대 바깥에서는 사용할 수 없는것.\n",
        "    print(a) # 출력: 1\n",
        "    return a #이렇게 사용할수 있음\n",
        "\n",
        "f()\n",
        "a = f\n",
        "print(a) # error: a는 f 함수 내부에서만 정의되었습니다."
      ],
      "metadata": {
        "id": "krOELayLiCEh"
      },
      "execution_count": null,
      "outputs": []
    },
    {
      "cell_type": "code",
      "source": [
        "\n",
        "def f():\n",
        "    a = 1 # 이 변수는 f() 내에서만 정의! 절대 바깥에서는 사용할 수 없는것.\n",
        "    print(locals()) # 출력: {'a': 1} # 지역변수가 어떤게 있는지 확인. dict 딕셔너리 형태\n",
        "\n",
        "f()\n"
      ],
      "metadata": {
        "colab": {
          "base_uri": "https://localhost:8080/"
        },
        "id": "NF6JrXiBjtmO",
        "outputId": "d14d52dc-3ebc-42fc-e530-f97cac04d581"
      },
      "execution_count": 37,
      "outputs": [
        {
          "output_type": "stream",
          "name": "stdout",
          "text": [
            "{'a': 1}\n"
          ]
        }
      ]
    },
    {
      "cell_type": "code",
      "source": [
        "def f():\n",
        "    a = 1\n",
        "    b = 'hello'\n",
        "    def ff():\n",
        "        pass\n",
        "    print(locals()) # 출력: {'a': 1, 'b': 'hello', 'ff': <function f.<locals>.ff at 0x7a46e99d2c20>}\n",
        "\n",
        "f()"
      ],
      "metadata": {
        "colab": {
          "base_uri": "https://localhost:8080/"
        },
        "id": "4yiHS8oGkEbu",
        "outputId": "8420cac7-7abc-4fc8-843b-83e2618da802"
      },
      "execution_count": 38,
      "outputs": [
        {
          "output_type": "stream",
          "name": "stdout",
          "text": [
            "{'a': 1, 'b': 'hello', 'ff': <function f.<locals>.ff at 0x7b6577446440>}\n"
          ]
        }
      ]
    },
    {
      "cell_type": "markdown",
      "source": [
        "# 2. 전역변수"
      ],
      "metadata": {
        "id": "9Uu1KoHJk6Ld"
      }
    },
    {
      "cell_type": "code",
      "source": [
        "a = 100\n",
        "\n",
        "def f():\n",
        "    global a\n",
        "    a = a + 1\n",
        "    return a\n",
        "\n",
        "print(f())\n",
        "print(a) # 출력: 101, 함수 f 내에서 전역 변수 a가 수정되었습니다."
      ],
      "metadata": {
        "colab": {
          "base_uri": "https://localhost:8080/"
        },
        "id": "fs4Yb5mKk8x9",
        "outputId": "66845a6c-bbeb-43bb-c30d-62736d971cf8"
      },
      "execution_count": 39,
      "outputs": [
        {
          "output_type": "stream",
          "name": "stdout",
          "text": [
            "101\n",
            "101\n"
          ]
        }
      ]
    },
    {
      "cell_type": "code",
      "source": [
        "a = 100\n",
        "def f():\n",
        "    a = a + 1 # 글로벌을 지정시키지 않아 error 남\n",
        "\n",
        "f()\n",
        "print(a)"
      ],
      "metadata": {
        "id": "hlw6wWqylHCG"
      },
      "execution_count": null,
      "outputs": []
    },
    {
      "cell_type": "code",
      "source": [
        "a = 100\n",
        "\n",
        "def f():\n",
        "    a = 1000\n",
        "    print(a)\n",
        "\n",
        "f()"
      ],
      "metadata": {
        "colab": {
          "base_uri": "https://localhost:8080/"
        },
        "id": "WNXxI8XxlO3E",
        "outputId": "6e6b1b8b-8b56-4418-e27b-7c18654ba1f7"
      },
      "execution_count": 43,
      "outputs": [
        {
          "output_type": "stream",
          "name": "stdout",
          "text": [
            "1000\n"
          ]
        }
      ]
    },
    {
      "cell_type": "code",
      "source": [
        "a = 100\n",
        "\n",
        "def f():\n",
        "    print(a) # 출력: 100\n",
        "\n",
        "f()\n",
        "\n",
        "def ff():\n",
        "    b = a + 1\n",
        "    print(b) # 출력: 101\n",
        "\n",
        "ff()"
      ],
      "metadata": {
        "colab": {
          "base_uri": "https://localhost:8080/"
        },
        "id": "50EyyfzStpFh",
        "outputId": "058bbb57-dbbd-4e57-c258-f51631d3f50c"
      },
      "execution_count": 44,
      "outputs": [
        {
          "output_type": "stream",
          "name": "stdout",
          "text": [
            "100\n",
            "101\n"
          ]
        }
      ]
    },
    {
      "cell_type": "code",
      "source": [
        "a = 100\n",
        "def f():\n",
        "    a = a + 1 # error\n",
        "\n",
        "f()"
      ],
      "metadata": {
        "id": "eHbO_SAunxCq"
      },
      "execution_count": null,
      "outputs": []
    },
    {
      "cell_type": "code",
      "source": [
        "def f():\n",
        "    a = 100\n",
        "    a = a + 1 # error\n",
        "    return a\n",
        "\n",
        "print(f())\n"
      ],
      "metadata": {
        "colab": {
          "base_uri": "https://localhost:8080/"
        },
        "id": "sKF-G-qmmI0R",
        "outputId": "35fa79af-89c6-4b8d-97cd-b75ce11441eb"
      },
      "execution_count": 86,
      "outputs": [
        {
          "output_type": "stream",
          "name": "stdout",
          "text": [
            "101\n"
          ]
        }
      ]
    },
    {
      "cell_type": "code",
      "source": [
        "a = 1\n",
        "b = 'hello'\n",
        "def f():\n",
        "    pass\n",
        "print(globals())"
      ],
      "metadata": {
        "colab": {
          "base_uri": "https://localhost:8080/"
        },
        "id": "OsgzP4UsvBH-",
        "outputId": "5abe7e90-7a67-4ebe-b2df-5231f616e611"
      },
      "execution_count": 45,
      "outputs": [
        {
          "output_type": "stream",
          "name": "stdout",
          "text": [
            "{'__name__': '__main__', '__doc__': 'Automatically created module for IPython interactive environment', '__package__': None, '__loader__': None, '__spec__': None, '__builtin__': <module 'builtins' (built-in)>, '__builtins__': <module 'builtins' (built-in)>, '_ih': ['', 'def function_name(x, y):\\n    return x + y\\n\\nfunction_name(10, 9)', \"def f():\\n    print(1 / 0)\\n\\nprint('hello')\", \"def function_name(x, y):\\n    z = x + y # z = 10 + 9\\n    #return z # z만 가지고서는 출력이 되지 않음!\\n\\n# 1. return을 함수 내에 지정하지 않았을떄\\n# print(f'function_name(10, 9) = {function_name(10, 9)}')\", \"def function_name(x, y):\\n    z = x + y # z = 10 + 9\\n    return z # z만 가지고서는 출력이 되지 않음! return z을 지정하지 않으면 출력되지않음\\n\\n# 1. return을 함수 내에 지정하지 않았을떄\\n# print(f'function_name(10, 9) = {function_name(10, 9)}')\", \"def function_name(x, y):\\n    z = x + y # z = 10 + 9\\n    return z # z만 가지고서는 출력이 되지 않음! return z을 지정하지 않으면 출력되지않음\\n\\n# 1. return을 함수 내에 지정하지 않았을떄\\n print(f'function_name(10, 9) = {function_name(10, 9)}')\", \"def function_name(x, y):\\n    z = x + y # z = 10 + 9\\n    return z # z만 가지고서는 출력이 되지 않음! return z을 지정하지 않으면 출력되지않음\\n\\n# 1. return을 함수 내에 지정하지 않았을떄\\nprint(f'function_name(10, 9) = {function_name(10, 9)}')\", \"def f():\\n    print(1 / 0)\\n    return z = 'hello'\\n#print('hello')\", \"def f():\\n    print(1 / 0)\\n    return z = ()'hello')\\n#print('hello')\", \"def f():\\n    print(1 / 0)\\n    return z = ('hello')\\n#print('hello')\", \"def f():\\n    print(1 / 0)\\n    return z\\nprint('hello')\", \"print(print('hello'))\", \"# 3.1 print와 return의 구분\\n\\ndef function(x, y):\\n    z = x + y\\n    return z\\nprint(f'function(5, 7) = {function(5, 7)}')\", \"# 3.1 print와 return의 구분\\n\\ndef function(x, y):\\n    z = x + y\\n    return z #이렇게 프린트 대신 리턴을 넣어주면 넌이 나오지 않는다\\n(f'function(5, 7) = {function(5, 7)}')\", '#### **1.3.1 파라미터의 기본 사용**\\n#함수 **`f`**는 3개의 파라미터 **`a`**, **`b`**, **`c`**를 가집니다.\\n#함수 호출 시, 키워드 인자(keyword arguments)를 사용하여 원하는 파라미터에 값을 할당할 수 있습니다.\\n\\ndef f(a, b, c):\\n    print(a, b, c)\\nf(100, 200, 300)\\nf(a=100, b=200, c=300) # 출력: 100 200 300 #이렇게 쓰는 방식을 키워드 인자라고 한다.\\nf(c=300, a=100, b=200) # 출력: 100 200 300 #이렇게 쓰는 방식을 키워드 인자라고 한다.', 'def f(a=10, b=20, c=):# 잘못된 예\\n    print(a, b, c)\\n\\ndef f(a, b=20, c=10):# 올바른 예\\n    print(a, b, c)\\n\\nf()\\nf(100, 10) #함수에 정의에 이미 a,b,c 의 키와 밸류가 들어가있기에 에러없이 진행됨.\\nf(a=100, b=200, c=300)\\nf(c=300, a=100, b=200)', '#def f(a=10, b=20, c=):# 잘못된 예\\n#    print(a, b, c)\\n\\ndef f(a, b=20, c=10):# 올바른 예\\n    print(a, b, c)\\n\\nf()\\nf(100, 10) #함수에 정의에 이미 a,b,c 의 키와 밸류가 들어가있기에 에러없이 진행됨.\\nf(a=100, b=200, c=300)\\nf(c=300, a=100, b=200)', '#def f(a=10, b=20, c=):# 잘못된 예\\n#    print(a, b, c)\\n\\ndef f(a, b=20, c=10):# 올바른 예\\n    print(a, b, c)\\n\\nf(100, 10) #함수에 정의에 이미 a,b,c 의 키와 밸류가 들어가있기에 에러없이 진행됨.\\nf(a=100, b=200, c=300)\\nf(c=300, a=100, b=200)', 'append_to_list(1) # 출력: [1]', 'append_to_list(2) # 출력: [1, 2], 그러나 결과가 [2]가 나올것으로 예상할수도 있습니다.', '#1.4.2 권장하지 않는 기본값\\n\\n# 권장하지 않는 방법\\n\\ndef append_to_list(value, lst=[]):\\n    lst.append(value)\\n    return lst # 예상치 못한 결과가 발생할 수 있습니다.', 'append_to_list(1) # 출력: [1]', 'append_to_list(2) # 출력: [1, 2], 그러나 결과가 [2]가 나올것으로 예상할수도 있습니다.', '#1.4.2 권장하지 않는 기본값\\n\\n# 권장하지 않는 방법\\n\\ndef append_to_list(value, lst=[]):\\n    lst.append(value)\\n    append_to_list(1)\\n    append_to_list(2)\\n    return lst # 예상치 못한 결과가 발생할 수 있습니다.', '#1.4.2 권장하지 않는 기본값\\n\\n# 권장하지 않는 방법\\n\\ndef append_to_list(value, lst=[]):\\n    lst.append(value)\\n    return lst # 예상치 못한 결과가 발생할 수 있습니다.', 'append_to_list(1) # 출력: [1]', 'append_to_list(2) # 출력: [1, 2], 그러나 결과가 [2]가 나올것으로 예상할수도 있습니다.', 'append_to_list(1) # 출력: [1]', 'append_to_list(2) # 출력: [1, 2], 그러나 결과가 [2]가 나올것으로 예상할수도 있습니다.', 'def append_to_list(value, lst=None):', 'def append_to_list(value, lst=None):\\n    if lst is None:\\n        lst = []\\n    lst.append(value)\\n    return lst', 'def append_to_list(value, lst=None):\\n    if lst is None:\\n        lst = []\\n    lst.append(value)\\n    return lst', 'append_to_list(1)', 'append_to_list(2)', '# # 1. 지역 변수 (함수 내에 사용한 변수!) 반대:\\n\\n# 전역 변수\\ntest = 1\\n\\n# 지역 변수\\ndef f():\\n    a = 1 # 이 변수는 f() 내에서만 정의! 절대 바깥에서는 사용할 수 없는것.\\n    print(a) # 출력: 1\\n\\nf()\\nprint(a) # error: a는 f 함수 내부에서만 정의되었습니다.', '# 전역 변수\\ntest = 1\\n\\n# 지역 변수 (함수 내에 사용한 변수!)\\n\\ndef example():\\n    test = 100\\n    return test\\n\\nprint(example())\\nprint(test)', \"def f():\\n    a = 1 # 이 변수는 f() 내에서만 정의! 절대 바깥에서는 사용할 수 없는것.\\n    print(locals()) # 출력: {'a': 1} # 지역변수가 어떤게 있는지 확인.\\n\\nf()\", \"def f():\\n    a = 1\\n    b = 'hello'\\n    def ff():\\n        pass\\n    print(locals()) # 출력: {'a': 1, 'b': 'hello', 'ff': <function f.<locals>.ff at 0x7a46e99d2c20>}\\n\\nf()\", 'a = 100\\n\\ndef f():\\n    global a\\n    a = a + 1\\n    return a\\n\\nprint(f())\\nprint(a) # 출력: 101, 함수 f 내에서 전역 변수 a가 수정되었습니다.', 'a = 100\\ndef f():\\n    a = a + 1 # 글로벌을 지정시키지 않아 error 남\\n\\nf()\\nprint(a)', 'a = 100\\ndef f():\\n    a = a + 1 # 글로벌을 지정시키지 않아 error 남\\n\\nf()\\nprint(a)', 'a = 100\\ndef f():\\n    a = a + 1 # 글로벌을 지정시키지 않아 error 남\\n\\nf()\\nprint(a)', 'a = 100\\n\\ndef f():\\n    a = 1000\\n    print(a)\\n\\nf()', 'a = 100\\n\\ndef f():\\n    print(a) # 출력: 100\\n\\nf()\\n\\ndef ff():\\n    b = a + 1\\n    print(b) # 출력: 101\\n\\nff()', \"a = 1\\nb = 'hello'\\ndef f():\\n    pass\\nprint(globals())\"], '_oh': {1: 19, 14: 'function(5, 7) = 12', 22: [1, 2], 23: [1, 2], 26: [1, 2, 1, 2], 27: [1, 2, 1, 2], 28: [1, 2, 1, 2], 29: [1, 2, 1, 2], 33: [1], 34: [2]}, '_dh': ['/content'], 'In': ['', 'def function_name(x, y):\\n    return x + y\\n\\nfunction_name(10, 9)', \"def f():\\n    print(1 / 0)\\n\\nprint('hello')\", \"def function_name(x, y):\\n    z = x + y # z = 10 + 9\\n    #return z # z만 가지고서는 출력이 되지 않음!\\n\\n# 1. return을 함수 내에 지정하지 않았을떄\\n# print(f'function_name(10, 9) = {function_name(10, 9)}')\", \"def function_name(x, y):\\n    z = x + y # z = 10 + 9\\n    return z # z만 가지고서는 출력이 되지 않음! return z을 지정하지 않으면 출력되지않음\\n\\n# 1. return을 함수 내에 지정하지 않았을떄\\n# print(f'function_name(10, 9) = {function_name(10, 9)}')\", \"def function_name(x, y):\\n    z = x + y # z = 10 + 9\\n    return z # z만 가지고서는 출력이 되지 않음! return z을 지정하지 않으면 출력되지않음\\n\\n# 1. return을 함수 내에 지정하지 않았을떄\\n print(f'function_name(10, 9) = {function_name(10, 9)}')\", \"def function_name(x, y):\\n    z = x + y # z = 10 + 9\\n    return z # z만 가지고서는 출력이 되지 않음! return z을 지정하지 않으면 출력되지않음\\n\\n# 1. return을 함수 내에 지정하지 않았을떄\\nprint(f'function_name(10, 9) = {function_name(10, 9)}')\", \"def f():\\n    print(1 / 0)\\n    return z = 'hello'\\n#print('hello')\", \"def f():\\n    print(1 / 0)\\n    return z = ()'hello')\\n#print('hello')\", \"def f():\\n    print(1 / 0)\\n    return z = ('hello')\\n#print('hello')\", \"def f():\\n    print(1 / 0)\\n    return z\\nprint('hello')\", \"print(print('hello'))\", \"# 3.1 print와 return의 구분\\n\\ndef function(x, y):\\n    z = x + y\\n    return z\\nprint(f'function(5, 7) = {function(5, 7)}')\", \"# 3.1 print와 return의 구분\\n\\ndef function(x, y):\\n    z = x + y\\n    return z #이렇게 프린트 대신 리턴을 넣어주면 넌이 나오지 않는다\\n(f'function(5, 7) = {function(5, 7)}')\", '#### **1.3.1 파라미터의 기본 사용**\\n#함수 **`f`**는 3개의 파라미터 **`a`**, **`b`**, **`c`**를 가집니다.\\n#함수 호출 시, 키워드 인자(keyword arguments)를 사용하여 원하는 파라미터에 값을 할당할 수 있습니다.\\n\\ndef f(a, b, c):\\n    print(a, b, c)\\nf(100, 200, 300)\\nf(a=100, b=200, c=300) # 출력: 100 200 300 #이렇게 쓰는 방식을 키워드 인자라고 한다.\\nf(c=300, a=100, b=200) # 출력: 100 200 300 #이렇게 쓰는 방식을 키워드 인자라고 한다.', 'def f(a=10, b=20, c=):# 잘못된 예\\n    print(a, b, c)\\n\\ndef f(a, b=20, c=10):# 올바른 예\\n    print(a, b, c)\\n\\nf()\\nf(100, 10) #함수에 정의에 이미 a,b,c 의 키와 밸류가 들어가있기에 에러없이 진행됨.\\nf(a=100, b=200, c=300)\\nf(c=300, a=100, b=200)', '#def f(a=10, b=20, c=):# 잘못된 예\\n#    print(a, b, c)\\n\\ndef f(a, b=20, c=10):# 올바른 예\\n    print(a, b, c)\\n\\nf()\\nf(100, 10) #함수에 정의에 이미 a,b,c 의 키와 밸류가 들어가있기에 에러없이 진행됨.\\nf(a=100, b=200, c=300)\\nf(c=300, a=100, b=200)', '#def f(a=10, b=20, c=):# 잘못된 예\\n#    print(a, b, c)\\n\\ndef f(a, b=20, c=10):# 올바른 예\\n    print(a, b, c)\\n\\nf(100, 10) #함수에 정의에 이미 a,b,c 의 키와 밸류가 들어가있기에 에러없이 진행됨.\\nf(a=100, b=200, c=300)\\nf(c=300, a=100, b=200)', 'append_to_list(1) # 출력: [1]', 'append_to_list(2) # 출력: [1, 2], 그러나 결과가 [2]가 나올것으로 예상할수도 있습니다.', '#1.4.2 권장하지 않는 기본값\\n\\n# 권장하지 않는 방법\\n\\ndef append_to_list(value, lst=[]):\\n    lst.append(value)\\n    return lst # 예상치 못한 결과가 발생할 수 있습니다.', 'append_to_list(1) # 출력: [1]', 'append_to_list(2) # 출력: [1, 2], 그러나 결과가 [2]가 나올것으로 예상할수도 있습니다.', '#1.4.2 권장하지 않는 기본값\\n\\n# 권장하지 않는 방법\\n\\ndef append_to_list(value, lst=[]):\\n    lst.append(value)\\n    append_to_list(1)\\n    append_to_list(2)\\n    return lst # 예상치 못한 결과가 발생할 수 있습니다.', '#1.4.2 권장하지 않는 기본값\\n\\n# 권장하지 않는 방법\\n\\ndef append_to_list(value, lst=[]):\\n    lst.append(value)\\n    return lst # 예상치 못한 결과가 발생할 수 있습니다.', 'append_to_list(1) # 출력: [1]', 'append_to_list(2) # 출력: [1, 2], 그러나 결과가 [2]가 나올것으로 예상할수도 있습니다.', 'append_to_list(1) # 출력: [1]', 'append_to_list(2) # 출력: [1, 2], 그러나 결과가 [2]가 나올것으로 예상할수도 있습니다.', 'def append_to_list(value, lst=None):', 'def append_to_list(value, lst=None):\\n    if lst is None:\\n        lst = []\\n    lst.append(value)\\n    return lst', 'def append_to_list(value, lst=None):\\n    if lst is None:\\n        lst = []\\n    lst.append(value)\\n    return lst', 'append_to_list(1)', 'append_to_list(2)', '# # 1. 지역 변수 (함수 내에 사용한 변수!) 반대:\\n\\n# 전역 변수\\ntest = 1\\n\\n# 지역 변수\\ndef f():\\n    a = 1 # 이 변수는 f() 내에서만 정의! 절대 바깥에서는 사용할 수 없는것.\\n    print(a) # 출력: 1\\n\\nf()\\nprint(a) # error: a는 f 함수 내부에서만 정의되었습니다.', '# 전역 변수\\ntest = 1\\n\\n# 지역 변수 (함수 내에 사용한 변수!)\\n\\ndef example():\\n    test = 100\\n    return test\\n\\nprint(example())\\nprint(test)', \"def f():\\n    a = 1 # 이 변수는 f() 내에서만 정의! 절대 바깥에서는 사용할 수 없는것.\\n    print(locals()) # 출력: {'a': 1} # 지역변수가 어떤게 있는지 확인.\\n\\nf()\", \"def f():\\n    a = 1\\n    b = 'hello'\\n    def ff():\\n        pass\\n    print(locals()) # 출력: {'a': 1, 'b': 'hello', 'ff': <function f.<locals>.ff at 0x7a46e99d2c20>}\\n\\nf()\", 'a = 100\\n\\ndef f():\\n    global a\\n    a = a + 1\\n    return a\\n\\nprint(f())\\nprint(a) # 출력: 101, 함수 f 내에서 전역 변수 a가 수정되었습니다.', 'a = 100\\ndef f():\\n    a = a + 1 # 글로벌을 지정시키지 않아 error 남\\n\\nf()\\nprint(a)', 'a = 100\\ndef f():\\n    a = a + 1 # 글로벌을 지정시키지 않아 error 남\\n\\nf()\\nprint(a)', 'a = 100\\ndef f():\\n    a = a + 1 # 글로벌을 지정시키지 않아 error 남\\n\\nf()\\nprint(a)', 'a = 100\\n\\ndef f():\\n    a = 1000\\n    print(a)\\n\\nf()', 'a = 100\\n\\ndef f():\\n    print(a) # 출력: 100\\n\\nf()\\n\\ndef ff():\\n    b = a + 1\\n    print(b) # 출력: 101\\n\\nff()', \"a = 1\\nb = 'hello'\\ndef f():\\n    pass\\nprint(globals())\"], 'Out': {1: 19, 14: 'function(5, 7) = 12', 22: [1, 2], 23: [1, 2], 26: [1, 2, 1, 2], 27: [1, 2, 1, 2], 28: [1, 2, 1, 2], 29: [1, 2, 1, 2], 33: [1], 34: [2]}, 'get_ipython': <bound method InteractiveShell.get_ipython of <google.colab._shell.Shell object at 0x7b65ba9da590>>, 'exit': <IPython.core.autocall.ZMQExitAutocall object at 0x7b65ba9daf80>, 'quit': <IPython.core.autocall.ZMQExitAutocall object at 0x7b65ba9daf80>, '_': [2], '__': [1], '___': [1, 2, 1, 2], '_i': 'a = 100\\n\\ndef f():\\n    print(a) # 출력: 100\\n\\nf()\\n\\ndef ff():\\n    b = a + 1\\n    print(b) # 출력: 101\\n\\nff()', '_ii': 'a = 100\\n\\ndef f():\\n    a = 1000\\n    print(a)\\n\\nf()', '_iii': 'a = 100\\ndef f():\\n    a = a + 1 # 글로벌을 지정시키지 않아 error 남\\n\\nf()\\nprint(a)', '_i1': 'def function_name(x, y):\\n    return x + y\\n\\nfunction_name(10, 9)', 'function_name': <function function_name at 0x7b65a96fd2d0>, '_1': 19, '_i2': \"def f():\\n    print(1 / 0)\\n\\nprint('hello')\", 'f': <function f at 0x7b65774463b0>, '_i3': \"def function_name(x, y):\\n    z = x + y # z = 10 + 9\\n    #return z # z만 가지고서는 출력이 되지 않음!\\n\\n# 1. return을 함수 내에 지정하지 않았을떄\\n# print(f'function_name(10, 9) = {function_name(10, 9)}')\", '_i4': \"def function_name(x, y):\\n    z = x + y # z = 10 + 9\\n    return z # z만 가지고서는 출력이 되지 않음! return z을 지정하지 않으면 출력되지않음\\n\\n# 1. return을 함수 내에 지정하지 않았을떄\\n# print(f'function_name(10, 9) = {function_name(10, 9)}')\", '_i5': \"def function_name(x, y):\\n    z = x + y # z = 10 + 9\\n    return z # z만 가지고서는 출력이 되지 않음! return z을 지정하지 않으면 출력되지않음\\n\\n# 1. return을 함수 내에 지정하지 않았을떄\\n print(f'function_name(10, 9) = {function_name(10, 9)}')\", '_i7': \"def function_name(x, y):\\n    z = x + y # z = 10 + 9\\n    return z # z만 가지고서는 출력이 되지 않음! return z을 지정하지 않으면 출력되지않음\\n\\n# 1. return을 함수 내에 지정하지 않았을떄\\nprint(f'function_name(10, 9) = {function_name(10, 9)}')\", '_i8': \"def f():\\n    print(1 / 0)\\n    return z = 'hello'\\n#print('hello')\", '_i9': \"def f():\\n    print(1 / 0)\\n    return z = ()'hello')\\n#print('hello')\", '_i10': \"def f():\\n    print(1 / 0)\\n    return z = ('hello')\\n#print('hello')\", '_i11': \"def f():\\n    print(1 / 0)\\n    return z\\nprint('hello')\", '_i12': \"print(print('hello'))\", '_i13': \"# 3.1 print와 return의 구분\\n\\ndef function(x, y):\\n    z = x + y\\n    return z\\nprint(f'function(5, 7) = {function(5, 7)}')\", 'function': <function function at 0x7b65991b0310>, '_i14': \"# 3.1 print와 return의 구분\\n\\ndef function(x, y):\\n    z = x + y\\n    return z #이렇게 프린트 대신 리턴을 넣어주면 넌이 나오지 않는다\\n(f'function(5, 7) = {function(5, 7)}')\", '_14': 'function(5, 7) = 12', '_i15': '#### **1.3.1 파라미터의 기본 사용**\\n#함수 **`f`**는 3개의 파라미터 **`a`**, **`b`**, **`c`**를 가집니다.\\n#함수 호출 시, 키워드 인자(keyword arguments)를 사용하여 원하는 파라미터에 값을 할당할 수 있습니다.\\n\\ndef f(a, b, c):\\n    print(a, b, c)\\nf(100, 200, 300)\\nf(a=100, b=200, c=300) # 출력: 100 200 300 #이렇게 쓰는 방식을 키워드 인자라고 한다.\\nf(c=300, a=100, b=200) # 출력: 100 200 300 #이렇게 쓰는 방식을 키워드 인자라고 한다.', '_i16': 'def f(a=10, b=20, c=):# 잘못된 예\\n    print(a, b, c)\\n\\ndef f(a, b=20, c=10):# 올바른 예\\n    print(a, b, c)\\n\\nf()\\nf(100, 10) #함수에 정의에 이미 a,b,c 의 키와 밸류가 들어가있기에 에러없이 진행됨.\\nf(a=100, b=200, c=300)\\nf(c=300, a=100, b=200)', '_i17': '#def f(a=10, b=20, c=):# 잘못된 예\\n#    print(a, b, c)\\n\\ndef f(a, b=20, c=10):# 올바른 예\\n    print(a, b, c)\\n\\nf()\\nf(100, 10) #함수에 정의에 이미 a,b,c 의 키와 밸류가 들어가있기에 에러없이 진행됨.\\nf(a=100, b=200, c=300)\\nf(c=300, a=100, b=200)', '_i18': '#def f(a=10, b=20, c=):# 잘못된 예\\n#    print(a, b, c)\\n\\ndef f(a, b=20, c=10):# 올바른 예\\n    print(a, b, c)\\n\\nf(100, 10) #함수에 정의에 이미 a,b,c 의 키와 밸류가 들어가있기에 에러없이 진행됨.\\nf(a=100, b=200, c=300)\\nf(c=300, a=100, b=200)', '_i19': 'append_to_list(1) # 출력: [1]', '_i20': 'append_to_list(2) # 출력: [1, 2], 그러나 결과가 [2]가 나올것으로 예상할수도 있습니다.', '_i21': '#1.4.2 권장하지 않는 기본값\\n\\n# 권장하지 않는 방법\\n\\ndef append_to_list(value, lst=[]):\\n    lst.append(value)\\n    return lst # 예상치 못한 결과가 발생할 수 있습니다.', 'append_to_list': <function append_to_list at 0x7b6577446c20>, '_i22': 'append_to_list(1) # 출력: [1]', '_22': [1, 2], '_i23': 'append_to_list(2) # 출력: [1, 2], 그러나 결과가 [2]가 나올것으로 예상할수도 있습니다.', '_23': [1, 2], '_i24': '#1.4.2 권장하지 않는 기본값\\n\\n# 권장하지 않는 방법\\n\\ndef append_to_list(value, lst=[]):\\n    lst.append(value)\\n    append_to_list(1)\\n    append_to_list(2)\\n    return lst # 예상치 못한 결과가 발생할 수 있습니다.', '_i25': '#1.4.2 권장하지 않는 기본값\\n\\n# 권장하지 않는 방법\\n\\ndef append_to_list(value, lst=[]):\\n    lst.append(value)\\n    return lst # 예상치 못한 결과가 발생할 수 있습니다.', '_i26': 'append_to_list(1) # 출력: [1]', '_26': [1, 2, 1, 2], '_i27': 'append_to_list(2) # 출력: [1, 2], 그러나 결과가 [2]가 나올것으로 예상할수도 있습니다.', '_27': [1, 2, 1, 2], '_i28': 'append_to_list(1) # 출력: [1]', '_28': [1, 2, 1, 2], '_i29': 'append_to_list(2) # 출력: [1, 2], 그러나 결과가 [2]가 나올것으로 예상할수도 있습니다.', '_29': [1, 2, 1, 2], '_i30': 'def append_to_list(value, lst=None):', '_i31': 'def append_to_list(value, lst=None):\\n    if lst is None:\\n        lst = []\\n    lst.append(value)\\n    return lst', '_i32': 'def append_to_list(value, lst=None):\\n    if lst is None:\\n        lst = []\\n    lst.append(value)\\n    return lst', '_i33': 'append_to_list(1)', '_33': [1], '_i34': 'append_to_list(2)', '_34': [2], '_i35': '# # 1. 지역 변수 (함수 내에 사용한 변수!) 반대:\\n\\n# 전역 변수\\ntest = 1\\n\\n# 지역 변수\\ndef f():\\n    a = 1 # 이 변수는 f() 내에서만 정의! 절대 바깥에서는 사용할 수 없는것.\\n    print(a) # 출력: 1\\n\\nf()\\nprint(a) # error: a는 f 함수 내부에서만 정의되었습니다.', 'test': 1, '_i36': '# 전역 변수\\ntest = 1\\n\\n# 지역 변수 (함수 내에 사용한 변수!)\\n\\ndef example():\\n    test = 100\\n    return test\\n\\nprint(example())\\nprint(test)', 'example': <function example at 0x7b65773ff490>, '_i37': \"\\ndef f():\\n    a = 1 # 이 변수는 f() 내에서만 정의! 절대 바깥에서는 사용할 수 없는것.\\n    print(locals()) # 출력: {'a': 1} # 지역변수가 어떤게 있는지 확인.\\n\\nf()\", '_i38': \"def f():\\n    a = 1\\n    b = 'hello'\\n    def ff():\\n        pass\\n    print(locals()) # 출력: {'a': 1, 'b': 'hello', 'ff': <function f.<locals>.ff at 0x7a46e99d2c20>}\\n\\nf()\", '_i39': 'a = 100\\n\\ndef f():\\n    global a\\n    a = a + 1\\n    return a\\n\\nprint(f())\\nprint(a) # 출력: 101, 함수 f 내에서 전역 변수 a가 수정되었습니다.', 'a': 1, '_i40': 'a = 100\\ndef f():\\n    a = a + 1 # 글로벌을 지정시키지 않아 error 남\\n\\nf()\\nprint(a)', '_i41': 'a = 100\\ndef f():\\n    a = a + 1 # 글로벌을 지정시키지 않아 error 남\\n\\nf()\\nprint(a)', '_i42': 'a = 100\\ndef f():\\n    a = a + 1 # 글로벌을 지정시키지 않아 error 남\\n\\nf()\\nprint(a)', '_i43': 'a = 100\\n\\ndef f():\\n    a = 1000\\n    print(a)\\n\\nf()', '_i44': 'a = 100\\n\\ndef f():\\n    print(a) # 출력: 100\\n\\nf()\\n\\ndef ff():\\n    b = a + 1\\n    print(b) # 출력: 101\\n\\nff()', 'ff': <function ff at 0x7b6577557be0>, '_i45': \"a = 1\\nb = 'hello'\\ndef f():\\n    pass\\nprint(globals())\", 'b': 'hello'}\n"
          ]
        }
      ]
    },
    {
      "cell_type": "code",
      "source": [
        "a = 10\n",
        "def f():\n",
        "    a = 100\n",
        "    print(a) # 출력: 100\n",
        "    def ff():\n",
        "        a = 1000\n",
        "        print(a) # 출력: 1000\n",
        "        def fff():\n",
        "            a = 10000 # 출력: 10000\n",
        "            print(a)\n",
        "        fff()\n",
        "    ff()\n",
        "f()\n",
        "print(a) # 출력: 10"
      ],
      "metadata": {
        "id": "mCu4rvY_vlhZ"
      },
      "execution_count": null,
      "outputs": []
    },
    {
      "cell_type": "code",
      "source": [
        "# global을 하면 함수가 얼만큼 중첩되어 있건 최상단에 있는 a를 바라봅니다.\n",
        "a = 10\n",
        "def f():\n",
        "    a = 100\n",
        "    print(a)\n",
        "    def ff():\n",
        "        a = 1000\n",
        "        print(a)\n",
        "        def fff():\n",
        "            global a\n",
        "            print(a)\n",
        "        fff()\n",
        "    ff()\n",
        "f()\n",
        "print(a)\n",
        "\n",
        "#출력\n",
        "100\n",
        "1000\n",
        "10\n",
        "10"
      ],
      "metadata": {
        "id": "K8l72k37vw5I"
      },
      "execution_count": null,
      "outputs": []
    },
    {
      "cell_type": "markdown",
      "source": [
        "## built-in function\n"
      ],
      "metadata": {
        "id": "waRM1N_1nNZ8"
      }
    },
    {
      "cell_type": "code",
      "source": [
        "# 빌트인 함수(built-in function) 종류\n",
        "\n",
        "# 1. all, any 요소 전체의 True, False 판별"
      ],
      "metadata": {
        "id": "iubpyLJGrKHR"
      },
      "execution_count": null,
      "outputs": []
    },
    {
      "cell_type": "code",
      "source": [
        "# 모두 다 True여야 True 반환, # 마치 and와 비슷하다.\n",
        "all([True, True, True]) # 출력: True\n",
        "all([True, True, False]) # 출력: False\n",
        "all([1, 1, 1, 0]) # 출력: False\n",
        "all([1, 0, 1, 1]) # 출력: False\n",
        "all([1, 100, 10, -1]) # 출력: True"
      ],
      "metadata": {
        "colab": {
          "base_uri": "https://localhost:8080/"
        },
        "id": "FaCvaLXhr0cc",
        "outputId": "fa6b6d31-a439-481c-c4b2-1c6517c4325b"
      },
      "execution_count": 46,
      "outputs": [
        {
          "output_type": "execute_result",
          "data": {
            "text/plain": [
              "True"
            ]
          },
          "metadata": {},
          "execution_count": 46
        }
      ]
    },
    {
      "cell_type": "code",
      "source": [
        "# 하나라도 True이면 True이다.\n",
        "any([True, False, False]) # 출력: True\n",
        "any([False, False, False]) # 출력: False\n",
        "any([1, 0, 0])"
      ],
      "metadata": {
        "colab": {
          "base_uri": "https://localhost:8080/"
        },
        "id": "x5o2-MMlr8YB",
        "outputId": "291e6e03-c354-46d0-d152-e19551038428"
      },
      "execution_count": 88,
      "outputs": [
        {
          "output_type": "execute_result",
          "data": {
            "text/plain": [
              "True"
            ]
          },
          "metadata": {},
          "execution_count": 88
        }
      ]
    },
    {
      "cell_type": "code",
      "source": [
        "## 2.3 map\n",
        "\n",
        "#**`map()`** 함수는 기존의 리스트(또는 튜플)의 모든 요소에 특정 함수를 적용한\n",
        "# 결과를 map 객체 형태로 반환하는 함수입니다. map 객체는 다시 list()를 이용해 리스트 형태로 변환할 수 있습니다.\n",
        "#map함수의 기본 구조는 다음과 같습니다."
      ],
      "metadata": {
        "id": "Fm4eL1oKsXi-"
      },
      "execution_count": null,
      "outputs": []
    },
    {
      "cell_type": "code",
      "source": [
        "# 첫번째 방법 list 안에 있는 정보를 제곱하고 싶을떄 사용하는 방법 map\n",
        "def 제곱(x):\n",
        "    return x ** 2\n",
        "list(map(제곱, [1, 2, 3, 4])) # 출력: [1, 4, 9, 16]"
      ],
      "metadata": {
        "colab": {
          "base_uri": "https://localhost:8080/"
        },
        "id": "WSv-XkyFsn6C",
        "outputId": "f5290401-3abf-4c69-a62d-44df319cae61"
      },
      "execution_count": 89,
      "outputs": [
        {
          "output_type": "execute_result",
          "data": {
            "text/plain": [
              "[1, 4, 9, 16]"
            ]
          },
          "metadata": {},
          "execution_count": 89
        }
      ]
    },
    {
      "cell_type": "code",
      "source": [
        "# 두번째 방법\n",
        "list(map(lambda x : x ** 2, [1, 2, 3, 4])) # 출력: [1, 4, 9, 16]\n",
        "\n",
        "#lambda 함수는 위에 첫번째를 한줄로 띄어쓰기 없이 한줄로 동일하게 사용할수 있는 함수다.\n",
        "\n",
        "# x : x ** 2\n",
        "#    =\n",
        "# def 제곱(x):\n",
        "#   return x ** 2"
      ],
      "metadata": {
        "colab": {
          "base_uri": "https://localhost:8080/"
        },
        "id": "-qs1ABztsqrb",
        "outputId": "e2a63281-d0c9-4403-aabe-2eac792ed39e"
      },
      "execution_count": 90,
      "outputs": [
        {
          "output_type": "execute_result",
          "data": {
            "text/plain": [
              "[1, 4, 9, 16]"
            ]
          },
          "metadata": {},
          "execution_count": 90
        }
      ]
    },
    {
      "cell_type": "code",
      "source": [
        "## 2.4 filter\n",
        "\n",
        "list(filter(lambda x : x > 50, range(100))) #0부터 99까지 수에서 x값이 50보다 큰수를 호출함."
      ],
      "metadata": {
        "id": "_BPBTGKhtqFM"
      },
      "execution_count": null,
      "outputs": []
    },
    {
      "cell_type": "code",
      "source": [
        "## 2.5 zip\n",
        "\n",
        "list(zip('ab', '12')) # 출력: [('a', '1'), ('b', '2')]"
      ],
      "metadata": {
        "colab": {
          "base_uri": "https://localhost:8080/"
        },
        "id": "VDjGfyThuBaq",
        "outputId": "1dd18e2e-22e4-4577-a4ef-773b83b1fa71"
      },
      "execution_count": 94,
      "outputs": [
        {
          "output_type": "execute_result",
          "data": {
            "text/plain": [
              "[('a', '1'), ('b', '2')]"
            ]
          },
          "metadata": {},
          "execution_count": 94
        }
      ]
    },
    {
      "cell_type": "code",
      "source": [
        "list(zip('ab', '12', [10, 20])) # 출력: [('a', '1', 10), ('b', '2', 20)]"
      ],
      "metadata": {
        "colab": {
          "base_uri": "https://localhost:8080/"
        },
        "id": "T97fCQ1bui5g",
        "outputId": "975cac86-9ffb-4533-98ab-334e18387bd9"
      },
      "execution_count": 95,
      "outputs": [
        {
          "output_type": "execute_result",
          "data": {
            "text/plain": [
              "[('a', '1', 10), ('b', '2', 20)]"
            ]
          },
          "metadata": {},
          "execution_count": 95
        }
      ]
    },
    {
      "cell_type": "code",
      "source": [
        "list(zip('abcde', '1234567', [10, 20, 30, 40]))\n",
        "# 출력 : [('a', '1', 10), ('b', '2', 20), ('c', '3', 30)]"
      ],
      "metadata": {
        "colab": {
          "base_uri": "https://localhost:8080/"
        },
        "id": "BE7LAprbukop",
        "outputId": "ee2578ec-9951-4b8f-a105-6fcfcc4ecf88"
      },
      "execution_count": 51,
      "outputs": [
        {
          "output_type": "execute_result",
          "data": {
            "text/plain": [
              "[('a', '1', 10), ('b', '2', 20), ('c', '3', 30), ('d', '4', 40)]"
            ]
          },
          "metadata": {},
          "execution_count": 51
        }
      ]
    },
    {
      "cell_type": "code",
      "source": [
        "format(10000, ',')"
      ],
      "metadata": {
        "colab": {
          "base_uri": "https://localhost:8080/",
          "height": 35
        },
        "id": "jdulBCkuvP-p",
        "outputId": "cbf99cc5-9dea-42c8-d6bf-1bd2e6f9431f"
      },
      "execution_count": 97,
      "outputs": [
        {
          "output_type": "execute_result",
          "data": {
            "text/plain": [
              "'10,000'"
            ],
            "application/vnd.google.colaboratory.intrinsic+json": {
              "type": "string"
            }
          },
          "metadata": {},
          "execution_count": 97
        }
      ]
    },
    {
      "cell_type": "code",
      "source": [
        "print(format(123.4567, '.2f')) # 출력: 123.46\n",
        "print(format('Hello', '^9')) # 출력: '  Hello  '"
      ],
      "metadata": {
        "colab": {
          "base_uri": "https://localhost:8080/"
        },
        "id": "t0h7-ZE6vRI0",
        "outputId": "23213950-2c63-4bcc-c01a-cf17834149eb"
      },
      "execution_count": 98,
      "outputs": [
        {
          "output_type": "stream",
          "name": "stdout",
          "text": [
            "123.46\n",
            "  Hello  \n"
          ]
        }
      ]
    },
    {
      "cell_type": "code",
      "source": [],
      "metadata": {
        "id": "CtuAXm-iwHSk"
      },
      "execution_count": null,
      "outputs": []
    },
    {
      "cell_type": "code",
      "source": [
        "### 2.10.3 enumerate\n",
        "# index 자동생성시 자주 사용. 이후 데이터 리스트(딕셔너리값)을 join할떄 사용.\n",
        "\n",
        "values = ['A', 'B', 'C', 'D']\n",
        "print(list(enumerate(values))) # 2차원 튜플 형식으로 바뀜.\n",
        "print(list(enumerate(values, 1))) # 2차원 튜플 형식으로 바뀜.\n",
        "print(list(enumerate(values, 100))) # 2차원 튜플 형식으로 바뀜."
      ],
      "metadata": {
        "colab": {
          "base_uri": "https://localhost:8080/"
        },
        "id": "-45xQqgxwG9l",
        "outputId": "11a3dfbc-c446-474f-e335-abb0258b09fe"
      },
      "execution_count": 99,
      "outputs": [
        {
          "output_type": "stream",
          "name": "stdout",
          "text": [
            "[(0, 'A'), (1, 'B'), (2, 'C'), (3, 'D')]\n",
            "[(1, 'A'), (2, 'B'), (3, 'C'), (4, 'D')]\n",
            "[(100, 'A'), (101, 'B'), (102, 'C'), (103, 'D')]\n"
          ]
        }
      ]
    },
    {
      "cell_type": "code",
      "source": [
        "## 2.11 sorted, reversed"
      ],
      "metadata": {
        "id": "cv7FskcUx-oD"
      },
      "execution_count": null,
      "outputs": []
    },
    {
      "cell_type": "code",
      "source": [
        "sorted(['hello', 'l', 'hllo', 'hel', 'heo', 'a'], key=len)\n",
        "# 출력 : ['l', 'a', 'hel', 'heo', 'hllo', 'hello']"
      ],
      "metadata": {
        "colab": {
          "base_uri": "https://localhost:8080/"
        },
        "id": "KoVV7BLZx_mC",
        "outputId": "b94f7964-06f1-4e97-824d-daa79d133776"
      },
      "execution_count": 100,
      "outputs": [
        {
          "output_type": "execute_result",
          "data": {
            "text/plain": [
              "['l', 'a', 'hel', 'heo', 'hllo', 'hello']"
            ]
          },
          "metadata": {},
          "execution_count": 100
        }
      ]
    },
    {
      "cell_type": "code",
      "source": [
        "a = 'pithon'\n",
        "\n",
        "def 함수1():\n",
        "    def 함수2():\n",
        "        print('love')\n",
        "\n",
        "    print('I')\n",
        "    함수2()\n",
        "    return \"python\"\n",
        "\n",
        "\n",
        "a = 함수1()\n",
        "print(a)"
      ],
      "metadata": {
        "colab": {
          "base_uri": "https://localhost:8080/"
        },
        "id": "XMstda39yCvR",
        "outputId": "a20d9817-ee4a-40f2-f9b2-0b81d283257b"
      },
      "execution_count": 101,
      "outputs": [
        {
          "output_type": "stream",
          "name": "stdout",
          "text": [
            "I\n",
            "love\n",
            "python\n"
          ]
        }
      ]
    },
    {
      "cell_type": "code",
      "source": [
        "def plus(num1, num2):\n",
        "    return num1 + num2\n",
        "\n",
        "def minus(num1, num2):\n",
        "    return num1 - num2\n",
        "\n",
        "def multiply(num1, num2):\n",
        "    return num1 * num2\n",
        "\n",
        "def divide(num1, num2):\n",
        "    return num1 / num2\n",
        "\n",
        "print(f'plus : {plus(10, 5)}')\n",
        "print(f'minus : {minus(10, 5)}')\n",
        "print(f'multiply : {multiply(10, 5)}')\n",
        "print(f'divide : {divide(10, 5)}')"
      ],
      "metadata": {
        "colab": {
          "base_uri": "https://localhost:8080/"
        },
        "id": "uc4gOouQ0Jr7",
        "outputId": "34818501-57e8-4c74-8766-50f4c7957196"
      },
      "execution_count": 102,
      "outputs": [
        {
          "output_type": "stream",
          "name": "stdout",
          "text": [
            "plus : 15\n",
            "minus : 5\n",
            "multiply : 50\n",
            "divide : 2.0\n"
          ]
        }
      ]
    },
    {
      "cell_type": "code",
      "source": [
        "# 연습문제 1.\n",
        "# 2번의 해답을 이용하여 a와 b를 더한 값과 a와 b를 뺀 값을 곱하는 함수를\n",
        "# 만들어주세요. 아래와 같은 값이 있다면 (2 + 3) * (2 - 3) = -5가 출력이 되어야 합니다.\n",
        "\n",
        "def calculate_result(a, b):\n",
        "    result1 = plus(a, b)\n",
        "    result2 = minus(a, b)\n",
        "    result3 = multiply(result1, result2)\n",
        "    return result3\n",
        "\n",
        "a = 2\n",
        "b = 3\n",
        "result = calculate_result(a, b)\n",
        "print(result)  # 출력: -5\n",
        "# 이 부분에 코드를 작성해주세요."
      ],
      "metadata": {
        "colab": {
          "base_uri": "https://localhost:8080/"
        },
        "id": "_5luW4MD1XGW",
        "outputId": "3f81984e-ca0a-46dd-c0aa-2fc54d9d3c4b"
      },
      "execution_count": 105,
      "outputs": [
        {
          "output_type": "stream",
          "name": "stdout",
          "text": [
            "-5\n"
          ]
        }
      ]
    },
    {
      "cell_type": "code",
      "source": [
        "# 연습문제 2.\n",
        "# x의 n제곱을 구하는 함수를 만들어주세요.\n",
        "# 재귀함수를 이용하여 만들어야하며, x은 0이 아닙니다. (x, n > 1)\n",
        "\n",
        "def cal_result()\n",
        "    x ** n\n",
        "    x > 0\n",
        "    return\n"
      ],
      "metadata": {
        "colab": {
          "base_uri": "https://localhost:8080/",
          "height": 147
        },
        "id": "QE6aTMwFCK49",
        "outputId": "a58b1b79-7ea0-41d6-eda0-a4f1041b139a"
      },
      "execution_count": 106,
      "outputs": [
        {
          "output_type": "error",
          "ename": "SyntaxError",
          "evalue": "expected ':' (<ipython-input-106-3417fcd8a279>, line 3)",
          "traceback": [
            "\u001b[0;36m  File \u001b[0;32m\"<ipython-input-106-3417fcd8a279>\"\u001b[0;36m, line \u001b[0;32m3\u001b[0m\n\u001b[0;31m    def cal_result()\u001b[0m\n\u001b[0m                    ^\u001b[0m\n\u001b[0;31mSyntaxError\u001b[0m\u001b[0;31m:\u001b[0m expected ':'\n"
          ]
        }
      ]
    },
    {
      "cell_type": "code",
      "source": [
        "# 연습문제 2.\n",
        "# x의 n제곱을 구하는 함수를 만들어주세요.\n",
        "# 재귀함수를 이용하여 만들어야하며, x은 0이 아닙니다. (x, n > 1)\n",
        "\n",
        "def power_recursive(x, n):\n",
        "    # 기저 사례: n이 1이면 x를 반환\n",
        "    if n == 1:\n",
        "        return x\n",
        "    # 재귀 호출: x^(n//2)을 계산하여 중복 계산을 피함\n",
        "    else:\n",
        "        half_power = power_recursive(x, n // 2)\n",
        "        # n이 짝수인 경우\n",
        "        if n % 2 == 0:\n",
        "            return half_power * half_power\n",
        "        # n이 홀수인 경우\n",
        "        else:\n",
        "            return half_power * half_power * x\n",
        "\n",
        "# 사용 예시\n",
        "x = 2\n",
        "n = 3\n",
        "result = power_recursive(x, n)\n",
        "print(f'{x}의 {n}제곱은 {result}입니다.')"
      ],
      "metadata": {
        "colab": {
          "base_uri": "https://localhost:8080/"
        },
        "id": "k2bdrG10IlFZ",
        "outputId": "ea653726-2fb0-45fa-ac30-e4434e06eab3"
      },
      "execution_count": 107,
      "outputs": [
        {
          "output_type": "stream",
          "name": "stdout",
          "text": [
            "2의 3제곱은 8입니다.\n"
          ]
        }
      ]
    },
    {
      "cell_type": "code",
      "source": [
        "# 연습문제 5.이 데이터에서 licat을 출력해주세요.\n",
        "# 단, 직접 접근은 안됩니다. data[1]로 접근하는 것은 안됩니다.\n",
        "\n",
        "data = [['weniv CTO binky', 2], ['weniv CEO licat', 1], ['weniv COO mura', 2]]\n"
      ],
      "metadata": {
        "id": "ewfoEVzlKcrM"
      },
      "execution_count": null,
      "outputs": []
    },
    {
      "cell_type": "code",
      "source": [
        "data = [['weniv CTO binky', 2], ['weniv CEO licat', 1], ['weniv COO mura', 2]]\n",
        "\n",
        "# 데이터를 순회하면서 'licat'이 포함된 문자열 찾기\n",
        "for item in data:\n",
        "    if 'licat' in item[0]:\n",
        "        print(item[0][-6:])"
      ],
      "metadata": {
        "colab": {
          "base_uri": "https://localhost:8080/"
        },
        "id": "c7PZQuhWMIGV",
        "outputId": "ae448b65-81fd-4970-c5b5-c5f072e01a6f"
      },
      "execution_count": 110,
      "outputs": [
        {
          "output_type": "stream",
          "name": "stdout",
          "text": [
            " licat\n"
          ]
        }
      ]
    },
    {
      "cell_type": "code",
      "source": [
        "# 연습문제 6.다음 함수 is_palindrome를 완성하시오. 이 함수는 하나의 문자열을 인자로 받아,\n",
        "#해당 문자열이 앞으로 읽으나 뒤로 읽으나 같은 단어이면 True를, 아니면 False를 반환해야 합니다.\n",
        "\n",
        "def is_palindrome(s):\n",
        "    pass"
      ],
      "metadata": {
        "id": "HNAH5Y68MJb3"
      },
      "execution_count": null,
      "outputs": []
    },
    {
      "cell_type": "code",
      "source": [
        "# 연습문제 7. 리스트 numbers가 주어졌을 때, 이 리스트 내의 모든 짝수를 제거하는 코드를 작성하시오.\n",
        "\n",
        "numbers = [2, 3, 4, 5, 6, 7, 8, 9, 10]\n",
        "# filter 함수를 사용하여 짝수를 제거\n",
        "numbers = list(filter(lambda x: x % 2 != 0, numbers))\n",
        "\n",
        "# 결과 출력\n",
        "print(numbers)\n"
      ],
      "metadata": {
        "colab": {
          "base_uri": "https://localhost:8080/"
        },
        "id": "UTAb-rF_OBKk",
        "outputId": "01a1ef92-6590-43d0-e420-c6e6ce8f9360"
      },
      "execution_count": 111,
      "outputs": [
        {
          "output_type": "stream",
          "name": "stdout",
          "text": [
            "[3, 5, 7, 9]\n"
          ]
        }
      ]
    },
    {
      "cell_type": "code",
      "source": [
        "numbers = [2, 3, 4, 5, 6, 7, 8, 9, 10]\n",
        "\n",
        "# 리스트 컴프리헨션을 사용하여 짝수를 제거\n",
        "numbers = [num for num in numbers if num % 2 != 0]\n",
        "\n",
        "# 결과 출력\n",
        "print(numbers)"
      ],
      "metadata": {
        "colab": {
          "base_uri": "https://localhost:8080/"
        },
        "id": "rzfVRGk6P5lE",
        "outputId": "f8f5f86a-6bf4-4f83-e472-56d79021a7c4"
      },
      "execution_count": 112,
      "outputs": [
        {
          "output_type": "stream",
          "name": "stdout",
          "text": [
            "[3, 5, 7, 9]\n"
          ]
        }
      ]
    }
  ]
}