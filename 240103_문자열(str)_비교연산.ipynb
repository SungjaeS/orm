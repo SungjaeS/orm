{
  "nbformat": 4,
  "nbformat_minor": 0,
  "metadata": {
    "colab": {
      "provenance": [],
      "authorship_tag": "ABX9TyMQ2XlFPyrY8QXRwV8JlwKc",
      "include_colab_link": true
    },
    "kernelspec": {
      "name": "python3",
      "display_name": "Python 3"
    },
    "language_info": {
      "name": "python"
    }
  },
  "cells": [
    {
      "cell_type": "markdown",
      "metadata": {
        "id": "view-in-github",
        "colab_type": "text"
      },
      "source": [
        "<a href=\"https://colab.research.google.com/github/SungjaeS/orm/blob/main/240103_%EB%AC%B8%EC%9E%90%EC%97%B4(str)_%EB%B9%84%EA%B5%90%EC%97%B0%EC%82%B0.ipynb\" target=\"_parent\"><img src=\"https://colab.research.google.com/assets/colab-badge.svg\" alt=\"Open In Colab\"/></a>"
      ]
    },
    {
      "cell_type": "code",
      "execution_count": 4,
      "metadata": {
        "id": "uzOf0zX6yI4j"
      },
      "outputs": [],
      "source": [
        "# 문자열(str) 자료형\n",
        "\n",
        "x = 'hello'\n",
        "y = \"python\"\n"
      ]
    },
    {
      "cell_type": "code",
      "source": [
        "print(x, y)"
      ],
      "metadata": {
        "colab": {
          "base_uri": "https://localhost:8080/"
        },
        "id": "ExUC4pK2yYGk",
        "outputId": "f26e95de-3a26-46da-c457-88940aaa2af8"
      },
      "execution_count": 5,
      "outputs": [
        {
          "output_type": "stream",
          "name": "stdout",
          "text": [
            "hello python\n"
          ]
        }
      ]
    },
    {
      "cell_type": "code",
      "source": [
        "print(type(x), type(y))"
      ],
      "metadata": {
        "colab": {
          "base_uri": "https://localhost:8080/"
        },
        "id": "c24zW_-iyag8",
        "outputId": "06c2215a-404e-4da8-9244-3af6ac330817"
      },
      "execution_count": 16,
      "outputs": [
        {
          "output_type": "stream",
          "name": "stdout",
          "text": [
            "<class 'str'> <class 'str'>\n"
          ]
        }
      ]
    },
    {
      "cell_type": "code",
      "source": [
        "print(x * 3)\n"
      ],
      "metadata": {
        "colab": {
          "base_uri": "https://localhost:8080/"
        },
        "id": "LNi-mODo11Gk",
        "outputId": "861fb79c-c2ff-4935-e362-2c8ca26d8281"
      },
      "execution_count": 17,
      "outputs": [
        {
          "output_type": "stream",
          "name": "stdout",
          "text": [
            "hellohellohello\n"
          ]
        }
      ]
    },
    {
      "cell_type": "code",
      "source": [
        "i = '''안녕하세요.\n",
        "파이선 참 좋아요.\n",
        "여러분 정말 잘 선택하셨어요.\n",
        "'''\n",
        "\n",
        "j = \"\"\"안녕하세요\n",
        "파이선 참 좋아요.\n",
        "여러분 정말 잘 선택하셨어요.\n",
        "\"\"\""
      ],
      "metadata": {
        "id": "9lYNEszkyfmj"
      },
      "execution_count": 7,
      "outputs": []
    },
    {
      "cell_type": "code",
      "source": [
        "i\n",
        "\n",
        "j\n",
        "\n",
        "print(i)\n",
        "\n",
        "print(j)"
      ],
      "metadata": {
        "colab": {
          "base_uri": "https://localhost:8080/"
        },
        "id": "-3s3XVo8eC5H",
        "outputId": "a53b3d27-d2ed-4530-a588-8f95aab4e674"
      },
      "execution_count": 9,
      "outputs": [
        {
          "output_type": "stream",
          "name": "stdout",
          "text": [
            "안녕하세요.\n",
            "파이선 참 좋아요.\n",
            "여러분 정말 잘 선택하셨어요.\n",
            "\n",
            "안녕하세요\n",
            "파이선 참 좋아요.\n",
            "여러분 정말 잘 선택하셨어요.\n",
            "\n"
          ]
        }
      ]
    },
    {
      "cell_type": "code",
      "source": [
        "'''안녕하세요.\n",
        "저는 위니브의 대표 이호준입니다.\n",
        "파이썬 참 좋아요.\n",
        "여러분 정말 잘 선택하셨어요.\n",
        "'''\n"
      ],
      "metadata": {
        "colab": {
          "base_uri": "https://localhost:8080/",
          "height": 35
        },
        "id": "HuOVHKPfzByP",
        "outputId": "18d4eaca-fb94-44a4-e274-63d1cdc950a5"
      },
      "execution_count": 10,
      "outputs": [
        {
          "output_type": "execute_result",
          "data": {
            "text/plain": [
              "'안녕하세요.\\n저는 위니브의 대표 이호준입니다.\\n파이썬 참 좋아요.\\n여러분 정말 잘 선택하셨어요.\\n'"
            ],
            "application/vnd.google.colaboratory.intrinsic+json": {
              "type": "string"
            }
          },
          "metadata": {},
          "execution_count": 10
        }
      ]
    },
    {
      "cell_type": "code",
      "source": [
        "i"
      ],
      "metadata": {
        "colab": {
          "base_uri": "https://localhost:8080/",
          "height": 35
        },
        "id": "bKKFoGN3ewgo",
        "outputId": "503c87e2-b56f-485a-d0ed-12fe7315d1cd"
      },
      "execution_count": 11,
      "outputs": [
        {
          "output_type": "execute_result",
          "data": {
            "text/plain": [
              "'안녕하세요.\\n파이선 참 좋아요.\\n여러분 정말 잘 선택하셨어요.\\n'"
            ],
            "application/vnd.google.colaboratory.intrinsic+json": {
              "type": "string"
            }
          },
          "metadata": {},
          "execution_count": 11
        }
      ]
    },
    {
      "cell_type": "code",
      "source": [
        "\"\"\"안녕하세요.\n",
        "저는 위니브의 대표 이호준입니다.\n",
        "파이썬 참 좋아요.\n",
        "여러분 정말 잘 선택하셨어요.\n",
        "\"\"\""
      ],
      "metadata": {
        "colab": {
          "base_uri": "https://localhost:8080/",
          "height": 35
        },
        "id": "VL6QFAzozDAB",
        "outputId": "e031ca2c-0e7f-4951-b77b-035dc078a3ff"
      },
      "execution_count": 15,
      "outputs": [
        {
          "output_type": "execute_result",
          "data": {
            "text/plain": [
              "'안녕하세요.\\n저는 위니브의 대표 이호준입니다.\\n파이썬 참 좋아요.\\n여러분 정말 잘 선택하셨어요.\\n'"
            ],
            "application/vnd.google.colaboratory.intrinsic+json": {
              "type": "string"
            }
          },
          "metadata": {},
          "execution_count": 15
        }
      ]
    },
    {
      "cell_type": "code",
      "source": [
        "i = '''안녕하세요.\n",
        "저는 위니브의 대표 이호준입니다.\n",
        "파이썬 참 좋아요.\n",
        "여러분 정말 잘 선택하셨어요.\n",
        "'''\n",
        "j = \"\"\"안녕하세요.\n",
        "저는 위니브의 대표 이호준입니다.\n",
        "파이썬 참 좋아요.\n",
        "여러분 정말 잘 선택하셨어요.\n",
        "\"\"\"\n"
      ],
      "metadata": {
        "id": "M59h882pzFas"
      },
      "execution_count": 10,
      "outputs": []
    },
    {
      "cell_type": "code",
      "source": [
        "# 1.2 문자열 덧셈, 곱셈\n",
        "\n",
        "# 문자열의 덧셈\n",
        "\n",
        "x = 'hello'\n",
        "y = 'world'\n",
        "print(x + y)\n",
        "\n",
        "x = '10'\n",
        "y = '20'\n",
        "print(x + y)\n",
        "\n",
        "x = 'hello'\n",
        "print(x *3)"
      ],
      "metadata": {
        "colab": {
          "base_uri": "https://localhost:8080/"
        },
        "id": "1mle9tCAzqyk",
        "outputId": "7ac244b0-fd86-45ff-aa33-c161badf435c"
      },
      "execution_count": 19,
      "outputs": [
        {
          "output_type": "stream",
          "name": "stdout",
          "text": [
            "helloworld\n",
            "1020\n",
            "hellohellohello\n"
          ]
        }
      ]
    },
    {
      "cell_type": "code",
      "source": [
        "\n",
        "# 1.3 문자열 인덱싱\n",
        "\n",
        "#    0  12 34 5 6\n",
        "s = '위니브 월드!'\n",
        "print(s[0]) # 출력 : '위'\n",
        "print(s[2]) # 출력 : '위'\n",
        "print(s[4]) # 출력 : '위'\n",
        "\n",
        "print(s[6]) # 출력 : '!'\n",
        "print(s[-1]) # 출력 : '!' 보통 마지막걸 가져오고 싶으면 마이너스 사용\n",
        "\n",
        "print(s[0:5]) #5번쨰 전까지 나옴\n",
        "print(s[0:]) #처음부터 끝까지 다나옴\n",
        "print(s[0:6:2]) #0포함 6번쨰 전까지 2번째 들만 나옴\n",
        "\n"
      ],
      "metadata": {
        "colab": {
          "base_uri": "https://localhost:8080/"
        },
        "id": "RS9cOPe02bi0",
        "outputId": "664172b7-e9c4-4a35-b91b-e71469ca9fe1"
      },
      "execution_count": 12,
      "outputs": [
        {
          "output_type": "stream",
          "name": "stdout",
          "text": [
            "위\n",
            "브\n",
            "월\n",
            "!\n",
            "!\n",
            "위니브 월\n",
            "위니브 월드!\n",
            "위브월\n"
          ]
        }
      ]
    },
    {
      "cell_type": "code",
      "source": [
        "s = 'weniv CEO licat'\n",
        "print(s[6:]) # 출력 : CEO licat === 6번에서 끝까지\n",
        "print(s[:]) # 출력 : weniv CEO licat === 전체 출력\n",
        "print(s[::-1]) # 출력 : tacil OEC vinew === 전부다 나오는데 순서가 반전됨\n",
        "print(s[::2]) # 출력 : wnvCOlct === 0번째 포함 2번째들만 출력됨"
      ],
      "metadata": {
        "colab": {
          "base_uri": "https://localhost:8080/"
        },
        "id": "Io4LPbtR3Ibt",
        "outputId": "b680cd59-0490-438b-d370-72b0c833ac94"
      },
      "execution_count": 31,
      "outputs": [
        {
          "output_type": "stream",
          "name": "stdout",
          "text": [
            "CEO licat\n",
            "weniv CEO licat\n",
            "tacil OEC vinew\n",
            "wnvCOlct\n"
          ]
        }
      ]
    },
    {
      "cell_type": "code",
      "source": [
        "s = 'weniv_licat.png'\n",
        "\n",
        "print(s[:11])\n",
        "print(s[:-4])"
      ],
      "metadata": {
        "colab": {
          "base_uri": "https://localhost:8080/"
        },
        "id": "_z7A3wyY6T3m",
        "outputId": "b19cb5c2-0bdd-4741-9829-f5233157cc8f"
      },
      "execution_count": 13,
      "outputs": [
        {
          "output_type": "stream",
          "name": "stdout",
          "text": [
            "weniv_licat\n",
            "weniv_licat\n"
          ]
        }
      ]
    },
    {
      "cell_type": "code",
      "source": [
        "s = 'weniv_licat.png' #  png만 나오게 해보자\n",
        "\n",
        "print(s[-3:-1])  # -1 은 포함이 안됨 거꾸로 해도 마찬가지\n",
        "print(s[-3:])  # png 만 표출됨 뒤는 비워두는게 좋다"
      ],
      "metadata": {
        "colab": {
          "base_uri": "https://localhost:8080/"
        },
        "id": "AGoyQB0F6jPG",
        "outputId": "5b9a64f5-a3b7-4f0f-f54e-c0dc709a211a"
      },
      "execution_count": 38,
      "outputs": [
        {
          "output_type": "stream",
          "name": "stdout",
          "text": [
            "pn\n",
            "png\n"
          ]
        }
      ]
    },
    {
      "cell_type": "code",
      "source": [
        "# 1.5 슬라이스 복사 - 다만 ID가 달라짐.\n",
        "\n",
        "s = [1, 2, 3]\n",
        "ss = s[:]\n",
        "\n",
        "print (s)\n",
        "print (ss)\n",
        "print(id(s), id(ss)) # 출력: 133344882907520 133344882906560"
      ],
      "metadata": {
        "colab": {
          "base_uri": "https://localhost:8080/"
        },
        "id": "06PQQ5Rb8D8Q",
        "outputId": "74fb5afb-b189-4916-bc5d-919254d0f7da"
      },
      "execution_count": 15,
      "outputs": [
        {
          "output_type": "stream",
          "name": "stdout",
          "text": [
            "[1, 2, 3]\n",
            "[1, 2, 3]\n",
            "139021600244160 139021600256064\n"
          ]
        }
      ]
    },
    {
      "cell_type": "code",
      "source": [
        "# 3. 문자열 메서드\n",
        "\n",
        "## 3.1 lower( ) / upper( )\n",
        "\n",
        "s = 'weniv CEO licat'\n",
        "s.lower() #전체를 소문자로 바꿔주는 method\n",
        "s.upper() #전체를 대문자로 바꿔주는 method"
      ],
      "metadata": {
        "colab": {
          "base_uri": "https://localhost:8080/",
          "height": 35
        },
        "id": "Cc_-pToa8oMF",
        "outputId": "f97bc712-eb49-435b-ef9d-77ab99a4a0ec"
      },
      "execution_count": 42,
      "outputs": [
        {
          "output_type": "execute_result",
          "data": {
            "text/plain": [
              "'WENIV CEO LICAT'"
            ],
            "application/vnd.google.colaboratory.intrinsic+json": {
              "type": "string"
            }
          },
          "metadata": {},
          "execution_count": 42
        }
      ]
    },
    {
      "cell_type": "code",
      "source": [
        "s = 'weniv CEO licat'\n",
        "s.lower() #전체를 소문자로 바꿔주는 method"
      ],
      "metadata": {
        "colab": {
          "base_uri": "https://localhost:8080/",
          "height": 35
        },
        "id": "VSopWwFc841Q",
        "outputId": "d74c6709-53af-433d-afb7-deae7eb590b7"
      },
      "execution_count": 44,
      "outputs": [
        {
          "output_type": "execute_result",
          "data": {
            "text/plain": [
              "'weniv ceo licat'"
            ],
            "application/vnd.google.colaboratory.intrinsic+json": {
              "type": "string"
            }
          },
          "metadata": {},
          "execution_count": 44
        }
      ]
    },
    {
      "cell_type": "code",
      "source": [
        "#index()\n",
        "\n",
        "s = 'weniv CEO licat'\n",
        "s.index('CTO') # 인덱스 메서드는 찾는 문자열이 없는경우 에러가남.\n"
      ],
      "metadata": {
        "colab": {
          "base_uri": "https://localhost:8080/",
          "height": 203
        },
        "id": "5IrRPPju9AMC",
        "outputId": "f6cd8536-8a78-4f8a-8831-984af7610ec5"
      },
      "execution_count": 46,
      "outputs": [
        {
          "output_type": "error",
          "ename": "ValueError",
          "evalue": "ignored",
          "traceback": [
            "\u001b[0;31m---------------------------------------------------------------------------\u001b[0m",
            "\u001b[0;31mValueError\u001b[0m                                Traceback (most recent call last)",
            "\u001b[0;32m<ipython-input-46-97c2ec309699>\u001b[0m in \u001b[0;36m<cell line: 2>\u001b[0;34m()\u001b[0m\n\u001b[1;32m      1\u001b[0m \u001b[0ms\u001b[0m \u001b[0;34m=\u001b[0m \u001b[0;34m'weniv CEO licat'\u001b[0m\u001b[0;34m\u001b[0m\u001b[0;34m\u001b[0m\u001b[0m\n\u001b[0;32m----> 2\u001b[0;31m \u001b[0ms\u001b[0m\u001b[0;34m.\u001b[0m\u001b[0mindex\u001b[0m\u001b[0;34m(\u001b[0m\u001b[0;34m'CTO'\u001b[0m\u001b[0;34m)\u001b[0m\u001b[0;34m\u001b[0m\u001b[0;34m\u001b[0m\u001b[0m\n\u001b[0m",
            "\u001b[0;31mValueError\u001b[0m: substring not found"
          ]
        }
      ]
    },
    {
      "cell_type": "code",
      "source": [
        "#find()\n",
        "\n",
        "s = 'weniv CEO licat'\n",
        "s.find('CTO') # 파인드는 못찾으면 에러가 나는게 아니라 -1 만 표출함.\n"
      ],
      "metadata": {
        "colab": {
          "base_uri": "https://localhost:8080/"
        },
        "id": "q7R2sH1F9D8n",
        "outputId": "ba9cdf53-d8a8-4ad5-8797-cca3d833a21f"
      },
      "execution_count": 16,
      "outputs": [
        {
          "output_type": "execute_result",
          "data": {
            "text/plain": [
              "-1"
            ]
          },
          "metadata": {},
          "execution_count": 16
        }
      ]
    },
    {
      "cell_type": "code",
      "source": [
        "#find()\n",
        "\n",
        "s = 'weniv CEO licat'\n",
        "s.find('CEO') # 파인드는 못찾으면 에러가 나는게 아니라 -1 만 표출함."
      ],
      "metadata": {
        "colab": {
          "base_uri": "https://localhost:8080/"
        },
        "id": "yiVqEAUun1bz",
        "outputId": "df9bf755-132e-44ae-b789-02a3823312cf"
      },
      "execution_count": 26,
      "outputs": [
        {
          "output_type": "execute_result",
          "data": {
            "text/plain": [
              "6"
            ]
          },
          "metadata": {},
          "execution_count": 26
        }
      ]
    },
    {
      "cell_type": "code",
      "source": [
        "s = 'weniv CEO licat'\n",
        "s.find('CEO') #문자열을 찾아주는 method\n",
        "s.index('licat')"
      ],
      "metadata": {
        "colab": {
          "base_uri": "https://localhost:8080/"
        },
        "id": "BNYrDY4z9ezp",
        "outputId": "e99cb064-fe18-4f0b-ce9c-452ed66d40ef"
      },
      "execution_count": 51,
      "outputs": [
        {
          "output_type": "execute_result",
          "data": {
            "text/plain": [
              "10"
            ]
          },
          "metadata": {},
          "execution_count": 51
        }
      ]
    },
    {
      "cell_type": "code",
      "source": [
        "s = 'weniv CEO licat'\n",
        "s.count('i') #문자열이나 숫자를 셀 때 사용 s에 i가 2개 있으므로 2 카운트되어 라고 나온다."
      ],
      "metadata": {
        "colab": {
          "base_uri": "https://localhost:8080/"
        },
        "id": "wU4AugBUmtLI",
        "outputId": "4c00f5a4-e1ed-4f66-c649-8f65c14f14ce"
      },
      "execution_count": 18,
      "outputs": [
        {
          "output_type": "execute_result",
          "data": {
            "text/plain": [
              "2"
            ]
          },
          "metadata": {},
          "execution_count": 18
        }
      ]
    },
    {
      "cell_type": "code",
      "source": [
        "s = 'weniv CEO licat'\n",
        "s.count(' ') #공백이 얼마나 있는지도 카운트 해줌"
      ],
      "metadata": {
        "colab": {
          "base_uri": "https://localhost:8080/"
        },
        "id": "GD-zHiOp9lVn",
        "outputId": "4c30e932-d7ad-4a72-f8a1-b8f0c3b5e468"
      },
      "execution_count": 19,
      "outputs": [
        {
          "output_type": "execute_result",
          "data": {
            "text/plain": [
              "2"
            ]
          },
          "metadata": {},
          "execution_count": 19
        }
      ]
    },
    {
      "cell_type": "code",
      "source": [
        "s = '    weniv CEO licat     '\n",
        "s.strip() #양쪽 공백을 제거하는 method\n",
        "\n",
        "# 간혹 미세히 조정안되는 경우가 생겨 100% 신뢰는 하지말고 체크해야함."
      ],
      "metadata": {
        "colab": {
          "base_uri": "https://localhost:8080/",
          "height": 35
        },
        "id": "ABJ4GOPE90tg",
        "outputId": "918457cb-9bd8-424c-ffae-39cdb3fb423e"
      },
      "execution_count": 53,
      "outputs": [
        {
          "output_type": "execute_result",
          "data": {
            "text/plain": [
              "'weniv CEO licat'"
            ],
            "application/vnd.google.colaboratory.intrinsic+json": {
              "type": "string"
            }
          },
          "metadata": {},
          "execution_count": 53
        }
      ]
    },
    {
      "cell_type": "code",
      "source": [
        "'   ,,,, ,!!  hello world,,,,, ,,,,,  '.strip(' ,!')\n",
        "#양쪽의 공백과 ',!'을 제거해주는 strip method 단어 사이에는 안된다."
      ],
      "metadata": {
        "colab": {
          "base_uri": "https://localhost:8080/",
          "height": 35
        },
        "id": "Vsi4b_O6-Sez",
        "outputId": "2ed29d49-34e2-4b9e-edfb-684319a21089"
      },
      "execution_count": 25,
      "outputs": [
        {
          "output_type": "execute_result",
          "data": {
            "text/plain": [
              "'hello world'"
            ],
            "application/vnd.google.colaboratory.intrinsic+json": {
              "type": "string"
            }
          },
          "metadata": {},
          "execution_count": 25
        }
      ]
    },
    {
      "cell_type": "code",
      "source": [
        "s = 'weniv CEO licat'\n",
        "s.replace('CEO', 'CTO') #원하는 문자열을 다른 문자열로 대체할 때 사용하는 method"
      ],
      "metadata": {
        "colab": {
          "base_uri": "https://localhost:8080/",
          "height": 35
        },
        "id": "zMC94tAE-lnF",
        "outputId": "a85cea3e-f5b5-4caa-8cd8-7e22383d75a7"
      },
      "execution_count": 56,
      "outputs": [
        {
          "output_type": "execute_result",
          "data": {
            "text/plain": [
              "'weniv CTO licat'"
            ],
            "application/vnd.google.colaboratory.intrinsic+json": {
              "type": "string"
            }
          },
          "metadata": {},
          "execution_count": 56
        }
      ]
    },
    {
      "cell_type": "code",
      "source": [
        "'weniv CEO licat'.replace('CEO', 'CTO')\n"
      ],
      "metadata": {
        "colab": {
          "base_uri": "https://localhost:8080/",
          "height": 35
        },
        "id": "4mei-VIE_HVp",
        "outputId": "33655156-308a-4f56-fcc6-beb5c01a488a"
      },
      "execution_count": 57,
      "outputs": [
        {
          "output_type": "execute_result",
          "data": {
            "text/plain": [
              "'weniv CTO licat'"
            ],
            "application/vnd.google.colaboratory.intrinsic+json": {
              "type": "string"
            }
          },
          "metadata": {},
          "execution_count": 57
        }
      ]
    },
    {
      "cell_type": "code",
      "source": [
        "s = 'weniv CEO licat'\n",
        "s.replace('i', 'I') #문자열 내에서 모든 i를 I로 대체할 때 사용하는 method\n",
        "\n",
        "# 이렇게 수정된 문자열이 원본에 반영되지 않는다는 사실을 기억."
      ],
      "metadata": {
        "colab": {
          "base_uri": "https://localhost:8080/",
          "height": 35
        },
        "id": "A7C3sS3T_PLs",
        "outputId": "27bfcea4-f5e3-403a-ffea-304cfc5ae6c0"
      },
      "execution_count": 58,
      "outputs": [
        {
          "output_type": "execute_result",
          "data": {
            "text/plain": [
              "'wenIv CEO lIcat'"
            ],
            "application/vnd.google.colaboratory.intrinsic+json": {
              "type": "string"
            }
          },
          "metadata": {},
          "execution_count": 58
        }
      ]
    },
    {
      "cell_type": "code",
      "source": [
        "s = 'weniv CEO licat'\n",
        "ss = s.replace('i', 'I')\n",
        "ss, s # 출력: ('weniv CEO licat', 'wenIv CEO lIcat')"
      ],
      "metadata": {
        "colab": {
          "base_uri": "https://localhost:8080/"
        },
        "id": "0_e3C3RK_fgm",
        "outputId": "47357853-3479-45b7-b038-770de9906f9c"
      },
      "execution_count": 59,
      "outputs": [
        {
          "output_type": "execute_result",
          "data": {
            "text/plain": [
              "('wenIv CEO lIcat', 'weniv CEO licat')"
            ]
          },
          "metadata": {},
          "execution_count": 59
        }
      ]
    },
    {
      "cell_type": "code",
      "source": [
        "## 스플릿 split과 join 매서드\n",
        "## 스플릿은 리스트 형태로 사용하게 된다\n",
        "\n",
        "\n",
        "s = 'weniv CEO licat'\n",
        "print(s.split()) #공백을 기준으로 문자열 나누기\n",
        "\n",
        "a = 'weniv-CEO-licat'\n",
        "print(a.split('-')) #-을 기준으로 문자열 나누기\n",
        "\n"
      ],
      "metadata": {
        "colab": {
          "base_uri": "https://localhost:8080/"
        },
        "id": "rXCc7d_s_31q",
        "outputId": "bb3a73b6-4587-48ee-e8af-24c81869c564"
      },
      "execution_count": 64,
      "outputs": [
        {
          "output_type": "stream",
          "name": "stdout",
          "text": [
            "['weniv', 'CEO', 'licat']\n",
            "['weniv', 'CEO', 'licat']\n"
          ]
        }
      ]
    },
    {
      "cell_type": "code",
      "source": [
        "s = ['weniv', 'CEO', 'licat']\n",
        "'-'.join(s) #리스트를 하나의 문자열로 합치기"
      ],
      "metadata": {
        "colab": {
          "base_uri": "https://localhost:8080/",
          "height": 35
        },
        "id": "8SPRe9szAYuz",
        "outputId": "412336e3-ec6f-42bd-b7e9-9db1189c7cf8"
      },
      "execution_count": 65,
      "outputs": [
        {
          "output_type": "execute_result",
          "data": {
            "text/plain": [
              "'weniv-CEO-licat'"
            ],
            "application/vnd.google.colaboratory.intrinsic+json": {
              "type": "string"
            }
          },
          "metadata": {},
          "execution_count": 65
        }
      ]
    },
    {
      "cell_type": "code",
      "source": [
        "s = '010 1000 1000'\n",
        "'-'.join(s.split()) #공백을 기준으로 문자열을 나눈 후 '-'로 합치기\n",
        "#s 값에 대해서 괄호안에 있는 스플릿으로 데이터 리스트를 만든호 괄호 밖에 있는 조인 매서드를 사용해 -\n",
        "#스플릿되었던 데이터 값에대해 조인시킨다."
      ],
      "metadata": {
        "colab": {
          "base_uri": "https://localhost:8080/",
          "height": 35
        },
        "id": "MaNhFIUkErYp",
        "outputId": "7649e821-e25b-4e0a-efdc-066f671cca82"
      },
      "execution_count": 67,
      "outputs": [
        {
          "output_type": "execute_result",
          "data": {
            "text/plain": [
              "'010-1000-1000'"
            ],
            "application/vnd.google.colaboratory.intrinsic+json": {
              "type": "string"
            }
          },
          "metadata": {},
          "execution_count": 67
        }
      ]
    },
    {
      "cell_type": "code",
      "source": [
        "name = 'licat'\n",
        "age = 29\n",
        "\n",
        "print('제 이름은 {}이고, 나이는 {}살입니다.'.format(name, age)) #파이썬 3.6이후로 잘 안사용한다.\n",
        "\n",
        "print(f'제 이름은 {name}이고, 나이는 {age}살입니다.')  # 더 일반적임 보기도 더 좋다."
      ],
      "metadata": {
        "colab": {
          "base_uri": "https://localhost:8080/"
        },
        "id": "gCnv6rR_HwTu",
        "outputId": "18b7fdc0-5929-4077-c3f8-bf867c52592d"
      },
      "execution_count": 27,
      "outputs": [
        {
          "output_type": "stream",
          "name": "stdout",
          "text": [
            "제 이름은 licat이고, 나이는 29살입니다.\n",
            "제 이름은 licat이고, 나이는 29살입니다.\n"
          ]
        }
      ]
    },
    {
      "cell_type": "code",
      "source": [
        "s = 'licat'\n",
        "s.rjust(10, '-') #문자열을 지정한 길이로 맞추고, 지정된 s값이 10칸중 오른쪽으로 간다."
      ],
      "metadata": {
        "colab": {
          "base_uri": "https://localhost:8080/",
          "height": 35
        },
        "id": "PjgPSqgjHw-f",
        "outputId": "2a3e896e-a8f9-4585-bb99-08d88556825b"
      },
      "execution_count": 72,
      "outputs": [
        {
          "output_type": "execute_result",
          "data": {
            "text/plain": [
              "'-----licat'"
            ],
            "application/vnd.google.colaboratory.intrinsic+json": {
              "type": "string"
            }
          },
          "metadata": {},
          "execution_count": 72
        }
      ]
    },
    {
      "cell_type": "code",
      "source": [
        "s = 'licat'\n",
        "s.ljust(10, '-') #문자열을 지정한 길이로 맞추고, 지정된 s값이 10칸중 왼쪽으로 간다."
      ],
      "metadata": {
        "colab": {
          "base_uri": "https://localhost:8080/",
          "height": 35
        },
        "id": "sNGqFP9TJcVb",
        "outputId": "0754a9e5-6fc0-41e4-fe0c-284aa81b72aa"
      },
      "execution_count": 73,
      "outputs": [
        {
          "output_type": "execute_result",
          "data": {
            "text/plain": [
              "'licat-----'"
            ],
            "application/vnd.google.colaboratory.intrinsic+json": {
              "type": "string"
            }
          },
          "metadata": {},
          "execution_count": 73
        }
      ]
    },
    {
      "cell_type": "code",
      "source": [
        "s = '841212-1'\n",
        "s.ljust(14,'*')"
      ],
      "metadata": {
        "colab": {
          "base_uri": "https://localhost:8080/",
          "height": 35
        },
        "id": "LW_vzRRWJdhA",
        "outputId": "6ba0e5a7-eff0-40b1-c2a7-7013f5a39ab0"
      },
      "execution_count": 28,
      "outputs": [
        {
          "output_type": "execute_result",
          "data": {
            "text/plain": [
              "'841212-1******'"
            ],
            "application/vnd.google.colaboratory.intrinsic+json": {
              "type": "string"
            }
          },
          "metadata": {},
          "execution_count": 28
        }
      ]
    },
    {
      "cell_type": "code",
      "source": [
        "s = 'licat'\n",
        "s.center(16, '-') #문자열을 지정한 길이로 맞추고, 양쪽을 '-'로 채우는 method 짝이 맞지않으면 오른쪽을 먼저 하나더줌"
      ],
      "metadata": {
        "colab": {
          "base_uri": "https://localhost:8080/",
          "height": 35
        },
        "id": "lFoYGjLwKLcJ",
        "outputId": "ac634178-af49-41f5-ce34-a15fd54cc01b"
      },
      "execution_count": 76,
      "outputs": [
        {
          "output_type": "execute_result",
          "data": {
            "text/plain": [
              "'-----licat------'"
            ],
            "application/vnd.google.colaboratory.intrinsic+json": {
              "type": "string"
            }
          },
          "metadata": {},
          "execution_count": 76
        }
      ]
    },
    {
      "cell_type": "code",
      "source": [
        "x = \"42\"\n",
        "result = x.zfill(5)\n",
        "print(result)  # 00042, csv 와 파이썬 사이 데이터 스왑시 필요할수 있다,"
      ],
      "metadata": {
        "colab": {
          "base_uri": "https://localhost:8080/"
        },
        "id": "GaV3FXPoMYrA",
        "outputId": "96fe526c-d522-4fbe-8c2c-21df0d93e670"
      },
      "execution_count": 77,
      "outputs": [
        {
          "output_type": "stream",
          "name": "stdout",
          "text": [
            "00042\n"
          ]
        }
      ]
    },
    {
      "cell_type": "code",
      "source": [
        "x = \"-42\"\n",
        "result = x.zfill(5)\n",
        "print(result)  # 00042, csv 와 파이썬 사이 데이터 스왑시 필요할수 있다,"
      ],
      "metadata": {
        "colab": {
          "base_uri": "https://localhost:8080/"
        },
        "id": "AGb-Gs2qNhIf",
        "outputId": "98613452-7ec9-4c6a-eff3-ebeb442428cd"
      },
      "execution_count": 78,
      "outputs": [
        {
          "output_type": "stream",
          "name": "stdout",
          "text": [
            "-0042\n"
          ]
        }
      ]
    },
    {
      "cell_type": "code",
      "source": [
        "x = \"에이비씨디\"\n",
        "result = x.zfill(10)\n",
        "print(result)  # 00042, csv 와 파이썬 사이 데이터 스왑시 필요할수 있다,"
      ],
      "metadata": {
        "colab": {
          "base_uri": "https://localhost:8080/"
        },
        "id": "CbiBTeh6Nnee",
        "outputId": "e8c4c574-10b2-4eb5-96a2-0819e2d431b5"
      },
      "execution_count": 80,
      "outputs": [
        {
          "output_type": "stream",
          "name": "stdout",
          "text": [
            "00000에이비씨디\n"
          ]
        }
      ]
    },
    {
      "cell_type": "code",
      "source": [
        "#파일명을 순차적으로 저장할\n",
        "\n",
        "filename = '1'.zfill(3) + \".jpg\"\n",
        "print(filename)"
      ],
      "metadata": {
        "colab": {
          "base_uri": "https://localhost:8080/"
        },
        "id": "meWdTRB2zLBu",
        "outputId": "225e0f74-d792-424a-fc82-12630c378aed"
      },
      "execution_count": 29,
      "outputs": [
        {
          "output_type": "stream",
          "name": "stdout",
          "text": [
            "001.jpg\n"
          ]
        }
      ]
    },
    {
      "cell_type": "code",
      "source": [
        "년 = '23'\n",
        "월 = '9'\n",
        "일 = '8'\n",
        "오늘날짜 = 년 + 월 + 일\n",
        "print(오늘날짜)\n",
        "오늘날짜 = 년 + 월.zfill(2) + 일.zfill(2)\n",
        "print(오늘날짜)  #  이렇게 넣어주면 데이터 길이를 유지할수있다."
      ],
      "metadata": {
        "colab": {
          "base_uri": "https://localhost:8080/"
        },
        "id": "2Q6daGqWNs5A",
        "outputId": "cee684f8-a5c0-4b45-890c-5d6f7b3a4351"
      },
      "execution_count": 83,
      "outputs": [
        {
          "output_type": "stream",
          "name": "stdout",
          "text": [
            "2398\n",
            "230908\n"
          ]
        }
      ]
    },
    {
      "cell_type": "code",
      "source": [
        "# translate\n",
        "\n",
        "# 변환 테이블 생성\n",
        "table = str.maketrans(\"abc\", \"123\")"
      ],
      "metadata": {
        "id": "sl0GHi-VOpmp"
      },
      "execution_count": 84,
      "outputs": []
    },
    {
      "cell_type": "code",
      "source": [
        "text = \"abcde\"\n",
        "result = text.translate(table)\n",
        "print(result)  # 123de"
      ],
      "metadata": {
        "colab": {
          "base_uri": "https://localhost:8080/"
        },
        "id": "rYI8Sz-nOk80",
        "outputId": "d8c2e61e-6f80-4a1c-ba3d-703c0adfec48"
      },
      "execution_count": 85,
      "outputs": [
        {
          "output_type": "stream",
          "name": "stdout",
          "text": [
            "123de\n"
          ]
        }
      ]
    },
    {
      "cell_type": "code",
      "source": [
        "table = str.maketrans('\\n\\t', '  ') # 똑같은 길이를 가지고 있어야 함\n",
        "'weniv \\n\\n\\n CEO \\t\\t\\t licat'.translate(table)"
      ],
      "metadata": {
        "colab": {
          "base_uri": "https://localhost:8080/",
          "height": 35
        },
        "id": "CyeY35ld26hd",
        "outputId": "f98a7928-ef77-488b-a94c-2b41c3264fa3"
      },
      "execution_count": 34,
      "outputs": [
        {
          "output_type": "execute_result",
          "data": {
            "text/plain": [
              "'weniv     CEO     licat'"
            ],
            "application/vnd.google.colaboratory.intrinsic+json": {
              "type": "string"
            }
          },
          "metadata": {},
          "execution_count": 34
        }
      ]
    },
    {
      "cell_type": "code",
      "source": [
        "# 'd'와 'e' 문자 제거하기\n",
        "table = str.maketrans('', '', 'de')\n",
        "text = \"abcde\"\n",
        "result = text.translate(table)\n",
        "print(result)  # abc"
      ],
      "metadata": {
        "colab": {
          "base_uri": "https://localhost:8080/"
        },
        "id": "ckAL9ifWOKKs",
        "outputId": "4c431053-65a9-4994-88cf-ce06a73133af"
      },
      "execution_count": 33,
      "outputs": [
        {
          "output_type": "stream",
          "name": "stdout",
          "text": [
            "abc\n"
          ]
        }
      ]
    },
    {
      "cell_type": "code",
      "source": [
        "table = str.maketrans('\\n\\t', '  ') # 똑같은 길이를 가지고 있어야 함\n",
        "'weniv \\n\\n\\n CEO \\t\\t\\t licat'.translate(table)"
      ],
      "metadata": {
        "colab": {
          "base_uri": "https://localhost:8080/",
          "height": 35
        },
        "id": "nSTJZERjSLpn",
        "outputId": "ac57567a-91ab-4256-8bcc-18eda6458730"
      },
      "execution_count": 88,
      "outputs": [
        {
          "output_type": "execute_result",
          "data": {
            "text/plain": [
              "'weniv     CEO     licat'"
            ],
            "application/vnd.google.colaboratory.intrinsic+json": {
              "type": "string"
            }
          },
          "metadata": {},
          "execution_count": 88
        }
      ]
    },
    {
      "cell_type": "code",
      "source": [
        "name = 'licat'\n",
        "s = f'My name is {name}'\n",
        "print(s) # My name is licat"
      ],
      "metadata": {
        "colab": {
          "base_uri": "https://localhost:8080/"
        },
        "id": "XrjsKjP4Ssxy",
        "outputId": "7e3045e5-fe4a-47e8-8b83-09e6b70a7b13"
      },
      "execution_count": 89,
      "outputs": [
        {
          "output_type": "stream",
          "name": "stdout",
          "text": [
            "My name is licat\n"
          ]
        }
      ]
    },
    {
      "cell_type": "code",
      "source": [
        "name = 'licat'\n",
        "age = 29\n",
        "s = f'{name[2:]}, {age+10}!'\n",
        "print(s) # licat, 39!"
      ],
      "metadata": {
        "colab": {
          "base_uri": "https://localhost:8080/"
        },
        "id": "_pRGZ_tlTC4q",
        "outputId": "f9561e4a-f22e-4204-f2c8-60e5fe92ec09"
      },
      "execution_count": 94,
      "outputs": [
        {
          "output_type": "stream",
          "name": "stdout",
          "text": [
            "cat, 39!\n"
          ]
        }
      ]
    },
    {
      "cell_type": "code",
      "source": [
        "name = 'licat'\n",
        "age = 29\n",
        "s = f'{name[2:5]}, {age+10}!'\n",
        "print(s) # licat, 39!"
      ],
      "metadata": {
        "colab": {
          "base_uri": "https://localhost:8080/"
        },
        "id": "E4Aq3XSLTxPn",
        "outputId": "929d816e-d09a-44b2-d6ac-0d5433c324bb"
      },
      "execution_count": 35,
      "outputs": [
        {
          "output_type": "stream",
          "name": "stdout",
          "text": [
            "cat, 39!\n"
          ]
        }
      ]
    },
    {
      "cell_type": "code",
      "source": [
        "# 1.15 이스케이프\n",
        "print(\"Hello\\nWorld!\") # Hello와 World! 사이에 줄바꿈이 일어납니다.\n",
        "print(\"Hello\\tWorld!\") # Hello와 World! 사이에 탭 간격이 생깁니다.\n",
        "print(\"Hello\\rWorld!\") # 커서를 현재 줄의 처음으로 이동합니다.\n",
        "\n",
        "print(\"She said, \\\"Hello World!\\\"\") # 큰따옴표 내부에 문자열을 출력합니다.\n",
        "print('She said, \\'Hello World!\\'') # 작은따옴표 내부에 문자열을 출력합니다.\n",
        "print(\"Backslash: \\\\\") # 백슬래시를 출력합니다.\n"
      ],
      "metadata": {
        "colab": {
          "base_uri": "https://localhost:8080/"
        },
        "id": "VE20wbFkTh7r",
        "outputId": "22f5c205-0bca-4c35-f4e5-5dce538af1f3"
      },
      "execution_count": 36,
      "outputs": [
        {
          "output_type": "stream",
          "name": "stdout",
          "text": [
            "Hello\n",
            "World!\n",
            "Hello\tWorld!\n",
            "Hello\rWorld!\n",
            "She said, \"Hello World!\"\n",
            "She said, 'Hello World!'\n",
            "Backslash: \\\n"
          ]
        }
      ]
    },
    {
      "cell_type": "code",
      "source": [
        "# 논리(bool) 자료형\n",
        "\n",
        "true 와 false 를 표현\n",
        "\n",
        "수학자 죠지 불e의 이름을 따와 표현"
      ],
      "metadata": {
        "colab": {
          "base_uri": "https://localhost:8080/",
          "height": 147
        },
        "id": "tZFV_zsqT5ve",
        "outputId": "f9ed79a8-82c4-461c-f6da-f9a51b1010f9"
      },
      "execution_count": 97,
      "outputs": [
        {
          "output_type": "error",
          "ename": "SyntaxError",
          "evalue": "ignored",
          "traceback": [
            "\u001b[0;36m  File \u001b[0;32m\"<ipython-input-97-0bf2fa63118f>\"\u001b[0;36m, line \u001b[0;32m3\u001b[0m\n\u001b[0;31m    true 와 false 를 표현\u001b[0m\n\u001b[0m         ^\u001b[0m\n\u001b[0;31mSyntaxError\u001b[0m\u001b[0;31m:\u001b[0m invalid syntax\n"
          ]
        }
      ]
    },
    {
      "cell_type": "code",
      "source": [
        "x = True\n",
        "y = False\n",
        "z = 10 > 3\n",
        "print(x, y, z)"
      ],
      "metadata": {
        "colab": {
          "base_uri": "https://localhost:8080/"
        },
        "id": "ymOtJB1yTfwx",
        "outputId": "c2fb30bb-3ea6-4ee6-835d-5ddbfe3b2bb2"
      },
      "execution_count": 98,
      "outputs": [
        {
          "output_type": "stream",
          "name": "stdout",
          "text": [
            "True False True\n"
          ]
        }
      ]
    },
    {
      "cell_type": "code",
      "source": [
        "print(True == 1) # 출력: True\n",
        "print(False == 0) # 출력: True"
      ],
      "metadata": {
        "colab": {
          "base_uri": "https://localhost:8080/"
        },
        "id": "cvxXex2UXr6h",
        "outputId": "53b299c0-4624-4b6b-e9db-49a5e348917e"
      },
      "execution_count": 99,
      "outputs": [
        {
          "output_type": "stream",
          "name": "stdout",
          "text": [
            "True\n",
            "True\n"
          ]
        }
      ]
    },
    {
      "cell_type": "code",
      "source": [
        "print(True + True) # 출력: 2\n",
        "print(False - True) # 출력: -1\n",
        "print(True / True) # 출력: 1.0\n",
        "print(True * False) # 출력: 0\n",
        "print(True / False) # error"
      ],
      "metadata": {
        "colab": {
          "base_uri": "https://localhost:8080/",
          "height": 294
        },
        "id": "WWv_l0ypTdW8",
        "outputId": "f461cdd3-fecb-4730-8f27-dcd998198695"
      },
      "execution_count": 100,
      "outputs": [
        {
          "output_type": "stream",
          "name": "stdout",
          "text": [
            "2\n",
            "-1\n",
            "1.0\n",
            "0\n"
          ]
        },
        {
          "output_type": "error",
          "ename": "ZeroDivisionError",
          "evalue": "ignored",
          "traceback": [
            "\u001b[0;31m---------------------------------------------------------------------------\u001b[0m",
            "\u001b[0;31mZeroDivisionError\u001b[0m                         Traceback (most recent call last)",
            "\u001b[0;32m<ipython-input-100-86651a28a8bd>\u001b[0m in \u001b[0;36m<cell line: 5>\u001b[0;34m()\u001b[0m\n\u001b[1;32m      3\u001b[0m \u001b[0mprint\u001b[0m\u001b[0;34m(\u001b[0m\u001b[0;32mTrue\u001b[0m \u001b[0;34m/\u001b[0m \u001b[0;32mTrue\u001b[0m\u001b[0;34m)\u001b[0m \u001b[0;31m# 출력: 1.0\u001b[0m\u001b[0;34m\u001b[0m\u001b[0;34m\u001b[0m\u001b[0m\n\u001b[1;32m      4\u001b[0m \u001b[0mprint\u001b[0m\u001b[0;34m(\u001b[0m\u001b[0;32mTrue\u001b[0m \u001b[0;34m*\u001b[0m \u001b[0;32mFalse\u001b[0m\u001b[0;34m)\u001b[0m \u001b[0;31m# 출력: 0\u001b[0m\u001b[0;34m\u001b[0m\u001b[0;34m\u001b[0m\u001b[0m\n\u001b[0;32m----> 5\u001b[0;31m \u001b[0mprint\u001b[0m\u001b[0;34m(\u001b[0m\u001b[0;32mTrue\u001b[0m \u001b[0;34m/\u001b[0m \u001b[0;32mFalse\u001b[0m\u001b[0;34m)\u001b[0m \u001b[0;31m# error\u001b[0m\u001b[0;34m\u001b[0m\u001b[0;34m\u001b[0m\u001b[0m\n\u001b[0m",
            "\u001b[0;31mZeroDivisionError\u001b[0m: division by zero"
          ]
        }
      ]
    },
    {
      "cell_type": "code",
      "source": [
        "x = True\n",
        "dir(x)"
      ],
      "metadata": {
        "colab": {
          "base_uri": "https://localhost:8080/"
        },
        "id": "OuhfHl4z8i5k",
        "outputId": "10875d1b-9137-4556-8587-8eb6960c6a2e"
      },
      "execution_count": 38,
      "outputs": [
        {
          "output_type": "execute_result",
          "data": {
            "text/plain": [
              "['__abs__',\n",
              " '__add__',\n",
              " '__and__',\n",
              " '__bool__',\n",
              " '__ceil__',\n",
              " '__class__',\n",
              " '__delattr__',\n",
              " '__dir__',\n",
              " '__divmod__',\n",
              " '__doc__',\n",
              " '__eq__',\n",
              " '__float__',\n",
              " '__floor__',\n",
              " '__floordiv__',\n",
              " '__format__',\n",
              " '__ge__',\n",
              " '__getattribute__',\n",
              " '__getnewargs__',\n",
              " '__gt__',\n",
              " '__hash__',\n",
              " '__index__',\n",
              " '__init__',\n",
              " '__init_subclass__',\n",
              " '__int__',\n",
              " '__invert__',\n",
              " '__le__',\n",
              " '__lshift__',\n",
              " '__lt__',\n",
              " '__mod__',\n",
              " '__mul__',\n",
              " '__ne__',\n",
              " '__neg__',\n",
              " '__new__',\n",
              " '__or__',\n",
              " '__pos__',\n",
              " '__pow__',\n",
              " '__radd__',\n",
              " '__rand__',\n",
              " '__rdivmod__',\n",
              " '__reduce__',\n",
              " '__reduce_ex__',\n",
              " '__repr__',\n",
              " '__rfloordiv__',\n",
              " '__rlshift__',\n",
              " '__rmod__',\n",
              " '__rmul__',\n",
              " '__ror__',\n",
              " '__round__',\n",
              " '__rpow__',\n",
              " '__rrshift__',\n",
              " '__rshift__',\n",
              " '__rsub__',\n",
              " '__rtruediv__',\n",
              " '__rxor__',\n",
              " '__setattr__',\n",
              " '__sizeof__',\n",
              " '__str__',\n",
              " '__sub__',\n",
              " '__subclasshook__',\n",
              " '__truediv__',\n",
              " '__trunc__',\n",
              " '__xor__',\n",
              " 'as_integer_ratio',\n",
              " 'bit_count',\n",
              " 'bit_length',\n",
              " 'conjugate',\n",
              " 'denominator',\n",
              " 'from_bytes',\n",
              " 'imag',\n",
              " 'numerator',\n",
              " 'real',\n",
              " 'to_bytes']"
            ]
          },
          "metadata": {},
          "execution_count": 38
        }
      ]
    },
    {
      "cell_type": "code",
      "source": [
        "dir(None) #넌에대해 매직메서드가 나온다."
      ],
      "metadata": {
        "colab": {
          "base_uri": "https://localhost:8080/"
        },
        "id": "wEs-onA9THkn",
        "outputId": "cdde3877-835a-442e-c4ca-3d981eb29fc8"
      },
      "execution_count": 101,
      "outputs": [
        {
          "output_type": "execute_result",
          "data": {
            "text/plain": [
              "['__bool__',\n",
              " '__class__',\n",
              " '__delattr__',\n",
              " '__dir__',\n",
              " '__doc__',\n",
              " '__eq__',\n",
              " '__format__',\n",
              " '__ge__',\n",
              " '__getattribute__',\n",
              " '__gt__',\n",
              " '__hash__',\n",
              " '__init__',\n",
              " '__init_subclass__',\n",
              " '__le__',\n",
              " '__lt__',\n",
              " '__ne__',\n",
              " '__new__',\n",
              " '__reduce__',\n",
              " '__reduce_ex__',\n",
              " '__repr__',\n",
              " '__setattr__',\n",
              " '__sizeof__',\n",
              " '__str__',\n",
              " '__subclasshook__']"
            ]
          },
          "metadata": {},
          "execution_count": 101
        }
      ]
    },
    {
      "cell_type": "code",
      "source": [
        "x = None\n",
        "\n",
        "print(x == None)    # True, 하지만 이 방식은 권장되지 않습니다.\n",
        "print(x is None)    # True, 이 방식을 사용하여 None을 확인하는 것이 좋습니다."
      ],
      "metadata": {
        "colab": {
          "base_uri": "https://localhost:8080/"
        },
        "id": "vWepqXqIZJtE",
        "outputId": "2df2d294-7b80-4508-b54f-83f953c79900"
      },
      "execution_count": 102,
      "outputs": [
        {
          "output_type": "stream",
          "name": "stdout",
          "text": [
            "True\n",
            "True\n"
          ]
        }
      ]
    },
    {
      "cell_type": "code",
      "source": [
        "None + 5\n",
        "None + None\n",
        "None = 10"
      ],
      "metadata": {
        "colab": {
          "base_uri": "https://localhost:8080/",
          "height": 147
        },
        "id": "MNn2qmXN9fpx",
        "outputId": "8da3c346-8d59-4168-9fc3-d8001aa44fb9"
      },
      "execution_count": 39,
      "outputs": [
        {
          "output_type": "error",
          "ename": "SyntaxError",
          "evalue": "ignored",
          "traceback": [
            "\u001b[0;36m  File \u001b[0;32m\"<ipython-input-39-40251f994640>\"\u001b[0;36m, line \u001b[0;32m3\u001b[0m\n\u001b[0;31m    None = 10\u001b[0m\n\u001b[0m    ^\u001b[0m\n\u001b[0;31mSyntaxError\u001b[0m\u001b[0;31m:\u001b[0m cannot assign to None\n"
          ]
        }
      ]
    },
    {
      "cell_type": "markdown",
      "source": [
        "# 1. 메서드 채이닝(Method Chaining)\n"
      ],
      "metadata": {
        "id": "OIaAENd0BQ0K"
      }
    },
    {
      "cell_type": "code",
      "source": [
        "# 1.1 문자열의 메서드 채이닝\n",
        "sentence = '  Hello, World!  '\n",
        "result = sentence.strip().lower().replace('world', 'python')\n",
        "# 1번 스탭 : sentence.strip() == 'Hello, World!'\n",
        "# 2번 스탭 : 'Hello, World!'.lower() == 'hello, world!'\n",
        "# 3번 스탭 : 'hello, world!'.replace('world', 'python')\n",
        "print(result)  # 'hello, python!'"
      ],
      "metadata": {
        "colab": {
          "base_uri": "https://localhost:8080/"
        },
        "id": "P61c4FL8BaMa",
        "outputId": "62c7f61c-d1e1-4dde-f315-7a5f18cd6348"
      },
      "execution_count": 40,
      "outputs": [
        {
          "output_type": "stream",
          "name": "stdout",
          "text": [
            "hello, python!\n"
          ]
        }
      ]
    },
    {
      "cell_type": "code",
      "source": [
        "\n",
        "# 백슬러쉬 사용해서 개행을 할 수 있습니다.\n",
        "sentence = '  Hello, World!  '\n",
        "result = sentence\\\n",
        "         .strip()\\\n",
        "         .lower()\\\n",
        "         .replace('world', 'python')\n",
        "\n",
        "print(result)  # 'hello, python!'"
      ],
      "metadata": {
        "colab": {
          "base_uri": "https://localhost:8080/"
        },
        "id": "9OW02WYzZtpW",
        "outputId": "9554e6f5-55b2-4a56-900b-26f660cdbaf0"
      },
      "execution_count": 103,
      "outputs": [
        {
          "output_type": "stream",
          "name": "stdout",
          "text": [
            "hello, python!\n"
          ]
        }
      ]
    },
    {
      "cell_type": "code",
      "source": [
        "# 1. Python에서의 형변환\n",
        "\n"
      ],
      "metadata": {
        "id": "0Cu8HfaIatCl"
      },
      "execution_count": null,
      "outputs": []
    },
    {
      "cell_type": "code",
      "source": [
        "# 1. 형변환 기본 예제\n",
        "\n",
        "월급 = input(\"월급을 입력하세요:\")\n",
        "연봉 = 월급 * 12\n",
        "print(연봉)"
      ],
      "metadata": {
        "colab": {
          "base_uri": "https://localhost:8080/"
        },
        "id": "ZmUJtNdsNrFb",
        "outputId": "e8706ea4-5a4e-4632-f51a-47f6f0b1b89b"
      },
      "execution_count": 104,
      "outputs": [
        {
          "output_type": "stream",
          "name": "stdout",
          "text": [
            "월급을 입력하세요:1000\n",
            "100010001000100010001000100010001000100010001000\n"
          ]
        }
      ]
    },
    {
      "cell_type": "code",
      "source": [
        "# 1. int를 사용하여 제대로 만들기\n",
        "\n",
        "월급 = int(input(\"월급을 입력하세요:\"))\n",
        "연봉 = 월급 * 12\n",
        "print(연봉)"
      ],
      "metadata": {
        "colab": {
          "base_uri": "https://localhost:8080/"
        },
        "id": "QI-yii6YvKTQ",
        "outputId": "40c1be6a-4f2b-4c17-9b0e-99ae9c02a939"
      },
      "execution_count": 106,
      "outputs": [
        {
          "output_type": "stream",
          "name": "stdout",
          "text": [
            "월급을 입력하세요:10000000\n",
            "120000000\n"
          ]
        }
      ]
    },
    {
      "cell_type": "code",
      "source": [
        "# float 소수를 를 int 정수로 변경\n",
        "\n",
        "f = 3.141592\n",
        "num = int(f)\n",
        "print(num)"
      ],
      "metadata": {
        "colab": {
          "base_uri": "https://localhost:8080/"
        },
        "id": "VxnhEC3Iv4x2",
        "outputId": "8fc0bc8e-cb76-4587-f00d-d95d1dda8505"
      },
      "execution_count": 108,
      "outputs": [
        {
          "output_type": "stream",
          "name": "stdout",
          "text": [
            "3\n"
          ]
        }
      ]
    },
    {
      "cell_type": "code",
      "source": [
        "# 2.1.3 bool → int로 형변환\n",
        "\n",
        "true_int = int(True)\n",
        "false_int = int(False)\n",
        "\n",
        "print(true_int)  # 출력: 1\n",
        "print(false_int)  # 출력: 0"
      ],
      "metadata": {
        "colab": {
          "base_uri": "https://localhost:8080/"
        },
        "id": "hNz-1v3EwRw3",
        "outputId": "5c950cdf-a0ca-4123-823b-a690c74d2bf2"
      },
      "execution_count": 109,
      "outputs": [
        {
          "output_type": "stream",
          "name": "stdout",
          "text": [
            "1\n",
            "0\n"
          ]
        }
      ]
    },
    {
      "cell_type": "code",
      "source": [
        "## None 은 형변환이 안된다\n",
        "\n",
        "print(int(None))\n"
      ],
      "metadata": {
        "colab": {
          "base_uri": "https://localhost:8080/",
          "height": 184
        },
        "id": "BRrko79_wYws",
        "outputId": "062698f5-41d0-4f55-ceee-4f95d89b92a7"
      },
      "execution_count": 113,
      "outputs": [
        {
          "output_type": "error",
          "ename": "TypeError",
          "evalue": "ignored",
          "traceback": [
            "\u001b[0;31m---------------------------------------------------------------------------\u001b[0m",
            "\u001b[0;31mTypeError\u001b[0m                                 Traceback (most recent call last)",
            "\u001b[0;32m<ipython-input-113-2ffd029b05a4>\u001b[0m in \u001b[0;36m<cell line: 1>\u001b[0;34m()\u001b[0m\n\u001b[0;32m----> 1\u001b[0;31m \u001b[0mprint\u001b[0m\u001b[0;34m(\u001b[0m\u001b[0mint\u001b[0m\u001b[0;34m(\u001b[0m\u001b[0;32mNone\u001b[0m\u001b[0;34m)\u001b[0m\u001b[0;34m)\u001b[0m\u001b[0;34m\u001b[0m\u001b[0;34m\u001b[0m\u001b[0m\n\u001b[0m",
            "\u001b[0;31mTypeError\u001b[0m: int() argument must be a string, a bytes-like object or a real number, not 'NoneType'"
          ]
        }
      ]
    },
    {
      "cell_type": "code",
      "source": [
        "## None 은 형변환이 안된다\n",
        "\n",
        "n = (int(None))\n",
        "n\n"
      ],
      "metadata": {
        "colab": {
          "base_uri": "https://localhost:8080/",
          "height": 203
        },
        "id": "2_rqcCE7w8wo",
        "outputId": "86166e62-7c62-4fa8-ec80-624c9a8932d0"
      },
      "execution_count": 114,
      "outputs": [
        {
          "output_type": "error",
          "ename": "TypeError",
          "evalue": "ignored",
          "traceback": [
            "\u001b[0;31m---------------------------------------------------------------------------\u001b[0m",
            "\u001b[0;31mTypeError\u001b[0m                                 Traceback (most recent call last)",
            "\u001b[0;32m<ipython-input-114-602f218b5a47>\u001b[0m in \u001b[0;36m<cell line: 1>\u001b[0;34m()\u001b[0m\n\u001b[0;32m----> 1\u001b[0;31m \u001b[0mn\u001b[0m \u001b[0;34m=\u001b[0m \u001b[0;34m(\u001b[0m\u001b[0mint\u001b[0m\u001b[0;34m(\u001b[0m\u001b[0;32mNone\u001b[0m\u001b[0;34m)\u001b[0m\u001b[0;34m)\u001b[0m\u001b[0;34m\u001b[0m\u001b[0;34m\u001b[0m\u001b[0m\n\u001b[0m\u001b[1;32m      2\u001b[0m \u001b[0mn\u001b[0m\u001b[0;34m\u001b[0m\u001b[0;34m\u001b[0m\u001b[0m\n",
            "\u001b[0;31mTypeError\u001b[0m: int() argument must be a string, a bytes-like object or a real number, not 'NoneType'"
          ]
        }
      ]
    },
    {
      "cell_type": "code",
      "source": [
        "# 4.5 str 형변환\n",
        "\n",
        "n = 123\n",
        "print(type(n))\n",
        "print(n)\n",
        "\n",
        "m = 123.4567\n",
        "print(type(n))\n",
        "print(m)\n",
        "\n",
        "n = str(n)\n",
        "print(type(n))\n",
        "print(n)\n",
        "\n",
        "m = str(m)\n",
        "print(type(m))\n",
        "print(m)\n"
      ],
      "metadata": {
        "colab": {
          "base_uri": "https://localhost:8080/"
        },
        "id": "LaMO6IAXw6ux",
        "outputId": "ce49cb83-afbe-45be-9617-c8db26b0b2b5"
      },
      "execution_count": 42,
      "outputs": [
        {
          "output_type": "stream",
          "name": "stdout",
          "text": [
            "<class 'int'>\n",
            "123\n",
            "<class 'int'>\n",
            "123.4567\n",
            "<class 'str'>\n",
            "123\n",
            "<class 'str'>\n",
            "123.4567\n"
          ]
        }
      ]
    },
    {
      "cell_type": "code",
      "source": [
        "# 빈자료형인경우나 논은 펄스이고 공간이 있으면 트루이다\n",
        "\n",
        "print(\"bool('test'):\",bool('test'))\n",
        "print(\"bool(' '):\", bool(' '))\n",
        "print(\"bool(''):\", bool(''))\n",
        "print(\"bool(100):\", bool(100))\n",
        "print(\"bool(1):\", bool(1))\n",
        "print(\"bool(0):\", bool(0))\n",
        "print(\"bool(-1):\", bool(-1))\n",
        "print(\"bool(None):\", bool(None))\n",
        "print(\"bool([]):\", bool([]))\n",
        "print(\"bool(tuple()):\", bool(tuple()))\n",
        "print(\"bool({}):\", bool({}))\n",
        "print(\"bool(set()):\", bool(set()))"
      ],
      "metadata": {
        "colab": {
          "base_uri": "https://localhost:8080/"
        },
        "id": "uDIu5n2jwwWw",
        "outputId": "ed412a23-5c61-4302-ccaa-916fc86d8c16"
      },
      "execution_count": 43,
      "outputs": [
        {
          "output_type": "stream",
          "name": "stdout",
          "text": [
            "bool('test'): True\n",
            "bool(' '): True\n",
            "bool(''): False\n",
            "bool(100): True\n",
            "bool(1): True\n",
            "bool(0): False\n",
            "bool(-1): True\n",
            "bool(None): False\n",
            "bool([]): False\n",
            "bool(tuple()): False\n",
            "bool({}): False\n",
            "bool(set()): False\n"
          ]
        }
      ]
    },
    {
      "cell_type": "code",
      "source": [
        "s = 10\n",
        "print(float(s))\n",
        "\n",
        "s = '10'\n",
        "print(float(s))\n",
        "\n",
        "s = '3.14'\n",
        "print(float(s))"
      ],
      "metadata": {
        "colab": {
          "base_uri": "https://localhost:8080/"
        },
        "id": "bWwVTjwewuD1",
        "outputId": "86b630d0-b7f8-4d33-80db-e875efa63e89"
      },
      "execution_count": 118,
      "outputs": [
        {
          "output_type": "stream",
          "name": "stdout",
          "text": [
            "10.0\n",
            "10.0\n",
            "3.14\n"
          ]
        }
      ]
    },
    {
      "cell_type": "code",
      "source": [
        "infinity = float('inf')\n",
        "neg_infinity = float('-inf')\n",
        "not_a_number = float('nan')  # None, NA 와 헤깔리지 말자 nan 은 not a number의 준말"
      ],
      "metadata": {
        "id": "guKMGDE5yyNx"
      },
      "execution_count": 44,
      "outputs": []
    },
    {
      "cell_type": "code",
      "source": [
        "print(infinity)\n",
        "print(neg_infinity)\n",
        "print(not_a_number)"
      ],
      "metadata": {
        "colab": {
          "base_uri": "https://localhost:8080/"
        },
        "id": "8GD3HeliKEQ8",
        "outputId": "c04cc356-a528-4bc2-d3eb-fc56a75afeb0"
      },
      "execution_count": 45,
      "outputs": [
        {
          "output_type": "stream",
          "name": "stdout",
          "text": [
            "inf\n",
            "-inf\n",
            "nan\n"
          ]
        }
      ]
    },
    {
      "cell_type": "code",
      "source": [
        "10 / 1 # 출력: 10.0"
      ],
      "metadata": {
        "colab": {
          "base_uri": "https://localhost:8080/"
        },
        "id": "OEPbPvGBzE2m",
        "outputId": "cbbe9bad-afad-4330-f384-ef08f98af08e"
      },
      "execution_count": 121,
      "outputs": [
        {
          "output_type": "execute_result",
          "data": {
            "text/plain": [
              "10.0"
            ]
          },
          "metadata": {},
          "execution_count": 121
        }
      ]
    },
    {
      "cell_type": "code",
      "source": [
        "s = '10'\n",
        "print(list(s))\n",
        "\n",
        "name = 'licat'\n",
        "print(list(name))"
      ],
      "metadata": {
        "colab": {
          "base_uri": "https://localhost:8080/"
        },
        "id": "TLFhOyguzO9-",
        "outputId": "7d0ccfce-0c9b-4057-c83c-35c41d68ce65"
      },
      "execution_count": 123,
      "outputs": [
        {
          "output_type": "stream",
          "name": "stdout",
          "text": [
            "['1', '0']\n",
            "['l', 'i', 'c', 'a', 't']\n"
          ]
        }
      ]
    },
    {
      "cell_type": "code",
      "source": [
        "n = 10\n",
        "print(list(n)) # 출력: error\n",
        "\n",
        "#정수형은 list로 변환이 가능하지 않습니다."
      ],
      "metadata": {
        "id": "X23IXn6c0NVu"
      },
      "execution_count": null,
      "outputs": []
    },
    {
      "cell_type": "code",
      "source": [
        "# 2.6 tuple형으로 형변환\n",
        "# list 와 비슷하나 값의 변경이 불가함. 예로 주민등록번\n",
        "name = 'licat'\n",
        "tuple(name)"
      ],
      "metadata": {
        "colab": {
          "base_uri": "https://localhost:8080/"
        },
        "id": "awkKMzXyO9Nd",
        "outputId": "95f1cbc6-013b-4bb7-8685-0dc272a2ca3e"
      },
      "execution_count": 47,
      "outputs": [
        {
          "output_type": "execute_result",
          "data": {
            "text/plain": [
              "('l', 'i', 'c', 'a', 't')"
            ]
          },
          "metadata": {},
          "execution_count": 47
        }
      ]
    },
    {
      "cell_type": "code",
      "source": [
        "## 2.7 dict형으로 형변환\n",
        "#딕셔너리 자료형은 key와 value로 이뤄진 쌍입니다. 따라서 쌍이 없는 일반 문자열은 변환이 되지 않습니다.\n",
        "name = 'licat' # Error\n",
        "dict(name)"
      ],
      "metadata": {
        "colab": {
          "base_uri": "https://localhost:8080/",
          "height": 221
        },
        "id": "_vs414zjPGhQ",
        "outputId": "d84f0eb4-7853-40e6-b73e-fc8efe98c128"
      },
      "execution_count": 49,
      "outputs": [
        {
          "output_type": "error",
          "ename": "ValueError",
          "evalue": "ignored",
          "traceback": [
            "\u001b[0;31m---------------------------------------------------------------------------\u001b[0m",
            "\u001b[0;31mValueError\u001b[0m                                Traceback (most recent call last)",
            "\u001b[0;32m<ipython-input-49-3fe909b4a77a>\u001b[0m in \u001b[0;36m<cell line: 4>\u001b[0;34m()\u001b[0m\n\u001b[1;32m      2\u001b[0m \u001b[0;34m\u001b[0m\u001b[0m\n\u001b[1;32m      3\u001b[0m \u001b[0mname\u001b[0m \u001b[0;34m=\u001b[0m \u001b[0;34m'licat'\u001b[0m \u001b[0;31m# Error\u001b[0m\u001b[0;34m\u001b[0m\u001b[0;34m\u001b[0m\u001b[0m\n\u001b[0;32m----> 4\u001b[0;31m \u001b[0mdict\u001b[0m\u001b[0;34m(\u001b[0m\u001b[0mname\u001b[0m\u001b[0;34m)\u001b[0m\u001b[0;34m\u001b[0m\u001b[0;34m\u001b[0m\u001b[0m\n\u001b[0m",
            "\u001b[0;31mValueError\u001b[0m: dictionary update sequence element #0 has length 1; 2 is required"
          ]
        }
      ]
    },
    {
      "cell_type": "code",
      "source": [
        "# 딕셔너리는 아래와 같이 쌍을 맞춰주어야 합니다. 리스트 안에 튜플로 그 쌍을 맞추었습니다.\n",
        "\n",
        "data = [('name','licat'),('age',10)]\n",
        "d = dict(data)\n",
        "d"
      ],
      "metadata": {
        "colab": {
          "base_uri": "https://localhost:8080/"
        },
        "id": "_njKNyXQPXXr",
        "outputId": "4f390a9f-6091-4ceb-be15-b89a09fa7cbd"
      },
      "execution_count": 51,
      "outputs": [
        {
          "output_type": "execute_result",
          "data": {
            "text/plain": [
              "{'name': 'licat', 'age': 10}"
            ]
          },
          "metadata": {},
          "execution_count": 51
        }
      ]
    },
    {
      "cell_type": "code",
      "source": [
        "## 2.8 set형으로 형변환\n",
        "#set은 중복을 허락하지 않는 자료형입니다. 이 특성을 사용하여 중복을 제거 할 때 많이 사용됩니다.\n",
        "\n",
        "s = 'weniv CEO licat'\n",
        "print(set(s)) #중복을 허락하지 않고 순서가 없습니다.\n",
        "print(len(set(s))) #중복을 제거한 상태로의 길이를 알려줍니다. 빈칸과 i가 하나씩 빠져 13 이 되었다.\n",
        "print(len(s)) #빈칸포함 전부 알려준다.\n"
      ],
      "metadata": {
        "colab": {
          "base_uri": "https://localhost:8080/"
        },
        "id": "NdaTjQtvPf9p",
        "outputId": "7d0bb5e6-6c81-4966-9afc-9c3ee853245c"
      },
      "execution_count": 52,
      "outputs": [
        {
          "output_type": "stream",
          "name": "stdout",
          "text": [
            "{'E', 'a', 'e', 'i', 'C', 'n', 'w', 't', 'c', 'v', 'O', ' ', 'l'}\n",
            "13\n",
            "15\n"
          ]
        }
      ]
    },
    {
      "cell_type": "code",
      "source": [
        "# 플로트는 따라서 이런 코드는 아래와 같이\n",
        "#조건을 만들어 형변환을 해주시던가 float형으로 먼저 변환하고 int형으로 변환해주시면 됩니다.\n",
        "\n",
        "x = 1.0\n",
        "x = str(x)\n",
        "if x.find('.') == -1:\n",
        "    print(int(x))\n",
        "else:\n",
        "    print(float(x))"
      ],
      "metadata": {
        "colab": {
          "base_uri": "https://localhost:8080/"
        },
        "id": "nyf2eszTPuxV",
        "outputId": "040338c9-39cc-45a7-bd14-1d6060254c97"
      },
      "execution_count": 53,
      "outputs": [
        {
          "output_type": "stream",
          "name": "stdout",
          "text": [
            "1.0\n"
          ]
        }
      ]
    },
    {
      "cell_type": "code",
      "source": [],
      "metadata": {
        "id": "2nsPEnNVQdmC"
      },
      "execution_count": null,
      "outputs": []
    },
    {
      "cell_type": "code",
      "source": [
        "# map 함수 향후 많이 쓰인다함.\n",
        "\n",
        "list(map(int, '12345')) # 출력: [1, 2, 3, 4, 5]"
      ],
      "metadata": {
        "colab": {
          "base_uri": "https://localhost:8080/"
        },
        "id": "DvOF_0fay2Bv",
        "outputId": "0ddfc648-61e2-4298-ca29-72a0808db60b"
      },
      "execution_count": 124,
      "outputs": [
        {
          "output_type": "execute_result",
          "data": {
            "text/plain": [
              "[1, 2, 3, 4, 5]"
            ]
          },
          "metadata": {},
          "execution_count": 124
        }
      ]
    },
    {
      "cell_type": "code",
      "source": [
        "# map 함수 향후 많이 쓰인다함. 예시 2\n",
        "\n",
        "\n",
        "list(map(int, ['10', '20', '30'])) # 출력: [10, 20, 30]\n"
      ],
      "metadata": {
        "colab": {
          "base_uri": "https://localhost:8080/"
        },
        "id": "QFTr8dik1L_B",
        "outputId": "ea9acff4-20fb-47f1-f651-f3a6faa9c529"
      },
      "execution_count": 125,
      "outputs": [
        {
          "output_type": "execute_result",
          "data": {
            "text/plain": [
              "[10, 20, 30]"
            ]
          },
          "metadata": {},
          "execution_count": 125
        }
      ]
    },
    {
      "cell_type": "code",
      "source": [
        "z = 0\n",
        "x / z # ZeroDivisionError 발생"
      ],
      "metadata": {
        "colab": {
          "base_uri": "https://localhost:8080/",
          "height": 203
        },
        "id": "qnHiYc2q1h9C",
        "outputId": "ae9a9287-03d5-4985-9079-2c67347ca444"
      },
      "execution_count": 126,
      "outputs": [
        {
          "output_type": "error",
          "ename": "TypeError",
          "evalue": "ignored",
          "traceback": [
            "\u001b[0;31m---------------------------------------------------------------------------\u001b[0m",
            "\u001b[0;31mTypeError\u001b[0m                                 Traceback (most recent call last)",
            "\u001b[0;32m<ipython-input-126-e99d27e714bf>\u001b[0m in \u001b[0;36m<cell line: 2>\u001b[0;34m()\u001b[0m\n\u001b[1;32m      1\u001b[0m \u001b[0mz\u001b[0m \u001b[0;34m=\u001b[0m \u001b[0;36m0\u001b[0m\u001b[0;34m\u001b[0m\u001b[0;34m\u001b[0m\u001b[0m\n\u001b[0;32m----> 2\u001b[0;31m \u001b[0mx\u001b[0m \u001b[0;34m/\u001b[0m \u001b[0mz\u001b[0m \u001b[0;31m# ZeroDivisionError 발생\u001b[0m\u001b[0;34m\u001b[0m\u001b[0;34m\u001b[0m\u001b[0m\n\u001b[0m",
            "\u001b[0;31mTypeError\u001b[0m: unsupported operand type(s) for /: 'NoneType' and 'int'"
          ]
        }
      ]
    },
    {
      "cell_type": "code",
      "source": [
        "a = 10\n",
        "b = 3\n",
        "divide = a / b\n",
        "print(divide)\n",
        "print(f'{a} ÷ {b} = {divide:.2f}')  # 결과: 10 ÷ 3 = 3.33  .2f를 써서 소수점 2번째 까지만 보여지게한다."
      ],
      "metadata": {
        "colab": {
          "base_uri": "https://localhost:8080/"
        },
        "id": "aZb1n4nf-dYA",
        "outputId": "099f0c60-5140-42b5-8232-9b3c697e032b"
      },
      "execution_count": 128,
      "outputs": [
        {
          "output_type": "stream",
          "name": "stdout",
          "text": [
            "3.3333333333333335\n",
            "10 ÷ 3 = 3.33\n"
          ]
        }
      ]
    },
    {
      "cell_type": "code",
      "source": [
        "# 나머지\n",
        "print(10 / 3) #소수 몫\n",
        "print(10 // 3) #정수 몴\n",
        "print(10 % 3) #나머지값\n",
        "\n",
        "10 % 3"
      ],
      "metadata": {
        "colab": {
          "base_uri": "https://localhost:8080/"
        },
        "id": "j3SANmok-15h",
        "outputId": "4b9d92db-f347-4725-f6f6-5bbc528d2d01"
      },
      "execution_count": 130,
      "outputs": [
        {
          "output_type": "stream",
          "name": "stdout",
          "text": [
            "3.3333333333333335\n",
            "3\n",
            "1\n"
          ]
        },
        {
          "output_type": "execute_result",
          "data": {
            "text/plain": [
              "1"
            ]
          },
          "metadata": {},
          "execution_count": 130
        }
      ]
    },
    {
      "cell_type": "code",
      "source": [
        "10 % 2 == 0 # 홀수, 짝수 판별\n"
      ],
      "metadata": {
        "colab": {
          "base_uri": "https://localhost:8080/"
        },
        "id": "YEcRWpZGXqUW",
        "outputId": "204b9a03-9f8b-4407-d223-753288004937"
      },
      "execution_count": 55,
      "outputs": [
        {
          "output_type": "execute_result",
          "data": {
            "text/plain": [
              "True"
            ]
          },
          "metadata": {},
          "execution_count": 55
        }
      ]
    },
    {
      "cell_type": "code",
      "source": [
        "365 % 10 == 0 # 1의 자리 반환"
      ],
      "metadata": {
        "colab": {
          "base_uri": "https://localhost:8080/"
        },
        "id": "NYLdott5XtPw",
        "outputId": "62635e6a-b87d-4d11-ef45-a659b91db6c9"
      },
      "execution_count": 56,
      "outputs": [
        {
          "output_type": "execute_result",
          "data": {
            "text/plain": [
              "False"
            ]
          },
          "metadata": {},
          "execution_count": 56
        }
      ]
    },
    {
      "cell_type": "code",
      "source": [
        "-2 ** 2\n"
      ],
      "metadata": {
        "colab": {
          "base_uri": "https://localhost:8080/"
        },
        "id": "xUrutNWd_Qfj",
        "outputId": "fb7c2bbe-c66d-4ac6-f861-a2df0bb71d14"
      },
      "execution_count": 131,
      "outputs": [
        {
          "output_type": "execute_result",
          "data": {
            "text/plain": [
              "-4"
            ]
          },
          "metadata": {},
          "execution_count": 131
        }
      ]
    },
    {
      "cell_type": "code",
      "source": [
        "(-2) ** 2  #위에 -4가 나오는걸 방지하려면 소괄호를 해주면 정상적인 값이 나온다."
      ],
      "metadata": {
        "colab": {
          "base_uri": "https://localhost:8080/"
        },
        "id": "cMjcD3nK-k3r",
        "outputId": "c6d8c3a5-39e8-4edc-ab21-8f8306863e9e"
      },
      "execution_count": 132,
      "outputs": [
        {
          "output_type": "execute_result",
          "data": {
            "text/plain": [
              "4"
            ]
          },
          "metadata": {},
          "execution_count": 132
        }
      ]
    },
    {
      "cell_type": "code",
      "source": [
        "4 ** 0.5 # 결과: 2"
      ],
      "metadata": {
        "colab": {
          "base_uri": "https://localhost:8080/"
        },
        "id": "GoFMCuzIYHaE",
        "outputId": "218d507f-9c85-433d-c077-bf2936757193"
      },
      "execution_count": 57,
      "outputs": [
        {
          "output_type": "execute_result",
          "data": {
            "text/plain": [
              "2.0"
            ]
          },
          "metadata": {},
          "execution_count": 57
        }
      ]
    },
    {
      "cell_type": "code",
      "source": [
        "a = 10\n",
        "++a\n",
        "a++"
      ],
      "metadata": {
        "colab": {
          "base_uri": "https://localhost:8080/",
          "height": 147
        },
        "id": "5isGSyF7YJwu",
        "outputId": "08d891cd-bdc1-44de-e45a-de9bd9ad1fbd"
      },
      "execution_count": 58,
      "outputs": [
        {
          "output_type": "error",
          "ename": "SyntaxError",
          "evalue": "ignored",
          "traceback": [
            "\u001b[0;36m  File \u001b[0;32m\"<ipython-input-58-ecd46583db27>\"\u001b[0;36m, line \u001b[0;32m3\u001b[0m\n\u001b[0;31m    a++\u001b[0m\n\u001b[0m       ^\u001b[0m\n\u001b[0;31mSyntaxError\u001b[0m\u001b[0;31m:\u001b[0m invalid syntax\n"
          ]
        }
      ]
    },
    {
      "cell_type": "code",
      "source": [
        "'abcd' > 'abcda'"
      ],
      "metadata": {
        "colab": {
          "base_uri": "https://localhost:8080/"
        },
        "id": "210F7ODRwPeV",
        "outputId": "198f798c-cdb9-43fb-a6be-9fe7d04b550e"
      },
      "execution_count": 133,
      "outputs": [
        {
          "output_type": "execute_result",
          "data": {
            "text/plain": [
              "False"
            ]
          },
          "metadata": {},
          "execution_count": 133
        }
      ]
    },
    {
      "cell_type": "code",
      "source": [
        "class int(int):\n",
        "    def __eq__(self, other):\n",
        "        return True\n",
        "\n",
        "# 10 < 11\n",
        "int('10') == int('11')"
      ],
      "metadata": {
        "colab": {
          "base_uri": "https://localhost:8080/"
        },
        "id": "uXwuMrBaD-K0",
        "outputId": "f5525291-ac5a-45be-a624-84f0ebec251f"
      },
      "execution_count": 134,
      "outputs": [
        {
          "output_type": "execute_result",
          "data": {
            "text/plain": [
              "True"
            ]
          },
          "metadata": {},
          "execution_count": 134
        }
      ]
    },
    {
      "cell_type": "code",
      "source": [
        "class int(int):\n",
        "    def __add__(self, other):\n",
        "        return self * other\n",
        "\n",
        "# 10 + 11\n",
        "int(10) + int(11)"
      ],
      "metadata": {
        "colab": {
          "base_uri": "https://localhost:8080/"
        },
        "id": "LpuN-b1AEHZb",
        "outputId": "0d395f9f-b215-4838-bc6f-6f9aadc8cae8"
      },
      "execution_count": 135,
      "outputs": [
        {
          "output_type": "execute_result",
          "data": {
            "text/plain": [
              "110"
            ]
          },
          "metadata": {},
          "execution_count": 135
        }
      ]
    },
    {
      "cell_type": "code",
      "source": [
        "import math\n",
        "\n",
        "result = 0.1 + 0.2\n",
        "print(result)\n",
        "print(result == 0.3)              # False\n",
        "print(math.isclose(result, 0.3))  # True\n",
        "print(math.isclose(result, 0.29)) # False\n",
        "print(math.isclose(result, 0.31)) # False\n",
        "print(math.isclose(result, 0.30000001)) # False"
      ],
      "metadata": {
        "colab": {
          "base_uri": "https://localhost:8080/"
        },
        "id": "LUYUoY-QEJQg",
        "outputId": "369bc34e-e1e5-4169-d4b2-633ec96e3139"
      },
      "execution_count": 140,
      "outputs": [
        {
          "output_type": "stream",
          "name": "stdout",
          "text": [
            "0.30000000000000004\n",
            "False\n",
            "True\n",
            "False\n",
            "False\n",
            "False\n"
          ]
        }
      ]
    },
    {
      "cell_type": "code",
      "source": [
        "x = 100\n",
        "y = 100\n",
        "z = x\n",
        "\n",
        "print(id(x), id(y), id(z))"
      ],
      "metadata": {
        "colab": {
          "base_uri": "https://localhost:8080/"
        },
        "id": "mdNo0uxWExTH",
        "outputId": "efc2229e-cd74-4c48-a720-866cb660cc06"
      },
      "execution_count": 145,
      "outputs": [
        {
          "output_type": "stream",
          "name": "stdout",
          "text": [
            "132418412596560 132418412596560 132418412596560\n"
          ]
        }
      ]
    },
    {
      "cell_type": "code",
      "source": [
        "'abcd' > 'abcda'"
      ],
      "metadata": {
        "colab": {
          "base_uri": "https://localhost:8080/"
        },
        "id": "lTFXdoHcHNPk",
        "outputId": "5f2b68c1-f8d3-46e3-fbb6-7e0c70fa2757"
      },
      "execution_count": 59,
      "outputs": [
        {
          "output_type": "execute_result",
          "data": {
            "text/plain": [
              "False"
            ]
          },
          "metadata": {},
          "execution_count": 59
        }
      ]
    },
    {
      "cell_type": "code",
      "source": [],
      "metadata": {
        "id": "LDyOOMfBZ5S4"
      },
      "execution_count": null,
      "outputs": []
    },
    {
      "cell_type": "code",
      "source": [
        "x = 258  #정수 -5에서 256까지만 같다.\n",
        "y = 258\n",
        "z = x\n",
        "\n",
        "print(id(x), id(y), id(z))"
      ],
      "metadata": {
        "colab": {
          "base_uri": "https://localhost:8080/"
        },
        "id": "s7L56UkkGqcf",
        "outputId": "e0d54198-e520-4650-f885-368c657d5df7"
      },
      "execution_count": 142,
      "outputs": [
        {
          "output_type": "stream",
          "name": "stdout",
          "text": [
            "132417144269232 132417144272144 132417144269232\n"
          ]
        }
      ]
    },
    {
      "cell_type": "code",
      "source": [
        "'''\n",
        "주어진 코드는 정수 n을 문자열로 변환한 후, 각 자리의\n",
        " 숫자를 세기 위해 set을 사용하고, 마지막으로 len 함수를 사용하여\n",
        "  유일한 숫자의 개수를 반환합니다. 이를 통해 주어진 정수 n에서 중복되지\n",
        "   않은 숫자가 몇 개인지를 계산합니다.\n",
        "   '''\n",
        "n = 1234567890123123123\n",
        "len(set(str(n)))"
      ],
      "metadata": {
        "colab": {
          "base_uri": "https://localhost:8080/"
        },
        "id": "BatOtHy7G1VW",
        "outputId": "34476c8d-3177-4c53-abb3-4f5e040387ac"
      },
      "execution_count": 148,
      "outputs": [
        {
          "output_type": "execute_result",
          "data": {
            "text/plain": [
              "10"
            ]
          },
          "metadata": {},
          "execution_count": 148
        }
      ]
    },
    {
      "cell_type": "code",
      "source": [
        "s = 'jun'\n",
        "s = s + s[-1] * 2\n",
        "print(s)"
      ],
      "metadata": {
        "colab": {
          "base_uri": "https://localhost:8080/"
        },
        "id": "XIJBfOR_LT4H",
        "outputId": "c204a320-bae9-4828-a545-a8ff58b84a39"
      },
      "execution_count": 149,
      "outputs": [
        {
          "output_type": "stream",
          "name": "stdout",
          "text": [
            "junnn\n"
          ]
        }
      ]
    },
    {
      "cell_type": "code",
      "source": [
        "# 'abcde', 숫자, 대쉬(-), 언더스코어(_)를 모두 제거해주세요. 문자열에 translate를 사용해주세요.\n",
        "\n",
        "\n",
        "s = 'hello_world123'\n",
        "table = str.maketrans('', '', 'abcde0123456789-_')\n",
        "s.translate(table)"
      ],
      "metadata": {
        "colab": {
          "base_uri": "https://localhost:8080/",
          "height": 35
        },
        "id": "J-Nzk6i5Lpjs",
        "outputId": "beadbae6-7ae3-4dd1-fd4f-0914b42dee21"
      },
      "execution_count": 160,
      "outputs": [
        {
          "output_type": "execute_result",
          "data": {
            "text/plain": [
              "'hlloworl'"
            ],
            "application/vnd.google.colaboratory.intrinsic+json": {
              "type": "string"
            }
          },
          "metadata": {},
          "execution_count": 160
        }
      ]
    },
    {
      "cell_type": "code",
      "source": [
        "s = 'li.cat.png'\n",
        "# 출력값: 'png'\n",
        "\n",
        "s[s.rindex('.')+1:] # 정답3"
      ],
      "metadata": {
        "colab": {
          "base_uri": "https://localhost:8080/",
          "height": 35
        },
        "id": "QSZeh5VEMhN-",
        "outputId": "29a566de-e2a5-4ebb-a00d-135481800587"
      },
      "execution_count": 153,
      "outputs": [
        {
          "output_type": "execute_result",
          "data": {
            "text/plain": [
              "'png'"
            ],
            "application/vnd.google.colaboratory.intrinsic+json": {
              "type": "string"
            }
          },
          "metadata": {},
          "execution_count": 153
        }
      ]
    },
    {
      "cell_type": "code",
      "source": [
        "s = 'licat.jpeg'\n",
        "# 출력값: 'jpeg'\n",
        "\n",
        "s = 'li.cat.png'\n",
        "# 출력값: 'png'\n",
        "\n",
        "s.split('.')[-1] # 정답2"
      ],
      "metadata": {
        "colab": {
          "base_uri": "https://localhost:8080/",
          "height": 35
        },
        "id": "x5JkWkBLNopl",
        "outputId": "e889b589-2bb4-44e7-e50a-e2951cd2b0e1"
      },
      "execution_count": 154,
      "outputs": [
        {
          "output_type": "execute_result",
          "data": {
            "text/plain": [
              "'png'"
            ],
            "application/vnd.google.colaboratory.intrinsic+json": {
              "type": "string"
            }
          },
          "metadata": {},
          "execution_count": 154
        }
      ]
    },
    {
      "cell_type": "code",
      "source": [
        "s = 'licat.jpeg'\n",
        "# 출력값: 'jpeg'\n",
        "\n",
        "s = 'li.cat.png'\n",
        "# 출력값: 'png'\n",
        "\n",
        "s[::-1].split('.')[0][::-1] # 정답1"
      ],
      "metadata": {
        "colab": {
          "base_uri": "https://localhost:8080/",
          "height": 35
        },
        "id": "7cS6DStENwpE",
        "outputId": "bbb693b7-031d-48c1-dfc6-1d3d35a4e9ba"
      },
      "execution_count": 155,
      "outputs": [
        {
          "output_type": "execute_result",
          "data": {
            "text/plain": [
              "'png'"
            ],
            "application/vnd.google.colaboratory.intrinsic+json": {
              "type": "string"
            }
          },
          "metadata": {},
          "execution_count": 155
        }
      ]
    },
    {
      "cell_type": "code",
      "source": [
        "s = 'licat.jpeg'\n",
        "# 출력값: 'jpeg'\n",
        "\n",
        "s[s.rindex('.')+1:] # 정답3"
      ],
      "metadata": {
        "colab": {
          "base_uri": "https://localhost:8080/",
          "height": 35
        },
        "id": "dQQPzLW4Nl5-",
        "outputId": "02886a2f-1fe0-4928-da40-39c5379c79b4"
      },
      "execution_count": 158,
      "outputs": [
        {
          "output_type": "execute_result",
          "data": {
            "text/plain": [
              "'jpeg'"
            ],
            "application/vnd.google.colaboratory.intrinsic+json": {
              "type": "string"
            }
          },
          "metadata": {},
          "execution_count": 158
        }
      ]
    },
    {
      "cell_type": "code",
      "source": [
        "s = 'licat.jpeg'\n",
        "# 출력값: 'jpeg'\n",
        "\n",
        "s.split('.')[-1] # 정답2"
      ],
      "metadata": {
        "colab": {
          "base_uri": "https://localhost:8080/",
          "height": 35
        },
        "id": "5eji75LQLNzC",
        "outputId": "bf9575a6-9f54-41a1-e116-a8dbc70ba444"
      },
      "execution_count": 157,
      "outputs": [
        {
          "output_type": "execute_result",
          "data": {
            "text/plain": [
              "'jpeg'"
            ],
            "application/vnd.google.colaboratory.intrinsic+json": {
              "type": "string"
            }
          },
          "metadata": {},
          "execution_count": 157
        }
      ]
    },
    {
      "cell_type": "code",
      "source": [
        "s = 'licat.jpeg'\n",
        "# 출력값: 'jpeg'\n",
        "\n",
        "s[::-1].split('.')[0][::-1] # 정답1"
      ],
      "metadata": {
        "colab": {
          "base_uri": "https://localhost:8080/",
          "height": 35
        },
        "id": "eu-VifjCI7Cs",
        "outputId": "e7b57e77-db00-4970-9348-1be7c3a46123"
      },
      "execution_count": 156,
      "outputs": [
        {
          "output_type": "execute_result",
          "data": {
            "text/plain": [
              "'jpeg'"
            ],
            "application/vnd.google.colaboratory.intrinsic+json": {
              "type": "string"
            }
          },
          "metadata": {},
          "execution_count": 156
        }
      ]
    },
    {
      "cell_type": "code",
      "source": [],
      "metadata": {
        "id": "w8pleIcQOVUl"
      },
      "execution_count": null,
      "outputs": []
    }
  ]
}